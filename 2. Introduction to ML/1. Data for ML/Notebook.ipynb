{
 "cells": [
  {
   "cell_type": "markdown",
   "source": [
    "# scikit-learn\n",
    "\n",
    "## What is it?\n",
    "\n",
    "> scikit-learn (abbreviated `sklearn` and pronounced \"S-K-Learn\") is a __high-level machine learning library__ containing:\n",
    "> - machine learning algorithms\n",
    "> - example datasets\n",
    "> - data pre-processing & pipelines\n",
    "\n",
    "Pair that with simple API and we get a powerful & easy tool to get the job done"
   ],
   "metadata": {}
  },
  {
   "cell_type": "code",
   "execution_count": null,
   "source": [
    "import sklearn\n",
    "\n",
    "print(sklearn.__version__)"
   ],
   "outputs": [],
   "metadata": {}
  },
  {
   "cell_type": "markdown",
   "source": [
    "Although it didn't reach stable version (yet), it was around for __more than 10 years__ and is used throughout the industry.\n",
    "\n",
    "## Where it is used\n",
    "\n",
    "- Fast prototyping and testing ideas\n",
    "- __Part__ of more complicated pipelines\n",
    "- Often as part of Machine Learning research (if possible)\n",
    "- Widely in production for particular models such as decision trees and others that we will look at shortly"
   ],
   "metadata": {}
  },
  {
   "cell_type": "markdown",
   "source": [
    "## Simple example\n",
    "\n",
    "We will introduce `sklearn` as a simple tool which allows us to easily show you concepts without delving into details.\n",
    "\n",
    "__Do not sweat over what are those algorithms right now, we will go over them in the next chapters in detail!__"
   ],
   "metadata": {}
  },
  {
   "cell_type": "markdown",
   "source": [
    "## Data Loading\n",
    "\n",
    "As mentioned, `sklearn` provides a few ready datasets for us to use. Data is returned either in `np.array`s or in `pd.DataFrame` (we will stick to `np.array` though as it's more common).\n",
    "\n",
    "## Exercise\n",
    "\n",
    "Load [Boston Housing Dataset](https://scikit-learn.org/stable/modules/generated/sklearn.datasets.load_boston.html) as `np.array` (check arguments!)\n",
    "\n",
    "Print shape of both features and targets"
   ],
   "metadata": {}
  },
  {
   "cell_type": "code",
   "execution_count": null,
   "source": [
    "from sklearn import datasets\n",
    "\n",
    "# np.array instances\n",
    "X, y = datasets.load_boston(return_X_y=True)\n",
    "\n",
    "X.shape, y.shape"
   ],
   "outputs": [],
   "metadata": {}
  },
  {
   "cell_type": "markdown",
   "source": [
    "This is `Boston` house pricing dataset with `503` examples, `13` features and respective `y` targets.\n",
    "\n",
    "## Features\n",
    "\n",
    "Features consist of `13` features, among which we can find:\n",
    "- crime rate in this part of town\n",
    "- whether there is a Charles River nearby\n",
    "- how many teachers for a single pupil are in this area\n",
    "\n",
    "> As you can see features may be really creative, some may not be related to our task, while others might be in an unintuitive way.\n",
    "\n",
    "__We should always perform data analysis when we want to solve the task!__\n",
    "\n",
    "## Targets\n",
    "\n",
    "`y` (targets) is simply house price connected to those features that we would like to predict at the end of this notebook\n",
    "\n",
    "_You can read more about Boston Dataset [here](https://www.kaggle.com/c/boston-housing)_"
   ],
   "metadata": {}
  },
  {
   "cell_type": "code",
   "execution_count": null,
   "source": [
    "y[:5]"
   ],
   "outputs": [],
   "metadata": {}
  },
  {
   "cell_type": "markdown",
   "source": [
    "As the targets are continuous, we can use them in a __regression task__ we should solve."
   ],
   "metadata": {}
  },
  {
   "cell_type": "code",
   "execution_count": null,
   "source": [
    "X[:5]"
   ],
   "outputs": [],
   "metadata": {}
  },
  {
   "cell_type": "markdown",
   "source": [
    "Features are also floating point arrays. We will use them to train our algorithm."
   ],
   "metadata": {}
  },
  {
   "cell_type": "markdown",
   "source": [
    "## Summary\n",
    "\n",
    "- `sklearn` is a high level library used to quickly prototype solutions\n",
    "- It is not optimized for all tasks it does, many can be done in a more efficient manner\n",
    "- `API` is consistent throughout the library and each object has similiar methods like:\n",
    "    - `__init__` (to setup algorithm)\n",
    "    - `fit`\n",
    "    - `predict`\n",
    "- `sklearn.pipeline.Pipeline` is powerful tool for chaining multiple operations in a readable manner"
   ],
   "metadata": {}
  }
 ],
 "metadata": {
  "kernelspec": {
   "name": "python3",
   "display_name": "Python 3.8.2 64-bit ('main': conda)"
  },
  "language_info": {
   "codemirror_mode": {
    "name": "ipython",
    "version": 3
   },
   "file_extension": ".py",
   "mimetype": "text/x-python",
   "name": "python",
   "nbconvert_exporter": "python",
   "pygments_lexer": "ipython3",
   "version": "3.8.2"
  },
  "interpreter": {
   "hash": "06c1e258a470a687113bfba03f207c092b27379067ada2d83b8b31269ab641fe"
  }
 },
 "nbformat": 4,
 "nbformat_minor": 2
}