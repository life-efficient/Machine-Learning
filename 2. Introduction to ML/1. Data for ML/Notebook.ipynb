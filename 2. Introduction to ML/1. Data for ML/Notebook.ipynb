{
 "cells": [
  {
   "cell_type": "markdown",
   "source": [
    "# Data for ML\n",
    "\n",
    "## scikit-learn\n",
    "\n",
    "> scikit-learn (abbreviated `sklearn` and pronounced \"S-K-Learn\") is a __high-level machine learning library__ containing:\n",
    "> - machine learning algorithms\n",
    "> - example datasets\n",
    "> - data pre-processing & pipelines\n",
    "\n",
    "Pair that with simple API and we get a powerful & easy tool to get the job done"
   ],
   "metadata": {}
  },
  {
   "cell_type": "code",
   "execution_count": null,
   "source": [
    "import sklearn\n",
    "\n",
    "print(sklearn.__version__)"
   ],
   "outputs": [],
   "metadata": {}
  },
  {
   "cell_type": "markdown",
   "source": [
    "Although it didn't reach stable version (yet), it was around for __more than 10 years__ and is used throughout the industry.\n",
    "\n",
    "## Where it is used\n",
    "\n",
    "- Fast prototyping and testing ideas\n",
    "- __Part__ of more complicated pipelines\n",
    "- Often as part of Machine Learning research (if possible)\n",
    "- Widely in production for particular models such as decision trees and others that we will look at shortly"
   ],
   "metadata": {}
  },
  {
   "cell_type": "markdown",
   "source": [
    "## Simple example\n",
    "\n",
    "We will introduce `sklearn` as a simple tool which allows us to easily show you concepts without delving into details.\n",
    "\n",
    "__Do not sweat over what are those algorithms right now, we will go over them in the next chapters in detail!__"
   ],
   "metadata": {}
  },
  {
   "cell_type": "markdown",
   "source": [
    "## Data Loading\n",
    "\n",
    "As mentioned, `sklearn` provides a few ready datasets for us to use. Data is returned either in `np.array`s or in `pd.DataFrame` (we will stick to `np.array` though as it's more common).\n",
    "\n",
    "## Exercise\n",
    "\n",
    "Load [Boston Housing Dataset](https://scikit-learn.org/stable/modules/generated/sklearn.datasets.load_boston.html) as `np.array` (check arguments!)\n",
    "\n",
    "Print shape of both features and targets"
   ],
   "metadata": {}
  },
  {
   "cell_type": "code",
   "execution_count": null,
   "source": [
    "from sklearn import datasets\n",
    "\n",
    "# np.array instances\n",
    "X, y = datasets.load_boston(return_X_y=True)\n",
    "\n",
    "X.shape, y.shape"
   ],
   "outputs": [],
   "metadata": {}
  },
  {
   "cell_type": "markdown",
   "source": [
    "This is `Boston` house pricing dataset with `503` examples, `13` features and respective `y` targets.\n",
    "\n",
    "## Features\n",
    "\n",
    "Features consist of `13` features, among which we can find:\n",
    "- crime rate in this part of town\n",
    "- whether there is a Charles River nearby\n",
    "- how many teachers for a single pupil are in this area\n",
    "\n",
    "The features are represented by a matrix with as many rows as there are examples, and as many columns as there are features for each example. We call this matrix the __design matrix__."
   ],
   "metadata": {}
  },
  {
   "cell_type": "code",
   "execution_count": null,
   "source": [
    "X[:5]"
   ],
   "outputs": [],
   "metadata": {}
  },
  {
   "cell_type": "markdown",
   "source": [
    "\n",
    "## Targets\n",
    "\n",
    "`y` (targets) is simply house price connected to those features that we would like to predict at the end of this notebook\n",
    "\n",
    "The targets are represented in the same way as the features, as a matrix with as many rows as there are examples. However, instead of the number of columns representing the number of features for each example, it now represents the number of targets for each example.\n",
    "\n",
    "Most commonly, there is a single label for each example (such as a house price), which means that the labels will be a vector. Other times, each example may have multiple labels (such as in a detection problem, where you are predicting the corner coordinates of a box containing the item you want to detect).\n",
    "\n",
    "_You can read more about Boston Dataset [here](https://www.kaggle.com/c/boston-housing)_"
   ],
   "metadata": {}
  },
  {
   "cell_type": "code",
   "execution_count": null,
   "source": [
    "y[:5]"
   ],
   "outputs": [],
   "metadata": {}
  },
  {
   "cell_type": "markdown",
   "source": [
    "Features are also floating point arrays. We will use them to train our algorithm."
   ],
   "metadata": {}
  },
  {
   "cell_type": "markdown",
   "source": [
    "## Summary\n",
    "\n",
    "- `sklearn` is a high level library used to quickly prototype solutions\n",
    "- The attributes we want to make predictions from are called __features__\n",
    "- The attributes which we want to predict are called __targets__ or __labels__"
   ],
   "metadata": {}
  }
 ],
 "metadata": {
  "kernelspec": {
   "name": "python3",
   "display_name": "Python 3.8.2 64-bit ('main': conda)"
  },
  "language_info": {
   "codemirror_mode": {
    "name": "ipython",
    "version": 3
   },
   "file_extension": ".py",
   "mimetype": "text/x-python",
   "name": "python",
   "nbconvert_exporter": "python",
   "pygments_lexer": "ipython3",
   "version": "3.8.2"
  },
  "interpreter": {
   "hash": "06c1e258a470a687113bfba03f207c092b27379067ada2d83b8b31269ab641fe"
  }
 },
 "nbformat": 4,
 "nbformat_minor": 2
}