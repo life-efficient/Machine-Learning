{
 "cells": [
  {
   "cell_type": "markdown",
   "metadata": {},
   "source": [
    "# Statistical Modelling\n",
    "\n",
    "## Learning Objectives\n",
    "\n",
    "#### Part I - Simple Linear Regression\n",
    "- High-level Overview of Linear Regression\n",
    "- R syntax\n",
    "- Principles of a regression model\n",
    "- Residuals\n",
    "- Non-linear Relationships\n",
    "\n",
    "#### Part II - Multivariate Linear Regression\n",
    "- Correlation\n",
    "- Coefficients and interpreting coefficients\n",
    "- Finding relevant features/Removing non-significant terms\n",
    "- Categorical variables\n",
    "- Interactions\n",
    "- Normality\n",
    "- Power transformations\n",
    "\n",
    "Whilst the learning objectives above seem to indicate this being a lengthy and complex notebook - that is not the case. However, this is one of the most important notebooks in this chapter as it'll provide a rigorous framework to analyse your data against. I have done my best to provide the information here in a concise and intuitive manner, avoiding a math overload unless it is foundational to understanding the problem.\n",
    "\n",
    "We will work mostly in the order that is outlined in the learning objectives, starting from a simple dataset to illustrate  the problems/challenges before moving on to some more realistic datasets. All these problems are introduced under a linear regression umbrella.\n",
    "\n",
    "For logistic regression or multi-class classification, SOME of these techniques are less applicable. Similarly, whilst the assumptions for a linear regression model are not the same as the tree based models, when working with the tree based models, I recommend performing the applicable methodologies, as they will:<br>\n",
    "1. help you understand your data better<br>\n",
    "2. help boost your metrics of your models. \n",
    "\n",
    "Furthermore, there are multiple libraries with wide arrays of syntax for statistical models. sklearn is one of them. Here, I will introduce another library `statsmodels` as it allows us to use an **R** like syntax for defining our models. The reason I chose this was three-fold:<br>\n",
    "1. It is a powerful, concise and expressive way to define the variables relevant to your model.<br>\n",
    "2. R is one of the most popular Data Science/Statistics libraries out there. Whilst we don't cover R in this course, a gentle introduction to some of its syntax could prove worthwhile if you ever have to work with it.<br>\n",
    "3. Programming! Exposure to a variaty of libraries will leave you with a broader range of tools to use depending on the situation.\n",
    "\n",
    "## Linear Regression\n",
    "\n",
    "Perhaps the most basic form of linear regression is given as:\n",
    "$$\n",
    "\\hat{y}_i = \\beta_Wx_i + \\beta_b\n",
    "$$\n",
    "And we can describe our target variable fully in this way:\n",
    "$$\n",
    "y_i = Wx_i + b + \\epsilon_i\n",
    "$$\n",
    "\n",
    "Can you spot the difference?\n",
    "\n",
    "Where $x$ is one explanatory variable, which contains multiple samples enumerated by $i$. $\\hat{y}_i$ is the response variable for the $i$'th $x$ variable. $\\beta_W$ and $\\beta_b$ are the parameterised weights and biases respectively, learned from fitting a model. The $\\epsilon$ variable stands for random/inherent error in the samples. We will provide a conceptualisation for this in a second.\n",
    "\n",
    "As a simple example to demonstrate the concepts that will be introduced, we will be working with a data set of Sea Ice Extent in the Artic, looking at the per year value. The full data can be found [here](https://nsidc.org/data/seaice_index/archives). Here, I've extracted out the data that is relevant for this exercise, specifically September monthly data for the Artic, up to the year 2012."
   ]
  },
  {
   "cell_type": "code",
   "execution_count": 1,
   "metadata": {},
   "outputs": [
    {
     "output_type": "execute_result",
     "data": {
      "text/plain": [
       "    Year  Extent\n",
       "0   1979    7.05\n",
       "1   1980    7.67\n",
       "2   1981    7.14\n",
       "3   1982    7.30\n",
       "4   1983    7.39\n",
       "5   1984    6.81\n",
       "6   1985    6.70\n",
       "7   1986    7.41\n",
       "8   1987    7.28\n",
       "9   1988    7.37\n",
       "10  1989    7.01\n",
       "11  1990    6.14\n",
       "12  1991    6.47\n",
       "13  1992    7.47\n",
       "14  1993    6.40\n",
       "15  1994    7.14\n",
       "16  1995    6.08\n",
       "17  1996    7.58\n",
       "18  1997    6.69\n",
       "19  1998    6.54\n",
       "20  1999    6.12\n",
       "21  2000    6.25\n",
       "22  2001    6.73\n",
       "23  2002    5.83\n",
       "24  2003    6.12\n",
       "25  2004    5.98\n",
       "26  2005    5.50\n",
       "27  2006    5.86\n",
       "28  2007    4.27\n",
       "29  2008    4.69\n",
       "30  2009    5.26\n",
       "31  2010    4.87\n",
       "32  2011    4.56\n",
       "33  2012    3.57"
      ],
      "text/html": "<div>\n<style scoped>\n    .dataframe tbody tr th:only-of-type {\n        vertical-align: middle;\n    }\n\n    .dataframe tbody tr th {\n        vertical-align: top;\n    }\n\n    .dataframe thead th {\n        text-align: right;\n    }\n</style>\n<table border=\"1\" class=\"dataframe\">\n  <thead>\n    <tr style=\"text-align: right;\">\n      <th></th>\n      <th>Year</th>\n      <th>Extent</th>\n    </tr>\n  </thead>\n  <tbody>\n    <tr>\n      <th>0</th>\n      <td>1979</td>\n      <td>7.05</td>\n    </tr>\n    <tr>\n      <th>1</th>\n      <td>1980</td>\n      <td>7.67</td>\n    </tr>\n    <tr>\n      <th>2</th>\n      <td>1981</td>\n      <td>7.14</td>\n    </tr>\n    <tr>\n      <th>3</th>\n      <td>1982</td>\n      <td>7.30</td>\n    </tr>\n    <tr>\n      <th>4</th>\n      <td>1983</td>\n      <td>7.39</td>\n    </tr>\n    <tr>\n      <th>5</th>\n      <td>1984</td>\n      <td>6.81</td>\n    </tr>\n    <tr>\n      <th>6</th>\n      <td>1985</td>\n      <td>6.70</td>\n    </tr>\n    <tr>\n      <th>7</th>\n      <td>1986</td>\n      <td>7.41</td>\n    </tr>\n    <tr>\n      <th>8</th>\n      <td>1987</td>\n      <td>7.28</td>\n    </tr>\n    <tr>\n      <th>9</th>\n      <td>1988</td>\n      <td>7.37</td>\n    </tr>\n    <tr>\n      <th>10</th>\n      <td>1989</td>\n      <td>7.01</td>\n    </tr>\n    <tr>\n      <th>11</th>\n      <td>1990</td>\n      <td>6.14</td>\n    </tr>\n    <tr>\n      <th>12</th>\n      <td>1991</td>\n      <td>6.47</td>\n    </tr>\n    <tr>\n      <th>13</th>\n      <td>1992</td>\n      <td>7.47</td>\n    </tr>\n    <tr>\n      <th>14</th>\n      <td>1993</td>\n      <td>6.40</td>\n    </tr>\n    <tr>\n      <th>15</th>\n      <td>1994</td>\n      <td>7.14</td>\n    </tr>\n    <tr>\n      <th>16</th>\n      <td>1995</td>\n      <td>6.08</td>\n    </tr>\n    <tr>\n      <th>17</th>\n      <td>1996</td>\n      <td>7.58</td>\n    </tr>\n    <tr>\n      <th>18</th>\n      <td>1997</td>\n      <td>6.69</td>\n    </tr>\n    <tr>\n      <th>19</th>\n      <td>1998</td>\n      <td>6.54</td>\n    </tr>\n    <tr>\n      <th>20</th>\n      <td>1999</td>\n      <td>6.12</td>\n    </tr>\n    <tr>\n      <th>21</th>\n      <td>2000</td>\n      <td>6.25</td>\n    </tr>\n    <tr>\n      <th>22</th>\n      <td>2001</td>\n      <td>6.73</td>\n    </tr>\n    <tr>\n      <th>23</th>\n      <td>2002</td>\n      <td>5.83</td>\n    </tr>\n    <tr>\n      <th>24</th>\n      <td>2003</td>\n      <td>6.12</td>\n    </tr>\n    <tr>\n      <th>25</th>\n      <td>2004</td>\n      <td>5.98</td>\n    </tr>\n    <tr>\n      <th>26</th>\n      <td>2005</td>\n      <td>5.50</td>\n    </tr>\n    <tr>\n      <th>27</th>\n      <td>2006</td>\n      <td>5.86</td>\n    </tr>\n    <tr>\n      <th>28</th>\n      <td>2007</td>\n      <td>4.27</td>\n    </tr>\n    <tr>\n      <th>29</th>\n      <td>2008</td>\n      <td>4.69</td>\n    </tr>\n    <tr>\n      <th>30</th>\n      <td>2009</td>\n      <td>5.26</td>\n    </tr>\n    <tr>\n      <th>31</th>\n      <td>2010</td>\n      <td>4.87</td>\n    </tr>\n    <tr>\n      <th>32</th>\n      <td>2011</td>\n      <td>4.56</td>\n    </tr>\n    <tr>\n      <th>33</th>\n      <td>2012</td>\n      <td>3.57</td>\n    </tr>\n  </tbody>\n</table>\n</div>"
     },
     "metadata": {},
     "execution_count": 1
    }
   ],
   "source": [
    "import pandas as pd\n",
    "\n",
    "years_range = list(range(1979, 2013))\n",
    "# Extent is of unit millions of square km\n",
    "extent = [7.05, 7.67, 7.14, 7.3, 7.39, 6.81, 6.7, 7.41, 7.28, 7.37, 7.01, 6.14, 6.47, 7.47, 6.4, 7.14, 6.08, 7.58, 6.69, 6.54, 6.12, 6.25, 6.73, 5.83, 6.12, 5.98, 5.5, 5.86, 4.27, 4.69, 5.26, 4.87, 4.56, 3.57]\n",
    "\n",
    "ice_df = pd.DataFrame(list(zip(years_range, extent)), columns=[\"Year\", \"Extent\"])\n",
    "ice_df"
   ]
  },
  {
   "cell_type": "markdown",
   "metadata": {},
   "source": [
    "We'll start by plotting the data:"
   ]
  },
  {
   "cell_type": "code",
   "execution_count": 2,
   "metadata": {},
   "outputs": [
    {
     "output_type": "display_data",
     "data": {
      "application/vnd.plotly.v1+json": {
       "config": {
        "plotlyServerURL": "https://plot.ly"
       },
       "data": [
        {
         "hovertemplate": "Year=%{x}<br>Extent=%{y}<extra></extra>",
         "legendgroup": "",
         "marker": {
          "color": "#636efa",
          "symbol": "circle"
         },
         "mode": "markers",
         "name": "",
         "orientation": "v",
         "showlegend": false,
         "type": "scatter",
         "x": [
          1979,
          1980,
          1981,
          1982,
          1983,
          1984,
          1985,
          1986,
          1987,
          1988,
          1989,
          1990,
          1991,
          1992,
          1993,
          1994,
          1995,
          1996,
          1997,
          1998,
          1999,
          2000,
          2001,
          2002,
          2003,
          2004,
          2005,
          2006,
          2007,
          2008,
          2009,
          2010,
          2011,
          2012
         ],
         "xaxis": "x",
         "y": [
          7.05,
          7.67,
          7.14,
          7.3,
          7.39,
          6.81,
          6.7,
          7.41,
          7.28,
          7.37,
          7.01,
          6.14,
          6.47,
          7.47,
          6.4,
          7.14,
          6.08,
          7.58,
          6.69,
          6.54,
          6.12,
          6.25,
          6.73,
          5.83,
          6.12,
          5.98,
          5.5,
          5.86,
          4.27,
          4.69,
          5.26,
          4.87,
          4.56,
          3.57
         ],
         "yaxis": "y"
        }
       ],
       "layout": {
        "legend": {
         "tracegroupgap": 0
        },
        "template": {
         "data": {
          "bar": [
           {
            "error_x": {
             "color": "#2a3f5f"
            },
            "error_y": {
             "color": "#2a3f5f"
            },
            "marker": {
             "line": {
              "color": "#E5ECF6",
              "width": 0.5
             }
            },
            "type": "bar"
           }
          ],
          "barpolar": [
           {
            "marker": {
             "line": {
              "color": "#E5ECF6",
              "width": 0.5
             }
            },
            "type": "barpolar"
           }
          ],
          "carpet": [
           {
            "aaxis": {
             "endlinecolor": "#2a3f5f",
             "gridcolor": "white",
             "linecolor": "white",
             "minorgridcolor": "white",
             "startlinecolor": "#2a3f5f"
            },
            "baxis": {
             "endlinecolor": "#2a3f5f",
             "gridcolor": "white",
             "linecolor": "white",
             "minorgridcolor": "white",
             "startlinecolor": "#2a3f5f"
            },
            "type": "carpet"
           }
          ],
          "choropleth": [
           {
            "colorbar": {
             "outlinewidth": 0,
             "ticks": ""
            },
            "type": "choropleth"
           }
          ],
          "contour": [
           {
            "colorbar": {
             "outlinewidth": 0,
             "ticks": ""
            },
            "colorscale": [
             [
              0,
              "#0d0887"
             ],
             [
              0.1111111111111111,
              "#46039f"
             ],
             [
              0.2222222222222222,
              "#7201a8"
             ],
             [
              0.3333333333333333,
              "#9c179e"
             ],
             [
              0.4444444444444444,
              "#bd3786"
             ],
             [
              0.5555555555555556,
              "#d8576b"
             ],
             [
              0.6666666666666666,
              "#ed7953"
             ],
             [
              0.7777777777777778,
              "#fb9f3a"
             ],
             [
              0.8888888888888888,
              "#fdca26"
             ],
             [
              1,
              "#f0f921"
             ]
            ],
            "type": "contour"
           }
          ],
          "contourcarpet": [
           {
            "colorbar": {
             "outlinewidth": 0,
             "ticks": ""
            },
            "type": "contourcarpet"
           }
          ],
          "heatmap": [
           {
            "colorbar": {
             "outlinewidth": 0,
             "ticks": ""
            },
            "colorscale": [
             [
              0,
              "#0d0887"
             ],
             [
              0.1111111111111111,
              "#46039f"
             ],
             [
              0.2222222222222222,
              "#7201a8"
             ],
             [
              0.3333333333333333,
              "#9c179e"
             ],
             [
              0.4444444444444444,
              "#bd3786"
             ],
             [
              0.5555555555555556,
              "#d8576b"
             ],
             [
              0.6666666666666666,
              "#ed7953"
             ],
             [
              0.7777777777777778,
              "#fb9f3a"
             ],
             [
              0.8888888888888888,
              "#fdca26"
             ],
             [
              1,
              "#f0f921"
             ]
            ],
            "type": "heatmap"
           }
          ],
          "heatmapgl": [
           {
            "colorbar": {
             "outlinewidth": 0,
             "ticks": ""
            },
            "colorscale": [
             [
              0,
              "#0d0887"
             ],
             [
              0.1111111111111111,
              "#46039f"
             ],
             [
              0.2222222222222222,
              "#7201a8"
             ],
             [
              0.3333333333333333,
              "#9c179e"
             ],
             [
              0.4444444444444444,
              "#bd3786"
             ],
             [
              0.5555555555555556,
              "#d8576b"
             ],
             [
              0.6666666666666666,
              "#ed7953"
             ],
             [
              0.7777777777777778,
              "#fb9f3a"
             ],
             [
              0.8888888888888888,
              "#fdca26"
             ],
             [
              1,
              "#f0f921"
             ]
            ],
            "type": "heatmapgl"
           }
          ],
          "histogram": [
           {
            "marker": {
             "colorbar": {
              "outlinewidth": 0,
              "ticks": ""
             }
            },
            "type": "histogram"
           }
          ],
          "histogram2d": [
           {
            "colorbar": {
             "outlinewidth": 0,
             "ticks": ""
            },
            "colorscale": [
             [
              0,
              "#0d0887"
             ],
             [
              0.1111111111111111,
              "#46039f"
             ],
             [
              0.2222222222222222,
              "#7201a8"
             ],
             [
              0.3333333333333333,
              "#9c179e"
             ],
             [
              0.4444444444444444,
              "#bd3786"
             ],
             [
              0.5555555555555556,
              "#d8576b"
             ],
             [
              0.6666666666666666,
              "#ed7953"
             ],
             [
              0.7777777777777778,
              "#fb9f3a"
             ],
             [
              0.8888888888888888,
              "#fdca26"
             ],
             [
              1,
              "#f0f921"
             ]
            ],
            "type": "histogram2d"
           }
          ],
          "histogram2dcontour": [
           {
            "colorbar": {
             "outlinewidth": 0,
             "ticks": ""
            },
            "colorscale": [
             [
              0,
              "#0d0887"
             ],
             [
              0.1111111111111111,
              "#46039f"
             ],
             [
              0.2222222222222222,
              "#7201a8"
             ],
             [
              0.3333333333333333,
              "#9c179e"
             ],
             [
              0.4444444444444444,
              "#bd3786"
             ],
             [
              0.5555555555555556,
              "#d8576b"
             ],
             [
              0.6666666666666666,
              "#ed7953"
             ],
             [
              0.7777777777777778,
              "#fb9f3a"
             ],
             [
              0.8888888888888888,
              "#fdca26"
             ],
             [
              1,
              "#f0f921"
             ]
            ],
            "type": "histogram2dcontour"
           }
          ],
          "mesh3d": [
           {
            "colorbar": {
             "outlinewidth": 0,
             "ticks": ""
            },
            "type": "mesh3d"
           }
          ],
          "parcoords": [
           {
            "line": {
             "colorbar": {
              "outlinewidth": 0,
              "ticks": ""
             }
            },
            "type": "parcoords"
           }
          ],
          "pie": [
           {
            "automargin": true,
            "type": "pie"
           }
          ],
          "scatter": [
           {
            "marker": {
             "colorbar": {
              "outlinewidth": 0,
              "ticks": ""
             }
            },
            "type": "scatter"
           }
          ],
          "scatter3d": [
           {
            "line": {
             "colorbar": {
              "outlinewidth": 0,
              "ticks": ""
             }
            },
            "marker": {
             "colorbar": {
              "outlinewidth": 0,
              "ticks": ""
             }
            },
            "type": "scatter3d"
           }
          ],
          "scattercarpet": [
           {
            "marker": {
             "colorbar": {
              "outlinewidth": 0,
              "ticks": ""
             }
            },
            "type": "scattercarpet"
           }
          ],
          "scattergeo": [
           {
            "marker": {
             "colorbar": {
              "outlinewidth": 0,
              "ticks": ""
             }
            },
            "type": "scattergeo"
           }
          ],
          "scattergl": [
           {
            "marker": {
             "colorbar": {
              "outlinewidth": 0,
              "ticks": ""
             }
            },
            "type": "scattergl"
           }
          ],
          "scattermapbox": [
           {
            "marker": {
             "colorbar": {
              "outlinewidth": 0,
              "ticks": ""
             }
            },
            "type": "scattermapbox"
           }
          ],
          "scatterpolar": [
           {
            "marker": {
             "colorbar": {
              "outlinewidth": 0,
              "ticks": ""
             }
            },
            "type": "scatterpolar"
           }
          ],
          "scatterpolargl": [
           {
            "marker": {
             "colorbar": {
              "outlinewidth": 0,
              "ticks": ""
             }
            },
            "type": "scatterpolargl"
           }
          ],
          "scatterternary": [
           {
            "marker": {
             "colorbar": {
              "outlinewidth": 0,
              "ticks": ""
             }
            },
            "type": "scatterternary"
           }
          ],
          "surface": [
           {
            "colorbar": {
             "outlinewidth": 0,
             "ticks": ""
            },
            "colorscale": [
             [
              0,
              "#0d0887"
             ],
             [
              0.1111111111111111,
              "#46039f"
             ],
             [
              0.2222222222222222,
              "#7201a8"
             ],
             [
              0.3333333333333333,
              "#9c179e"
             ],
             [
              0.4444444444444444,
              "#bd3786"
             ],
             [
              0.5555555555555556,
              "#d8576b"
             ],
             [
              0.6666666666666666,
              "#ed7953"
             ],
             [
              0.7777777777777778,
              "#fb9f3a"
             ],
             [
              0.8888888888888888,
              "#fdca26"
             ],
             [
              1,
              "#f0f921"
             ]
            ],
            "type": "surface"
           }
          ],
          "table": [
           {
            "cells": {
             "fill": {
              "color": "#EBF0F8"
             },
             "line": {
              "color": "white"
             }
            },
            "header": {
             "fill": {
              "color": "#C8D4E3"
             },
             "line": {
              "color": "white"
             }
            },
            "type": "table"
           }
          ]
         },
         "layout": {
          "annotationdefaults": {
           "arrowcolor": "#2a3f5f",
           "arrowhead": 0,
           "arrowwidth": 1
          },
          "autotypenumbers": "strict",
          "coloraxis": {
           "colorbar": {
            "outlinewidth": 0,
            "ticks": ""
           }
          },
          "colorscale": {
           "diverging": [
            [
             0,
             "#8e0152"
            ],
            [
             0.1,
             "#c51b7d"
            ],
            [
             0.2,
             "#de77ae"
            ],
            [
             0.3,
             "#f1b6da"
            ],
            [
             0.4,
             "#fde0ef"
            ],
            [
             0.5,
             "#f7f7f7"
            ],
            [
             0.6,
             "#e6f5d0"
            ],
            [
             0.7,
             "#b8e186"
            ],
            [
             0.8,
             "#7fbc41"
            ],
            [
             0.9,
             "#4d9221"
            ],
            [
             1,
             "#276419"
            ]
           ],
           "sequential": [
            [
             0,
             "#0d0887"
            ],
            [
             0.1111111111111111,
             "#46039f"
            ],
            [
             0.2222222222222222,
             "#7201a8"
            ],
            [
             0.3333333333333333,
             "#9c179e"
            ],
            [
             0.4444444444444444,
             "#bd3786"
            ],
            [
             0.5555555555555556,
             "#d8576b"
            ],
            [
             0.6666666666666666,
             "#ed7953"
            ],
            [
             0.7777777777777778,
             "#fb9f3a"
            ],
            [
             0.8888888888888888,
             "#fdca26"
            ],
            [
             1,
             "#f0f921"
            ]
           ],
           "sequentialminus": [
            [
             0,
             "#0d0887"
            ],
            [
             0.1111111111111111,
             "#46039f"
            ],
            [
             0.2222222222222222,
             "#7201a8"
            ],
            [
             0.3333333333333333,
             "#9c179e"
            ],
            [
             0.4444444444444444,
             "#bd3786"
            ],
            [
             0.5555555555555556,
             "#d8576b"
            ],
            [
             0.6666666666666666,
             "#ed7953"
            ],
            [
             0.7777777777777778,
             "#fb9f3a"
            ],
            [
             0.8888888888888888,
             "#fdca26"
            ],
            [
             1,
             "#f0f921"
            ]
           ]
          },
          "colorway": [
           "#636efa",
           "#EF553B",
           "#00cc96",
           "#ab63fa",
           "#FFA15A",
           "#19d3f3",
           "#FF6692",
           "#B6E880",
           "#FF97FF",
           "#FECB52"
          ],
          "font": {
           "color": "#2a3f5f"
          },
          "geo": {
           "bgcolor": "white",
           "lakecolor": "white",
           "landcolor": "#E5ECF6",
           "showlakes": true,
           "showland": true,
           "subunitcolor": "white"
          },
          "hoverlabel": {
           "align": "left"
          },
          "hovermode": "closest",
          "mapbox": {
           "style": "light"
          },
          "paper_bgcolor": "white",
          "plot_bgcolor": "#E5ECF6",
          "polar": {
           "angularaxis": {
            "gridcolor": "white",
            "linecolor": "white",
            "ticks": ""
           },
           "bgcolor": "#E5ECF6",
           "radialaxis": {
            "gridcolor": "white",
            "linecolor": "white",
            "ticks": ""
           }
          },
          "scene": {
           "xaxis": {
            "backgroundcolor": "#E5ECF6",
            "gridcolor": "white",
            "gridwidth": 2,
            "linecolor": "white",
            "showbackground": true,
            "ticks": "",
            "zerolinecolor": "white"
           },
           "yaxis": {
            "backgroundcolor": "#E5ECF6",
            "gridcolor": "white",
            "gridwidth": 2,
            "linecolor": "white",
            "showbackground": true,
            "ticks": "",
            "zerolinecolor": "white"
           },
           "zaxis": {
            "backgroundcolor": "#E5ECF6",
            "gridcolor": "white",
            "gridwidth": 2,
            "linecolor": "white",
            "showbackground": true,
            "ticks": "",
            "zerolinecolor": "white"
           }
          },
          "shapedefaults": {
           "line": {
            "color": "#2a3f5f"
           }
          },
          "ternary": {
           "aaxis": {
            "gridcolor": "white",
            "linecolor": "white",
            "ticks": ""
           },
           "baxis": {
            "gridcolor": "white",
            "linecolor": "white",
            "ticks": ""
           },
           "bgcolor": "#E5ECF6",
           "caxis": {
            "gridcolor": "white",
            "linecolor": "white",
            "ticks": ""
           }
          },
          "title": {
           "x": 0.05
          },
          "xaxis": {
           "automargin": true,
           "gridcolor": "white",
           "linecolor": "white",
           "ticks": "",
           "title": {
            "standoff": 15
           },
           "zerolinecolor": "white",
           "zerolinewidth": 2
          },
          "yaxis": {
           "automargin": true,
           "gridcolor": "white",
           "linecolor": "white",
           "ticks": "",
           "title": {
            "standoff": 15
           },
           "zerolinecolor": "white",
           "zerolinewidth": 2
          }
         }
        },
        "title": {
         "text": "Year vs Sea Ice Extent (Million sq KM)"
        },
        "xaxis": {
         "anchor": "y",
         "domain": [
          0,
          1
         ],
         "title": {
          "text": "Year"
         }
        },
        "yaxis": {
         "anchor": "x",
         "domain": [
          0,
          1
         ],
         "title": {
          "text": "Extent"
         }
        }
       }
      }
     },
     "metadata": {}
    }
   ],
   "source": [
    "import plotly.express as px\n",
    "\n",
    "px.scatter(ice_df, \"Year\", \"Extent\", title=\"Year vs Sea Ice Extent (Million sq KM)\")"
   ]
  },
  {
   "cell_type": "code",
   "execution_count": null,
   "metadata": {},
   "outputs": [],
   "source": []
  },
  {
   "cell_type": "markdown",
   "metadata": {},
   "source": [
    "Ok, so we see a strong decreasing trend that looks like we could model with a straight line. Let's try simple linear regression to determine whether the decline is statistically significant. We will use `Ordinary Least Squares` Regression.\n",
    "\n",
    "### Error\n",
    "These values were taken on an arbitrary day in September. Notice that the values for the sea ice extent could have been  different if we measured them on different months or days of the month. If so, the resulting $W$ and $b$ would be slightly different. Thus, $W$ and $b$ are not true values, but estimates with *error* associated to them.\n",
    "\n",
    "Our population model could be written as: $y_i = Wx_i + b + \\epsilon_i$ where $W$ and $b$ are the true weights and biases, estimated by $\\beta_W$ and $\\beta_b$ from our sample data. As was introduced previously, we should think about forming a hypothesis to generalise the results from our sample to the population.\n",
    "\n",
    "- H0: W = 0. There is no linear change in the amount of sea ice over the years\n",
    "- Ha: W $\\neq$ 0. There is a linear change in the amount of sea ice over the years\n",
    "\n",
    "Great! Let's fit a line and test our hypothesis. As mentioned in the beginning of this notebook, we'll use the `statsmodels` library and introduce a new syntax. Have a look at its [ user guide](https://www.statsmodels.org/devel/user-guide.html).\n",
    "\n",
    "N.B. We don't *need* to use R like syntax to use `statsmodels`. In fact it is only supported thanks to another library called [Patsy](https://patsy.readthedocs.io/en/latest/). If you enjoy this syntax and/or need a reference for more information, definitely check out their documentation!\n",
    "\n",
    "The general formula syntax is given as `Y ~ X1 + X2 + X3` where Y is an *endogenous* (i.e. target/response/dependant) variable and the different X's are different *exogenous* (i.e. explanatory/design/independant/predictive) variables."
   ]
  },
  {
   "cell_type": "code",
   "execution_count": 3,
   "metadata": {},
   "outputs": [
    {
     "output_type": "stream",
     "name": "stdout",
     "text": [
      "                            OLS Regression Results                            \n==============================================================================\nDep. Variable:                 Extent   R-squared:                       0.708\nModel:                            OLS   Adj. R-squared:                  0.699\nMethod:                 Least Squares   F-statistic:                     77.68\nDate:                Wed, 24 Mar 2021   Prob (F-statistic):           4.53e-10\nTime:                        18:01:24   Log-Likelihood:                -27.953\nNo. Observations:                  34   AIC:                             59.91\nDf Residuals:                      32   BIC:                             62.96\nDf Model:                           1                                         \nCovariance Type:            nonrobust                                         \n==============================================================================\n                 coef    std err          t      P>|t|      [0.025      0.975]\n------------------------------------------------------------------------------\nIntercept    180.8159     19.797      9.134      0.000     140.491     221.141\nYear          -0.0874      0.010     -8.814      0.000      -0.108      -0.067\n==============================================================================\nOmnibus:                        0.329   Durbin-Watson:                   1.460\nProb(Omnibus):                  0.848   Jarque-Bera (JB):                0.058\nSkew:                          -0.101   Prob(JB):                        0.971\nKurtosis:                       3.009   Cond. No.                     4.06e+05\n==============================================================================\n\nWarnings:\n[1] Standard Errors assume that the covariance matrix of the errors is correctly specified.\n[2] The condition number is large, 4.06e+05. This might indicate that there are\nstrong multicollinearity or other numerical problems.\n"
     ]
    }
   ],
   "source": [
    "import statsmodels.formula.api as smf\n",
    "\n",
    "model = smf.ols(formula=\"Extent ~ Year\", data=ice_df).fit()\n",
    "print(model.summary())"
   ]
  },
  {
   "cell_type": "markdown",
   "metadata": {},
   "source": [
    "So for our ice data, the fitted model which attempts to predict the extent of sea ice given the year is given as:\n",
    "\n",
    "$$\n",
    "\\hat{\\text{Extent}} = 180.82 - 0.0874\\text{Year}\n",
    "$$\n",
    "\n",
    "The above formula means that for every 1 year increase, there is a decrease of the extent of sea ice by 0.0874 million sq km. In other words, $87,400 km^2$ per year. We will use the `.fittedvalues` attribute to extract our line, which we'll subsequently plot with Plotly.\n",
    "\n",
    "N.B. We could use Plotly Express to plot these models, but Plotly's `graph_objects` API will probably be a bit more convinient to work with."
   ]
  },
  {
   "cell_type": "code",
   "execution_count": 4,
   "metadata": {},
   "outputs": [
    {
     "output_type": "display_data",
     "data": {
      "application/vnd.plotly.v1+json": {
       "config": {
        "plotlyServerURL": "https://plot.ly"
       },
       "data": [
        {
         "mode": "markers",
         "name": "Year vs Sea Ice Extent (million sq km)",
         "type": "scatter",
         "x": [
          1979,
          1980,
          1981,
          1982,
          1983,
          1984,
          1985,
          1986,
          1987,
          1988,
          1989,
          1990,
          1991,
          1992,
          1993,
          1994,
          1995,
          1996,
          1997,
          1998,
          1999,
          2000,
          2001,
          2002,
          2003,
          2004,
          2005,
          2006,
          2007,
          2008,
          2009,
          2010,
          2011,
          2012
         ],
         "y": [
          7.05,
          7.67,
          7.14,
          7.3,
          7.39,
          6.81,
          6.7,
          7.41,
          7.28,
          7.37,
          7.01,
          6.14,
          6.47,
          7.47,
          6.4,
          7.14,
          6.08,
          7.58,
          6.69,
          6.54,
          6.12,
          6.25,
          6.73,
          5.83,
          6.12,
          5.98,
          5.5,
          5.86,
          4.27,
          4.69,
          5.26,
          4.87,
          4.56,
          3.57
         ]
        },
        {
         "name": "Fitted Regression Line",
         "type": "scatter",
         "x": [
          1979,
          1980,
          1981,
          1982,
          1983,
          1984,
          1985,
          1986,
          1987,
          1988,
          1989,
          1990,
          1991,
          1992,
          1993,
          1994,
          1995,
          1996,
          1997,
          1998,
          1999,
          2000,
          2001,
          2002,
          2003,
          2004,
          2005,
          2006,
          2007,
          2008,
          2009,
          2010,
          2011,
          2012
         ],
         "y": [
          7.773630252100929,
          7.686190985485183,
          7.598751718869437,
          7.511312452253719,
          7.423873185637973,
          7.336433919022227,
          7.2489946524064806,
          7.161555385790763,
          7.074116119175017,
          6.98667685255927,
          6.899237585943524,
          6.811798319327778,
          6.72435905271206,
          6.636919786096314,
          6.549480519480568,
          6.462041252864822,
          6.374601986249104,
          6.287162719633358,
          6.1997234530176115,
          6.112284186401865,
          6.024844919786148,
          5.937405653170401,
          5.849966386554655,
          5.762527119938909,
          5.675087853323163,
          5.587648586707445,
          5.500209320091699,
          5.412770053475953,
          5.3253307868602064,
          5.237891520244489,
          5.1504522536287425,
          5.063012987012996,
          4.97557372039725,
          4.888134453781532
         ]
        }
       ],
       "layout": {
        "template": {
         "data": {
          "bar": [
           {
            "error_x": {
             "color": "#2a3f5f"
            },
            "error_y": {
             "color": "#2a3f5f"
            },
            "marker": {
             "line": {
              "color": "#E5ECF6",
              "width": 0.5
             }
            },
            "type": "bar"
           }
          ],
          "barpolar": [
           {
            "marker": {
             "line": {
              "color": "#E5ECF6",
              "width": 0.5
             }
            },
            "type": "barpolar"
           }
          ],
          "carpet": [
           {
            "aaxis": {
             "endlinecolor": "#2a3f5f",
             "gridcolor": "white",
             "linecolor": "white",
             "minorgridcolor": "white",
             "startlinecolor": "#2a3f5f"
            },
            "baxis": {
             "endlinecolor": "#2a3f5f",
             "gridcolor": "white",
             "linecolor": "white",
             "minorgridcolor": "white",
             "startlinecolor": "#2a3f5f"
            },
            "type": "carpet"
           }
          ],
          "choropleth": [
           {
            "colorbar": {
             "outlinewidth": 0,
             "ticks": ""
            },
            "type": "choropleth"
           }
          ],
          "contour": [
           {
            "colorbar": {
             "outlinewidth": 0,
             "ticks": ""
            },
            "colorscale": [
             [
              0,
              "#0d0887"
             ],
             [
              0.1111111111111111,
              "#46039f"
             ],
             [
              0.2222222222222222,
              "#7201a8"
             ],
             [
              0.3333333333333333,
              "#9c179e"
             ],
             [
              0.4444444444444444,
              "#bd3786"
             ],
             [
              0.5555555555555556,
              "#d8576b"
             ],
             [
              0.6666666666666666,
              "#ed7953"
             ],
             [
              0.7777777777777778,
              "#fb9f3a"
             ],
             [
              0.8888888888888888,
              "#fdca26"
             ],
             [
              1,
              "#f0f921"
             ]
            ],
            "type": "contour"
           }
          ],
          "contourcarpet": [
           {
            "colorbar": {
             "outlinewidth": 0,
             "ticks": ""
            },
            "type": "contourcarpet"
           }
          ],
          "heatmap": [
           {
            "colorbar": {
             "outlinewidth": 0,
             "ticks": ""
            },
            "colorscale": [
             [
              0,
              "#0d0887"
             ],
             [
              0.1111111111111111,
              "#46039f"
             ],
             [
              0.2222222222222222,
              "#7201a8"
             ],
             [
              0.3333333333333333,
              "#9c179e"
             ],
             [
              0.4444444444444444,
              "#bd3786"
             ],
             [
              0.5555555555555556,
              "#d8576b"
             ],
             [
              0.6666666666666666,
              "#ed7953"
             ],
             [
              0.7777777777777778,
              "#fb9f3a"
             ],
             [
              0.8888888888888888,
              "#fdca26"
             ],
             [
              1,
              "#f0f921"
             ]
            ],
            "type": "heatmap"
           }
          ],
          "heatmapgl": [
           {
            "colorbar": {
             "outlinewidth": 0,
             "ticks": ""
            },
            "colorscale": [
             [
              0,
              "#0d0887"
             ],
             [
              0.1111111111111111,
              "#46039f"
             ],
             [
              0.2222222222222222,
              "#7201a8"
             ],
             [
              0.3333333333333333,
              "#9c179e"
             ],
             [
              0.4444444444444444,
              "#bd3786"
             ],
             [
              0.5555555555555556,
              "#d8576b"
             ],
             [
              0.6666666666666666,
              "#ed7953"
             ],
             [
              0.7777777777777778,
              "#fb9f3a"
             ],
             [
              0.8888888888888888,
              "#fdca26"
             ],
             [
              1,
              "#f0f921"
             ]
            ],
            "type": "heatmapgl"
           }
          ],
          "histogram": [
           {
            "marker": {
             "colorbar": {
              "outlinewidth": 0,
              "ticks": ""
             }
            },
            "type": "histogram"
           }
          ],
          "histogram2d": [
           {
            "colorbar": {
             "outlinewidth": 0,
             "ticks": ""
            },
            "colorscale": [
             [
              0,
              "#0d0887"
             ],
             [
              0.1111111111111111,
              "#46039f"
             ],
             [
              0.2222222222222222,
              "#7201a8"
             ],
             [
              0.3333333333333333,
              "#9c179e"
             ],
             [
              0.4444444444444444,
              "#bd3786"
             ],
             [
              0.5555555555555556,
              "#d8576b"
             ],
             [
              0.6666666666666666,
              "#ed7953"
             ],
             [
              0.7777777777777778,
              "#fb9f3a"
             ],
             [
              0.8888888888888888,
              "#fdca26"
             ],
             [
              1,
              "#f0f921"
             ]
            ],
            "type": "histogram2d"
           }
          ],
          "histogram2dcontour": [
           {
            "colorbar": {
             "outlinewidth": 0,
             "ticks": ""
            },
            "colorscale": [
             [
              0,
              "#0d0887"
             ],
             [
              0.1111111111111111,
              "#46039f"
             ],
             [
              0.2222222222222222,
              "#7201a8"
             ],
             [
              0.3333333333333333,
              "#9c179e"
             ],
             [
              0.4444444444444444,
              "#bd3786"
             ],
             [
              0.5555555555555556,
              "#d8576b"
             ],
             [
              0.6666666666666666,
              "#ed7953"
             ],
             [
              0.7777777777777778,
              "#fb9f3a"
             ],
             [
              0.8888888888888888,
              "#fdca26"
             ],
             [
              1,
              "#f0f921"
             ]
            ],
            "type": "histogram2dcontour"
           }
          ],
          "mesh3d": [
           {
            "colorbar": {
             "outlinewidth": 0,
             "ticks": ""
            },
            "type": "mesh3d"
           }
          ],
          "parcoords": [
           {
            "line": {
             "colorbar": {
              "outlinewidth": 0,
              "ticks": ""
             }
            },
            "type": "parcoords"
           }
          ],
          "pie": [
           {
            "automargin": true,
            "type": "pie"
           }
          ],
          "scatter": [
           {
            "marker": {
             "colorbar": {
              "outlinewidth": 0,
              "ticks": ""
             }
            },
            "type": "scatter"
           }
          ],
          "scatter3d": [
           {
            "line": {
             "colorbar": {
              "outlinewidth": 0,
              "ticks": ""
             }
            },
            "marker": {
             "colorbar": {
              "outlinewidth": 0,
              "ticks": ""
             }
            },
            "type": "scatter3d"
           }
          ],
          "scattercarpet": [
           {
            "marker": {
             "colorbar": {
              "outlinewidth": 0,
              "ticks": ""
             }
            },
            "type": "scattercarpet"
           }
          ],
          "scattergeo": [
           {
            "marker": {
             "colorbar": {
              "outlinewidth": 0,
              "ticks": ""
             }
            },
            "type": "scattergeo"
           }
          ],
          "scattergl": [
           {
            "marker": {
             "colorbar": {
              "outlinewidth": 0,
              "ticks": ""
             }
            },
            "type": "scattergl"
           }
          ],
          "scattermapbox": [
           {
            "marker": {
             "colorbar": {
              "outlinewidth": 0,
              "ticks": ""
             }
            },
            "type": "scattermapbox"
           }
          ],
          "scatterpolar": [
           {
            "marker": {
             "colorbar": {
              "outlinewidth": 0,
              "ticks": ""
             }
            },
            "type": "scatterpolar"
           }
          ],
          "scatterpolargl": [
           {
            "marker": {
             "colorbar": {
              "outlinewidth": 0,
              "ticks": ""
             }
            },
            "type": "scatterpolargl"
           }
          ],
          "scatterternary": [
           {
            "marker": {
             "colorbar": {
              "outlinewidth": 0,
              "ticks": ""
             }
            },
            "type": "scatterternary"
           }
          ],
          "surface": [
           {
            "colorbar": {
             "outlinewidth": 0,
             "ticks": ""
            },
            "colorscale": [
             [
              0,
              "#0d0887"
             ],
             [
              0.1111111111111111,
              "#46039f"
             ],
             [
              0.2222222222222222,
              "#7201a8"
             ],
             [
              0.3333333333333333,
              "#9c179e"
             ],
             [
              0.4444444444444444,
              "#bd3786"
             ],
             [
              0.5555555555555556,
              "#d8576b"
             ],
             [
              0.6666666666666666,
              "#ed7953"
             ],
             [
              0.7777777777777778,
              "#fb9f3a"
             ],
             [
              0.8888888888888888,
              "#fdca26"
             ],
             [
              1,
              "#f0f921"
             ]
            ],
            "type": "surface"
           }
          ],
          "table": [
           {
            "cells": {
             "fill": {
              "color": "#EBF0F8"
             },
             "line": {
              "color": "white"
             }
            },
            "header": {
             "fill": {
              "color": "#C8D4E3"
             },
             "line": {
              "color": "white"
             }
            },
            "type": "table"
           }
          ]
         },
         "layout": {
          "annotationdefaults": {
           "arrowcolor": "#2a3f5f",
           "arrowhead": 0,
           "arrowwidth": 1
          },
          "autotypenumbers": "strict",
          "coloraxis": {
           "colorbar": {
            "outlinewidth": 0,
            "ticks": ""
           }
          },
          "colorscale": {
           "diverging": [
            [
             0,
             "#8e0152"
            ],
            [
             0.1,
             "#c51b7d"
            ],
            [
             0.2,
             "#de77ae"
            ],
            [
             0.3,
             "#f1b6da"
            ],
            [
             0.4,
             "#fde0ef"
            ],
            [
             0.5,
             "#f7f7f7"
            ],
            [
             0.6,
             "#e6f5d0"
            ],
            [
             0.7,
             "#b8e186"
            ],
            [
             0.8,
             "#7fbc41"
            ],
            [
             0.9,
             "#4d9221"
            ],
            [
             1,
             "#276419"
            ]
           ],
           "sequential": [
            [
             0,
             "#0d0887"
            ],
            [
             0.1111111111111111,
             "#46039f"
            ],
            [
             0.2222222222222222,
             "#7201a8"
            ],
            [
             0.3333333333333333,
             "#9c179e"
            ],
            [
             0.4444444444444444,
             "#bd3786"
            ],
            [
             0.5555555555555556,
             "#d8576b"
            ],
            [
             0.6666666666666666,
             "#ed7953"
            ],
            [
             0.7777777777777778,
             "#fb9f3a"
            ],
            [
             0.8888888888888888,
             "#fdca26"
            ],
            [
             1,
             "#f0f921"
            ]
           ],
           "sequentialminus": [
            [
             0,
             "#0d0887"
            ],
            [
             0.1111111111111111,
             "#46039f"
            ],
            [
             0.2222222222222222,
             "#7201a8"
            ],
            [
             0.3333333333333333,
             "#9c179e"
            ],
            [
             0.4444444444444444,
             "#bd3786"
            ],
            [
             0.5555555555555556,
             "#d8576b"
            ],
            [
             0.6666666666666666,
             "#ed7953"
            ],
            [
             0.7777777777777778,
             "#fb9f3a"
            ],
            [
             0.8888888888888888,
             "#fdca26"
            ],
            [
             1,
             "#f0f921"
            ]
           ]
          },
          "colorway": [
           "#636efa",
           "#EF553B",
           "#00cc96",
           "#ab63fa",
           "#FFA15A",
           "#19d3f3",
           "#FF6692",
           "#B6E880",
           "#FF97FF",
           "#FECB52"
          ],
          "font": {
           "color": "#2a3f5f"
          },
          "geo": {
           "bgcolor": "white",
           "lakecolor": "white",
           "landcolor": "#E5ECF6",
           "showlakes": true,
           "showland": true,
           "subunitcolor": "white"
          },
          "hoverlabel": {
           "align": "left"
          },
          "hovermode": "closest",
          "mapbox": {
           "style": "light"
          },
          "paper_bgcolor": "white",
          "plot_bgcolor": "#E5ECF6",
          "polar": {
           "angularaxis": {
            "gridcolor": "white",
            "linecolor": "white",
            "ticks": ""
           },
           "bgcolor": "#E5ECF6",
           "radialaxis": {
            "gridcolor": "white",
            "linecolor": "white",
            "ticks": ""
           }
          },
          "scene": {
           "xaxis": {
            "backgroundcolor": "#E5ECF6",
            "gridcolor": "white",
            "gridwidth": 2,
            "linecolor": "white",
            "showbackground": true,
            "ticks": "",
            "zerolinecolor": "white"
           },
           "yaxis": {
            "backgroundcolor": "#E5ECF6",
            "gridcolor": "white",
            "gridwidth": 2,
            "linecolor": "white",
            "showbackground": true,
            "ticks": "",
            "zerolinecolor": "white"
           },
           "zaxis": {
            "backgroundcolor": "#E5ECF6",
            "gridcolor": "white",
            "gridwidth": 2,
            "linecolor": "white",
            "showbackground": true,
            "ticks": "",
            "zerolinecolor": "white"
           }
          },
          "shapedefaults": {
           "line": {
            "color": "#2a3f5f"
           }
          },
          "ternary": {
           "aaxis": {
            "gridcolor": "white",
            "linecolor": "white",
            "ticks": ""
           },
           "baxis": {
            "gridcolor": "white",
            "linecolor": "white",
            "ticks": ""
           },
           "bgcolor": "#E5ECF6",
           "caxis": {
            "gridcolor": "white",
            "linecolor": "white",
            "ticks": ""
           }
          },
          "title": {
           "x": 0.05
          },
          "xaxis": {
           "automargin": true,
           "gridcolor": "white",
           "linecolor": "white",
           "ticks": "",
           "title": {
            "standoff": 15
           },
           "zerolinecolor": "white",
           "zerolinewidth": 2
          },
          "yaxis": {
           "automargin": true,
           "gridcolor": "white",
           "linecolor": "white",
           "ticks": "",
           "title": {
            "standoff": 15
           },
           "zerolinecolor": "white",
           "zerolinewidth": 2
          }
         }
        },
        "title": {
         "text": "Regression line of Year vs Sea Ice Extent (million sq km)"
        },
        "xaxis": {
         "title": {
          "text": "Year"
         }
        },
        "yaxis": {
         "title": {
          "text": "Sea Ice Extent"
         }
        }
       }
      }
     },
     "metadata": {}
    }
   ],
   "source": [
    "import plotly.graph_objects as go\n",
    "\n",
    "ice_df[\"fitted\"] = model.fittedvalues\n",
    "\n",
    "fig = go.Figure()\n",
    "fig.add_trace(go.Scatter(\n",
    "    x=ice_df[\"Year\"], y=ice_df[\"Extent\"], name=\"Year vs Sea Ice Extent (million sq km)\", mode=\"markers\"))\n",
    "fig.add_trace(go.Scatter(\n",
    "    x=ice_df[\"Year\"], y=ice_df[\"fitted\"], name=\"Fitted Regression Line\"))\n",
    "fig.update_layout(title=\"Regression line of Year vs Sea Ice Extent (million sq km)\", xaxis_title=\"Year\",\n",
    "    yaxis_title=\"Sea Ice Extent\")\n",
    "fig.show()"
   ]
  },
  {
   "cell_type": "markdown",
   "metadata": {},
   "source": [
    "Note: the intercept doesn't actually make sense because it is beyond the range of the data. We should redefine the Year variable subtracting the earliest year (1979), so that our x axis starts at 0."
   ]
  },
  {
   "cell_type": "code",
   "execution_count": 10,
   "metadata": {},
   "outputs": [
    {
     "output_type": "stream",
     "name": "stdout",
     "text": [
      "                            OLS Regression Results                            \n==============================================================================\nDep. Variable:                 Extent   R-squared:                       0.708\nModel:                            OLS   Adj. R-squared:                  0.699\nMethod:                 Least Squares   F-statistic:                     77.68\nDate:                Wed, 24 Mar 2021   Prob (F-statistic):           4.53e-10\nTime:                        18:33:02   Log-Likelihood:                -27.953\nNo. Observations:                  34   AIC:                             59.91\nDf Residuals:                      32   BIC:                             62.96\nDf Model:                           1                                         \nCovariance Type:            nonrobust                                         \n==============================================================================\n                 coef    std err          t      P>|t|      [0.025      0.975]\n------------------------------------------------------------------------------\nIntercept      7.7736      0.190     40.819      0.000       7.386       8.162\nYearAdj       -0.0874      0.010     -8.814      0.000      -0.108      -0.067\n==============================================================================\nOmnibus:                        0.329   Durbin-Watson:                   1.460\nProb(Omnibus):                  0.848   Jarque-Bera (JB):                0.058\nSkew:                          -0.101   Prob(JB):                        0.971\nKurtosis:                       3.009   Cond. No.                         37.6\n==============================================================================\n\nWarnings:\n[1] Standard Errors assume that the covariance matrix of the errors is correctly specified.\n"
     ]
    }
   ],
   "source": [
    "ice_df[\"YearAdj\"] = ice_df[\"Year\"] - 1979\n",
    "model = smf.ols(formula=\"Extent ~ YearAdj\", data=ice_df).fit()\n",
    "print(model.summary())"
   ]
  },
  {
   "cell_type": "markdown",
   "metadata": {},
   "source": [
    "As seen the intercept is naturally more interpretable now, while the coefficient of stays the same"
   ]
  },
  {
   "cell_type": "code",
   "execution_count": 5,
   "metadata": {},
   "outputs": [
    {
     "output_type": "display_data",
     "data": {
      "application/vnd.plotly.v1+json": {
       "config": {
        "plotlyServerURL": "https://plot.ly"
       },
       "data": [
        {
         "mode": "markers",
         "name": "Year vs Sea Ice Extent (million sq km)",
         "type": "scatter",
         "x": [
          1979,
          1980,
          1981,
          1982,
          1983,
          1984,
          1985,
          1986,
          1987,
          1988,
          1989,
          1990,
          1991,
          1992,
          1993,
          1994,
          1995,
          1996,
          1997,
          1998,
          1999,
          2000,
          2001,
          2002,
          2003,
          2004,
          2005,
          2006,
          2007,
          2008,
          2009,
          2010,
          2011,
          2012
         ],
         "y": [
          7.05,
          7.67,
          7.14,
          7.3,
          7.39,
          6.81,
          6.7,
          7.41,
          7.28,
          7.37,
          7.01,
          6.14,
          6.47,
          7.47,
          6.4,
          7.14,
          6.08,
          7.58,
          6.69,
          6.54,
          6.12,
          6.25,
          6.73,
          5.83,
          6.12,
          5.98,
          5.5,
          5.86,
          4.27,
          4.69,
          5.26,
          4.87,
          4.56,
          3.57
         ]
        },
        {
         "name": "Fitted Regression Line",
         "type": "scatter",
         "x": [
          1979,
          1980,
          1981,
          1982,
          1983,
          1984,
          1985,
          1986,
          1987,
          1988,
          1989,
          1990,
          1991,
          1992,
          1993,
          1994,
          1995,
          1996,
          1997,
          1998,
          1999,
          2000,
          2001,
          2002,
          2003,
          2004,
          2005,
          2006,
          2007,
          2008,
          2009,
          2010,
          2011,
          2012
         ],
         "y": [
          7.773630252100929,
          7.686190985485183,
          7.598751718869437,
          7.511312452253719,
          7.423873185637973,
          7.336433919022227,
          7.2489946524064806,
          7.161555385790763,
          7.074116119175017,
          6.98667685255927,
          6.899237585943524,
          6.811798319327778,
          6.72435905271206,
          6.636919786096314,
          6.549480519480568,
          6.462041252864822,
          6.374601986249104,
          6.287162719633358,
          6.1997234530176115,
          6.112284186401865,
          6.024844919786148,
          5.937405653170401,
          5.849966386554655,
          5.762527119938909,
          5.675087853323163,
          5.587648586707445,
          5.500209320091699,
          5.412770053475953,
          5.3253307868602064,
          5.237891520244489,
          5.1504522536287425,
          5.063012987012996,
          4.97557372039725,
          4.888134453781532
         ]
        }
       ],
       "layout": {
        "template": {
         "data": {
          "bar": [
           {
            "error_x": {
             "color": "#2a3f5f"
            },
            "error_y": {
             "color": "#2a3f5f"
            },
            "marker": {
             "line": {
              "color": "#E5ECF6",
              "width": 0.5
             }
            },
            "type": "bar"
           }
          ],
          "barpolar": [
           {
            "marker": {
             "line": {
              "color": "#E5ECF6",
              "width": 0.5
             }
            },
            "type": "barpolar"
           }
          ],
          "carpet": [
           {
            "aaxis": {
             "endlinecolor": "#2a3f5f",
             "gridcolor": "white",
             "linecolor": "white",
             "minorgridcolor": "white",
             "startlinecolor": "#2a3f5f"
            },
            "baxis": {
             "endlinecolor": "#2a3f5f",
             "gridcolor": "white",
             "linecolor": "white",
             "minorgridcolor": "white",
             "startlinecolor": "#2a3f5f"
            },
            "type": "carpet"
           }
          ],
          "choropleth": [
           {
            "colorbar": {
             "outlinewidth": 0,
             "ticks": ""
            },
            "type": "choropleth"
           }
          ],
          "contour": [
           {
            "colorbar": {
             "outlinewidth": 0,
             "ticks": ""
            },
            "colorscale": [
             [
              0,
              "#0d0887"
             ],
             [
              0.1111111111111111,
              "#46039f"
             ],
             [
              0.2222222222222222,
              "#7201a8"
             ],
             [
              0.3333333333333333,
              "#9c179e"
             ],
             [
              0.4444444444444444,
              "#bd3786"
             ],
             [
              0.5555555555555556,
              "#d8576b"
             ],
             [
              0.6666666666666666,
              "#ed7953"
             ],
             [
              0.7777777777777778,
              "#fb9f3a"
             ],
             [
              0.8888888888888888,
              "#fdca26"
             ],
             [
              1,
              "#f0f921"
             ]
            ],
            "type": "contour"
           }
          ],
          "contourcarpet": [
           {
            "colorbar": {
             "outlinewidth": 0,
             "ticks": ""
            },
            "type": "contourcarpet"
           }
          ],
          "heatmap": [
           {
            "colorbar": {
             "outlinewidth": 0,
             "ticks": ""
            },
            "colorscale": [
             [
              0,
              "#0d0887"
             ],
             [
              0.1111111111111111,
              "#46039f"
             ],
             [
              0.2222222222222222,
              "#7201a8"
             ],
             [
              0.3333333333333333,
              "#9c179e"
             ],
             [
              0.4444444444444444,
              "#bd3786"
             ],
             [
              0.5555555555555556,
              "#d8576b"
             ],
             [
              0.6666666666666666,
              "#ed7953"
             ],
             [
              0.7777777777777778,
              "#fb9f3a"
             ],
             [
              0.8888888888888888,
              "#fdca26"
             ],
             [
              1,
              "#f0f921"
             ]
            ],
            "type": "heatmap"
           }
          ],
          "heatmapgl": [
           {
            "colorbar": {
             "outlinewidth": 0,
             "ticks": ""
            },
            "colorscale": [
             [
              0,
              "#0d0887"
             ],
             [
              0.1111111111111111,
              "#46039f"
             ],
             [
              0.2222222222222222,
              "#7201a8"
             ],
             [
              0.3333333333333333,
              "#9c179e"
             ],
             [
              0.4444444444444444,
              "#bd3786"
             ],
             [
              0.5555555555555556,
              "#d8576b"
             ],
             [
              0.6666666666666666,
              "#ed7953"
             ],
             [
              0.7777777777777778,
              "#fb9f3a"
             ],
             [
              0.8888888888888888,
              "#fdca26"
             ],
             [
              1,
              "#f0f921"
             ]
            ],
            "type": "heatmapgl"
           }
          ],
          "histogram": [
           {
            "marker": {
             "colorbar": {
              "outlinewidth": 0,
              "ticks": ""
             }
            },
            "type": "histogram"
           }
          ],
          "histogram2d": [
           {
            "colorbar": {
             "outlinewidth": 0,
             "ticks": ""
            },
            "colorscale": [
             [
              0,
              "#0d0887"
             ],
             [
              0.1111111111111111,
              "#46039f"
             ],
             [
              0.2222222222222222,
              "#7201a8"
             ],
             [
              0.3333333333333333,
              "#9c179e"
             ],
             [
              0.4444444444444444,
              "#bd3786"
             ],
             [
              0.5555555555555556,
              "#d8576b"
             ],
             [
              0.6666666666666666,
              "#ed7953"
             ],
             [
              0.7777777777777778,
              "#fb9f3a"
             ],
             [
              0.8888888888888888,
              "#fdca26"
             ],
             [
              1,
              "#f0f921"
             ]
            ],
            "type": "histogram2d"
           }
          ],
          "histogram2dcontour": [
           {
            "colorbar": {
             "outlinewidth": 0,
             "ticks": ""
            },
            "colorscale": [
             [
              0,
              "#0d0887"
             ],
             [
              0.1111111111111111,
              "#46039f"
             ],
             [
              0.2222222222222222,
              "#7201a8"
             ],
             [
              0.3333333333333333,
              "#9c179e"
             ],
             [
              0.4444444444444444,
              "#bd3786"
             ],
             [
              0.5555555555555556,
              "#d8576b"
             ],
             [
              0.6666666666666666,
              "#ed7953"
             ],
             [
              0.7777777777777778,
              "#fb9f3a"
             ],
             [
              0.8888888888888888,
              "#fdca26"
             ],
             [
              1,
              "#f0f921"
             ]
            ],
            "type": "histogram2dcontour"
           }
          ],
          "mesh3d": [
           {
            "colorbar": {
             "outlinewidth": 0,
             "ticks": ""
            },
            "type": "mesh3d"
           }
          ],
          "parcoords": [
           {
            "line": {
             "colorbar": {
              "outlinewidth": 0,
              "ticks": ""
             }
            },
            "type": "parcoords"
           }
          ],
          "pie": [
           {
            "automargin": true,
            "type": "pie"
           }
          ],
          "scatter": [
           {
            "marker": {
             "colorbar": {
              "outlinewidth": 0,
              "ticks": ""
             }
            },
            "type": "scatter"
           }
          ],
          "scatter3d": [
           {
            "line": {
             "colorbar": {
              "outlinewidth": 0,
              "ticks": ""
             }
            },
            "marker": {
             "colorbar": {
              "outlinewidth": 0,
              "ticks": ""
             }
            },
            "type": "scatter3d"
           }
          ],
          "scattercarpet": [
           {
            "marker": {
             "colorbar": {
              "outlinewidth": 0,
              "ticks": ""
             }
            },
            "type": "scattercarpet"
           }
          ],
          "scattergeo": [
           {
            "marker": {
             "colorbar": {
              "outlinewidth": 0,
              "ticks": ""
             }
            },
            "type": "scattergeo"
           }
          ],
          "scattergl": [
           {
            "marker": {
             "colorbar": {
              "outlinewidth": 0,
              "ticks": ""
             }
            },
            "type": "scattergl"
           }
          ],
          "scattermapbox": [
           {
            "marker": {
             "colorbar": {
              "outlinewidth": 0,
              "ticks": ""
             }
            },
            "type": "scattermapbox"
           }
          ],
          "scatterpolar": [
           {
            "marker": {
             "colorbar": {
              "outlinewidth": 0,
              "ticks": ""
             }
            },
            "type": "scatterpolar"
           }
          ],
          "scatterpolargl": [
           {
            "marker": {
             "colorbar": {
              "outlinewidth": 0,
              "ticks": ""
             }
            },
            "type": "scatterpolargl"
           }
          ],
          "scatterternary": [
           {
            "marker": {
             "colorbar": {
              "outlinewidth": 0,
              "ticks": ""
             }
            },
            "type": "scatterternary"
           }
          ],
          "surface": [
           {
            "colorbar": {
             "outlinewidth": 0,
             "ticks": ""
            },
            "colorscale": [
             [
              0,
              "#0d0887"
             ],
             [
              0.1111111111111111,
              "#46039f"
             ],
             [
              0.2222222222222222,
              "#7201a8"
             ],
             [
              0.3333333333333333,
              "#9c179e"
             ],
             [
              0.4444444444444444,
              "#bd3786"
             ],
             [
              0.5555555555555556,
              "#d8576b"
             ],
             [
              0.6666666666666666,
              "#ed7953"
             ],
             [
              0.7777777777777778,
              "#fb9f3a"
             ],
             [
              0.8888888888888888,
              "#fdca26"
             ],
             [
              1,
              "#f0f921"
             ]
            ],
            "type": "surface"
           }
          ],
          "table": [
           {
            "cells": {
             "fill": {
              "color": "#EBF0F8"
             },
             "line": {
              "color": "white"
             }
            },
            "header": {
             "fill": {
              "color": "#C8D4E3"
             },
             "line": {
              "color": "white"
             }
            },
            "type": "table"
           }
          ]
         },
         "layout": {
          "annotationdefaults": {
           "arrowcolor": "#2a3f5f",
           "arrowhead": 0,
           "arrowwidth": 1
          },
          "autotypenumbers": "strict",
          "coloraxis": {
           "colorbar": {
            "outlinewidth": 0,
            "ticks": ""
           }
          },
          "colorscale": {
           "diverging": [
            [
             0,
             "#8e0152"
            ],
            [
             0.1,
             "#c51b7d"
            ],
            [
             0.2,
             "#de77ae"
            ],
            [
             0.3,
             "#f1b6da"
            ],
            [
             0.4,
             "#fde0ef"
            ],
            [
             0.5,
             "#f7f7f7"
            ],
            [
             0.6,
             "#e6f5d0"
            ],
            [
             0.7,
             "#b8e186"
            ],
            [
             0.8,
             "#7fbc41"
            ],
            [
             0.9,
             "#4d9221"
            ],
            [
             1,
             "#276419"
            ]
           ],
           "sequential": [
            [
             0,
             "#0d0887"
            ],
            [
             0.1111111111111111,
             "#46039f"
            ],
            [
             0.2222222222222222,
             "#7201a8"
            ],
            [
             0.3333333333333333,
             "#9c179e"
            ],
            [
             0.4444444444444444,
             "#bd3786"
            ],
            [
             0.5555555555555556,
             "#d8576b"
            ],
            [
             0.6666666666666666,
             "#ed7953"
            ],
            [
             0.7777777777777778,
             "#fb9f3a"
            ],
            [
             0.8888888888888888,
             "#fdca26"
            ],
            [
             1,
             "#f0f921"
            ]
           ],
           "sequentialminus": [
            [
             0,
             "#0d0887"
            ],
            [
             0.1111111111111111,
             "#46039f"
            ],
            [
             0.2222222222222222,
             "#7201a8"
            ],
            [
             0.3333333333333333,
             "#9c179e"
            ],
            [
             0.4444444444444444,
             "#bd3786"
            ],
            [
             0.5555555555555556,
             "#d8576b"
            ],
            [
             0.6666666666666666,
             "#ed7953"
            ],
            [
             0.7777777777777778,
             "#fb9f3a"
            ],
            [
             0.8888888888888888,
             "#fdca26"
            ],
            [
             1,
             "#f0f921"
            ]
           ]
          },
          "colorway": [
           "#636efa",
           "#EF553B",
           "#00cc96",
           "#ab63fa",
           "#FFA15A",
           "#19d3f3",
           "#FF6692",
           "#B6E880",
           "#FF97FF",
           "#FECB52"
          ],
          "font": {
           "color": "#2a3f5f"
          },
          "geo": {
           "bgcolor": "white",
           "lakecolor": "white",
           "landcolor": "#E5ECF6",
           "showlakes": true,
           "showland": true,
           "subunitcolor": "white"
          },
          "hoverlabel": {
           "align": "left"
          },
          "hovermode": "closest",
          "mapbox": {
           "style": "light"
          },
          "paper_bgcolor": "white",
          "plot_bgcolor": "#E5ECF6",
          "polar": {
           "angularaxis": {
            "gridcolor": "white",
            "linecolor": "white",
            "ticks": ""
           },
           "bgcolor": "#E5ECF6",
           "radialaxis": {
            "gridcolor": "white",
            "linecolor": "white",
            "ticks": ""
           }
          },
          "scene": {
           "xaxis": {
            "backgroundcolor": "#E5ECF6",
            "gridcolor": "white",
            "gridwidth": 2,
            "linecolor": "white",
            "showbackground": true,
            "ticks": "",
            "zerolinecolor": "white"
           },
           "yaxis": {
            "backgroundcolor": "#E5ECF6",
            "gridcolor": "white",
            "gridwidth": 2,
            "linecolor": "white",
            "showbackground": true,
            "ticks": "",
            "zerolinecolor": "white"
           },
           "zaxis": {
            "backgroundcolor": "#E5ECF6",
            "gridcolor": "white",
            "gridwidth": 2,
            "linecolor": "white",
            "showbackground": true,
            "ticks": "",
            "zerolinecolor": "white"
           }
          },
          "shapedefaults": {
           "line": {
            "color": "#2a3f5f"
           }
          },
          "ternary": {
           "aaxis": {
            "gridcolor": "white",
            "linecolor": "white",
            "ticks": ""
           },
           "baxis": {
            "gridcolor": "white",
            "linecolor": "white",
            "ticks": ""
           },
           "bgcolor": "#E5ECF6",
           "caxis": {
            "gridcolor": "white",
            "linecolor": "white",
            "ticks": ""
           }
          },
          "title": {
           "x": 0.05
          },
          "xaxis": {
           "automargin": true,
           "gridcolor": "white",
           "linecolor": "white",
           "ticks": "",
           "title": {
            "standoff": 15
           },
           "zerolinecolor": "white",
           "zerolinewidth": 2
          },
          "yaxis": {
           "automargin": true,
           "gridcolor": "white",
           "linecolor": "white",
           "ticks": "",
           "title": {
            "standoff": 15
           },
           "zerolinecolor": "white",
           "zerolinewidth": 2
          }
         }
        },
        "title": {
         "text": "Regression line of Year vs Sea Ice Extent (million sq km)"
        },
        "xaxis": {
         "title": {
          "text": "Year"
         }
        },
        "yaxis": {
         "title": {
          "text": "Sea Ice Extent"
         }
        }
       }
      }
     },
     "metadata": {}
    }
   ],
   "source": [
    "import plotly.graph_objects as go\n",
    "\n",
    "ice_df[\"fitted\"] = model.fittedvalues\n",
    "\n",
    "fig = go.Figure()\n",
    "# Note that we still plot against the original Year variable\n",
    "fig.add_trace(go.Scatter(\n",
    "    x=ice_df[\"Year\"], y=ice_df[\"Extent\"], name=\"Year vs Sea Ice Extent (million sq km)\", mode=\"markers\"))\n",
    "fig.add_trace(go.Scatter(\n",
    "    x=ice_df[\"Year\"], y=ice_df[\"fitted\"], name=\"Fitted Regression Line\"))\n",
    "fig.update_layout(title=\"Regression line of Year vs Sea Ice Extent (million sq km)\", xaxis_title=\"Year\",\n",
    "    yaxis_title=\"Sea Ice Extent\")\n",
    "fig.show()"
   ]
  },
  {
   "cell_type": "markdown",
   "metadata": {},
   "source": [
    "Taking another look at the summary table, there is a column called `P>|t|`. This is the probability of the value of the coefficient being drawn from a parameterised t-distribution. Our `p-value`.\n",
    "(Unfortunately) `statsmodels` `.summary()` method only provides the value to 3 decimal places - enough to validate whether we want to accept or reject the null hypothesis. However, if we wanted the actual p-values, we can simply run the `.pvalues` attribute against the model.\n",
    "\n",
    "The p-value for our coefficient of choice is (roughly) 0, which is less than our default significance level, $\\alpha = 0.05$. Therefore, **we can reject the null hypothesis** and determine that there is a linear change in the amount of sea ice over the years.\n",
    "\n",
    "<br>\n",
    "\n",
    "<details>\n",
    "    <summary><b>> Click here to reveal how to calculate the p-values using the standard error</b></summary>\n",
    "    <ul>\n",
    "        <li>First, divide the parameter value by its standard error. We get a t-value. In this case, -0.08743927/0.0099207 = -8.814</li>\n",
    "        <li>This value is compared to a t-distribution with (n-p) degrees of freedom, where n is the number datapoints and p is the number of parameters. Here, the number of datapoints is 34, and the number of parameters is 2. Thus, the t-distribution will have 32 degrees of freedom.</li>\n",
    "        <li>Now we just need to know what the probability of t being greater or equal to 8.814 (absolute value). We can do this using the <a href=\"http://docs.scipy.org/doc/scipy/reference/tutorial/stats.html\">stats</a>class from scipy: <code>stats.t.sf(abs_t_value, DoF)*2</code>, where we multiply by 2 due to our test being two tailed.\n",
    "    </ul>\n",
    "</details>"
   ]
  },
  {
   "cell_type": "code",
   "execution_count": 6,
   "metadata": {},
   "outputs": [
    {
     "output_type": "stream",
     "name": "stdout",
     "text": [
      "Model P Values: [1.98401808e-10 4.52791516e-10]\nModel Coef: [ 1.80815939e+02 -8.74392666e-02]\nModel Std Errs: [1.97969884e+01 9.92069614e-03]\n\nCalculated P Value:  4.527915156455447e-10\n"
     ]
    }
   ],
   "source": [
    "print(\"Model P Values:\", model.pvalues.values)\n",
    "print(\"Model Coef:\", model.params.values)\n",
    "print(\"Model Std Errs:\", model.bse.values)\n",
    "\n",
    "from scipy import stats\n",
    "t_val = model.params[1]/model.bse[1]\n",
    "p_val = stats.t.sf(abs(t_val), len(ice_df)-2)*2\n",
    "print()\n",
    "print(\"Calculated P Value: \", p_val)"
   ]
  },
  {
   "cell_type": "markdown",
   "metadata": {},
   "source": [
    "## Principles of a regression model\n",
    "\n",
    "Ok, so we've just used a linear regression model. But we haven't yet discussed assumptions that underlie these kinds of models. Different resources will give a different number of assumptions, but they all have their roots with these four:<br>\n",
    "1. **Linearity** of the relationship between response and explanatory variables<br>\n",
    "2. **Statistical independance of residuals**. That is, there's no discernable pattern in the residuals (or no correlation between the consecutive errors in the case of time series data)<br>\n",
    "3. **Homoescedasicity**. Complicated word, but not a complicated definition. Basically just means that the residuals have constant/very similar variance<br>\n",
    "4. **Normality** of the error distribution.\n",
    "\n",
    "As we progress through this notebook, these will be more formally introduced. We'll take a quick jump start by analysing the residuals of the data though. Recall that a **residual** simply is an error we've calculated over *sample* data. Although you may see them being used interchangbly, technically speaking, an *error* is the term used to denote an error calculated over population data."
   ]
  },
  {
   "cell_type": "code",
   "execution_count": 7,
   "metadata": {},
   "outputs": [],
   "source": [
    "# Creating a general plotting function for plotting a scatter plot and line on the same figure\n",
    "def plot_scatter_and_line(x, scatter_y, line_y, scatter_name, line_name, title, x_title, y_title):\n",
    "\n",
    "    fig = go.Figure()\n",
    "    \n",
    "    fig.add_trace(go.Scatter(\n",
    "        x=x, y=scatter_y, name=scatter_name, mode=\"markers\"))\n",
    "    fig.add_trace(go.Scatter(\n",
    "        x=x, y=line_y, name=line_name))\n",
    "    fig.update_layout(title=title, xaxis_title=x_title,\n",
    "        yaxis_title=y_title)\n",
    "    \n",
    "    return fig"
   ]
  },
  {
   "cell_type": "code",
   "execution_count": 8,
   "metadata": {},
   "outputs": [
    {
     "output_type": "display_data",
     "data": {
      "application/vnd.plotly.v1+json": {
       "config": {
        "plotlyServerURL": "https://plot.ly"
       },
       "data": [
        {
         "mode": "markers",
         "name": "Model residuals",
         "type": "scatter",
         "x": [
          1979,
          1980,
          1981,
          1982,
          1983,
          1984,
          1985,
          1986,
          1987,
          1988,
          1989,
          1990,
          1991,
          1992,
          1993,
          1994,
          1995,
          1996,
          1997,
          1998,
          1999,
          2000,
          2001,
          2002,
          2003,
          2004,
          2005,
          2006,
          2007,
          2008,
          2009,
          2010,
          2011,
          2012
         ],
         "y": [
          -0.7236302521009295,
          -0.016190985485183162,
          -0.4587517188694372,
          -0.2113124522537193,
          -0.03387318563797326,
          -0.5264339190222271,
          -0.5489946524064804,
          0.24844461420923736,
          0.20588388082498366,
          0.3833231474407297,
          0.11076241405647558,
          -0.6717983193277783,
          -0.2543590527120605,
          0.8330802139036857,
          -0.1494805194805675,
          0.677958747135178,
          -0.29460198624910383,
          1.2928372803666424,
          0.49027654698238887,
          0.4277158135981347,
          0.09515508021385255,
          0.31259434682959863,
          0.8800336134453453,
          0.06747288006109109,
          0.4449121466768373,
          0.3923514132925554,
          -0.00020932009169882804,
          0.4472299465240477,
          -1.0553307868602069,
          -0.5478915202444883,
          0.1095477463712573,
          -0.19301298701299618,
          -0.4155737203972505,
          -1.3181344537815325
         ]
        },
        {
         "name": "y=0",
         "type": "scatter",
         "x": [
          1979,
          1980,
          1981,
          1982,
          1983,
          1984,
          1985,
          1986,
          1987,
          1988,
          1989,
          1990,
          1991,
          1992,
          1993,
          1994,
          1995,
          1996,
          1997,
          1998,
          1999,
          2000,
          2001,
          2002,
          2003,
          2004,
          2005,
          2006,
          2007,
          2008,
          2009,
          2010,
          2011,
          2012
         ],
         "y": [
          0,
          0,
          0,
          0,
          0,
          0,
          0,
          0,
          0,
          0,
          0,
          0,
          0,
          0,
          0,
          0,
          0,
          0,
          0,
          0,
          0,
          0,
          0,
          0,
          0,
          0,
          0,
          0,
          0,
          0,
          0,
          0,
          0,
          0
         ]
        }
       ],
       "layout": {
        "template": {
         "data": {
          "bar": [
           {
            "error_x": {
             "color": "#2a3f5f"
            },
            "error_y": {
             "color": "#2a3f5f"
            },
            "marker": {
             "line": {
              "color": "#E5ECF6",
              "width": 0.5
             }
            },
            "type": "bar"
           }
          ],
          "barpolar": [
           {
            "marker": {
             "line": {
              "color": "#E5ECF6",
              "width": 0.5
             }
            },
            "type": "barpolar"
           }
          ],
          "carpet": [
           {
            "aaxis": {
             "endlinecolor": "#2a3f5f",
             "gridcolor": "white",
             "linecolor": "white",
             "minorgridcolor": "white",
             "startlinecolor": "#2a3f5f"
            },
            "baxis": {
             "endlinecolor": "#2a3f5f",
             "gridcolor": "white",
             "linecolor": "white",
             "minorgridcolor": "white",
             "startlinecolor": "#2a3f5f"
            },
            "type": "carpet"
           }
          ],
          "choropleth": [
           {
            "colorbar": {
             "outlinewidth": 0,
             "ticks": ""
            },
            "type": "choropleth"
           }
          ],
          "contour": [
           {
            "colorbar": {
             "outlinewidth": 0,
             "ticks": ""
            },
            "colorscale": [
             [
              0,
              "#0d0887"
             ],
             [
              0.1111111111111111,
              "#46039f"
             ],
             [
              0.2222222222222222,
              "#7201a8"
             ],
             [
              0.3333333333333333,
              "#9c179e"
             ],
             [
              0.4444444444444444,
              "#bd3786"
             ],
             [
              0.5555555555555556,
              "#d8576b"
             ],
             [
              0.6666666666666666,
              "#ed7953"
             ],
             [
              0.7777777777777778,
              "#fb9f3a"
             ],
             [
              0.8888888888888888,
              "#fdca26"
             ],
             [
              1,
              "#f0f921"
             ]
            ],
            "type": "contour"
           }
          ],
          "contourcarpet": [
           {
            "colorbar": {
             "outlinewidth": 0,
             "ticks": ""
            },
            "type": "contourcarpet"
           }
          ],
          "heatmap": [
           {
            "colorbar": {
             "outlinewidth": 0,
             "ticks": ""
            },
            "colorscale": [
             [
              0,
              "#0d0887"
             ],
             [
              0.1111111111111111,
              "#46039f"
             ],
             [
              0.2222222222222222,
              "#7201a8"
             ],
             [
              0.3333333333333333,
              "#9c179e"
             ],
             [
              0.4444444444444444,
              "#bd3786"
             ],
             [
              0.5555555555555556,
              "#d8576b"
             ],
             [
              0.6666666666666666,
              "#ed7953"
             ],
             [
              0.7777777777777778,
              "#fb9f3a"
             ],
             [
              0.8888888888888888,
              "#fdca26"
             ],
             [
              1,
              "#f0f921"
             ]
            ],
            "type": "heatmap"
           }
          ],
          "heatmapgl": [
           {
            "colorbar": {
             "outlinewidth": 0,
             "ticks": ""
            },
            "colorscale": [
             [
              0,
              "#0d0887"
             ],
             [
              0.1111111111111111,
              "#46039f"
             ],
             [
              0.2222222222222222,
              "#7201a8"
             ],
             [
              0.3333333333333333,
              "#9c179e"
             ],
             [
              0.4444444444444444,
              "#bd3786"
             ],
             [
              0.5555555555555556,
              "#d8576b"
             ],
             [
              0.6666666666666666,
              "#ed7953"
             ],
             [
              0.7777777777777778,
              "#fb9f3a"
             ],
             [
              0.8888888888888888,
              "#fdca26"
             ],
             [
              1,
              "#f0f921"
             ]
            ],
            "type": "heatmapgl"
           }
          ],
          "histogram": [
           {
            "marker": {
             "colorbar": {
              "outlinewidth": 0,
              "ticks": ""
             }
            },
            "type": "histogram"
           }
          ],
          "histogram2d": [
           {
            "colorbar": {
             "outlinewidth": 0,
             "ticks": ""
            },
            "colorscale": [
             [
              0,
              "#0d0887"
             ],
             [
              0.1111111111111111,
              "#46039f"
             ],
             [
              0.2222222222222222,
              "#7201a8"
             ],
             [
              0.3333333333333333,
              "#9c179e"
             ],
             [
              0.4444444444444444,
              "#bd3786"
             ],
             [
              0.5555555555555556,
              "#d8576b"
             ],
             [
              0.6666666666666666,
              "#ed7953"
             ],
             [
              0.7777777777777778,
              "#fb9f3a"
             ],
             [
              0.8888888888888888,
              "#fdca26"
             ],
             [
              1,
              "#f0f921"
             ]
            ],
            "type": "histogram2d"
           }
          ],
          "histogram2dcontour": [
           {
            "colorbar": {
             "outlinewidth": 0,
             "ticks": ""
            },
            "colorscale": [
             [
              0,
              "#0d0887"
             ],
             [
              0.1111111111111111,
              "#46039f"
             ],
             [
              0.2222222222222222,
              "#7201a8"
             ],
             [
              0.3333333333333333,
              "#9c179e"
             ],
             [
              0.4444444444444444,
              "#bd3786"
             ],
             [
              0.5555555555555556,
              "#d8576b"
             ],
             [
              0.6666666666666666,
              "#ed7953"
             ],
             [
              0.7777777777777778,
              "#fb9f3a"
             ],
             [
              0.8888888888888888,
              "#fdca26"
             ],
             [
              1,
              "#f0f921"
             ]
            ],
            "type": "histogram2dcontour"
           }
          ],
          "mesh3d": [
           {
            "colorbar": {
             "outlinewidth": 0,
             "ticks": ""
            },
            "type": "mesh3d"
           }
          ],
          "parcoords": [
           {
            "line": {
             "colorbar": {
              "outlinewidth": 0,
              "ticks": ""
             }
            },
            "type": "parcoords"
           }
          ],
          "pie": [
           {
            "automargin": true,
            "type": "pie"
           }
          ],
          "scatter": [
           {
            "marker": {
             "colorbar": {
              "outlinewidth": 0,
              "ticks": ""
             }
            },
            "type": "scatter"
           }
          ],
          "scatter3d": [
           {
            "line": {
             "colorbar": {
              "outlinewidth": 0,
              "ticks": ""
             }
            },
            "marker": {
             "colorbar": {
              "outlinewidth": 0,
              "ticks": ""
             }
            },
            "type": "scatter3d"
           }
          ],
          "scattercarpet": [
           {
            "marker": {
             "colorbar": {
              "outlinewidth": 0,
              "ticks": ""
             }
            },
            "type": "scattercarpet"
           }
          ],
          "scattergeo": [
           {
            "marker": {
             "colorbar": {
              "outlinewidth": 0,
              "ticks": ""
             }
            },
            "type": "scattergeo"
           }
          ],
          "scattergl": [
           {
            "marker": {
             "colorbar": {
              "outlinewidth": 0,
              "ticks": ""
             }
            },
            "type": "scattergl"
           }
          ],
          "scattermapbox": [
           {
            "marker": {
             "colorbar": {
              "outlinewidth": 0,
              "ticks": ""
             }
            },
            "type": "scattermapbox"
           }
          ],
          "scatterpolar": [
           {
            "marker": {
             "colorbar": {
              "outlinewidth": 0,
              "ticks": ""
             }
            },
            "type": "scatterpolar"
           }
          ],
          "scatterpolargl": [
           {
            "marker": {
             "colorbar": {
              "outlinewidth": 0,
              "ticks": ""
             }
            },
            "type": "scatterpolargl"
           }
          ],
          "scatterternary": [
           {
            "marker": {
             "colorbar": {
              "outlinewidth": 0,
              "ticks": ""
             }
            },
            "type": "scatterternary"
           }
          ],
          "surface": [
           {
            "colorbar": {
             "outlinewidth": 0,
             "ticks": ""
            },
            "colorscale": [
             [
              0,
              "#0d0887"
             ],
             [
              0.1111111111111111,
              "#46039f"
             ],
             [
              0.2222222222222222,
              "#7201a8"
             ],
             [
              0.3333333333333333,
              "#9c179e"
             ],
             [
              0.4444444444444444,
              "#bd3786"
             ],
             [
              0.5555555555555556,
              "#d8576b"
             ],
             [
              0.6666666666666666,
              "#ed7953"
             ],
             [
              0.7777777777777778,
              "#fb9f3a"
             ],
             [
              0.8888888888888888,
              "#fdca26"
             ],
             [
              1,
              "#f0f921"
             ]
            ],
            "type": "surface"
           }
          ],
          "table": [
           {
            "cells": {
             "fill": {
              "color": "#EBF0F8"
             },
             "line": {
              "color": "white"
             }
            },
            "header": {
             "fill": {
              "color": "#C8D4E3"
             },
             "line": {
              "color": "white"
             }
            },
            "type": "table"
           }
          ]
         },
         "layout": {
          "annotationdefaults": {
           "arrowcolor": "#2a3f5f",
           "arrowhead": 0,
           "arrowwidth": 1
          },
          "autotypenumbers": "strict",
          "coloraxis": {
           "colorbar": {
            "outlinewidth": 0,
            "ticks": ""
           }
          },
          "colorscale": {
           "diverging": [
            [
             0,
             "#8e0152"
            ],
            [
             0.1,
             "#c51b7d"
            ],
            [
             0.2,
             "#de77ae"
            ],
            [
             0.3,
             "#f1b6da"
            ],
            [
             0.4,
             "#fde0ef"
            ],
            [
             0.5,
             "#f7f7f7"
            ],
            [
             0.6,
             "#e6f5d0"
            ],
            [
             0.7,
             "#b8e186"
            ],
            [
             0.8,
             "#7fbc41"
            ],
            [
             0.9,
             "#4d9221"
            ],
            [
             1,
             "#276419"
            ]
           ],
           "sequential": [
            [
             0,
             "#0d0887"
            ],
            [
             0.1111111111111111,
             "#46039f"
            ],
            [
             0.2222222222222222,
             "#7201a8"
            ],
            [
             0.3333333333333333,
             "#9c179e"
            ],
            [
             0.4444444444444444,
             "#bd3786"
            ],
            [
             0.5555555555555556,
             "#d8576b"
            ],
            [
             0.6666666666666666,
             "#ed7953"
            ],
            [
             0.7777777777777778,
             "#fb9f3a"
            ],
            [
             0.8888888888888888,
             "#fdca26"
            ],
            [
             1,
             "#f0f921"
            ]
           ],
           "sequentialminus": [
            [
             0,
             "#0d0887"
            ],
            [
             0.1111111111111111,
             "#46039f"
            ],
            [
             0.2222222222222222,
             "#7201a8"
            ],
            [
             0.3333333333333333,
             "#9c179e"
            ],
            [
             0.4444444444444444,
             "#bd3786"
            ],
            [
             0.5555555555555556,
             "#d8576b"
            ],
            [
             0.6666666666666666,
             "#ed7953"
            ],
            [
             0.7777777777777778,
             "#fb9f3a"
            ],
            [
             0.8888888888888888,
             "#fdca26"
            ],
            [
             1,
             "#f0f921"
            ]
           ]
          },
          "colorway": [
           "#636efa",
           "#EF553B",
           "#00cc96",
           "#ab63fa",
           "#FFA15A",
           "#19d3f3",
           "#FF6692",
           "#B6E880",
           "#FF97FF",
           "#FECB52"
          ],
          "font": {
           "color": "#2a3f5f"
          },
          "geo": {
           "bgcolor": "white",
           "lakecolor": "white",
           "landcolor": "#E5ECF6",
           "showlakes": true,
           "showland": true,
           "subunitcolor": "white"
          },
          "hoverlabel": {
           "align": "left"
          },
          "hovermode": "closest",
          "mapbox": {
           "style": "light"
          },
          "paper_bgcolor": "white",
          "plot_bgcolor": "#E5ECF6",
          "polar": {
           "angularaxis": {
            "gridcolor": "white",
            "linecolor": "white",
            "ticks": ""
           },
           "bgcolor": "#E5ECF6",
           "radialaxis": {
            "gridcolor": "white",
            "linecolor": "white",
            "ticks": ""
           }
          },
          "scene": {
           "xaxis": {
            "backgroundcolor": "#E5ECF6",
            "gridcolor": "white",
            "gridwidth": 2,
            "linecolor": "white",
            "showbackground": true,
            "ticks": "",
            "zerolinecolor": "white"
           },
           "yaxis": {
            "backgroundcolor": "#E5ECF6",
            "gridcolor": "white",
            "gridwidth": 2,
            "linecolor": "white",
            "showbackground": true,
            "ticks": "",
            "zerolinecolor": "white"
           },
           "zaxis": {
            "backgroundcolor": "#E5ECF6",
            "gridcolor": "white",
            "gridwidth": 2,
            "linecolor": "white",
            "showbackground": true,
            "ticks": "",
            "zerolinecolor": "white"
           }
          },
          "shapedefaults": {
           "line": {
            "color": "#2a3f5f"
           }
          },
          "ternary": {
           "aaxis": {
            "gridcolor": "white",
            "linecolor": "white",
            "ticks": ""
           },
           "baxis": {
            "gridcolor": "white",
            "linecolor": "white",
            "ticks": ""
           },
           "bgcolor": "#E5ECF6",
           "caxis": {
            "gridcolor": "white",
            "linecolor": "white",
            "ticks": ""
           }
          },
          "title": {
           "x": 0.05
          },
          "xaxis": {
           "automargin": true,
           "gridcolor": "white",
           "linecolor": "white",
           "ticks": "",
           "title": {
            "standoff": 15
           },
           "zerolinecolor": "white",
           "zerolinewidth": 2
          },
          "yaxis": {
           "automargin": true,
           "gridcolor": "white",
           "linecolor": "white",
           "ticks": "",
           "title": {
            "standoff": 15
           },
           "zerolinecolor": "white",
           "zerolinewidth": 2
          }
         }
        },
        "title": {
         "text": "Model Residual Plot of Year vs Ice Extent"
        },
        "xaxis": {
         "title": {
          "text": "Year"
         }
        },
        "yaxis": {
         "title": {
          "text": "Residuals"
         }
        }
       }
      }
     },
     "metadata": {}
    }
   ],
   "source": [
    "ice_df[\"residuals\"] = model.resid\n",
    "# This is just a straight line at y = 0 so we can more easily discern positive and negative residuals\n",
    "line_y = [0] * len(ice_df[\"Year\"])\n",
    "plot_scatter_and_line(ice_df[\"Year\"], ice_df[\"residuals\"], line_y, \"Model residuals\", \"y=0\", \"Model Residual Plot of Year vs Ice Extent\", \"Year\", \"Residuals\")"
   ]
  },
  {
   "cell_type": "markdown",
   "metadata": {},
   "source": [
    "From the principles we outlined above, you wouldn't be blamed for thinking we hit criteria 2 and 3 (we'll talk about criteria 1 next, and 4 later on). I would say that this data does exhibit homoscedasicity (criterion 3). Regarding criterion 2 - the statistical independance of residuals, at a first glance it does look like the residuals are independant. However, there is a very loose pattern of negative residuals followed by positive residuals followed negative, followed by positive. This could indicate some curvature in the relationship - something we'll investigate now.\n",
    "\n",
    "## \"Non-linear\"/Polynomial relationships\n",
    "\n",
    "It may not always be correct to assume a straight line/linear relationship between two variables. Considering this ice dataset, we may expect some curvature between the ice extent and year (global warming is more prevalent in recent years). We can use linear regression to model non-linear relationships (e.g. polynomial).\n",
    "\n",
    "I'm going to very slightly switch up notations to something we can use more generally for this notebook. $\\beta$ will generally refer to a parameter. $\\beta_b$ will refer to the bias, whereas $\\beta_\\cdot$ will refer to the respective weights/coefficients of our explanatory variables.Under this notation, we could model a quadratic relationship as (does this remind you of $Y = ax^2 + bx + c$? 😉):\n",
    "\n",
    "$$\n",
    "\\hat{y_i} = \\beta_1x_i^2 + \\beta_2x_i + \\beta_b + \\epsilon_{i}\n",
    "$$\n",
    "\n",
    "We'll form our null hypothesis, and then code this up!\n",
    "\n",
    "- H0: $\\beta_1 = 0$. There is no evidence of an accelerating decline of sea ice (i.e. no evidence of curvature)\n",
    "- Ha: $\\beta_1 \\neq 0$. There is evidence of an accelerating decline of sea ice (i.e. evidence of curvature)"
   ]
  },
  {
   "cell_type": "code",
   "execution_count": 11,
   "metadata": {},
   "outputs": [
    {
     "output_type": "execute_result",
     "data": {
      "text/plain": [
       "<class 'statsmodels.iolib.summary.Summary'>\n",
       "\"\"\"\n",
       "                            OLS Regression Results                            \n",
       "==============================================================================\n",
       "Dep. Variable:                 Extent   R-squared:                       0.817\n",
       "Model:                            OLS   Adj. R-squared:                  0.805\n",
       "Method:                 Least Squares   F-statistic:                     69.27\n",
       "Date:                Wed, 24 Mar 2021   Prob (F-statistic):           3.65e-12\n",
       "Time:                        18:33:10   Log-Likelihood:                -20.011\n",
       "No. Observations:                  34   AIC:                             46.02\n",
       "Df Residuals:                      31   BIC:                             50.60\n",
       "Df Model:                           2                                         \n",
       "Covariance Type:            nonrobust                                         \n",
       "==============================================================================\n",
       "                 coef    std err          t      P>|t|      [0.025      0.975]\n",
       "------------------------------------------------------------------------------\n",
       "Intercept      7.0851      0.222     31.959      0.000       6.633       7.537\n",
       "YearAdj        0.0417      0.031      1.340      0.190      -0.022       0.105\n",
       "YearAdj2      -0.0039      0.001     -4.297      0.000      -0.006      -0.002\n",
       "==============================================================================\n",
       "Omnibus:                        0.913   Durbin-Watson:                   2.274\n",
       "Prob(Omnibus):                  0.634   Jarque-Bera (JB):                0.902\n",
       "Skew:                          -0.349   Prob(JB):                        0.637\n",
       "Kurtosis:                       2.614   Cond. No.                     1.42e+03\n",
       "==============================================================================\n",
       "\n",
       "Warnings:\n",
       "[1] Standard Errors assume that the covariance matrix of the errors is correctly specified.\n",
       "[2] The condition number is large, 1.42e+03. This might indicate that there are\n",
       "strong multicollinearity or other numerical problems.\n",
       "\"\"\""
      ],
      "text/html": "<table class=\"simpletable\">\n<caption>OLS Regression Results</caption>\n<tr>\n  <th>Dep. Variable:</th>         <td>Extent</td>      <th>  R-squared:         </th> <td>   0.817</td>\n</tr>\n<tr>\n  <th>Model:</th>                   <td>OLS</td>       <th>  Adj. R-squared:    </th> <td>   0.805</td>\n</tr>\n<tr>\n  <th>Method:</th>             <td>Least Squares</td>  <th>  F-statistic:       </th> <td>   69.27</td>\n</tr>\n<tr>\n  <th>Date:</th>             <td>Wed, 24 Mar 2021</td> <th>  Prob (F-statistic):</th> <td>3.65e-12</td>\n</tr>\n<tr>\n  <th>Time:</th>                 <td>18:33:10</td>     <th>  Log-Likelihood:    </th> <td> -20.011</td>\n</tr>\n<tr>\n  <th>No. Observations:</th>      <td>    34</td>      <th>  AIC:               </th> <td>   46.02</td>\n</tr>\n<tr>\n  <th>Df Residuals:</th>          <td>    31</td>      <th>  BIC:               </th> <td>   50.60</td>\n</tr>\n<tr>\n  <th>Df Model:</th>              <td>     2</td>      <th>                     </th>     <td> </td>   \n</tr>\n<tr>\n  <th>Covariance Type:</th>      <td>nonrobust</td>    <th>                     </th>     <td> </td>   \n</tr>\n</table>\n<table class=\"simpletable\">\n<tr>\n      <td></td>         <th>coef</th>     <th>std err</th>      <th>t</th>      <th>P>|t|</th>  <th>[0.025</th>    <th>0.975]</th>  \n</tr>\n<tr>\n  <th>Intercept</th> <td>    7.0851</td> <td>    0.222</td> <td>   31.959</td> <td> 0.000</td> <td>    6.633</td> <td>    7.537</td>\n</tr>\n<tr>\n  <th>YearAdj</th>   <td>    0.0417</td> <td>    0.031</td> <td>    1.340</td> <td> 0.190</td> <td>   -0.022</td> <td>    0.105</td>\n</tr>\n<tr>\n  <th>YearAdj2</th>  <td>   -0.0039</td> <td>    0.001</td> <td>   -4.297</td> <td> 0.000</td> <td>   -0.006</td> <td>   -0.002</td>\n</tr>\n</table>\n<table class=\"simpletable\">\n<tr>\n  <th>Omnibus:</th>       <td> 0.913</td> <th>  Durbin-Watson:     </th> <td>   2.274</td>\n</tr>\n<tr>\n  <th>Prob(Omnibus):</th> <td> 0.634</td> <th>  Jarque-Bera (JB):  </th> <td>   0.902</td>\n</tr>\n<tr>\n  <th>Skew:</th>          <td>-0.349</td> <th>  Prob(JB):          </th> <td>   0.637</td>\n</tr>\n<tr>\n  <th>Kurtosis:</th>      <td> 2.614</td> <th>  Cond. No.          </th> <td>1.42e+03</td>\n</tr>\n</table><br/><br/>Warnings:<br/>[1] Standard Errors assume that the covariance matrix of the errors is correctly specified.<br/>[2] The condition number is large, 1.42e+03. This might indicate that there are<br/>strong multicollinearity or other numerical problems."
     },
     "metadata": {},
     "execution_count": 11
    }
   ],
   "source": [
    "## Create a new column in the dataframe called \"YearAdj2\" which contains the values of \"YearAdj\", but squared\n",
    "ice_df[\"YearAdj2\"] = ice_df[\"YearAdj\"]**2\n",
    "\n",
    "## Create a new OLS model which fits Extent vs both \"YearAdj\" and \"YearAdj2\".\n",
    "model2 = smf.ols(\"Extent ~ YearAdj + YearAdj2\", data=ice_df).fit()\n",
    "\n",
    "## Return the summary\n",
    "model2.summary()"
   ]
  },
  {
   "cell_type": "markdown",
   "metadata": {},
   "source": [
    "So we can see that our quadratic predication equation is now:\n",
    "$$\n",
    "\\hat{\\text{Extent}} = -0.0039\\text{Year}^2 + 0.0417\\text{Year} + 7.09 \n",
    "$$\n",
    "\n",
    "In the P>|t| column, we see that YearAdj2 significantly accounts for the relationship, meaning that we can reject the null hypothesis of there being no evidence of curvature. Despite YearAdj having an non-significtive effect on the modelled relationship, when testing the terms/coefficients in polynomial models, we only consider the term of the highest order (i.e. YearAdj2). If it turned out that the highest order polynomial was insignficant, then we are safe to drop that term. This is usually referred to **hierarchical model building**."
   ]
  },
  {
   "cell_type": "code",
   "execution_count": 12,
   "metadata": {},
   "outputs": [
    {
     "output_type": "display_data",
     "data": {
      "application/vnd.plotly.v1+json": {
       "config": {
        "plotlyServerURL": "https://plot.ly"
       },
       "data": [
        {
         "mode": "markers",
         "name": "Year vs Sea Ice Extent (million sq km)",
         "type": "scatter",
         "x": [
          1979,
          1980,
          1981,
          1982,
          1983,
          1984,
          1985,
          1986,
          1987,
          1988,
          1989,
          1990,
          1991,
          1992,
          1993,
          1994,
          1995,
          1996,
          1997,
          1998,
          1999,
          2000,
          2001,
          2002,
          2003,
          2004,
          2005,
          2006,
          2007,
          2008,
          2009,
          2010,
          2011,
          2012
         ],
         "y": [
          7.05,
          7.67,
          7.14,
          7.3,
          7.39,
          6.81,
          6.7,
          7.41,
          7.28,
          7.37,
          7.01,
          6.14,
          6.47,
          7.47,
          6.4,
          7.14,
          6.08,
          7.58,
          6.69,
          6.54,
          6.12,
          6.25,
          6.73,
          5.83,
          6.12,
          5.98,
          5.5,
          5.86,
          4.27,
          4.69,
          5.26,
          4.87,
          4.56,
          3.57
         ]
        },
        {
         "name": "Fitted Regression line",
         "type": "scatter",
         "x": [
          1979,
          1980,
          1981,
          1982,
          1983,
          1984,
          1985,
          1986,
          1987,
          1988,
          1989,
          1990,
          1991,
          1992,
          1993,
          1994,
          1995,
          1996,
          1997,
          1998,
          1999,
          2000,
          2001,
          2002,
          2003,
          2004,
          2005,
          2006,
          2007,
          2008,
          2009,
          2010,
          2011,
          2012
         ],
         "y": [
          7.085058823529415,
          7.122814362108483,
          7.152745225362875,
          7.174851413292592,
          7.189132925897634,
          7.195589763178001,
          7.194221925133693,
          7.1850294117647096,
          7.168012223071051,
          7.143170359052718,
          7.1105038197097095,
          7.070012605042025,
          7.021696715049666,
          6.965556149732633,
          6.901590909090924,
          6.829800993124539,
          6.75018640183348,
          6.662747135217746,
          6.5674831932773365,
          6.464394576012252,
          6.353481283422491,
          6.234743315508057,
          6.108180672268946,
          5.973793353705162,
          5.831581359816701,
          5.681544690603566,
          5.523683346065756,
          5.357997326203271,
          5.18448663101611,
          5.003151260504275,
          4.813991214667762,
          4.617006493506577,
          4.412197097020716,
          4.19956302521018
         ]
        }
       ],
       "layout": {
        "template": {
         "data": {
          "bar": [
           {
            "error_x": {
             "color": "#2a3f5f"
            },
            "error_y": {
             "color": "#2a3f5f"
            },
            "marker": {
             "line": {
              "color": "#E5ECF6",
              "width": 0.5
             }
            },
            "type": "bar"
           }
          ],
          "barpolar": [
           {
            "marker": {
             "line": {
              "color": "#E5ECF6",
              "width": 0.5
             }
            },
            "type": "barpolar"
           }
          ],
          "carpet": [
           {
            "aaxis": {
             "endlinecolor": "#2a3f5f",
             "gridcolor": "white",
             "linecolor": "white",
             "minorgridcolor": "white",
             "startlinecolor": "#2a3f5f"
            },
            "baxis": {
             "endlinecolor": "#2a3f5f",
             "gridcolor": "white",
             "linecolor": "white",
             "minorgridcolor": "white",
             "startlinecolor": "#2a3f5f"
            },
            "type": "carpet"
           }
          ],
          "choropleth": [
           {
            "colorbar": {
             "outlinewidth": 0,
             "ticks": ""
            },
            "type": "choropleth"
           }
          ],
          "contour": [
           {
            "colorbar": {
             "outlinewidth": 0,
             "ticks": ""
            },
            "colorscale": [
             [
              0,
              "#0d0887"
             ],
             [
              0.1111111111111111,
              "#46039f"
             ],
             [
              0.2222222222222222,
              "#7201a8"
             ],
             [
              0.3333333333333333,
              "#9c179e"
             ],
             [
              0.4444444444444444,
              "#bd3786"
             ],
             [
              0.5555555555555556,
              "#d8576b"
             ],
             [
              0.6666666666666666,
              "#ed7953"
             ],
             [
              0.7777777777777778,
              "#fb9f3a"
             ],
             [
              0.8888888888888888,
              "#fdca26"
             ],
             [
              1,
              "#f0f921"
             ]
            ],
            "type": "contour"
           }
          ],
          "contourcarpet": [
           {
            "colorbar": {
             "outlinewidth": 0,
             "ticks": ""
            },
            "type": "contourcarpet"
           }
          ],
          "heatmap": [
           {
            "colorbar": {
             "outlinewidth": 0,
             "ticks": ""
            },
            "colorscale": [
             [
              0,
              "#0d0887"
             ],
             [
              0.1111111111111111,
              "#46039f"
             ],
             [
              0.2222222222222222,
              "#7201a8"
             ],
             [
              0.3333333333333333,
              "#9c179e"
             ],
             [
              0.4444444444444444,
              "#bd3786"
             ],
             [
              0.5555555555555556,
              "#d8576b"
             ],
             [
              0.6666666666666666,
              "#ed7953"
             ],
             [
              0.7777777777777778,
              "#fb9f3a"
             ],
             [
              0.8888888888888888,
              "#fdca26"
             ],
             [
              1,
              "#f0f921"
             ]
            ],
            "type": "heatmap"
           }
          ],
          "heatmapgl": [
           {
            "colorbar": {
             "outlinewidth": 0,
             "ticks": ""
            },
            "colorscale": [
             [
              0,
              "#0d0887"
             ],
             [
              0.1111111111111111,
              "#46039f"
             ],
             [
              0.2222222222222222,
              "#7201a8"
             ],
             [
              0.3333333333333333,
              "#9c179e"
             ],
             [
              0.4444444444444444,
              "#bd3786"
             ],
             [
              0.5555555555555556,
              "#d8576b"
             ],
             [
              0.6666666666666666,
              "#ed7953"
             ],
             [
              0.7777777777777778,
              "#fb9f3a"
             ],
             [
              0.8888888888888888,
              "#fdca26"
             ],
             [
              1,
              "#f0f921"
             ]
            ],
            "type": "heatmapgl"
           }
          ],
          "histogram": [
           {
            "marker": {
             "colorbar": {
              "outlinewidth": 0,
              "ticks": ""
             }
            },
            "type": "histogram"
           }
          ],
          "histogram2d": [
           {
            "colorbar": {
             "outlinewidth": 0,
             "ticks": ""
            },
            "colorscale": [
             [
              0,
              "#0d0887"
             ],
             [
              0.1111111111111111,
              "#46039f"
             ],
             [
              0.2222222222222222,
              "#7201a8"
             ],
             [
              0.3333333333333333,
              "#9c179e"
             ],
             [
              0.4444444444444444,
              "#bd3786"
             ],
             [
              0.5555555555555556,
              "#d8576b"
             ],
             [
              0.6666666666666666,
              "#ed7953"
             ],
             [
              0.7777777777777778,
              "#fb9f3a"
             ],
             [
              0.8888888888888888,
              "#fdca26"
             ],
             [
              1,
              "#f0f921"
             ]
            ],
            "type": "histogram2d"
           }
          ],
          "histogram2dcontour": [
           {
            "colorbar": {
             "outlinewidth": 0,
             "ticks": ""
            },
            "colorscale": [
             [
              0,
              "#0d0887"
             ],
             [
              0.1111111111111111,
              "#46039f"
             ],
             [
              0.2222222222222222,
              "#7201a8"
             ],
             [
              0.3333333333333333,
              "#9c179e"
             ],
             [
              0.4444444444444444,
              "#bd3786"
             ],
             [
              0.5555555555555556,
              "#d8576b"
             ],
             [
              0.6666666666666666,
              "#ed7953"
             ],
             [
              0.7777777777777778,
              "#fb9f3a"
             ],
             [
              0.8888888888888888,
              "#fdca26"
             ],
             [
              1,
              "#f0f921"
             ]
            ],
            "type": "histogram2dcontour"
           }
          ],
          "mesh3d": [
           {
            "colorbar": {
             "outlinewidth": 0,
             "ticks": ""
            },
            "type": "mesh3d"
           }
          ],
          "parcoords": [
           {
            "line": {
             "colorbar": {
              "outlinewidth": 0,
              "ticks": ""
             }
            },
            "type": "parcoords"
           }
          ],
          "pie": [
           {
            "automargin": true,
            "type": "pie"
           }
          ],
          "scatter": [
           {
            "marker": {
             "colorbar": {
              "outlinewidth": 0,
              "ticks": ""
             }
            },
            "type": "scatter"
           }
          ],
          "scatter3d": [
           {
            "line": {
             "colorbar": {
              "outlinewidth": 0,
              "ticks": ""
             }
            },
            "marker": {
             "colorbar": {
              "outlinewidth": 0,
              "ticks": ""
             }
            },
            "type": "scatter3d"
           }
          ],
          "scattercarpet": [
           {
            "marker": {
             "colorbar": {
              "outlinewidth": 0,
              "ticks": ""
             }
            },
            "type": "scattercarpet"
           }
          ],
          "scattergeo": [
           {
            "marker": {
             "colorbar": {
              "outlinewidth": 0,
              "ticks": ""
             }
            },
            "type": "scattergeo"
           }
          ],
          "scattergl": [
           {
            "marker": {
             "colorbar": {
              "outlinewidth": 0,
              "ticks": ""
             }
            },
            "type": "scattergl"
           }
          ],
          "scattermapbox": [
           {
            "marker": {
             "colorbar": {
              "outlinewidth": 0,
              "ticks": ""
             }
            },
            "type": "scattermapbox"
           }
          ],
          "scatterpolar": [
           {
            "marker": {
             "colorbar": {
              "outlinewidth": 0,
              "ticks": ""
             }
            },
            "type": "scatterpolar"
           }
          ],
          "scatterpolargl": [
           {
            "marker": {
             "colorbar": {
              "outlinewidth": 0,
              "ticks": ""
             }
            },
            "type": "scatterpolargl"
           }
          ],
          "scatterternary": [
           {
            "marker": {
             "colorbar": {
              "outlinewidth": 0,
              "ticks": ""
             }
            },
            "type": "scatterternary"
           }
          ],
          "surface": [
           {
            "colorbar": {
             "outlinewidth": 0,
             "ticks": ""
            },
            "colorscale": [
             [
              0,
              "#0d0887"
             ],
             [
              0.1111111111111111,
              "#46039f"
             ],
             [
              0.2222222222222222,
              "#7201a8"
             ],
             [
              0.3333333333333333,
              "#9c179e"
             ],
             [
              0.4444444444444444,
              "#bd3786"
             ],
             [
              0.5555555555555556,
              "#d8576b"
             ],
             [
              0.6666666666666666,
              "#ed7953"
             ],
             [
              0.7777777777777778,
              "#fb9f3a"
             ],
             [
              0.8888888888888888,
              "#fdca26"
             ],
             [
              1,
              "#f0f921"
             ]
            ],
            "type": "surface"
           }
          ],
          "table": [
           {
            "cells": {
             "fill": {
              "color": "#EBF0F8"
             },
             "line": {
              "color": "white"
             }
            },
            "header": {
             "fill": {
              "color": "#C8D4E3"
             },
             "line": {
              "color": "white"
             }
            },
            "type": "table"
           }
          ]
         },
         "layout": {
          "annotationdefaults": {
           "arrowcolor": "#2a3f5f",
           "arrowhead": 0,
           "arrowwidth": 1
          },
          "autotypenumbers": "strict",
          "coloraxis": {
           "colorbar": {
            "outlinewidth": 0,
            "ticks": ""
           }
          },
          "colorscale": {
           "diverging": [
            [
             0,
             "#8e0152"
            ],
            [
             0.1,
             "#c51b7d"
            ],
            [
             0.2,
             "#de77ae"
            ],
            [
             0.3,
             "#f1b6da"
            ],
            [
             0.4,
             "#fde0ef"
            ],
            [
             0.5,
             "#f7f7f7"
            ],
            [
             0.6,
             "#e6f5d0"
            ],
            [
             0.7,
             "#b8e186"
            ],
            [
             0.8,
             "#7fbc41"
            ],
            [
             0.9,
             "#4d9221"
            ],
            [
             1,
             "#276419"
            ]
           ],
           "sequential": [
            [
             0,
             "#0d0887"
            ],
            [
             0.1111111111111111,
             "#46039f"
            ],
            [
             0.2222222222222222,
             "#7201a8"
            ],
            [
             0.3333333333333333,
             "#9c179e"
            ],
            [
             0.4444444444444444,
             "#bd3786"
            ],
            [
             0.5555555555555556,
             "#d8576b"
            ],
            [
             0.6666666666666666,
             "#ed7953"
            ],
            [
             0.7777777777777778,
             "#fb9f3a"
            ],
            [
             0.8888888888888888,
             "#fdca26"
            ],
            [
             1,
             "#f0f921"
            ]
           ],
           "sequentialminus": [
            [
             0,
             "#0d0887"
            ],
            [
             0.1111111111111111,
             "#46039f"
            ],
            [
             0.2222222222222222,
             "#7201a8"
            ],
            [
             0.3333333333333333,
             "#9c179e"
            ],
            [
             0.4444444444444444,
             "#bd3786"
            ],
            [
             0.5555555555555556,
             "#d8576b"
            ],
            [
             0.6666666666666666,
             "#ed7953"
            ],
            [
             0.7777777777777778,
             "#fb9f3a"
            ],
            [
             0.8888888888888888,
             "#fdca26"
            ],
            [
             1,
             "#f0f921"
            ]
           ]
          },
          "colorway": [
           "#636efa",
           "#EF553B",
           "#00cc96",
           "#ab63fa",
           "#FFA15A",
           "#19d3f3",
           "#FF6692",
           "#B6E880",
           "#FF97FF",
           "#FECB52"
          ],
          "font": {
           "color": "#2a3f5f"
          },
          "geo": {
           "bgcolor": "white",
           "lakecolor": "white",
           "landcolor": "#E5ECF6",
           "showlakes": true,
           "showland": true,
           "subunitcolor": "white"
          },
          "hoverlabel": {
           "align": "left"
          },
          "hovermode": "closest",
          "mapbox": {
           "style": "light"
          },
          "paper_bgcolor": "white",
          "plot_bgcolor": "#E5ECF6",
          "polar": {
           "angularaxis": {
            "gridcolor": "white",
            "linecolor": "white",
            "ticks": ""
           },
           "bgcolor": "#E5ECF6",
           "radialaxis": {
            "gridcolor": "white",
            "linecolor": "white",
            "ticks": ""
           }
          },
          "scene": {
           "xaxis": {
            "backgroundcolor": "#E5ECF6",
            "gridcolor": "white",
            "gridwidth": 2,
            "linecolor": "white",
            "showbackground": true,
            "ticks": "",
            "zerolinecolor": "white"
           },
           "yaxis": {
            "backgroundcolor": "#E5ECF6",
            "gridcolor": "white",
            "gridwidth": 2,
            "linecolor": "white",
            "showbackground": true,
            "ticks": "",
            "zerolinecolor": "white"
           },
           "zaxis": {
            "backgroundcolor": "#E5ECF6",
            "gridcolor": "white",
            "gridwidth": 2,
            "linecolor": "white",
            "showbackground": true,
            "ticks": "",
            "zerolinecolor": "white"
           }
          },
          "shapedefaults": {
           "line": {
            "color": "#2a3f5f"
           }
          },
          "ternary": {
           "aaxis": {
            "gridcolor": "white",
            "linecolor": "white",
            "ticks": ""
           },
           "baxis": {
            "gridcolor": "white",
            "linecolor": "white",
            "ticks": ""
           },
           "bgcolor": "#E5ECF6",
           "caxis": {
            "gridcolor": "white",
            "linecolor": "white",
            "ticks": ""
           }
          },
          "title": {
           "x": 0.05
          },
          "xaxis": {
           "automargin": true,
           "gridcolor": "white",
           "linecolor": "white",
           "ticks": "",
           "title": {
            "standoff": 15
           },
           "zerolinecolor": "white",
           "zerolinewidth": 2
          },
          "yaxis": {
           "automargin": true,
           "gridcolor": "white",
           "linecolor": "white",
           "ticks": "",
           "title": {
            "standoff": 15
           },
           "zerolinecolor": "white",
           "zerolinewidth": 2
          }
         }
        },
        "title": {
         "text": "Polynomial Regression line of Year vs Sea Ice Extent (million sq km)"
        },
        "xaxis": {
         "title": {
          "text": "Year"
         }
        },
        "yaxis": {
         "title": {
          "text": "Extent"
         }
        }
       }
      }
     },
     "metadata": {}
    }
   ],
   "source": [
    "plot_scatter_and_line(ice_df[\"Year\"], ice_df[\"Extent\"], model2.fittedvalues, \"Year vs Sea Ice Extent (million sq km)\", \"Fitted Regression line\", \"Polynomial Regression line of Year vs Sea Ice Extent (million sq km)\", \"Year\", \"Extent\")"
   ]
  },
  {
   "source": [
    "## Second dataset"
   ],
   "cell_type": "markdown",
   "metadata": {}
  },
  {
   "cell_type": "markdown",
   "metadata": {},
   "source": [
    "As a quick example of showing when we can fail to reject the null hypothesis (remember that we can't ever 'accept' a null hypothesis) is performing the above procedures but on a sea ice dataset up to this current year. We'll look just at the polynomial case here, thus forming our hypothesis':\n",
    "\n",
    "- H0: $\\beta_1 = 0$. There is no evidence of an accelerating decline of sea ice (i.e. no evidence of curvature)\n",
    "- Ha: $\\beta_1 \\neq 0$. There is evidence of an accelerating decline of sea ice (i.e. evidence of curvature)"
   ]
  },
  {
   "cell_type": "code",
   "execution_count": 13,
   "metadata": {},
   "outputs": [
    {
     "output_type": "execute_result",
     "data": {
      "text/plain": [
       "    Year  Extent  YearAdj\n",
       "0   1979    7.05        0\n",
       "1   1980    7.67        1\n",
       "2   1981    7.14        2\n",
       "3   1982    7.30        3\n",
       "4   1983    7.39        4\n",
       "5   1984    6.81        5\n",
       "6   1985    6.70        6\n",
       "7   1986    7.41        7\n",
       "8   1987    7.28        8\n",
       "9   1988    7.37        9\n",
       "10  1989    7.01       10\n",
       "11  1990    6.14       11\n",
       "12  1991    6.47       12\n",
       "13  1992    7.47       13\n",
       "14  1993    6.40       14\n",
       "15  1994    7.14       15\n",
       "16  1995    6.08       16\n",
       "17  1996    7.58       17\n",
       "18  1997    6.69       18\n",
       "19  1998    6.54       19\n",
       "20  1999    6.12       20\n",
       "21  2000    6.25       21\n",
       "22  2001    6.73       22\n",
       "23  2002    5.83       23\n",
       "24  2003    6.12       24\n",
       "25  2004    5.98       25\n",
       "26  2005    5.50       26\n",
       "27  2006    5.86       27\n",
       "28  2007    4.27       28\n",
       "29  2008    4.69       29\n",
       "30  2009    5.26       30\n",
       "31  2010    4.87       31\n",
       "32  2011    4.56       32\n",
       "33  2012    3.57       33\n",
       "34  2013    5.21       34\n",
       "35  2014    5.22       35\n",
       "36  2015    4.62       36\n",
       "37  2016    4.53       37\n",
       "38  2017    4.82       38\n",
       "39  2018    4.79       39\n",
       "40  2019    4.36       40"
      ],
      "text/html": "<div>\n<style scoped>\n    .dataframe tbody tr th:only-of-type {\n        vertical-align: middle;\n    }\n\n    .dataframe tbody tr th {\n        vertical-align: top;\n    }\n\n    .dataframe thead th {\n        text-align: right;\n    }\n</style>\n<table border=\"1\" class=\"dataframe\">\n  <thead>\n    <tr style=\"text-align: right;\">\n      <th></th>\n      <th>Year</th>\n      <th>Extent</th>\n      <th>YearAdj</th>\n    </tr>\n  </thead>\n  <tbody>\n    <tr>\n      <th>0</th>\n      <td>1979</td>\n      <td>7.05</td>\n      <td>0</td>\n    </tr>\n    <tr>\n      <th>1</th>\n      <td>1980</td>\n      <td>7.67</td>\n      <td>1</td>\n    </tr>\n    <tr>\n      <th>2</th>\n      <td>1981</td>\n      <td>7.14</td>\n      <td>2</td>\n    </tr>\n    <tr>\n      <th>3</th>\n      <td>1982</td>\n      <td>7.30</td>\n      <td>3</td>\n    </tr>\n    <tr>\n      <th>4</th>\n      <td>1983</td>\n      <td>7.39</td>\n      <td>4</td>\n    </tr>\n    <tr>\n      <th>5</th>\n      <td>1984</td>\n      <td>6.81</td>\n      <td>5</td>\n    </tr>\n    <tr>\n      <th>6</th>\n      <td>1985</td>\n      <td>6.70</td>\n      <td>6</td>\n    </tr>\n    <tr>\n      <th>7</th>\n      <td>1986</td>\n      <td>7.41</td>\n      <td>7</td>\n    </tr>\n    <tr>\n      <th>8</th>\n      <td>1987</td>\n      <td>7.28</td>\n      <td>8</td>\n    </tr>\n    <tr>\n      <th>9</th>\n      <td>1988</td>\n      <td>7.37</td>\n      <td>9</td>\n    </tr>\n    <tr>\n      <th>10</th>\n      <td>1989</td>\n      <td>7.01</td>\n      <td>10</td>\n    </tr>\n    <tr>\n      <th>11</th>\n      <td>1990</td>\n      <td>6.14</td>\n      <td>11</td>\n    </tr>\n    <tr>\n      <th>12</th>\n      <td>1991</td>\n      <td>6.47</td>\n      <td>12</td>\n    </tr>\n    <tr>\n      <th>13</th>\n      <td>1992</td>\n      <td>7.47</td>\n      <td>13</td>\n    </tr>\n    <tr>\n      <th>14</th>\n      <td>1993</td>\n      <td>6.40</td>\n      <td>14</td>\n    </tr>\n    <tr>\n      <th>15</th>\n      <td>1994</td>\n      <td>7.14</td>\n      <td>15</td>\n    </tr>\n    <tr>\n      <th>16</th>\n      <td>1995</td>\n      <td>6.08</td>\n      <td>16</td>\n    </tr>\n    <tr>\n      <th>17</th>\n      <td>1996</td>\n      <td>7.58</td>\n      <td>17</td>\n    </tr>\n    <tr>\n      <th>18</th>\n      <td>1997</td>\n      <td>6.69</td>\n      <td>18</td>\n    </tr>\n    <tr>\n      <th>19</th>\n      <td>1998</td>\n      <td>6.54</td>\n      <td>19</td>\n    </tr>\n    <tr>\n      <th>20</th>\n      <td>1999</td>\n      <td>6.12</td>\n      <td>20</td>\n    </tr>\n    <tr>\n      <th>21</th>\n      <td>2000</td>\n      <td>6.25</td>\n      <td>21</td>\n    </tr>\n    <tr>\n      <th>22</th>\n      <td>2001</td>\n      <td>6.73</td>\n      <td>22</td>\n    </tr>\n    <tr>\n      <th>23</th>\n      <td>2002</td>\n      <td>5.83</td>\n      <td>23</td>\n    </tr>\n    <tr>\n      <th>24</th>\n      <td>2003</td>\n      <td>6.12</td>\n      <td>24</td>\n    </tr>\n    <tr>\n      <th>25</th>\n      <td>2004</td>\n      <td>5.98</td>\n      <td>25</td>\n    </tr>\n    <tr>\n      <th>26</th>\n      <td>2005</td>\n      <td>5.50</td>\n      <td>26</td>\n    </tr>\n    <tr>\n      <th>27</th>\n      <td>2006</td>\n      <td>5.86</td>\n      <td>27</td>\n    </tr>\n    <tr>\n      <th>28</th>\n      <td>2007</td>\n      <td>4.27</td>\n      <td>28</td>\n    </tr>\n    <tr>\n      <th>29</th>\n      <td>2008</td>\n      <td>4.69</td>\n      <td>29</td>\n    </tr>\n    <tr>\n      <th>30</th>\n      <td>2009</td>\n      <td>5.26</td>\n      <td>30</td>\n    </tr>\n    <tr>\n      <th>31</th>\n      <td>2010</td>\n      <td>4.87</td>\n      <td>31</td>\n    </tr>\n    <tr>\n      <th>32</th>\n      <td>2011</td>\n      <td>4.56</td>\n      <td>32</td>\n    </tr>\n    <tr>\n      <th>33</th>\n      <td>2012</td>\n      <td>3.57</td>\n      <td>33</td>\n    </tr>\n    <tr>\n      <th>34</th>\n      <td>2013</td>\n      <td>5.21</td>\n      <td>34</td>\n    </tr>\n    <tr>\n      <th>35</th>\n      <td>2014</td>\n      <td>5.22</td>\n      <td>35</td>\n    </tr>\n    <tr>\n      <th>36</th>\n      <td>2015</td>\n      <td>4.62</td>\n      <td>36</td>\n    </tr>\n    <tr>\n      <th>37</th>\n      <td>2016</td>\n      <td>4.53</td>\n      <td>37</td>\n    </tr>\n    <tr>\n      <th>38</th>\n      <td>2017</td>\n      <td>4.82</td>\n      <td>38</td>\n    </tr>\n    <tr>\n      <th>39</th>\n      <td>2018</td>\n      <td>4.79</td>\n      <td>39</td>\n    </tr>\n    <tr>\n      <th>40</th>\n      <td>2019</td>\n      <td>4.36</td>\n      <td>40</td>\n    </tr>\n  </tbody>\n</table>\n</div>"
     },
     "metadata": {},
     "execution_count": 13
    }
   ],
   "source": [
    "years_range = list(range(1979, 2020))\n",
    "extent = [7.05, 7.67, 7.14, 7.3, 7.39, 6.81, 6.7, 7.41, 7.28, 7.37, 7.01, 6.14, 6.47, 7.47, 6.4, 7.14, 6.08, 7.58, 6.69, 6.54, 6.12, 6.25, 6.73, 5.83, 6.12, 5.98, 5.5, 5.86, 4.27, 4.69, 5.26, 4.87, 4.56, 3.57, 5.21, 5.22, 4.62, 4.53, 4.82, 4.79, 4.36]\n",
    "curr_ice_df = pd.DataFrame(list(zip(years_range, extent)), columns=[\"Year\", \"Extent\"])\n",
    "curr_ice_df[\"YearAdj\"] = curr_ice_df[\"Year\"] - 1979\n",
    "curr_ice_df"
   ]
  },
  {
   "cell_type": "code",
   "execution_count": 14,
   "metadata": {},
   "outputs": [
    {
     "output_type": "execute_result",
     "data": {
      "text/plain": [
       "<class 'statsmodels.iolib.summary.Summary'>\n",
       "\"\"\"\n",
       "                            OLS Regression Results                            \n",
       "==============================================================================\n",
       "Dep. Variable:                 Extent   R-squared:                       0.799\n",
       "Model:                            OLS   Adj. R-squared:                  0.789\n",
       "Method:                 Least Squares   F-statistic:                     75.58\n",
       "Date:                Wed, 24 Mar 2021   Prob (F-statistic):           5.70e-14\n",
       "Time:                        18:37:36   Log-Likelihood:                -29.220\n",
       "No. Observations:                  41   AIC:                             64.44\n",
       "Df Residuals:                      38   BIC:                             69.58\n",
       "Df Model:                           2                                         \n",
       "Covariance Type:            nonrobust                                         \n",
       "==============================================================================\n",
       "                 coef    std err          t      P>|t|      [0.025      0.975]\n",
       "------------------------------------------------------------------------------\n",
       "Intercept      7.4163      0.229     32.399      0.000       6.953       7.880\n",
       "YearAdj       -0.0365      0.026     -1.378      0.176      -0.090       0.017\n",
       "YearAdj2      -0.0011      0.001     -1.790      0.081      -0.002       0.000\n",
       "==============================================================================\n",
       "Omnibus:                        4.969   Durbin-Watson:                   1.855\n",
       "Prob(Omnibus):                  0.083   Jarque-Bera (JB):                3.636\n",
       "Skew:                          -0.617   Prob(JB):                        0.162\n",
       "Kurtosis:                       3.777   Cond. No.                     2.10e+03\n",
       "==============================================================================\n",
       "\n",
       "Warnings:\n",
       "[1] Standard Errors assume that the covariance matrix of the errors is correctly specified.\n",
       "[2] The condition number is large, 2.1e+03. This might indicate that there are\n",
       "strong multicollinearity or other numerical problems.\n",
       "\"\"\""
      ],
      "text/html": "<table class=\"simpletable\">\n<caption>OLS Regression Results</caption>\n<tr>\n  <th>Dep. Variable:</th>         <td>Extent</td>      <th>  R-squared:         </th> <td>   0.799</td>\n</tr>\n<tr>\n  <th>Model:</th>                   <td>OLS</td>       <th>  Adj. R-squared:    </th> <td>   0.789</td>\n</tr>\n<tr>\n  <th>Method:</th>             <td>Least Squares</td>  <th>  F-statistic:       </th> <td>   75.58</td>\n</tr>\n<tr>\n  <th>Date:</th>             <td>Wed, 24 Mar 2021</td> <th>  Prob (F-statistic):</th> <td>5.70e-14</td>\n</tr>\n<tr>\n  <th>Time:</th>                 <td>18:37:36</td>     <th>  Log-Likelihood:    </th> <td> -29.220</td>\n</tr>\n<tr>\n  <th>No. Observations:</th>      <td>    41</td>      <th>  AIC:               </th> <td>   64.44</td>\n</tr>\n<tr>\n  <th>Df Residuals:</th>          <td>    38</td>      <th>  BIC:               </th> <td>   69.58</td>\n</tr>\n<tr>\n  <th>Df Model:</th>              <td>     2</td>      <th>                     </th>     <td> </td>   \n</tr>\n<tr>\n  <th>Covariance Type:</th>      <td>nonrobust</td>    <th>                     </th>     <td> </td>   \n</tr>\n</table>\n<table class=\"simpletable\">\n<tr>\n      <td></td>         <th>coef</th>     <th>std err</th>      <th>t</th>      <th>P>|t|</th>  <th>[0.025</th>    <th>0.975]</th>  \n</tr>\n<tr>\n  <th>Intercept</th> <td>    7.4163</td> <td>    0.229</td> <td>   32.399</td> <td> 0.000</td> <td>    6.953</td> <td>    7.880</td>\n</tr>\n<tr>\n  <th>YearAdj</th>   <td>   -0.0365</td> <td>    0.026</td> <td>   -1.378</td> <td> 0.176</td> <td>   -0.090</td> <td>    0.017</td>\n</tr>\n<tr>\n  <th>YearAdj2</th>  <td>   -0.0011</td> <td>    0.001</td> <td>   -1.790</td> <td> 0.081</td> <td>   -0.002</td> <td>    0.000</td>\n</tr>\n</table>\n<table class=\"simpletable\">\n<tr>\n  <th>Omnibus:</th>       <td> 4.969</td> <th>  Durbin-Watson:     </th> <td>   1.855</td>\n</tr>\n<tr>\n  <th>Prob(Omnibus):</th> <td> 0.083</td> <th>  Jarque-Bera (JB):  </th> <td>   3.636</td>\n</tr>\n<tr>\n  <th>Skew:</th>          <td>-0.617</td> <th>  Prob(JB):          </th> <td>   0.162</td>\n</tr>\n<tr>\n  <th>Kurtosis:</th>      <td> 3.777</td> <th>  Cond. No.          </th> <td>2.10e+03</td>\n</tr>\n</table><br/><br/>Warnings:<br/>[1] Standard Errors assume that the covariance matrix of the errors is correctly specified.<br/>[2] The condition number is large, 2.1e+03. This might indicate that there are<br/>strong multicollinearity or other numerical problems."
     },
     "metadata": {},
     "execution_count": 14
    }
   ],
   "source": [
    "curr_ice_df[\"YearAdj2\"] = curr_ice_df[\"YearAdj\"]**2\n",
    "model3 = smf.ols(\"Extent ~ YearAdj + YearAdj2\", data=curr_ice_df).fit()\n",
    "model3.summary()"
   ]
  },
  {
   "cell_type": "markdown",
   "metadata": {},
   "source": [
    "Above, we see that adding in a squared polynomial term to our Year provides us with a p value of 0.081. Using $\\alpha = 0.05$, this shows that the YearAdj2 term is insignificant, thereby motivating us to **fail to reject the null hypothesis**. If, however, we'd used an $\\alpha$ threshold of 0.1, we would have been able to reject the null hypothesis.\n",
    "\n",
    "## Residual sum/mean of squares\n",
    "\n",
    "Recall that in linear regression we are typically minimising the mean squared error (equivalently known as the sum of squared residuals). A metric that we can use to report how well our regression model performs is the $R^2$ metric - which is the measure of proportion of variance explained by a model. It is calculated by comparing a fitted model against a model which only fits against the mean. Visually,\n",
    "\n",
    "<img src=\"images/r2_example.png\" style=\"width:50%\"></img>\n",
    "[Source](https://en.wikipedia.org/wiki/Coefficient_of_determination)\n",
    "\n",
    "Since the regression line does not miss any of the points by very much, the $R^2$ of the regression is relatively high.\n",
    "\n",
    "Calculating the $R^2$ is relatively simple:\n",
    "$$\n",
    "R^2 \\equiv \\frac{\\text{MSE}_{mean} - \\text{MSE}_{model}}{\\text{MSE}_{mean}}\n",
    "$$\n",
    "\n",
    "Continuing using the quadratic `model2` variable we introduced previously, we will calculate the $R^2$ value."
   ]
  },
  {
   "cell_type": "code",
   "execution_count": 15,
   "metadata": {},
   "outputs": [
    {
     "output_type": "execute_result",
     "data": {
      "text/plain": [
       "<class 'statsmodels.iolib.summary.Summary'>\n",
       "\"\"\"\n",
       "                            OLS Regression Results                            \n",
       "==============================================================================\n",
       "Dep. Variable:                 Extent   R-squared:                       0.817\n",
       "Model:                            OLS   Adj. R-squared:                  0.805\n",
       "Method:                 Least Squares   F-statistic:                     69.27\n",
       "Date:                Wed, 24 Mar 2021   Prob (F-statistic):           3.65e-12\n",
       "Time:                        18:39:30   Log-Likelihood:                -20.011\n",
       "No. Observations:                  34   AIC:                             46.02\n",
       "Df Residuals:                      31   BIC:                             50.60\n",
       "Df Model:                           2                                         \n",
       "Covariance Type:            nonrobust                                         \n",
       "==============================================================================\n",
       "                 coef    std err          t      P>|t|      [0.025      0.975]\n",
       "------------------------------------------------------------------------------\n",
       "Intercept      7.0851      0.222     31.959      0.000       6.633       7.537\n",
       "YearAdj        0.0417      0.031      1.340      0.190      -0.022       0.105\n",
       "YearAdj2      -0.0039      0.001     -4.297      0.000      -0.006      -0.002\n",
       "==============================================================================\n",
       "Omnibus:                        0.913   Durbin-Watson:                   2.274\n",
       "Prob(Omnibus):                  0.634   Jarque-Bera (JB):                0.902\n",
       "Skew:                          -0.349   Prob(JB):                        0.637\n",
       "Kurtosis:                       2.614   Cond. No.                     1.42e+03\n",
       "==============================================================================\n",
       "\n",
       "Warnings:\n",
       "[1] Standard Errors assume that the covariance matrix of the errors is correctly specified.\n",
       "[2] The condition number is large, 1.42e+03. This might indicate that there are\n",
       "strong multicollinearity or other numerical problems.\n",
       "\"\"\""
      ],
      "text/html": "<table class=\"simpletable\">\n<caption>OLS Regression Results</caption>\n<tr>\n  <th>Dep. Variable:</th>         <td>Extent</td>      <th>  R-squared:         </th> <td>   0.817</td>\n</tr>\n<tr>\n  <th>Model:</th>                   <td>OLS</td>       <th>  Adj. R-squared:    </th> <td>   0.805</td>\n</tr>\n<tr>\n  <th>Method:</th>             <td>Least Squares</td>  <th>  F-statistic:       </th> <td>   69.27</td>\n</tr>\n<tr>\n  <th>Date:</th>             <td>Wed, 24 Mar 2021</td> <th>  Prob (F-statistic):</th> <td>3.65e-12</td>\n</tr>\n<tr>\n  <th>Time:</th>                 <td>18:39:30</td>     <th>  Log-Likelihood:    </th> <td> -20.011</td>\n</tr>\n<tr>\n  <th>No. Observations:</th>      <td>    34</td>      <th>  AIC:               </th> <td>   46.02</td>\n</tr>\n<tr>\n  <th>Df Residuals:</th>          <td>    31</td>      <th>  BIC:               </th> <td>   50.60</td>\n</tr>\n<tr>\n  <th>Df Model:</th>              <td>     2</td>      <th>                     </th>     <td> </td>   \n</tr>\n<tr>\n  <th>Covariance Type:</th>      <td>nonrobust</td>    <th>                     </th>     <td> </td>   \n</tr>\n</table>\n<table class=\"simpletable\">\n<tr>\n      <td></td>         <th>coef</th>     <th>std err</th>      <th>t</th>      <th>P>|t|</th>  <th>[0.025</th>    <th>0.975]</th>  \n</tr>\n<tr>\n  <th>Intercept</th> <td>    7.0851</td> <td>    0.222</td> <td>   31.959</td> <td> 0.000</td> <td>    6.633</td> <td>    7.537</td>\n</tr>\n<tr>\n  <th>YearAdj</th>   <td>    0.0417</td> <td>    0.031</td> <td>    1.340</td> <td> 0.190</td> <td>   -0.022</td> <td>    0.105</td>\n</tr>\n<tr>\n  <th>YearAdj2</th>  <td>   -0.0039</td> <td>    0.001</td> <td>   -4.297</td> <td> 0.000</td> <td>   -0.006</td> <td>   -0.002</td>\n</tr>\n</table>\n<table class=\"simpletable\">\n<tr>\n  <th>Omnibus:</th>       <td> 0.913</td> <th>  Durbin-Watson:     </th> <td>   2.274</td>\n</tr>\n<tr>\n  <th>Prob(Omnibus):</th> <td> 0.634</td> <th>  Jarque-Bera (JB):  </th> <td>   0.902</td>\n</tr>\n<tr>\n  <th>Skew:</th>          <td>-0.349</td> <th>  Prob(JB):          </th> <td>   0.637</td>\n</tr>\n<tr>\n  <th>Kurtosis:</th>      <td> 2.614</td> <th>  Cond. No.          </th> <td>1.42e+03</td>\n</tr>\n</table><br/><br/>Warnings:<br/>[1] Standard Errors assume that the covariance matrix of the errors is correctly specified.<br/>[2] The condition number is large, 1.42e+03. This might indicate that there are<br/>strong multicollinearity or other numerical problems."
     },
     "metadata": {},
     "execution_count": 15
    }
   ],
   "source": [
    "model2.summary()"
   ]
  },
  {
   "cell_type": "code",
   "execution_count": 16,
   "metadata": {},
   "outputs": [
    {
     "output_type": "execute_result",
     "data": {
      "text/plain": [
       "0.8171465357201727"
      ]
     },
     "metadata": {},
     "execution_count": 16
    }
   ],
   "source": [
    "import numpy as np\n",
    "\n",
    "model_mean = smf.ols(\"Extent ~ 1\", data=ice_df).fit()\n",
    "resid_mean, resid_model = np.mean(model_mean.resid**2), np.mean(model2.resid**2) # we can also use the .ssr attribute\n",
    "(resid_mean - resid_model) / resid_mean"
   ]
  },
  {
   "cell_type": "markdown",
   "metadata": {},
   "source": [
    "So our quadratic model can explain just over 81.7% of the variance. The `.summary()` method that was just called also shows something known as the \"Adj R-squard\". This is a modification to $R^2$ which accounts for the number of explanatory variables in our model relative to the number of datapoints. It is a more appropiate measure of model evaluation. More information can be found [here](https://en.wikipedia.org/wiki/Coefficient_of_determination#Adjusted_R2). We will extract out the adjusted residuals using the `mse_resid` attribute and then apply the same formula as above."
   ]
  },
  {
   "cell_type": "code",
   "execution_count": 17,
   "metadata": {},
   "outputs": [
    {
     "output_type": "execute_result",
     "data": {
      "text/plain": [
       "0.8053495380247"
      ]
     },
     "metadata": {},
     "execution_count": 17
    }
   ],
   "source": [
    "resid_mean, resid_model = model_mean.mse_resid, model2.mse_resid\n",
    "(resid_mean - resid_model)/resid_mean # QED"
   ]
  },
  {
   "source": [
    "# Part II - Multivariate Linear Regression - Dataset 3"
   ],
   "cell_type": "markdown",
   "metadata": {}
  },
  {
   "cell_type": "markdown",
   "metadata": {},
   "source": [
    "## Correlation\n",
    "\n",
    "Correlation is a measure of association between two variables. It works under a slightly different context than what we've just seen in that we are not measuring a endogenous (response) variable against an exogenous (explanatory) variable. Rather, we are simply measuring some form of association between two variables.\n",
    "\n",
    "I'm sure you've come across the term before and understand it inuitively, but just for completness:\n",
    "- **Positive correlation (+1)**: When an increase in one variable shows an increase in another (e.g. Temperature vs Ice cream sales)\n",
    "- **No correlation (0)**: When an increase/decrease in one variable shows no affect on another (e.g. Temperature vs Stock price)\n",
    "- **Negative correlation (-1)**: When an increase in one variable shows a decrease in another (e.g. Temperature vs Ski gear sales)\n",
    "\n",
    "We won't dive into the details on how to calculate correlation. It's relatively straightforward, and [this](https://www.mathsisfun.com/data/correlation.html) and [this](https://www.youtube.com/watch?v=mG__Wpp9dns) are great resources to understand how they work. What I want to highlight is two things:\n",
    "1. That the correlation coefficient is known as $r$. This $r$ is related to the $R^2$ value for *simple linear regression*. $R^2$ is... well... simply the square of the correlation $r$. We can use a correlation method (e.g. https://pandas.pydata.org/pandas-docs/stable/reference/api/pandas.DataFrame.corr.html) to validate this (omitted).\n",
    "2. Correlation only provides useful values for linear relationships! If your relationship is quadratic, cubic, exponential, etc. then correlation cannot account for this. So we should use a scatter plot to check the relationships rather than solely relying on correlation values.\n",
    "\n",
    "\n",
    "## Multiple Linear Regression\n",
    "\n",
    "In reality, we're obviously not going to be working with datasets as simple as the ice dataset. And we can acknowledge that the value of one variable (e.g. the target variable) can be influenced by many of the other variables. It is therefore misleading to study relationships one at a time when there could be these complex interactions between the variables. Thus, we should consider the multiple variables simulaneously. As introduced in Chapter 1, this is known as multi-variate regression (or multiple linear regression). The quadratic regression formula that was introduced above was an example of multiple linear regression. The general formula is given by:\n",
    "\n",
    "$$\n",
    "\\hat{y_i} = \\beta_1x_{1,i} + \\beta_2x_{2,i} + \\beta_3x_{3,i} + ... + \\beta_b + \\epsilon_{i}\n",
    "$$\n",
    "\n",
    "Where each term follows the definitions introduced previously.\n",
    "\n",
    "We will move to another dataset - the general US social survey from 2018. The data was sourced from https://gssdataexplorer.norc.org/. We are interested in modelling the variable `prestg10`, which is the prestige score for the occupation of the respondant - essentially a measure of how prestigious a given career path is based on general concensous. Here, I have extracted out the educational level variables but this is purely for the purpose of the example. A general approach would be to apply the following methodologies to your dataset to identify what variables are relevant.\n",
    "\n",
    "As an example, here are some roles and their associated prestige scores. Note that these scores are not relevant or representative to the dataset we're loading in, rather they are presented just to give you a general gist of what the scores entail.\n",
    "<table>\n",
    "    <thead>\n",
    "        <tr>\n",
    "            <th>Role</th>\n",
    "            <th>Score</th>\n",
    "        <tr>\n",
    "    </thead>\n",
    "    <tbody>\n",
    "        <tr>\n",
    "            <td>Chief executive or general administrator, public administration</td>\n",
    "            <td>70.45</td>\n",
    "        </tr>\n",
    "        <tr>\n",
    "            <td>Manager, medicine and health</td>\n",
    "            <td>69.22</td>\n",
    "        </tr>\n",
    "        <tr>\n",
    "            <td>Architect</td>\n",
    "            <td>73.15</td>\n",
    "        </tr>\n",
    "        <tr>\n",
    "            <td>Aerospace Engineer</td>\n",
    "            <td>69.22</td>\n",
    "        </tr>\n",
    "        <tr>\n",
    "            <td>Civil Engineer</td>\n",
    "            <td>68.81</td>\n",
    "        </tr>\n",
    "        <tr>\n",
    "            <td>Engineer (not elsewhere classified)</td>\n",
    "            <td>70.69</td>\n",
    "        </tr>\n",
    "        <tr>\n",
    "            <td>Computer systems analyst or scientist</td>\n",
    "            <td>73.70</td>\n",
    "        </tr>\n",
    "        <tr>\n",
    "            <td>Physicist or astronomer</td>\n",
    "            <td>73.48</td>\n",
    "        </tr>\n",
    "        <tr>\n",
    "            <td>Chemist</td>\n",
    "            <td>73.33</td>\n",
    "        </tr>\n",
    "        <tr>\n",
    "            <td>Geologist/geodesist</td>\n",
    "            <td>69.75</td>\n",
    "        </tr>\n",
    "        <tr>\n",
    "            <td>Physician</td>\n",
    "            <td>86.05</td>\n",
    "        </tr>\n",
    "        <tr>\n",
    "            <td>Professor</td>\n",
    "            <td>71.79</td>\n",
    "        </tr>\n",
    "        <tr>\n",
    "            <td>Teacher</td>\n",
    "            <td>73.51</td>\n",
    "        </tr>\n",
    "    </tbody>\n",
    "</table>\n",
    "\n",
    "The dataset requires a small amount of cleaning and extraction of data. I have done this for us to save time."
   ]
  },
  {
   "cell_type": "code",
   "execution_count": 17,
   "metadata": {},
   "outputs": [
    {
     "data": {
      "text/html": [
       "<div>\n",
       "<style scoped>\n",
       "    .dataframe tbody tr th:only-of-type {\n",
       "        vertical-align: middle;\n",
       "    }\n",
       "\n",
       "    .dataframe tbody tr th {\n",
       "        vertical-align: top;\n",
       "    }\n",
       "\n",
       "    .dataframe thead th {\n",
       "        text-align: right;\n",
       "    }\n",
       "</style>\n",
       "<table border=\"1\" class=\"dataframe\">\n",
       "  <thead>\n",
       "    <tr style=\"text-align: right;\">\n",
       "      <th></th>\n",
       "      <th>Age of respondent</th>\n",
       "      <th>Highest year of school completed</th>\n",
       "      <th>Highest year school completed, father</th>\n",
       "      <th>Highest year school completed, mother</th>\n",
       "      <th>Highest year school completed, spouse</th>\n",
       "      <th>Rs highest degree</th>\n",
       "      <th>Respondents sex</th>\n",
       "      <th>Rs occupational prestige score (2010)</th>\n",
       "    </tr>\n",
       "  </thead>\n",
       "  <tbody>\n",
       "    <tr>\n",
       "      <th>0</th>\n",
       "      <td>43</td>\n",
       "      <td>14</td>\n",
       "      <td>12</td>\n",
       "      <td>12</td>\n",
       "      <td>Not applicable</td>\n",
       "      <td>Junior college</td>\n",
       "      <td>Male</td>\n",
       "      <td>47</td>\n",
       "    </tr>\n",
       "    <tr>\n",
       "      <th>1</th>\n",
       "      <td>74</td>\n",
       "      <td>10</td>\n",
       "      <td>0</td>\n",
       "      <td>8</td>\n",
       "      <td>Not applicable</td>\n",
       "      <td>High school</td>\n",
       "      <td>Female</td>\n",
       "      <td>22</td>\n",
       "    </tr>\n",
       "    <tr>\n",
       "      <th>2</th>\n",
       "      <td>42</td>\n",
       "      <td>16</td>\n",
       "      <td>12</td>\n",
       "      <td>16</td>\n",
       "      <td>14</td>\n",
       "      <td>Bachelor</td>\n",
       "      <td>Male</td>\n",
       "      <td>61</td>\n",
       "    </tr>\n",
       "    <tr>\n",
       "      <th>3</th>\n",
       "      <td>63</td>\n",
       "      <td>16</td>\n",
       "      <td>16</td>\n",
       "      <td>12</td>\n",
       "      <td>14</td>\n",
       "      <td>Bachelor</td>\n",
       "      <td>Female</td>\n",
       "      <td>59</td>\n",
       "    </tr>\n",
       "    <tr>\n",
       "      <th>4</th>\n",
       "      <td>71</td>\n",
       "      <td>18</td>\n",
       "      <td>12</td>\n",
       "      <td>12</td>\n",
       "      <td>Not applicable</td>\n",
       "      <td>Graduate</td>\n",
       "      <td>Male</td>\n",
       "      <td>53</td>\n",
       "    </tr>\n",
       "    <tr>\n",
       "      <th>...</th>\n",
       "      <td>...</td>\n",
       "      <td>...</td>\n",
       "      <td>...</td>\n",
       "      <td>...</td>\n",
       "      <td>...</td>\n",
       "      <td>...</td>\n",
       "      <td>...</td>\n",
       "      <td>...</td>\n",
       "    </tr>\n",
       "    <tr>\n",
       "      <th>2343</th>\n",
       "      <td>37</td>\n",
       "      <td>12</td>\n",
       "      <td>12</td>\n",
       "      <td>13</td>\n",
       "      <td>Not applicable</td>\n",
       "      <td>High school</td>\n",
       "      <td>Female</td>\n",
       "      <td>47</td>\n",
       "    </tr>\n",
       "    <tr>\n",
       "      <th>2344</th>\n",
       "      <td>75</td>\n",
       "      <td>12</td>\n",
       "      <td>8</td>\n",
       "      <td>8</td>\n",
       "      <td>8</td>\n",
       "      <td>High school</td>\n",
       "      <td>Female</td>\n",
       "      <td>28</td>\n",
       "    </tr>\n",
       "    <tr>\n",
       "      <th>2345</th>\n",
       "      <td>67</td>\n",
       "      <td>12</td>\n",
       "      <td>12</td>\n",
       "      <td>14</td>\n",
       "      <td>12</td>\n",
       "      <td>High school</td>\n",
       "      <td>Female</td>\n",
       "      <td>40</td>\n",
       "    </tr>\n",
       "    <tr>\n",
       "      <th>2346</th>\n",
       "      <td>72</td>\n",
       "      <td>16</td>\n",
       "      <td>14</td>\n",
       "      <td>12</td>\n",
       "      <td>14</td>\n",
       "      <td>High school</td>\n",
       "      <td>Male</td>\n",
       "      <td>47</td>\n",
       "    </tr>\n",
       "    <tr>\n",
       "      <th>2347</th>\n",
       "      <td>79</td>\n",
       "      <td>12</td>\n",
       "      <td>8</td>\n",
       "      <td>8</td>\n",
       "      <td>Not applicable</td>\n",
       "      <td>High school</td>\n",
       "      <td>Female</td>\n",
       "      <td>33</td>\n",
       "    </tr>\n",
       "  </tbody>\n",
       "</table>\n",
       "<p>2348 rows × 8 columns</p>\n",
       "</div>"
      ],
      "text/plain": [
       "     Age of respondent Highest year of school completed  \\\n",
       "0                   43                               14   \n",
       "1                   74                               10   \n",
       "2                   42                               16   \n",
       "3                   63                               16   \n",
       "4                   71                               18   \n",
       "...                ...                              ...   \n",
       "2343                37                               12   \n",
       "2344                75                               12   \n",
       "2345                67                               12   \n",
       "2346                72                               16   \n",
       "2347                79                               12   \n",
       "\n",
       "     Highest year school completed, father  \\\n",
       "0                                       12   \n",
       "1                                        0   \n",
       "2                                       12   \n",
       "3                                       16   \n",
       "4                                       12   \n",
       "...                                    ...   \n",
       "2343                                    12   \n",
       "2344                                     8   \n",
       "2345                                    12   \n",
       "2346                                    14   \n",
       "2347                                     8   \n",
       "\n",
       "     Highest year school completed, mother  \\\n",
       "0                                       12   \n",
       "1                                        8   \n",
       "2                                       16   \n",
       "3                                       12   \n",
       "4                                       12   \n",
       "...                                    ...   \n",
       "2343                                    13   \n",
       "2344                                     8   \n",
       "2345                                    14   \n",
       "2346                                    12   \n",
       "2347                                     8   \n",
       "\n",
       "     Highest year school completed, spouse Rs highest degree Respondents sex  \\\n",
       "0                           Not applicable    Junior college            Male   \n",
       "1                           Not applicable       High school          Female   \n",
       "2                                       14          Bachelor            Male   \n",
       "3                                       14          Bachelor          Female   \n",
       "4                           Not applicable          Graduate            Male   \n",
       "...                                    ...               ...             ...   \n",
       "2343                        Not applicable       High school          Female   \n",
       "2344                                     8       High school          Female   \n",
       "2345                                    12       High school          Female   \n",
       "2346                                    14       High school            Male   \n",
       "2347                        Not applicable       High school          Female   \n",
       "\n",
       "      Rs occupational prestige score (2010)  \n",
       "0                                        47  \n",
       "1                                        22  \n",
       "2                                        61  \n",
       "3                                        59  \n",
       "4                                        53  \n",
       "...                                     ...  \n",
       "2343                                     47  \n",
       "2344                                     28  \n",
       "2345                                     40  \n",
       "2346                                     47  \n",
       "2347                                     33  \n",
       "\n",
       "[2348 rows x 8 columns]"
      ]
     },
     "execution_count": 17,
     "metadata": {},
     "output_type": "execute_result"
    }
   ],
   "source": [
    "gss_df = pd.read_csv(\"../DATA/GSS.csv\")\n",
    "gss_df"
   ]
  },
  {
   "cell_type": "code",
   "execution_count": 18,
   "metadata": {},
   "outputs": [
    {
     "data": {
      "text/html": [
       "<div>\n",
       "<style scoped>\n",
       "    .dataframe tbody tr th:only-of-type {\n",
       "        vertical-align: middle;\n",
       "    }\n",
       "\n",
       "    .dataframe tbody tr th {\n",
       "        vertical-align: top;\n",
       "    }\n",
       "\n",
       "    .dataframe thead th {\n",
       "        text-align: right;\n",
       "    }\n",
       "</style>\n",
       "<table border=\"1\" class=\"dataframe\">\n",
       "  <thead>\n",
       "    <tr style=\"text-align: right;\">\n",
       "      <th></th>\n",
       "      <th>age</th>\n",
       "      <th>educ</th>\n",
       "      <th>paeduc</th>\n",
       "      <th>maeduc</th>\n",
       "      <th>speduc</th>\n",
       "      <th>degree</th>\n",
       "      <th>sex</th>\n",
       "      <th>prestg10</th>\n",
       "    </tr>\n",
       "  </thead>\n",
       "  <tbody>\n",
       "    <tr>\n",
       "      <th>2</th>\n",
       "      <td>42.0</td>\n",
       "      <td>16.0</td>\n",
       "      <td>12.0</td>\n",
       "      <td>16.0</td>\n",
       "      <td>14.0</td>\n",
       "      <td>3.0</td>\n",
       "      <td>1.0</td>\n",
       "      <td>61.0</td>\n",
       "    </tr>\n",
       "    <tr>\n",
       "      <th>3</th>\n",
       "      <td>63.0</td>\n",
       "      <td>16.0</td>\n",
       "      <td>16.0</td>\n",
       "      <td>12.0</td>\n",
       "      <td>14.0</td>\n",
       "      <td>3.0</td>\n",
       "      <td>0.0</td>\n",
       "      <td>59.0</td>\n",
       "    </tr>\n",
       "    <tr>\n",
       "      <th>9</th>\n",
       "      <td>55.0</td>\n",
       "      <td>12.0</td>\n",
       "      <td>6.0</td>\n",
       "      <td>20.0</td>\n",
       "      <td>11.0</td>\n",
       "      <td>1.0</td>\n",
       "      <td>1.0</td>\n",
       "      <td>39.0</td>\n",
       "    </tr>\n",
       "    <tr>\n",
       "      <th>13</th>\n",
       "      <td>44.0</td>\n",
       "      <td>16.0</td>\n",
       "      <td>16.0</td>\n",
       "      <td>12.0</td>\n",
       "      <td>14.0</td>\n",
       "      <td>3.0</td>\n",
       "      <td>1.0</td>\n",
       "      <td>72.0</td>\n",
       "    </tr>\n",
       "    <tr>\n",
       "      <th>16</th>\n",
       "      <td>55.0</td>\n",
       "      <td>16.0</td>\n",
       "      <td>14.0</td>\n",
       "      <td>13.0</td>\n",
       "      <td>14.0</td>\n",
       "      <td>3.0</td>\n",
       "      <td>0.0</td>\n",
       "      <td>64.0</td>\n",
       "    </tr>\n",
       "    <tr>\n",
       "      <th>...</th>\n",
       "      <td>...</td>\n",
       "      <td>...</td>\n",
       "      <td>...</td>\n",
       "      <td>...</td>\n",
       "      <td>...</td>\n",
       "      <td>...</td>\n",
       "      <td>...</td>\n",
       "      <td>...</td>\n",
       "    </tr>\n",
       "    <tr>\n",
       "      <th>2335</th>\n",
       "      <td>54.0</td>\n",
       "      <td>18.0</td>\n",
       "      <td>14.0</td>\n",
       "      <td>12.0</td>\n",
       "      <td>17.0</td>\n",
       "      <td>4.0</td>\n",
       "      <td>0.0</td>\n",
       "      <td>59.0</td>\n",
       "    </tr>\n",
       "    <tr>\n",
       "      <th>2339</th>\n",
       "      <td>29.0</td>\n",
       "      <td>14.0</td>\n",
       "      <td>10.0</td>\n",
       "      <td>16.0</td>\n",
       "      <td>10.0</td>\n",
       "      <td>1.0</td>\n",
       "      <td>0.0</td>\n",
       "      <td>31.0</td>\n",
       "    </tr>\n",
       "    <tr>\n",
       "      <th>2344</th>\n",
       "      <td>75.0</td>\n",
       "      <td>12.0</td>\n",
       "      <td>8.0</td>\n",
       "      <td>8.0</td>\n",
       "      <td>8.0</td>\n",
       "      <td>1.0</td>\n",
       "      <td>0.0</td>\n",
       "      <td>28.0</td>\n",
       "    </tr>\n",
       "    <tr>\n",
       "      <th>2345</th>\n",
       "      <td>67.0</td>\n",
       "      <td>12.0</td>\n",
       "      <td>12.0</td>\n",
       "      <td>14.0</td>\n",
       "      <td>12.0</td>\n",
       "      <td>1.0</td>\n",
       "      <td>0.0</td>\n",
       "      <td>40.0</td>\n",
       "    </tr>\n",
       "    <tr>\n",
       "      <th>2346</th>\n",
       "      <td>72.0</td>\n",
       "      <td>16.0</td>\n",
       "      <td>14.0</td>\n",
       "      <td>12.0</td>\n",
       "      <td>14.0</td>\n",
       "      <td>1.0</td>\n",
       "      <td>1.0</td>\n",
       "      <td>47.0</td>\n",
       "    </tr>\n",
       "  </tbody>\n",
       "</table>\n",
       "<p>711 rows × 8 columns</p>\n",
       "</div>"
      ],
      "text/plain": [
       "       age  educ  paeduc  maeduc  speduc  degree  sex  prestg10\n",
       "2     42.0  16.0    12.0    16.0    14.0     3.0  1.0      61.0\n",
       "3     63.0  16.0    16.0    12.0    14.0     3.0  0.0      59.0\n",
       "9     55.0  12.0     6.0    20.0    11.0     1.0  1.0      39.0\n",
       "13    44.0  16.0    16.0    12.0    14.0     3.0  1.0      72.0\n",
       "16    55.0  16.0    14.0    13.0    14.0     3.0  0.0      64.0\n",
       "...    ...   ...     ...     ...     ...     ...  ...       ...\n",
       "2335  54.0  18.0    14.0    12.0    17.0     4.0  0.0      59.0\n",
       "2339  29.0  14.0    10.0    16.0    10.0     1.0  0.0      31.0\n",
       "2344  75.0  12.0     8.0     8.0     8.0     1.0  0.0      28.0\n",
       "2345  67.0  12.0    12.0    14.0    12.0     1.0  0.0      40.0\n",
       "2346  72.0  16.0    14.0    12.0    14.0     1.0  1.0      47.0\n",
       "\n",
       "[711 rows x 8 columns]"
      ]
     },
     "execution_count": 18,
     "metadata": {},
     "output_type": "execute_result"
    }
   ],
   "source": [
    "# This is a quick, dirty hack just to allow us to work with some clean data. Don't do stuff like this in practise.\n",
    "cols = [\"age\", \"educ\", \"paeduc\", \"maeduc\", \"speduc\", \"degree\", \"sex\", \"prestg10\"]\n",
    "gss_df.columns = cols\n",
    "\n",
    "# For now we will introduce these categorical variables as equally spaced numerics. We'll look explicitly at categorical data later down the notebook\n",
    "degree_codes = {\"Lt high school\": 0, \"High school\": 1, \"Junior college\": 2, \"Bachelor\": 3, \"Graduate\": 4}\n",
    "sex_codes = {\"Female\": 0, \"Male\": 1}\n",
    "\n",
    "to_replace = {\"degree\": degree_codes, \"sex\": sex_codes}\n",
    "gss_df = gss_df.replace(to_replace)\n",
    "\n",
    "gss_df = gss_df.replace([\"Not applicable\", \"Don't know\", \"No answer\", \"89 or older\"], pd.NA)\n",
    "for col in cols:\n",
    "    gss_df[col] = pd.to_numeric(gss_df[col], errors=\"coerce\")\n",
    "\n",
    "gss_df[gss_df[\"prestg10\"] == 0] = np.nan\n",
    "gss_df[gss_df[\"age\"] >= 98] = np.nan\n",
    "gss_df[gss_df[\"educ\"] >= 97] = np.nan\n",
    "gss_df[gss_df[\"paeduc\"] >= 97] = np.nan\n",
    "gss_df[gss_df[\"maeduc\"] >= 97] = np.nan\n",
    "gss_df[gss_df[\"speduc\"] >= 97] = np.nan\n",
    "gss_df = gss_df.dropna()\n",
    "gss_df"
   ]
  },
  {
   "cell_type": "markdown",
   "metadata": {},
   "source": [
    "We'll fit a linear model to this dataframe"
   ]
  },
  {
   "cell_type": "code",
   "execution_count": 19,
   "metadata": {},
   "outputs": [
    {
     "data": {
      "text/html": [
       "<table class=\"simpletable\">\n",
       "<caption>OLS Regression Results</caption>\n",
       "<tr>\n",
       "  <th>Dep. Variable:</th>        <td>prestg10</td>     <th>  R-squared:         </th> <td>   0.296</td>\n",
       "</tr>\n",
       "<tr>\n",
       "  <th>Model:</th>                   <td>OLS</td>       <th>  Adj. R-squared:    </th> <td>   0.289</td>\n",
       "</tr>\n",
       "<tr>\n",
       "  <th>Method:</th>             <td>Least Squares</td>  <th>  F-statistic:       </th> <td>   42.29</td>\n",
       "</tr>\n",
       "<tr>\n",
       "  <th>Date:</th>             <td>Tue, 11 Aug 2020</td> <th>  Prob (F-statistic):</th> <td>7.69e-50</td>\n",
       "</tr>\n",
       "<tr>\n",
       "  <th>Time:</th>                 <td>20:12:00</td>     <th>  Log-Likelihood:    </th> <td> -2730.6</td>\n",
       "</tr>\n",
       "<tr>\n",
       "  <th>No. Observations:</th>      <td>   711</td>      <th>  AIC:               </th> <td>   5477.</td>\n",
       "</tr>\n",
       "<tr>\n",
       "  <th>Df Residuals:</th>          <td>   703</td>      <th>  BIC:               </th> <td>   5514.</td>\n",
       "</tr>\n",
       "<tr>\n",
       "  <th>Df Model:</th>              <td>     7</td>      <th>                     </th>     <td> </td>   \n",
       "</tr>\n",
       "<tr>\n",
       "  <th>Covariance Type:</th>      <td>nonrobust</td>    <th>                     </th>     <td> </td>   \n",
       "</tr>\n",
       "</table>\n",
       "<table class=\"simpletable\">\n",
       "<tr>\n",
       "      <td></td>         <th>coef</th>     <th>std err</th>      <th>t</th>      <th>P>|t|</th>  <th>[0.025</th>    <th>0.975]</th>  \n",
       "</tr>\n",
       "<tr>\n",
       "  <th>Intercept</th> <td>   22.3408</td> <td>    3.620</td> <td>    6.172</td> <td> 0.000</td> <td>   15.234</td> <td>   29.448</td>\n",
       "</tr>\n",
       "<tr>\n",
       "  <th>age</th>       <td>    0.0795</td> <td>    0.029</td> <td>    2.718</td> <td> 0.007</td> <td>    0.022</td> <td>    0.137</td>\n",
       "</tr>\n",
       "<tr>\n",
       "  <th>educ</th>      <td>   -0.1432</td> <td>    0.305</td> <td>   -0.469</td> <td> 0.639</td> <td>   -0.743</td> <td>    0.456</td>\n",
       "</tr>\n",
       "<tr>\n",
       "  <th>paeduc</th>    <td>    0.1980</td> <td>    0.156</td> <td>    1.270</td> <td> 0.205</td> <td>   -0.108</td> <td>    0.504</td>\n",
       "</tr>\n",
       "<tr>\n",
       "  <th>maeduc</th>    <td>    0.3596</td> <td>    0.161</td> <td>    2.238</td> <td> 0.026</td> <td>    0.044</td> <td>    0.675</td>\n",
       "</tr>\n",
       "<tr>\n",
       "  <th>speduc</th>    <td>    0.5211</td> <td>    0.182</td> <td>    2.857</td> <td> 0.004</td> <td>    0.163</td> <td>    0.879</td>\n",
       "</tr>\n",
       "<tr>\n",
       "  <th>sex</th>       <td>    2.2322</td> <td>    0.860</td> <td>    2.596</td> <td> 0.010</td> <td>    0.544</td> <td>    3.920</td>\n",
       "</tr>\n",
       "<tr>\n",
       "  <th>degree</th>    <td>    4.3017</td> <td>    0.670</td> <td>    6.423</td> <td> 0.000</td> <td>    2.987</td> <td>    5.617</td>\n",
       "</tr>\n",
       "</table>\n",
       "<table class=\"simpletable\">\n",
       "<tr>\n",
       "  <th>Omnibus:</th>       <td> 2.072</td> <th>  Durbin-Watson:     </th> <td>   2.068</td>\n",
       "</tr>\n",
       "<tr>\n",
       "  <th>Prob(Omnibus):</th> <td> 0.355</td> <th>  Jarque-Bera (JB):  </th> <td>   1.877</td>\n",
       "</tr>\n",
       "<tr>\n",
       "  <th>Skew:</th>          <td>-0.029</td> <th>  Prob(JB):          </th> <td>   0.391</td>\n",
       "</tr>\n",
       "<tr>\n",
       "  <th>Kurtosis:</th>      <td> 2.755</td> <th>  Cond. No.          </th> <td>    506.</td>\n",
       "</tr>\n",
       "</table><br/><br/>Warnings:<br/>[1] Standard Errors assume that the covariance matrix of the errors is correctly specified."
      ],
      "text/plain": [
       "<class 'statsmodels.iolib.summary.Summary'>\n",
       "\"\"\"\n",
       "                            OLS Regression Results                            \n",
       "==============================================================================\n",
       "Dep. Variable:               prestg10   R-squared:                       0.296\n",
       "Model:                            OLS   Adj. R-squared:                  0.289\n",
       "Method:                 Least Squares   F-statistic:                     42.29\n",
       "Date:                Tue, 11 Aug 2020   Prob (F-statistic):           7.69e-50\n",
       "Time:                        20:12:00   Log-Likelihood:                -2730.6\n",
       "No. Observations:                 711   AIC:                             5477.\n",
       "Df Residuals:                     703   BIC:                             5514.\n",
       "Df Model:                           7                                         \n",
       "Covariance Type:            nonrobust                                         \n",
       "==============================================================================\n",
       "                 coef    std err          t      P>|t|      [0.025      0.975]\n",
       "------------------------------------------------------------------------------\n",
       "Intercept     22.3408      3.620      6.172      0.000      15.234      29.448\n",
       "age            0.0795      0.029      2.718      0.007       0.022       0.137\n",
       "educ          -0.1432      0.305     -0.469      0.639      -0.743       0.456\n",
       "paeduc         0.1980      0.156      1.270      0.205      -0.108       0.504\n",
       "maeduc         0.3596      0.161      2.238      0.026       0.044       0.675\n",
       "speduc         0.5211      0.182      2.857      0.004       0.163       0.879\n",
       "sex            2.2322      0.860      2.596      0.010       0.544       3.920\n",
       "degree         4.3017      0.670      6.423      0.000       2.987       5.617\n",
       "==============================================================================\n",
       "Omnibus:                        2.072   Durbin-Watson:                   2.068\n",
       "Prob(Omnibus):                  0.355   Jarque-Bera (JB):                1.877\n",
       "Skew:                          -0.029   Prob(JB):                        0.391\n",
       "Kurtosis:                       2.755   Cond. No.                         506.\n",
       "==============================================================================\n",
       "\n",
       "Warnings:\n",
       "[1] Standard Errors assume that the covariance matrix of the errors is correctly specified.\n",
       "\"\"\""
      ]
     },
     "execution_count": 19,
     "metadata": {},
     "output_type": "execute_result"
    }
   ],
   "source": [
    "## Fit a linear model for all variables in the gss_df and return the summary\n",
    "gss_model0 = smf.ols(\"prestg10 ~ age + educ + paeduc + maeduc + speduc + sex + degree\", data=gss_df).fit()\n",
    "gss_model0.summary()"
   ]
  },
  {
   "cell_type": "markdown",
   "metadata": {},
   "source": [
    "Now that we have multiple explanatory variables, we need to exhibit some carefulness when interpreting the coefficients. The coefficient for `educ` is -0.1432. This value specifies that if all other exogenous variables are held constant, then an increase in one unit in the respondant's educational level is associated with an decrease of 0.143 in the respondant's prestige score. This logic holds across all the explanatory variables.\n",
    "\n",
    "If we fitted a model with just education, we'd see that this coefficient is different:"
   ]
  },
  {
   "cell_type": "code",
   "execution_count": 20,
   "metadata": {},
   "outputs": [
    {
     "data": {
      "text/html": [
       "<table class=\"simpletable\">\n",
       "<caption>OLS Regression Results</caption>\n",
       "<tr>\n",
       "  <th>Dep. Variable:</th>        <td>prestg10</td>     <th>  R-squared:         </th> <td>   0.207</td>\n",
       "</tr>\n",
       "<tr>\n",
       "  <th>Model:</th>                   <td>OLS</td>       <th>  Adj. R-squared:    </th> <td>   0.206</td>\n",
       "</tr>\n",
       "<tr>\n",
       "  <th>Method:</th>             <td>Least Squares</td>  <th>  F-statistic:       </th> <td>   185.4</td>\n",
       "</tr>\n",
       "<tr>\n",
       "  <th>Date:</th>             <td>Tue, 11 Aug 2020</td> <th>  Prob (F-statistic):</th> <td>1.12e-37</td>\n",
       "</tr>\n",
       "<tr>\n",
       "  <th>Time:</th>                 <td>20:12:00</td>     <th>  Log-Likelihood:    </th> <td> -2773.0</td>\n",
       "</tr>\n",
       "<tr>\n",
       "  <th>No. Observations:</th>      <td>   711</td>      <th>  AIC:               </th> <td>   5550.</td>\n",
       "</tr>\n",
       "<tr>\n",
       "  <th>Df Residuals:</th>          <td>   709</td>      <th>  BIC:               </th> <td>   5559.</td>\n",
       "</tr>\n",
       "<tr>\n",
       "  <th>Df Model:</th>              <td>     1</td>      <th>                     </th>     <td> </td>   \n",
       "</tr>\n",
       "<tr>\n",
       "  <th>Covariance Type:</th>      <td>nonrobust</td>    <th>                     </th>     <td> </td>   \n",
       "</tr>\n",
       "</table>\n",
       "<table class=\"simpletable\">\n",
       "<tr>\n",
       "      <td></td>         <th>coef</th>     <th>std err</th>      <th>t</th>      <th>P>|t|</th>  <th>[0.025</th>    <th>0.975]</th>  \n",
       "</tr>\n",
       "<tr>\n",
       "  <th>Intercept</th> <td>   17.9189</td> <td>    2.288</td> <td>    7.833</td> <td> 0.000</td> <td>   13.428</td> <td>   22.410</td>\n",
       "</tr>\n",
       "<tr>\n",
       "  <th>educ</th>      <td>    2.1010</td> <td>    0.154</td> <td>   13.617</td> <td> 0.000</td> <td>    1.798</td> <td>    2.404</td>\n",
       "</tr>\n",
       "</table>\n",
       "<table class=\"simpletable\">\n",
       "<tr>\n",
       "  <th>Omnibus:</th>       <td> 3.934</td> <th>  Durbin-Watson:     </th> <td>   2.007</td>\n",
       "</tr>\n",
       "<tr>\n",
       "  <th>Prob(Omnibus):</th> <td> 0.140</td> <th>  Jarque-Bera (JB):  </th> <td>   3.117</td>\n",
       "</tr>\n",
       "<tr>\n",
       "  <th>Skew:</th>          <td>-0.031</td> <th>  Prob(JB):          </th> <td>   0.210</td>\n",
       "</tr>\n",
       "<tr>\n",
       "  <th>Kurtosis:</th>      <td> 2.682</td> <th>  Cond. No.          </th> <td>    75.9</td>\n",
       "</tr>\n",
       "</table><br/><br/>Warnings:<br/>[1] Standard Errors assume that the covariance matrix of the errors is correctly specified."
      ],
      "text/plain": [
       "<class 'statsmodels.iolib.summary.Summary'>\n",
       "\"\"\"\n",
       "                            OLS Regression Results                            \n",
       "==============================================================================\n",
       "Dep. Variable:               prestg10   R-squared:                       0.207\n",
       "Model:                            OLS   Adj. R-squared:                  0.206\n",
       "Method:                 Least Squares   F-statistic:                     185.4\n",
       "Date:                Tue, 11 Aug 2020   Prob (F-statistic):           1.12e-37\n",
       "Time:                        20:12:00   Log-Likelihood:                -2773.0\n",
       "No. Observations:                 711   AIC:                             5550.\n",
       "Df Residuals:                     709   BIC:                             5559.\n",
       "Df Model:                           1                                         \n",
       "Covariance Type:            nonrobust                                         \n",
       "==============================================================================\n",
       "                 coef    std err          t      P>|t|      [0.025      0.975]\n",
       "------------------------------------------------------------------------------\n",
       "Intercept     17.9189      2.288      7.833      0.000      13.428      22.410\n",
       "educ           2.1010      0.154     13.617      0.000       1.798       2.404\n",
       "==============================================================================\n",
       "Omnibus:                        3.934   Durbin-Watson:                   2.007\n",
       "Prob(Omnibus):                  0.140   Jarque-Bera (JB):                3.117\n",
       "Skew:                          -0.031   Prob(JB):                        0.210\n",
       "Kurtosis:                       2.682   Cond. No.                         75.9\n",
       "==============================================================================\n",
       "\n",
       "Warnings:\n",
       "[1] Standard Errors assume that the covariance matrix of the errors is correctly specified.\n",
       "\"\"\""
      ]
     },
     "execution_count": 20,
     "metadata": {},
     "output_type": "execute_result"
    }
   ],
   "source": [
    "smf.ols(\"prestg10 ~ educ\", data=gss_df).fit().summary()\n",
    "# smf.ols(\"prestg10 ~ degree\", data=gss_df).fit().summary()"
   ]
  },
  {
   "cell_type": "markdown",
   "metadata": {},
   "source": [
    "Here we observe that `educ` alone accounts for 20.6% of variance and has a hugely larger coefficient than before. The result is different because a respondants education is positively correlated with with the other variables in the dataframe (shown below). In simple words, if the parents education level is 👆, then the child's education is probably 👆 too.\n",
    "\n",
    "So, knowing that the respondant's education level is high will indicate that other education levels are probably above average too. The regression equation reflects that there will be a positive contribution from the other people in the respondant's life. So this model's parameter value (2.10) includes the *direct* effect of the respondant's education level, and the *indirect* effect of the mothers', fathers' and spouses' education level, the respondant's sex and age, and most importantly, the respondant's degree. \n",
    "\n",
    "This has the consequence of the model measuring indirect effects if we omit direct effects. Therefore, adding or removing variables from the regression equation can (and usually will) change the values of the parameter estimates and their significance"
   ]
  },
  {
   "cell_type": "code",
   "execution_count": 21,
   "metadata": {},
   "outputs": [
    {
     "data": {
      "text/html": [
       "<div>\n",
       "<style scoped>\n",
       "    .dataframe tbody tr th:only-of-type {\n",
       "        vertical-align: middle;\n",
       "    }\n",
       "\n",
       "    .dataframe tbody tr th {\n",
       "        vertical-align: top;\n",
       "    }\n",
       "\n",
       "    .dataframe thead th {\n",
       "        text-align: right;\n",
       "    }\n",
       "</style>\n",
       "<table border=\"1\" class=\"dataframe\">\n",
       "  <thead>\n",
       "    <tr style=\"text-align: right;\">\n",
       "      <th></th>\n",
       "      <th>age</th>\n",
       "      <th>educ</th>\n",
       "      <th>paeduc</th>\n",
       "      <th>maeduc</th>\n",
       "      <th>speduc</th>\n",
       "      <th>degree</th>\n",
       "      <th>sex</th>\n",
       "      <th>prestg10</th>\n",
       "    </tr>\n",
       "  </thead>\n",
       "  <tbody>\n",
       "    <tr>\n",
       "      <th>age</th>\n",
       "      <td>1.000000</td>\n",
       "      <td>-0.015171</td>\n",
       "      <td>-0.165227</td>\n",
       "      <td>-0.173607</td>\n",
       "      <td>0.014271</td>\n",
       "      <td>-0.034259</td>\n",
       "      <td>0.114786</td>\n",
       "      <td>0.059539</td>\n",
       "    </tr>\n",
       "    <tr>\n",
       "      <th>educ</th>\n",
       "      <td>-0.015171</td>\n",
       "      <td>1.000000</td>\n",
       "      <td>0.484509</td>\n",
       "      <td>0.423026</td>\n",
       "      <td>0.586067</td>\n",
       "      <td>0.861650</td>\n",
       "      <td>0.019650</td>\n",
       "      <td>0.455316</td>\n",
       "    </tr>\n",
       "    <tr>\n",
       "      <th>paeduc</th>\n",
       "      <td>-0.165227</td>\n",
       "      <td>0.484509</td>\n",
       "      <td>1.000000</td>\n",
       "      <td>0.688398</td>\n",
       "      <td>0.441658</td>\n",
       "      <td>0.450612</td>\n",
       "      <td>-0.009904</td>\n",
       "      <td>0.329904</td>\n",
       "    </tr>\n",
       "    <tr>\n",
       "      <th>maeduc</th>\n",
       "      <td>-0.173607</td>\n",
       "      <td>0.423026</td>\n",
       "      <td>0.688398</td>\n",
       "      <td>1.000000</td>\n",
       "      <td>0.418818</td>\n",
       "      <td>0.385597</td>\n",
       "      <td>0.023026</td>\n",
       "      <td>0.317850</td>\n",
       "    </tr>\n",
       "    <tr>\n",
       "      <th>speduc</th>\n",
       "      <td>0.014271</td>\n",
       "      <td>0.586067</td>\n",
       "      <td>0.441658</td>\n",
       "      <td>0.418818</td>\n",
       "      <td>1.000000</td>\n",
       "      <td>0.533071</td>\n",
       "      <td>0.059110</td>\n",
       "      <td>0.386766</td>\n",
       "    </tr>\n",
       "    <tr>\n",
       "      <th>degree</th>\n",
       "      <td>-0.034259</td>\n",
       "      <td>0.861650</td>\n",
       "      <td>0.450612</td>\n",
       "      <td>0.385597</td>\n",
       "      <td>0.533071</td>\n",
       "      <td>1.000000</td>\n",
       "      <td>-0.013018</td>\n",
       "      <td>0.499075</td>\n",
       "    </tr>\n",
       "    <tr>\n",
       "      <th>sex</th>\n",
       "      <td>0.114786</td>\n",
       "      <td>0.019650</td>\n",
       "      <td>-0.009904</td>\n",
       "      <td>0.023026</td>\n",
       "      <td>0.059110</td>\n",
       "      <td>-0.013018</td>\n",
       "      <td>1.000000</td>\n",
       "      <td>0.095970</td>\n",
       "    </tr>\n",
       "    <tr>\n",
       "      <th>prestg10</th>\n",
       "      <td>0.059539</td>\n",
       "      <td>0.455316</td>\n",
       "      <td>0.329904</td>\n",
       "      <td>0.317850</td>\n",
       "      <td>0.386766</td>\n",
       "      <td>0.499075</td>\n",
       "      <td>0.095970</td>\n",
       "      <td>1.000000</td>\n",
       "    </tr>\n",
       "  </tbody>\n",
       "</table>\n",
       "</div>"
      ],
      "text/plain": [
       "               age      educ    paeduc    maeduc    speduc    degree  \\\n",
       "age       1.000000 -0.015171 -0.165227 -0.173607  0.014271 -0.034259   \n",
       "educ     -0.015171  1.000000  0.484509  0.423026  0.586067  0.861650   \n",
       "paeduc   -0.165227  0.484509  1.000000  0.688398  0.441658  0.450612   \n",
       "maeduc   -0.173607  0.423026  0.688398  1.000000  0.418818  0.385597   \n",
       "speduc    0.014271  0.586067  0.441658  0.418818  1.000000  0.533071   \n",
       "degree   -0.034259  0.861650  0.450612  0.385597  0.533071  1.000000   \n",
       "sex       0.114786  0.019650 -0.009904  0.023026  0.059110 -0.013018   \n",
       "prestg10  0.059539  0.455316  0.329904  0.317850  0.386766  0.499075   \n",
       "\n",
       "               sex  prestg10  \n",
       "age       0.114786  0.059539  \n",
       "educ      0.019650  0.455316  \n",
       "paeduc   -0.009904  0.329904  \n",
       "maeduc    0.023026  0.317850  \n",
       "speduc    0.059110  0.386766  \n",
       "degree   -0.013018  0.499075  \n",
       "sex       1.000000  0.095970  \n",
       "prestg10  0.095970  1.000000  "
      ]
     },
     "execution_count": 21,
     "metadata": {},
     "output_type": "execute_result"
    }
   ],
   "source": [
    "gss_df.corr()"
   ]
  },
  {
   "cell_type": "code",
   "execution_count": 22,
   "metadata": {},
   "outputs": [
    {
     "data": {
      "application/vnd.plotly.v1+json": {
       "config": {
        "plotlyServerURL": "https://plot.ly"
       },
       "data": [
        {
         "coloraxis": "coloraxis",
         "hovertemplate": "x: %{x}<br>y: %{y}<br>color: %{z}<extra></extra>",
         "type": "heatmap",
         "x": [
          "age",
          "educ",
          "paeduc",
          "maeduc",
          "speduc",
          "degree",
          "sex",
          "prestg10"
         ],
         "y": [
          "age",
          "educ",
          "paeduc",
          "maeduc",
          "speduc",
          "degree",
          "sex",
          "prestg10"
         ],
         "z": [
          [
           1,
           -0.01517115915121339,
           -0.16522674445099272,
           -0.17360652986230588,
           0.01427082686958155,
           -0.03425866667414948,
           0.11478611299476411,
           0.05953853526094757
          ],
          [
           -0.01517115915121339,
           1,
           0.4845086493212134,
           0.42302594962834184,
           0.586066545523846,
           0.8616503131774321,
           0.019649948401396354,
           0.4553158979087584
          ],
          [
           -0.16522674445099272,
           0.4845086493212134,
           1,
           0.6883984963345284,
           0.44165753154534465,
           0.450611849200884,
           -0.009904424877481926,
           0.32990369810820686
          ],
          [
           -0.17360652986230588,
           0.42302594962834184,
           0.6883984963345284,
           1,
           0.4188177175419539,
           0.38559697176332824,
           0.023025981636835776,
           0.31785020988158363
          ],
          [
           0.01427082686958155,
           0.586066545523846,
           0.44165753154534465,
           0.4188177175419539,
           1,
           0.5330706745958042,
           0.0591102652685602,
           0.3867657694130182
          ],
          [
           -0.03425866667414948,
           0.8616503131774321,
           0.450611849200884,
           0.38559697176332824,
           0.5330706745958042,
           1,
           -0.013017859236290645,
           0.4990751559965828
          ],
          [
           0.11478611299476411,
           0.019649948401396354,
           -0.009904424877481926,
           0.023025981636835776,
           0.0591102652685602,
           -0.013017859236290645,
           1,
           0.09597046459053177
          ],
          [
           0.05953853526094757,
           0.4553158979087584,
           0.32990369810820686,
           0.31785020988158363,
           0.3867657694130182,
           0.4990751559965828,
           0.09597046459053177,
           1
          ]
         ]
        }
       ],
       "layout": {
        "coloraxis": {
         "colorscale": [
          [
           0,
           "rgb(75, 41, 145)"
          ],
          [
           0.16666666666666666,
           "rgb(135, 44, 162)"
          ],
          [
           0.3333333333333333,
           "rgb(192, 54, 157)"
          ],
          [
           0.5,
           "rgb(234, 79, 136)"
          ],
          [
           0.6666666666666666,
           "rgb(250, 120, 118)"
          ],
          [
           0.8333333333333334,
           "rgb(246, 169, 122)"
          ],
          [
           1,
           "rgb(237, 217, 163)"
          ]
         ]
        },
        "template": {
         "data": {
          "bar": [
           {
            "error_x": {
             "color": "#2a3f5f"
            },
            "error_y": {
             "color": "#2a3f5f"
            },
            "marker": {
             "line": {
              "color": "#E5ECF6",
              "width": 0.5
             }
            },
            "type": "bar"
           }
          ],
          "barpolar": [
           {
            "marker": {
             "line": {
              "color": "#E5ECF6",
              "width": 0.5
             }
            },
            "type": "barpolar"
           }
          ],
          "carpet": [
           {
            "aaxis": {
             "endlinecolor": "#2a3f5f",
             "gridcolor": "white",
             "linecolor": "white",
             "minorgridcolor": "white",
             "startlinecolor": "#2a3f5f"
            },
            "baxis": {
             "endlinecolor": "#2a3f5f",
             "gridcolor": "white",
             "linecolor": "white",
             "minorgridcolor": "white",
             "startlinecolor": "#2a3f5f"
            },
            "type": "carpet"
           }
          ],
          "choropleth": [
           {
            "colorbar": {
             "outlinewidth": 0,
             "ticks": ""
            },
            "type": "choropleth"
           }
          ],
          "contour": [
           {
            "colorbar": {
             "outlinewidth": 0,
             "ticks": ""
            },
            "colorscale": [
             [
              0,
              "#0d0887"
             ],
             [
              0.1111111111111111,
              "#46039f"
             ],
             [
              0.2222222222222222,
              "#7201a8"
             ],
             [
              0.3333333333333333,
              "#9c179e"
             ],
             [
              0.4444444444444444,
              "#bd3786"
             ],
             [
              0.5555555555555556,
              "#d8576b"
             ],
             [
              0.6666666666666666,
              "#ed7953"
             ],
             [
              0.7777777777777778,
              "#fb9f3a"
             ],
             [
              0.8888888888888888,
              "#fdca26"
             ],
             [
              1,
              "#f0f921"
             ]
            ],
            "type": "contour"
           }
          ],
          "contourcarpet": [
           {
            "colorbar": {
             "outlinewidth": 0,
             "ticks": ""
            },
            "type": "contourcarpet"
           }
          ],
          "heatmap": [
           {
            "colorbar": {
             "outlinewidth": 0,
             "ticks": ""
            },
            "colorscale": [
             [
              0,
              "#0d0887"
             ],
             [
              0.1111111111111111,
              "#46039f"
             ],
             [
              0.2222222222222222,
              "#7201a8"
             ],
             [
              0.3333333333333333,
              "#9c179e"
             ],
             [
              0.4444444444444444,
              "#bd3786"
             ],
             [
              0.5555555555555556,
              "#d8576b"
             ],
             [
              0.6666666666666666,
              "#ed7953"
             ],
             [
              0.7777777777777778,
              "#fb9f3a"
             ],
             [
              0.8888888888888888,
              "#fdca26"
             ],
             [
              1,
              "#f0f921"
             ]
            ],
            "type": "heatmap"
           }
          ],
          "heatmapgl": [
           {
            "colorbar": {
             "outlinewidth": 0,
             "ticks": ""
            },
            "colorscale": [
             [
              0,
              "#0d0887"
             ],
             [
              0.1111111111111111,
              "#46039f"
             ],
             [
              0.2222222222222222,
              "#7201a8"
             ],
             [
              0.3333333333333333,
              "#9c179e"
             ],
             [
              0.4444444444444444,
              "#bd3786"
             ],
             [
              0.5555555555555556,
              "#d8576b"
             ],
             [
              0.6666666666666666,
              "#ed7953"
             ],
             [
              0.7777777777777778,
              "#fb9f3a"
             ],
             [
              0.8888888888888888,
              "#fdca26"
             ],
             [
              1,
              "#f0f921"
             ]
            ],
            "type": "heatmapgl"
           }
          ],
          "histogram": [
           {
            "marker": {
             "colorbar": {
              "outlinewidth": 0,
              "ticks": ""
             }
            },
            "type": "histogram"
           }
          ],
          "histogram2d": [
           {
            "colorbar": {
             "outlinewidth": 0,
             "ticks": ""
            },
            "colorscale": [
             [
              0,
              "#0d0887"
             ],
             [
              0.1111111111111111,
              "#46039f"
             ],
             [
              0.2222222222222222,
              "#7201a8"
             ],
             [
              0.3333333333333333,
              "#9c179e"
             ],
             [
              0.4444444444444444,
              "#bd3786"
             ],
             [
              0.5555555555555556,
              "#d8576b"
             ],
             [
              0.6666666666666666,
              "#ed7953"
             ],
             [
              0.7777777777777778,
              "#fb9f3a"
             ],
             [
              0.8888888888888888,
              "#fdca26"
             ],
             [
              1,
              "#f0f921"
             ]
            ],
            "type": "histogram2d"
           }
          ],
          "histogram2dcontour": [
           {
            "colorbar": {
             "outlinewidth": 0,
             "ticks": ""
            },
            "colorscale": [
             [
              0,
              "#0d0887"
             ],
             [
              0.1111111111111111,
              "#46039f"
             ],
             [
              0.2222222222222222,
              "#7201a8"
             ],
             [
              0.3333333333333333,
              "#9c179e"
             ],
             [
              0.4444444444444444,
              "#bd3786"
             ],
             [
              0.5555555555555556,
              "#d8576b"
             ],
             [
              0.6666666666666666,
              "#ed7953"
             ],
             [
              0.7777777777777778,
              "#fb9f3a"
             ],
             [
              0.8888888888888888,
              "#fdca26"
             ],
             [
              1,
              "#f0f921"
             ]
            ],
            "type": "histogram2dcontour"
           }
          ],
          "mesh3d": [
           {
            "colorbar": {
             "outlinewidth": 0,
             "ticks": ""
            },
            "type": "mesh3d"
           }
          ],
          "parcoords": [
           {
            "line": {
             "colorbar": {
              "outlinewidth": 0,
              "ticks": ""
             }
            },
            "type": "parcoords"
           }
          ],
          "pie": [
           {
            "automargin": true,
            "type": "pie"
           }
          ],
          "scatter": [
           {
            "marker": {
             "colorbar": {
              "outlinewidth": 0,
              "ticks": ""
             }
            },
            "type": "scatter"
           }
          ],
          "scatter3d": [
           {
            "line": {
             "colorbar": {
              "outlinewidth": 0,
              "ticks": ""
             }
            },
            "marker": {
             "colorbar": {
              "outlinewidth": 0,
              "ticks": ""
             }
            },
            "type": "scatter3d"
           }
          ],
          "scattercarpet": [
           {
            "marker": {
             "colorbar": {
              "outlinewidth": 0,
              "ticks": ""
             }
            },
            "type": "scattercarpet"
           }
          ],
          "scattergeo": [
           {
            "marker": {
             "colorbar": {
              "outlinewidth": 0,
              "ticks": ""
             }
            },
            "type": "scattergeo"
           }
          ],
          "scattergl": [
           {
            "marker": {
             "colorbar": {
              "outlinewidth": 0,
              "ticks": ""
             }
            },
            "type": "scattergl"
           }
          ],
          "scattermapbox": [
           {
            "marker": {
             "colorbar": {
              "outlinewidth": 0,
              "ticks": ""
             }
            },
            "type": "scattermapbox"
           }
          ],
          "scatterpolar": [
           {
            "marker": {
             "colorbar": {
              "outlinewidth": 0,
              "ticks": ""
             }
            },
            "type": "scatterpolar"
           }
          ],
          "scatterpolargl": [
           {
            "marker": {
             "colorbar": {
              "outlinewidth": 0,
              "ticks": ""
             }
            },
            "type": "scatterpolargl"
           }
          ],
          "scatterternary": [
           {
            "marker": {
             "colorbar": {
              "outlinewidth": 0,
              "ticks": ""
             }
            },
            "type": "scatterternary"
           }
          ],
          "surface": [
           {
            "colorbar": {
             "outlinewidth": 0,
             "ticks": ""
            },
            "colorscale": [
             [
              0,
              "#0d0887"
             ],
             [
              0.1111111111111111,
              "#46039f"
             ],
             [
              0.2222222222222222,
              "#7201a8"
             ],
             [
              0.3333333333333333,
              "#9c179e"
             ],
             [
              0.4444444444444444,
              "#bd3786"
             ],
             [
              0.5555555555555556,
              "#d8576b"
             ],
             [
              0.6666666666666666,
              "#ed7953"
             ],
             [
              0.7777777777777778,
              "#fb9f3a"
             ],
             [
              0.8888888888888888,
              "#fdca26"
             ],
             [
              1,
              "#f0f921"
             ]
            ],
            "type": "surface"
           }
          ],
          "table": [
           {
            "cells": {
             "fill": {
              "color": "#EBF0F8"
             },
             "line": {
              "color": "white"
             }
            },
            "header": {
             "fill": {
              "color": "#C8D4E3"
             },
             "line": {
              "color": "white"
             }
            },
            "type": "table"
           }
          ]
         },
         "layout": {
          "annotationdefaults": {
           "arrowcolor": "#2a3f5f",
           "arrowhead": 0,
           "arrowwidth": 1
          },
          "coloraxis": {
           "colorbar": {
            "outlinewidth": 0,
            "ticks": ""
           }
          },
          "colorscale": {
           "diverging": [
            [
             0,
             "#8e0152"
            ],
            [
             0.1,
             "#c51b7d"
            ],
            [
             0.2,
             "#de77ae"
            ],
            [
             0.3,
             "#f1b6da"
            ],
            [
             0.4,
             "#fde0ef"
            ],
            [
             0.5,
             "#f7f7f7"
            ],
            [
             0.6,
             "#e6f5d0"
            ],
            [
             0.7,
             "#b8e186"
            ],
            [
             0.8,
             "#7fbc41"
            ],
            [
             0.9,
             "#4d9221"
            ],
            [
             1,
             "#276419"
            ]
           ],
           "sequential": [
            [
             0,
             "#0d0887"
            ],
            [
             0.1111111111111111,
             "#46039f"
            ],
            [
             0.2222222222222222,
             "#7201a8"
            ],
            [
             0.3333333333333333,
             "#9c179e"
            ],
            [
             0.4444444444444444,
             "#bd3786"
            ],
            [
             0.5555555555555556,
             "#d8576b"
            ],
            [
             0.6666666666666666,
             "#ed7953"
            ],
            [
             0.7777777777777778,
             "#fb9f3a"
            ],
            [
             0.8888888888888888,
             "#fdca26"
            ],
            [
             1,
             "#f0f921"
            ]
           ],
           "sequentialminus": [
            [
             0,
             "#0d0887"
            ],
            [
             0.1111111111111111,
             "#46039f"
            ],
            [
             0.2222222222222222,
             "#7201a8"
            ],
            [
             0.3333333333333333,
             "#9c179e"
            ],
            [
             0.4444444444444444,
             "#bd3786"
            ],
            [
             0.5555555555555556,
             "#d8576b"
            ],
            [
             0.6666666666666666,
             "#ed7953"
            ],
            [
             0.7777777777777778,
             "#fb9f3a"
            ],
            [
             0.8888888888888888,
             "#fdca26"
            ],
            [
             1,
             "#f0f921"
            ]
           ]
          },
          "colorway": [
           "#636efa",
           "#EF553B",
           "#00cc96",
           "#ab63fa",
           "#FFA15A",
           "#19d3f3",
           "#FF6692",
           "#B6E880",
           "#FF97FF",
           "#FECB52"
          ],
          "font": {
           "color": "#2a3f5f"
          },
          "geo": {
           "bgcolor": "white",
           "lakecolor": "white",
           "landcolor": "#E5ECF6",
           "showlakes": true,
           "showland": true,
           "subunitcolor": "white"
          },
          "hoverlabel": {
           "align": "left"
          },
          "hovermode": "closest",
          "mapbox": {
           "style": "light"
          },
          "paper_bgcolor": "white",
          "plot_bgcolor": "#E5ECF6",
          "polar": {
           "angularaxis": {
            "gridcolor": "white",
            "linecolor": "white",
            "ticks": ""
           },
           "bgcolor": "#E5ECF6",
           "radialaxis": {
            "gridcolor": "white",
            "linecolor": "white",
            "ticks": ""
           }
          },
          "scene": {
           "xaxis": {
            "backgroundcolor": "#E5ECF6",
            "gridcolor": "white",
            "gridwidth": 2,
            "linecolor": "white",
            "showbackground": true,
            "ticks": "",
            "zerolinecolor": "white"
           },
           "yaxis": {
            "backgroundcolor": "#E5ECF6",
            "gridcolor": "white",
            "gridwidth": 2,
            "linecolor": "white",
            "showbackground": true,
            "ticks": "",
            "zerolinecolor": "white"
           },
           "zaxis": {
            "backgroundcolor": "#E5ECF6",
            "gridcolor": "white",
            "gridwidth": 2,
            "linecolor": "white",
            "showbackground": true,
            "ticks": "",
            "zerolinecolor": "white"
           }
          },
          "shapedefaults": {
           "line": {
            "color": "#2a3f5f"
           }
          },
          "ternary": {
           "aaxis": {
            "gridcolor": "white",
            "linecolor": "white",
            "ticks": ""
           },
           "baxis": {
            "gridcolor": "white",
            "linecolor": "white",
            "ticks": ""
           },
           "bgcolor": "#E5ECF6",
           "caxis": {
            "gridcolor": "white",
            "linecolor": "white",
            "ticks": ""
           }
          },
          "title": {
           "x": 0.05
          },
          "xaxis": {
           "automargin": true,
           "gridcolor": "white",
           "linecolor": "white",
           "ticks": "",
           "title": {
            "standoff": 15
           },
           "zerolinecolor": "white",
           "zerolinewidth": 2
          },
          "yaxis": {
           "automargin": true,
           "gridcolor": "white",
           "linecolor": "white",
           "ticks": "",
           "title": {
            "standoff": 15
           },
           "zerolinecolor": "white",
           "zerolinewidth": 2
          }
         }
        },
        "title": {
         "text": "Correlation heatmap of GSS dataframe"
        },
        "xaxis": {
         "constrain": "domain",
         "scaleanchor": "y"
        },
        "yaxis": {
         "autorange": "reversed",
         "constrain": "domain"
        }
       }
      },
      "text/html": [
       "<div>\n",
       "        \n",
       "        \n",
       "            <div id=\"06326e82-005c-4830-995a-e974e942070e\" class=\"plotly-graph-div\" style=\"height:525px; width:100%;\"></div>\n",
       "            <script type=\"text/javascript\">\n",
       "                require([\"plotly\"], function(Plotly) {\n",
       "                    window.PLOTLYENV=window.PLOTLYENV || {};\n",
       "                    \n",
       "                if (document.getElementById(\"06326e82-005c-4830-995a-e974e942070e\")) {\n",
       "                    Plotly.newPlot(\n",
       "                        '06326e82-005c-4830-995a-e974e942070e',\n",
       "                        [{\"coloraxis\": \"coloraxis\", \"hovertemplate\": \"x: %{x}<br>y: %{y}<br>color: %{z}<extra></extra>\", \"type\": \"heatmap\", \"x\": [\"age\", \"educ\", \"paeduc\", \"maeduc\", \"speduc\", \"degree\", \"sex\", \"prestg10\"], \"y\": [\"age\", \"educ\", \"paeduc\", \"maeduc\", \"speduc\", \"degree\", \"sex\", \"prestg10\"], \"z\": [[1.0, -0.01517115915121339, -0.16522674445099272, -0.17360652986230588, 0.01427082686958155, -0.03425866667414948, 0.11478611299476411, 0.05953853526094757], [-0.01517115915121339, 1.0, 0.4845086493212134, 0.42302594962834184, 0.586066545523846, 0.8616503131774321, 0.019649948401396354, 0.4553158979087584], [-0.16522674445099272, 0.4845086493212134, 1.0, 0.6883984963345284, 0.44165753154534465, 0.450611849200884, -0.009904424877481926, 0.32990369810820686], [-0.17360652986230588, 0.42302594962834184, 0.6883984963345284, 1.0, 0.4188177175419539, 0.38559697176332824, 0.023025981636835776, 0.31785020988158363], [0.01427082686958155, 0.586066545523846, 0.44165753154534465, 0.4188177175419539, 1.0, 0.5330706745958042, 0.0591102652685602, 0.3867657694130182], [-0.03425866667414948, 0.8616503131774321, 0.450611849200884, 0.38559697176332824, 0.5330706745958042, 1.0, -0.013017859236290645, 0.4990751559965828], [0.11478611299476411, 0.019649948401396354, -0.009904424877481926, 0.023025981636835776, 0.0591102652685602, -0.013017859236290645, 1.0, 0.09597046459053177], [0.05953853526094757, 0.4553158979087584, 0.32990369810820686, 0.31785020988158363, 0.3867657694130182, 0.4990751559965828, 0.09597046459053177, 1.0]]}],\n",
       "                        {\"coloraxis\": {\"colorscale\": [[0.0, \"rgb(75, 41, 145)\"], [0.16666666666666666, \"rgb(135, 44, 162)\"], [0.3333333333333333, \"rgb(192, 54, 157)\"], [0.5, \"rgb(234, 79, 136)\"], [0.6666666666666666, \"rgb(250, 120, 118)\"], [0.8333333333333334, \"rgb(246, 169, 122)\"], [1.0, \"rgb(237, 217, 163)\"]]}, \"template\": {\"data\": {\"bar\": [{\"error_x\": {\"color\": \"#2a3f5f\"}, \"error_y\": {\"color\": \"#2a3f5f\"}, \"marker\": {\"line\": {\"color\": \"#E5ECF6\", \"width\": 0.5}}, \"type\": \"bar\"}], \"barpolar\": [{\"marker\": {\"line\": {\"color\": \"#E5ECF6\", \"width\": 0.5}}, \"type\": \"barpolar\"}], \"carpet\": [{\"aaxis\": {\"endlinecolor\": \"#2a3f5f\", \"gridcolor\": \"white\", \"linecolor\": \"white\", \"minorgridcolor\": \"white\", \"startlinecolor\": \"#2a3f5f\"}, \"baxis\": {\"endlinecolor\": \"#2a3f5f\", \"gridcolor\": \"white\", \"linecolor\": \"white\", \"minorgridcolor\": \"white\", \"startlinecolor\": \"#2a3f5f\"}, \"type\": \"carpet\"}], \"choropleth\": [{\"colorbar\": {\"outlinewidth\": 0, \"ticks\": \"\"}, \"type\": \"choropleth\"}], \"contour\": [{\"colorbar\": {\"outlinewidth\": 0, \"ticks\": \"\"}, \"colorscale\": [[0.0, \"#0d0887\"], [0.1111111111111111, \"#46039f\"], [0.2222222222222222, \"#7201a8\"], [0.3333333333333333, \"#9c179e\"], [0.4444444444444444, \"#bd3786\"], [0.5555555555555556, \"#d8576b\"], [0.6666666666666666, \"#ed7953\"], [0.7777777777777778, \"#fb9f3a\"], [0.8888888888888888, \"#fdca26\"], [1.0, \"#f0f921\"]], \"type\": \"contour\"}], \"contourcarpet\": [{\"colorbar\": {\"outlinewidth\": 0, \"ticks\": \"\"}, \"type\": \"contourcarpet\"}], \"heatmap\": [{\"colorbar\": {\"outlinewidth\": 0, \"ticks\": \"\"}, \"colorscale\": [[0.0, \"#0d0887\"], [0.1111111111111111, \"#46039f\"], [0.2222222222222222, \"#7201a8\"], [0.3333333333333333, \"#9c179e\"], [0.4444444444444444, \"#bd3786\"], [0.5555555555555556, \"#d8576b\"], [0.6666666666666666, \"#ed7953\"], [0.7777777777777778, \"#fb9f3a\"], [0.8888888888888888, \"#fdca26\"], [1.0, \"#f0f921\"]], \"type\": \"heatmap\"}], \"heatmapgl\": [{\"colorbar\": {\"outlinewidth\": 0, \"ticks\": \"\"}, \"colorscale\": [[0.0, \"#0d0887\"], [0.1111111111111111, \"#46039f\"], [0.2222222222222222, \"#7201a8\"], [0.3333333333333333, \"#9c179e\"], [0.4444444444444444, \"#bd3786\"], [0.5555555555555556, \"#d8576b\"], [0.6666666666666666, \"#ed7953\"], [0.7777777777777778, \"#fb9f3a\"], [0.8888888888888888, \"#fdca26\"], [1.0, \"#f0f921\"]], \"type\": \"heatmapgl\"}], \"histogram\": [{\"marker\": {\"colorbar\": {\"outlinewidth\": 0, \"ticks\": \"\"}}, \"type\": \"histogram\"}], \"histogram2d\": [{\"colorbar\": {\"outlinewidth\": 0, \"ticks\": \"\"}, \"colorscale\": [[0.0, \"#0d0887\"], [0.1111111111111111, \"#46039f\"], [0.2222222222222222, \"#7201a8\"], [0.3333333333333333, \"#9c179e\"], [0.4444444444444444, \"#bd3786\"], [0.5555555555555556, \"#d8576b\"], [0.6666666666666666, \"#ed7953\"], [0.7777777777777778, \"#fb9f3a\"], [0.8888888888888888, \"#fdca26\"], [1.0, \"#f0f921\"]], \"type\": \"histogram2d\"}], \"histogram2dcontour\": [{\"colorbar\": {\"outlinewidth\": 0, \"ticks\": \"\"}, \"colorscale\": [[0.0, \"#0d0887\"], [0.1111111111111111, \"#46039f\"], [0.2222222222222222, \"#7201a8\"], [0.3333333333333333, \"#9c179e\"], [0.4444444444444444, \"#bd3786\"], [0.5555555555555556, \"#d8576b\"], [0.6666666666666666, \"#ed7953\"], [0.7777777777777778, \"#fb9f3a\"], [0.8888888888888888, \"#fdca26\"], [1.0, \"#f0f921\"]], \"type\": \"histogram2dcontour\"}], \"mesh3d\": [{\"colorbar\": {\"outlinewidth\": 0, \"ticks\": \"\"}, \"type\": \"mesh3d\"}], \"parcoords\": [{\"line\": {\"colorbar\": {\"outlinewidth\": 0, \"ticks\": \"\"}}, \"type\": \"parcoords\"}], \"pie\": [{\"automargin\": true, \"type\": \"pie\"}], \"scatter\": [{\"marker\": {\"colorbar\": {\"outlinewidth\": 0, \"ticks\": \"\"}}, \"type\": \"scatter\"}], \"scatter3d\": [{\"line\": {\"colorbar\": {\"outlinewidth\": 0, \"ticks\": \"\"}}, \"marker\": {\"colorbar\": {\"outlinewidth\": 0, \"ticks\": \"\"}}, \"type\": \"scatter3d\"}], \"scattercarpet\": [{\"marker\": {\"colorbar\": {\"outlinewidth\": 0, \"ticks\": \"\"}}, \"type\": \"scattercarpet\"}], \"scattergeo\": [{\"marker\": {\"colorbar\": {\"outlinewidth\": 0, \"ticks\": \"\"}}, \"type\": \"scattergeo\"}], \"scattergl\": [{\"marker\": {\"colorbar\": {\"outlinewidth\": 0, \"ticks\": \"\"}}, \"type\": \"scattergl\"}], \"scattermapbox\": [{\"marker\": {\"colorbar\": {\"outlinewidth\": 0, \"ticks\": \"\"}}, \"type\": \"scattermapbox\"}], \"scatterpolar\": [{\"marker\": {\"colorbar\": {\"outlinewidth\": 0, \"ticks\": \"\"}}, \"type\": \"scatterpolar\"}], \"scatterpolargl\": [{\"marker\": {\"colorbar\": {\"outlinewidth\": 0, \"ticks\": \"\"}}, \"type\": \"scatterpolargl\"}], \"scatterternary\": [{\"marker\": {\"colorbar\": {\"outlinewidth\": 0, \"ticks\": \"\"}}, \"type\": \"scatterternary\"}], \"surface\": [{\"colorbar\": {\"outlinewidth\": 0, \"ticks\": \"\"}, \"colorscale\": [[0.0, \"#0d0887\"], [0.1111111111111111, \"#46039f\"], [0.2222222222222222, \"#7201a8\"], [0.3333333333333333, \"#9c179e\"], [0.4444444444444444, \"#bd3786\"], [0.5555555555555556, \"#d8576b\"], [0.6666666666666666, \"#ed7953\"], [0.7777777777777778, \"#fb9f3a\"], [0.8888888888888888, \"#fdca26\"], [1.0, \"#f0f921\"]], \"type\": \"surface\"}], \"table\": [{\"cells\": {\"fill\": {\"color\": \"#EBF0F8\"}, \"line\": {\"color\": \"white\"}}, \"header\": {\"fill\": {\"color\": \"#C8D4E3\"}, \"line\": {\"color\": \"white\"}}, \"type\": \"table\"}]}, \"layout\": {\"annotationdefaults\": {\"arrowcolor\": \"#2a3f5f\", \"arrowhead\": 0, \"arrowwidth\": 1}, \"coloraxis\": {\"colorbar\": {\"outlinewidth\": 0, \"ticks\": \"\"}}, \"colorscale\": {\"diverging\": [[0, \"#8e0152\"], [0.1, \"#c51b7d\"], [0.2, \"#de77ae\"], [0.3, \"#f1b6da\"], [0.4, \"#fde0ef\"], [0.5, \"#f7f7f7\"], [0.6, \"#e6f5d0\"], [0.7, \"#b8e186\"], [0.8, \"#7fbc41\"], [0.9, \"#4d9221\"], [1, \"#276419\"]], \"sequential\": [[0.0, \"#0d0887\"], [0.1111111111111111, \"#46039f\"], [0.2222222222222222, \"#7201a8\"], [0.3333333333333333, \"#9c179e\"], [0.4444444444444444, \"#bd3786\"], [0.5555555555555556, \"#d8576b\"], [0.6666666666666666, \"#ed7953\"], [0.7777777777777778, \"#fb9f3a\"], [0.8888888888888888, \"#fdca26\"], [1.0, \"#f0f921\"]], \"sequentialminus\": [[0.0, \"#0d0887\"], [0.1111111111111111, \"#46039f\"], [0.2222222222222222, \"#7201a8\"], [0.3333333333333333, \"#9c179e\"], [0.4444444444444444, \"#bd3786\"], [0.5555555555555556, \"#d8576b\"], [0.6666666666666666, \"#ed7953\"], [0.7777777777777778, \"#fb9f3a\"], [0.8888888888888888, \"#fdca26\"], [1.0, \"#f0f921\"]]}, \"colorway\": [\"#636efa\", \"#EF553B\", \"#00cc96\", \"#ab63fa\", \"#FFA15A\", \"#19d3f3\", \"#FF6692\", \"#B6E880\", \"#FF97FF\", \"#FECB52\"], \"font\": {\"color\": \"#2a3f5f\"}, \"geo\": {\"bgcolor\": \"white\", \"lakecolor\": \"white\", \"landcolor\": \"#E5ECF6\", \"showlakes\": true, \"showland\": true, \"subunitcolor\": \"white\"}, \"hoverlabel\": {\"align\": \"left\"}, \"hovermode\": \"closest\", \"mapbox\": {\"style\": \"light\"}, \"paper_bgcolor\": \"white\", \"plot_bgcolor\": \"#E5ECF6\", \"polar\": {\"angularaxis\": {\"gridcolor\": \"white\", \"linecolor\": \"white\", \"ticks\": \"\"}, \"bgcolor\": \"#E5ECF6\", \"radialaxis\": {\"gridcolor\": \"white\", \"linecolor\": \"white\", \"ticks\": \"\"}}, \"scene\": {\"xaxis\": {\"backgroundcolor\": \"#E5ECF6\", \"gridcolor\": \"white\", \"gridwidth\": 2, \"linecolor\": \"white\", \"showbackground\": true, \"ticks\": \"\", \"zerolinecolor\": \"white\"}, \"yaxis\": {\"backgroundcolor\": \"#E5ECF6\", \"gridcolor\": \"white\", \"gridwidth\": 2, \"linecolor\": \"white\", \"showbackground\": true, \"ticks\": \"\", \"zerolinecolor\": \"white\"}, \"zaxis\": {\"backgroundcolor\": \"#E5ECF6\", \"gridcolor\": \"white\", \"gridwidth\": 2, \"linecolor\": \"white\", \"showbackground\": true, \"ticks\": \"\", \"zerolinecolor\": \"white\"}}, \"shapedefaults\": {\"line\": {\"color\": \"#2a3f5f\"}}, \"ternary\": {\"aaxis\": {\"gridcolor\": \"white\", \"linecolor\": \"white\", \"ticks\": \"\"}, \"baxis\": {\"gridcolor\": \"white\", \"linecolor\": \"white\", \"ticks\": \"\"}, \"bgcolor\": \"#E5ECF6\", \"caxis\": {\"gridcolor\": \"white\", \"linecolor\": \"white\", \"ticks\": \"\"}}, \"title\": {\"x\": 0.05}, \"xaxis\": {\"automargin\": true, \"gridcolor\": \"white\", \"linecolor\": \"white\", \"ticks\": \"\", \"title\": {\"standoff\": 15}, \"zerolinecolor\": \"white\", \"zerolinewidth\": 2}, \"yaxis\": {\"automargin\": true, \"gridcolor\": \"white\", \"linecolor\": \"white\", \"ticks\": \"\", \"title\": {\"standoff\": 15}, \"zerolinecolor\": \"white\", \"zerolinewidth\": 2}}}, \"title\": {\"text\": \"Correlation heatmap of GSS dataframe\"}, \"xaxis\": {\"constrain\": \"domain\", \"scaleanchor\": \"y\"}, \"yaxis\": {\"autorange\": \"reversed\", \"constrain\": \"domain\"}},\n",
       "                        {\"responsive\": true}\n",
       "                    ).then(function(){\n",
       "                            \n",
       "var gd = document.getElementById('06326e82-005c-4830-995a-e974e942070e');\n",
       "var x = new MutationObserver(function (mutations, observer) {{\n",
       "        var display = window.getComputedStyle(gd).display;\n",
       "        if (!display || display === 'none') {{\n",
       "            console.log([gd, 'removed!']);\n",
       "            Plotly.purge(gd);\n",
       "            observer.disconnect();\n",
       "        }}\n",
       "}});\n",
       "\n",
       "// Listen for the removal of the full notebook cells\n",
       "var notebookContainer = gd.closest('#notebook-container');\n",
       "if (notebookContainer) {{\n",
       "    x.observe(notebookContainer, {childList: true});\n",
       "}}\n",
       "\n",
       "// Listen for the clearing of the current output cell\n",
       "var outputEl = gd.closest('.output');\n",
       "if (outputEl) {{\n",
       "    x.observe(outputEl, {childList: true});\n",
       "}}\n",
       "\n",
       "                        })\n",
       "                };\n",
       "                });\n",
       "            </script>\n",
       "        </div>"
      ]
     },
     "metadata": {},
     "output_type": "display_data"
    }
   ],
   "source": [
    "px.imshow(gss_df.corr(), color_continuous_scale='Agsunset', title=\"Correlation heatmap of GSS dataframe\")"
   ]
  },
  {
   "cell_type": "markdown",
   "metadata": {},
   "source": [
    "Interesting things from this table:\n",
    "1. I'm curious why age and educ are negatively correlated... let's plot and see if we can discern anything\n",
    "2. educ and degree have a high correlation."
   ]
  },
  {
   "cell_type": "code",
   "execution_count": 23,
   "metadata": {},
   "outputs": [
    {
     "data": {
      "application/vnd.plotly.v1+json": {
       "config": {
        "plotlyServerURL": "https://plot.ly"
       },
       "data": [
        {
         "hovertemplate": "age=%{x}<br>educ=%{y}<extra></extra>",
         "legendgroup": "",
         "marker": {
          "color": "#636efa",
          "symbol": "circle"
         },
         "mode": "markers",
         "name": "",
         "orientation": "v",
         "showlegend": false,
         "type": "scatter",
         "x": [
          42,
          63,
          55,
          44,
          55,
          40,
          56,
          60,
          65,
          45,
          60,
          40,
          33,
          46,
          43,
          27,
          37,
          42,
          37,
          71,
          40,
          55,
          77,
          69,
          50,
          54,
          62,
          56,
          70,
          35,
          56,
          61,
          59,
          41,
          60,
          69,
          35,
          38,
          34,
          48,
          51,
          65,
          36,
          40,
          42,
          46,
          36,
          57,
          69,
          48,
          68,
          64,
          43,
          47,
          57,
          50,
          33,
          34,
          46,
          51,
          49,
          44,
          29,
          48,
          65,
          61,
          66,
          37,
          31,
          69,
          45,
          54,
          61,
          48,
          53,
          45,
          60,
          63,
          34,
          58,
          63,
          67,
          63,
          45,
          46,
          56,
          37,
          69,
          57,
          42,
          76,
          34,
          34,
          70,
          71,
          54,
          40,
          72,
          35,
          28,
          51,
          60,
          68,
          43,
          36,
          39,
          60,
          61,
          32,
          30,
          61,
          38,
          67,
          68,
          61,
          72,
          48,
          48,
          34,
          77,
          69,
          71,
          38,
          69,
          43,
          53,
          69,
          57,
          63,
          32,
          59,
          57,
          51,
          44,
          36,
          32,
          59,
          31,
          48,
          29,
          37,
          64,
          22,
          76,
          48,
          76,
          55,
          70,
          43,
          70,
          40,
          59,
          70,
          32,
          60,
          33,
          72,
          66,
          33,
          28,
          30,
          37,
          38,
          84,
          66,
          29,
          39,
          33,
          70,
          50,
          54,
          48,
          73,
          72,
          68,
          60,
          63,
          35,
          61,
          57,
          59,
          61,
          39,
          38,
          71,
          52,
          65,
          53,
          41,
          62,
          71,
          66,
          39,
          53,
          67,
          37,
          45,
          53,
          50,
          64,
          58,
          53,
          53,
          64,
          42,
          51,
          44,
          61,
          70,
          59,
          28,
          53,
          57,
          51,
          40,
          29,
          40,
          47,
          26,
          36,
          65,
          38,
          86,
          59,
          54,
          71,
          58,
          34,
          71,
          46,
          71,
          39,
          45,
          47,
          46,
          73,
          43,
          68,
          47,
          68,
          54,
          34,
          64,
          36,
          44,
          51,
          73,
          34,
          35,
          33,
          48,
          74,
          62,
          19,
          40,
          49,
          39,
          64,
          56,
          50,
          61,
          74,
          40,
          47,
          56,
          25,
          55,
          39,
          76,
          53,
          63,
          62,
          56,
          64,
          32,
          27,
          79,
          77,
          45,
          64,
          49,
          31,
          42,
          47,
          48,
          53,
          32,
          66,
          38,
          49,
          51,
          59,
          73,
          67,
          70,
          61,
          50,
          48,
          47,
          55,
          70,
          61,
          38,
          22,
          45,
          37,
          41,
          57,
          43,
          46,
          37,
          60,
          57,
          28,
          84,
          37,
          55,
          51,
          61,
          30,
          34,
          70,
          43,
          65,
          29,
          50,
          37,
          50,
          49,
          72,
          33,
          53,
          30,
          61,
          39,
          27,
          60,
          33,
          70,
          57,
          48,
          27,
          41,
          55,
          63,
          84,
          82,
          50,
          28,
          64,
          73,
          68,
          51,
          63,
          71,
          34,
          57,
          51,
          49,
          68,
          70,
          68,
          46,
          74,
          85,
          37,
          22,
          43,
          73,
          34,
          75,
          28,
          52,
          63,
          43,
          36,
          48,
          32,
          53,
          47,
          37,
          32,
          69,
          30,
          36,
          39,
          53,
          31,
          60,
          61,
          70,
          51,
          65,
          47,
          24,
          42,
          76,
          36,
          77,
          32,
          39,
          71,
          69,
          35,
          80,
          42,
          36,
          24,
          49,
          34,
          70,
          33,
          68,
          54,
          60,
          60,
          36,
          31,
          38,
          29,
          33,
          42,
          57,
          68,
          38,
          38,
          68,
          57,
          49,
          65,
          52,
          58,
          86,
          24,
          38,
          46,
          34,
          44,
          48,
          55,
          25,
          59,
          69,
          31,
          43,
          47,
          72,
          60,
          38,
          65,
          66,
          77,
          46,
          58,
          25,
          58,
          69,
          35,
          70,
          53,
          64,
          58,
          22,
          60,
          42,
          39,
          32,
          85,
          44,
          60,
          72,
          27,
          42,
          38,
          51,
          71,
          35,
          78,
          36,
          88,
          59,
          61,
          38,
          40,
          69,
          54,
          59,
          34,
          35,
          42,
          39,
          71,
          56,
          54,
          33,
          61,
          71,
          42,
          42,
          42,
          47,
          37,
          43,
          43,
          36,
          74,
          34,
          30,
          34,
          34,
          39,
          65,
          37,
          78,
          34,
          43,
          28,
          40,
          55,
          43,
          69,
          51,
          74,
          48,
          63,
          59,
          38,
          51,
          58,
          35,
          68,
          54,
          47,
          63,
          23,
          41,
          54,
          59,
          34,
          37,
          30,
          33,
          60,
          47,
          67,
          36,
          82,
          66,
          47,
          32,
          35,
          59,
          41,
          55,
          66,
          60,
          58,
          45,
          87,
          73,
          18,
          28,
          67,
          33,
          45,
          39,
          81,
          52,
          36,
          54,
          34,
          30,
          49,
          80,
          43,
          33,
          35,
          35,
          60,
          64,
          41,
          56,
          26,
          39,
          60,
          56,
          62,
          44,
          55,
          36,
          39,
          24,
          30,
          32,
          59,
          38,
          70,
          35,
          67,
          71,
          56,
          49,
          64,
          41,
          73,
          74,
          69,
          55,
          51,
          66,
          44,
          24,
          28,
          34,
          25,
          71,
          53,
          66,
          44,
          76,
          34,
          41,
          34,
          27,
          28,
          80,
          75,
          73,
          64,
          36,
          37,
          39,
          40,
          39,
          63,
          39,
          48,
          46,
          51,
          63,
          56,
          39,
          36,
          74,
          52,
          39,
          35,
          49,
          36,
          62,
          59,
          55,
          37,
          72,
          58,
          65,
          50,
          85,
          66,
          49,
          31,
          38,
          63,
          38,
          77,
          29,
          59,
          39,
          52,
          65,
          37,
          56,
          40,
          39,
          37,
          62,
          33,
          40,
          50,
          71,
          51,
          73,
          58,
          27,
          30,
          53,
          57,
          61,
          30,
          77,
          34,
          65,
          40,
          35,
          43,
          60,
          40,
          54,
          56,
          36,
          53,
          43,
          38,
          50,
          35,
          76,
          54,
          29,
          75,
          67,
          72
         ],
         "xaxis": "x",
         "y": [
          16,
          16,
          12,
          16,
          16,
          14,
          16,
          16,
          18,
          19,
          18,
          18,
          18,
          16,
          16,
          13,
          16,
          20,
          16,
          16,
          13,
          18,
          19,
          13,
          18,
          16,
          14,
          12,
          16,
          17,
          12,
          12,
          16,
          20,
          17,
          15,
          16,
          12,
          17,
          7,
          15,
          14,
          20,
          16,
          18,
          16,
          16,
          11,
          12,
          14,
          16,
          13,
          16,
          12,
          12,
          3,
          12,
          19,
          16,
          12,
          11,
          17,
          12,
          17,
          18,
          13,
          12,
          16,
          12,
          16,
          16,
          16,
          16,
          18,
          16,
          18,
          12,
          16,
          13,
          14,
          12,
          12,
          19,
          16,
          16,
          13,
          12,
          14,
          16,
          20,
          19,
          20,
          16,
          18,
          12,
          16,
          16,
          16,
          16,
          14,
          14,
          20,
          16,
          20,
          12,
          18,
          12,
          13,
          14,
          18,
          16,
          16,
          15,
          14,
          16,
          12,
          15,
          16,
          0,
          16,
          19,
          16,
          3,
          15,
          14,
          13,
          15,
          14,
          15,
          16,
          14,
          12,
          18,
          20,
          16,
          16,
          16,
          18,
          12,
          17,
          16,
          12,
          14,
          16,
          14,
          15,
          16,
          16,
          18,
          15,
          18,
          20,
          12,
          15,
          12,
          12,
          16,
          20,
          12,
          16,
          16,
          11,
          16,
          14,
          17,
          16,
          17,
          16,
          16,
          16,
          17,
          14,
          16,
          12,
          18,
          12,
          12,
          13,
          12,
          18,
          14,
          18,
          13,
          12,
          16,
          13,
          16,
          16,
          17,
          14,
          16,
          17,
          16,
          16,
          16,
          20,
          12,
          17,
          14,
          14,
          16,
          19,
          14,
          9,
          9,
          5,
          16,
          16,
          19,
          19,
          12,
          16,
          15,
          11,
          14,
          16,
          12,
          14,
          15,
          16,
          16,
          14,
          13,
          12,
          15,
          15,
          16,
          12,
          12,
          14,
          12,
          18,
          18,
          18,
          18,
          18,
          14,
          16,
          10,
          12,
          20,
          14,
          16,
          16,
          16,
          14,
          14,
          16,
          16,
          12,
          12,
          16,
          20,
          12,
          16,
          16,
          12,
          16,
          12,
          16,
          12,
          16,
          12,
          9,
          14,
          12,
          14,
          14,
          6,
          14,
          16,
          16,
          17,
          16,
          13,
          12,
          13,
          12,
          16,
          16,
          17,
          17,
          16,
          16,
          16,
          12,
          14,
          12,
          12,
          17,
          12,
          20,
          18,
          18,
          19,
          16,
          14,
          18,
          17,
          15,
          9,
          12,
          14,
          13,
          14,
          16,
          16,
          17,
          16,
          16,
          16,
          13,
          13,
          16,
          16,
          16,
          16,
          16,
          14,
          13,
          16,
          14,
          20,
          12,
          13,
          13,
          14,
          16,
          16,
          14,
          13,
          14,
          16,
          16,
          18,
          16,
          12,
          14,
          17,
          12,
          18,
          15,
          12,
          16,
          20,
          16,
          17,
          12,
          14,
          16,
          12,
          13,
          20,
          12,
          12,
          16,
          12,
          12,
          16,
          16,
          17,
          12,
          16,
          18,
          12,
          17,
          12,
          16,
          16,
          16,
          13,
          12,
          16,
          14,
          11,
          17,
          12,
          12,
          12,
          12,
          16,
          16,
          16,
          20,
          16,
          16,
          11,
          18,
          14,
          12,
          12,
          14,
          16,
          16,
          12,
          13,
          12,
          12,
          12,
          12,
          17,
          12,
          18,
          3,
          16,
          12,
          3,
          12,
          15,
          18,
          12,
          12,
          16,
          14,
          12,
          14,
          18,
          12,
          16,
          16,
          3,
          14,
          19,
          14,
          20,
          15,
          11,
          13,
          14,
          14,
          18,
          16,
          10,
          16,
          14,
          18,
          12,
          13,
          18,
          18,
          15,
          12,
          13,
          16,
          16,
          12,
          16,
          18,
          16,
          14,
          12,
          16,
          6,
          14,
          14,
          11,
          10,
          9,
          15,
          12,
          20,
          12,
          12,
          11,
          13,
          14,
          16,
          17,
          17,
          18,
          18,
          14,
          11,
          12,
          14,
          15,
          12,
          14,
          12,
          11,
          16,
          20,
          14,
          12,
          12,
          12,
          16,
          19,
          16,
          16,
          12,
          8,
          12,
          19,
          17,
          16,
          16,
          15,
          14,
          16,
          12,
          12,
          16,
          16,
          16,
          19,
          12,
          17,
          15,
          16,
          17,
          12,
          20,
          15,
          13,
          18,
          19,
          14,
          15,
          18,
          12,
          12,
          14,
          12,
          12,
          16,
          18,
          12,
          16,
          16,
          12,
          12,
          16,
          16,
          13,
          12,
          12,
          16,
          16,
          15,
          16,
          16,
          16,
          20,
          12,
          16,
          13,
          16,
          16,
          16,
          16,
          19,
          16,
          14,
          14,
          12,
          12,
          16,
          11,
          14,
          12,
          10,
          13,
          12,
          18,
          11,
          14,
          13,
          12,
          12,
          9,
          12,
          11,
          10,
          10,
          15,
          15,
          20,
          20,
          13,
          16,
          18,
          16,
          19,
          16,
          20,
          16,
          20,
          16,
          14,
          10,
          12,
          12,
          13,
          13,
          9,
          12,
          13,
          14,
          14,
          17,
          15,
          15,
          16,
          15,
          13,
          15,
          18,
          15,
          15,
          20,
          19,
          15,
          14,
          14,
          19,
          20,
          12,
          12,
          14,
          12,
          11,
          12,
          12,
          14,
          16,
          12,
          12,
          12,
          14,
          16,
          17,
          14,
          16,
          12,
          12,
          15,
          13,
          14,
          16,
          16,
          13,
          12,
          12,
          13,
          14,
          14,
          12,
          17,
          12,
          16,
          12,
          12,
          16,
          9,
          12,
          12,
          12,
          12,
          14,
          14,
          12,
          12,
          14,
          12,
          12,
          12,
          12,
          12,
          12,
          12,
          16,
          12,
          16,
          15,
          12,
          20,
          16,
          20,
          14,
          17,
          13,
          2,
          18,
          17,
          8,
          12,
          12,
          19,
          8,
          3,
          12,
          15,
          12,
          9,
          10,
          12,
          13,
          17,
          20,
          15,
          14,
          16,
          14,
          17,
          20,
          18,
          14,
          12,
          12,
          16
         ],
         "yaxis": "y"
        }
       ],
       "layout": {
        "legend": {
         "tracegroupgap": 0
        },
        "margin": {
         "t": 60
        },
        "template": {
         "data": {
          "bar": [
           {
            "error_x": {
             "color": "#2a3f5f"
            },
            "error_y": {
             "color": "#2a3f5f"
            },
            "marker": {
             "line": {
              "color": "#E5ECF6",
              "width": 0.5
             }
            },
            "type": "bar"
           }
          ],
          "barpolar": [
           {
            "marker": {
             "line": {
              "color": "#E5ECF6",
              "width": 0.5
             }
            },
            "type": "barpolar"
           }
          ],
          "carpet": [
           {
            "aaxis": {
             "endlinecolor": "#2a3f5f",
             "gridcolor": "white",
             "linecolor": "white",
             "minorgridcolor": "white",
             "startlinecolor": "#2a3f5f"
            },
            "baxis": {
             "endlinecolor": "#2a3f5f",
             "gridcolor": "white",
             "linecolor": "white",
             "minorgridcolor": "white",
             "startlinecolor": "#2a3f5f"
            },
            "type": "carpet"
           }
          ],
          "choropleth": [
           {
            "colorbar": {
             "outlinewidth": 0,
             "ticks": ""
            },
            "type": "choropleth"
           }
          ],
          "contour": [
           {
            "colorbar": {
             "outlinewidth": 0,
             "ticks": ""
            },
            "colorscale": [
             [
              0,
              "#0d0887"
             ],
             [
              0.1111111111111111,
              "#46039f"
             ],
             [
              0.2222222222222222,
              "#7201a8"
             ],
             [
              0.3333333333333333,
              "#9c179e"
             ],
             [
              0.4444444444444444,
              "#bd3786"
             ],
             [
              0.5555555555555556,
              "#d8576b"
             ],
             [
              0.6666666666666666,
              "#ed7953"
             ],
             [
              0.7777777777777778,
              "#fb9f3a"
             ],
             [
              0.8888888888888888,
              "#fdca26"
             ],
             [
              1,
              "#f0f921"
             ]
            ],
            "type": "contour"
           }
          ],
          "contourcarpet": [
           {
            "colorbar": {
             "outlinewidth": 0,
             "ticks": ""
            },
            "type": "contourcarpet"
           }
          ],
          "heatmap": [
           {
            "colorbar": {
             "outlinewidth": 0,
             "ticks": ""
            },
            "colorscale": [
             [
              0,
              "#0d0887"
             ],
             [
              0.1111111111111111,
              "#46039f"
             ],
             [
              0.2222222222222222,
              "#7201a8"
             ],
             [
              0.3333333333333333,
              "#9c179e"
             ],
             [
              0.4444444444444444,
              "#bd3786"
             ],
             [
              0.5555555555555556,
              "#d8576b"
             ],
             [
              0.6666666666666666,
              "#ed7953"
             ],
             [
              0.7777777777777778,
              "#fb9f3a"
             ],
             [
              0.8888888888888888,
              "#fdca26"
             ],
             [
              1,
              "#f0f921"
             ]
            ],
            "type": "heatmap"
           }
          ],
          "heatmapgl": [
           {
            "colorbar": {
             "outlinewidth": 0,
             "ticks": ""
            },
            "colorscale": [
             [
              0,
              "#0d0887"
             ],
             [
              0.1111111111111111,
              "#46039f"
             ],
             [
              0.2222222222222222,
              "#7201a8"
             ],
             [
              0.3333333333333333,
              "#9c179e"
             ],
             [
              0.4444444444444444,
              "#bd3786"
             ],
             [
              0.5555555555555556,
              "#d8576b"
             ],
             [
              0.6666666666666666,
              "#ed7953"
             ],
             [
              0.7777777777777778,
              "#fb9f3a"
             ],
             [
              0.8888888888888888,
              "#fdca26"
             ],
             [
              1,
              "#f0f921"
             ]
            ],
            "type": "heatmapgl"
           }
          ],
          "histogram": [
           {
            "marker": {
             "colorbar": {
              "outlinewidth": 0,
              "ticks": ""
             }
            },
            "type": "histogram"
           }
          ],
          "histogram2d": [
           {
            "colorbar": {
             "outlinewidth": 0,
             "ticks": ""
            },
            "colorscale": [
             [
              0,
              "#0d0887"
             ],
             [
              0.1111111111111111,
              "#46039f"
             ],
             [
              0.2222222222222222,
              "#7201a8"
             ],
             [
              0.3333333333333333,
              "#9c179e"
             ],
             [
              0.4444444444444444,
              "#bd3786"
             ],
             [
              0.5555555555555556,
              "#d8576b"
             ],
             [
              0.6666666666666666,
              "#ed7953"
             ],
             [
              0.7777777777777778,
              "#fb9f3a"
             ],
             [
              0.8888888888888888,
              "#fdca26"
             ],
             [
              1,
              "#f0f921"
             ]
            ],
            "type": "histogram2d"
           }
          ],
          "histogram2dcontour": [
           {
            "colorbar": {
             "outlinewidth": 0,
             "ticks": ""
            },
            "colorscale": [
             [
              0,
              "#0d0887"
             ],
             [
              0.1111111111111111,
              "#46039f"
             ],
             [
              0.2222222222222222,
              "#7201a8"
             ],
             [
              0.3333333333333333,
              "#9c179e"
             ],
             [
              0.4444444444444444,
              "#bd3786"
             ],
             [
              0.5555555555555556,
              "#d8576b"
             ],
             [
              0.6666666666666666,
              "#ed7953"
             ],
             [
              0.7777777777777778,
              "#fb9f3a"
             ],
             [
              0.8888888888888888,
              "#fdca26"
             ],
             [
              1,
              "#f0f921"
             ]
            ],
            "type": "histogram2dcontour"
           }
          ],
          "mesh3d": [
           {
            "colorbar": {
             "outlinewidth": 0,
             "ticks": ""
            },
            "type": "mesh3d"
           }
          ],
          "parcoords": [
           {
            "line": {
             "colorbar": {
              "outlinewidth": 0,
              "ticks": ""
             }
            },
            "type": "parcoords"
           }
          ],
          "pie": [
           {
            "automargin": true,
            "type": "pie"
           }
          ],
          "scatter": [
           {
            "marker": {
             "colorbar": {
              "outlinewidth": 0,
              "ticks": ""
             }
            },
            "type": "scatter"
           }
          ],
          "scatter3d": [
           {
            "line": {
             "colorbar": {
              "outlinewidth": 0,
              "ticks": ""
             }
            },
            "marker": {
             "colorbar": {
              "outlinewidth": 0,
              "ticks": ""
             }
            },
            "type": "scatter3d"
           }
          ],
          "scattercarpet": [
           {
            "marker": {
             "colorbar": {
              "outlinewidth": 0,
              "ticks": ""
             }
            },
            "type": "scattercarpet"
           }
          ],
          "scattergeo": [
           {
            "marker": {
             "colorbar": {
              "outlinewidth": 0,
              "ticks": ""
             }
            },
            "type": "scattergeo"
           }
          ],
          "scattergl": [
           {
            "marker": {
             "colorbar": {
              "outlinewidth": 0,
              "ticks": ""
             }
            },
            "type": "scattergl"
           }
          ],
          "scattermapbox": [
           {
            "marker": {
             "colorbar": {
              "outlinewidth": 0,
              "ticks": ""
             }
            },
            "type": "scattermapbox"
           }
          ],
          "scatterpolar": [
           {
            "marker": {
             "colorbar": {
              "outlinewidth": 0,
              "ticks": ""
             }
            },
            "type": "scatterpolar"
           }
          ],
          "scatterpolargl": [
           {
            "marker": {
             "colorbar": {
              "outlinewidth": 0,
              "ticks": ""
             }
            },
            "type": "scatterpolargl"
           }
          ],
          "scatterternary": [
           {
            "marker": {
             "colorbar": {
              "outlinewidth": 0,
              "ticks": ""
             }
            },
            "type": "scatterternary"
           }
          ],
          "surface": [
           {
            "colorbar": {
             "outlinewidth": 0,
             "ticks": ""
            },
            "colorscale": [
             [
              0,
              "#0d0887"
             ],
             [
              0.1111111111111111,
              "#46039f"
             ],
             [
              0.2222222222222222,
              "#7201a8"
             ],
             [
              0.3333333333333333,
              "#9c179e"
             ],
             [
              0.4444444444444444,
              "#bd3786"
             ],
             [
              0.5555555555555556,
              "#d8576b"
             ],
             [
              0.6666666666666666,
              "#ed7953"
             ],
             [
              0.7777777777777778,
              "#fb9f3a"
             ],
             [
              0.8888888888888888,
              "#fdca26"
             ],
             [
              1,
              "#f0f921"
             ]
            ],
            "type": "surface"
           }
          ],
          "table": [
           {
            "cells": {
             "fill": {
              "color": "#EBF0F8"
             },
             "line": {
              "color": "white"
             }
            },
            "header": {
             "fill": {
              "color": "#C8D4E3"
             },
             "line": {
              "color": "white"
             }
            },
            "type": "table"
           }
          ]
         },
         "layout": {
          "annotationdefaults": {
           "arrowcolor": "#2a3f5f",
           "arrowhead": 0,
           "arrowwidth": 1
          },
          "coloraxis": {
           "colorbar": {
            "outlinewidth": 0,
            "ticks": ""
           }
          },
          "colorscale": {
           "diverging": [
            [
             0,
             "#8e0152"
            ],
            [
             0.1,
             "#c51b7d"
            ],
            [
             0.2,
             "#de77ae"
            ],
            [
             0.3,
             "#f1b6da"
            ],
            [
             0.4,
             "#fde0ef"
            ],
            [
             0.5,
             "#f7f7f7"
            ],
            [
             0.6,
             "#e6f5d0"
            ],
            [
             0.7,
             "#b8e186"
            ],
            [
             0.8,
             "#7fbc41"
            ],
            [
             0.9,
             "#4d9221"
            ],
            [
             1,
             "#276419"
            ]
           ],
           "sequential": [
            [
             0,
             "#0d0887"
            ],
            [
             0.1111111111111111,
             "#46039f"
            ],
            [
             0.2222222222222222,
             "#7201a8"
            ],
            [
             0.3333333333333333,
             "#9c179e"
            ],
            [
             0.4444444444444444,
             "#bd3786"
            ],
            [
             0.5555555555555556,
             "#d8576b"
            ],
            [
             0.6666666666666666,
             "#ed7953"
            ],
            [
             0.7777777777777778,
             "#fb9f3a"
            ],
            [
             0.8888888888888888,
             "#fdca26"
            ],
            [
             1,
             "#f0f921"
            ]
           ],
           "sequentialminus": [
            [
             0,
             "#0d0887"
            ],
            [
             0.1111111111111111,
             "#46039f"
            ],
            [
             0.2222222222222222,
             "#7201a8"
            ],
            [
             0.3333333333333333,
             "#9c179e"
            ],
            [
             0.4444444444444444,
             "#bd3786"
            ],
            [
             0.5555555555555556,
             "#d8576b"
            ],
            [
             0.6666666666666666,
             "#ed7953"
            ],
            [
             0.7777777777777778,
             "#fb9f3a"
            ],
            [
             0.8888888888888888,
             "#fdca26"
            ],
            [
             1,
             "#f0f921"
            ]
           ]
          },
          "colorway": [
           "#636efa",
           "#EF553B",
           "#00cc96",
           "#ab63fa",
           "#FFA15A",
           "#19d3f3",
           "#FF6692",
           "#B6E880",
           "#FF97FF",
           "#FECB52"
          ],
          "font": {
           "color": "#2a3f5f"
          },
          "geo": {
           "bgcolor": "white",
           "lakecolor": "white",
           "landcolor": "#E5ECF6",
           "showlakes": true,
           "showland": true,
           "subunitcolor": "white"
          },
          "hoverlabel": {
           "align": "left"
          },
          "hovermode": "closest",
          "mapbox": {
           "style": "light"
          },
          "paper_bgcolor": "white",
          "plot_bgcolor": "#E5ECF6",
          "polar": {
           "angularaxis": {
            "gridcolor": "white",
            "linecolor": "white",
            "ticks": ""
           },
           "bgcolor": "#E5ECF6",
           "radialaxis": {
            "gridcolor": "white",
            "linecolor": "white",
            "ticks": ""
           }
          },
          "scene": {
           "xaxis": {
            "backgroundcolor": "#E5ECF6",
            "gridcolor": "white",
            "gridwidth": 2,
            "linecolor": "white",
            "showbackground": true,
            "ticks": "",
            "zerolinecolor": "white"
           },
           "yaxis": {
            "backgroundcolor": "#E5ECF6",
            "gridcolor": "white",
            "gridwidth": 2,
            "linecolor": "white",
            "showbackground": true,
            "ticks": "",
            "zerolinecolor": "white"
           },
           "zaxis": {
            "backgroundcolor": "#E5ECF6",
            "gridcolor": "white",
            "gridwidth": 2,
            "linecolor": "white",
            "showbackground": true,
            "ticks": "",
            "zerolinecolor": "white"
           }
          },
          "shapedefaults": {
           "line": {
            "color": "#2a3f5f"
           }
          },
          "ternary": {
           "aaxis": {
            "gridcolor": "white",
            "linecolor": "white",
            "ticks": ""
           },
           "baxis": {
            "gridcolor": "white",
            "linecolor": "white",
            "ticks": ""
           },
           "bgcolor": "#E5ECF6",
           "caxis": {
            "gridcolor": "white",
            "linecolor": "white",
            "ticks": ""
           }
          },
          "title": {
           "x": 0.05
          },
          "xaxis": {
           "automargin": true,
           "gridcolor": "white",
           "linecolor": "white",
           "ticks": "",
           "title": {
            "standoff": 15
           },
           "zerolinecolor": "white",
           "zerolinewidth": 2
          },
          "yaxis": {
           "automargin": true,
           "gridcolor": "white",
           "linecolor": "white",
           "ticks": "",
           "title": {
            "standoff": 15
           },
           "zerolinecolor": "white",
           "zerolinewidth": 2
          }
         }
        },
        "xaxis": {
         "anchor": "y",
         "domain": [
          0,
          1
         ],
         "title": {
          "text": "age"
         }
        },
        "yaxis": {
         "anchor": "x",
         "domain": [
          0,
          1
         ],
         "title": {
          "text": "educ"
         }
        }
       }
      },
      "text/html": [
       "<div>\n",
       "        \n",
       "        \n",
       "            <div id=\"ee1c8516-8d2e-41a5-aad1-ee0ea8368f04\" class=\"plotly-graph-div\" style=\"height:525px; width:100%;\"></div>\n",
       "            <script type=\"text/javascript\">\n",
       "                require([\"plotly\"], function(Plotly) {\n",
       "                    window.PLOTLYENV=window.PLOTLYENV || {};\n",
       "                    \n",
       "                if (document.getElementById(\"ee1c8516-8d2e-41a5-aad1-ee0ea8368f04\")) {\n",
       "                    Plotly.newPlot(\n",
       "                        'ee1c8516-8d2e-41a5-aad1-ee0ea8368f04',\n",
       "                        [{\"hovertemplate\": \"age=%{x}<br>educ=%{y}<extra></extra>\", \"legendgroup\": \"\", \"marker\": {\"color\": \"#636efa\", \"symbol\": \"circle\"}, \"mode\": \"markers\", \"name\": \"\", \"orientation\": \"v\", \"showlegend\": false, \"type\": \"scatter\", \"x\": [42.0, 63.0, 55.0, 44.0, 55.0, 40.0, 56.0, 60.0, 65.0, 45.0, 60.0, 40.0, 33.0, 46.0, 43.0, 27.0, 37.0, 42.0, 37.0, 71.0, 40.0, 55.0, 77.0, 69.0, 50.0, 54.0, 62.0, 56.0, 70.0, 35.0, 56.0, 61.0, 59.0, 41.0, 60.0, 69.0, 35.0, 38.0, 34.0, 48.0, 51.0, 65.0, 36.0, 40.0, 42.0, 46.0, 36.0, 57.0, 69.0, 48.0, 68.0, 64.0, 43.0, 47.0, 57.0, 50.0, 33.0, 34.0, 46.0, 51.0, 49.0, 44.0, 29.0, 48.0, 65.0, 61.0, 66.0, 37.0, 31.0, 69.0, 45.0, 54.0, 61.0, 48.0, 53.0, 45.0, 60.0, 63.0, 34.0, 58.0, 63.0, 67.0, 63.0, 45.0, 46.0, 56.0, 37.0, 69.0, 57.0, 42.0, 76.0, 34.0, 34.0, 70.0, 71.0, 54.0, 40.0, 72.0, 35.0, 28.0, 51.0, 60.0, 68.0, 43.0, 36.0, 39.0, 60.0, 61.0, 32.0, 30.0, 61.0, 38.0, 67.0, 68.0, 61.0, 72.0, 48.0, 48.0, 34.0, 77.0, 69.0, 71.0, 38.0, 69.0, 43.0, 53.0, 69.0, 57.0, 63.0, 32.0, 59.0, 57.0, 51.0, 44.0, 36.0, 32.0, 59.0, 31.0, 48.0, 29.0, 37.0, 64.0, 22.0, 76.0, 48.0, 76.0, 55.0, 70.0, 43.0, 70.0, 40.0, 59.0, 70.0, 32.0, 60.0, 33.0, 72.0, 66.0, 33.0, 28.0, 30.0, 37.0, 38.0, 84.0, 66.0, 29.0, 39.0, 33.0, 70.0, 50.0, 54.0, 48.0, 73.0, 72.0, 68.0, 60.0, 63.0, 35.0, 61.0, 57.0, 59.0, 61.0, 39.0, 38.0, 71.0, 52.0, 65.0, 53.0, 41.0, 62.0, 71.0, 66.0, 39.0, 53.0, 67.0, 37.0, 45.0, 53.0, 50.0, 64.0, 58.0, 53.0, 53.0, 64.0, 42.0, 51.0, 44.0, 61.0, 70.0, 59.0, 28.0, 53.0, 57.0, 51.0, 40.0, 29.0, 40.0, 47.0, 26.0, 36.0, 65.0, 38.0, 86.0, 59.0, 54.0, 71.0, 58.0, 34.0, 71.0, 46.0, 71.0, 39.0, 45.0, 47.0, 46.0, 73.0, 43.0, 68.0, 47.0, 68.0, 54.0, 34.0, 64.0, 36.0, 44.0, 51.0, 73.0, 34.0, 35.0, 33.0, 48.0, 74.0, 62.0, 19.0, 40.0, 49.0, 39.0, 64.0, 56.0, 50.0, 61.0, 74.0, 40.0, 47.0, 56.0, 25.0, 55.0, 39.0, 76.0, 53.0, 63.0, 62.0, 56.0, 64.0, 32.0, 27.0, 79.0, 77.0, 45.0, 64.0, 49.0, 31.0, 42.0, 47.0, 48.0, 53.0, 32.0, 66.0, 38.0, 49.0, 51.0, 59.0, 73.0, 67.0, 70.0, 61.0, 50.0, 48.0, 47.0, 55.0, 70.0, 61.0, 38.0, 22.0, 45.0, 37.0, 41.0, 57.0, 43.0, 46.0, 37.0, 60.0, 57.0, 28.0, 84.0, 37.0, 55.0, 51.0, 61.0, 30.0, 34.0, 70.0, 43.0, 65.0, 29.0, 50.0, 37.0, 50.0, 49.0, 72.0, 33.0, 53.0, 30.0, 61.0, 39.0, 27.0, 60.0, 33.0, 70.0, 57.0, 48.0, 27.0, 41.0, 55.0, 63.0, 84.0, 82.0, 50.0, 28.0, 64.0, 73.0, 68.0, 51.0, 63.0, 71.0, 34.0, 57.0, 51.0, 49.0, 68.0, 70.0, 68.0, 46.0, 74.0, 85.0, 37.0, 22.0, 43.0, 73.0, 34.0, 75.0, 28.0, 52.0, 63.0, 43.0, 36.0, 48.0, 32.0, 53.0, 47.0, 37.0, 32.0, 69.0, 30.0, 36.0, 39.0, 53.0, 31.0, 60.0, 61.0, 70.0, 51.0, 65.0, 47.0, 24.0, 42.0, 76.0, 36.0, 77.0, 32.0, 39.0, 71.0, 69.0, 35.0, 80.0, 42.0, 36.0, 24.0, 49.0, 34.0, 70.0, 33.0, 68.0, 54.0, 60.0, 60.0, 36.0, 31.0, 38.0, 29.0, 33.0, 42.0, 57.0, 68.0, 38.0, 38.0, 68.0, 57.0, 49.0, 65.0, 52.0, 58.0, 86.0, 24.0, 38.0, 46.0, 34.0, 44.0, 48.0, 55.0, 25.0, 59.0, 69.0, 31.0, 43.0, 47.0, 72.0, 60.0, 38.0, 65.0, 66.0, 77.0, 46.0, 58.0, 25.0, 58.0, 69.0, 35.0, 70.0, 53.0, 64.0, 58.0, 22.0, 60.0, 42.0, 39.0, 32.0, 85.0, 44.0, 60.0, 72.0, 27.0, 42.0, 38.0, 51.0, 71.0, 35.0, 78.0, 36.0, 88.0, 59.0, 61.0, 38.0, 40.0, 69.0, 54.0, 59.0, 34.0, 35.0, 42.0, 39.0, 71.0, 56.0, 54.0, 33.0, 61.0, 71.0, 42.0, 42.0, 42.0, 47.0, 37.0, 43.0, 43.0, 36.0, 74.0, 34.0, 30.0, 34.0, 34.0, 39.0, 65.0, 37.0, 78.0, 34.0, 43.0, 28.0, 40.0, 55.0, 43.0, 69.0, 51.0, 74.0, 48.0, 63.0, 59.0, 38.0, 51.0, 58.0, 35.0, 68.0, 54.0, 47.0, 63.0, 23.0, 41.0, 54.0, 59.0, 34.0, 37.0, 30.0, 33.0, 60.0, 47.0, 67.0, 36.0, 82.0, 66.0, 47.0, 32.0, 35.0, 59.0, 41.0, 55.0, 66.0, 60.0, 58.0, 45.0, 87.0, 73.0, 18.0, 28.0, 67.0, 33.0, 45.0, 39.0, 81.0, 52.0, 36.0, 54.0, 34.0, 30.0, 49.0, 80.0, 43.0, 33.0, 35.0, 35.0, 60.0, 64.0, 41.0, 56.0, 26.0, 39.0, 60.0, 56.0, 62.0, 44.0, 55.0, 36.0, 39.0, 24.0, 30.0, 32.0, 59.0, 38.0, 70.0, 35.0, 67.0, 71.0, 56.0, 49.0, 64.0, 41.0, 73.0, 74.0, 69.0, 55.0, 51.0, 66.0, 44.0, 24.0, 28.0, 34.0, 25.0, 71.0, 53.0, 66.0, 44.0, 76.0, 34.0, 41.0, 34.0, 27.0, 28.0, 80.0, 75.0, 73.0, 64.0, 36.0, 37.0, 39.0, 40.0, 39.0, 63.0, 39.0, 48.0, 46.0, 51.0, 63.0, 56.0, 39.0, 36.0, 74.0, 52.0, 39.0, 35.0, 49.0, 36.0, 62.0, 59.0, 55.0, 37.0, 72.0, 58.0, 65.0, 50.0, 85.0, 66.0, 49.0, 31.0, 38.0, 63.0, 38.0, 77.0, 29.0, 59.0, 39.0, 52.0, 65.0, 37.0, 56.0, 40.0, 39.0, 37.0, 62.0, 33.0, 40.0, 50.0, 71.0, 51.0, 73.0, 58.0, 27.0, 30.0, 53.0, 57.0, 61.0, 30.0, 77.0, 34.0, 65.0, 40.0, 35.0, 43.0, 60.0, 40.0, 54.0, 56.0, 36.0, 53.0, 43.0, 38.0, 50.0, 35.0, 76.0, 54.0, 29.0, 75.0, 67.0, 72.0], \"xaxis\": \"x\", \"y\": [16.0, 16.0, 12.0, 16.0, 16.0, 14.0, 16.0, 16.0, 18.0, 19.0, 18.0, 18.0, 18.0, 16.0, 16.0, 13.0, 16.0, 20.0, 16.0, 16.0, 13.0, 18.0, 19.0, 13.0, 18.0, 16.0, 14.0, 12.0, 16.0, 17.0, 12.0, 12.0, 16.0, 20.0, 17.0, 15.0, 16.0, 12.0, 17.0, 7.0, 15.0, 14.0, 20.0, 16.0, 18.0, 16.0, 16.0, 11.0, 12.0, 14.0, 16.0, 13.0, 16.0, 12.0, 12.0, 3.0, 12.0, 19.0, 16.0, 12.0, 11.0, 17.0, 12.0, 17.0, 18.0, 13.0, 12.0, 16.0, 12.0, 16.0, 16.0, 16.0, 16.0, 18.0, 16.0, 18.0, 12.0, 16.0, 13.0, 14.0, 12.0, 12.0, 19.0, 16.0, 16.0, 13.0, 12.0, 14.0, 16.0, 20.0, 19.0, 20.0, 16.0, 18.0, 12.0, 16.0, 16.0, 16.0, 16.0, 14.0, 14.0, 20.0, 16.0, 20.0, 12.0, 18.0, 12.0, 13.0, 14.0, 18.0, 16.0, 16.0, 15.0, 14.0, 16.0, 12.0, 15.0, 16.0, 0.0, 16.0, 19.0, 16.0, 3.0, 15.0, 14.0, 13.0, 15.0, 14.0, 15.0, 16.0, 14.0, 12.0, 18.0, 20.0, 16.0, 16.0, 16.0, 18.0, 12.0, 17.0, 16.0, 12.0, 14.0, 16.0, 14.0, 15.0, 16.0, 16.0, 18.0, 15.0, 18.0, 20.0, 12.0, 15.0, 12.0, 12.0, 16.0, 20.0, 12.0, 16.0, 16.0, 11.0, 16.0, 14.0, 17.0, 16.0, 17.0, 16.0, 16.0, 16.0, 17.0, 14.0, 16.0, 12.0, 18.0, 12.0, 12.0, 13.0, 12.0, 18.0, 14.0, 18.0, 13.0, 12.0, 16.0, 13.0, 16.0, 16.0, 17.0, 14.0, 16.0, 17.0, 16.0, 16.0, 16.0, 20.0, 12.0, 17.0, 14.0, 14.0, 16.0, 19.0, 14.0, 9.0, 9.0, 5.0, 16.0, 16.0, 19.0, 19.0, 12.0, 16.0, 15.0, 11.0, 14.0, 16.0, 12.0, 14.0, 15.0, 16.0, 16.0, 14.0, 13.0, 12.0, 15.0, 15.0, 16.0, 12.0, 12.0, 14.0, 12.0, 18.0, 18.0, 18.0, 18.0, 18.0, 14.0, 16.0, 10.0, 12.0, 20.0, 14.0, 16.0, 16.0, 16.0, 14.0, 14.0, 16.0, 16.0, 12.0, 12.0, 16.0, 20.0, 12.0, 16.0, 16.0, 12.0, 16.0, 12.0, 16.0, 12.0, 16.0, 12.0, 9.0, 14.0, 12.0, 14.0, 14.0, 6.0, 14.0, 16.0, 16.0, 17.0, 16.0, 13.0, 12.0, 13.0, 12.0, 16.0, 16.0, 17.0, 17.0, 16.0, 16.0, 16.0, 12.0, 14.0, 12.0, 12.0, 17.0, 12.0, 20.0, 18.0, 18.0, 19.0, 16.0, 14.0, 18.0, 17.0, 15.0, 9.0, 12.0, 14.0, 13.0, 14.0, 16.0, 16.0, 17.0, 16.0, 16.0, 16.0, 13.0, 13.0, 16.0, 16.0, 16.0, 16.0, 16.0, 14.0, 13.0, 16.0, 14.0, 20.0, 12.0, 13.0, 13.0, 14.0, 16.0, 16.0, 14.0, 13.0, 14.0, 16.0, 16.0, 18.0, 16.0, 12.0, 14.0, 17.0, 12.0, 18.0, 15.0, 12.0, 16.0, 20.0, 16.0, 17.0, 12.0, 14.0, 16.0, 12.0, 13.0, 20.0, 12.0, 12.0, 16.0, 12.0, 12.0, 16.0, 16.0, 17.0, 12.0, 16.0, 18.0, 12.0, 17.0, 12.0, 16.0, 16.0, 16.0, 13.0, 12.0, 16.0, 14.0, 11.0, 17.0, 12.0, 12.0, 12.0, 12.0, 16.0, 16.0, 16.0, 20.0, 16.0, 16.0, 11.0, 18.0, 14.0, 12.0, 12.0, 14.0, 16.0, 16.0, 12.0, 13.0, 12.0, 12.0, 12.0, 12.0, 17.0, 12.0, 18.0, 3.0, 16.0, 12.0, 3.0, 12.0, 15.0, 18.0, 12.0, 12.0, 16.0, 14.0, 12.0, 14.0, 18.0, 12.0, 16.0, 16.0, 3.0, 14.0, 19.0, 14.0, 20.0, 15.0, 11.0, 13.0, 14.0, 14.0, 18.0, 16.0, 10.0, 16.0, 14.0, 18.0, 12.0, 13.0, 18.0, 18.0, 15.0, 12.0, 13.0, 16.0, 16.0, 12.0, 16.0, 18.0, 16.0, 14.0, 12.0, 16.0, 6.0, 14.0, 14.0, 11.0, 10.0, 9.0, 15.0, 12.0, 20.0, 12.0, 12.0, 11.0, 13.0, 14.0, 16.0, 17.0, 17.0, 18.0, 18.0, 14.0, 11.0, 12.0, 14.0, 15.0, 12.0, 14.0, 12.0, 11.0, 16.0, 20.0, 14.0, 12.0, 12.0, 12.0, 16.0, 19.0, 16.0, 16.0, 12.0, 8.0, 12.0, 19.0, 17.0, 16.0, 16.0, 15.0, 14.0, 16.0, 12.0, 12.0, 16.0, 16.0, 16.0, 19.0, 12.0, 17.0, 15.0, 16.0, 17.0, 12.0, 20.0, 15.0, 13.0, 18.0, 19.0, 14.0, 15.0, 18.0, 12.0, 12.0, 14.0, 12.0, 12.0, 16.0, 18.0, 12.0, 16.0, 16.0, 12.0, 12.0, 16.0, 16.0, 13.0, 12.0, 12.0, 16.0, 16.0, 15.0, 16.0, 16.0, 16.0, 20.0, 12.0, 16.0, 13.0, 16.0, 16.0, 16.0, 16.0, 19.0, 16.0, 14.0, 14.0, 12.0, 12.0, 16.0, 11.0, 14.0, 12.0, 10.0, 13.0, 12.0, 18.0, 11.0, 14.0, 13.0, 12.0, 12.0, 9.0, 12.0, 11.0, 10.0, 10.0, 15.0, 15.0, 20.0, 20.0, 13.0, 16.0, 18.0, 16.0, 19.0, 16.0, 20.0, 16.0, 20.0, 16.0, 14.0, 10.0, 12.0, 12.0, 13.0, 13.0, 9.0, 12.0, 13.0, 14.0, 14.0, 17.0, 15.0, 15.0, 16.0, 15.0, 13.0, 15.0, 18.0, 15.0, 15.0, 20.0, 19.0, 15.0, 14.0, 14.0, 19.0, 20.0, 12.0, 12.0, 14.0, 12.0, 11.0, 12.0, 12.0, 14.0, 16.0, 12.0, 12.0, 12.0, 14.0, 16.0, 17.0, 14.0, 16.0, 12.0, 12.0, 15.0, 13.0, 14.0, 16.0, 16.0, 13.0, 12.0, 12.0, 13.0, 14.0, 14.0, 12.0, 17.0, 12.0, 16.0, 12.0, 12.0, 16.0, 9.0, 12.0, 12.0, 12.0, 12.0, 14.0, 14.0, 12.0, 12.0, 14.0, 12.0, 12.0, 12.0, 12.0, 12.0, 12.0, 12.0, 16.0, 12.0, 16.0, 15.0, 12.0, 20.0, 16.0, 20.0, 14.0, 17.0, 13.0, 2.0, 18.0, 17.0, 8.0, 12.0, 12.0, 19.0, 8.0, 3.0, 12.0, 15.0, 12.0, 9.0, 10.0, 12.0, 13.0, 17.0, 20.0, 15.0, 14.0, 16.0, 14.0, 17.0, 20.0, 18.0, 14.0, 12.0, 12.0, 16.0], \"yaxis\": \"y\"}],\n",
       "                        {\"legend\": {\"tracegroupgap\": 0}, \"margin\": {\"t\": 60}, \"template\": {\"data\": {\"bar\": [{\"error_x\": {\"color\": \"#2a3f5f\"}, \"error_y\": {\"color\": \"#2a3f5f\"}, \"marker\": {\"line\": {\"color\": \"#E5ECF6\", \"width\": 0.5}}, \"type\": \"bar\"}], \"barpolar\": [{\"marker\": {\"line\": {\"color\": \"#E5ECF6\", \"width\": 0.5}}, \"type\": \"barpolar\"}], \"carpet\": [{\"aaxis\": {\"endlinecolor\": \"#2a3f5f\", \"gridcolor\": \"white\", \"linecolor\": \"white\", \"minorgridcolor\": \"white\", \"startlinecolor\": \"#2a3f5f\"}, \"baxis\": {\"endlinecolor\": \"#2a3f5f\", \"gridcolor\": \"white\", \"linecolor\": \"white\", \"minorgridcolor\": \"white\", \"startlinecolor\": \"#2a3f5f\"}, \"type\": \"carpet\"}], \"choropleth\": [{\"colorbar\": {\"outlinewidth\": 0, \"ticks\": \"\"}, \"type\": \"choropleth\"}], \"contour\": [{\"colorbar\": {\"outlinewidth\": 0, \"ticks\": \"\"}, \"colorscale\": [[0.0, \"#0d0887\"], [0.1111111111111111, \"#46039f\"], [0.2222222222222222, \"#7201a8\"], [0.3333333333333333, \"#9c179e\"], [0.4444444444444444, \"#bd3786\"], [0.5555555555555556, \"#d8576b\"], [0.6666666666666666, \"#ed7953\"], [0.7777777777777778, \"#fb9f3a\"], [0.8888888888888888, \"#fdca26\"], [1.0, \"#f0f921\"]], \"type\": \"contour\"}], \"contourcarpet\": [{\"colorbar\": {\"outlinewidth\": 0, \"ticks\": \"\"}, \"type\": \"contourcarpet\"}], \"heatmap\": [{\"colorbar\": {\"outlinewidth\": 0, \"ticks\": \"\"}, \"colorscale\": [[0.0, \"#0d0887\"], [0.1111111111111111, \"#46039f\"], [0.2222222222222222, \"#7201a8\"], [0.3333333333333333, \"#9c179e\"], [0.4444444444444444, \"#bd3786\"], [0.5555555555555556, \"#d8576b\"], [0.6666666666666666, \"#ed7953\"], [0.7777777777777778, \"#fb9f3a\"], [0.8888888888888888, \"#fdca26\"], [1.0, \"#f0f921\"]], \"type\": \"heatmap\"}], \"heatmapgl\": [{\"colorbar\": {\"outlinewidth\": 0, \"ticks\": \"\"}, \"colorscale\": [[0.0, \"#0d0887\"], [0.1111111111111111, \"#46039f\"], [0.2222222222222222, \"#7201a8\"], [0.3333333333333333, \"#9c179e\"], [0.4444444444444444, \"#bd3786\"], [0.5555555555555556, \"#d8576b\"], [0.6666666666666666, \"#ed7953\"], [0.7777777777777778, \"#fb9f3a\"], [0.8888888888888888, \"#fdca26\"], [1.0, \"#f0f921\"]], \"type\": \"heatmapgl\"}], \"histogram\": [{\"marker\": {\"colorbar\": {\"outlinewidth\": 0, \"ticks\": \"\"}}, \"type\": \"histogram\"}], \"histogram2d\": [{\"colorbar\": {\"outlinewidth\": 0, \"ticks\": \"\"}, \"colorscale\": [[0.0, \"#0d0887\"], [0.1111111111111111, \"#46039f\"], [0.2222222222222222, \"#7201a8\"], [0.3333333333333333, \"#9c179e\"], [0.4444444444444444, \"#bd3786\"], [0.5555555555555556, \"#d8576b\"], [0.6666666666666666, \"#ed7953\"], [0.7777777777777778, \"#fb9f3a\"], [0.8888888888888888, \"#fdca26\"], [1.0, \"#f0f921\"]], \"type\": \"histogram2d\"}], \"histogram2dcontour\": [{\"colorbar\": {\"outlinewidth\": 0, \"ticks\": \"\"}, \"colorscale\": [[0.0, \"#0d0887\"], [0.1111111111111111, \"#46039f\"], [0.2222222222222222, \"#7201a8\"], [0.3333333333333333, \"#9c179e\"], [0.4444444444444444, \"#bd3786\"], [0.5555555555555556, \"#d8576b\"], [0.6666666666666666, \"#ed7953\"], [0.7777777777777778, \"#fb9f3a\"], [0.8888888888888888, \"#fdca26\"], [1.0, \"#f0f921\"]], \"type\": \"histogram2dcontour\"}], \"mesh3d\": [{\"colorbar\": {\"outlinewidth\": 0, \"ticks\": \"\"}, \"type\": \"mesh3d\"}], \"parcoords\": [{\"line\": {\"colorbar\": {\"outlinewidth\": 0, \"ticks\": \"\"}}, \"type\": \"parcoords\"}], \"pie\": [{\"automargin\": true, \"type\": \"pie\"}], \"scatter\": [{\"marker\": {\"colorbar\": {\"outlinewidth\": 0, \"ticks\": \"\"}}, \"type\": \"scatter\"}], \"scatter3d\": [{\"line\": {\"colorbar\": {\"outlinewidth\": 0, \"ticks\": \"\"}}, \"marker\": {\"colorbar\": {\"outlinewidth\": 0, \"ticks\": \"\"}}, \"type\": \"scatter3d\"}], \"scattercarpet\": [{\"marker\": {\"colorbar\": {\"outlinewidth\": 0, \"ticks\": \"\"}}, \"type\": \"scattercarpet\"}], \"scattergeo\": [{\"marker\": {\"colorbar\": {\"outlinewidth\": 0, \"ticks\": \"\"}}, \"type\": \"scattergeo\"}], \"scattergl\": [{\"marker\": {\"colorbar\": {\"outlinewidth\": 0, \"ticks\": \"\"}}, \"type\": \"scattergl\"}], \"scattermapbox\": [{\"marker\": {\"colorbar\": {\"outlinewidth\": 0, \"ticks\": \"\"}}, \"type\": \"scattermapbox\"}], \"scatterpolar\": [{\"marker\": {\"colorbar\": {\"outlinewidth\": 0, \"ticks\": \"\"}}, \"type\": \"scatterpolar\"}], \"scatterpolargl\": [{\"marker\": {\"colorbar\": {\"outlinewidth\": 0, \"ticks\": \"\"}}, \"type\": \"scatterpolargl\"}], \"scatterternary\": [{\"marker\": {\"colorbar\": {\"outlinewidth\": 0, \"ticks\": \"\"}}, \"type\": \"scatterternary\"}], \"surface\": [{\"colorbar\": {\"outlinewidth\": 0, \"ticks\": \"\"}, \"colorscale\": [[0.0, \"#0d0887\"], [0.1111111111111111, \"#46039f\"], [0.2222222222222222, \"#7201a8\"], [0.3333333333333333, \"#9c179e\"], [0.4444444444444444, \"#bd3786\"], [0.5555555555555556, \"#d8576b\"], [0.6666666666666666, \"#ed7953\"], [0.7777777777777778, \"#fb9f3a\"], [0.8888888888888888, \"#fdca26\"], [1.0, \"#f0f921\"]], \"type\": \"surface\"}], \"table\": [{\"cells\": {\"fill\": {\"color\": \"#EBF0F8\"}, \"line\": {\"color\": \"white\"}}, \"header\": {\"fill\": {\"color\": \"#C8D4E3\"}, \"line\": {\"color\": \"white\"}}, \"type\": \"table\"}]}, \"layout\": {\"annotationdefaults\": {\"arrowcolor\": \"#2a3f5f\", \"arrowhead\": 0, \"arrowwidth\": 1}, \"coloraxis\": {\"colorbar\": {\"outlinewidth\": 0, \"ticks\": \"\"}}, \"colorscale\": {\"diverging\": [[0, \"#8e0152\"], [0.1, \"#c51b7d\"], [0.2, \"#de77ae\"], [0.3, \"#f1b6da\"], [0.4, \"#fde0ef\"], [0.5, \"#f7f7f7\"], [0.6, \"#e6f5d0\"], [0.7, \"#b8e186\"], [0.8, \"#7fbc41\"], [0.9, \"#4d9221\"], [1, \"#276419\"]], \"sequential\": [[0.0, \"#0d0887\"], [0.1111111111111111, \"#46039f\"], [0.2222222222222222, \"#7201a8\"], [0.3333333333333333, \"#9c179e\"], [0.4444444444444444, \"#bd3786\"], [0.5555555555555556, \"#d8576b\"], [0.6666666666666666, \"#ed7953\"], [0.7777777777777778, \"#fb9f3a\"], [0.8888888888888888, \"#fdca26\"], [1.0, \"#f0f921\"]], \"sequentialminus\": [[0.0, \"#0d0887\"], [0.1111111111111111, \"#46039f\"], [0.2222222222222222, \"#7201a8\"], [0.3333333333333333, \"#9c179e\"], [0.4444444444444444, \"#bd3786\"], [0.5555555555555556, \"#d8576b\"], [0.6666666666666666, \"#ed7953\"], [0.7777777777777778, \"#fb9f3a\"], [0.8888888888888888, \"#fdca26\"], [1.0, \"#f0f921\"]]}, \"colorway\": [\"#636efa\", \"#EF553B\", \"#00cc96\", \"#ab63fa\", \"#FFA15A\", \"#19d3f3\", \"#FF6692\", \"#B6E880\", \"#FF97FF\", \"#FECB52\"], \"font\": {\"color\": \"#2a3f5f\"}, \"geo\": {\"bgcolor\": \"white\", \"lakecolor\": \"white\", \"landcolor\": \"#E5ECF6\", \"showlakes\": true, \"showland\": true, \"subunitcolor\": \"white\"}, \"hoverlabel\": {\"align\": \"left\"}, \"hovermode\": \"closest\", \"mapbox\": {\"style\": \"light\"}, \"paper_bgcolor\": \"white\", \"plot_bgcolor\": \"#E5ECF6\", \"polar\": {\"angularaxis\": {\"gridcolor\": \"white\", \"linecolor\": \"white\", \"ticks\": \"\"}, \"bgcolor\": \"#E5ECF6\", \"radialaxis\": {\"gridcolor\": \"white\", \"linecolor\": \"white\", \"ticks\": \"\"}}, \"scene\": {\"xaxis\": {\"backgroundcolor\": \"#E5ECF6\", \"gridcolor\": \"white\", \"gridwidth\": 2, \"linecolor\": \"white\", \"showbackground\": true, \"ticks\": \"\", \"zerolinecolor\": \"white\"}, \"yaxis\": {\"backgroundcolor\": \"#E5ECF6\", \"gridcolor\": \"white\", \"gridwidth\": 2, \"linecolor\": \"white\", \"showbackground\": true, \"ticks\": \"\", \"zerolinecolor\": \"white\"}, \"zaxis\": {\"backgroundcolor\": \"#E5ECF6\", \"gridcolor\": \"white\", \"gridwidth\": 2, \"linecolor\": \"white\", \"showbackground\": true, \"ticks\": \"\", \"zerolinecolor\": \"white\"}}, \"shapedefaults\": {\"line\": {\"color\": \"#2a3f5f\"}}, \"ternary\": {\"aaxis\": {\"gridcolor\": \"white\", \"linecolor\": \"white\", \"ticks\": \"\"}, \"baxis\": {\"gridcolor\": \"white\", \"linecolor\": \"white\", \"ticks\": \"\"}, \"bgcolor\": \"#E5ECF6\", \"caxis\": {\"gridcolor\": \"white\", \"linecolor\": \"white\", \"ticks\": \"\"}}, \"title\": {\"x\": 0.05}, \"xaxis\": {\"automargin\": true, \"gridcolor\": \"white\", \"linecolor\": \"white\", \"ticks\": \"\", \"title\": {\"standoff\": 15}, \"zerolinecolor\": \"white\", \"zerolinewidth\": 2}, \"yaxis\": {\"automargin\": true, \"gridcolor\": \"white\", \"linecolor\": \"white\", \"ticks\": \"\", \"title\": {\"standoff\": 15}, \"zerolinecolor\": \"white\", \"zerolinewidth\": 2}}}, \"xaxis\": {\"anchor\": \"y\", \"domain\": [0.0, 1.0], \"title\": {\"text\": \"age\"}}, \"yaxis\": {\"anchor\": \"x\", \"domain\": [0.0, 1.0], \"title\": {\"text\": \"educ\"}}},\n",
       "                        {\"responsive\": true}\n",
       "                    ).then(function(){\n",
       "                            \n",
       "var gd = document.getElementById('ee1c8516-8d2e-41a5-aad1-ee0ea8368f04');\n",
       "var x = new MutationObserver(function (mutations, observer) {{\n",
       "        var display = window.getComputedStyle(gd).display;\n",
       "        if (!display || display === 'none') {{\n",
       "            console.log([gd, 'removed!']);\n",
       "            Plotly.purge(gd);\n",
       "            observer.disconnect();\n",
       "        }}\n",
       "}});\n",
       "\n",
       "// Listen for the removal of the full notebook cells\n",
       "var notebookContainer = gd.closest('#notebook-container');\n",
       "if (notebookContainer) {{\n",
       "    x.observe(notebookContainer, {childList: true});\n",
       "}}\n",
       "\n",
       "// Listen for the clearing of the current output cell\n",
       "var outputEl = gd.closest('.output');\n",
       "if (outputEl) {{\n",
       "    x.observe(outputEl, {childList: true});\n",
       "}}\n",
       "\n",
       "                        })\n",
       "                };\n",
       "                });\n",
       "            </script>\n",
       "        </div>"
      ]
     },
     "metadata": {},
     "output_type": "display_data"
    }
   ],
   "source": [
    "px.scatter(gss_df, \"age\", \"educ\")"
   ]
  },
  {
   "cell_type": "markdown",
   "metadata": {},
   "source": [
    "Continuing on... So we've established that including or excluding terms can change can change coefficient values and their coressponding p-values. This means that when we're attempting to identify significant variables, the model should be refitted after removing the least significant variable. For big dataframes/sets this may prove to be a challenging problem. As hackers, can you think of any way we could automate this process?\n",
    "\n",
    "So, to clarify, at every step of our model building process, we will:\n",
    "1. Look at all the non-significant variables\n",
    "2. Remove the least significant variable\n",
    "3. Refit the model\n",
    "4. Repeat this process until all variables are significant\n",
    "\n",
    "In our `gss_model0`, what is the least significant variable?"
   ]
  },
  {
   "cell_type": "code",
   "execution_count": 24,
   "metadata": {},
   "outputs": [
    {
     "data": {
      "text/html": [
       "<table class=\"simpletable\">\n",
       "<caption>OLS Regression Results</caption>\n",
       "<tr>\n",
       "  <th>Dep. Variable:</th>        <td>prestg10</td>     <th>  R-squared:         </th> <td>   0.296</td>\n",
       "</tr>\n",
       "<tr>\n",
       "  <th>Model:</th>                   <td>OLS</td>       <th>  Adj. R-squared:    </th> <td>   0.290</td>\n",
       "</tr>\n",
       "<tr>\n",
       "  <th>Method:</th>             <td>Least Squares</td>  <th>  F-statistic:       </th> <td>   49.36</td>\n",
       "</tr>\n",
       "<tr>\n",
       "  <th>Date:</th>             <td>Tue, 11 Aug 2020</td> <th>  Prob (F-statistic):</th> <td>1.17e-50</td>\n",
       "</tr>\n",
       "<tr>\n",
       "  <th>Time:</th>                 <td>20:12:00</td>     <th>  Log-Likelihood:    </th> <td> -2730.7</td>\n",
       "</tr>\n",
       "<tr>\n",
       "  <th>No. Observations:</th>      <td>   711</td>      <th>  AIC:               </th> <td>   5475.</td>\n",
       "</tr>\n",
       "<tr>\n",
       "  <th>Df Residuals:</th>          <td>   704</td>      <th>  BIC:               </th> <td>   5507.</td>\n",
       "</tr>\n",
       "<tr>\n",
       "  <th>Df Model:</th>              <td>     6</td>      <th>                     </th>     <td> </td>   \n",
       "</tr>\n",
       "<tr>\n",
       "  <th>Covariance Type:</th>      <td>nonrobust</td>    <th>                     </th>     <td> </td>   \n",
       "</tr>\n",
       "</table>\n",
       "<table class=\"simpletable\">\n",
       "<tr>\n",
       "      <td></td>         <th>coef</th>     <th>std err</th>      <th>t</th>      <th>P>|t|</th>  <th>[0.025</th>    <th>0.975]</th>  \n",
       "</tr>\n",
       "<tr>\n",
       "  <th>Intercept</th> <td>   21.2283</td> <td>    2.734</td> <td>    7.764</td> <td> 0.000</td> <td>   15.860</td> <td>   26.596</td>\n",
       "</tr>\n",
       "<tr>\n",
       "  <th>age</th>       <td>    0.0789</td> <td>    0.029</td> <td>    2.700</td> <td> 0.007</td> <td>    0.022</td> <td>    0.136</td>\n",
       "</tr>\n",
       "<tr>\n",
       "  <th>paeduc</th>    <td>    0.1910</td> <td>    0.155</td> <td>    1.231</td> <td> 0.219</td> <td>   -0.114</td> <td>    0.496</td>\n",
       "</tr>\n",
       "<tr>\n",
       "  <th>maeduc</th>    <td>    0.3558</td> <td>    0.160</td> <td>    2.219</td> <td> 0.027</td> <td>    0.041</td> <td>    0.671</td>\n",
       "</tr>\n",
       "<tr>\n",
       "  <th>speduc</th>    <td>    0.5009</td> <td>    0.177</td> <td>    2.828</td> <td> 0.005</td> <td>    0.153</td> <td>    0.849</td>\n",
       "</tr>\n",
       "<tr>\n",
       "  <th>sex</th>       <td>    2.2172</td> <td>    0.859</td> <td>    2.582</td> <td> 0.010</td> <td>    0.531</td> <td>    3.903</td>\n",
       "</tr>\n",
       "<tr>\n",
       "  <th>degree</th>    <td>    4.0558</td> <td>    0.417</td> <td>    9.728</td> <td> 0.000</td> <td>    3.237</td> <td>    4.874</td>\n",
       "</tr>\n",
       "</table>\n",
       "<table class=\"simpletable\">\n",
       "<tr>\n",
       "  <th>Omnibus:</th>       <td> 2.176</td> <th>  Durbin-Watson:     </th> <td>   2.067</td>\n",
       "</tr>\n",
       "<tr>\n",
       "  <th>Prob(Omnibus):</th> <td> 0.337</td> <th>  Jarque-Bera (JB):  </th> <td>   1.956</td>\n",
       "</tr>\n",
       "<tr>\n",
       "  <th>Skew:</th>          <td>-0.031</td> <th>  Prob(JB):          </th> <td>   0.376</td>\n",
       "</tr>\n",
       "<tr>\n",
       "  <th>Kurtosis:</th>      <td> 2.751</td> <th>  Cond. No.          </th> <td>    369.</td>\n",
       "</tr>\n",
       "</table><br/><br/>Warnings:<br/>[1] Standard Errors assume that the covariance matrix of the errors is correctly specified."
      ],
      "text/plain": [
       "<class 'statsmodels.iolib.summary.Summary'>\n",
       "\"\"\"\n",
       "                            OLS Regression Results                            \n",
       "==============================================================================\n",
       "Dep. Variable:               prestg10   R-squared:                       0.296\n",
       "Model:                            OLS   Adj. R-squared:                  0.290\n",
       "Method:                 Least Squares   F-statistic:                     49.36\n",
       "Date:                Tue, 11 Aug 2020   Prob (F-statistic):           1.17e-50\n",
       "Time:                        20:12:00   Log-Likelihood:                -2730.7\n",
       "No. Observations:                 711   AIC:                             5475.\n",
       "Df Residuals:                     704   BIC:                             5507.\n",
       "Df Model:                           6                                         \n",
       "Covariance Type:            nonrobust                                         \n",
       "==============================================================================\n",
       "                 coef    std err          t      P>|t|      [0.025      0.975]\n",
       "------------------------------------------------------------------------------\n",
       "Intercept     21.2283      2.734      7.764      0.000      15.860      26.596\n",
       "age            0.0789      0.029      2.700      0.007       0.022       0.136\n",
       "paeduc         0.1910      0.155      1.231      0.219      -0.114       0.496\n",
       "maeduc         0.3558      0.160      2.219      0.027       0.041       0.671\n",
       "speduc         0.5009      0.177      2.828      0.005       0.153       0.849\n",
       "sex            2.2172      0.859      2.582      0.010       0.531       3.903\n",
       "degree         4.0558      0.417      9.728      0.000       3.237       4.874\n",
       "==============================================================================\n",
       "Omnibus:                        2.176   Durbin-Watson:                   2.067\n",
       "Prob(Omnibus):                  0.337   Jarque-Bera (JB):                1.956\n",
       "Skew:                          -0.031   Prob(JB):                        0.376\n",
       "Kurtosis:                       2.751   Cond. No.                         369.\n",
       "==============================================================================\n",
       "\n",
       "Warnings:\n",
       "[1] Standard Errors assume that the covariance matrix of the errors is correctly specified.\n",
       "\"\"\""
      ]
     },
     "execution_count": 24,
     "metadata": {},
     "output_type": "execute_result"
    }
   ],
   "source": [
    "## Remove the least significant variable from the model\n",
    "gss_model1 = smf.ols(\"prestg10 ~ age + paeduc + maeduc + speduc + sex + degree\", data=gss_df).fit()\n",
    "gss_model1.summary()"
   ]
  },
  {
   "cell_type": "code",
   "execution_count": 25,
   "metadata": {},
   "outputs": [
    {
     "data": {
      "text/html": [
       "<table class=\"simpletable\">\n",
       "<caption>OLS Regression Results</caption>\n",
       "<tr>\n",
       "  <th>Dep. Variable:</th>        <td>prestg10</td>     <th>  R-squared:         </th> <td>   0.295</td>\n",
       "</tr>\n",
       "<tr>\n",
       "  <th>Model:</th>                   <td>OLS</td>       <th>  Adj. R-squared:    </th> <td>   0.290</td>\n",
       "</tr>\n",
       "<tr>\n",
       "  <th>Method:</th>             <td>Least Squares</td>  <th>  F-statistic:       </th> <td>   58.88</td>\n",
       "</tr>\n",
       "<tr>\n",
       "  <th>Date:</th>             <td>Tue, 11 Aug 2020</td> <th>  Prob (F-statistic):</th> <td>3.04e-51</td>\n",
       "</tr>\n",
       "<tr>\n",
       "  <th>Time:</th>                 <td>20:12:00</td>     <th>  Log-Likelihood:    </th> <td> -2731.5</td>\n",
       "</tr>\n",
       "<tr>\n",
       "  <th>No. Observations:</th>      <td>   711</td>      <th>  AIC:               </th> <td>   5475.</td>\n",
       "</tr>\n",
       "<tr>\n",
       "  <th>Df Residuals:</th>          <td>   705</td>      <th>  BIC:               </th> <td>   5502.</td>\n",
       "</tr>\n",
       "<tr>\n",
       "  <th>Df Model:</th>              <td>     5</td>      <th>                     </th>     <td> </td>   \n",
       "</tr>\n",
       "<tr>\n",
       "  <th>Covariance Type:</th>      <td>nonrobust</td>    <th>                     </th>     <td> </td>   \n",
       "</tr>\n",
       "</table>\n",
       "<table class=\"simpletable\">\n",
       "<tr>\n",
       "      <td></td>         <th>coef</th>     <th>std err</th>      <th>t</th>      <th>P>|t|</th>  <th>[0.025</th>    <th>0.975]</th>  \n",
       "</tr>\n",
       "<tr>\n",
       "  <th>Intercept</th> <td>   21.7111</td> <td>    2.707</td> <td>    8.021</td> <td> 0.000</td> <td>   16.397</td> <td>   27.025</td>\n",
       "</tr>\n",
       "<tr>\n",
       "  <th>age</th>       <td>    0.0758</td> <td>    0.029</td> <td>    2.603</td> <td> 0.009</td> <td>    0.019</td> <td>    0.133</td>\n",
       "</tr>\n",
       "<tr>\n",
       "  <th>maeduc</th>    <td>    0.4705</td> <td>    0.131</td> <td>    3.604</td> <td> 0.000</td> <td>    0.214</td> <td>    0.727</td>\n",
       "</tr>\n",
       "<tr>\n",
       "  <th>speduc</th>    <td>    0.5308</td> <td>    0.175</td> <td>    3.025</td> <td> 0.003</td> <td>    0.186</td> <td>    0.875</td>\n",
       "</tr>\n",
       "<tr>\n",
       "  <th>sex</th>       <td>    2.1858</td> <td>    0.859</td> <td>    2.546</td> <td> 0.011</td> <td>    0.500</td> <td>    3.872</td>\n",
       "</tr>\n",
       "<tr>\n",
       "  <th>degree</th>    <td>    4.1571</td> <td>    0.409</td> <td>   10.168</td> <td> 0.000</td> <td>    3.354</td> <td>    4.960</td>\n",
       "</tr>\n",
       "</table>\n",
       "<table class=\"simpletable\">\n",
       "<tr>\n",
       "  <th>Omnibus:</th>       <td> 2.076</td> <th>  Durbin-Watson:     </th> <td>   2.068</td>\n",
       "</tr>\n",
       "<tr>\n",
       "  <th>Prob(Omnibus):</th> <td> 0.354</td> <th>  Jarque-Bera (JB):  </th> <td>   1.898</td>\n",
       "</tr>\n",
       "<tr>\n",
       "  <th>Skew:</th>          <td>-0.037</td> <th>  Prob(JB):          </th> <td>   0.387</td>\n",
       "</tr>\n",
       "<tr>\n",
       "  <th>Kurtosis:</th>      <td> 2.758</td> <th>  Cond. No.          </th> <td>    357.</td>\n",
       "</tr>\n",
       "</table><br/><br/>Warnings:<br/>[1] Standard Errors assume that the covariance matrix of the errors is correctly specified."
      ],
      "text/plain": [
       "<class 'statsmodels.iolib.summary.Summary'>\n",
       "\"\"\"\n",
       "                            OLS Regression Results                            \n",
       "==============================================================================\n",
       "Dep. Variable:               prestg10   R-squared:                       0.295\n",
       "Model:                            OLS   Adj. R-squared:                  0.290\n",
       "Method:                 Least Squares   F-statistic:                     58.88\n",
       "Date:                Tue, 11 Aug 2020   Prob (F-statistic):           3.04e-51\n",
       "Time:                        20:12:00   Log-Likelihood:                -2731.5\n",
       "No. Observations:                 711   AIC:                             5475.\n",
       "Df Residuals:                     705   BIC:                             5502.\n",
       "Df Model:                           5                                         \n",
       "Covariance Type:            nonrobust                                         \n",
       "==============================================================================\n",
       "                 coef    std err          t      P>|t|      [0.025      0.975]\n",
       "------------------------------------------------------------------------------\n",
       "Intercept     21.7111      2.707      8.021      0.000      16.397      27.025\n",
       "age            0.0758      0.029      2.603      0.009       0.019       0.133\n",
       "maeduc         0.4705      0.131      3.604      0.000       0.214       0.727\n",
       "speduc         0.5308      0.175      3.025      0.003       0.186       0.875\n",
       "sex            2.1858      0.859      2.546      0.011       0.500       3.872\n",
       "degree         4.1571      0.409     10.168      0.000       3.354       4.960\n",
       "==============================================================================\n",
       "Omnibus:                        2.076   Durbin-Watson:                   2.068\n",
       "Prob(Omnibus):                  0.354   Jarque-Bera (JB):                1.898\n",
       "Skew:                          -0.037   Prob(JB):                        0.387\n",
       "Kurtosis:                       2.758   Cond. No.                         357.\n",
       "==============================================================================\n",
       "\n",
       "Warnings:\n",
       "[1] Standard Errors assume that the covariance matrix of the errors is correctly specified.\n",
       "\"\"\""
      ]
     },
     "execution_count": 25,
     "metadata": {},
     "output_type": "execute_result"
    }
   ],
   "source": [
    "## Remove the least significant variable from the model\n",
    "gss_model2 = smf.ols(\"prestg10 ~ age + maeduc + speduc + sex + degree\", data=gss_df).fit()\n",
    "gss_model2.summary()"
   ]
  },
  {
   "cell_type": "markdown",
   "metadata": {},
   "source": [
    "Job prestige in the USA thus increases with age, mothers education, spouses education, sex and the highest level of degree obtained. \n",
    "\n",
    "Here, we were working with a small dataset and we only had to go through 2 iterations to identify all of our significant variables. This approach that we took, where we fit all the variables and then iteratively remove non-significant ones is known as **backward selection**. On the other hand, a method known as **forward selection**, exists too. Here, we would start with the simplest model possible (i.e. the mean), and then identify which ONE variable has the highest significance for our model. This variable is then added to the new model, and the process is repeated. Backwards selection is generally preferred despite it being harder to work with when working with a large amount of variables.\n",
    "\n",
    "However, as I mentioned before... we're hackers... we could create a function which takes in a dataframe and a response variable, iteratively removes the lowest signifiance variable, returning us a model with only the significant variables. Let's code this up (as it'll probably be great time saving hack for when you work with larger datasets)"
   ]
  },
  {
   "cell_type": "code",
   "execution_count": 26,
   "metadata": {},
   "outputs": [
    {
     "data": {
      "text/html": [
       "<table class=\"simpletable\">\n",
       "<caption>OLS Regression Results</caption>\n",
       "<tr>\n",
       "  <th>Dep. Variable:</th>        <td>prestg10</td>     <th>  R-squared:         </th> <td>   0.295</td>\n",
       "</tr>\n",
       "<tr>\n",
       "  <th>Model:</th>                   <td>OLS</td>       <th>  Adj. R-squared:    </th> <td>   0.290</td>\n",
       "</tr>\n",
       "<tr>\n",
       "  <th>Method:</th>             <td>Least Squares</td>  <th>  F-statistic:       </th> <td>   58.88</td>\n",
       "</tr>\n",
       "<tr>\n",
       "  <th>Date:</th>             <td>Tue, 11 Aug 2020</td> <th>  Prob (F-statistic):</th> <td>3.04e-51</td>\n",
       "</tr>\n",
       "<tr>\n",
       "  <th>Time:</th>                 <td>20:12:00</td>     <th>  Log-Likelihood:    </th> <td> -2731.5</td>\n",
       "</tr>\n",
       "<tr>\n",
       "  <th>No. Observations:</th>      <td>   711</td>      <th>  AIC:               </th> <td>   5475.</td>\n",
       "</tr>\n",
       "<tr>\n",
       "  <th>Df Residuals:</th>          <td>   705</td>      <th>  BIC:               </th> <td>   5502.</td>\n",
       "</tr>\n",
       "<tr>\n",
       "  <th>Df Model:</th>              <td>     5</td>      <th>                     </th>     <td> </td>   \n",
       "</tr>\n",
       "<tr>\n",
       "  <th>Covariance Type:</th>      <td>nonrobust</td>    <th>                     </th>     <td> </td>   \n",
       "</tr>\n",
       "</table>\n",
       "<table class=\"simpletable\">\n",
       "<tr>\n",
       "      <td></td>         <th>coef</th>     <th>std err</th>      <th>t</th>      <th>P>|t|</th>  <th>[0.025</th>    <th>0.975]</th>  \n",
       "</tr>\n",
       "<tr>\n",
       "  <th>Intercept</th> <td>   21.7111</td> <td>    2.707</td> <td>    8.021</td> <td> 0.000</td> <td>   16.397</td> <td>   27.025</td>\n",
       "</tr>\n",
       "<tr>\n",
       "  <th>age</th>       <td>    0.0758</td> <td>    0.029</td> <td>    2.603</td> <td> 0.009</td> <td>    0.019</td> <td>    0.133</td>\n",
       "</tr>\n",
       "<tr>\n",
       "  <th>maeduc</th>    <td>    0.4705</td> <td>    0.131</td> <td>    3.604</td> <td> 0.000</td> <td>    0.214</td> <td>    0.727</td>\n",
       "</tr>\n",
       "<tr>\n",
       "  <th>speduc</th>    <td>    0.5308</td> <td>    0.175</td> <td>    3.025</td> <td> 0.003</td> <td>    0.186</td> <td>    0.875</td>\n",
       "</tr>\n",
       "<tr>\n",
       "  <th>degree</th>    <td>    4.1571</td> <td>    0.409</td> <td>   10.168</td> <td> 0.000</td> <td>    3.354</td> <td>    4.960</td>\n",
       "</tr>\n",
       "<tr>\n",
       "  <th>sex</th>       <td>    2.1858</td> <td>    0.859</td> <td>    2.546</td> <td> 0.011</td> <td>    0.500</td> <td>    3.872</td>\n",
       "</tr>\n",
       "</table>\n",
       "<table class=\"simpletable\">\n",
       "<tr>\n",
       "  <th>Omnibus:</th>       <td> 2.076</td> <th>  Durbin-Watson:     </th> <td>   2.068</td>\n",
       "</tr>\n",
       "<tr>\n",
       "  <th>Prob(Omnibus):</th> <td> 0.354</td> <th>  Jarque-Bera (JB):  </th> <td>   1.898</td>\n",
       "</tr>\n",
       "<tr>\n",
       "  <th>Skew:</th>          <td>-0.037</td> <th>  Prob(JB):          </th> <td>   0.387</td>\n",
       "</tr>\n",
       "<tr>\n",
       "  <th>Kurtosis:</th>      <td> 2.758</td> <th>  Cond. No.          </th> <td>    357.</td>\n",
       "</tr>\n",
       "</table><br/><br/>Warnings:<br/>[1] Standard Errors assume that the covariance matrix of the errors is correctly specified."
      ],
      "text/plain": [
       "<class 'statsmodels.iolib.summary.Summary'>\n",
       "\"\"\"\n",
       "                            OLS Regression Results                            \n",
       "==============================================================================\n",
       "Dep. Variable:               prestg10   R-squared:                       0.295\n",
       "Model:                            OLS   Adj. R-squared:                  0.290\n",
       "Method:                 Least Squares   F-statistic:                     58.88\n",
       "Date:                Tue, 11 Aug 2020   Prob (F-statistic):           3.04e-51\n",
       "Time:                        20:12:00   Log-Likelihood:                -2731.5\n",
       "No. Observations:                 711   AIC:                             5475.\n",
       "Df Residuals:                     705   BIC:                             5502.\n",
       "Df Model:                           5                                         \n",
       "Covariance Type:            nonrobust                                         \n",
       "==============================================================================\n",
       "                 coef    std err          t      P>|t|      [0.025      0.975]\n",
       "------------------------------------------------------------------------------\n",
       "Intercept     21.7111      2.707      8.021      0.000      16.397      27.025\n",
       "age            0.0758      0.029      2.603      0.009       0.019       0.133\n",
       "maeduc         0.4705      0.131      3.604      0.000       0.214       0.727\n",
       "speduc         0.5308      0.175      3.025      0.003       0.186       0.875\n",
       "degree         4.1571      0.409     10.168      0.000       3.354       4.960\n",
       "sex            2.1858      0.859      2.546      0.011       0.500       3.872\n",
       "==============================================================================\n",
       "Omnibus:                        2.076   Durbin-Watson:                   2.068\n",
       "Prob(Omnibus):                  0.354   Jarque-Bera (JB):                1.898\n",
       "Skew:                          -0.037   Prob(JB):                        0.387\n",
       "Kurtosis:                       2.758   Cond. No.                         357.\n",
       "==============================================================================\n",
       "\n",
       "Warnings:\n",
       "[1] Standard Errors assume that the covariance matrix of the errors is correctly specified.\n",
       "\"\"\""
      ]
     },
     "execution_count": 26,
     "metadata": {},
     "output_type": "execute_result"
    }
   ],
   "source": [
    "def prune_models(dataframe, response_col_name):\n",
    "    \n",
    "    # We're going to need to define the first part of our formula string. \n",
    "    # We know it'll start with the response_col_name followed with a \"~\"\n",
    "    ## Define the first part of our formula string (~ 1 line)\n",
    "    init_formula_string = response_col_name + \" ~ \"\n",
    "    \n",
    "    # Next, we're going to initially start with ALL the columns in our dataframe. \n",
    "    # We can use the string <join> method to create this string\n",
    "    # Remember to <remove> the response_col_name from our columns list!\n",
    "    ## Create the second part of the formula string (~ 3 lines)\n",
    "    ### Assign cols_no_response to the list of the dataframe columns\n",
    "    cols_no_response = dataframe.columns.tolist()\n",
    "    ### <Remove> the response column name\n",
    "    cols_no_response.remove(response_col_name)\n",
    "    ### <Join> the string (using ' + ') as the join seperator\n",
    "    rest_of_formula_string = \" + \".join(cols_no_response)\n",
    "    \n",
    "    ## Concat the two strings together (in a new variable) to obtain our full formula string (~ 1 line)\n",
    "    formula_string = init_formula_string + rest_of_formula_string\n",
    "\n",
    "    ## Fit the initial model variation (i.e. all features)(~1 line)\n",
    "    model_init = smf.ols(formula_string, data=dataframe).fit()\n",
    "    \n",
    "    # We know we only care about the p-values from the summary table - use the pvalues attribute to extract this out\n",
    "    ## Assign a p-values variable (~ 1 line)\n",
    "    pvalues = model_init.pvalues\n",
    "    \n",
    "    ## Find the variable with the highest p-value (hint: idxmax) (~1 line)\n",
    "    max_p = pvalues.idxmax()\n",
    "    \n",
    "    # We know when can stop our model building process when the highest p-value from our model is under an alpha value\n",
    "    ## Define our alpha threshhold at 0.05 (~ 1 line)\n",
    "    alpha = 0.05\n",
    "    \n",
    "    # With our alpha defined, we need to perform the following steps:\n",
    "    # <While> loop over our p-values with the condition that the max value is above our alpha threshold (~ 1 line)\n",
    "    # Identify the variable with the maximum p-value (~ 1 line)\n",
    "    # Drop this variable from our cols_no_response list (~ 1 line)\n",
    "    # Create a new formula string (~ 2 lines)\n",
    "    # Fit the new model (~ 1 line)\n",
    "    # Re-declare our p-values variable (~ 1 line)\n",
    "    # <Drop> the Intercept attribute (~ 1 line)\n",
    "    # Once our while loop breaks, let's return the model (~ 1 line)\n",
    "    ## Implement the above instructions (~ 9 lines)\n",
    "    \n",
    "    while pvalues.max() > alpha:\n",
    "        max_p = pvalues.idxmax()\n",
    "        cols_no_response.remove(max_p)\n",
    "    \n",
    "        rest_of_formula_string = \" + \".join(cols_no_response)\n",
    "        formula_string = init_formula_string + rest_of_formula_string\n",
    "        \n",
    "        model = smf.ols(formula_string, data=dataframe).fit()\n",
    "        pvalues = model.pvalues\n",
    "        pvalues = pvalues.drop(\"Intercept\")\n",
    "        \n",
    "    return model\n",
    "    \n",
    "fitted_model = prune_models(gss_df, \"prestg10\")\n",
    "## Print the model summary\n",
    "fitted_model.summary()"
   ]
  },
  {
   "cell_type": "markdown",
   "metadata": {},
   "source": [
    "Same model as what we determined previously? 🎉🎉🥳. As an addemendum, let's augment all of our data apart from our response variable with quadratic and cubic terms, and then run them through the above function."
   ]
  },
  {
   "cell_type": "code",
   "execution_count": 27,
   "metadata": {},
   "outputs": [
    {
     "data": {
      "text/html": [
       "<table class=\"simpletable\">\n",
       "<caption>OLS Regression Results</caption>\n",
       "<tr>\n",
       "  <th>Dep. Variable:</th>        <td>prestg10</td>     <th>  R-squared:         </th> <td>   0.301</td>\n",
       "</tr>\n",
       "<tr>\n",
       "  <th>Model:</th>                   <td>OLS</td>       <th>  Adj. R-squared:    </th> <td>   0.293</td>\n",
       "</tr>\n",
       "<tr>\n",
       "  <th>Method:</th>             <td>Least Squares</td>  <th>  F-statistic:       </th> <td>   37.83</td>\n",
       "</tr>\n",
       "<tr>\n",
       "  <th>Date:</th>             <td>Tue, 11 Aug 2020</td> <th>  Prob (F-statistic):</th> <td>4.67e-50</td>\n",
       "</tr>\n",
       "<tr>\n",
       "  <th>Time:</th>                 <td>20:12:01</td>     <th>  Log-Likelihood:    </th> <td> -2728.1</td>\n",
       "</tr>\n",
       "<tr>\n",
       "  <th>No. Observations:</th>      <td>   711</td>      <th>  AIC:               </th> <td>   5474.</td>\n",
       "</tr>\n",
       "<tr>\n",
       "  <th>Df Residuals:</th>          <td>   702</td>      <th>  BIC:               </th> <td>   5515.</td>\n",
       "</tr>\n",
       "<tr>\n",
       "  <th>Df Model:</th>              <td>     8</td>      <th>                     </th>     <td> </td>   \n",
       "</tr>\n",
       "<tr>\n",
       "  <th>Covariance Type:</th>      <td>nonrobust</td>    <th>                     </th>     <td> </td>   \n",
       "</tr>\n",
       "</table>\n",
       "<table class=\"simpletable\">\n",
       "<tr>\n",
       "      <td></td>         <th>coef</th>     <th>std err</th>      <th>t</th>      <th>P>|t|</th>  <th>[0.025</th>    <th>0.975]</th>  \n",
       "</tr>\n",
       "<tr>\n",
       "  <th>Intercept</th> <td>    0.1408</td> <td>   13.516</td> <td>    0.010</td> <td> 0.992</td> <td>  -26.395</td> <td>   26.677</td>\n",
       "</tr>\n",
       "<tr>\n",
       "  <th>age</th>       <td>    1.6501</td> <td>    0.822</td> <td>    2.007</td> <td> 0.045</td> <td>    0.036</td> <td>    3.264</td>\n",
       "</tr>\n",
       "<tr>\n",
       "  <th>degree</th>    <td>    4.1098</td> <td>    0.413</td> <td>    9.944</td> <td> 0.000</td> <td>    3.298</td> <td>    4.921</td>\n",
       "</tr>\n",
       "<tr>\n",
       "  <th>sex</th>       <td>    2.0927</td> <td>    0.860</td> <td>    2.433</td> <td> 0.015</td> <td>    0.404</td> <td>    3.782</td>\n",
       "</tr>\n",
       "<tr>\n",
       "  <th>age2</th>      <td>   -0.0315</td> <td>    0.016</td> <td>   -1.965</td> <td> 0.050</td> <td>   -0.063</td> <td>-3.34e-05</td>\n",
       "</tr>\n",
       "<tr>\n",
       "  <th>age3</th>      <td>    0.0002</td> <td>    0.000</td> <td>    1.985</td> <td> 0.048</td> <td> 2.14e-06</td> <td>    0.000</td>\n",
       "</tr>\n",
       "<tr>\n",
       "  <th>maeduc2</th>   <td>    0.0926</td> <td>    0.029</td> <td>    3.205</td> <td> 0.001</td> <td>    0.036</td> <td>    0.149</td>\n",
       "</tr>\n",
       "<tr>\n",
       "  <th>maeduc3</th>   <td>   -0.0037</td> <td>    0.001</td> <td>   -2.522</td> <td> 0.012</td> <td>   -0.007</td> <td>   -0.001</td>\n",
       "</tr>\n",
       "<tr>\n",
       "  <th>speduc2</th>   <td>    0.0183</td> <td>    0.006</td> <td>    2.926</td> <td> 0.004</td> <td>    0.006</td> <td>    0.031</td>\n",
       "</tr>\n",
       "</table>\n",
       "<table class=\"simpletable\">\n",
       "<tr>\n",
       "  <th>Omnibus:</th>       <td> 2.308</td> <th>  Durbin-Watson:     </th> <td>   2.064</td>\n",
       "</tr>\n",
       "<tr>\n",
       "  <th>Prob(Omnibus):</th> <td> 0.315</td> <th>  Jarque-Bera (JB):  </th> <td>   2.094</td>\n",
       "</tr>\n",
       "<tr>\n",
       "  <th>Skew:</th>          <td>-0.048</td> <th>  Prob(JB):          </th> <td>   0.351</td>\n",
       "</tr>\n",
       "<tr>\n",
       "  <th>Kurtosis:</th>      <td> 2.752</td> <th>  Cond. No.          </th> <td>6.82e+06</td>\n",
       "</tr>\n",
       "</table><br/><br/>Warnings:<br/>[1] Standard Errors assume that the covariance matrix of the errors is correctly specified.<br/>[2] The condition number is large, 6.82e+06. This might indicate that there are<br/>strong multicollinearity or other numerical problems."
      ],
      "text/plain": [
       "<class 'statsmodels.iolib.summary.Summary'>\n",
       "\"\"\"\n",
       "                            OLS Regression Results                            \n",
       "==============================================================================\n",
       "Dep. Variable:               prestg10   R-squared:                       0.301\n",
       "Model:                            OLS   Adj. R-squared:                  0.293\n",
       "Method:                 Least Squares   F-statistic:                     37.83\n",
       "Date:                Tue, 11 Aug 2020   Prob (F-statistic):           4.67e-50\n",
       "Time:                        20:12:01   Log-Likelihood:                -2728.1\n",
       "No. Observations:                 711   AIC:                             5474.\n",
       "Df Residuals:                     702   BIC:                             5515.\n",
       "Df Model:                           8                                         \n",
       "Covariance Type:            nonrobust                                         \n",
       "==============================================================================\n",
       "                 coef    std err          t      P>|t|      [0.025      0.975]\n",
       "------------------------------------------------------------------------------\n",
       "Intercept      0.1408     13.516      0.010      0.992     -26.395      26.677\n",
       "age            1.6501      0.822      2.007      0.045       0.036       3.264\n",
       "degree         4.1098      0.413      9.944      0.000       3.298       4.921\n",
       "sex            2.0927      0.860      2.433      0.015       0.404       3.782\n",
       "age2          -0.0315      0.016     -1.965      0.050      -0.063   -3.34e-05\n",
       "age3           0.0002      0.000      1.985      0.048    2.14e-06       0.000\n",
       "maeduc2        0.0926      0.029      3.205      0.001       0.036       0.149\n",
       "maeduc3       -0.0037      0.001     -2.522      0.012      -0.007      -0.001\n",
       "speduc2        0.0183      0.006      2.926      0.004       0.006       0.031\n",
       "==============================================================================\n",
       "Omnibus:                        2.308   Durbin-Watson:                   2.064\n",
       "Prob(Omnibus):                  0.315   Jarque-Bera (JB):                2.094\n",
       "Skew:                          -0.048   Prob(JB):                        0.351\n",
       "Kurtosis:                       2.752   Cond. No.                     6.82e+06\n",
       "==============================================================================\n",
       "\n",
       "Warnings:\n",
       "[1] Standard Errors assume that the covariance matrix of the errors is correctly specified.\n",
       "[2] The condition number is large, 6.82e+06. This might indicate that there are\n",
       "strong multicollinearity or other numerical problems.\n",
       "\"\"\""
      ]
     },
     "execution_count": 27,
     "metadata": {},
     "output_type": "execute_result"
    }
   ],
   "source": [
    "augmented_gss_df = gss_df\n",
    "\n",
    "## Drop the response_variable from the augmented dataframe (we'll add it back in later)\n",
    "augmented_gss_df = augmented_gss_df.drop(\"prestg10\", axis=1)\n",
    "\n",
    "## For every column in our dataframe, let's create new columns, named <COLUMNNAME>2 or <COLUMNNAME>3 which store the columns squared and cubed terms\n",
    "## We'll ignore the 'categorical' sex and degree column\n",
    "for col in augmented_gss_df.columns:\n",
    "    if col == \"sex\" or col == \"degree\":\n",
    "        continue\n",
    "    augmented_gss_df[col+str(2)] = augmented_gss_df[col] ** 2\n",
    "    augmented_gss_df[col+str(3)] = augmented_gss_df[col] ** 3\n",
    "    \n",
    "## Add prestg10 from gss_df back into augmented_gss_df\n",
    "augmented_gss_df[\"prestg10\"] = gss_df[\"prestg10\"]\n",
    "\n",
    "## Run our above function!\n",
    "fitted_model_poly = prune_models(augmented_gss_df, \"prestg10\")\n",
    "## Print the model summary\n",
    "fitted_model_poly.summary()"
   ]
  },
  {
   "cell_type": "markdown",
   "metadata": {},
   "source": [
    "Awesome! We've now programatically done two things which can save us a hell of a lot of time when working with larger datasets:\n",
    "1. Automatically determining the best fitting model using a backwards selection methodology\n",
    "2. Augmenting our dataset with polynomial terms\n",
    "\n",
    "But which model is better? Well, we can look at the $R^2$ to tell us that. Our first model has an adjusted $R^2$ of 0.290, whereas the augmented has an adjusted of 0.293. Does this mean our augmented model is better? I would argue not - despite the metric being higher. Simpler models are typically preferred, and doing further investigation on this new model can consume a lot more time than it's worth for the extra 0.3% variance.\n",
    "\n",
    "## Categorical Variables\n",
    "\n",
    "Thusfar, we've 'hacked' the categorical inputs to the model by encoding them as a numeric/continuous type. This is because interpreting the fitted results of categorical variable is slightly more involved.\n",
    "\n",
    "We have two categorical variables in our data: \"sex\" and \"degree\" (not that it strictly matters in our interpretation, but notice that sex is nominal and degree is ordinal). We have two strategies to let `statsmodel` know that we're dealing with a categorical variable. The first of which is to use the aforementioned columns along with the [`.get_dummies()`](https://pandas.pydata.org/pandas-docs/stable/reference/api/pandas.get_dummies.html) method. Under this methodology, for every variable, we'd end up with X extra columns in our dataframe where X is the number of distinct members the category can take on. As we saw in a previous notebook, the newly columns would be binary, with a value of 0 or 1 depending on which of the members is relevant to the respective row.\n",
    "\n",
    "The second, simpler and more elegant solution is to use `C(<COLUMNNAME>)` in our formula string for the column which we want to encode as categorical. We'll start by building a model on just the two aforemnetioned categories so we can understand how to interpret the results.\n",
    "\n",
    "N.B. If your variable is encoded as a string, `statsmodels` will automatically interpret it as a categorical variable when fitting the model. If we have the categorical variable encoded as a numeric datatype (as we do with sex and degree), then using `C` is necessary"
   ]
  },
  {
   "cell_type": "code",
   "execution_count": 28,
   "metadata": {},
   "outputs": [
    {
     "data": {
      "text/html": [
       "<table class=\"simpletable\">\n",
       "<caption>OLS Regression Results</caption>\n",
       "<tr>\n",
       "  <th>Dep. Variable:</th>        <td>prestg10</td>     <th>  R-squared:         </th> <td>   0.260</td>\n",
       "</tr>\n",
       "<tr>\n",
       "  <th>Model:</th>                   <td>OLS</td>       <th>  Adj. R-squared:    </th> <td>   0.255</td>\n",
       "</tr>\n",
       "<tr>\n",
       "  <th>Method:</th>             <td>Least Squares</td>  <th>  F-statistic:       </th> <td>   49.51</td>\n",
       "</tr>\n",
       "<tr>\n",
       "  <th>Date:</th>             <td>Tue, 11 Aug 2020</td> <th>  Prob (F-statistic):</th> <td>5.74e-44</td>\n",
       "</tr>\n",
       "<tr>\n",
       "  <th>Time:</th>                 <td>20:12:01</td>     <th>  Log-Likelihood:    </th> <td> -2748.6</td>\n",
       "</tr>\n",
       "<tr>\n",
       "  <th>No. Observations:</th>      <td>   711</td>      <th>  AIC:               </th> <td>   5509.</td>\n",
       "</tr>\n",
       "<tr>\n",
       "  <th>Df Residuals:</th>          <td>   705</td>      <th>  BIC:               </th> <td>   5537.</td>\n",
       "</tr>\n",
       "<tr>\n",
       "  <th>Df Model:</th>              <td>     5</td>      <th>                     </th>     <td> </td>   \n",
       "</tr>\n",
       "<tr>\n",
       "  <th>Covariance Type:</th>      <td>nonrobust</td>    <th>                     </th>     <td> </td>   \n",
       "</tr>\n",
       "</table>\n",
       "<table class=\"simpletable\">\n",
       "<tr>\n",
       "          <td></td>            <th>coef</th>     <th>std err</th>      <th>t</th>      <th>P>|t|</th>  <th>[0.025</th>    <th>0.975]</th>  \n",
       "</tr>\n",
       "<tr>\n",
       "  <th>Intercept</th>        <td>   35.8056</td> <td>    1.825</td> <td>   19.619</td> <td> 0.000</td> <td>   32.222</td> <td>   39.389</td>\n",
       "</tr>\n",
       "<tr>\n",
       "  <th>C(sex)[T.1.0]</th>    <td>    2.7890</td> <td>    0.877</td> <td>    3.182</td> <td> 0.002</td> <td>    1.068</td> <td>    4.510</td>\n",
       "</tr>\n",
       "<tr>\n",
       "  <th>C(degree)[T.1.0]</th> <td>    5.5069</td> <td>    1.897</td> <td>    2.904</td> <td> 0.004</td> <td>    1.783</td> <td>    9.231</td>\n",
       "</tr>\n",
       "<tr>\n",
       "  <th>C(degree)[T.2.0]</th> <td>   10.9385</td> <td>    2.272</td> <td>    4.815</td> <td> 0.000</td> <td>    6.479</td> <td>   15.398</td>\n",
       "</tr>\n",
       "<tr>\n",
       "  <th>C(degree)[T.3.0]</th> <td>   16.5342</td> <td>    1.956</td> <td>    8.451</td> <td> 0.000</td> <td>   12.693</td> <td>   20.375</td>\n",
       "</tr>\n",
       "<tr>\n",
       "  <th>C(degree)[T.4.0]</th> <td>   21.1986</td> <td>    2.064</td> <td>   10.269</td> <td> 0.000</td> <td>   17.146</td> <td>   25.251</td>\n",
       "</tr>\n",
       "</table>\n",
       "<table class=\"simpletable\">\n",
       "<tr>\n",
       "  <th>Omnibus:</th>       <td> 0.816</td> <th>  Durbin-Watson:     </th> <td>   2.059</td>\n",
       "</tr>\n",
       "<tr>\n",
       "  <th>Prob(Omnibus):</th> <td> 0.665</td> <th>  Jarque-Bera (JB):  </th> <td>   0.907</td>\n",
       "</tr>\n",
       "<tr>\n",
       "  <th>Skew:</th>          <td>-0.052</td> <th>  Prob(JB):          </th> <td>   0.635</td>\n",
       "</tr>\n",
       "<tr>\n",
       "  <th>Kurtosis:</th>      <td> 2.860</td> <th>  Cond. No.          </th> <td>    11.7</td>\n",
       "</tr>\n",
       "</table><br/><br/>Warnings:<br/>[1] Standard Errors assume that the covariance matrix of the errors is correctly specified."
      ],
      "text/plain": [
       "<class 'statsmodels.iolib.summary.Summary'>\n",
       "\"\"\"\n",
       "                            OLS Regression Results                            \n",
       "==============================================================================\n",
       "Dep. Variable:               prestg10   R-squared:                       0.260\n",
       "Model:                            OLS   Adj. R-squared:                  0.255\n",
       "Method:                 Least Squares   F-statistic:                     49.51\n",
       "Date:                Tue, 11 Aug 2020   Prob (F-statistic):           5.74e-44\n",
       "Time:                        20:12:01   Log-Likelihood:                -2748.6\n",
       "No. Observations:                 711   AIC:                             5509.\n",
       "Df Residuals:                     705   BIC:                             5537.\n",
       "Df Model:                           5                                         \n",
       "Covariance Type:            nonrobust                                         \n",
       "====================================================================================\n",
       "                       coef    std err          t      P>|t|      [0.025      0.975]\n",
       "------------------------------------------------------------------------------------\n",
       "Intercept           35.8056      1.825     19.619      0.000      32.222      39.389\n",
       "C(sex)[T.1.0]        2.7890      0.877      3.182      0.002       1.068       4.510\n",
       "C(degree)[T.1.0]     5.5069      1.897      2.904      0.004       1.783       9.231\n",
       "C(degree)[T.2.0]    10.9385      2.272      4.815      0.000       6.479      15.398\n",
       "C(degree)[T.3.0]    16.5342      1.956      8.451      0.000      12.693      20.375\n",
       "C(degree)[T.4.0]    21.1986      2.064     10.269      0.000      17.146      25.251\n",
       "==============================================================================\n",
       "Omnibus:                        0.816   Durbin-Watson:                   2.059\n",
       "Prob(Omnibus):                  0.665   Jarque-Bera (JB):                0.907\n",
       "Skew:                          -0.052   Prob(JB):                        0.635\n",
       "Kurtosis:                       2.860   Cond. No.                         11.7\n",
       "==============================================================================\n",
       "\n",
       "Warnings:\n",
       "[1] Standard Errors assume that the covariance matrix of the errors is correctly specified.\n",
       "\"\"\""
      ]
     },
     "execution_count": 28,
     "metadata": {},
     "output_type": "execute_result"
    }
   ],
   "source": [
    "gss_cat = smf.ols(\"prestg10 ~ C(sex) + C(degree)\", gss_df).fit()\n",
    "gss_cat.summary()"
   ]
  },
  {
   "cell_type": "code",
   "execution_count": 29,
   "metadata": {},
   "outputs": [
    {
     "name": "stdout",
     "output_type": "stream",
     "text": [
      "{'degree': {'Lt high school': 0, 'High school': 1, 'Junior college': 2, 'Bachelor': 3, 'Graduate': 4}, 'sex': {'Female': 0, 'Male': 1}}\n"
     ]
    }
   ],
   "source": [
    "print(to_replace)"
   ]
  },
  {
   "cell_type": "markdown",
   "metadata": {},
   "source": [
    "So, for sex we have 2 categories: \"0\" and \"1\". For degree, there are 5. In the model summary, we witness the influence that the different categories have on the model, but we do not see category 0 for either sex or degree. This omitted category is known as the **reference** category, and is encoded in the Intercept.\n",
    "\n",
    "This means that for a female respondant (sex category 0) who has less than high school education (degree category 0), the equation is simply: $\\hat{\\text{prestg10}} = \\hat{y} = 35.8$. <br>\n",
    "For a female respond with bachelor level education, the equation is: $\\hat{y} = 35.8 + 16.5$. <br>\n",
    "And for a male respondant with a bachelor education, the equation is $\\hat{y} = 35.8 + 2.79 + 16.5$.\n",
    "\n",
    "Mathematically, this would be written as:\n",
    "$$\n",
    "\\hat{y_i} = \\beta_b + \\beta^{\\text{sex}}_j + \\beta^{\\text{degree}}_k\n",
    "$$\n",
    "\n",
    "Where $j$ and $k$ index the number of unique categories for the respective variable, not considering the reference category. That is, $j = 1, k = 1...4$.\n",
    "\n",
    "To compare the effect between categories, while holding the other variables constant, is simple when one of the categories is the omitted/reference category. For example, males influence the prestg score by 2.79 points, and those with a graduate level education gain prestg scores around 21.2 higher than those in category 0.\n",
    "\n",
    "To compare two categories together, we simply take the difference between the parameter estimates. For example, those with graduate degrees have a score 4.67 higher than those with bachelor degrees (21.1986 - 16.5342).\n",
    "\n",
    "What about interpreting the p-values? Well, this isn't the same as we've done previously, as in the case of categorical variable, the `.summary()` output is giving us p-values based on t-tests which compare a particular level against the reference level (e.g. bachelor degree vs lt high school). We **shouldn't** use these p-values to choose which model to use - rather we want to consider the contribution of the factor as a whole. We do this using a method known as the **change in sum of squares**.\n",
    "\n",
    "Recall that the simplest model we can fit is one that just uses a constant to predict the variable. We use this to determine our initial sum of squares. The sum of squares for a model that fits the mean is known as the **total sum of squares** (mathematically, $\\sum_i^n (y_i - \\bar{y})^2$)."
   ]
  },
  {
   "cell_type": "code",
   "execution_count": 30,
   "metadata": {},
   "outputs": [
    {
     "data": {
      "text/plain": [
       "128190.83544303797"
      ]
     },
     "execution_count": 30,
     "metadata": {},
     "output_type": "execute_result"
    }
   ],
   "source": [
    "gss_tssr = smf.ols(\"prestg10 ~ 1\", gss_df).fit().ssr\n",
    "gss_tssr"
   ]
  },
  {
   "cell_type": "markdown",
   "metadata": {},
   "source": [
    "Now, we'll add a categorical variable to this model and observe how the sum of squares has changed:"
   ]
  },
  {
   "cell_type": "code",
   "execution_count": 31,
   "metadata": {},
   "outputs": [
    {
     "data": {
      "text/plain": [
       "127010.15553618135"
      ]
     },
     "execution_count": 31,
     "metadata": {},
     "output_type": "execute_result"
    }
   ],
   "source": [
    "# Perhaps gender here is a more appropiate name than sex...\n",
    "gss_gender_model = smf.ols(\"prestg10 ~ C(sex)\", gss_df).fit()\n",
    "gss_gender_model.ssr"
   ]
  },
  {
   "cell_type": "markdown",
   "metadata": {},
   "source": [
    "We see that the sum of squares has been reduced to 127,010. This means that the inclusion of the sex variable reduced our residual sum of squares by ~1,181. Let's see how much the inclusion of degree affects our residual sum of squares."
   ]
  },
  {
   "cell_type": "code",
   "execution_count": 32,
   "metadata": {},
   "outputs": [
    {
     "data": {
      "text/plain": [
       "94878.66758256509"
      ]
     },
     "execution_count": 32,
     "metadata": {},
     "output_type": "execute_result"
    }
   ],
   "source": [
    "gss_gender_degree_model = smf.ols(\"prestg10 ~ C(sex) + C(degree)\", gss_df).fit()\n",
    "gss_gender_degree_model.ssr"
   ]
  },
  {
   "cell_type": "markdown",
   "metadata": {},
   "source": [
    "Including the 5 levels of degrees in our model further reduces the sum of squares by ~32,131. This output shows how the total sum of squares can be divided up into variation attributatle to the difference in sex, degree and the reamining residual variation. We can display this information using an **ANOVA** table (all these ANOVA tables are one-way ANOVA's, as we are working with one response variable)."
   ]
  },
  {
   "cell_type": "code",
   "execution_count": 33,
   "metadata": {},
   "outputs": [
    {
     "data": {
      "text/html": [
       "<div>\n",
       "<style scoped>\n",
       "    .dataframe tbody tr th:only-of-type {\n",
       "        vertical-align: middle;\n",
       "    }\n",
       "\n",
       "    .dataframe tbody tr th {\n",
       "        vertical-align: top;\n",
       "    }\n",
       "\n",
       "    .dataframe thead th {\n",
       "        text-align: right;\n",
       "    }\n",
       "</style>\n",
       "<table border=\"1\" class=\"dataframe\">\n",
       "  <thead>\n",
       "    <tr style=\"text-align: right;\">\n",
       "      <th></th>\n",
       "      <th>df</th>\n",
       "      <th>sum_sq</th>\n",
       "      <th>mean_sq</th>\n",
       "      <th>F</th>\n",
       "      <th>PR(&gt;F)</th>\n",
       "    </tr>\n",
       "  </thead>\n",
       "  <tbody>\n",
       "    <tr>\n",
       "      <th>C(sex)</th>\n",
       "      <td>1.0</td>\n",
       "      <td>1180.679907</td>\n",
       "      <td>1180.679907</td>\n",
       "      <td>8.773093</td>\n",
       "      <td>3.159871e-03</td>\n",
       "    </tr>\n",
       "    <tr>\n",
       "      <th>C(degree)</th>\n",
       "      <td>4.0</td>\n",
       "      <td>32131.487954</td>\n",
       "      <td>8032.871988</td>\n",
       "      <td>59.688599</td>\n",
       "      <td>2.013562e-43</td>\n",
       "    </tr>\n",
       "    <tr>\n",
       "      <th>Residual</th>\n",
       "      <td>705.0</td>\n",
       "      <td>94878.667583</td>\n",
       "      <td>134.579670</td>\n",
       "      <td>NaN</td>\n",
       "      <td>NaN</td>\n",
       "    </tr>\n",
       "  </tbody>\n",
       "</table>\n",
       "</div>"
      ],
      "text/plain": [
       "              df        sum_sq      mean_sq          F        PR(>F)\n",
       "C(sex)       1.0   1180.679907  1180.679907   8.773093  3.159871e-03\n",
       "C(degree)    4.0  32131.487954  8032.871988  59.688599  2.013562e-43\n",
       "Residual   705.0  94878.667583   134.579670        NaN           NaN"
      ]
     },
     "execution_count": 33,
     "metadata": {},
     "output_type": "execute_result"
    }
   ],
   "source": [
    "import statsmodels.api as sm\n",
    "sm.stats.anova_lm(gss_gender_degree_model, typ=1)"
   ]
  },
  {
   "cell_type": "markdown",
   "metadata": {},
   "source": [
    "What has been presented above is the results of a **Type 1** ANOVA. Type 1 ANOVA produces different results based on the order the data was entered into the model: "
   ]
  },
  {
   "cell_type": "code",
   "execution_count": 34,
   "metadata": {},
   "outputs": [
    {
     "data": {
      "text/html": [
       "<div>\n",
       "<style scoped>\n",
       "    .dataframe tbody tr th:only-of-type {\n",
       "        vertical-align: middle;\n",
       "    }\n",
       "\n",
       "    .dataframe tbody tr th {\n",
       "        vertical-align: top;\n",
       "    }\n",
       "\n",
       "    .dataframe thead th {\n",
       "        text-align: right;\n",
       "    }\n",
       "</style>\n",
       "<table border=\"1\" class=\"dataframe\">\n",
       "  <thead>\n",
       "    <tr style=\"text-align: right;\">\n",
       "      <th></th>\n",
       "      <th>df</th>\n",
       "      <th>sum_sq</th>\n",
       "      <th>mean_sq</th>\n",
       "      <th>F</th>\n",
       "      <th>PR(&gt;F)</th>\n",
       "    </tr>\n",
       "  </thead>\n",
       "  <tbody>\n",
       "    <tr>\n",
       "      <th>C(degree)</th>\n",
       "      <td>4.0</td>\n",
       "      <td>31949.681098</td>\n",
       "      <td>7987.420275</td>\n",
       "      <td>59.350868</td>\n",
       "      <td>3.322286e-43</td>\n",
       "    </tr>\n",
       "    <tr>\n",
       "      <th>C(sex)</th>\n",
       "      <td>1.0</td>\n",
       "      <td>1362.486762</td>\n",
       "      <td>1362.486762</td>\n",
       "      <td>10.124016</td>\n",
       "      <td>1.527707e-03</td>\n",
       "    </tr>\n",
       "    <tr>\n",
       "      <th>Residual</th>\n",
       "      <td>705.0</td>\n",
       "      <td>94878.667583</td>\n",
       "      <td>134.579670</td>\n",
       "      <td>NaN</td>\n",
       "      <td>NaN</td>\n",
       "    </tr>\n",
       "  </tbody>\n",
       "</table>\n",
       "</div>"
      ],
      "text/plain": [
       "              df        sum_sq      mean_sq          F        PR(>F)\n",
       "C(degree)    4.0  31949.681098  7987.420275  59.350868  3.322286e-43\n",
       "C(sex)       1.0   1362.486762  1362.486762  10.124016  1.527707e-03\n",
       "Residual   705.0  94878.667583   134.579670        NaN           NaN"
      ]
     },
     "execution_count": 34,
     "metadata": {},
     "output_type": "execute_result"
    }
   ],
   "source": [
    "gss_degree_gender_model = smf.ols(\"prestg10 ~ C(degree) + C(sex)\", gss_df).fit()\n",
    "sm.stats.anova_lm(gss_degree_gender_model, typ=1)"
   ]
  },
  {
   "cell_type": "markdown",
   "metadata": {},
   "source": [
    "**Type 2** ANOVA, on the otherhand, reports the effect of each term with all other terms retained in the model. This variant of the method is recommended."
   ]
  },
  {
   "cell_type": "code",
   "execution_count": 35,
   "metadata": {},
   "outputs": [
    {
     "data": {
      "text/html": [
       "<div>\n",
       "<style scoped>\n",
       "    .dataframe tbody tr th:only-of-type {\n",
       "        vertical-align: middle;\n",
       "    }\n",
       "\n",
       "    .dataframe tbody tr th {\n",
       "        vertical-align: top;\n",
       "    }\n",
       "\n",
       "    .dataframe thead th {\n",
       "        text-align: right;\n",
       "    }\n",
       "</style>\n",
       "<table border=\"1\" class=\"dataframe\">\n",
       "  <thead>\n",
       "    <tr style=\"text-align: right;\">\n",
       "      <th></th>\n",
       "      <th>sum_sq</th>\n",
       "      <th>df</th>\n",
       "      <th>F</th>\n",
       "      <th>PR(&gt;F)</th>\n",
       "    </tr>\n",
       "  </thead>\n",
       "  <tbody>\n",
       "    <tr>\n",
       "      <th>C(sex)</th>\n",
       "      <td>1362.486762</td>\n",
       "      <td>1.0</td>\n",
       "      <td>10.124016</td>\n",
       "      <td>1.527707e-03</td>\n",
       "    </tr>\n",
       "    <tr>\n",
       "      <th>C(degree)</th>\n",
       "      <td>32131.487954</td>\n",
       "      <td>4.0</td>\n",
       "      <td>59.688599</td>\n",
       "      <td>2.013562e-43</td>\n",
       "    </tr>\n",
       "    <tr>\n",
       "      <th>Residual</th>\n",
       "      <td>94878.667583</td>\n",
       "      <td>705.0</td>\n",
       "      <td>NaN</td>\n",
       "      <td>NaN</td>\n",
       "    </tr>\n",
       "  </tbody>\n",
       "</table>\n",
       "</div>"
      ],
      "text/plain": [
       "                 sum_sq     df          F        PR(>F)\n",
       "C(sex)      1362.486762    1.0  10.124016  1.527707e-03\n",
       "C(degree)  32131.487954    4.0  59.688599  2.013562e-43\n",
       "Residual   94878.667583  705.0        NaN           NaN"
      ]
     },
     "execution_count": 35,
     "metadata": {},
     "output_type": "execute_result"
    }
   ],
   "source": [
    "sm.stats.anova_lm(gss_gender_degree_model, typ=2)\n",
    "# sm.stats.anova_lm(gss_degree_gender_model, typ=2)"
   ]
  },
  {
   "cell_type": "markdown",
   "metadata": {},
   "source": [
    "The ANOVA table returns us the more formal pvalues too - which, as we've seen, is what we should use to make a decision about whether we keep a variable or not. The p-value in the ANOVA table is calculated using something called the [F-test](https://en.wikipedia.org/wiki/F-test) - which is simply the ratio of two variances (accounting for degrees of freedom). We won't dive into the details here, as the important thing is knowning whether we want to keep or drop a variable."
   ]
  },
  {
   "cell_type": "code",
   "execution_count": 36,
   "metadata": {},
   "outputs": [
    {
     "data": {
      "text/html": [
       "<table class=\"simpletable\">\n",
       "<caption>OLS Regression Results</caption>\n",
       "<tr>\n",
       "  <th>Dep. Variable:</th>        <td>prestg10</td>     <th>  R-squared:         </th> <td>   0.295</td>\n",
       "</tr>\n",
       "<tr>\n",
       "  <th>Model:</th>                   <td>OLS</td>       <th>  Adj. R-squared:    </th> <td>   0.290</td>\n",
       "</tr>\n",
       "<tr>\n",
       "  <th>Method:</th>             <td>Least Squares</td>  <th>  F-statistic:       </th> <td>   58.88</td>\n",
       "</tr>\n",
       "<tr>\n",
       "  <th>Date:</th>             <td>Tue, 11 Aug 2020</td> <th>  Prob (F-statistic):</th> <td>3.04e-51</td>\n",
       "</tr>\n",
       "<tr>\n",
       "  <th>Time:</th>                 <td>20:12:01</td>     <th>  Log-Likelihood:    </th> <td> -2731.5</td>\n",
       "</tr>\n",
       "<tr>\n",
       "  <th>No. Observations:</th>      <td>   711</td>      <th>  AIC:               </th> <td>   5475.</td>\n",
       "</tr>\n",
       "<tr>\n",
       "  <th>Df Residuals:</th>          <td>   705</td>      <th>  BIC:               </th> <td>   5502.</td>\n",
       "</tr>\n",
       "<tr>\n",
       "  <th>Df Model:</th>              <td>     5</td>      <th>                     </th>     <td> </td>   \n",
       "</tr>\n",
       "<tr>\n",
       "  <th>Covariance Type:</th>      <td>nonrobust</td>    <th>                     </th>     <td> </td>   \n",
       "</tr>\n",
       "</table>\n",
       "<table class=\"simpletable\">\n",
       "<tr>\n",
       "      <td></td>         <th>coef</th>     <th>std err</th>      <th>t</th>      <th>P>|t|</th>  <th>[0.025</th>    <th>0.975]</th>  \n",
       "</tr>\n",
       "<tr>\n",
       "  <th>Intercept</th> <td>   21.7111</td> <td>    2.707</td> <td>    8.021</td> <td> 0.000</td> <td>   16.397</td> <td>   27.025</td>\n",
       "</tr>\n",
       "<tr>\n",
       "  <th>age</th>       <td>    0.0758</td> <td>    0.029</td> <td>    2.603</td> <td> 0.009</td> <td>    0.019</td> <td>    0.133</td>\n",
       "</tr>\n",
       "<tr>\n",
       "  <th>maeduc</th>    <td>    0.4705</td> <td>    0.131</td> <td>    3.604</td> <td> 0.000</td> <td>    0.214</td> <td>    0.727</td>\n",
       "</tr>\n",
       "<tr>\n",
       "  <th>speduc</th>    <td>    0.5308</td> <td>    0.175</td> <td>    3.025</td> <td> 0.003</td> <td>    0.186</td> <td>    0.875</td>\n",
       "</tr>\n",
       "<tr>\n",
       "  <th>degree</th>    <td>    4.1571</td> <td>    0.409</td> <td>   10.168</td> <td> 0.000</td> <td>    3.354</td> <td>    4.960</td>\n",
       "</tr>\n",
       "<tr>\n",
       "  <th>sex</th>       <td>    2.1858</td> <td>    0.859</td> <td>    2.546</td> <td> 0.011</td> <td>    0.500</td> <td>    3.872</td>\n",
       "</tr>\n",
       "</table>\n",
       "<table class=\"simpletable\">\n",
       "<tr>\n",
       "  <th>Omnibus:</th>       <td> 2.076</td> <th>  Durbin-Watson:     </th> <td>   2.068</td>\n",
       "</tr>\n",
       "<tr>\n",
       "  <th>Prob(Omnibus):</th> <td> 0.354</td> <th>  Jarque-Bera (JB):  </th> <td>   1.898</td>\n",
       "</tr>\n",
       "<tr>\n",
       "  <th>Skew:</th>          <td>-0.037</td> <th>  Prob(JB):          </th> <td>   0.387</td>\n",
       "</tr>\n",
       "<tr>\n",
       "  <th>Kurtosis:</th>      <td> 2.758</td> <th>  Cond. No.          </th> <td>    357.</td>\n",
       "</tr>\n",
       "</table><br/><br/>Warnings:<br/>[1] Standard Errors assume that the covariance matrix of the errors is correctly specified."
      ],
      "text/plain": [
       "<class 'statsmodels.iolib.summary.Summary'>\n",
       "\"\"\"\n",
       "                            OLS Regression Results                            \n",
       "==============================================================================\n",
       "Dep. Variable:               prestg10   R-squared:                       0.295\n",
       "Model:                            OLS   Adj. R-squared:                  0.290\n",
       "Method:                 Least Squares   F-statistic:                     58.88\n",
       "Date:                Tue, 11 Aug 2020   Prob (F-statistic):           3.04e-51\n",
       "Time:                        20:12:01   Log-Likelihood:                -2731.5\n",
       "No. Observations:                 711   AIC:                             5475.\n",
       "Df Residuals:                     705   BIC:                             5502.\n",
       "Df Model:                           5                                         \n",
       "Covariance Type:            nonrobust                                         \n",
       "==============================================================================\n",
       "                 coef    std err          t      P>|t|      [0.025      0.975]\n",
       "------------------------------------------------------------------------------\n",
       "Intercept     21.7111      2.707      8.021      0.000      16.397      27.025\n",
       "age            0.0758      0.029      2.603      0.009       0.019       0.133\n",
       "maeduc         0.4705      0.131      3.604      0.000       0.214       0.727\n",
       "speduc         0.5308      0.175      3.025      0.003       0.186       0.875\n",
       "degree         4.1571      0.409     10.168      0.000       3.354       4.960\n",
       "sex            2.1858      0.859      2.546      0.011       0.500       3.872\n",
       "==============================================================================\n",
       "Omnibus:                        2.076   Durbin-Watson:                   2.068\n",
       "Prob(Omnibus):                  0.354   Jarque-Bera (JB):                1.898\n",
       "Skew:                          -0.037   Prob(JB):                        0.387\n",
       "Kurtosis:                       2.758   Cond. No.                         357.\n",
       "==============================================================================\n",
       "\n",
       "Warnings:\n",
       "[1] Standard Errors assume that the covariance matrix of the errors is correctly specified.\n",
       "\"\"\""
      ]
     },
     "execution_count": 36,
     "metadata": {},
     "output_type": "execute_result"
    }
   ],
   "source": [
    "fitted_model.summary()"
   ]
  },
  {
   "cell_type": "code",
   "execution_count": 37,
   "metadata": {},
   "outputs": [
    {
     "data": {
      "text/html": [
       "<table class=\"simpletable\">\n",
       "<caption>OLS Regression Results</caption>\n",
       "<tr>\n",
       "  <th>Dep. Variable:</th>        <td>prestg10</td>     <th>  R-squared:         </th> <td>   0.297</td>\n",
       "</tr>\n",
       "<tr>\n",
       "  <th>Model:</th>                   <td>OLS</td>       <th>  Adj. R-squared:    </th> <td>   0.289</td>\n",
       "</tr>\n",
       "<tr>\n",
       "  <th>Method:</th>             <td>Least Squares</td>  <th>  F-statistic:       </th> <td>   37.09</td>\n",
       "</tr>\n",
       "<tr>\n",
       "  <th>Date:</th>             <td>Tue, 11 Aug 2020</td> <th>  Prob (F-statistic):</th> <td>3.54e-49</td>\n",
       "</tr>\n",
       "<tr>\n",
       "  <th>Time:</th>                 <td>20:12:01</td>     <th>  Log-Likelihood:    </th> <td> -2730.2</td>\n",
       "</tr>\n",
       "<tr>\n",
       "  <th>No. Observations:</th>      <td>   711</td>      <th>  AIC:               </th> <td>   5478.</td>\n",
       "</tr>\n",
       "<tr>\n",
       "  <th>Df Residuals:</th>          <td>   702</td>      <th>  BIC:               </th> <td>   5520.</td>\n",
       "</tr>\n",
       "<tr>\n",
       "  <th>Df Model:</th>              <td>     8</td>      <th>                     </th>     <td> </td>   \n",
       "</tr>\n",
       "<tr>\n",
       "  <th>Covariance Type:</th>      <td>nonrobust</td>    <th>                     </th>     <td> </td>   \n",
       "</tr>\n",
       "</table>\n",
       "<table class=\"simpletable\">\n",
       "<tr>\n",
       "          <td></td>            <th>coef</th>     <th>std err</th>      <th>t</th>      <th>P>|t|</th>  <th>[0.025</th>    <th>0.975]</th>  \n",
       "</tr>\n",
       "<tr>\n",
       "  <th>Intercept</th>        <td>   22.9499</td> <td>    2.891</td> <td>    7.939</td> <td> 0.000</td> <td>   17.274</td> <td>   28.626</td>\n",
       "</tr>\n",
       "<tr>\n",
       "  <th>C(degree)[T.1.0]</th> <td>    1.1947</td> <td>    1.997</td> <td>    0.598</td> <td> 0.550</td> <td>   -2.727</td> <td>    5.116</td>\n",
       "</tr>\n",
       "<tr>\n",
       "  <th>C(degree)[T.2.0]</th> <td>    6.4227</td> <td>    2.355</td> <td>    2.728</td> <td> 0.007</td> <td>    1.799</td> <td>   11.046</td>\n",
       "</tr>\n",
       "<tr>\n",
       "  <th>C(degree)[T.3.0]</th> <td>   10.0504</td> <td>    2.244</td> <td>    4.480</td> <td> 0.000</td> <td>    5.646</td> <td>   14.455</td>\n",
       "</tr>\n",
       "<tr>\n",
       "  <th>C(degree)[T.4.0]</th> <td>   13.9410</td> <td>    2.398</td> <td>    5.815</td> <td> 0.000</td> <td>    9.234</td> <td>   18.648</td>\n",
       "</tr>\n",
       "<tr>\n",
       "  <th>C(sex)[T.1.0]</th>    <td>    2.1984</td> <td>    0.864</td> <td>    2.545</td> <td> 0.011</td> <td>    0.502</td> <td>    3.895</td>\n",
       "</tr>\n",
       "<tr>\n",
       "  <th>age</th>              <td>    0.0785</td> <td>    0.029</td> <td>    2.689</td> <td> 0.007</td> <td>    0.021</td> <td>    0.136</td>\n",
       "</tr>\n",
       "<tr>\n",
       "  <th>maeduc</th>           <td>    0.4997</td> <td>    0.133</td> <td>    3.771</td> <td> 0.000</td> <td>    0.240</td> <td>    0.760</td>\n",
       "</tr>\n",
       "<tr>\n",
       "  <th>speduc</th>           <td>    0.5837</td> <td>    0.180</td> <td>    3.250</td> <td> 0.001</td> <td>    0.231</td> <td>    0.936</td>\n",
       "</tr>\n",
       "</table>\n",
       "<table class=\"simpletable\">\n",
       "<tr>\n",
       "  <th>Omnibus:</th>       <td> 1.836</td> <th>  Durbin-Watson:     </th> <td>   2.077</td>\n",
       "</tr>\n",
       "<tr>\n",
       "  <th>Prob(Omnibus):</th> <td> 0.399</td> <th>  Jarque-Bera (JB):  </th> <td>   1.701</td>\n",
       "</tr>\n",
       "<tr>\n",
       "  <th>Skew:</th>          <td>-0.027</td> <th>  Prob(JB):          </th> <td>   0.427</td>\n",
       "</tr>\n",
       "<tr>\n",
       "  <th>Kurtosis:</th>      <td> 2.766</td> <th>  Cond. No.          </th> <td>    553.</td>\n",
       "</tr>\n",
       "</table><br/><br/>Warnings:<br/>[1] Standard Errors assume that the covariance matrix of the errors is correctly specified."
      ],
      "text/plain": [
       "<class 'statsmodels.iolib.summary.Summary'>\n",
       "\"\"\"\n",
       "                            OLS Regression Results                            \n",
       "==============================================================================\n",
       "Dep. Variable:               prestg10   R-squared:                       0.297\n",
       "Model:                            OLS   Adj. R-squared:                  0.289\n",
       "Method:                 Least Squares   F-statistic:                     37.09\n",
       "Date:                Tue, 11 Aug 2020   Prob (F-statistic):           3.54e-49\n",
       "Time:                        20:12:01   Log-Likelihood:                -2730.2\n",
       "No. Observations:                 711   AIC:                             5478.\n",
       "Df Residuals:                     702   BIC:                             5520.\n",
       "Df Model:                           8                                         \n",
       "Covariance Type:            nonrobust                                         \n",
       "====================================================================================\n",
       "                       coef    std err          t      P>|t|      [0.025      0.975]\n",
       "------------------------------------------------------------------------------------\n",
       "Intercept           22.9499      2.891      7.939      0.000      17.274      28.626\n",
       "C(degree)[T.1.0]     1.1947      1.997      0.598      0.550      -2.727       5.116\n",
       "C(degree)[T.2.0]     6.4227      2.355      2.728      0.007       1.799      11.046\n",
       "C(degree)[T.3.0]    10.0504      2.244      4.480      0.000       5.646      14.455\n",
       "C(degree)[T.4.0]    13.9410      2.398      5.815      0.000       9.234      18.648\n",
       "C(sex)[T.1.0]        2.1984      0.864      2.545      0.011       0.502       3.895\n",
       "age                  0.0785      0.029      2.689      0.007       0.021       0.136\n",
       "maeduc               0.4997      0.133      3.771      0.000       0.240       0.760\n",
       "speduc               0.5837      0.180      3.250      0.001       0.231       0.936\n",
       "==============================================================================\n",
       "Omnibus:                        1.836   Durbin-Watson:                   2.077\n",
       "Prob(Omnibus):                  0.399   Jarque-Bera (JB):                1.701\n",
       "Skew:                          -0.027   Prob(JB):                        0.427\n",
       "Kurtosis:                       2.766   Cond. No.                         553.\n",
       "==============================================================================\n",
       "\n",
       "Warnings:\n",
       "[1] Standard Errors assume that the covariance matrix of the errors is correctly specified.\n",
       "\"\"\""
      ]
     },
     "execution_count": 37,
     "metadata": {},
     "output_type": "execute_result"
    }
   ],
   "source": [
    "fitted_model = smf.ols(\"prestg10 ~ age + maeduc + speduc + C(degree) + C(sex)\", gss_df).fit()\n",
    "fitted_model.summary()"
   ]
  },
  {
   "cell_type": "code",
   "execution_count": 38,
   "metadata": {},
   "outputs": [
    {
     "data": {
      "text/html": [
       "<div>\n",
       "<style scoped>\n",
       "    .dataframe tbody tr th:only-of-type {\n",
       "        vertical-align: middle;\n",
       "    }\n",
       "\n",
       "    .dataframe tbody tr th {\n",
       "        vertical-align: top;\n",
       "    }\n",
       "\n",
       "    .dataframe thead th {\n",
       "        text-align: right;\n",
       "    }\n",
       "</style>\n",
       "<table border=\"1\" class=\"dataframe\">\n",
       "  <thead>\n",
       "    <tr style=\"text-align: right;\">\n",
       "      <th></th>\n",
       "      <th>sum_sq</th>\n",
       "      <th>df</th>\n",
       "      <th>F</th>\n",
       "      <th>PR(&gt;F)</th>\n",
       "    </tr>\n",
       "  </thead>\n",
       "  <tbody>\n",
       "    <tr>\n",
       "      <th>C(degree)</th>\n",
       "      <td>13584.317403</td>\n",
       "      <td>4.0</td>\n",
       "      <td>26.459044</td>\n",
       "      <td>1.844207e-20</td>\n",
       "    </tr>\n",
       "    <tr>\n",
       "      <th>C(sex)</th>\n",
       "      <td>831.019222</td>\n",
       "      <td>1.0</td>\n",
       "      <td>6.474517</td>\n",
       "      <td>1.115625e-02</td>\n",
       "    </tr>\n",
       "    <tr>\n",
       "      <th>age</th>\n",
       "      <td>928.321730</td>\n",
       "      <td>1.0</td>\n",
       "      <td>7.232607</td>\n",
       "      <td>7.329123e-03</td>\n",
       "    </tr>\n",
       "    <tr>\n",
       "      <th>maeduc</th>\n",
       "      <td>1824.943719</td>\n",
       "      <td>1.0</td>\n",
       "      <td>14.218239</td>\n",
       "      <td>1.764907e-04</td>\n",
       "    </tr>\n",
       "    <tr>\n",
       "      <th>speduc</th>\n",
       "      <td>1355.805473</td>\n",
       "      <td>1.0</td>\n",
       "      <td>10.563156</td>\n",
       "      <td>1.208688e-03</td>\n",
       "    </tr>\n",
       "    <tr>\n",
       "      <th>Residual</th>\n",
       "      <td>90103.318741</td>\n",
       "      <td>702.0</td>\n",
       "      <td>NaN</td>\n",
       "      <td>NaN</td>\n",
       "    </tr>\n",
       "  </tbody>\n",
       "</table>\n",
       "</div>"
      ],
      "text/plain": [
       "                 sum_sq     df          F        PR(>F)\n",
       "C(degree)  13584.317403    4.0  26.459044  1.844207e-20\n",
       "C(sex)       831.019222    1.0   6.474517  1.115625e-02\n",
       "age          928.321730    1.0   7.232607  7.329123e-03\n",
       "maeduc      1824.943719    1.0  14.218239  1.764907e-04\n",
       "speduc      1355.805473    1.0  10.563156  1.208688e-03\n",
       "Residual   90103.318741  702.0        NaN           NaN"
      ]
     },
     "execution_count": 38,
     "metadata": {},
     "output_type": "execute_result"
    }
   ],
   "source": [
    "sm.stats.anova_lm(fitted_model, typ=2)"
   ]
  },
  {
   "cell_type": "markdown",
   "metadata": {},
   "source": [
    "Great! All of our terms (when including the correctly specified categorial variants) are highly signficant for our model. We're next going to extend our model using something known as **interaction** terms.\n",
    "\n",
    "## Interactions\n",
    "\n",
    "An interaction occurs when an explanatory variable has non-additive effect on the outcome of the model depending on the presence of another explantory variable. In this example, considering just the categorical model, the effect of the degree could be different for male or females. If we wanted to represent this mathematically, we would need an extra parameter:\n",
    "\n",
    "$$\n",
    "\\hat{y}_i = \\beta_b + \\beta^{sex}_j + \\beta^{degree}_k + \\beta^{sex \\cdot degree}_{jk}\n",
    "$$\n",
    "\n",
    "The terms in the above equation follow what have previously been introduced. We take the values of $\\beta^{sex \\cdot degree}_{jk}$ to be zero when either $j$ or $k$ is the reference category. So $j=1, k=3$ means that we have a male respondant who has achieved a bachelor's degree. Previously, we would model each of the variables with $\\beta^{sex}_j, \\beta^{degree}_k$ respectively. Now, alongside these two parameters, we have an additional parameter which models how the prestige score changes based on the joint interaction of education level and sex of the respondant.\n",
    "\n",
    "More information about interaction terms can be found [here](http://www.medicine.mcgill.ca/epidemiology/Joseph/courses/EPIB-621/interaction.pdf) and [here](https://www.youtube.com/watch?v=HSHcIHMxhbE).\n",
    "\n",
    "We can specify interaction terms to our model using the colon operator (:), which explicitly adds the interaction between two variables (e.g. `C(sex):C(degree)`). Alternatively, we can use the asterik operator (\\*), which adds the additive of the two terms and the interaction (e.g. `C(sex)*C(degree)` turns into `C(sex) + C(degree) + C(sex):C(degree)`."
   ]
  },
  {
   "cell_type": "code",
   "execution_count": 39,
   "metadata": {},
   "outputs": [
    {
     "data": {
      "text/html": [
       "<table class=\"simpletable\">\n",
       "<caption>OLS Regression Results</caption>\n",
       "<tr>\n",
       "  <th>Dep. Variable:</th>        <td>prestg10</td>     <th>  R-squared:         </th> <td>   0.277</td>\n",
       "</tr>\n",
       "<tr>\n",
       "  <th>Model:</th>                   <td>OLS</td>       <th>  Adj. R-squared:    </th> <td>   0.268</td>\n",
       "</tr>\n",
       "<tr>\n",
       "  <th>Method:</th>             <td>Least Squares</td>  <th>  F-statistic:       </th> <td>   29.85</td>\n",
       "</tr>\n",
       "<tr>\n",
       "  <th>Date:</th>             <td>Tue, 11 Aug 2020</td> <th>  Prob (F-statistic):</th> <td>3.32e-44</td>\n",
       "</tr>\n",
       "<tr>\n",
       "  <th>Time:</th>                 <td>20:12:01</td>     <th>  Log-Likelihood:    </th> <td> -2740.2</td>\n",
       "</tr>\n",
       "<tr>\n",
       "  <th>No. Observations:</th>      <td>   711</td>      <th>  AIC:               </th> <td>   5500.</td>\n",
       "</tr>\n",
       "<tr>\n",
       "  <th>Df Residuals:</th>          <td>   701</td>      <th>  BIC:               </th> <td>   5546.</td>\n",
       "</tr>\n",
       "<tr>\n",
       "  <th>Df Model:</th>              <td>     9</td>      <th>                     </th>     <td> </td>   \n",
       "</tr>\n",
       "<tr>\n",
       "  <th>Covariance Type:</th>      <td>nonrobust</td>    <th>                     </th>     <td> </td>   \n",
       "</tr>\n",
       "</table>\n",
       "<table class=\"simpletable\">\n",
       "<tr>\n",
       "                 <td></td>                   <th>coef</th>     <th>std err</th>      <th>t</th>      <th>P>|t|</th>  <th>[0.025</th>    <th>0.975]</th>  \n",
       "</tr>\n",
       "<tr>\n",
       "  <th>Intercept</th>                      <td>   30.7619</td> <td>    2.509</td> <td>   12.261</td> <td> 0.000</td> <td>   25.836</td> <td>   35.688</td>\n",
       "</tr>\n",
       "<tr>\n",
       "  <th>C(sex)[T.1.0]</th>                  <td>   12.6472</td> <td>    3.508</td> <td>    3.606</td> <td> 0.000</td> <td>    5.760</td> <td>   19.534</td>\n",
       "</tr>\n",
       "<tr>\n",
       "  <th>C(degree)[T.1.0]</th>               <td>    9.8906</td> <td>    2.689</td> <td>    3.678</td> <td> 0.000</td> <td>    4.610</td> <td>   15.171</td>\n",
       "</tr>\n",
       "<tr>\n",
       "  <th>C(degree)[T.2.0]</th>               <td>   18.3517</td> <td>    3.050</td> <td>    6.018</td> <td> 0.000</td> <td>   12.364</td> <td>   24.339</td>\n",
       "</tr>\n",
       "<tr>\n",
       "  <th>C(degree)[T.3.0]</th>               <td>   21.5500</td> <td>    2.740</td> <td>    7.865</td> <td> 0.000</td> <td>   16.170</td> <td>   26.930</td>\n",
       "</tr>\n",
       "<tr>\n",
       "  <th>C(degree)[T.4.0]</th>               <td>   28.0199</td> <td>    2.949</td> <td>    9.500</td> <td> 0.000</td> <td>   22.229</td> <td>   33.811</td>\n",
       "</tr>\n",
       "<tr>\n",
       "  <th>C(sex)[T.1.0]:C(degree)[T.1.0]</th> <td>   -8.5650</td> <td>    3.760</td> <td>   -2.278</td> <td> 0.023</td> <td>  -15.948</td> <td>   -1.182</td>\n",
       "</tr>\n",
       "<tr>\n",
       "  <th>C(sex)[T.1.0]:C(degree)[T.2.0]</th> <td>  -16.7608</td> <td>    4.589</td> <td>   -3.653</td> <td> 0.000</td> <td>  -25.770</td> <td>   -7.752</td>\n",
       "</tr>\n",
       "<tr>\n",
       "  <th>C(sex)[T.1.0]:C(degree)[T.3.0]</th> <td>   -9.7944</td> <td>    3.882</td> <td>   -2.523</td> <td> 0.012</td> <td>  -17.417</td> <td>   -2.172</td>\n",
       "</tr>\n",
       "<tr>\n",
       "  <th>C(sex)[T.1.0]:C(degree)[T.4.0]</th> <td>  -13.1634</td> <td>    4.096</td> <td>   -3.214</td> <td> 0.001</td> <td>  -21.204</td> <td>   -5.122</td>\n",
       "</tr>\n",
       "</table>\n",
       "<table class=\"simpletable\">\n",
       "<tr>\n",
       "  <th>Omnibus:</th>       <td> 1.067</td> <th>  Durbin-Watson:     </th> <td>   2.050</td>\n",
       "</tr>\n",
       "<tr>\n",
       "  <th>Prob(Omnibus):</th> <td> 0.587</td> <th>  Jarque-Bera (JB):  </th> <td>   1.157</td>\n",
       "</tr>\n",
       "<tr>\n",
       "  <th>Skew:</th>          <td>-0.077</td> <th>  Prob(JB):          </th> <td>   0.561</td>\n",
       "</tr>\n",
       "<tr>\n",
       "  <th>Kurtosis:</th>      <td> 2.875</td> <th>  Cond. No.          </th> <td>    27.7</td>\n",
       "</tr>\n",
       "</table><br/><br/>Warnings:<br/>[1] Standard Errors assume that the covariance matrix of the errors is correctly specified."
      ],
      "text/plain": [
       "<class 'statsmodels.iolib.summary.Summary'>\n",
       "\"\"\"\n",
       "                            OLS Regression Results                            \n",
       "==============================================================================\n",
       "Dep. Variable:               prestg10   R-squared:                       0.277\n",
       "Model:                            OLS   Adj. R-squared:                  0.268\n",
       "Method:                 Least Squares   F-statistic:                     29.85\n",
       "Date:                Tue, 11 Aug 2020   Prob (F-statistic):           3.32e-44\n",
       "Time:                        20:12:01   Log-Likelihood:                -2740.2\n",
       "No. Observations:                 711   AIC:                             5500.\n",
       "Df Residuals:                     701   BIC:                             5546.\n",
       "Df Model:                           9                                         \n",
       "Covariance Type:            nonrobust                                         \n",
       "==================================================================================================\n",
       "                                     coef    std err          t      P>|t|      [0.025      0.975]\n",
       "--------------------------------------------------------------------------------------------------\n",
       "Intercept                         30.7619      2.509     12.261      0.000      25.836      35.688\n",
       "C(sex)[T.1.0]                     12.6472      3.508      3.606      0.000       5.760      19.534\n",
       "C(degree)[T.1.0]                   9.8906      2.689      3.678      0.000       4.610      15.171\n",
       "C(degree)[T.2.0]                  18.3517      3.050      6.018      0.000      12.364      24.339\n",
       "C(degree)[T.3.0]                  21.5500      2.740      7.865      0.000      16.170      26.930\n",
       "C(degree)[T.4.0]                  28.0199      2.949      9.500      0.000      22.229      33.811\n",
       "C(sex)[T.1.0]:C(degree)[T.1.0]    -8.5650      3.760     -2.278      0.023     -15.948      -1.182\n",
       "C(sex)[T.1.0]:C(degree)[T.2.0]   -16.7608      4.589     -3.653      0.000     -25.770      -7.752\n",
       "C(sex)[T.1.0]:C(degree)[T.3.0]    -9.7944      3.882     -2.523      0.012     -17.417      -2.172\n",
       "C(sex)[T.1.0]:C(degree)[T.4.0]   -13.1634      4.096     -3.214      0.001     -21.204      -5.122\n",
       "==============================================================================\n",
       "Omnibus:                        1.067   Durbin-Watson:                   2.050\n",
       "Prob(Omnibus):                  0.587   Jarque-Bera (JB):                1.157\n",
       "Skew:                          -0.077   Prob(JB):                        0.561\n",
       "Kurtosis:                       2.875   Cond. No.                         27.7\n",
       "==============================================================================\n",
       "\n",
       "Warnings:\n",
       "[1] Standard Errors assume that the covariance matrix of the errors is correctly specified.\n",
       "\"\"\""
      ]
     },
     "execution_count": 39,
     "metadata": {},
     "output_type": "execute_result"
    }
   ],
   "source": [
    "interaction_model = smf.ols(\"prestg10 ~ C(sex)*C(degree)\", gss_df).fit()\n",
    "interaction_model.summary()"
   ]
  },
  {
   "cell_type": "code",
   "execution_count": 40,
   "metadata": {},
   "outputs": [
    {
     "data": {
      "application/vnd.plotly.v1+json": {
       "config": {
        "plotlyServerURL": "https://plot.ly"
       },
       "data": [
        {
         "hovertemplate": "sex=1.0<br>degree=%{x}<br>fitted=%{y}<extra></extra>",
         "legendgroup": "1.0",
         "marker": {
          "color": "#636efa",
          "symbol": "circle"
         },
         "mode": "markers",
         "name": "1.0",
         "orientation": "v",
         "showlegend": true,
         "type": "scatter",
         "x": [
          3,
          1,
          3,
          4,
          4,
          4,
          4,
          3,
          2,
          4,
          4,
          3,
          3,
          3,
          1,
          1,
          1,
          4,
          3,
          0,
          1,
          4,
          1,
          1,
          0,
          1,
          0,
          3,
          1,
          4,
          1,
          3,
          1,
          3,
          3,
          3,
          4,
          1,
          1,
          1,
          1,
          1,
          1,
          3,
          4,
          4,
          4,
          1,
          4,
          3,
          4,
          4,
          4,
          1,
          1,
          3,
          1,
          3,
          0,
          4,
          1,
          1,
          1,
          3,
          4,
          3,
          4,
          1,
          4,
          1,
          3,
          0,
          4,
          4,
          1,
          3,
          1,
          1,
          1,
          4,
          4,
          3,
          3,
          3,
          1,
          3,
          1,
          4,
          3,
          3,
          1,
          3,
          3,
          3,
          3,
          3,
          4,
          3,
          1,
          2,
          0,
          3,
          2,
          1,
          1,
          1,
          3,
          1,
          1,
          1,
          1,
          4,
          4,
          4,
          1,
          0,
          3,
          1,
          3,
          1,
          3,
          1,
          3,
          3,
          1,
          1,
          1,
          3,
          1,
          3,
          1,
          1,
          1,
          1,
          1,
          3,
          3,
          1,
          1,
          4,
          4,
          4,
          1,
          0,
          0,
          3,
          1,
          1,
          3,
          3,
          3,
          1,
          3,
          2,
          1,
          3,
          4,
          1,
          1,
          3,
          2,
          1,
          4,
          3,
          4,
          3,
          1,
          2,
          3,
          1,
          1,
          3,
          4,
          2,
          4,
          1,
          2,
          3,
          1,
          3,
          4,
          1,
          1,
          1,
          3,
          4,
          1,
          1,
          3,
          1,
          4,
          1,
          1,
          1,
          1,
          4,
          0,
          4,
          1,
          1,
          3,
          1,
          1,
          4,
          0,
          2,
          3,
          2,
          0,
          1,
          1,
          4,
          0,
          2,
          4,
          1,
          1,
          1,
          4,
          3,
          0,
          0,
          1,
          4,
          0,
          1,
          4,
          0,
          1,
          1,
          1,
          1,
          1,
          4,
          2,
          1,
          4,
          1,
          3,
          3,
          2,
          3,
          1,
          1,
          3,
          3,
          4,
          1,
          3,
          3,
          3,
          1,
          4,
          2,
          1,
          1,
          4,
          1,
          1,
          1,
          3,
          1,
          3,
          1,
          3,
          3,
          4,
          2,
          2,
          1,
          1,
          1,
          1,
          0,
          0,
          1,
          4,
          3,
          3,
          4,
          4,
          1,
          1,
          1,
          1,
          1,
          1,
          1,
          1,
          1,
          1,
          3,
          1,
          4,
          3,
          2,
          4,
          4,
          1,
          1,
          1,
          3,
          1,
          2,
          3,
          3,
          3,
          1,
          2,
          3,
          1,
          2,
          1,
          4,
          1,
          1,
          2,
          1,
          1,
          1,
          1,
          1,
          1,
          4,
          2,
          1,
          1,
          3,
          1,
          0,
          0,
          1,
          0,
          1,
          1,
          1,
          3,
          3,
          2,
          4,
          1
         ],
         "xaxis": "x",
         "y": [
          54.665662130256806,
          47.078675891672376,
          52.82394619501838,
          61.86659103136437,
          53.62678276891606,
          61.13766053031494,
          60.7341594812942,
          56.647064229954246,
          54.978985096311945,
          60.74491070074176,
          59.52084327337287,
          60.367555983682536,
          53.784198737825555,
          54.080745649652556,
          50.2658034898615,
          42.598993142601614,
          34.95135054230032,
          60.58804995337378,
          56.73110939782331,
          42.62716256566877,
          38.263774206560406,
          53.96938680385371,
          44.203891834127866,
          43.82189322400224,
          33.99343712767902,
          40.272891500491276,
          34.99834026316729,
          57.157758600630025,
          43.621310045460135,
          61.69850069562625,
          49.19883599432187,
          55.440410569955596,
          39.78077824315402,
          57.56792219757346,
          48.14110639100768,
          55.865892426794055,
          60.958818975129255,
          44.05754312174615,
          45.01346780856716,
          45.06794145918886,
          46.628189558034016,
          44.58589044425347,
          42.849722115779244,
          56.763841425088586,
          59.7237611438515,
          60.395644117881425,
          61.675591726301576,
          43.922184813273304,
          60.66636073482713,
          58.18965937696786,
          60.68260715622912,
          59.80231110976613,
          55.65856984771032,
          45.22504139101813,
          44.97197772590397,
          54.68764293807451,
          47.33513925126574,
          54.889393462584884,
          44.32300815744808,
          62.180790895022916,
          44.264788848210955,
          45.67459956314953,
          44.98939149327422,
          54.04825280684857,
          59.88086107568077,
          56.52935887331294,
          54.52589911317885,
          47.065589980288294,
          60.47010541227118,
          46.7623805205386,
          53.254923253811256,
          39.24285148341674,
          61.496510986654584,
          60.60955239226892,
          46.270506447662626,
          54.733460876723875,
          43.4183921749815,
          44.66444041016811,
          45.942742303697415,
          62.10866429256969,
          56.48532040505859,
          50.46511252564277,
          56.94385032624253,
          57.436891745086776,
          45.00014271272178,
          53.54164710769767,
          44.29319301949006,
          57.06790219372631,
          56.49429215411114,
          58.27919974679135,
          40.935190601041896,
          57.639809615565404,
          55.77611287250927,
          55.719543714412346,
          55.5134653339158,
          57.796909547394684,
          61.082258718186274,
          47.11422244770169,
          39.538226613026126,
          49.73506594252865,
          33.07257916005981,
          54.69839415752208,
          51.04867373972104,
          41.851481528213654,
          44.2377912073614,
          47.2021156347294,
          54.47349547922574,
          48.35079360620158,
          51.08636986820965,
          42.01524400796562,
          46.25718135181725,
          57.489295379039895,
          60.12750137733353,
          61.205459276782015,
          43.88969197046932,
          41.841662906522416,
          56.94385032624253,
          42.019811048413075,
          55.562443782583074,
          47.41368921718037,
          52.03844653587202,
          41.947445261498544,
          53.07034731220985,
          57.6748763347672,
          40.90888193723802,
          46.53864918821052,
          44.91084152735959,
          54.46274425977817,
          47.63858789547671,
          56.347943441729434,
          40.240848450271685,
          45.642106720345545,
          45.46069128876204,
          39.85932820906865,
          41.89496477492649,
          53.31815495983088,
          56.22591022910196,
          43.49694214089614,
          45.685589967058384,
          60.15999422013751,
          57.93744702074174,
          64.25815672800525,
          41.66597742510528,
          38.89884091804954,
          42.94136242932731,
          57.685866738676054,
          43.239550619795814,
          44.04679190229859,
          52.92447696875072,
          54.09723125551584,
          54.97986199391535,
          46.15688976254619,
          55.382195696967834,
          49.36405773631188,
          42.28479327894307,
          53.20594480514399,
          61.637603681543155,
          42.451477084251636,
          43.621310045460135,
          57.62905839611784,
          44.23165976016979,
          46.8420978324215,
          57.78175361934202,
          55.32679388483917,
          53.407618477035435,
          54.65491091080924,
          44.27169058059493,
          49.57130346277668,
          54.889393462584884,
          45.79920665217481,
          44.31634117327603,
          54.855494089351346,
          57.6232471570832,
          51.17070695234851,
          61.45069304800522,
          43.2720434625998,
          43.273981093760426,
          56.977510515014785,
          44.29319301949006,
          54.957192209051954,
          62.23736005311984,
          46.02129226961205,
          41.07264441698999,
          42.12769334711379,
          54.45175385586932,
          57.83739461593197,
          43.11494353077052,
          42.62073476595803,
          60.12091568202977,
          44.09144249497969,
          60.02720978806247,
          44.84304278089252,
          42.8129014169891,
          47.145546476632475,
          44.193140614680296,
          59.84579435647897,
          28.481375233347837,
          56.37603157592832,
          42.64364373528271,
          46.59429018480048,
          56.87605157977547,
          43.478361027557625,
          45.22504139101813,
          59.25246134836368,
          33.74154080853312,
          49.45476545210364,
          58.01081782178216,
          47.55740852027526,
          43.49121219072977,
          43.19349349668515,
          46.78528948986328,
          58.51044493593016,
          41.40718380982476,
          48.556816453809105,
          61.205459276782015,
          42.80074366711197,
          44.14299482004477,
          45.37139010339984,
          60.72200173141708,
          55.518960535870235,
          43.87321080085539,
          37.149000044571125,
          44.675191629615675,
          54.95570882600347,
          39.28083952817515,
          44.978640273826656,
          55.10614620991006,
          43.78390961549319,
          43.49694214089614,
          46.9249756543223,
          43.09776894786156,
          46.63894077748158,
          43.76298937396879,
          58.04989635988991,
          51.643652462727175,
          44.753741595530315,
          60.09476935006826,
          43.57549210681078,
          53.12739483922936,
          53.15988768203334,
          49.62285578784177,
          53.83434453246108,
          43.036393564855885,
          46.00095717668518,
          54.99634759977863,
          54.946201805143104,
          58.487296782144185,
          46.349056413577266,
          56.204168605745544,
          55.097806535017945,
          54.44100263642175,
          45.139828877180804,
          59.80231110976613,
          51.89098174142562,
          44.76449281497787,
          45.74099177918705,
          58.578243682397236,
          44.350001362048275,
          43.68653491552939,
          47.08873813407426,
          54.65257621887272,
          42.56509376936806,
          53.41844654910193,
          42.608577016080915,
          54.36245267050712,
          60.05335612002399,
          59.060294697332615,
          48.89275794082407,
          49.75680756588507,
          44.05754312174615,
          42.20916463858504,
          40.430919593827525,
          42.01524400796562,
          36.24988370030833,
          38.36114890652421,
          43.104192311322954,
          63.304566733120765,
          55.75461043361414,
          51.43178843191135,
          60.655370330918274,
          57.5785965644021,
          43.171751873328745,
          42.99174297217479,
          41.72944831558618,
          37.78745757804075,
          43.97899315583152,
          48.42408755462308,
          46.52789796876296,
          49.91220905101499,
          45.15724264455106,
          45.93199108424985,
          54.855494089351346,
          49.099472566557786,
          58.881453142146924,
          52.084264474521376,
          49.57820519516067,
          61.58605135647808,
          62.92280730745644,
          45.86443152224407,
          43.80015160064582,
          46.897499644550166,
          54.4842466986733,
          44.871446952171624,
          47.984057723081975,
          55.68797903311533,
          57.18066756995471,
          52.55439692404094,
          43.54159273357724,
          48.578558077165525,
          53.14889727812448,
          42.99174297217479,
          47.63595848618989,
          44.96648252394954,
          60.3072710940262,
          43.522772435777426,
          42.29437715242237,
          48.141157654911254,
          46.896571483043196,
          41.39642815412783,
          42.84539425979308,
          49.12028602840723,
          42.25089390570952,
          44.821540341997384,
          61.23935865001555,
          48.47826648789447,
          47.71713786139135,
          44.92159274680715,
          52.20629768714885,
          44.07928474510257,
          33.2067701225644,
          41.19993808335995,
          42.451477084251636,
          39.36055684005805,
          45.22504139101813,
          42.48654380345343,
          43.58624332625834,
          53.76654578599401,
          51.8636936522112,
          48.00030414448396,
          60.395644117881425,
          46.16764098199376
         ],
         "yaxis": "y"
        },
        {
         "hovertemplate": "sex=0.0<br>degree=%{x}<br>fitted=%{y}<extra></extra>",
         "legendgroup": "0.0",
         "marker": {
          "color": "#EF553B",
          "symbol": "circle"
         },
         "mode": "markers",
         "name": "0.0",
         "orientation": "v",
         "showlegend": true,
         "type": "scatter",
         "x": [
          3,
          3,
          2,
          3,
          3,
          4,
          3,
          1,
          4,
          3,
          3,
          1,
          4,
          1,
          3,
          2,
          1,
          1,
          1,
          3,
          4,
          3,
          0,
          0,
          1,
          3,
          4,
          3,
          1,
          3,
          1,
          1,
          4,
          3,
          3,
          1,
          3,
          3,
          3,
          3,
          1,
          4,
          3,
          3,
          1,
          4,
          4,
          3,
          3,
          2,
          4,
          4,
          1,
          1,
          1,
          4,
          2,
          2,
          3,
          4,
          1,
          3,
          0,
          1,
          1,
          2,
          2,
          1,
          4,
          3,
          3,
          1,
          3,
          1,
          1,
          2,
          3,
          2,
          3,
          4,
          4,
          1,
          1,
          1,
          3,
          3,
          3,
          3,
          1,
          1,
          1,
          1,
          1,
          1,
          1,
          3,
          3,
          2,
          3,
          1,
          1,
          2,
          4,
          1,
          0,
          3,
          3,
          4,
          4,
          1,
          1,
          3,
          1,
          3,
          2,
          1,
          3,
          2,
          0,
          2,
          4,
          4,
          3,
          1,
          3,
          2,
          2,
          3,
          1,
          3,
          1,
          4,
          1,
          0,
          2,
          2,
          0,
          2,
          3,
          3,
          3,
          1,
          1,
          4,
          4,
          3,
          3,
          2,
          0,
          1,
          1,
          3,
          4,
          3,
          2,
          4,
          3,
          3,
          3,
          3,
          1,
          2,
          3,
          3,
          4,
          1,
          1,
          1,
          3,
          1,
          1,
          1,
          1,
          1,
          4,
          1,
          1,
          1,
          3,
          4,
          2,
          1,
          3,
          3,
          4,
          3,
          3,
          1,
          1,
          1,
          0,
          1,
          3,
          3,
          4,
          3,
          3,
          1,
          1,
          2,
          3,
          2,
          1,
          1,
          1,
          3,
          1,
          0,
          1,
          1,
          4,
          1,
          1,
          1,
          3,
          4,
          2,
          4,
          1,
          3,
          3,
          1,
          4,
          4,
          1,
          1,
          3,
          3,
          3,
          2,
          1,
          3,
          0,
          2,
          2,
          1,
          2,
          1,
          0,
          1,
          3,
          3,
          3,
          4,
          1,
          1,
          1,
          3,
          1,
          1,
          3,
          3,
          3,
          0,
          1,
          4,
          4,
          2,
          2,
          1,
          3,
          1,
          1,
          4,
          1,
          4,
          1,
          1,
          1,
          3,
          3,
          3,
          3,
          1,
          1,
          3,
          2,
          3,
          3,
          3,
          4,
          1,
          3,
          3,
          3,
          3,
          1,
          4,
          0,
          2,
          1,
          1,
          1,
          1,
          4,
          0,
          1,
          1,
          1,
          1,
          2,
          4,
          2,
          4,
          3,
          3,
          4,
          4,
          1,
          0,
          1,
          1,
          2,
          3,
          2,
          3,
          2,
          2,
          1,
          1,
          0,
          1,
          1,
          1,
          1,
          1,
          2,
          3,
          1,
          1,
          3,
          1,
          1,
          1,
          1,
          1,
          3,
          1,
          1,
          4,
          0,
          1,
          1,
          1,
          1,
          1,
          1,
          1,
          1,
          3,
          4,
          2,
          4,
          4,
          3,
          0,
          1,
          0,
          4,
          0,
          2,
          1,
          4,
          2,
          3,
          3,
          4,
          1,
          1,
          1
         ],
         "xaxis": "x",
         "y": [
          52.11796485129163,
          51.989269090741466,
          47.514893623067394,
          54.73442922622885,
          53.0498132228197,
          57.985879023786914,
          49.71564793520319,
          40.43446181973031,
          57.52533044774667,
          51.24316400678307,
          49.58005044226904,
          39.70436397271261,
          59.11164802593441,
          42.15040331997519,
          50.24351688878792,
          50.07887751143257,
          45.0474073697987,
          41.54491256198277,
          40.438550491255185,
          54.97007912397276,
          58.78236908684213,
          51.086064074953796,
          29.43734010816685,
          33.221063567914754,
          38.73768806644404,
          51.47881390452698,
          55.52651458067897,
          50.496819738363385,
          43.251509373209636,
          53.67821295013679,
          41.58956315466388,
          36.7400395453446,
          56.565317089400786,
          51.95011370001479,
          54.27411983464989,
          43.02111549295887,
          53.75676291605142,
          52.57851342733188,
          54.29586145800631,
          53.285463120563605,
          44.16020959095174,
          58.927311268794284,
          49.03686322878929,
          51.45040973324787,
          43.879909100526724,
          59.23192725897353,
          56.89693072042958,
          54.47703770512852,
          55.41987648056544,
          47.73979230136374,
          56.06537393817257,
          62.10554397054978,
          41.309501848700165,
          43.68890979546392,
          40.82721164930349,
          57.75022912604301,
          46.22186010326317,
          47.71547680160951,
          55.12717905580203,
          57.996630243234485,
          47.86445492327803,
          51.578866309336746,
          28.853590973530864,
          41.859351610102614,
          44.06974105962127,
          49.657723510580276,
          45.009711241310086,
          40.45596425862544,
          59.39977841025036,
          51.84982211074374,
          52.97126325690506,
          42.08401110393766,
          48.947562043427084,
          37.054239409003145,
          42.841106591804916,
          44.68592750417224,
          55.47411094672585,
          42.230890917050466,
          51.657655459712664,
          59.72472949335648,
          55.03323397737344,
          42.481088789497015,
          40.82721164930349,
          41.275363291005334,
          50.69331424538062,
          52.61358014653368,
          51.92837207665837,
          55.83412874903376,
          44.25091730674349,
          45.19351689771912,
          43.22976774985322,
          41.35391325691997,
          45.11496693180448,
          43.54396761351176,
          38.63190127521855,
          52.499963461417245,
          54.723678006781284,
          45.74506510582093,
          52.00025949465032,
          40.680862936921784,
          43.656177768198646,
          49.09688334526898,
          57.389972139273816,
          35.17288971411547,
          35.084760310970886,
          47.627291698312,
          53.12836318873433,
          54.559599489949115,
          53.863640200626236,
          33.68067954619868,
          40.28811310734859,
          49.27917567445587,
          36.442325287549345,
          51.82784130292603,
          45.358977824170424,
          41.44894882869789,
          55.91267871494839,
          47.51372627709914,
          41.528431392368844,
          44.98796961795367,
          54.75176614098017,
          59.12906179330466,
          55.84511915294261,
          42.823692824434666,
          54.16283784146998,
          47.99718382246407,
          48.54703358386652,
          47.251955636109074,
          39.73826334594615,
          53.649808778857675,
          38.63856382314125,
          58.243270544887245,
          40.28811310734859,
          33.39464910560731,
          43.696103444117696,
          47.60443399289089,
          33.92135071322379,
          48.03633921319074,
          50.87648365655247,
          50.4006168206172,
          52.36460515294439,
          39.85071268509432,
          43.3515617780194,
          59.42152003360678,
          56.660113476717406,
          52.77068007836295,
          55.9697262419679,
          48.727042485020476,
          39.11512407237156,
          41.99470991857547,
          42.33041222112914,
          51.602014463122714,
          54.526867462683825,
          53.12836318873433,
          48.052824819054024,
          55.498110409399864,
          46.69544332678393,
          53.82572900848675,
          55.048868274348685,
          53.24197987385077,
          45.19351689771912,
          46.90847470356802,
          50.075665737511095,
          50.32206685470257,
          57.400962543182665,
          39.98256895566239,
          41.07361276649496,
          40.052463209604696,
          52.1857635977587,
          39.822308513815216,
          43.026610694913295,
          41.53941736002835,
          45.79900765571153,
          44.82250869150236,
          56.06537393817257,
          45.39433926072252,
          43.958459066441364,
          43.31906893521542,
          54.1845794648264,
          60.56703749506105,
          47.87257673343878,
          40.48869628589071,
          50.19886629610683,
          51.24316400678307,
          53.27006800804965,
          55.48602951214168,
          50.67133343756291,
          44.20486018363284,
          43.430350928395335,
          39.1086962726608,
          32.46853512049496,
          44.30748646484041,
          54.24138780738461,
          52.84923004427759,
          60.91654326238268,
          51.332704376606564,
          53.982828940316026,
          41.859112425641314,
          39.938846524488255,
          46.38012738106069,
          51.10756651384892,
          46.565631484169074,
          40.117688079673954,
          38.222665839782096,
          42.02696357691816,
          51.563787233903014,
          41.72375411716847,
          29.7799441431045,
          39.03131365271443,
          43.161969003386154,
          53.73061658408991,
          39.57017301020802,
          41.387812630153505,
          39.58116341411687,
          48.986717434153746,
          56.5041808908564,
          47.38386317058072,
          57.547311255564374,
          45.45757096674213,
          51.72521502171845,
          50.222014449892804,
          37.81799744479309,
          55.99781437616679,
          59.71397827390891,
          44.115558998270636,
          42.81819762248024,
          51.60318180909098,
          51.714463802270885,
          55.15991108306731,
          46.98012293709867,
          43.49791049040112,
          50.21944057349499,
          28.314492431575975,
          49.2649736810071,
          43.75407913264418,
          43.98112885130476,
          47.2888275988028,
          41.70201249381205,
          38.7629361639546,
          40.377653477172096,
          51.09798264036963,
          52.79242170171937,
          50.714816684275746,
          57.047128919874865,
          39.85071268509432,
          41.15216273240959,
          40.80523084148578,
          53.470967223671984,
          42.2869289744163,
          38.81599884789738,
          56.30566772898286,
          55.083695809089186,
          54.38656917379806,
          42.695929661640825,
          41.54491256198277,
          54.47029830458691,
          58.803871525737264,
          46.84067595710095,
          42.42189022211327,
          40.40056244649678,
          53.85962838172029,
          41.25245432168066,
          40.06438177502052,
          54.92651902464099,
          42.45501931015443,
          53.85381714268564,
          38.985256529603774,
          41.91592076819954,
          41.59505835661831,
          55.13816945971089,
          52.89271329099042,
          48.167318401773855,
          55.77872693690509,
          42.95039542093518,
          41.387812630153505,
          53.00632997610686,
          43.2816119911881,
          54.44337751635628,
          50.592783471648275,
          55.38480976136365,
          58.254260948796095,
          48.257204752851216,
          50.861165396657455,
          50.682323841471764,
          51.086064074953796,
          53.55617973750931,
          42.701420427345894,
          55.341938639077554,
          40.20266584529935,
          44.77838919955235,
          36.56119799015892,
          35.763540581135445,
          45.24366269235465,
          36.7400395453446,
          60.09597688403452,
          38.43108334846451,
          40.30552687471885,
          34.72357072644537,
          41.001725348503015,
          35.84594003411366,
          48.87339119740218,
          57.39113948524208,
          48.56877520722294,
          60.96002650909551,
          52.377930248789774,
          55.04862908988739,
          60.09573769957324,
          59.517722951352965,
          33.66326577882843,
          35.68592321297712,
          40.64122917727253,
          38.81191017637251,
          47.636926835694865,
          54.48686076306912,
          48.56877520722294,
          51.55736387044161,
          47.55837686978023,
          47.73979230136374,
          42.85992688960472,
          39.816813311860784,
          41.754497416633455,
          42.48342348143354,
          36.93196701191438,
          41.01271575241187,
          42.20604431656514,
          42.38055801576466,
          49.68179982587322,
          53.39907980568004,
          40.59565042308445,
          35.21252347376472,
          55.90192749550082,
          39.97391324369006,
          42.958811948446225,
          41.230712698324226,
          38.72786500850344,
          43.330059339124276,
          40.913832161475305,
          38.967842762233516,
          40.052463209604696,
          59.88182942518574,
          36.841263732371985,
          40.084956052408685,
          41.07361276649496,
          38.41682565486281,
          39.91160969917742,
          39.08145944734996,
          41.29851144479131,
          39.42406348228761,
          38.71045124113319,
          52.73561335916116,
          51.984864382136365,
          51.01738843088332,
          58.40586567867095,
          57.68266956403723,
          51.27706338001661,
          41.28203027517738,
          42.79096079716939,
          40.74293173322249,
          54.00016585506735,
          27.955641975236333,
          45.5160777559997,
          35.31398240900404,
          58.389619257268954,
          45.7517276537436,
          53.320529839765406,
          54.4204685470316,
          57.05286330629059,
          40.255381080083325,
          38.70354950874921,
          43.408370120577615
         ],
         "yaxis": "y"
        }
       ],
       "layout": {
        "legend": {
         "title": {
          "text": "sex"
         },
         "tracegroupgap": 0
        },
        "template": {
         "data": {
          "bar": [
           {
            "error_x": {
             "color": "#2a3f5f"
            },
            "error_y": {
             "color": "#2a3f5f"
            },
            "marker": {
             "line": {
              "color": "#E5ECF6",
              "width": 0.5
             }
            },
            "type": "bar"
           }
          ],
          "barpolar": [
           {
            "marker": {
             "line": {
              "color": "#E5ECF6",
              "width": 0.5
             }
            },
            "type": "barpolar"
           }
          ],
          "carpet": [
           {
            "aaxis": {
             "endlinecolor": "#2a3f5f",
             "gridcolor": "white",
             "linecolor": "white",
             "minorgridcolor": "white",
             "startlinecolor": "#2a3f5f"
            },
            "baxis": {
             "endlinecolor": "#2a3f5f",
             "gridcolor": "white",
             "linecolor": "white",
             "minorgridcolor": "white",
             "startlinecolor": "#2a3f5f"
            },
            "type": "carpet"
           }
          ],
          "choropleth": [
           {
            "colorbar": {
             "outlinewidth": 0,
             "ticks": ""
            },
            "type": "choropleth"
           }
          ],
          "contour": [
           {
            "colorbar": {
             "outlinewidth": 0,
             "ticks": ""
            },
            "colorscale": [
             [
              0,
              "#0d0887"
             ],
             [
              0.1111111111111111,
              "#46039f"
             ],
             [
              0.2222222222222222,
              "#7201a8"
             ],
             [
              0.3333333333333333,
              "#9c179e"
             ],
             [
              0.4444444444444444,
              "#bd3786"
             ],
             [
              0.5555555555555556,
              "#d8576b"
             ],
             [
              0.6666666666666666,
              "#ed7953"
             ],
             [
              0.7777777777777778,
              "#fb9f3a"
             ],
             [
              0.8888888888888888,
              "#fdca26"
             ],
             [
              1,
              "#f0f921"
             ]
            ],
            "type": "contour"
           }
          ],
          "contourcarpet": [
           {
            "colorbar": {
             "outlinewidth": 0,
             "ticks": ""
            },
            "type": "contourcarpet"
           }
          ],
          "heatmap": [
           {
            "colorbar": {
             "outlinewidth": 0,
             "ticks": ""
            },
            "colorscale": [
             [
              0,
              "#0d0887"
             ],
             [
              0.1111111111111111,
              "#46039f"
             ],
             [
              0.2222222222222222,
              "#7201a8"
             ],
             [
              0.3333333333333333,
              "#9c179e"
             ],
             [
              0.4444444444444444,
              "#bd3786"
             ],
             [
              0.5555555555555556,
              "#d8576b"
             ],
             [
              0.6666666666666666,
              "#ed7953"
             ],
             [
              0.7777777777777778,
              "#fb9f3a"
             ],
             [
              0.8888888888888888,
              "#fdca26"
             ],
             [
              1,
              "#f0f921"
             ]
            ],
            "type": "heatmap"
           }
          ],
          "heatmapgl": [
           {
            "colorbar": {
             "outlinewidth": 0,
             "ticks": ""
            },
            "colorscale": [
             [
              0,
              "#0d0887"
             ],
             [
              0.1111111111111111,
              "#46039f"
             ],
             [
              0.2222222222222222,
              "#7201a8"
             ],
             [
              0.3333333333333333,
              "#9c179e"
             ],
             [
              0.4444444444444444,
              "#bd3786"
             ],
             [
              0.5555555555555556,
              "#d8576b"
             ],
             [
              0.6666666666666666,
              "#ed7953"
             ],
             [
              0.7777777777777778,
              "#fb9f3a"
             ],
             [
              0.8888888888888888,
              "#fdca26"
             ],
             [
              1,
              "#f0f921"
             ]
            ],
            "type": "heatmapgl"
           }
          ],
          "histogram": [
           {
            "marker": {
             "colorbar": {
              "outlinewidth": 0,
              "ticks": ""
             }
            },
            "type": "histogram"
           }
          ],
          "histogram2d": [
           {
            "colorbar": {
             "outlinewidth": 0,
             "ticks": ""
            },
            "colorscale": [
             [
              0,
              "#0d0887"
             ],
             [
              0.1111111111111111,
              "#46039f"
             ],
             [
              0.2222222222222222,
              "#7201a8"
             ],
             [
              0.3333333333333333,
              "#9c179e"
             ],
             [
              0.4444444444444444,
              "#bd3786"
             ],
             [
              0.5555555555555556,
              "#d8576b"
             ],
             [
              0.6666666666666666,
              "#ed7953"
             ],
             [
              0.7777777777777778,
              "#fb9f3a"
             ],
             [
              0.8888888888888888,
              "#fdca26"
             ],
             [
              1,
              "#f0f921"
             ]
            ],
            "type": "histogram2d"
           }
          ],
          "histogram2dcontour": [
           {
            "colorbar": {
             "outlinewidth": 0,
             "ticks": ""
            },
            "colorscale": [
             [
              0,
              "#0d0887"
             ],
             [
              0.1111111111111111,
              "#46039f"
             ],
             [
              0.2222222222222222,
              "#7201a8"
             ],
             [
              0.3333333333333333,
              "#9c179e"
             ],
             [
              0.4444444444444444,
              "#bd3786"
             ],
             [
              0.5555555555555556,
              "#d8576b"
             ],
             [
              0.6666666666666666,
              "#ed7953"
             ],
             [
              0.7777777777777778,
              "#fb9f3a"
             ],
             [
              0.8888888888888888,
              "#fdca26"
             ],
             [
              1,
              "#f0f921"
             ]
            ],
            "type": "histogram2dcontour"
           }
          ],
          "mesh3d": [
           {
            "colorbar": {
             "outlinewidth": 0,
             "ticks": ""
            },
            "type": "mesh3d"
           }
          ],
          "parcoords": [
           {
            "line": {
             "colorbar": {
              "outlinewidth": 0,
              "ticks": ""
             }
            },
            "type": "parcoords"
           }
          ],
          "pie": [
           {
            "automargin": true,
            "type": "pie"
           }
          ],
          "scatter": [
           {
            "marker": {
             "colorbar": {
              "outlinewidth": 0,
              "ticks": ""
             }
            },
            "type": "scatter"
           }
          ],
          "scatter3d": [
           {
            "line": {
             "colorbar": {
              "outlinewidth": 0,
              "ticks": ""
             }
            },
            "marker": {
             "colorbar": {
              "outlinewidth": 0,
              "ticks": ""
             }
            },
            "type": "scatter3d"
           }
          ],
          "scattercarpet": [
           {
            "marker": {
             "colorbar": {
              "outlinewidth": 0,
              "ticks": ""
             }
            },
            "type": "scattercarpet"
           }
          ],
          "scattergeo": [
           {
            "marker": {
             "colorbar": {
              "outlinewidth": 0,
              "ticks": ""
             }
            },
            "type": "scattergeo"
           }
          ],
          "scattergl": [
           {
            "marker": {
             "colorbar": {
              "outlinewidth": 0,
              "ticks": ""
             }
            },
            "type": "scattergl"
           }
          ],
          "scattermapbox": [
           {
            "marker": {
             "colorbar": {
              "outlinewidth": 0,
              "ticks": ""
             }
            },
            "type": "scattermapbox"
           }
          ],
          "scatterpolar": [
           {
            "marker": {
             "colorbar": {
              "outlinewidth": 0,
              "ticks": ""
             }
            },
            "type": "scatterpolar"
           }
          ],
          "scatterpolargl": [
           {
            "marker": {
             "colorbar": {
              "outlinewidth": 0,
              "ticks": ""
             }
            },
            "type": "scatterpolargl"
           }
          ],
          "scatterternary": [
           {
            "marker": {
             "colorbar": {
              "outlinewidth": 0,
              "ticks": ""
             }
            },
            "type": "scatterternary"
           }
          ],
          "surface": [
           {
            "colorbar": {
             "outlinewidth": 0,
             "ticks": ""
            },
            "colorscale": [
             [
              0,
              "#0d0887"
             ],
             [
              0.1111111111111111,
              "#46039f"
             ],
             [
              0.2222222222222222,
              "#7201a8"
             ],
             [
              0.3333333333333333,
              "#9c179e"
             ],
             [
              0.4444444444444444,
              "#bd3786"
             ],
             [
              0.5555555555555556,
              "#d8576b"
             ],
             [
              0.6666666666666666,
              "#ed7953"
             ],
             [
              0.7777777777777778,
              "#fb9f3a"
             ],
             [
              0.8888888888888888,
              "#fdca26"
             ],
             [
              1,
              "#f0f921"
             ]
            ],
            "type": "surface"
           }
          ],
          "table": [
           {
            "cells": {
             "fill": {
              "color": "#EBF0F8"
             },
             "line": {
              "color": "white"
             }
            },
            "header": {
             "fill": {
              "color": "#C8D4E3"
             },
             "line": {
              "color": "white"
             }
            },
            "type": "table"
           }
          ]
         },
         "layout": {
          "annotationdefaults": {
           "arrowcolor": "#2a3f5f",
           "arrowhead": 0,
           "arrowwidth": 1
          },
          "coloraxis": {
           "colorbar": {
            "outlinewidth": 0,
            "ticks": ""
           }
          },
          "colorscale": {
           "diverging": [
            [
             0,
             "#8e0152"
            ],
            [
             0.1,
             "#c51b7d"
            ],
            [
             0.2,
             "#de77ae"
            ],
            [
             0.3,
             "#f1b6da"
            ],
            [
             0.4,
             "#fde0ef"
            ],
            [
             0.5,
             "#f7f7f7"
            ],
            [
             0.6,
             "#e6f5d0"
            ],
            [
             0.7,
             "#b8e186"
            ],
            [
             0.8,
             "#7fbc41"
            ],
            [
             0.9,
             "#4d9221"
            ],
            [
             1,
             "#276419"
            ]
           ],
           "sequential": [
            [
             0,
             "#0d0887"
            ],
            [
             0.1111111111111111,
             "#46039f"
            ],
            [
             0.2222222222222222,
             "#7201a8"
            ],
            [
             0.3333333333333333,
             "#9c179e"
            ],
            [
             0.4444444444444444,
             "#bd3786"
            ],
            [
             0.5555555555555556,
             "#d8576b"
            ],
            [
             0.6666666666666666,
             "#ed7953"
            ],
            [
             0.7777777777777778,
             "#fb9f3a"
            ],
            [
             0.8888888888888888,
             "#fdca26"
            ],
            [
             1,
             "#f0f921"
            ]
           ],
           "sequentialminus": [
            [
             0,
             "#0d0887"
            ],
            [
             0.1111111111111111,
             "#46039f"
            ],
            [
             0.2222222222222222,
             "#7201a8"
            ],
            [
             0.3333333333333333,
             "#9c179e"
            ],
            [
             0.4444444444444444,
             "#bd3786"
            ],
            [
             0.5555555555555556,
             "#d8576b"
            ],
            [
             0.6666666666666666,
             "#ed7953"
            ],
            [
             0.7777777777777778,
             "#fb9f3a"
            ],
            [
             0.8888888888888888,
             "#fdca26"
            ],
            [
             1,
             "#f0f921"
            ]
           ]
          },
          "colorway": [
           "#636efa",
           "#EF553B",
           "#00cc96",
           "#ab63fa",
           "#FFA15A",
           "#19d3f3",
           "#FF6692",
           "#B6E880",
           "#FF97FF",
           "#FECB52"
          ],
          "font": {
           "color": "#2a3f5f"
          },
          "geo": {
           "bgcolor": "white",
           "lakecolor": "white",
           "landcolor": "#E5ECF6",
           "showlakes": true,
           "showland": true,
           "subunitcolor": "white"
          },
          "hoverlabel": {
           "align": "left"
          },
          "hovermode": "closest",
          "mapbox": {
           "style": "light"
          },
          "paper_bgcolor": "white",
          "plot_bgcolor": "#E5ECF6",
          "polar": {
           "angularaxis": {
            "gridcolor": "white",
            "linecolor": "white",
            "ticks": ""
           },
           "bgcolor": "#E5ECF6",
           "radialaxis": {
            "gridcolor": "white",
            "linecolor": "white",
            "ticks": ""
           }
          },
          "scene": {
           "xaxis": {
            "backgroundcolor": "#E5ECF6",
            "gridcolor": "white",
            "gridwidth": 2,
            "linecolor": "white",
            "showbackground": true,
            "ticks": "",
            "zerolinecolor": "white"
           },
           "yaxis": {
            "backgroundcolor": "#E5ECF6",
            "gridcolor": "white",
            "gridwidth": 2,
            "linecolor": "white",
            "showbackground": true,
            "ticks": "",
            "zerolinecolor": "white"
           },
           "zaxis": {
            "backgroundcolor": "#E5ECF6",
            "gridcolor": "white",
            "gridwidth": 2,
            "linecolor": "white",
            "showbackground": true,
            "ticks": "",
            "zerolinecolor": "white"
           }
          },
          "shapedefaults": {
           "line": {
            "color": "#2a3f5f"
           }
          },
          "ternary": {
           "aaxis": {
            "gridcolor": "white",
            "linecolor": "white",
            "ticks": ""
           },
           "baxis": {
            "gridcolor": "white",
            "linecolor": "white",
            "ticks": ""
           },
           "bgcolor": "#E5ECF6",
           "caxis": {
            "gridcolor": "white",
            "linecolor": "white",
            "ticks": ""
           }
          },
          "title": {
           "x": 0.05
          },
          "xaxis": {
           "automargin": true,
           "gridcolor": "white",
           "linecolor": "white",
           "ticks": "",
           "title": {
            "standoff": 15
           },
           "zerolinecolor": "white",
           "zerolinewidth": 2
          },
          "yaxis": {
           "automargin": true,
           "gridcolor": "white",
           "linecolor": "white",
           "ticks": "",
           "title": {
            "standoff": 15
           },
           "zerolinecolor": "white",
           "zerolinewidth": 2
          }
         }
        },
        "title": {
         "text": "Degree level vs predicted values. Coloured by sex"
        },
        "xaxis": {
         "anchor": "y",
         "domain": [
          0,
          1
         ],
         "title": {
          "text": "degree"
         }
        },
        "yaxis": {
         "anchor": "x",
         "domain": [
          0,
          1
         ],
         "title": {
          "text": "fitted"
         }
        }
       }
      },
      "text/html": [
       "<div>\n",
       "        \n",
       "        \n",
       "            <div id=\"2f7d42d3-8bfe-41f4-a674-9b6fa82fc177\" class=\"plotly-graph-div\" style=\"height:525px; width:100%;\"></div>\n",
       "            <script type=\"text/javascript\">\n",
       "                require([\"plotly\"], function(Plotly) {\n",
       "                    window.PLOTLYENV=window.PLOTLYENV || {};\n",
       "                    \n",
       "                if (document.getElementById(\"2f7d42d3-8bfe-41f4-a674-9b6fa82fc177\")) {\n",
       "                    Plotly.newPlot(\n",
       "                        '2f7d42d3-8bfe-41f4-a674-9b6fa82fc177',\n",
       "                        [{\"hovertemplate\": \"sex=1.0<br>degree=%{x}<br>fitted=%{y}<extra></extra>\", \"legendgroup\": \"1.0\", \"marker\": {\"color\": \"#636efa\", \"symbol\": \"circle\"}, \"mode\": \"markers\", \"name\": \"1.0\", \"orientation\": \"v\", \"showlegend\": true, \"type\": \"scatter\", \"x\": [3.0, 1.0, 3.0, 4.0, 4.0, 4.0, 4.0, 3.0, 2.0, 4.0, 4.0, 3.0, 3.0, 3.0, 1.0, 1.0, 1.0, 4.0, 3.0, 0.0, 1.0, 4.0, 1.0, 1.0, 0.0, 1.0, 0.0, 3.0, 1.0, 4.0, 1.0, 3.0, 1.0, 3.0, 3.0, 3.0, 4.0, 1.0, 1.0, 1.0, 1.0, 1.0, 1.0, 3.0, 4.0, 4.0, 4.0, 1.0, 4.0, 3.0, 4.0, 4.0, 4.0, 1.0, 1.0, 3.0, 1.0, 3.0, 0.0, 4.0, 1.0, 1.0, 1.0, 3.0, 4.0, 3.0, 4.0, 1.0, 4.0, 1.0, 3.0, 0.0, 4.0, 4.0, 1.0, 3.0, 1.0, 1.0, 1.0, 4.0, 4.0, 3.0, 3.0, 3.0, 1.0, 3.0, 1.0, 4.0, 3.0, 3.0, 1.0, 3.0, 3.0, 3.0, 3.0, 3.0, 4.0, 3.0, 1.0, 2.0, 0.0, 3.0, 2.0, 1.0, 1.0, 1.0, 3.0, 1.0, 1.0, 1.0, 1.0, 4.0, 4.0, 4.0, 1.0, 0.0, 3.0, 1.0, 3.0, 1.0, 3.0, 1.0, 3.0, 3.0, 1.0, 1.0, 1.0, 3.0, 1.0, 3.0, 1.0, 1.0, 1.0, 1.0, 1.0, 3.0, 3.0, 1.0, 1.0, 4.0, 4.0, 4.0, 1.0, 0.0, 0.0, 3.0, 1.0, 1.0, 3.0, 3.0, 3.0, 1.0, 3.0, 2.0, 1.0, 3.0, 4.0, 1.0, 1.0, 3.0, 2.0, 1.0, 4.0, 3.0, 4.0, 3.0, 1.0, 2.0, 3.0, 1.0, 1.0, 3.0, 4.0, 2.0, 4.0, 1.0, 2.0, 3.0, 1.0, 3.0, 4.0, 1.0, 1.0, 1.0, 3.0, 4.0, 1.0, 1.0, 3.0, 1.0, 4.0, 1.0, 1.0, 1.0, 1.0, 4.0, 0.0, 4.0, 1.0, 1.0, 3.0, 1.0, 1.0, 4.0, 0.0, 2.0, 3.0, 2.0, 0.0, 1.0, 1.0, 4.0, 0.0, 2.0, 4.0, 1.0, 1.0, 1.0, 4.0, 3.0, 0.0, 0.0, 1.0, 4.0, 0.0, 1.0, 4.0, 0.0, 1.0, 1.0, 1.0, 1.0, 1.0, 4.0, 2.0, 1.0, 4.0, 1.0, 3.0, 3.0, 2.0, 3.0, 1.0, 1.0, 3.0, 3.0, 4.0, 1.0, 3.0, 3.0, 3.0, 1.0, 4.0, 2.0, 1.0, 1.0, 4.0, 1.0, 1.0, 1.0, 3.0, 1.0, 3.0, 1.0, 3.0, 3.0, 4.0, 2.0, 2.0, 1.0, 1.0, 1.0, 1.0, 0.0, 0.0, 1.0, 4.0, 3.0, 3.0, 4.0, 4.0, 1.0, 1.0, 1.0, 1.0, 1.0, 1.0, 1.0, 1.0, 1.0, 1.0, 3.0, 1.0, 4.0, 3.0, 2.0, 4.0, 4.0, 1.0, 1.0, 1.0, 3.0, 1.0, 2.0, 3.0, 3.0, 3.0, 1.0, 2.0, 3.0, 1.0, 2.0, 1.0, 4.0, 1.0, 1.0, 2.0, 1.0, 1.0, 1.0, 1.0, 1.0, 1.0, 4.0, 2.0, 1.0, 1.0, 3.0, 1.0, 0.0, 0.0, 1.0, 0.0, 1.0, 1.0, 1.0, 3.0, 3.0, 2.0, 4.0, 1.0], \"xaxis\": \"x\", \"y\": [54.665662130256806, 47.078675891672376, 52.82394619501838, 61.86659103136437, 53.62678276891606, 61.13766053031494, 60.7341594812942, 56.647064229954246, 54.978985096311945, 60.74491070074176, 59.52084327337287, 60.367555983682536, 53.784198737825555, 54.080745649652556, 50.2658034898615, 42.598993142601614, 34.95135054230032, 60.58804995337378, 56.73110939782331, 42.62716256566877, 38.263774206560406, 53.96938680385371, 44.203891834127866, 43.82189322400224, 33.99343712767902, 40.272891500491276, 34.99834026316729, 57.157758600630025, 43.621310045460135, 61.69850069562625, 49.19883599432187, 55.440410569955596, 39.78077824315402, 57.56792219757346, 48.14110639100768, 55.865892426794055, 60.958818975129255, 44.05754312174615, 45.01346780856716, 45.06794145918886, 46.628189558034016, 44.58589044425347, 42.849722115779244, 56.763841425088586, 59.7237611438515, 60.395644117881425, 61.675591726301576, 43.922184813273304, 60.66636073482713, 58.18965937696786, 60.68260715622912, 59.80231110976613, 55.65856984771032, 45.22504139101813, 44.97197772590397, 54.68764293807451, 47.33513925126574, 54.889393462584884, 44.32300815744808, 62.180790895022916, 44.264788848210955, 45.67459956314953, 44.98939149327422, 54.04825280684857, 59.88086107568077, 56.52935887331294, 54.52589911317885, 47.065589980288294, 60.47010541227118, 46.7623805205386, 53.254923253811256, 39.24285148341674, 61.496510986654584, 60.60955239226892, 46.270506447662626, 54.733460876723875, 43.4183921749815, 44.66444041016811, 45.942742303697415, 62.10866429256969, 56.48532040505859, 50.46511252564277, 56.94385032624253, 57.436891745086776, 45.00014271272178, 53.54164710769767, 44.29319301949006, 57.06790219372631, 56.49429215411114, 58.27919974679135, 40.935190601041896, 57.639809615565404, 55.77611287250927, 55.719543714412346, 55.5134653339158, 57.796909547394684, 61.082258718186274, 47.11422244770169, 39.538226613026126, 49.73506594252865, 33.07257916005981, 54.69839415752208, 51.04867373972104, 41.851481528213654, 44.2377912073614, 47.2021156347294, 54.47349547922574, 48.35079360620158, 51.08636986820965, 42.01524400796562, 46.25718135181725, 57.489295379039895, 60.12750137733353, 61.205459276782015, 43.88969197046932, 41.841662906522416, 56.94385032624253, 42.019811048413075, 55.562443782583074, 47.41368921718037, 52.03844653587202, 41.947445261498544, 53.07034731220985, 57.6748763347672, 40.90888193723802, 46.53864918821052, 44.91084152735959, 54.46274425977817, 47.63858789547671, 56.347943441729434, 40.240848450271685, 45.642106720345545, 45.46069128876204, 39.85932820906865, 41.89496477492649, 53.31815495983088, 56.22591022910196, 43.49694214089614, 45.685589967058384, 60.15999422013751, 57.93744702074174, 64.25815672800525, 41.66597742510528, 38.89884091804954, 42.94136242932731, 57.685866738676054, 43.239550619795814, 44.04679190229859, 52.92447696875072, 54.09723125551584, 54.97986199391535, 46.15688976254619, 55.382195696967834, 49.36405773631188, 42.28479327894307, 53.20594480514399, 61.637603681543155, 42.451477084251636, 43.621310045460135, 57.62905839611784, 44.23165976016979, 46.8420978324215, 57.78175361934202, 55.32679388483917, 53.407618477035435, 54.65491091080924, 44.27169058059493, 49.57130346277668, 54.889393462584884, 45.79920665217481, 44.31634117327603, 54.855494089351346, 57.6232471570832, 51.17070695234851, 61.45069304800522, 43.2720434625998, 43.273981093760426, 56.977510515014785, 44.29319301949006, 54.957192209051954, 62.23736005311984, 46.02129226961205, 41.07264441698999, 42.12769334711379, 54.45175385586932, 57.83739461593197, 43.11494353077052, 42.62073476595803, 60.12091568202977, 44.09144249497969, 60.02720978806247, 44.84304278089252, 42.8129014169891, 47.145546476632475, 44.193140614680296, 59.84579435647897, 28.481375233347837, 56.37603157592832, 42.64364373528271, 46.59429018480048, 56.87605157977547, 43.478361027557625, 45.22504139101813, 59.25246134836368, 33.74154080853312, 49.45476545210364, 58.01081782178216, 47.55740852027526, 43.49121219072977, 43.19349349668515, 46.78528948986328, 58.51044493593016, 41.40718380982476, 48.556816453809105, 61.205459276782015, 42.80074366711197, 44.14299482004477, 45.37139010339984, 60.72200173141708, 55.518960535870235, 43.87321080085539, 37.149000044571125, 44.675191629615675, 54.95570882600347, 39.28083952817515, 44.978640273826656, 55.10614620991006, 43.78390961549319, 43.49694214089614, 46.9249756543223, 43.09776894786156, 46.63894077748158, 43.76298937396879, 58.04989635988991, 51.643652462727175, 44.753741595530315, 60.09476935006826, 43.57549210681078, 53.12739483922936, 53.15988768203334, 49.62285578784177, 53.83434453246108, 43.036393564855885, 46.00095717668518, 54.99634759977863, 54.946201805143104, 58.487296782144185, 46.349056413577266, 56.204168605745544, 55.097806535017945, 54.44100263642175, 45.139828877180804, 59.80231110976613, 51.89098174142562, 44.76449281497787, 45.74099177918705, 58.578243682397236, 44.350001362048275, 43.68653491552939, 47.08873813407426, 54.65257621887272, 42.56509376936806, 53.41844654910193, 42.608577016080915, 54.36245267050712, 60.05335612002399, 59.060294697332615, 48.89275794082407, 49.75680756588507, 44.05754312174615, 42.20916463858504, 40.430919593827525, 42.01524400796562, 36.24988370030833, 38.36114890652421, 43.104192311322954, 63.304566733120765, 55.75461043361414, 51.43178843191135, 60.655370330918274, 57.5785965644021, 43.171751873328745, 42.99174297217479, 41.72944831558618, 37.78745757804075, 43.97899315583152, 48.42408755462308, 46.52789796876296, 49.91220905101499, 45.15724264455106, 45.93199108424985, 54.855494089351346, 49.099472566557786, 58.881453142146924, 52.084264474521376, 49.57820519516067, 61.58605135647808, 62.92280730745644, 45.86443152224407, 43.80015160064582, 46.897499644550166, 54.4842466986733, 44.871446952171624, 47.984057723081975, 55.68797903311533, 57.18066756995471, 52.55439692404094, 43.54159273357724, 48.578558077165525, 53.14889727812448, 42.99174297217479, 47.63595848618989, 44.96648252394954, 60.3072710940262, 43.522772435777426, 42.29437715242237, 48.141157654911254, 46.896571483043196, 41.39642815412783, 42.84539425979308, 49.12028602840723, 42.25089390570952, 44.821540341997384, 61.23935865001555, 48.47826648789447, 47.71713786139135, 44.92159274680715, 52.20629768714885, 44.07928474510257, 33.2067701225644, 41.19993808335995, 42.451477084251636, 39.36055684005805, 45.22504139101813, 42.48654380345343, 43.58624332625834, 53.76654578599401, 51.8636936522112, 48.00030414448396, 60.395644117881425, 46.16764098199376], \"yaxis\": \"y\"}, {\"hovertemplate\": \"sex=0.0<br>degree=%{x}<br>fitted=%{y}<extra></extra>\", \"legendgroup\": \"0.0\", \"marker\": {\"color\": \"#EF553B\", \"symbol\": \"circle\"}, \"mode\": \"markers\", \"name\": \"0.0\", \"orientation\": \"v\", \"showlegend\": true, \"type\": \"scatter\", \"x\": [3.0, 3.0, 2.0, 3.0, 3.0, 4.0, 3.0, 1.0, 4.0, 3.0, 3.0, 1.0, 4.0, 1.0, 3.0, 2.0, 1.0, 1.0, 1.0, 3.0, 4.0, 3.0, 0.0, 0.0, 1.0, 3.0, 4.0, 3.0, 1.0, 3.0, 1.0, 1.0, 4.0, 3.0, 3.0, 1.0, 3.0, 3.0, 3.0, 3.0, 1.0, 4.0, 3.0, 3.0, 1.0, 4.0, 4.0, 3.0, 3.0, 2.0, 4.0, 4.0, 1.0, 1.0, 1.0, 4.0, 2.0, 2.0, 3.0, 4.0, 1.0, 3.0, 0.0, 1.0, 1.0, 2.0, 2.0, 1.0, 4.0, 3.0, 3.0, 1.0, 3.0, 1.0, 1.0, 2.0, 3.0, 2.0, 3.0, 4.0, 4.0, 1.0, 1.0, 1.0, 3.0, 3.0, 3.0, 3.0, 1.0, 1.0, 1.0, 1.0, 1.0, 1.0, 1.0, 3.0, 3.0, 2.0, 3.0, 1.0, 1.0, 2.0, 4.0, 1.0, 0.0, 3.0, 3.0, 4.0, 4.0, 1.0, 1.0, 3.0, 1.0, 3.0, 2.0, 1.0, 3.0, 2.0, 0.0, 2.0, 4.0, 4.0, 3.0, 1.0, 3.0, 2.0, 2.0, 3.0, 1.0, 3.0, 1.0, 4.0, 1.0, 0.0, 2.0, 2.0, 0.0, 2.0, 3.0, 3.0, 3.0, 1.0, 1.0, 4.0, 4.0, 3.0, 3.0, 2.0, 0.0, 1.0, 1.0, 3.0, 4.0, 3.0, 2.0, 4.0, 3.0, 3.0, 3.0, 3.0, 1.0, 2.0, 3.0, 3.0, 4.0, 1.0, 1.0, 1.0, 3.0, 1.0, 1.0, 1.0, 1.0, 1.0, 4.0, 1.0, 1.0, 1.0, 3.0, 4.0, 2.0, 1.0, 3.0, 3.0, 4.0, 3.0, 3.0, 1.0, 1.0, 1.0, 0.0, 1.0, 3.0, 3.0, 4.0, 3.0, 3.0, 1.0, 1.0, 2.0, 3.0, 2.0, 1.0, 1.0, 1.0, 3.0, 1.0, 0.0, 1.0, 1.0, 4.0, 1.0, 1.0, 1.0, 3.0, 4.0, 2.0, 4.0, 1.0, 3.0, 3.0, 1.0, 4.0, 4.0, 1.0, 1.0, 3.0, 3.0, 3.0, 2.0, 1.0, 3.0, 0.0, 2.0, 2.0, 1.0, 2.0, 1.0, 0.0, 1.0, 3.0, 3.0, 3.0, 4.0, 1.0, 1.0, 1.0, 3.0, 1.0, 1.0, 3.0, 3.0, 3.0, 0.0, 1.0, 4.0, 4.0, 2.0, 2.0, 1.0, 3.0, 1.0, 1.0, 4.0, 1.0, 4.0, 1.0, 1.0, 1.0, 3.0, 3.0, 3.0, 3.0, 1.0, 1.0, 3.0, 2.0, 3.0, 3.0, 3.0, 4.0, 1.0, 3.0, 3.0, 3.0, 3.0, 1.0, 4.0, 0.0, 2.0, 1.0, 1.0, 1.0, 1.0, 4.0, 0.0, 1.0, 1.0, 1.0, 1.0, 2.0, 4.0, 2.0, 4.0, 3.0, 3.0, 4.0, 4.0, 1.0, 0.0, 1.0, 1.0, 2.0, 3.0, 2.0, 3.0, 2.0, 2.0, 1.0, 1.0, 0.0, 1.0, 1.0, 1.0, 1.0, 1.0, 2.0, 3.0, 1.0, 1.0, 3.0, 1.0, 1.0, 1.0, 1.0, 1.0, 3.0, 1.0, 1.0, 4.0, 0.0, 1.0, 1.0, 1.0, 1.0, 1.0, 1.0, 1.0, 1.0, 3.0, 4.0, 2.0, 4.0, 4.0, 3.0, 0.0, 1.0, 0.0, 4.0, 0.0, 2.0, 1.0, 4.0, 2.0, 3.0, 3.0, 4.0, 1.0, 1.0, 1.0], \"xaxis\": \"x\", \"y\": [52.11796485129163, 51.989269090741466, 47.514893623067394, 54.73442922622885, 53.0498132228197, 57.985879023786914, 49.71564793520319, 40.43446181973031, 57.52533044774667, 51.24316400678307, 49.58005044226904, 39.70436397271261, 59.11164802593441, 42.15040331997519, 50.24351688878792, 50.07887751143257, 45.0474073697987, 41.54491256198277, 40.438550491255185, 54.97007912397276, 58.78236908684213, 51.086064074953796, 29.43734010816685, 33.221063567914754, 38.73768806644404, 51.47881390452698, 55.52651458067897, 50.496819738363385, 43.251509373209636, 53.67821295013679, 41.58956315466388, 36.7400395453446, 56.565317089400786, 51.95011370001479, 54.27411983464989, 43.02111549295887, 53.75676291605142, 52.57851342733188, 54.29586145800631, 53.285463120563605, 44.16020959095174, 58.927311268794284, 49.03686322878929, 51.45040973324787, 43.879909100526724, 59.23192725897353, 56.89693072042958, 54.47703770512852, 55.41987648056544, 47.73979230136374, 56.06537393817257, 62.10554397054978, 41.309501848700165, 43.68890979546392, 40.82721164930349, 57.75022912604301, 46.22186010326317, 47.71547680160951, 55.12717905580203, 57.996630243234485, 47.86445492327803, 51.578866309336746, 28.853590973530864, 41.859351610102614, 44.06974105962127, 49.657723510580276, 45.009711241310086, 40.45596425862544, 59.39977841025036, 51.84982211074374, 52.97126325690506, 42.08401110393766, 48.947562043427084, 37.054239409003145, 42.841106591804916, 44.68592750417224, 55.47411094672585, 42.230890917050466, 51.657655459712664, 59.72472949335648, 55.03323397737344, 42.481088789497015, 40.82721164930349, 41.275363291005334, 50.69331424538062, 52.61358014653368, 51.92837207665837, 55.83412874903376, 44.25091730674349, 45.19351689771912, 43.22976774985322, 41.35391325691997, 45.11496693180448, 43.54396761351176, 38.63190127521855, 52.499963461417245, 54.723678006781284, 45.74506510582093, 52.00025949465032, 40.680862936921784, 43.656177768198646, 49.09688334526898, 57.389972139273816, 35.17288971411547, 35.084760310970886, 47.627291698312, 53.12836318873433, 54.559599489949115, 53.863640200626236, 33.68067954619868, 40.28811310734859, 49.27917567445587, 36.442325287549345, 51.82784130292603, 45.358977824170424, 41.44894882869789, 55.91267871494839, 47.51372627709914, 41.528431392368844, 44.98796961795367, 54.75176614098017, 59.12906179330466, 55.84511915294261, 42.823692824434666, 54.16283784146998, 47.99718382246407, 48.54703358386652, 47.251955636109074, 39.73826334594615, 53.649808778857675, 38.63856382314125, 58.243270544887245, 40.28811310734859, 33.39464910560731, 43.696103444117696, 47.60443399289089, 33.92135071322379, 48.03633921319074, 50.87648365655247, 50.4006168206172, 52.36460515294439, 39.85071268509432, 43.3515617780194, 59.42152003360678, 56.660113476717406, 52.77068007836295, 55.9697262419679, 48.727042485020476, 39.11512407237156, 41.99470991857547, 42.33041222112914, 51.602014463122714, 54.526867462683825, 53.12836318873433, 48.052824819054024, 55.498110409399864, 46.69544332678393, 53.82572900848675, 55.048868274348685, 53.24197987385077, 45.19351689771912, 46.90847470356802, 50.075665737511095, 50.32206685470257, 57.400962543182665, 39.98256895566239, 41.07361276649496, 40.052463209604696, 52.1857635977587, 39.822308513815216, 43.026610694913295, 41.53941736002835, 45.79900765571153, 44.82250869150236, 56.06537393817257, 45.39433926072252, 43.958459066441364, 43.31906893521542, 54.1845794648264, 60.56703749506105, 47.87257673343878, 40.48869628589071, 50.19886629610683, 51.24316400678307, 53.27006800804965, 55.48602951214168, 50.67133343756291, 44.20486018363284, 43.430350928395335, 39.1086962726608, 32.46853512049496, 44.30748646484041, 54.24138780738461, 52.84923004427759, 60.91654326238268, 51.332704376606564, 53.982828940316026, 41.859112425641314, 39.938846524488255, 46.38012738106069, 51.10756651384892, 46.565631484169074, 40.117688079673954, 38.222665839782096, 42.02696357691816, 51.563787233903014, 41.72375411716847, 29.7799441431045, 39.03131365271443, 43.161969003386154, 53.73061658408991, 39.57017301020802, 41.387812630153505, 39.58116341411687, 48.986717434153746, 56.5041808908564, 47.38386317058072, 57.547311255564374, 45.45757096674213, 51.72521502171845, 50.222014449892804, 37.81799744479309, 55.99781437616679, 59.71397827390891, 44.115558998270636, 42.81819762248024, 51.60318180909098, 51.714463802270885, 55.15991108306731, 46.98012293709867, 43.49791049040112, 50.21944057349499, 28.314492431575975, 49.2649736810071, 43.75407913264418, 43.98112885130476, 47.2888275988028, 41.70201249381205, 38.7629361639546, 40.377653477172096, 51.09798264036963, 52.79242170171937, 50.714816684275746, 57.047128919874865, 39.85071268509432, 41.15216273240959, 40.80523084148578, 53.470967223671984, 42.2869289744163, 38.81599884789738, 56.30566772898286, 55.083695809089186, 54.38656917379806, 42.695929661640825, 41.54491256198277, 54.47029830458691, 58.803871525737264, 46.84067595710095, 42.42189022211327, 40.40056244649678, 53.85962838172029, 41.25245432168066, 40.06438177502052, 54.92651902464099, 42.45501931015443, 53.85381714268564, 38.985256529603774, 41.91592076819954, 41.59505835661831, 55.13816945971089, 52.89271329099042, 48.167318401773855, 55.77872693690509, 42.95039542093518, 41.387812630153505, 53.00632997610686, 43.2816119911881, 54.44337751635628, 50.592783471648275, 55.38480976136365, 58.254260948796095, 48.257204752851216, 50.861165396657455, 50.682323841471764, 51.086064074953796, 53.55617973750931, 42.701420427345894, 55.341938639077554, 40.20266584529935, 44.77838919955235, 36.56119799015892, 35.763540581135445, 45.24366269235465, 36.7400395453446, 60.09597688403452, 38.43108334846451, 40.30552687471885, 34.72357072644537, 41.001725348503015, 35.84594003411366, 48.87339119740218, 57.39113948524208, 48.56877520722294, 60.96002650909551, 52.377930248789774, 55.04862908988739, 60.09573769957324, 59.517722951352965, 33.66326577882843, 35.68592321297712, 40.64122917727253, 38.81191017637251, 47.636926835694865, 54.48686076306912, 48.56877520722294, 51.55736387044161, 47.55837686978023, 47.73979230136374, 42.85992688960472, 39.816813311860784, 41.754497416633455, 42.48342348143354, 36.93196701191438, 41.01271575241187, 42.20604431656514, 42.38055801576466, 49.68179982587322, 53.39907980568004, 40.59565042308445, 35.21252347376472, 55.90192749550082, 39.97391324369006, 42.958811948446225, 41.230712698324226, 38.72786500850344, 43.330059339124276, 40.913832161475305, 38.967842762233516, 40.052463209604696, 59.88182942518574, 36.841263732371985, 40.084956052408685, 41.07361276649496, 38.41682565486281, 39.91160969917742, 39.08145944734996, 41.29851144479131, 39.42406348228761, 38.71045124113319, 52.73561335916116, 51.984864382136365, 51.01738843088332, 58.40586567867095, 57.68266956403723, 51.27706338001661, 41.28203027517738, 42.79096079716939, 40.74293173322249, 54.00016585506735, 27.955641975236333, 45.5160777559997, 35.31398240900404, 58.389619257268954, 45.7517276537436, 53.320529839765406, 54.4204685470316, 57.05286330629059, 40.255381080083325, 38.70354950874921, 43.408370120577615], \"yaxis\": \"y\"}],\n",
       "                        {\"legend\": {\"title\": {\"text\": \"sex\"}, \"tracegroupgap\": 0}, \"template\": {\"data\": {\"bar\": [{\"error_x\": {\"color\": \"#2a3f5f\"}, \"error_y\": {\"color\": \"#2a3f5f\"}, \"marker\": {\"line\": {\"color\": \"#E5ECF6\", \"width\": 0.5}}, \"type\": \"bar\"}], \"barpolar\": [{\"marker\": {\"line\": {\"color\": \"#E5ECF6\", \"width\": 0.5}}, \"type\": \"barpolar\"}], \"carpet\": [{\"aaxis\": {\"endlinecolor\": \"#2a3f5f\", \"gridcolor\": \"white\", \"linecolor\": \"white\", \"minorgridcolor\": \"white\", \"startlinecolor\": \"#2a3f5f\"}, \"baxis\": {\"endlinecolor\": \"#2a3f5f\", \"gridcolor\": \"white\", \"linecolor\": \"white\", \"minorgridcolor\": \"white\", \"startlinecolor\": \"#2a3f5f\"}, \"type\": \"carpet\"}], \"choropleth\": [{\"colorbar\": {\"outlinewidth\": 0, \"ticks\": \"\"}, \"type\": \"choropleth\"}], \"contour\": [{\"colorbar\": {\"outlinewidth\": 0, \"ticks\": \"\"}, \"colorscale\": [[0.0, \"#0d0887\"], [0.1111111111111111, \"#46039f\"], [0.2222222222222222, \"#7201a8\"], [0.3333333333333333, \"#9c179e\"], [0.4444444444444444, \"#bd3786\"], [0.5555555555555556, \"#d8576b\"], [0.6666666666666666, \"#ed7953\"], [0.7777777777777778, \"#fb9f3a\"], [0.8888888888888888, \"#fdca26\"], [1.0, \"#f0f921\"]], \"type\": \"contour\"}], \"contourcarpet\": [{\"colorbar\": {\"outlinewidth\": 0, \"ticks\": \"\"}, \"type\": \"contourcarpet\"}], \"heatmap\": [{\"colorbar\": {\"outlinewidth\": 0, \"ticks\": \"\"}, \"colorscale\": [[0.0, \"#0d0887\"], [0.1111111111111111, \"#46039f\"], [0.2222222222222222, \"#7201a8\"], [0.3333333333333333, \"#9c179e\"], [0.4444444444444444, \"#bd3786\"], [0.5555555555555556, \"#d8576b\"], [0.6666666666666666, \"#ed7953\"], [0.7777777777777778, \"#fb9f3a\"], [0.8888888888888888, \"#fdca26\"], [1.0, \"#f0f921\"]], \"type\": \"heatmap\"}], \"heatmapgl\": [{\"colorbar\": {\"outlinewidth\": 0, \"ticks\": \"\"}, \"colorscale\": [[0.0, \"#0d0887\"], [0.1111111111111111, \"#46039f\"], [0.2222222222222222, \"#7201a8\"], [0.3333333333333333, \"#9c179e\"], [0.4444444444444444, \"#bd3786\"], [0.5555555555555556, \"#d8576b\"], [0.6666666666666666, \"#ed7953\"], [0.7777777777777778, \"#fb9f3a\"], [0.8888888888888888, \"#fdca26\"], [1.0, \"#f0f921\"]], \"type\": \"heatmapgl\"}], \"histogram\": [{\"marker\": {\"colorbar\": {\"outlinewidth\": 0, \"ticks\": \"\"}}, \"type\": \"histogram\"}], \"histogram2d\": [{\"colorbar\": {\"outlinewidth\": 0, \"ticks\": \"\"}, \"colorscale\": [[0.0, \"#0d0887\"], [0.1111111111111111, \"#46039f\"], [0.2222222222222222, \"#7201a8\"], [0.3333333333333333, \"#9c179e\"], [0.4444444444444444, \"#bd3786\"], [0.5555555555555556, \"#d8576b\"], [0.6666666666666666, \"#ed7953\"], [0.7777777777777778, \"#fb9f3a\"], [0.8888888888888888, \"#fdca26\"], [1.0, \"#f0f921\"]], \"type\": \"histogram2d\"}], \"histogram2dcontour\": [{\"colorbar\": {\"outlinewidth\": 0, \"ticks\": \"\"}, \"colorscale\": [[0.0, \"#0d0887\"], [0.1111111111111111, \"#46039f\"], [0.2222222222222222, \"#7201a8\"], [0.3333333333333333, \"#9c179e\"], [0.4444444444444444, \"#bd3786\"], [0.5555555555555556, \"#d8576b\"], [0.6666666666666666, \"#ed7953\"], [0.7777777777777778, \"#fb9f3a\"], [0.8888888888888888, \"#fdca26\"], [1.0, \"#f0f921\"]], \"type\": \"histogram2dcontour\"}], \"mesh3d\": [{\"colorbar\": {\"outlinewidth\": 0, \"ticks\": \"\"}, \"type\": \"mesh3d\"}], \"parcoords\": [{\"line\": {\"colorbar\": {\"outlinewidth\": 0, \"ticks\": \"\"}}, \"type\": \"parcoords\"}], \"pie\": [{\"automargin\": true, \"type\": \"pie\"}], \"scatter\": [{\"marker\": {\"colorbar\": {\"outlinewidth\": 0, \"ticks\": \"\"}}, \"type\": \"scatter\"}], \"scatter3d\": [{\"line\": {\"colorbar\": {\"outlinewidth\": 0, \"ticks\": \"\"}}, \"marker\": {\"colorbar\": {\"outlinewidth\": 0, \"ticks\": \"\"}}, \"type\": \"scatter3d\"}], \"scattercarpet\": [{\"marker\": {\"colorbar\": {\"outlinewidth\": 0, \"ticks\": \"\"}}, \"type\": \"scattercarpet\"}], \"scattergeo\": [{\"marker\": {\"colorbar\": {\"outlinewidth\": 0, \"ticks\": \"\"}}, \"type\": \"scattergeo\"}], \"scattergl\": [{\"marker\": {\"colorbar\": {\"outlinewidth\": 0, \"ticks\": \"\"}}, \"type\": \"scattergl\"}], \"scattermapbox\": [{\"marker\": {\"colorbar\": {\"outlinewidth\": 0, \"ticks\": \"\"}}, \"type\": \"scattermapbox\"}], \"scatterpolar\": [{\"marker\": {\"colorbar\": {\"outlinewidth\": 0, \"ticks\": \"\"}}, \"type\": \"scatterpolar\"}], \"scatterpolargl\": [{\"marker\": {\"colorbar\": {\"outlinewidth\": 0, \"ticks\": \"\"}}, \"type\": \"scatterpolargl\"}], \"scatterternary\": [{\"marker\": {\"colorbar\": {\"outlinewidth\": 0, \"ticks\": \"\"}}, \"type\": \"scatterternary\"}], \"surface\": [{\"colorbar\": {\"outlinewidth\": 0, \"ticks\": \"\"}, \"colorscale\": [[0.0, \"#0d0887\"], [0.1111111111111111, \"#46039f\"], [0.2222222222222222, \"#7201a8\"], [0.3333333333333333, \"#9c179e\"], [0.4444444444444444, \"#bd3786\"], [0.5555555555555556, \"#d8576b\"], [0.6666666666666666, \"#ed7953\"], [0.7777777777777778, \"#fb9f3a\"], [0.8888888888888888, \"#fdca26\"], [1.0, \"#f0f921\"]], \"type\": \"surface\"}], \"table\": [{\"cells\": {\"fill\": {\"color\": \"#EBF0F8\"}, \"line\": {\"color\": \"white\"}}, \"header\": {\"fill\": {\"color\": \"#C8D4E3\"}, \"line\": {\"color\": \"white\"}}, \"type\": \"table\"}]}, \"layout\": {\"annotationdefaults\": {\"arrowcolor\": \"#2a3f5f\", \"arrowhead\": 0, \"arrowwidth\": 1}, \"coloraxis\": {\"colorbar\": {\"outlinewidth\": 0, \"ticks\": \"\"}}, \"colorscale\": {\"diverging\": [[0, \"#8e0152\"], [0.1, \"#c51b7d\"], [0.2, \"#de77ae\"], [0.3, \"#f1b6da\"], [0.4, \"#fde0ef\"], [0.5, \"#f7f7f7\"], [0.6, \"#e6f5d0\"], [0.7, \"#b8e186\"], [0.8, \"#7fbc41\"], [0.9, \"#4d9221\"], [1, \"#276419\"]], \"sequential\": [[0.0, \"#0d0887\"], [0.1111111111111111, \"#46039f\"], [0.2222222222222222, \"#7201a8\"], [0.3333333333333333, \"#9c179e\"], [0.4444444444444444, \"#bd3786\"], [0.5555555555555556, \"#d8576b\"], [0.6666666666666666, \"#ed7953\"], [0.7777777777777778, \"#fb9f3a\"], [0.8888888888888888, \"#fdca26\"], [1.0, \"#f0f921\"]], \"sequentialminus\": [[0.0, \"#0d0887\"], [0.1111111111111111, \"#46039f\"], [0.2222222222222222, \"#7201a8\"], [0.3333333333333333, \"#9c179e\"], [0.4444444444444444, \"#bd3786\"], [0.5555555555555556, \"#d8576b\"], [0.6666666666666666, \"#ed7953\"], [0.7777777777777778, \"#fb9f3a\"], [0.8888888888888888, \"#fdca26\"], [1.0, \"#f0f921\"]]}, \"colorway\": [\"#636efa\", \"#EF553B\", \"#00cc96\", \"#ab63fa\", \"#FFA15A\", \"#19d3f3\", \"#FF6692\", \"#B6E880\", \"#FF97FF\", \"#FECB52\"], \"font\": {\"color\": \"#2a3f5f\"}, \"geo\": {\"bgcolor\": \"white\", \"lakecolor\": \"white\", \"landcolor\": \"#E5ECF6\", \"showlakes\": true, \"showland\": true, \"subunitcolor\": \"white\"}, \"hoverlabel\": {\"align\": \"left\"}, \"hovermode\": \"closest\", \"mapbox\": {\"style\": \"light\"}, \"paper_bgcolor\": \"white\", \"plot_bgcolor\": \"#E5ECF6\", \"polar\": {\"angularaxis\": {\"gridcolor\": \"white\", \"linecolor\": \"white\", \"ticks\": \"\"}, \"bgcolor\": \"#E5ECF6\", \"radialaxis\": {\"gridcolor\": \"white\", \"linecolor\": \"white\", \"ticks\": \"\"}}, \"scene\": {\"xaxis\": {\"backgroundcolor\": \"#E5ECF6\", \"gridcolor\": \"white\", \"gridwidth\": 2, \"linecolor\": \"white\", \"showbackground\": true, \"ticks\": \"\", \"zerolinecolor\": \"white\"}, \"yaxis\": {\"backgroundcolor\": \"#E5ECF6\", \"gridcolor\": \"white\", \"gridwidth\": 2, \"linecolor\": \"white\", \"showbackground\": true, \"ticks\": \"\", \"zerolinecolor\": \"white\"}, \"zaxis\": {\"backgroundcolor\": \"#E5ECF6\", \"gridcolor\": \"white\", \"gridwidth\": 2, \"linecolor\": \"white\", \"showbackground\": true, \"ticks\": \"\", \"zerolinecolor\": \"white\"}}, \"shapedefaults\": {\"line\": {\"color\": \"#2a3f5f\"}}, \"ternary\": {\"aaxis\": {\"gridcolor\": \"white\", \"linecolor\": \"white\", \"ticks\": \"\"}, \"baxis\": {\"gridcolor\": \"white\", \"linecolor\": \"white\", \"ticks\": \"\"}, \"bgcolor\": \"#E5ECF6\", \"caxis\": {\"gridcolor\": \"white\", \"linecolor\": \"white\", \"ticks\": \"\"}}, \"title\": {\"x\": 0.05}, \"xaxis\": {\"automargin\": true, \"gridcolor\": \"white\", \"linecolor\": \"white\", \"ticks\": \"\", \"title\": {\"standoff\": 15}, \"zerolinecolor\": \"white\", \"zerolinewidth\": 2}, \"yaxis\": {\"automargin\": true, \"gridcolor\": \"white\", \"linecolor\": \"white\", \"ticks\": \"\", \"title\": {\"standoff\": 15}, \"zerolinecolor\": \"white\", \"zerolinewidth\": 2}}}, \"title\": {\"text\": \"Degree level vs predicted values. Coloured by sex\"}, \"xaxis\": {\"anchor\": \"y\", \"domain\": [0.0, 1.0], \"title\": {\"text\": \"degree\"}}, \"yaxis\": {\"anchor\": \"x\", \"domain\": [0.0, 1.0], \"title\": {\"text\": \"fitted\"}}},\n",
       "                        {\"responsive\": true}\n",
       "                    ).then(function(){\n",
       "                            \n",
       "var gd = document.getElementById('2f7d42d3-8bfe-41f4-a674-9b6fa82fc177');\n",
       "var x = new MutationObserver(function (mutations, observer) {{\n",
       "        var display = window.getComputedStyle(gd).display;\n",
       "        if (!display || display === 'none') {{\n",
       "            console.log([gd, 'removed!']);\n",
       "            Plotly.purge(gd);\n",
       "            observer.disconnect();\n",
       "        }}\n",
       "}});\n",
       "\n",
       "// Listen for the removal of the full notebook cells\n",
       "var notebookContainer = gd.closest('#notebook-container');\n",
       "if (notebookContainer) {{\n",
       "    x.observe(notebookContainer, {childList: true});\n",
       "}}\n",
       "\n",
       "// Listen for the clearing of the current output cell\n",
       "var outputEl = gd.closest('.output');\n",
       "if (outputEl) {{\n",
       "    x.observe(outputEl, {childList: true});\n",
       "}}\n",
       "\n",
       "                        })\n",
       "                };\n",
       "                });\n",
       "            </script>\n",
       "        </div>"
      ]
     },
     "metadata": {},
     "output_type": "display_data"
    }
   ],
   "source": [
    "gss_df[\"fitted\"] = fitted_model.fittedvalues\n",
    "gss_df[\"degree\"] = gss_df[\"degree\"].astype(\"category\")\n",
    "gss_df[\"sex\"] = gss_df[\"sex\"].astype(\"category\")\n",
    "px.scatter(gss_df, \"degree\", \"fitted\", color=\"sex\", title=\"Degree level vs predicted values. Coloured by sex\")"
   ]
  },
  {
   "cell_type": "markdown",
   "metadata": {},
   "source": [
    "The summary can be interpretated as follows: the effect that the sex variable has on prestg10 differes according to which category of education the respondant has achieved.\n",
    "\n",
    "For example, considering degree level 0 (less than high school education), men (sex level 1) have a 12.6 prestige score increase from girls. But if a male has a bachelor level education (degree level 3), they have a (12.6 + -9.79 = 2.85) change in prestige score over females.\n",
    "\n",
    "This can also be interpreted the other way round - that is, the effect that the degree variable has on the prestige score differes according to which category of sex the respondant is in.\n",
    "\n",
    "We can use ANOVA to determine whether the entire factor is significant or not:"
   ]
  },
  {
   "cell_type": "code",
   "execution_count": 41,
   "metadata": {},
   "outputs": [
    {
     "data": {
      "text/html": [
       "<div>\n",
       "<style scoped>\n",
       "    .dataframe tbody tr th:only-of-type {\n",
       "        vertical-align: middle;\n",
       "    }\n",
       "\n",
       "    .dataframe tbody tr th {\n",
       "        vertical-align: top;\n",
       "    }\n",
       "\n",
       "    .dataframe thead th {\n",
       "        text-align: right;\n",
       "    }\n",
       "</style>\n",
       "<table border=\"1\" class=\"dataframe\">\n",
       "  <thead>\n",
       "    <tr style=\"text-align: right;\">\n",
       "      <th></th>\n",
       "      <th>sum_sq</th>\n",
       "      <th>df</th>\n",
       "      <th>F</th>\n",
       "      <th>PR(&gt;F)</th>\n",
       "    </tr>\n",
       "  </thead>\n",
       "  <tbody>\n",
       "    <tr>\n",
       "      <th>C(sex)</th>\n",
       "      <td>1362.486762</td>\n",
       "      <td>1.0</td>\n",
       "      <td>10.306372</td>\n",
       "      <td>1.386207e-03</td>\n",
       "    </tr>\n",
       "    <tr>\n",
       "      <th>C(degree)</th>\n",
       "      <td>32131.487954</td>\n",
       "      <td>4.0</td>\n",
       "      <td>60.763721</td>\n",
       "      <td>4.444395e-44</td>\n",
       "    </tr>\n",
       "    <tr>\n",
       "      <th>C(sex):C(degree)</th>\n",
       "      <td>2207.528560</td>\n",
       "      <td>4.0</td>\n",
       "      <td>4.174648</td>\n",
       "      <td>2.388478e-03</td>\n",
       "    </tr>\n",
       "    <tr>\n",
       "      <th>Residual</th>\n",
       "      <td>92671.139022</td>\n",
       "      <td>701.0</td>\n",
       "      <td>NaN</td>\n",
       "      <td>NaN</td>\n",
       "    </tr>\n",
       "  </tbody>\n",
       "</table>\n",
       "</div>"
      ],
      "text/plain": [
       "                        sum_sq     df          F        PR(>F)\n",
       "C(sex)             1362.486762    1.0  10.306372  1.386207e-03\n",
       "C(degree)         32131.487954    4.0  60.763721  4.444395e-44\n",
       "C(sex):C(degree)   2207.528560    4.0   4.174648  2.388478e-03\n",
       "Residual          92671.139022  701.0        NaN           NaN"
      ]
     },
     "execution_count": 41,
     "metadata": {},
     "output_type": "execute_result"
    }
   ],
   "source": [
    "sm.stats.anova_lm(interaction_model, typ=2)"
   ]
  },
  {
   "cell_type": "markdown",
   "metadata": {},
   "source": [
    "Great! All significant. So the addition of this interaction term is positive right? To validate this, let's fit a model with the other variables we identified as relevant and see if our our $R^2$ is higher."
   ]
  },
  {
   "cell_type": "code",
   "execution_count": 42,
   "metadata": {},
   "outputs": [
    {
     "data": {
      "text/html": [
       "<table class=\"simpletable\">\n",
       "<caption>OLS Regression Results</caption>\n",
       "<tr>\n",
       "  <th>Dep. Variable:</th>        <td>prestg10</td>     <th>  R-squared:         </th> <td>   0.312</td>\n",
       "</tr>\n",
       "<tr>\n",
       "  <th>Model:</th>                   <td>OLS</td>       <th>  Adj. R-squared:    </th> <td>   0.300</td>\n",
       "</tr>\n",
       "<tr>\n",
       "  <th>Method:</th>             <td>Least Squares</td>  <th>  F-statistic:       </th> <td>   26.34</td>\n",
       "</tr>\n",
       "<tr>\n",
       "  <th>Date:</th>             <td>Tue, 11 Aug 2020</td> <th>  Prob (F-statistic):</th> <td>3.37e-49</td>\n",
       "</tr>\n",
       "<tr>\n",
       "  <th>Time:</th>                 <td>20:12:02</td>     <th>  Log-Likelihood:    </th> <td> -2722.8</td>\n",
       "</tr>\n",
       "<tr>\n",
       "  <th>No. Observations:</th>      <td>   711</td>      <th>  AIC:               </th> <td>   5472.</td>\n",
       "</tr>\n",
       "<tr>\n",
       "  <th>Df Residuals:</th>          <td>   698</td>      <th>  BIC:               </th> <td>   5531.</td>\n",
       "</tr>\n",
       "<tr>\n",
       "  <th>Df Model:</th>              <td>    12</td>      <th>                     </th>     <td> </td>   \n",
       "</tr>\n",
       "<tr>\n",
       "  <th>Covariance Type:</th>      <td>nonrobust</td>    <th>                     </th>     <td> </td>   \n",
       "</tr>\n",
       "</table>\n",
       "<table class=\"simpletable\">\n",
       "<tr>\n",
       "                 <td></td>                   <th>coef</th>     <th>std err</th>      <th>t</th>      <th>P>|t|</th>  <th>[0.025</th>    <th>0.975]</th>  \n",
       "</tr>\n",
       "<tr>\n",
       "  <th>Intercept</th>                      <td>   18.5008</td> <td>    3.333</td> <td>    5.551</td> <td> 0.000</td> <td>   11.957</td> <td>   25.044</td>\n",
       "</tr>\n",
       "<tr>\n",
       "  <th>C(degree)[T.1.0]</th>               <td>    5.8394</td> <td>    2.728</td> <td>    2.141</td> <td> 0.033</td> <td>    0.483</td> <td>   11.196</td>\n",
       "</tr>\n",
       "<tr>\n",
       "  <th>C(degree)[T.2.0]</th>               <td>   13.6679</td> <td>    3.097</td> <td>    4.414</td> <td> 0.000</td> <td>    7.588</td> <td>   19.748</td>\n",
       "</tr>\n",
       "<tr>\n",
       "  <th>C(degree)[T.3.0]</th>               <td>   15.1640</td> <td>    2.940</td> <td>    5.158</td> <td> 0.000</td> <td>    9.392</td> <td>   20.936</td>\n",
       "</tr>\n",
       "<tr>\n",
       "  <th>C(degree)[T.4.0]</th>               <td>   20.6474</td> <td>    3.202</td> <td>    6.449</td> <td> 0.000</td> <td>   14.361</td> <td>   26.933</td>\n",
       "</tr>\n",
       "<tr>\n",
       "  <th>C(sex)[T.1.0]</th>                  <td>   11.8567</td> <td>    3.433</td> <td>    3.454</td> <td> 0.001</td> <td>    5.117</td> <td>   18.597</td>\n",
       "</tr>\n",
       "<tr>\n",
       "  <th>C(degree)[T.1.0]:C(sex)[T.1.0]</th> <td>   -8.7529</td> <td>    3.678</td> <td>   -2.380</td> <td> 0.018</td> <td>  -15.975</td> <td>   -1.531</td>\n",
       "</tr>\n",
       "<tr>\n",
       "  <th>C(degree)[T.2.0]:C(sex)[T.1.0]</th> <td>  -15.9038</td> <td>    4.491</td> <td>   -3.541</td> <td> 0.000</td> <td>  -24.722</td> <td>   -7.086</td>\n",
       "</tr>\n",
       "<tr>\n",
       "  <th>C(degree)[T.3.0]:C(sex)[T.1.0]</th> <td>   -9.4547</td> <td>    3.797</td> <td>   -2.490</td> <td> 0.013</td> <td>  -16.910</td> <td>   -1.999</td>\n",
       "</tr>\n",
       "<tr>\n",
       "  <th>C(degree)[T.4.0]:C(sex)[T.1.0]</th> <td>  -12.3876</td> <td>    4.010</td> <td>   -3.089</td> <td> 0.002</td> <td>  -20.260</td> <td>   -4.515</td>\n",
       "</tr>\n",
       "<tr>\n",
       "  <th>age</th>                            <td>    0.0771</td> <td>    0.029</td> <td>    2.656</td> <td> 0.008</td> <td>    0.020</td> <td>    0.134</td>\n",
       "</tr>\n",
       "<tr>\n",
       "  <th>maeduc</th>                         <td>    0.4955</td> <td>    0.132</td> <td>    3.766</td> <td> 0.000</td> <td>    0.237</td> <td>    0.754</td>\n",
       "</tr>\n",
       "<tr>\n",
       "  <th>speduc</th>                         <td>    0.5436</td> <td>    0.179</td> <td>    3.032</td> <td> 0.003</td> <td>    0.192</td> <td>    0.896</td>\n",
       "</tr>\n",
       "</table>\n",
       "<table class=\"simpletable\">\n",
       "<tr>\n",
       "  <th>Omnibus:</th>       <td> 1.168</td> <th>  Durbin-Watson:     </th> <td>   2.066</td>\n",
       "</tr>\n",
       "<tr>\n",
       "  <th>Prob(Omnibus):</th> <td> 0.558</td> <th>  Jarque-Bera (JB):  </th> <td>   1.204</td>\n",
       "</tr>\n",
       "<tr>\n",
       "  <th>Skew:</th>          <td>-0.042</td> <th>  Prob(JB):          </th> <td>   0.548</td>\n",
       "</tr>\n",
       "<tr>\n",
       "  <th>Kurtosis:</th>      <td> 2.817</td> <th>  Cond. No.          </th> <td>1.21e+03</td>\n",
       "</tr>\n",
       "</table><br/><br/>Warnings:<br/>[1] Standard Errors assume that the covariance matrix of the errors is correctly specified.<br/>[2] The condition number is large, 1.21e+03. This might indicate that there are<br/>strong multicollinearity or other numerical problems."
      ],
      "text/plain": [
       "<class 'statsmodels.iolib.summary.Summary'>\n",
       "\"\"\"\n",
       "                            OLS Regression Results                            \n",
       "==============================================================================\n",
       "Dep. Variable:               prestg10   R-squared:                       0.312\n",
       "Model:                            OLS   Adj. R-squared:                  0.300\n",
       "Method:                 Least Squares   F-statistic:                     26.34\n",
       "Date:                Tue, 11 Aug 2020   Prob (F-statistic):           3.37e-49\n",
       "Time:                        20:12:02   Log-Likelihood:                -2722.8\n",
       "No. Observations:                 711   AIC:                             5472.\n",
       "Df Residuals:                     698   BIC:                             5531.\n",
       "Df Model:                          12                                         \n",
       "Covariance Type:            nonrobust                                         \n",
       "==================================================================================================\n",
       "                                     coef    std err          t      P>|t|      [0.025      0.975]\n",
       "--------------------------------------------------------------------------------------------------\n",
       "Intercept                         18.5008      3.333      5.551      0.000      11.957      25.044\n",
       "C(degree)[T.1.0]                   5.8394      2.728      2.141      0.033       0.483      11.196\n",
       "C(degree)[T.2.0]                  13.6679      3.097      4.414      0.000       7.588      19.748\n",
       "C(degree)[T.3.0]                  15.1640      2.940      5.158      0.000       9.392      20.936\n",
       "C(degree)[T.4.0]                  20.6474      3.202      6.449      0.000      14.361      26.933\n",
       "C(sex)[T.1.0]                     11.8567      3.433      3.454      0.001       5.117      18.597\n",
       "C(degree)[T.1.0]:C(sex)[T.1.0]    -8.7529      3.678     -2.380      0.018     -15.975      -1.531\n",
       "C(degree)[T.2.0]:C(sex)[T.1.0]   -15.9038      4.491     -3.541      0.000     -24.722      -7.086\n",
       "C(degree)[T.3.0]:C(sex)[T.1.0]    -9.4547      3.797     -2.490      0.013     -16.910      -1.999\n",
       "C(degree)[T.4.0]:C(sex)[T.1.0]   -12.3876      4.010     -3.089      0.002     -20.260      -4.515\n",
       "age                                0.0771      0.029      2.656      0.008       0.020       0.134\n",
       "maeduc                             0.4955      0.132      3.766      0.000       0.237       0.754\n",
       "speduc                             0.5436      0.179      3.032      0.003       0.192       0.896\n",
       "==============================================================================\n",
       "Omnibus:                        1.168   Durbin-Watson:                   2.066\n",
       "Prob(Omnibus):                  0.558   Jarque-Bera (JB):                1.204\n",
       "Skew:                          -0.042   Prob(JB):                        0.548\n",
       "Kurtosis:                       2.817   Cond. No.                     1.21e+03\n",
       "==============================================================================\n",
       "\n",
       "Warnings:\n",
       "[1] Standard Errors assume that the covariance matrix of the errors is correctly specified.\n",
       "[2] The condition number is large, 1.21e+03. This might indicate that there are\n",
       "strong multicollinearity or other numerical problems.\n",
       "\"\"\""
      ]
     },
     "execution_count": 42,
     "metadata": {},
     "output_type": "execute_result"
    }
   ],
   "source": [
    "smf.ols(\"prestg10 ~ age + maeduc + speduc + C(degree)*C(sex)\", gss_df).fit().summary()"
   ]
  },
  {
   "cell_type": "markdown",
   "metadata": {},
   "source": [
    "Previously, we identified some principle assumptions outlining linear regression. As a refresher, these were:<br>\n",
    "1. **Linearity** of the relationship between response and explanatory variables<br>\n",
    "2. **Statistical independance of residuals**. That is, there's no discernable pattern in the residuals (or no correlation between the consecutive errors in the case of time series data)<br>\n",
    "3. **Homoescedasicity**. Complicated word, but not a complicated definition. Basically just means that the residuals have constant/very similar variance<br>\n",
    "4. **Normality** of the error distribution.<br>\n",
    "\n",
    "We've heavily focused on the first point in all of our above analysis. Here, we'll pay some more attention to points 2, 3 and 4. To demonstrate these points, we'll switch over to a new dataset called \"trees\"."
   ]
  },
  {
   "source": [
    "# Model Verification - Dataset 4"
   ],
   "cell_type": "markdown",
   "metadata": {}
  },
  {
   "cell_type": "code",
   "execution_count": 43,
   "metadata": {
    "scrolled": false
   },
   "outputs": [
    {
     "name": "stdout",
     "output_type": "stream",
     "text": [
      "===== ===============\n",
      "trees R Documentation\n",
      "===== ===============\n",
      "\n",
      "Diameter, Height and Volume for Black Cherry Trees\n",
      "--------------------------------------------------\n",
      "\n",
      "Description\n",
      "~~~~~~~~~~~\n",
      "\n",
      "This data set provides measurements of the diameter, height and volume\n",
      "of timber in 31 felled black cherry trees. Note that the diameter (in\n",
      "inches) is erroneously labelled Girth in the data. It is measured at 4\n",
      "ft 6 in above the ground.\n",
      "\n",
      "Usage\n",
      "~~~~~\n",
      "\n",
      "::\n",
      "\n",
      "   trees\n",
      "\n",
      "Format\n",
      "~~~~~~\n",
      "\n",
      "A data frame with 31 observations on 3 variables.\n",
      "\n",
      "+----------+------------+---------+---------------------------------+\n",
      "| ``[,1]`` | ``Girth``  | numeric | Tree diameter (rather than      |\n",
      "|          |            |         | girth, actually) in inches      |\n",
      "+----------+------------+---------+---------------------------------+\n",
      "| ``[,2]`` | ``Height`` | numeric | Height in ft                    |\n",
      "+----------+------------+---------+---------------------------------+\n",
      "| ``[,3]`` | ``Volume`` | numeric | Volume of timber in cubic ft    |\n",
      "+----------+------------+---------+---------------------------------+\n",
      "\n",
      "Source\n",
      "~~~~~~\n",
      "\n",
      "Ryan, T. A., Joiner, B. L. and Ryan, B. F. (1976) *The Minitab Student\n",
      "Handbook*. Duxbury Press.\n",
      "\n",
      "References\n",
      "~~~~~~~~~~\n",
      "\n",
      "Atkinson, A. C. (1985) *Plots, Transformations and Regression*. Oxford\n",
      "University Press.\n",
      "\n",
      "Examples\n",
      "~~~~~~~~\n",
      "\n",
      "::\n",
      "\n",
      "   require(stats); require(graphics)\n",
      "   pairs(trees, panel = panel.smooth, main = \"trees data\")\n",
      "   plot(Volume ~ Girth, data = trees, log = \"xy\")\n",
      "   coplot(log(Volume) ~ log(Girth) | Height, data = trees,\n",
      "          panel = panel.smooth)\n",
      "   summary(fm1 <- lm(log(Volume) ~ log(Girth), data = trees))\n",
      "   summary(fm2 <- update(fm1, ~ . + log(Height), data = trees))\n",
      "   step(fm2)\n",
      "   ## i.e., Volume ~= c * Height * Girth^2  seems reasonable\n",
      "\n"
     ]
    },
    {
     "data": {
      "text/html": [
       "<div>\n",
       "<style scoped>\n",
       "    .dataframe tbody tr th:only-of-type {\n",
       "        vertical-align: middle;\n",
       "    }\n",
       "\n",
       "    .dataframe tbody tr th {\n",
       "        vertical-align: top;\n",
       "    }\n",
       "\n",
       "    .dataframe thead th {\n",
       "        text-align: right;\n",
       "    }\n",
       "</style>\n",
       "<table border=\"1\" class=\"dataframe\">\n",
       "  <thead>\n",
       "    <tr style=\"text-align: right;\">\n",
       "      <th></th>\n",
       "      <th>Girth</th>\n",
       "      <th>Height</th>\n",
       "      <th>Volume</th>\n",
       "    </tr>\n",
       "  </thead>\n",
       "  <tbody>\n",
       "    <tr>\n",
       "      <th>0</th>\n",
       "      <td>8.3</td>\n",
       "      <td>70</td>\n",
       "      <td>10.3</td>\n",
       "    </tr>\n",
       "    <tr>\n",
       "      <th>1</th>\n",
       "      <td>8.6</td>\n",
       "      <td>65</td>\n",
       "      <td>10.3</td>\n",
       "    </tr>\n",
       "    <tr>\n",
       "      <th>2</th>\n",
       "      <td>8.8</td>\n",
       "      <td>63</td>\n",
       "      <td>10.2</td>\n",
       "    </tr>\n",
       "    <tr>\n",
       "      <th>3</th>\n",
       "      <td>10.5</td>\n",
       "      <td>72</td>\n",
       "      <td>16.4</td>\n",
       "    </tr>\n",
       "    <tr>\n",
       "      <th>4</th>\n",
       "      <td>10.7</td>\n",
       "      <td>81</td>\n",
       "      <td>18.8</td>\n",
       "    </tr>\n",
       "    <tr>\n",
       "      <th>5</th>\n",
       "      <td>10.8</td>\n",
       "      <td>83</td>\n",
       "      <td>19.7</td>\n",
       "    </tr>\n",
       "    <tr>\n",
       "      <th>6</th>\n",
       "      <td>11.0</td>\n",
       "      <td>66</td>\n",
       "      <td>15.6</td>\n",
       "    </tr>\n",
       "    <tr>\n",
       "      <th>7</th>\n",
       "      <td>11.0</td>\n",
       "      <td>75</td>\n",
       "      <td>18.2</td>\n",
       "    </tr>\n",
       "    <tr>\n",
       "      <th>8</th>\n",
       "      <td>11.1</td>\n",
       "      <td>80</td>\n",
       "      <td>22.6</td>\n",
       "    </tr>\n",
       "    <tr>\n",
       "      <th>9</th>\n",
       "      <td>11.2</td>\n",
       "      <td>75</td>\n",
       "      <td>19.9</td>\n",
       "    </tr>\n",
       "    <tr>\n",
       "      <th>10</th>\n",
       "      <td>11.3</td>\n",
       "      <td>79</td>\n",
       "      <td>24.2</td>\n",
       "    </tr>\n",
       "    <tr>\n",
       "      <th>11</th>\n",
       "      <td>11.4</td>\n",
       "      <td>76</td>\n",
       "      <td>21.0</td>\n",
       "    </tr>\n",
       "    <tr>\n",
       "      <th>12</th>\n",
       "      <td>11.4</td>\n",
       "      <td>76</td>\n",
       "      <td>21.4</td>\n",
       "    </tr>\n",
       "    <tr>\n",
       "      <th>13</th>\n",
       "      <td>11.7</td>\n",
       "      <td>69</td>\n",
       "      <td>21.3</td>\n",
       "    </tr>\n",
       "    <tr>\n",
       "      <th>14</th>\n",
       "      <td>12.0</td>\n",
       "      <td>75</td>\n",
       "      <td>19.1</td>\n",
       "    </tr>\n",
       "    <tr>\n",
       "      <th>15</th>\n",
       "      <td>12.9</td>\n",
       "      <td>74</td>\n",
       "      <td>22.2</td>\n",
       "    </tr>\n",
       "    <tr>\n",
       "      <th>16</th>\n",
       "      <td>12.9</td>\n",
       "      <td>85</td>\n",
       "      <td>33.8</td>\n",
       "    </tr>\n",
       "    <tr>\n",
       "      <th>17</th>\n",
       "      <td>13.3</td>\n",
       "      <td>86</td>\n",
       "      <td>27.4</td>\n",
       "    </tr>\n",
       "    <tr>\n",
       "      <th>18</th>\n",
       "      <td>13.7</td>\n",
       "      <td>71</td>\n",
       "      <td>25.7</td>\n",
       "    </tr>\n",
       "    <tr>\n",
       "      <th>19</th>\n",
       "      <td>13.8</td>\n",
       "      <td>64</td>\n",
       "      <td>24.9</td>\n",
       "    </tr>\n",
       "    <tr>\n",
       "      <th>20</th>\n",
       "      <td>14.0</td>\n",
       "      <td>78</td>\n",
       "      <td>34.5</td>\n",
       "    </tr>\n",
       "    <tr>\n",
       "      <th>21</th>\n",
       "      <td>14.2</td>\n",
       "      <td>80</td>\n",
       "      <td>31.7</td>\n",
       "    </tr>\n",
       "    <tr>\n",
       "      <th>22</th>\n",
       "      <td>14.5</td>\n",
       "      <td>74</td>\n",
       "      <td>36.3</td>\n",
       "    </tr>\n",
       "    <tr>\n",
       "      <th>23</th>\n",
       "      <td>16.0</td>\n",
       "      <td>72</td>\n",
       "      <td>38.3</td>\n",
       "    </tr>\n",
       "    <tr>\n",
       "      <th>24</th>\n",
       "      <td>16.3</td>\n",
       "      <td>77</td>\n",
       "      <td>42.6</td>\n",
       "    </tr>\n",
       "    <tr>\n",
       "      <th>25</th>\n",
       "      <td>17.3</td>\n",
       "      <td>81</td>\n",
       "      <td>55.4</td>\n",
       "    </tr>\n",
       "    <tr>\n",
       "      <th>26</th>\n",
       "      <td>17.5</td>\n",
       "      <td>82</td>\n",
       "      <td>55.7</td>\n",
       "    </tr>\n",
       "    <tr>\n",
       "      <th>27</th>\n",
       "      <td>17.9</td>\n",
       "      <td>80</td>\n",
       "      <td>58.3</td>\n",
       "    </tr>\n",
       "    <tr>\n",
       "      <th>28</th>\n",
       "      <td>18.0</td>\n",
       "      <td>80</td>\n",
       "      <td>51.5</td>\n",
       "    </tr>\n",
       "    <tr>\n",
       "      <th>29</th>\n",
       "      <td>18.0</td>\n",
       "      <td>80</td>\n",
       "      <td>51.0</td>\n",
       "    </tr>\n",
       "    <tr>\n",
       "      <th>30</th>\n",
       "      <td>20.6</td>\n",
       "      <td>87</td>\n",
       "      <td>77.0</td>\n",
       "    </tr>\n",
       "  </tbody>\n",
       "</table>\n",
       "</div>"
      ],
      "text/plain": [
       "    Girth  Height  Volume\n",
       "0     8.3      70    10.3\n",
       "1     8.6      65    10.3\n",
       "2     8.8      63    10.2\n",
       "3    10.5      72    16.4\n",
       "4    10.7      81    18.8\n",
       "5    10.8      83    19.7\n",
       "6    11.0      66    15.6\n",
       "7    11.0      75    18.2\n",
       "8    11.1      80    22.6\n",
       "9    11.2      75    19.9\n",
       "10   11.3      79    24.2\n",
       "11   11.4      76    21.0\n",
       "12   11.4      76    21.4\n",
       "13   11.7      69    21.3\n",
       "14   12.0      75    19.1\n",
       "15   12.9      74    22.2\n",
       "16   12.9      85    33.8\n",
       "17   13.3      86    27.4\n",
       "18   13.7      71    25.7\n",
       "19   13.8      64    24.9\n",
       "20   14.0      78    34.5\n",
       "21   14.2      80    31.7\n",
       "22   14.5      74    36.3\n",
       "23   16.0      72    38.3\n",
       "24   16.3      77    42.6\n",
       "25   17.3      81    55.4\n",
       "26   17.5      82    55.7\n",
       "27   17.9      80    58.3\n",
       "28   18.0      80    51.5\n",
       "29   18.0      80    51.0\n",
       "30   20.6      87    77.0"
      ]
     },
     "execution_count": 43,
     "metadata": {},
     "output_type": "execute_result"
    }
   ],
   "source": [
    "trees = sm.datasets.get_rdataset(\"trees\")\n",
    "print(trees.__doc__)\n",
    "trees_df = trees.data\n",
    "trees_df"
   ]
  },
  {
   "cell_type": "markdown",
   "metadata": {},
   "source": [
    "Let's start by fitting a normal regression to this data. We'll aim to predict the volume given the girth and height."
   ]
  },
  {
   "cell_type": "code",
   "execution_count": 44,
   "metadata": {},
   "outputs": [
    {
     "data": {
      "text/html": [
       "<table class=\"simpletable\">\n",
       "<caption>OLS Regression Results</caption>\n",
       "<tr>\n",
       "  <th>Dep. Variable:</th>           <td>vol</td>       <th>  R-squared:         </th> <td>   0.948</td>\n",
       "</tr>\n",
       "<tr>\n",
       "  <th>Model:</th>                   <td>OLS</td>       <th>  Adj. R-squared:    </th> <td>   0.944</td>\n",
       "</tr>\n",
       "<tr>\n",
       "  <th>Method:</th>             <td>Least Squares</td>  <th>  F-statistic:       </th> <td>   255.0</td>\n",
       "</tr>\n",
       "<tr>\n",
       "  <th>Date:</th>             <td>Tue, 11 Aug 2020</td> <th>  Prob (F-statistic):</th> <td>1.07e-18</td>\n",
       "</tr>\n",
       "<tr>\n",
       "  <th>Time:</th>                 <td>20:12:02</td>     <th>  Log-Likelihood:    </th> <td> -84.455</td>\n",
       "</tr>\n",
       "<tr>\n",
       "  <th>No. Observations:</th>      <td>    31</td>      <th>  AIC:               </th> <td>   174.9</td>\n",
       "</tr>\n",
       "<tr>\n",
       "  <th>Df Residuals:</th>          <td>    28</td>      <th>  BIC:               </th> <td>   179.2</td>\n",
       "</tr>\n",
       "<tr>\n",
       "  <th>Df Model:</th>              <td>     2</td>      <th>                     </th>     <td> </td>   \n",
       "</tr>\n",
       "<tr>\n",
       "  <th>Covariance Type:</th>      <td>nonrobust</td>    <th>                     </th>     <td> </td>   \n",
       "</tr>\n",
       "</table>\n",
       "<table class=\"simpletable\">\n",
       "<tr>\n",
       "      <td></td>         <th>coef</th>     <th>std err</th>      <th>t</th>      <th>P>|t|</th>  <th>[0.025</th>    <th>0.975]</th>  \n",
       "</tr>\n",
       "<tr>\n",
       "  <th>Intercept</th> <td>  -57.9877</td> <td>    8.638</td> <td>   -6.713</td> <td> 0.000</td> <td>  -75.682</td> <td>  -40.293</td>\n",
       "</tr>\n",
       "<tr>\n",
       "  <th>d</th>         <td>    4.7082</td> <td>    0.264</td> <td>   17.816</td> <td> 0.000</td> <td>    4.167</td> <td>    5.249</td>\n",
       "</tr>\n",
       "<tr>\n",
       "  <th>h</th>         <td>    0.3393</td> <td>    0.130</td> <td>    2.607</td> <td> 0.014</td> <td>    0.073</td> <td>    0.606</td>\n",
       "</tr>\n",
       "</table>\n",
       "<table class=\"simpletable\">\n",
       "<tr>\n",
       "  <th>Omnibus:</th>       <td> 0.923</td> <th>  Durbin-Watson:     </th> <td>   1.266</td>\n",
       "</tr>\n",
       "<tr>\n",
       "  <th>Prob(Omnibus):</th> <td> 0.630</td> <th>  Jarque-Bera (JB):  </th> <td>   0.950</td>\n",
       "</tr>\n",
       "<tr>\n",
       "  <th>Skew:</th>          <td> 0.310</td> <th>  Prob(JB):          </th> <td>   0.622</td>\n",
       "</tr>\n",
       "<tr>\n",
       "  <th>Kurtosis:</th>      <td> 2.408</td> <th>  Cond. No.          </th> <td>    959.</td>\n",
       "</tr>\n",
       "</table><br/><br/>Warnings:<br/>[1] Standard Errors assume that the covariance matrix of the errors is correctly specified."
      ],
      "text/plain": [
       "<class 'statsmodels.iolib.summary.Summary'>\n",
       "\"\"\"\n",
       "                            OLS Regression Results                            \n",
       "==============================================================================\n",
       "Dep. Variable:                    vol   R-squared:                       0.948\n",
       "Model:                            OLS   Adj. R-squared:                  0.944\n",
       "Method:                 Least Squares   F-statistic:                     255.0\n",
       "Date:                Tue, 11 Aug 2020   Prob (F-statistic):           1.07e-18\n",
       "Time:                        20:12:02   Log-Likelihood:                -84.455\n",
       "No. Observations:                  31   AIC:                             174.9\n",
       "Df Residuals:                      28   BIC:                             179.2\n",
       "Df Model:                           2                                         \n",
       "Covariance Type:            nonrobust                                         \n",
       "==============================================================================\n",
       "                 coef    std err          t      P>|t|      [0.025      0.975]\n",
       "------------------------------------------------------------------------------\n",
       "Intercept    -57.9877      8.638     -6.713      0.000     -75.682     -40.293\n",
       "d              4.7082      0.264     17.816      0.000       4.167       5.249\n",
       "h              0.3393      0.130      2.607      0.014       0.073       0.606\n",
       "==============================================================================\n",
       "Omnibus:                        0.923   Durbin-Watson:                   1.266\n",
       "Prob(Omnibus):                  0.630   Jarque-Bera (JB):                0.950\n",
       "Skew:                           0.310   Prob(JB):                        0.622\n",
       "Kurtosis:                       2.408   Cond. No.                         959.\n",
       "==============================================================================\n",
       "\n",
       "Warnings:\n",
       "[1] Standard Errors assume that the covariance matrix of the errors is correctly specified.\n",
       "\"\"\""
      ]
     },
     "execution_count": 44,
     "metadata": {},
     "output_type": "execute_result"
    }
   ],
   "source": [
    "# I'm tired of writing long variable names so I'm going to rename these columns\n",
    "trees_df.columns = [\"d\", \"h\", \"vol\"]\n",
    "trees_model0 = smf.ols(\"vol ~ d + h\", trees_df).fit()\n",
    "trees_model0.summary()"
   ]
  },
  {
   "cell_type": "markdown",
   "metadata": {},
   "source": [
    "Let's plot `d` and `h` against our residuals and check to see whether we can identify of any patterns."
   ]
  },
  {
   "cell_type": "code",
   "execution_count": 45,
   "metadata": {},
   "outputs": [
    {
     "data": {
      "application/vnd.plotly.v1+json": {
       "config": {
        "plotlyServerURL": "https://plot.ly"
       },
       "data": [
        {
         "hovertemplate": "d=%{x}<br>residuals=%{y}<extra></extra>",
         "legendgroup": "",
         "marker": {
          "color": "#636efa",
          "symbol": "circle"
         },
         "mode": "markers",
         "name": "",
         "orientation": "v",
         "showlegend": false,
         "type": "scatter",
         "x": [
          8.3,
          8.6,
          8.8,
          10.5,
          10.7,
          10.8,
          11,
          11,
          11.1,
          11.2,
          11.3,
          11.4,
          11.4,
          11.7,
          12,
          12.9,
          12.9,
          13.3,
          13.7,
          13.8,
          14,
          14.2,
          14.5,
          16,
          16.3,
          17.3,
          17.5,
          17.9,
          18,
          18,
          20.6
         ],
         "xaxis": "x",
         "y": [
          5.462340346206407,
          5.746148366524672,
          5.3830187344105696,
          0.5258847710784735,
          -1.0690084377273443,
          -1.3183269565185078,
          -0.592688074962064,
          -1.0459491831643888,
          1.1869785953103502,
          -0.2875812837678886,
          2.1845977289515446,
          -0.4684646186160961,
          -0.06846461861609754,
          0.7938458701915749,
          -4.854109686181896,
          -5.652202904652963,
          2.2160335186553084,
          -6.406481916796402,
          -4.900977604332859,
          -3.797035014921704,
          0.11181560504896026,
          -4.308318964043945,
          0.9147402905190205,
          -3.468997995517846,
          -2.2777023176466216,
          4.457132242357062,
          3.476248907508861,
          4.8714871747912625,
          -2.3993288755104842,
          -2.8993288755104842,
          8.484695176931055
         ],
         "yaxis": "y"
        }
       ],
       "layout": {
        "legend": {
         "tracegroupgap": 0
        },
        "template": {
         "data": {
          "bar": [
           {
            "error_x": {
             "color": "#2a3f5f"
            },
            "error_y": {
             "color": "#2a3f5f"
            },
            "marker": {
             "line": {
              "color": "#E5ECF6",
              "width": 0.5
             }
            },
            "type": "bar"
           }
          ],
          "barpolar": [
           {
            "marker": {
             "line": {
              "color": "#E5ECF6",
              "width": 0.5
             }
            },
            "type": "barpolar"
           }
          ],
          "carpet": [
           {
            "aaxis": {
             "endlinecolor": "#2a3f5f",
             "gridcolor": "white",
             "linecolor": "white",
             "minorgridcolor": "white",
             "startlinecolor": "#2a3f5f"
            },
            "baxis": {
             "endlinecolor": "#2a3f5f",
             "gridcolor": "white",
             "linecolor": "white",
             "minorgridcolor": "white",
             "startlinecolor": "#2a3f5f"
            },
            "type": "carpet"
           }
          ],
          "choropleth": [
           {
            "colorbar": {
             "outlinewidth": 0,
             "ticks": ""
            },
            "type": "choropleth"
           }
          ],
          "contour": [
           {
            "colorbar": {
             "outlinewidth": 0,
             "ticks": ""
            },
            "colorscale": [
             [
              0,
              "#0d0887"
             ],
             [
              0.1111111111111111,
              "#46039f"
             ],
             [
              0.2222222222222222,
              "#7201a8"
             ],
             [
              0.3333333333333333,
              "#9c179e"
             ],
             [
              0.4444444444444444,
              "#bd3786"
             ],
             [
              0.5555555555555556,
              "#d8576b"
             ],
             [
              0.6666666666666666,
              "#ed7953"
             ],
             [
              0.7777777777777778,
              "#fb9f3a"
             ],
             [
              0.8888888888888888,
              "#fdca26"
             ],
             [
              1,
              "#f0f921"
             ]
            ],
            "type": "contour"
           }
          ],
          "contourcarpet": [
           {
            "colorbar": {
             "outlinewidth": 0,
             "ticks": ""
            },
            "type": "contourcarpet"
           }
          ],
          "heatmap": [
           {
            "colorbar": {
             "outlinewidth": 0,
             "ticks": ""
            },
            "colorscale": [
             [
              0,
              "#0d0887"
             ],
             [
              0.1111111111111111,
              "#46039f"
             ],
             [
              0.2222222222222222,
              "#7201a8"
             ],
             [
              0.3333333333333333,
              "#9c179e"
             ],
             [
              0.4444444444444444,
              "#bd3786"
             ],
             [
              0.5555555555555556,
              "#d8576b"
             ],
             [
              0.6666666666666666,
              "#ed7953"
             ],
             [
              0.7777777777777778,
              "#fb9f3a"
             ],
             [
              0.8888888888888888,
              "#fdca26"
             ],
             [
              1,
              "#f0f921"
             ]
            ],
            "type": "heatmap"
           }
          ],
          "heatmapgl": [
           {
            "colorbar": {
             "outlinewidth": 0,
             "ticks": ""
            },
            "colorscale": [
             [
              0,
              "#0d0887"
             ],
             [
              0.1111111111111111,
              "#46039f"
             ],
             [
              0.2222222222222222,
              "#7201a8"
             ],
             [
              0.3333333333333333,
              "#9c179e"
             ],
             [
              0.4444444444444444,
              "#bd3786"
             ],
             [
              0.5555555555555556,
              "#d8576b"
             ],
             [
              0.6666666666666666,
              "#ed7953"
             ],
             [
              0.7777777777777778,
              "#fb9f3a"
             ],
             [
              0.8888888888888888,
              "#fdca26"
             ],
             [
              1,
              "#f0f921"
             ]
            ],
            "type": "heatmapgl"
           }
          ],
          "histogram": [
           {
            "marker": {
             "colorbar": {
              "outlinewidth": 0,
              "ticks": ""
             }
            },
            "type": "histogram"
           }
          ],
          "histogram2d": [
           {
            "colorbar": {
             "outlinewidth": 0,
             "ticks": ""
            },
            "colorscale": [
             [
              0,
              "#0d0887"
             ],
             [
              0.1111111111111111,
              "#46039f"
             ],
             [
              0.2222222222222222,
              "#7201a8"
             ],
             [
              0.3333333333333333,
              "#9c179e"
             ],
             [
              0.4444444444444444,
              "#bd3786"
             ],
             [
              0.5555555555555556,
              "#d8576b"
             ],
             [
              0.6666666666666666,
              "#ed7953"
             ],
             [
              0.7777777777777778,
              "#fb9f3a"
             ],
             [
              0.8888888888888888,
              "#fdca26"
             ],
             [
              1,
              "#f0f921"
             ]
            ],
            "type": "histogram2d"
           }
          ],
          "histogram2dcontour": [
           {
            "colorbar": {
             "outlinewidth": 0,
             "ticks": ""
            },
            "colorscale": [
             [
              0,
              "#0d0887"
             ],
             [
              0.1111111111111111,
              "#46039f"
             ],
             [
              0.2222222222222222,
              "#7201a8"
             ],
             [
              0.3333333333333333,
              "#9c179e"
             ],
             [
              0.4444444444444444,
              "#bd3786"
             ],
             [
              0.5555555555555556,
              "#d8576b"
             ],
             [
              0.6666666666666666,
              "#ed7953"
             ],
             [
              0.7777777777777778,
              "#fb9f3a"
             ],
             [
              0.8888888888888888,
              "#fdca26"
             ],
             [
              1,
              "#f0f921"
             ]
            ],
            "type": "histogram2dcontour"
           }
          ],
          "mesh3d": [
           {
            "colorbar": {
             "outlinewidth": 0,
             "ticks": ""
            },
            "type": "mesh3d"
           }
          ],
          "parcoords": [
           {
            "line": {
             "colorbar": {
              "outlinewidth": 0,
              "ticks": ""
             }
            },
            "type": "parcoords"
           }
          ],
          "pie": [
           {
            "automargin": true,
            "type": "pie"
           }
          ],
          "scatter": [
           {
            "marker": {
             "colorbar": {
              "outlinewidth": 0,
              "ticks": ""
             }
            },
            "type": "scatter"
           }
          ],
          "scatter3d": [
           {
            "line": {
             "colorbar": {
              "outlinewidth": 0,
              "ticks": ""
             }
            },
            "marker": {
             "colorbar": {
              "outlinewidth": 0,
              "ticks": ""
             }
            },
            "type": "scatter3d"
           }
          ],
          "scattercarpet": [
           {
            "marker": {
             "colorbar": {
              "outlinewidth": 0,
              "ticks": ""
             }
            },
            "type": "scattercarpet"
           }
          ],
          "scattergeo": [
           {
            "marker": {
             "colorbar": {
              "outlinewidth": 0,
              "ticks": ""
             }
            },
            "type": "scattergeo"
           }
          ],
          "scattergl": [
           {
            "marker": {
             "colorbar": {
              "outlinewidth": 0,
              "ticks": ""
             }
            },
            "type": "scattergl"
           }
          ],
          "scattermapbox": [
           {
            "marker": {
             "colorbar": {
              "outlinewidth": 0,
              "ticks": ""
             }
            },
            "type": "scattermapbox"
           }
          ],
          "scatterpolar": [
           {
            "marker": {
             "colorbar": {
              "outlinewidth": 0,
              "ticks": ""
             }
            },
            "type": "scatterpolar"
           }
          ],
          "scatterpolargl": [
           {
            "marker": {
             "colorbar": {
              "outlinewidth": 0,
              "ticks": ""
             }
            },
            "type": "scatterpolargl"
           }
          ],
          "scatterternary": [
           {
            "marker": {
             "colorbar": {
              "outlinewidth": 0,
              "ticks": ""
             }
            },
            "type": "scatterternary"
           }
          ],
          "surface": [
           {
            "colorbar": {
             "outlinewidth": 0,
             "ticks": ""
            },
            "colorscale": [
             [
              0,
              "#0d0887"
             ],
             [
              0.1111111111111111,
              "#46039f"
             ],
             [
              0.2222222222222222,
              "#7201a8"
             ],
             [
              0.3333333333333333,
              "#9c179e"
             ],
             [
              0.4444444444444444,
              "#bd3786"
             ],
             [
              0.5555555555555556,
              "#d8576b"
             ],
             [
              0.6666666666666666,
              "#ed7953"
             ],
             [
              0.7777777777777778,
              "#fb9f3a"
             ],
             [
              0.8888888888888888,
              "#fdca26"
             ],
             [
              1,
              "#f0f921"
             ]
            ],
            "type": "surface"
           }
          ],
          "table": [
           {
            "cells": {
             "fill": {
              "color": "#EBF0F8"
             },
             "line": {
              "color": "white"
             }
            },
            "header": {
             "fill": {
              "color": "#C8D4E3"
             },
             "line": {
              "color": "white"
             }
            },
            "type": "table"
           }
          ]
         },
         "layout": {
          "annotationdefaults": {
           "arrowcolor": "#2a3f5f",
           "arrowhead": 0,
           "arrowwidth": 1
          },
          "coloraxis": {
           "colorbar": {
            "outlinewidth": 0,
            "ticks": ""
           }
          },
          "colorscale": {
           "diverging": [
            [
             0,
             "#8e0152"
            ],
            [
             0.1,
             "#c51b7d"
            ],
            [
             0.2,
             "#de77ae"
            ],
            [
             0.3,
             "#f1b6da"
            ],
            [
             0.4,
             "#fde0ef"
            ],
            [
             0.5,
             "#f7f7f7"
            ],
            [
             0.6,
             "#e6f5d0"
            ],
            [
             0.7,
             "#b8e186"
            ],
            [
             0.8,
             "#7fbc41"
            ],
            [
             0.9,
             "#4d9221"
            ],
            [
             1,
             "#276419"
            ]
           ],
           "sequential": [
            [
             0,
             "#0d0887"
            ],
            [
             0.1111111111111111,
             "#46039f"
            ],
            [
             0.2222222222222222,
             "#7201a8"
            ],
            [
             0.3333333333333333,
             "#9c179e"
            ],
            [
             0.4444444444444444,
             "#bd3786"
            ],
            [
             0.5555555555555556,
             "#d8576b"
            ],
            [
             0.6666666666666666,
             "#ed7953"
            ],
            [
             0.7777777777777778,
             "#fb9f3a"
            ],
            [
             0.8888888888888888,
             "#fdca26"
            ],
            [
             1,
             "#f0f921"
            ]
           ],
           "sequentialminus": [
            [
             0,
             "#0d0887"
            ],
            [
             0.1111111111111111,
             "#46039f"
            ],
            [
             0.2222222222222222,
             "#7201a8"
            ],
            [
             0.3333333333333333,
             "#9c179e"
            ],
            [
             0.4444444444444444,
             "#bd3786"
            ],
            [
             0.5555555555555556,
             "#d8576b"
            ],
            [
             0.6666666666666666,
             "#ed7953"
            ],
            [
             0.7777777777777778,
             "#fb9f3a"
            ],
            [
             0.8888888888888888,
             "#fdca26"
            ],
            [
             1,
             "#f0f921"
            ]
           ]
          },
          "colorway": [
           "#636efa",
           "#EF553B",
           "#00cc96",
           "#ab63fa",
           "#FFA15A",
           "#19d3f3",
           "#FF6692",
           "#B6E880",
           "#FF97FF",
           "#FECB52"
          ],
          "font": {
           "color": "#2a3f5f"
          },
          "geo": {
           "bgcolor": "white",
           "lakecolor": "white",
           "landcolor": "#E5ECF6",
           "showlakes": true,
           "showland": true,
           "subunitcolor": "white"
          },
          "hoverlabel": {
           "align": "left"
          },
          "hovermode": "closest",
          "mapbox": {
           "style": "light"
          },
          "paper_bgcolor": "white",
          "plot_bgcolor": "#E5ECF6",
          "polar": {
           "angularaxis": {
            "gridcolor": "white",
            "linecolor": "white",
            "ticks": ""
           },
           "bgcolor": "#E5ECF6",
           "radialaxis": {
            "gridcolor": "white",
            "linecolor": "white",
            "ticks": ""
           }
          },
          "scene": {
           "xaxis": {
            "backgroundcolor": "#E5ECF6",
            "gridcolor": "white",
            "gridwidth": 2,
            "linecolor": "white",
            "showbackground": true,
            "ticks": "",
            "zerolinecolor": "white"
           },
           "yaxis": {
            "backgroundcolor": "#E5ECF6",
            "gridcolor": "white",
            "gridwidth": 2,
            "linecolor": "white",
            "showbackground": true,
            "ticks": "",
            "zerolinecolor": "white"
           },
           "zaxis": {
            "backgroundcolor": "#E5ECF6",
            "gridcolor": "white",
            "gridwidth": 2,
            "linecolor": "white",
            "showbackground": true,
            "ticks": "",
            "zerolinecolor": "white"
           }
          },
          "shapedefaults": {
           "line": {
            "color": "#2a3f5f"
           }
          },
          "ternary": {
           "aaxis": {
            "gridcolor": "white",
            "linecolor": "white",
            "ticks": ""
           },
           "baxis": {
            "gridcolor": "white",
            "linecolor": "white",
            "ticks": ""
           },
           "bgcolor": "#E5ECF6",
           "caxis": {
            "gridcolor": "white",
            "linecolor": "white",
            "ticks": ""
           }
          },
          "title": {
           "x": 0.05
          },
          "xaxis": {
           "automargin": true,
           "gridcolor": "white",
           "linecolor": "white",
           "ticks": "",
           "title": {
            "standoff": 15
           },
           "zerolinecolor": "white",
           "zerolinewidth": 2
          },
          "yaxis": {
           "automargin": true,
           "gridcolor": "white",
           "linecolor": "white",
           "ticks": "",
           "title": {
            "standoff": 15
           },
           "zerolinecolor": "white",
           "zerolinewidth": 2
          }
         }
        },
        "title": {
         "text": "Girth of tree vs model residuals"
        },
        "xaxis": {
         "anchor": "y",
         "domain": [
          0,
          1
         ],
         "title": {
          "text": "d"
         }
        },
        "yaxis": {
         "anchor": "x",
         "domain": [
          0,
          1
         ],
         "title": {
          "text": "residuals"
         }
        }
       }
      },
      "text/html": [
       "<div>\n",
       "        \n",
       "        \n",
       "            <div id=\"142a9557-2643-4cb7-b420-9e0728aae745\" class=\"plotly-graph-div\" style=\"height:525px; width:100%;\"></div>\n",
       "            <script type=\"text/javascript\">\n",
       "                require([\"plotly\"], function(Plotly) {\n",
       "                    window.PLOTLYENV=window.PLOTLYENV || {};\n",
       "                    \n",
       "                if (document.getElementById(\"142a9557-2643-4cb7-b420-9e0728aae745\")) {\n",
       "                    Plotly.newPlot(\n",
       "                        '142a9557-2643-4cb7-b420-9e0728aae745',\n",
       "                        [{\"hovertemplate\": \"d=%{x}<br>residuals=%{y}<extra></extra>\", \"legendgroup\": \"\", \"marker\": {\"color\": \"#636efa\", \"symbol\": \"circle\"}, \"mode\": \"markers\", \"name\": \"\", \"orientation\": \"v\", \"showlegend\": false, \"type\": \"scatter\", \"x\": [8.3, 8.6, 8.8, 10.5, 10.7, 10.8, 11.0, 11.0, 11.1, 11.2, 11.3, 11.4, 11.4, 11.7, 12.0, 12.9, 12.9, 13.3, 13.7, 13.8, 14.0, 14.2, 14.5, 16.0, 16.3, 17.3, 17.5, 17.9, 18.0, 18.0, 20.6], \"xaxis\": \"x\", \"y\": [5.462340346206407, 5.746148366524672, 5.3830187344105696, 0.5258847710784735, -1.0690084377273443, -1.3183269565185078, -0.592688074962064, -1.0459491831643888, 1.1869785953103502, -0.2875812837678886, 2.1845977289515446, -0.4684646186160961, -0.06846461861609754, 0.7938458701915749, -4.854109686181896, -5.652202904652963, 2.2160335186553084, -6.406481916796402, -4.900977604332859, -3.797035014921704, 0.11181560504896026, -4.308318964043945, 0.9147402905190205, -3.468997995517846, -2.2777023176466216, 4.457132242357062, 3.476248907508861, 4.8714871747912625, -2.3993288755104842, -2.8993288755104842, 8.484695176931055], \"yaxis\": \"y\"}],\n",
       "                        {\"legend\": {\"tracegroupgap\": 0}, \"template\": {\"data\": {\"bar\": [{\"error_x\": {\"color\": \"#2a3f5f\"}, \"error_y\": {\"color\": \"#2a3f5f\"}, \"marker\": {\"line\": {\"color\": \"#E5ECF6\", \"width\": 0.5}}, \"type\": \"bar\"}], \"barpolar\": [{\"marker\": {\"line\": {\"color\": \"#E5ECF6\", \"width\": 0.5}}, \"type\": \"barpolar\"}], \"carpet\": [{\"aaxis\": {\"endlinecolor\": \"#2a3f5f\", \"gridcolor\": \"white\", \"linecolor\": \"white\", \"minorgridcolor\": \"white\", \"startlinecolor\": \"#2a3f5f\"}, \"baxis\": {\"endlinecolor\": \"#2a3f5f\", \"gridcolor\": \"white\", \"linecolor\": \"white\", \"minorgridcolor\": \"white\", \"startlinecolor\": \"#2a3f5f\"}, \"type\": \"carpet\"}], \"choropleth\": [{\"colorbar\": {\"outlinewidth\": 0, \"ticks\": \"\"}, \"type\": \"choropleth\"}], \"contour\": [{\"colorbar\": {\"outlinewidth\": 0, \"ticks\": \"\"}, \"colorscale\": [[0.0, \"#0d0887\"], [0.1111111111111111, \"#46039f\"], [0.2222222222222222, \"#7201a8\"], [0.3333333333333333, \"#9c179e\"], [0.4444444444444444, \"#bd3786\"], [0.5555555555555556, \"#d8576b\"], [0.6666666666666666, \"#ed7953\"], [0.7777777777777778, \"#fb9f3a\"], [0.8888888888888888, \"#fdca26\"], [1.0, \"#f0f921\"]], \"type\": \"contour\"}], \"contourcarpet\": [{\"colorbar\": {\"outlinewidth\": 0, \"ticks\": \"\"}, \"type\": \"contourcarpet\"}], \"heatmap\": [{\"colorbar\": {\"outlinewidth\": 0, \"ticks\": \"\"}, \"colorscale\": [[0.0, \"#0d0887\"], [0.1111111111111111, \"#46039f\"], [0.2222222222222222, \"#7201a8\"], [0.3333333333333333, \"#9c179e\"], [0.4444444444444444, \"#bd3786\"], [0.5555555555555556, \"#d8576b\"], [0.6666666666666666, \"#ed7953\"], [0.7777777777777778, \"#fb9f3a\"], [0.8888888888888888, \"#fdca26\"], [1.0, \"#f0f921\"]], \"type\": \"heatmap\"}], \"heatmapgl\": [{\"colorbar\": {\"outlinewidth\": 0, \"ticks\": \"\"}, \"colorscale\": [[0.0, \"#0d0887\"], [0.1111111111111111, \"#46039f\"], [0.2222222222222222, \"#7201a8\"], [0.3333333333333333, \"#9c179e\"], [0.4444444444444444, \"#bd3786\"], [0.5555555555555556, \"#d8576b\"], [0.6666666666666666, \"#ed7953\"], [0.7777777777777778, \"#fb9f3a\"], [0.8888888888888888, \"#fdca26\"], [1.0, \"#f0f921\"]], \"type\": \"heatmapgl\"}], \"histogram\": [{\"marker\": {\"colorbar\": {\"outlinewidth\": 0, \"ticks\": \"\"}}, \"type\": \"histogram\"}], \"histogram2d\": [{\"colorbar\": {\"outlinewidth\": 0, \"ticks\": \"\"}, \"colorscale\": [[0.0, \"#0d0887\"], [0.1111111111111111, \"#46039f\"], [0.2222222222222222, \"#7201a8\"], [0.3333333333333333, \"#9c179e\"], [0.4444444444444444, \"#bd3786\"], [0.5555555555555556, \"#d8576b\"], [0.6666666666666666, \"#ed7953\"], [0.7777777777777778, \"#fb9f3a\"], [0.8888888888888888, \"#fdca26\"], [1.0, \"#f0f921\"]], \"type\": \"histogram2d\"}], \"histogram2dcontour\": [{\"colorbar\": {\"outlinewidth\": 0, \"ticks\": \"\"}, \"colorscale\": [[0.0, \"#0d0887\"], [0.1111111111111111, \"#46039f\"], [0.2222222222222222, \"#7201a8\"], [0.3333333333333333, \"#9c179e\"], [0.4444444444444444, \"#bd3786\"], [0.5555555555555556, \"#d8576b\"], [0.6666666666666666, \"#ed7953\"], [0.7777777777777778, \"#fb9f3a\"], [0.8888888888888888, \"#fdca26\"], [1.0, \"#f0f921\"]], \"type\": \"histogram2dcontour\"}], \"mesh3d\": [{\"colorbar\": {\"outlinewidth\": 0, \"ticks\": \"\"}, \"type\": \"mesh3d\"}], \"parcoords\": [{\"line\": {\"colorbar\": {\"outlinewidth\": 0, \"ticks\": \"\"}}, \"type\": \"parcoords\"}], \"pie\": [{\"automargin\": true, \"type\": \"pie\"}], \"scatter\": [{\"marker\": {\"colorbar\": {\"outlinewidth\": 0, \"ticks\": \"\"}}, \"type\": \"scatter\"}], \"scatter3d\": [{\"line\": {\"colorbar\": {\"outlinewidth\": 0, \"ticks\": \"\"}}, \"marker\": {\"colorbar\": {\"outlinewidth\": 0, \"ticks\": \"\"}}, \"type\": \"scatter3d\"}], \"scattercarpet\": [{\"marker\": {\"colorbar\": {\"outlinewidth\": 0, \"ticks\": \"\"}}, \"type\": \"scattercarpet\"}], \"scattergeo\": [{\"marker\": {\"colorbar\": {\"outlinewidth\": 0, \"ticks\": \"\"}}, \"type\": \"scattergeo\"}], \"scattergl\": [{\"marker\": {\"colorbar\": {\"outlinewidth\": 0, \"ticks\": \"\"}}, \"type\": \"scattergl\"}], \"scattermapbox\": [{\"marker\": {\"colorbar\": {\"outlinewidth\": 0, \"ticks\": \"\"}}, \"type\": \"scattermapbox\"}], \"scatterpolar\": [{\"marker\": {\"colorbar\": {\"outlinewidth\": 0, \"ticks\": \"\"}}, \"type\": \"scatterpolar\"}], \"scatterpolargl\": [{\"marker\": {\"colorbar\": {\"outlinewidth\": 0, \"ticks\": \"\"}}, \"type\": \"scatterpolargl\"}], \"scatterternary\": [{\"marker\": {\"colorbar\": {\"outlinewidth\": 0, \"ticks\": \"\"}}, \"type\": \"scatterternary\"}], \"surface\": [{\"colorbar\": {\"outlinewidth\": 0, \"ticks\": \"\"}, \"colorscale\": [[0.0, \"#0d0887\"], [0.1111111111111111, \"#46039f\"], [0.2222222222222222, \"#7201a8\"], [0.3333333333333333, \"#9c179e\"], [0.4444444444444444, \"#bd3786\"], [0.5555555555555556, \"#d8576b\"], [0.6666666666666666, \"#ed7953\"], [0.7777777777777778, \"#fb9f3a\"], [0.8888888888888888, \"#fdca26\"], [1.0, \"#f0f921\"]], \"type\": \"surface\"}], \"table\": [{\"cells\": {\"fill\": {\"color\": \"#EBF0F8\"}, \"line\": {\"color\": \"white\"}}, \"header\": {\"fill\": {\"color\": \"#C8D4E3\"}, \"line\": {\"color\": \"white\"}}, \"type\": \"table\"}]}, \"layout\": {\"annotationdefaults\": {\"arrowcolor\": \"#2a3f5f\", \"arrowhead\": 0, \"arrowwidth\": 1}, \"coloraxis\": {\"colorbar\": {\"outlinewidth\": 0, \"ticks\": \"\"}}, \"colorscale\": {\"diverging\": [[0, \"#8e0152\"], [0.1, \"#c51b7d\"], [0.2, \"#de77ae\"], [0.3, \"#f1b6da\"], [0.4, \"#fde0ef\"], [0.5, \"#f7f7f7\"], [0.6, \"#e6f5d0\"], [0.7, \"#b8e186\"], [0.8, \"#7fbc41\"], [0.9, \"#4d9221\"], [1, \"#276419\"]], \"sequential\": [[0.0, \"#0d0887\"], [0.1111111111111111, \"#46039f\"], [0.2222222222222222, \"#7201a8\"], [0.3333333333333333, \"#9c179e\"], [0.4444444444444444, \"#bd3786\"], [0.5555555555555556, \"#d8576b\"], [0.6666666666666666, \"#ed7953\"], [0.7777777777777778, \"#fb9f3a\"], [0.8888888888888888, \"#fdca26\"], [1.0, \"#f0f921\"]], \"sequentialminus\": [[0.0, \"#0d0887\"], [0.1111111111111111, \"#46039f\"], [0.2222222222222222, \"#7201a8\"], [0.3333333333333333, \"#9c179e\"], [0.4444444444444444, \"#bd3786\"], [0.5555555555555556, \"#d8576b\"], [0.6666666666666666, \"#ed7953\"], [0.7777777777777778, \"#fb9f3a\"], [0.8888888888888888, \"#fdca26\"], [1.0, \"#f0f921\"]]}, \"colorway\": [\"#636efa\", \"#EF553B\", \"#00cc96\", \"#ab63fa\", \"#FFA15A\", \"#19d3f3\", \"#FF6692\", \"#B6E880\", \"#FF97FF\", \"#FECB52\"], \"font\": {\"color\": \"#2a3f5f\"}, \"geo\": {\"bgcolor\": \"white\", \"lakecolor\": \"white\", \"landcolor\": \"#E5ECF6\", \"showlakes\": true, \"showland\": true, \"subunitcolor\": \"white\"}, \"hoverlabel\": {\"align\": \"left\"}, \"hovermode\": \"closest\", \"mapbox\": {\"style\": \"light\"}, \"paper_bgcolor\": \"white\", \"plot_bgcolor\": \"#E5ECF6\", \"polar\": {\"angularaxis\": {\"gridcolor\": \"white\", \"linecolor\": \"white\", \"ticks\": \"\"}, \"bgcolor\": \"#E5ECF6\", \"radialaxis\": {\"gridcolor\": \"white\", \"linecolor\": \"white\", \"ticks\": \"\"}}, \"scene\": {\"xaxis\": {\"backgroundcolor\": \"#E5ECF6\", \"gridcolor\": \"white\", \"gridwidth\": 2, \"linecolor\": \"white\", \"showbackground\": true, \"ticks\": \"\", \"zerolinecolor\": \"white\"}, \"yaxis\": {\"backgroundcolor\": \"#E5ECF6\", \"gridcolor\": \"white\", \"gridwidth\": 2, \"linecolor\": \"white\", \"showbackground\": true, \"ticks\": \"\", \"zerolinecolor\": \"white\"}, \"zaxis\": {\"backgroundcolor\": \"#E5ECF6\", \"gridcolor\": \"white\", \"gridwidth\": 2, \"linecolor\": \"white\", \"showbackground\": true, \"ticks\": \"\", \"zerolinecolor\": \"white\"}}, \"shapedefaults\": {\"line\": {\"color\": \"#2a3f5f\"}}, \"ternary\": {\"aaxis\": {\"gridcolor\": \"white\", \"linecolor\": \"white\", \"ticks\": \"\"}, \"baxis\": {\"gridcolor\": \"white\", \"linecolor\": \"white\", \"ticks\": \"\"}, \"bgcolor\": \"#E5ECF6\", \"caxis\": {\"gridcolor\": \"white\", \"linecolor\": \"white\", \"ticks\": \"\"}}, \"title\": {\"x\": 0.05}, \"xaxis\": {\"automargin\": true, \"gridcolor\": \"white\", \"linecolor\": \"white\", \"ticks\": \"\", \"title\": {\"standoff\": 15}, \"zerolinecolor\": \"white\", \"zerolinewidth\": 2}, \"yaxis\": {\"automargin\": true, \"gridcolor\": \"white\", \"linecolor\": \"white\", \"ticks\": \"\", \"title\": {\"standoff\": 15}, \"zerolinecolor\": \"white\", \"zerolinewidth\": 2}}}, \"title\": {\"text\": \"Girth of tree vs model residuals\"}, \"xaxis\": {\"anchor\": \"y\", \"domain\": [0.0, 1.0], \"title\": {\"text\": \"d\"}}, \"yaxis\": {\"anchor\": \"x\", \"domain\": [0.0, 1.0], \"title\": {\"text\": \"residuals\"}}},\n",
       "                        {\"responsive\": true}\n",
       "                    ).then(function(){\n",
       "                            \n",
       "var gd = document.getElementById('142a9557-2643-4cb7-b420-9e0728aae745');\n",
       "var x = new MutationObserver(function (mutations, observer) {{\n",
       "        var display = window.getComputedStyle(gd).display;\n",
       "        if (!display || display === 'none') {{\n",
       "            console.log([gd, 'removed!']);\n",
       "            Plotly.purge(gd);\n",
       "            observer.disconnect();\n",
       "        }}\n",
       "}});\n",
       "\n",
       "// Listen for the removal of the full notebook cells\n",
       "var notebookContainer = gd.closest('#notebook-container');\n",
       "if (notebookContainer) {{\n",
       "    x.observe(notebookContainer, {childList: true});\n",
       "}}\n",
       "\n",
       "// Listen for the clearing of the current output cell\n",
       "var outputEl = gd.closest('.output');\n",
       "if (outputEl) {{\n",
       "    x.observe(outputEl, {childList: true});\n",
       "}}\n",
       "\n",
       "                        })\n",
       "                };\n",
       "                });\n",
       "            </script>\n",
       "        </div>"
      ]
     },
     "metadata": {},
     "output_type": "display_data"
    }
   ],
   "source": [
    "trees_df[\"residuals\"] = trees_model0.resid\n",
    "px.scatter(trees_df, \"d\", \"residuals\", title=\"Girth of tree vs model residuals\")"
   ]
  },
  {
   "cell_type": "code",
   "execution_count": 46,
   "metadata": {},
   "outputs": [
    {
     "data": {
      "application/vnd.plotly.v1+json": {
       "config": {
        "plotlyServerURL": "https://plot.ly"
       },
       "data": [
        {
         "hovertemplate": "h=%{x}<br>residuals=%{y}<extra></extra>",
         "legendgroup": "",
         "marker": {
          "color": "#636efa",
          "symbol": "circle"
         },
         "mode": "markers",
         "name": "",
         "orientation": "v",
         "showlegend": false,
         "type": "scatter",
         "x": [
          70,
          65,
          63,
          72,
          81,
          83,
          66,
          75,
          80,
          75,
          79,
          76,
          76,
          69,
          75,
          74,
          85,
          86,
          71,
          64,
          78,
          80,
          74,
          72,
          77,
          81,
          82,
          80,
          80,
          80,
          87
         ],
         "xaxis": "x",
         "y": [
          5.462340346206407,
          5.746148366524672,
          5.3830187344105696,
          0.5258847710784735,
          -1.0690084377273443,
          -1.3183269565185078,
          -0.592688074962064,
          -1.0459491831643888,
          1.1869785953103502,
          -0.2875812837678886,
          2.1845977289515446,
          -0.4684646186160961,
          -0.06846461861609754,
          0.7938458701915749,
          -4.854109686181896,
          -5.652202904652963,
          2.2160335186553084,
          -6.406481916796402,
          -4.900977604332859,
          -3.797035014921704,
          0.11181560504896026,
          -4.308318964043945,
          0.9147402905190205,
          -3.468997995517846,
          -2.2777023176466216,
          4.457132242357062,
          3.476248907508861,
          4.8714871747912625,
          -2.3993288755104842,
          -2.8993288755104842,
          8.484695176931055
         ],
         "yaxis": "y"
        }
       ],
       "layout": {
        "legend": {
         "tracegroupgap": 0
        },
        "template": {
         "data": {
          "bar": [
           {
            "error_x": {
             "color": "#2a3f5f"
            },
            "error_y": {
             "color": "#2a3f5f"
            },
            "marker": {
             "line": {
              "color": "#E5ECF6",
              "width": 0.5
             }
            },
            "type": "bar"
           }
          ],
          "barpolar": [
           {
            "marker": {
             "line": {
              "color": "#E5ECF6",
              "width": 0.5
             }
            },
            "type": "barpolar"
           }
          ],
          "carpet": [
           {
            "aaxis": {
             "endlinecolor": "#2a3f5f",
             "gridcolor": "white",
             "linecolor": "white",
             "minorgridcolor": "white",
             "startlinecolor": "#2a3f5f"
            },
            "baxis": {
             "endlinecolor": "#2a3f5f",
             "gridcolor": "white",
             "linecolor": "white",
             "minorgridcolor": "white",
             "startlinecolor": "#2a3f5f"
            },
            "type": "carpet"
           }
          ],
          "choropleth": [
           {
            "colorbar": {
             "outlinewidth": 0,
             "ticks": ""
            },
            "type": "choropleth"
           }
          ],
          "contour": [
           {
            "colorbar": {
             "outlinewidth": 0,
             "ticks": ""
            },
            "colorscale": [
             [
              0,
              "#0d0887"
             ],
             [
              0.1111111111111111,
              "#46039f"
             ],
             [
              0.2222222222222222,
              "#7201a8"
             ],
             [
              0.3333333333333333,
              "#9c179e"
             ],
             [
              0.4444444444444444,
              "#bd3786"
             ],
             [
              0.5555555555555556,
              "#d8576b"
             ],
             [
              0.6666666666666666,
              "#ed7953"
             ],
             [
              0.7777777777777778,
              "#fb9f3a"
             ],
             [
              0.8888888888888888,
              "#fdca26"
             ],
             [
              1,
              "#f0f921"
             ]
            ],
            "type": "contour"
           }
          ],
          "contourcarpet": [
           {
            "colorbar": {
             "outlinewidth": 0,
             "ticks": ""
            },
            "type": "contourcarpet"
           }
          ],
          "heatmap": [
           {
            "colorbar": {
             "outlinewidth": 0,
             "ticks": ""
            },
            "colorscale": [
             [
              0,
              "#0d0887"
             ],
             [
              0.1111111111111111,
              "#46039f"
             ],
             [
              0.2222222222222222,
              "#7201a8"
             ],
             [
              0.3333333333333333,
              "#9c179e"
             ],
             [
              0.4444444444444444,
              "#bd3786"
             ],
             [
              0.5555555555555556,
              "#d8576b"
             ],
             [
              0.6666666666666666,
              "#ed7953"
             ],
             [
              0.7777777777777778,
              "#fb9f3a"
             ],
             [
              0.8888888888888888,
              "#fdca26"
             ],
             [
              1,
              "#f0f921"
             ]
            ],
            "type": "heatmap"
           }
          ],
          "heatmapgl": [
           {
            "colorbar": {
             "outlinewidth": 0,
             "ticks": ""
            },
            "colorscale": [
             [
              0,
              "#0d0887"
             ],
             [
              0.1111111111111111,
              "#46039f"
             ],
             [
              0.2222222222222222,
              "#7201a8"
             ],
             [
              0.3333333333333333,
              "#9c179e"
             ],
             [
              0.4444444444444444,
              "#bd3786"
             ],
             [
              0.5555555555555556,
              "#d8576b"
             ],
             [
              0.6666666666666666,
              "#ed7953"
             ],
             [
              0.7777777777777778,
              "#fb9f3a"
             ],
             [
              0.8888888888888888,
              "#fdca26"
             ],
             [
              1,
              "#f0f921"
             ]
            ],
            "type": "heatmapgl"
           }
          ],
          "histogram": [
           {
            "marker": {
             "colorbar": {
              "outlinewidth": 0,
              "ticks": ""
             }
            },
            "type": "histogram"
           }
          ],
          "histogram2d": [
           {
            "colorbar": {
             "outlinewidth": 0,
             "ticks": ""
            },
            "colorscale": [
             [
              0,
              "#0d0887"
             ],
             [
              0.1111111111111111,
              "#46039f"
             ],
             [
              0.2222222222222222,
              "#7201a8"
             ],
             [
              0.3333333333333333,
              "#9c179e"
             ],
             [
              0.4444444444444444,
              "#bd3786"
             ],
             [
              0.5555555555555556,
              "#d8576b"
             ],
             [
              0.6666666666666666,
              "#ed7953"
             ],
             [
              0.7777777777777778,
              "#fb9f3a"
             ],
             [
              0.8888888888888888,
              "#fdca26"
             ],
             [
              1,
              "#f0f921"
             ]
            ],
            "type": "histogram2d"
           }
          ],
          "histogram2dcontour": [
           {
            "colorbar": {
             "outlinewidth": 0,
             "ticks": ""
            },
            "colorscale": [
             [
              0,
              "#0d0887"
             ],
             [
              0.1111111111111111,
              "#46039f"
             ],
             [
              0.2222222222222222,
              "#7201a8"
             ],
             [
              0.3333333333333333,
              "#9c179e"
             ],
             [
              0.4444444444444444,
              "#bd3786"
             ],
             [
              0.5555555555555556,
              "#d8576b"
             ],
             [
              0.6666666666666666,
              "#ed7953"
             ],
             [
              0.7777777777777778,
              "#fb9f3a"
             ],
             [
              0.8888888888888888,
              "#fdca26"
             ],
             [
              1,
              "#f0f921"
             ]
            ],
            "type": "histogram2dcontour"
           }
          ],
          "mesh3d": [
           {
            "colorbar": {
             "outlinewidth": 0,
             "ticks": ""
            },
            "type": "mesh3d"
           }
          ],
          "parcoords": [
           {
            "line": {
             "colorbar": {
              "outlinewidth": 0,
              "ticks": ""
             }
            },
            "type": "parcoords"
           }
          ],
          "pie": [
           {
            "automargin": true,
            "type": "pie"
           }
          ],
          "scatter": [
           {
            "marker": {
             "colorbar": {
              "outlinewidth": 0,
              "ticks": ""
             }
            },
            "type": "scatter"
           }
          ],
          "scatter3d": [
           {
            "line": {
             "colorbar": {
              "outlinewidth": 0,
              "ticks": ""
             }
            },
            "marker": {
             "colorbar": {
              "outlinewidth": 0,
              "ticks": ""
             }
            },
            "type": "scatter3d"
           }
          ],
          "scattercarpet": [
           {
            "marker": {
             "colorbar": {
              "outlinewidth": 0,
              "ticks": ""
             }
            },
            "type": "scattercarpet"
           }
          ],
          "scattergeo": [
           {
            "marker": {
             "colorbar": {
              "outlinewidth": 0,
              "ticks": ""
             }
            },
            "type": "scattergeo"
           }
          ],
          "scattergl": [
           {
            "marker": {
             "colorbar": {
              "outlinewidth": 0,
              "ticks": ""
             }
            },
            "type": "scattergl"
           }
          ],
          "scattermapbox": [
           {
            "marker": {
             "colorbar": {
              "outlinewidth": 0,
              "ticks": ""
             }
            },
            "type": "scattermapbox"
           }
          ],
          "scatterpolar": [
           {
            "marker": {
             "colorbar": {
              "outlinewidth": 0,
              "ticks": ""
             }
            },
            "type": "scatterpolar"
           }
          ],
          "scatterpolargl": [
           {
            "marker": {
             "colorbar": {
              "outlinewidth": 0,
              "ticks": ""
             }
            },
            "type": "scatterpolargl"
           }
          ],
          "scatterternary": [
           {
            "marker": {
             "colorbar": {
              "outlinewidth": 0,
              "ticks": ""
             }
            },
            "type": "scatterternary"
           }
          ],
          "surface": [
           {
            "colorbar": {
             "outlinewidth": 0,
             "ticks": ""
            },
            "colorscale": [
             [
              0,
              "#0d0887"
             ],
             [
              0.1111111111111111,
              "#46039f"
             ],
             [
              0.2222222222222222,
              "#7201a8"
             ],
             [
              0.3333333333333333,
              "#9c179e"
             ],
             [
              0.4444444444444444,
              "#bd3786"
             ],
             [
              0.5555555555555556,
              "#d8576b"
             ],
             [
              0.6666666666666666,
              "#ed7953"
             ],
             [
              0.7777777777777778,
              "#fb9f3a"
             ],
             [
              0.8888888888888888,
              "#fdca26"
             ],
             [
              1,
              "#f0f921"
             ]
            ],
            "type": "surface"
           }
          ],
          "table": [
           {
            "cells": {
             "fill": {
              "color": "#EBF0F8"
             },
             "line": {
              "color": "white"
             }
            },
            "header": {
             "fill": {
              "color": "#C8D4E3"
             },
             "line": {
              "color": "white"
             }
            },
            "type": "table"
           }
          ]
         },
         "layout": {
          "annotationdefaults": {
           "arrowcolor": "#2a3f5f",
           "arrowhead": 0,
           "arrowwidth": 1
          },
          "coloraxis": {
           "colorbar": {
            "outlinewidth": 0,
            "ticks": ""
           }
          },
          "colorscale": {
           "diverging": [
            [
             0,
             "#8e0152"
            ],
            [
             0.1,
             "#c51b7d"
            ],
            [
             0.2,
             "#de77ae"
            ],
            [
             0.3,
             "#f1b6da"
            ],
            [
             0.4,
             "#fde0ef"
            ],
            [
             0.5,
             "#f7f7f7"
            ],
            [
             0.6,
             "#e6f5d0"
            ],
            [
             0.7,
             "#b8e186"
            ],
            [
             0.8,
             "#7fbc41"
            ],
            [
             0.9,
             "#4d9221"
            ],
            [
             1,
             "#276419"
            ]
           ],
           "sequential": [
            [
             0,
             "#0d0887"
            ],
            [
             0.1111111111111111,
             "#46039f"
            ],
            [
             0.2222222222222222,
             "#7201a8"
            ],
            [
             0.3333333333333333,
             "#9c179e"
            ],
            [
             0.4444444444444444,
             "#bd3786"
            ],
            [
             0.5555555555555556,
             "#d8576b"
            ],
            [
             0.6666666666666666,
             "#ed7953"
            ],
            [
             0.7777777777777778,
             "#fb9f3a"
            ],
            [
             0.8888888888888888,
             "#fdca26"
            ],
            [
             1,
             "#f0f921"
            ]
           ],
           "sequentialminus": [
            [
             0,
             "#0d0887"
            ],
            [
             0.1111111111111111,
             "#46039f"
            ],
            [
             0.2222222222222222,
             "#7201a8"
            ],
            [
             0.3333333333333333,
             "#9c179e"
            ],
            [
             0.4444444444444444,
             "#bd3786"
            ],
            [
             0.5555555555555556,
             "#d8576b"
            ],
            [
             0.6666666666666666,
             "#ed7953"
            ],
            [
             0.7777777777777778,
             "#fb9f3a"
            ],
            [
             0.8888888888888888,
             "#fdca26"
            ],
            [
             1,
             "#f0f921"
            ]
           ]
          },
          "colorway": [
           "#636efa",
           "#EF553B",
           "#00cc96",
           "#ab63fa",
           "#FFA15A",
           "#19d3f3",
           "#FF6692",
           "#B6E880",
           "#FF97FF",
           "#FECB52"
          ],
          "font": {
           "color": "#2a3f5f"
          },
          "geo": {
           "bgcolor": "white",
           "lakecolor": "white",
           "landcolor": "#E5ECF6",
           "showlakes": true,
           "showland": true,
           "subunitcolor": "white"
          },
          "hoverlabel": {
           "align": "left"
          },
          "hovermode": "closest",
          "mapbox": {
           "style": "light"
          },
          "paper_bgcolor": "white",
          "plot_bgcolor": "#E5ECF6",
          "polar": {
           "angularaxis": {
            "gridcolor": "white",
            "linecolor": "white",
            "ticks": ""
           },
           "bgcolor": "#E5ECF6",
           "radialaxis": {
            "gridcolor": "white",
            "linecolor": "white",
            "ticks": ""
           }
          },
          "scene": {
           "xaxis": {
            "backgroundcolor": "#E5ECF6",
            "gridcolor": "white",
            "gridwidth": 2,
            "linecolor": "white",
            "showbackground": true,
            "ticks": "",
            "zerolinecolor": "white"
           },
           "yaxis": {
            "backgroundcolor": "#E5ECF6",
            "gridcolor": "white",
            "gridwidth": 2,
            "linecolor": "white",
            "showbackground": true,
            "ticks": "",
            "zerolinecolor": "white"
           },
           "zaxis": {
            "backgroundcolor": "#E5ECF6",
            "gridcolor": "white",
            "gridwidth": 2,
            "linecolor": "white",
            "showbackground": true,
            "ticks": "",
            "zerolinecolor": "white"
           }
          },
          "shapedefaults": {
           "line": {
            "color": "#2a3f5f"
           }
          },
          "ternary": {
           "aaxis": {
            "gridcolor": "white",
            "linecolor": "white",
            "ticks": ""
           },
           "baxis": {
            "gridcolor": "white",
            "linecolor": "white",
            "ticks": ""
           },
           "bgcolor": "#E5ECF6",
           "caxis": {
            "gridcolor": "white",
            "linecolor": "white",
            "ticks": ""
           }
          },
          "title": {
           "x": 0.05
          },
          "xaxis": {
           "automargin": true,
           "gridcolor": "white",
           "linecolor": "white",
           "ticks": "",
           "title": {
            "standoff": 15
           },
           "zerolinecolor": "white",
           "zerolinewidth": 2
          },
          "yaxis": {
           "automargin": true,
           "gridcolor": "white",
           "linecolor": "white",
           "ticks": "",
           "title": {
            "standoff": 15
           },
           "zerolinecolor": "white",
           "zerolinewidth": 2
          }
         }
        },
        "title": {
         "text": "Height of tree vs model residuals"
        },
        "xaxis": {
         "anchor": "y",
         "domain": [
          0,
          1
         ],
         "title": {
          "text": "h"
         }
        },
        "yaxis": {
         "anchor": "x",
         "domain": [
          0,
          1
         ],
         "title": {
          "text": "residuals"
         }
        }
       }
      },
      "text/html": [
       "<div>\n",
       "        \n",
       "        \n",
       "            <div id=\"1da79f82-eff8-4d93-a8e2-3cf0be0abf0b\" class=\"plotly-graph-div\" style=\"height:525px; width:100%;\"></div>\n",
       "            <script type=\"text/javascript\">\n",
       "                require([\"plotly\"], function(Plotly) {\n",
       "                    window.PLOTLYENV=window.PLOTLYENV || {};\n",
       "                    \n",
       "                if (document.getElementById(\"1da79f82-eff8-4d93-a8e2-3cf0be0abf0b\")) {\n",
       "                    Plotly.newPlot(\n",
       "                        '1da79f82-eff8-4d93-a8e2-3cf0be0abf0b',\n",
       "                        [{\"hovertemplate\": \"h=%{x}<br>residuals=%{y}<extra></extra>\", \"legendgroup\": \"\", \"marker\": {\"color\": \"#636efa\", \"symbol\": \"circle\"}, \"mode\": \"markers\", \"name\": \"\", \"orientation\": \"v\", \"showlegend\": false, \"type\": \"scatter\", \"x\": [70, 65, 63, 72, 81, 83, 66, 75, 80, 75, 79, 76, 76, 69, 75, 74, 85, 86, 71, 64, 78, 80, 74, 72, 77, 81, 82, 80, 80, 80, 87], \"xaxis\": \"x\", \"y\": [5.462340346206407, 5.746148366524672, 5.3830187344105696, 0.5258847710784735, -1.0690084377273443, -1.3183269565185078, -0.592688074962064, -1.0459491831643888, 1.1869785953103502, -0.2875812837678886, 2.1845977289515446, -0.4684646186160961, -0.06846461861609754, 0.7938458701915749, -4.854109686181896, -5.652202904652963, 2.2160335186553084, -6.406481916796402, -4.900977604332859, -3.797035014921704, 0.11181560504896026, -4.308318964043945, 0.9147402905190205, -3.468997995517846, -2.2777023176466216, 4.457132242357062, 3.476248907508861, 4.8714871747912625, -2.3993288755104842, -2.8993288755104842, 8.484695176931055], \"yaxis\": \"y\"}],\n",
       "                        {\"legend\": {\"tracegroupgap\": 0}, \"template\": {\"data\": {\"bar\": [{\"error_x\": {\"color\": \"#2a3f5f\"}, \"error_y\": {\"color\": \"#2a3f5f\"}, \"marker\": {\"line\": {\"color\": \"#E5ECF6\", \"width\": 0.5}}, \"type\": \"bar\"}], \"barpolar\": [{\"marker\": {\"line\": {\"color\": \"#E5ECF6\", \"width\": 0.5}}, \"type\": \"barpolar\"}], \"carpet\": [{\"aaxis\": {\"endlinecolor\": \"#2a3f5f\", \"gridcolor\": \"white\", \"linecolor\": \"white\", \"minorgridcolor\": \"white\", \"startlinecolor\": \"#2a3f5f\"}, \"baxis\": {\"endlinecolor\": \"#2a3f5f\", \"gridcolor\": \"white\", \"linecolor\": \"white\", \"minorgridcolor\": \"white\", \"startlinecolor\": \"#2a3f5f\"}, \"type\": \"carpet\"}], \"choropleth\": [{\"colorbar\": {\"outlinewidth\": 0, \"ticks\": \"\"}, \"type\": \"choropleth\"}], \"contour\": [{\"colorbar\": {\"outlinewidth\": 0, \"ticks\": \"\"}, \"colorscale\": [[0.0, \"#0d0887\"], [0.1111111111111111, \"#46039f\"], [0.2222222222222222, \"#7201a8\"], [0.3333333333333333, \"#9c179e\"], [0.4444444444444444, \"#bd3786\"], [0.5555555555555556, \"#d8576b\"], [0.6666666666666666, \"#ed7953\"], [0.7777777777777778, \"#fb9f3a\"], [0.8888888888888888, \"#fdca26\"], [1.0, \"#f0f921\"]], \"type\": \"contour\"}], \"contourcarpet\": [{\"colorbar\": {\"outlinewidth\": 0, \"ticks\": \"\"}, \"type\": \"contourcarpet\"}], \"heatmap\": [{\"colorbar\": {\"outlinewidth\": 0, \"ticks\": \"\"}, \"colorscale\": [[0.0, \"#0d0887\"], [0.1111111111111111, \"#46039f\"], [0.2222222222222222, \"#7201a8\"], [0.3333333333333333, \"#9c179e\"], [0.4444444444444444, \"#bd3786\"], [0.5555555555555556, \"#d8576b\"], [0.6666666666666666, \"#ed7953\"], [0.7777777777777778, \"#fb9f3a\"], [0.8888888888888888, \"#fdca26\"], [1.0, \"#f0f921\"]], \"type\": \"heatmap\"}], \"heatmapgl\": [{\"colorbar\": {\"outlinewidth\": 0, \"ticks\": \"\"}, \"colorscale\": [[0.0, \"#0d0887\"], [0.1111111111111111, \"#46039f\"], [0.2222222222222222, \"#7201a8\"], [0.3333333333333333, \"#9c179e\"], [0.4444444444444444, \"#bd3786\"], [0.5555555555555556, \"#d8576b\"], [0.6666666666666666, \"#ed7953\"], [0.7777777777777778, \"#fb9f3a\"], [0.8888888888888888, \"#fdca26\"], [1.0, \"#f0f921\"]], \"type\": \"heatmapgl\"}], \"histogram\": [{\"marker\": {\"colorbar\": {\"outlinewidth\": 0, \"ticks\": \"\"}}, \"type\": \"histogram\"}], \"histogram2d\": [{\"colorbar\": {\"outlinewidth\": 0, \"ticks\": \"\"}, \"colorscale\": [[0.0, \"#0d0887\"], [0.1111111111111111, \"#46039f\"], [0.2222222222222222, \"#7201a8\"], [0.3333333333333333, \"#9c179e\"], [0.4444444444444444, \"#bd3786\"], [0.5555555555555556, \"#d8576b\"], [0.6666666666666666, \"#ed7953\"], [0.7777777777777778, \"#fb9f3a\"], [0.8888888888888888, \"#fdca26\"], [1.0, \"#f0f921\"]], \"type\": \"histogram2d\"}], \"histogram2dcontour\": [{\"colorbar\": {\"outlinewidth\": 0, \"ticks\": \"\"}, \"colorscale\": [[0.0, \"#0d0887\"], [0.1111111111111111, \"#46039f\"], [0.2222222222222222, \"#7201a8\"], [0.3333333333333333, \"#9c179e\"], [0.4444444444444444, \"#bd3786\"], [0.5555555555555556, \"#d8576b\"], [0.6666666666666666, \"#ed7953\"], [0.7777777777777778, \"#fb9f3a\"], [0.8888888888888888, \"#fdca26\"], [1.0, \"#f0f921\"]], \"type\": \"histogram2dcontour\"}], \"mesh3d\": [{\"colorbar\": {\"outlinewidth\": 0, \"ticks\": \"\"}, \"type\": \"mesh3d\"}], \"parcoords\": [{\"line\": {\"colorbar\": {\"outlinewidth\": 0, \"ticks\": \"\"}}, \"type\": \"parcoords\"}], \"pie\": [{\"automargin\": true, \"type\": \"pie\"}], \"scatter\": [{\"marker\": {\"colorbar\": {\"outlinewidth\": 0, \"ticks\": \"\"}}, \"type\": \"scatter\"}], \"scatter3d\": [{\"line\": {\"colorbar\": {\"outlinewidth\": 0, \"ticks\": \"\"}}, \"marker\": {\"colorbar\": {\"outlinewidth\": 0, \"ticks\": \"\"}}, \"type\": \"scatter3d\"}], \"scattercarpet\": [{\"marker\": {\"colorbar\": {\"outlinewidth\": 0, \"ticks\": \"\"}}, \"type\": \"scattercarpet\"}], \"scattergeo\": [{\"marker\": {\"colorbar\": {\"outlinewidth\": 0, \"ticks\": \"\"}}, \"type\": \"scattergeo\"}], \"scattergl\": [{\"marker\": {\"colorbar\": {\"outlinewidth\": 0, \"ticks\": \"\"}}, \"type\": \"scattergl\"}], \"scattermapbox\": [{\"marker\": {\"colorbar\": {\"outlinewidth\": 0, \"ticks\": \"\"}}, \"type\": \"scattermapbox\"}], \"scatterpolar\": [{\"marker\": {\"colorbar\": {\"outlinewidth\": 0, \"ticks\": \"\"}}, \"type\": \"scatterpolar\"}], \"scatterpolargl\": [{\"marker\": {\"colorbar\": {\"outlinewidth\": 0, \"ticks\": \"\"}}, \"type\": \"scatterpolargl\"}], \"scatterternary\": [{\"marker\": {\"colorbar\": {\"outlinewidth\": 0, \"ticks\": \"\"}}, \"type\": \"scatterternary\"}], \"surface\": [{\"colorbar\": {\"outlinewidth\": 0, \"ticks\": \"\"}, \"colorscale\": [[0.0, \"#0d0887\"], [0.1111111111111111, \"#46039f\"], [0.2222222222222222, \"#7201a8\"], [0.3333333333333333, \"#9c179e\"], [0.4444444444444444, \"#bd3786\"], [0.5555555555555556, \"#d8576b\"], [0.6666666666666666, \"#ed7953\"], [0.7777777777777778, \"#fb9f3a\"], [0.8888888888888888, \"#fdca26\"], [1.0, \"#f0f921\"]], \"type\": \"surface\"}], \"table\": [{\"cells\": {\"fill\": {\"color\": \"#EBF0F8\"}, \"line\": {\"color\": \"white\"}}, \"header\": {\"fill\": {\"color\": \"#C8D4E3\"}, \"line\": {\"color\": \"white\"}}, \"type\": \"table\"}]}, \"layout\": {\"annotationdefaults\": {\"arrowcolor\": \"#2a3f5f\", \"arrowhead\": 0, \"arrowwidth\": 1}, \"coloraxis\": {\"colorbar\": {\"outlinewidth\": 0, \"ticks\": \"\"}}, \"colorscale\": {\"diverging\": [[0, \"#8e0152\"], [0.1, \"#c51b7d\"], [0.2, \"#de77ae\"], [0.3, \"#f1b6da\"], [0.4, \"#fde0ef\"], [0.5, \"#f7f7f7\"], [0.6, \"#e6f5d0\"], [0.7, \"#b8e186\"], [0.8, \"#7fbc41\"], [0.9, \"#4d9221\"], [1, \"#276419\"]], \"sequential\": [[0.0, \"#0d0887\"], [0.1111111111111111, \"#46039f\"], [0.2222222222222222, \"#7201a8\"], [0.3333333333333333, \"#9c179e\"], [0.4444444444444444, \"#bd3786\"], [0.5555555555555556, \"#d8576b\"], [0.6666666666666666, \"#ed7953\"], [0.7777777777777778, \"#fb9f3a\"], [0.8888888888888888, \"#fdca26\"], [1.0, \"#f0f921\"]], \"sequentialminus\": [[0.0, \"#0d0887\"], [0.1111111111111111, \"#46039f\"], [0.2222222222222222, \"#7201a8\"], [0.3333333333333333, \"#9c179e\"], [0.4444444444444444, \"#bd3786\"], [0.5555555555555556, \"#d8576b\"], [0.6666666666666666, \"#ed7953\"], [0.7777777777777778, \"#fb9f3a\"], [0.8888888888888888, \"#fdca26\"], [1.0, \"#f0f921\"]]}, \"colorway\": [\"#636efa\", \"#EF553B\", \"#00cc96\", \"#ab63fa\", \"#FFA15A\", \"#19d3f3\", \"#FF6692\", \"#B6E880\", \"#FF97FF\", \"#FECB52\"], \"font\": {\"color\": \"#2a3f5f\"}, \"geo\": {\"bgcolor\": \"white\", \"lakecolor\": \"white\", \"landcolor\": \"#E5ECF6\", \"showlakes\": true, \"showland\": true, \"subunitcolor\": \"white\"}, \"hoverlabel\": {\"align\": \"left\"}, \"hovermode\": \"closest\", \"mapbox\": {\"style\": \"light\"}, \"paper_bgcolor\": \"white\", \"plot_bgcolor\": \"#E5ECF6\", \"polar\": {\"angularaxis\": {\"gridcolor\": \"white\", \"linecolor\": \"white\", \"ticks\": \"\"}, \"bgcolor\": \"#E5ECF6\", \"radialaxis\": {\"gridcolor\": \"white\", \"linecolor\": \"white\", \"ticks\": \"\"}}, \"scene\": {\"xaxis\": {\"backgroundcolor\": \"#E5ECF6\", \"gridcolor\": \"white\", \"gridwidth\": 2, \"linecolor\": \"white\", \"showbackground\": true, \"ticks\": \"\", \"zerolinecolor\": \"white\"}, \"yaxis\": {\"backgroundcolor\": \"#E5ECF6\", \"gridcolor\": \"white\", \"gridwidth\": 2, \"linecolor\": \"white\", \"showbackground\": true, \"ticks\": \"\", \"zerolinecolor\": \"white\"}, \"zaxis\": {\"backgroundcolor\": \"#E5ECF6\", \"gridcolor\": \"white\", \"gridwidth\": 2, \"linecolor\": \"white\", \"showbackground\": true, \"ticks\": \"\", \"zerolinecolor\": \"white\"}}, \"shapedefaults\": {\"line\": {\"color\": \"#2a3f5f\"}}, \"ternary\": {\"aaxis\": {\"gridcolor\": \"white\", \"linecolor\": \"white\", \"ticks\": \"\"}, \"baxis\": {\"gridcolor\": \"white\", \"linecolor\": \"white\", \"ticks\": \"\"}, \"bgcolor\": \"#E5ECF6\", \"caxis\": {\"gridcolor\": \"white\", \"linecolor\": \"white\", \"ticks\": \"\"}}, \"title\": {\"x\": 0.05}, \"xaxis\": {\"automargin\": true, \"gridcolor\": \"white\", \"linecolor\": \"white\", \"ticks\": \"\", \"title\": {\"standoff\": 15}, \"zerolinecolor\": \"white\", \"zerolinewidth\": 2}, \"yaxis\": {\"automargin\": true, \"gridcolor\": \"white\", \"linecolor\": \"white\", \"ticks\": \"\", \"title\": {\"standoff\": 15}, \"zerolinecolor\": \"white\", \"zerolinewidth\": 2}}}, \"title\": {\"text\": \"Height of tree vs model residuals\"}, \"xaxis\": {\"anchor\": \"y\", \"domain\": [0.0, 1.0], \"title\": {\"text\": \"h\"}}, \"yaxis\": {\"anchor\": \"x\", \"domain\": [0.0, 1.0], \"title\": {\"text\": \"residuals\"}}},\n",
       "                        {\"responsive\": true}\n",
       "                    ).then(function(){\n",
       "                            \n",
       "var gd = document.getElementById('1da79f82-eff8-4d93-a8e2-3cf0be0abf0b');\n",
       "var x = new MutationObserver(function (mutations, observer) {{\n",
       "        var display = window.getComputedStyle(gd).display;\n",
       "        if (!display || display === 'none') {{\n",
       "            console.log([gd, 'removed!']);\n",
       "            Plotly.purge(gd);\n",
       "            observer.disconnect();\n",
       "        }}\n",
       "}});\n",
       "\n",
       "// Listen for the removal of the full notebook cells\n",
       "var notebookContainer = gd.closest('#notebook-container');\n",
       "if (notebookContainer) {{\n",
       "    x.observe(notebookContainer, {childList: true});\n",
       "}}\n",
       "\n",
       "// Listen for the clearing of the current output cell\n",
       "var outputEl = gd.closest('.output');\n",
       "if (outputEl) {{\n",
       "    x.observe(outputEl, {childList: true});\n",
       "}}\n",
       "\n",
       "                        })\n",
       "                };\n",
       "                });\n",
       "            </script>\n",
       "        </div>"
      ]
     },
     "metadata": {},
     "output_type": "display_data"
    }
   ],
   "source": [
    "px.scatter(trees_df, \"h\", \"residuals\", title=\"Height of tree vs model residuals\")"
   ]
  },
  {
   "cell_type": "markdown",
   "metadata": {},
   "source": [
    "The second plot, height vs residuals, looks quite choatic - that is, there isn't really any discernable pattern. The first plot however, I'm not so happy with - it looks like there is some evidence of curvature. We could add a squared term and check it's significance."
   ]
  },
  {
   "cell_type": "code",
   "execution_count": 47,
   "metadata": {},
   "outputs": [
    {
     "data": {
      "text/html": [
       "<table class=\"simpletable\">\n",
       "<caption>OLS Regression Results</caption>\n",
       "<tr>\n",
       "  <th>Dep. Variable:</th>           <td>vol</td>       <th>  R-squared:         </th> <td>   0.977</td>\n",
       "</tr>\n",
       "<tr>\n",
       "  <th>Model:</th>                   <td>OLS</td>       <th>  Adj. R-squared:    </th> <td>   0.975</td>\n",
       "</tr>\n",
       "<tr>\n",
       "  <th>Method:</th>             <td>Least Squares</td>  <th>  F-statistic:       </th> <td>   383.2</td>\n",
       "</tr>\n",
       "<tr>\n",
       "  <th>Date:</th>             <td>Tue, 11 Aug 2020</td> <th>  Prob (F-statistic):</th> <td>3.12e-22</td>\n",
       "</tr>\n",
       "<tr>\n",
       "  <th>Time:</th>                 <td>20:12:03</td>     <th>  Log-Likelihood:    </th> <td> -71.760</td>\n",
       "</tr>\n",
       "<tr>\n",
       "  <th>No. Observations:</th>      <td>    31</td>      <th>  AIC:               </th> <td>   151.5</td>\n",
       "</tr>\n",
       "<tr>\n",
       "  <th>Df Residuals:</th>          <td>    27</td>      <th>  BIC:               </th> <td>   157.3</td>\n",
       "</tr>\n",
       "<tr>\n",
       "  <th>Df Model:</th>              <td>     3</td>      <th>                     </th>     <td> </td>   \n",
       "</tr>\n",
       "<tr>\n",
       "  <th>Covariance Type:</th>      <td>nonrobust</td>    <th>                     </th>     <td> </td>   \n",
       "</tr>\n",
       "</table>\n",
       "<table class=\"simpletable\">\n",
       "<tr>\n",
       "      <td></td>         <th>coef</th>     <th>std err</th>      <th>t</th>      <th>P>|t|</th>  <th>[0.025</th>    <th>0.975]</th>  \n",
       "</tr>\n",
       "<tr>\n",
       "  <th>Intercept</th> <td>   -9.9204</td> <td>   10.079</td> <td>   -0.984</td> <td> 0.334</td> <td>  -30.601</td> <td>   10.760</td>\n",
       "</tr>\n",
       "<tr>\n",
       "  <th>d</th>         <td>   -2.8851</td> <td>    1.310</td> <td>   -2.203</td> <td> 0.036</td> <td>   -5.573</td> <td>   -0.197</td>\n",
       "</tr>\n",
       "<tr>\n",
       "  <th>d2</th>        <td>    0.2686</td> <td>    0.046</td> <td>    5.852</td> <td> 0.000</td> <td>    0.174</td> <td>    0.363</td>\n",
       "</tr>\n",
       "<tr>\n",
       "  <th>h</th>         <td>    0.3764</td> <td>    0.088</td> <td>    4.266</td> <td> 0.000</td> <td>    0.195</td> <td>    0.557</td>\n",
       "</tr>\n",
       "</table>\n",
       "<table class=\"simpletable\">\n",
       "<tr>\n",
       "  <th>Omnibus:</th>       <td> 1.335</td> <th>  Durbin-Watson:     </th> <td>   2.057</td>\n",
       "</tr>\n",
       "<tr>\n",
       "  <th>Prob(Omnibus):</th> <td> 0.513</td> <th>  Jarque-Bera (JB):  </th> <td>   0.961</td>\n",
       "</tr>\n",
       "<tr>\n",
       "  <th>Skew:</th>          <td> 0.087</td> <th>  Prob(JB):          </th> <td>   0.619</td>\n",
       "</tr>\n",
       "<tr>\n",
       "  <th>Kurtosis:</th>      <td> 2.155</td> <th>  Cond. No.          </th> <td>4.66e+03</td>\n",
       "</tr>\n",
       "</table><br/><br/>Warnings:<br/>[1] Standard Errors assume that the covariance matrix of the errors is correctly specified.<br/>[2] The condition number is large, 4.66e+03. This might indicate that there are<br/>strong multicollinearity or other numerical problems."
      ],
      "text/plain": [
       "<class 'statsmodels.iolib.summary.Summary'>\n",
       "\"\"\"\n",
       "                            OLS Regression Results                            \n",
       "==============================================================================\n",
       "Dep. Variable:                    vol   R-squared:                       0.977\n",
       "Model:                            OLS   Adj. R-squared:                  0.975\n",
       "Method:                 Least Squares   F-statistic:                     383.2\n",
       "Date:                Tue, 11 Aug 2020   Prob (F-statistic):           3.12e-22\n",
       "Time:                        20:12:03   Log-Likelihood:                -71.760\n",
       "No. Observations:                  31   AIC:                             151.5\n",
       "Df Residuals:                      27   BIC:                             157.3\n",
       "Df Model:                           3                                         \n",
       "Covariance Type:            nonrobust                                         \n",
       "==============================================================================\n",
       "                 coef    std err          t      P>|t|      [0.025      0.975]\n",
       "------------------------------------------------------------------------------\n",
       "Intercept     -9.9204     10.079     -0.984      0.334     -30.601      10.760\n",
       "d             -2.8851      1.310     -2.203      0.036      -5.573      -0.197\n",
       "d2             0.2686      0.046      5.852      0.000       0.174       0.363\n",
       "h              0.3764      0.088      4.266      0.000       0.195       0.557\n",
       "==============================================================================\n",
       "Omnibus:                        1.335   Durbin-Watson:                   2.057\n",
       "Prob(Omnibus):                  0.513   Jarque-Bera (JB):                0.961\n",
       "Skew:                           0.087   Prob(JB):                        0.619\n",
       "Kurtosis:                       2.155   Cond. No.                     4.66e+03\n",
       "==============================================================================\n",
       "\n",
       "Warnings:\n",
       "[1] Standard Errors assume that the covariance matrix of the errors is correctly specified.\n",
       "[2] The condition number is large, 4.66e+03. This might indicate that there are\n",
       "strong multicollinearity or other numerical problems.\n",
       "\"\"\""
      ]
     },
     "execution_count": 47,
     "metadata": {},
     "output_type": "execute_result"
    }
   ],
   "source": [
    "## Assign a new column in trees_df which contains the d values, but squared\n",
    "trees_df[\"d2\"] = trees_df[\"d\"] ** 2\n",
    "## Fit a model on d, d^2 and h and return the summary\n",
    "trees_model1 = smf.ols(\"vol ~ d + d2 + h\", trees_df).fit()\n",
    "trees_model1.summary()"
   ]
  },
  {
   "cell_type": "markdown",
   "metadata": {},
   "source": [
    "Great! Looks like the squared term is significant and our $R^2$ has also improved. Let's plot the residuals once again, but against $d^2$."
   ]
  },
  {
   "cell_type": "code",
   "execution_count": 48,
   "metadata": {},
   "outputs": [
    {
     "data": {
      "application/vnd.plotly.v1+json": {
       "config": {
        "plotlyServerURL": "https://plot.ly"
       },
       "data": [
        {
         "hovertemplate": "d2=%{x}<br>residuals=%{y}<extra></extra>",
         "legendgroup": "",
         "marker": {
          "color": "#636efa",
          "symbol": "circle"
         },
         "mode": "markers",
         "name": "",
         "orientation": "v",
         "showlegend": false,
         "type": "scatter",
         "x": [
          68.89000000000001,
          73.96,
          77.44000000000001,
          110.25,
          114.48999999999998,
          116.64000000000001,
          121,
          121,
          123.21,
          125.43999999999998,
          127.69000000000001,
          129.96,
          129.96,
          136.89,
          144,
          166.41,
          166.41,
          176.89000000000001,
          187.68999999999997,
          190.44000000000003,
          196,
          201.64,
          210.25,
          256,
          265.69,
          299.29,
          306.25,
          320.40999999999997,
          324,
          324,
          424.36000000000007
         ],
         "xaxis": "x",
         "y": [
          -0.6859500111469181,
          0.6995944424551723,
          0.9945787689309142,
          -0.10177468471932727,
          -1.651203702302471,
          -1.7930086326759387,
          -0.08860252998906937,
          -0.8760882337001945,
          1.3368275894637947,
          0.20824396834276016,
          2.6868021951020964,
          0.2946990763393522,
          0.6946990763393508,
          2.233380428775444,
          -3.2693251598255024,
          -3.216195431852867,
          4.243544263611312,
          -4.193974505395303,
          -1.995255642340382,
          -0.6107483212577876,
          2.8033045641361944,
          -1.6874847391556749,
          3.723523646553886,
          -1.4855593715918332,
          -0.8049235044771947,
          4.34889271124198,
          2.9799091134013196,
          3.6830217384673674,
          -3.7928248764935546,
          -4.292824876493555,
          -0.3852773597480734
         ],
         "yaxis": "y"
        }
       ],
       "layout": {
        "legend": {
         "tracegroupgap": 0
        },
        "template": {
         "data": {
          "bar": [
           {
            "error_x": {
             "color": "#2a3f5f"
            },
            "error_y": {
             "color": "#2a3f5f"
            },
            "marker": {
             "line": {
              "color": "#E5ECF6",
              "width": 0.5
             }
            },
            "type": "bar"
           }
          ],
          "barpolar": [
           {
            "marker": {
             "line": {
              "color": "#E5ECF6",
              "width": 0.5
             }
            },
            "type": "barpolar"
           }
          ],
          "carpet": [
           {
            "aaxis": {
             "endlinecolor": "#2a3f5f",
             "gridcolor": "white",
             "linecolor": "white",
             "minorgridcolor": "white",
             "startlinecolor": "#2a3f5f"
            },
            "baxis": {
             "endlinecolor": "#2a3f5f",
             "gridcolor": "white",
             "linecolor": "white",
             "minorgridcolor": "white",
             "startlinecolor": "#2a3f5f"
            },
            "type": "carpet"
           }
          ],
          "choropleth": [
           {
            "colorbar": {
             "outlinewidth": 0,
             "ticks": ""
            },
            "type": "choropleth"
           }
          ],
          "contour": [
           {
            "colorbar": {
             "outlinewidth": 0,
             "ticks": ""
            },
            "colorscale": [
             [
              0,
              "#0d0887"
             ],
             [
              0.1111111111111111,
              "#46039f"
             ],
             [
              0.2222222222222222,
              "#7201a8"
             ],
             [
              0.3333333333333333,
              "#9c179e"
             ],
             [
              0.4444444444444444,
              "#bd3786"
             ],
             [
              0.5555555555555556,
              "#d8576b"
             ],
             [
              0.6666666666666666,
              "#ed7953"
             ],
             [
              0.7777777777777778,
              "#fb9f3a"
             ],
             [
              0.8888888888888888,
              "#fdca26"
             ],
             [
              1,
              "#f0f921"
             ]
            ],
            "type": "contour"
           }
          ],
          "contourcarpet": [
           {
            "colorbar": {
             "outlinewidth": 0,
             "ticks": ""
            },
            "type": "contourcarpet"
           }
          ],
          "heatmap": [
           {
            "colorbar": {
             "outlinewidth": 0,
             "ticks": ""
            },
            "colorscale": [
             [
              0,
              "#0d0887"
             ],
             [
              0.1111111111111111,
              "#46039f"
             ],
             [
              0.2222222222222222,
              "#7201a8"
             ],
             [
              0.3333333333333333,
              "#9c179e"
             ],
             [
              0.4444444444444444,
              "#bd3786"
             ],
             [
              0.5555555555555556,
              "#d8576b"
             ],
             [
              0.6666666666666666,
              "#ed7953"
             ],
             [
              0.7777777777777778,
              "#fb9f3a"
             ],
             [
              0.8888888888888888,
              "#fdca26"
             ],
             [
              1,
              "#f0f921"
             ]
            ],
            "type": "heatmap"
           }
          ],
          "heatmapgl": [
           {
            "colorbar": {
             "outlinewidth": 0,
             "ticks": ""
            },
            "colorscale": [
             [
              0,
              "#0d0887"
             ],
             [
              0.1111111111111111,
              "#46039f"
             ],
             [
              0.2222222222222222,
              "#7201a8"
             ],
             [
              0.3333333333333333,
              "#9c179e"
             ],
             [
              0.4444444444444444,
              "#bd3786"
             ],
             [
              0.5555555555555556,
              "#d8576b"
             ],
             [
              0.6666666666666666,
              "#ed7953"
             ],
             [
              0.7777777777777778,
              "#fb9f3a"
             ],
             [
              0.8888888888888888,
              "#fdca26"
             ],
             [
              1,
              "#f0f921"
             ]
            ],
            "type": "heatmapgl"
           }
          ],
          "histogram": [
           {
            "marker": {
             "colorbar": {
              "outlinewidth": 0,
              "ticks": ""
             }
            },
            "type": "histogram"
           }
          ],
          "histogram2d": [
           {
            "colorbar": {
             "outlinewidth": 0,
             "ticks": ""
            },
            "colorscale": [
             [
              0,
              "#0d0887"
             ],
             [
              0.1111111111111111,
              "#46039f"
             ],
             [
              0.2222222222222222,
              "#7201a8"
             ],
             [
              0.3333333333333333,
              "#9c179e"
             ],
             [
              0.4444444444444444,
              "#bd3786"
             ],
             [
              0.5555555555555556,
              "#d8576b"
             ],
             [
              0.6666666666666666,
              "#ed7953"
             ],
             [
              0.7777777777777778,
              "#fb9f3a"
             ],
             [
              0.8888888888888888,
              "#fdca26"
             ],
             [
              1,
              "#f0f921"
             ]
            ],
            "type": "histogram2d"
           }
          ],
          "histogram2dcontour": [
           {
            "colorbar": {
             "outlinewidth": 0,
             "ticks": ""
            },
            "colorscale": [
             [
              0,
              "#0d0887"
             ],
             [
              0.1111111111111111,
              "#46039f"
             ],
             [
              0.2222222222222222,
              "#7201a8"
             ],
             [
              0.3333333333333333,
              "#9c179e"
             ],
             [
              0.4444444444444444,
              "#bd3786"
             ],
             [
              0.5555555555555556,
              "#d8576b"
             ],
             [
              0.6666666666666666,
              "#ed7953"
             ],
             [
              0.7777777777777778,
              "#fb9f3a"
             ],
             [
              0.8888888888888888,
              "#fdca26"
             ],
             [
              1,
              "#f0f921"
             ]
            ],
            "type": "histogram2dcontour"
           }
          ],
          "mesh3d": [
           {
            "colorbar": {
             "outlinewidth": 0,
             "ticks": ""
            },
            "type": "mesh3d"
           }
          ],
          "parcoords": [
           {
            "line": {
             "colorbar": {
              "outlinewidth": 0,
              "ticks": ""
             }
            },
            "type": "parcoords"
           }
          ],
          "pie": [
           {
            "automargin": true,
            "type": "pie"
           }
          ],
          "scatter": [
           {
            "marker": {
             "colorbar": {
              "outlinewidth": 0,
              "ticks": ""
             }
            },
            "type": "scatter"
           }
          ],
          "scatter3d": [
           {
            "line": {
             "colorbar": {
              "outlinewidth": 0,
              "ticks": ""
             }
            },
            "marker": {
             "colorbar": {
              "outlinewidth": 0,
              "ticks": ""
             }
            },
            "type": "scatter3d"
           }
          ],
          "scattercarpet": [
           {
            "marker": {
             "colorbar": {
              "outlinewidth": 0,
              "ticks": ""
             }
            },
            "type": "scattercarpet"
           }
          ],
          "scattergeo": [
           {
            "marker": {
             "colorbar": {
              "outlinewidth": 0,
              "ticks": ""
             }
            },
            "type": "scattergeo"
           }
          ],
          "scattergl": [
           {
            "marker": {
             "colorbar": {
              "outlinewidth": 0,
              "ticks": ""
             }
            },
            "type": "scattergl"
           }
          ],
          "scattermapbox": [
           {
            "marker": {
             "colorbar": {
              "outlinewidth": 0,
              "ticks": ""
             }
            },
            "type": "scattermapbox"
           }
          ],
          "scatterpolar": [
           {
            "marker": {
             "colorbar": {
              "outlinewidth": 0,
              "ticks": ""
             }
            },
            "type": "scatterpolar"
           }
          ],
          "scatterpolargl": [
           {
            "marker": {
             "colorbar": {
              "outlinewidth": 0,
              "ticks": ""
             }
            },
            "type": "scatterpolargl"
           }
          ],
          "scatterternary": [
           {
            "marker": {
             "colorbar": {
              "outlinewidth": 0,
              "ticks": ""
             }
            },
            "type": "scatterternary"
           }
          ],
          "surface": [
           {
            "colorbar": {
             "outlinewidth": 0,
             "ticks": ""
            },
            "colorscale": [
             [
              0,
              "#0d0887"
             ],
             [
              0.1111111111111111,
              "#46039f"
             ],
             [
              0.2222222222222222,
              "#7201a8"
             ],
             [
              0.3333333333333333,
              "#9c179e"
             ],
             [
              0.4444444444444444,
              "#bd3786"
             ],
             [
              0.5555555555555556,
              "#d8576b"
             ],
             [
              0.6666666666666666,
              "#ed7953"
             ],
             [
              0.7777777777777778,
              "#fb9f3a"
             ],
             [
              0.8888888888888888,
              "#fdca26"
             ],
             [
              1,
              "#f0f921"
             ]
            ],
            "type": "surface"
           }
          ],
          "table": [
           {
            "cells": {
             "fill": {
              "color": "#EBF0F8"
             },
             "line": {
              "color": "white"
             }
            },
            "header": {
             "fill": {
              "color": "#C8D4E3"
             },
             "line": {
              "color": "white"
             }
            },
            "type": "table"
           }
          ]
         },
         "layout": {
          "annotationdefaults": {
           "arrowcolor": "#2a3f5f",
           "arrowhead": 0,
           "arrowwidth": 1
          },
          "coloraxis": {
           "colorbar": {
            "outlinewidth": 0,
            "ticks": ""
           }
          },
          "colorscale": {
           "diverging": [
            [
             0,
             "#8e0152"
            ],
            [
             0.1,
             "#c51b7d"
            ],
            [
             0.2,
             "#de77ae"
            ],
            [
             0.3,
             "#f1b6da"
            ],
            [
             0.4,
             "#fde0ef"
            ],
            [
             0.5,
             "#f7f7f7"
            ],
            [
             0.6,
             "#e6f5d0"
            ],
            [
             0.7,
             "#b8e186"
            ],
            [
             0.8,
             "#7fbc41"
            ],
            [
             0.9,
             "#4d9221"
            ],
            [
             1,
             "#276419"
            ]
           ],
           "sequential": [
            [
             0,
             "#0d0887"
            ],
            [
             0.1111111111111111,
             "#46039f"
            ],
            [
             0.2222222222222222,
             "#7201a8"
            ],
            [
             0.3333333333333333,
             "#9c179e"
            ],
            [
             0.4444444444444444,
             "#bd3786"
            ],
            [
             0.5555555555555556,
             "#d8576b"
            ],
            [
             0.6666666666666666,
             "#ed7953"
            ],
            [
             0.7777777777777778,
             "#fb9f3a"
            ],
            [
             0.8888888888888888,
             "#fdca26"
            ],
            [
             1,
             "#f0f921"
            ]
           ],
           "sequentialminus": [
            [
             0,
             "#0d0887"
            ],
            [
             0.1111111111111111,
             "#46039f"
            ],
            [
             0.2222222222222222,
             "#7201a8"
            ],
            [
             0.3333333333333333,
             "#9c179e"
            ],
            [
             0.4444444444444444,
             "#bd3786"
            ],
            [
             0.5555555555555556,
             "#d8576b"
            ],
            [
             0.6666666666666666,
             "#ed7953"
            ],
            [
             0.7777777777777778,
             "#fb9f3a"
            ],
            [
             0.8888888888888888,
             "#fdca26"
            ],
            [
             1,
             "#f0f921"
            ]
           ]
          },
          "colorway": [
           "#636efa",
           "#EF553B",
           "#00cc96",
           "#ab63fa",
           "#FFA15A",
           "#19d3f3",
           "#FF6692",
           "#B6E880",
           "#FF97FF",
           "#FECB52"
          ],
          "font": {
           "color": "#2a3f5f"
          },
          "geo": {
           "bgcolor": "white",
           "lakecolor": "white",
           "landcolor": "#E5ECF6",
           "showlakes": true,
           "showland": true,
           "subunitcolor": "white"
          },
          "hoverlabel": {
           "align": "left"
          },
          "hovermode": "closest",
          "mapbox": {
           "style": "light"
          },
          "paper_bgcolor": "white",
          "plot_bgcolor": "#E5ECF6",
          "polar": {
           "angularaxis": {
            "gridcolor": "white",
            "linecolor": "white",
            "ticks": ""
           },
           "bgcolor": "#E5ECF6",
           "radialaxis": {
            "gridcolor": "white",
            "linecolor": "white",
            "ticks": ""
           }
          },
          "scene": {
           "xaxis": {
            "backgroundcolor": "#E5ECF6",
            "gridcolor": "white",
            "gridwidth": 2,
            "linecolor": "white",
            "showbackground": true,
            "ticks": "",
            "zerolinecolor": "white"
           },
           "yaxis": {
            "backgroundcolor": "#E5ECF6",
            "gridcolor": "white",
            "gridwidth": 2,
            "linecolor": "white",
            "showbackground": true,
            "ticks": "",
            "zerolinecolor": "white"
           },
           "zaxis": {
            "backgroundcolor": "#E5ECF6",
            "gridcolor": "white",
            "gridwidth": 2,
            "linecolor": "white",
            "showbackground": true,
            "ticks": "",
            "zerolinecolor": "white"
           }
          },
          "shapedefaults": {
           "line": {
            "color": "#2a3f5f"
           }
          },
          "ternary": {
           "aaxis": {
            "gridcolor": "white",
            "linecolor": "white",
            "ticks": ""
           },
           "baxis": {
            "gridcolor": "white",
            "linecolor": "white",
            "ticks": ""
           },
           "bgcolor": "#E5ECF6",
           "caxis": {
            "gridcolor": "white",
            "linecolor": "white",
            "ticks": ""
           }
          },
          "title": {
           "x": 0.05
          },
          "xaxis": {
           "automargin": true,
           "gridcolor": "white",
           "linecolor": "white",
           "ticks": "",
           "title": {
            "standoff": 15
           },
           "zerolinecolor": "white",
           "zerolinewidth": 2
          },
          "yaxis": {
           "automargin": true,
           "gridcolor": "white",
           "linecolor": "white",
           "ticks": "",
           "title": {
            "standoff": 15
           },
           "zerolinecolor": "white",
           "zerolinewidth": 2
          }
         }
        },
        "title": {
         "text": "Squared diameter vs model residuals"
        },
        "xaxis": {
         "anchor": "y",
         "domain": [
          0,
          1
         ],
         "title": {
          "text": "d2"
         }
        },
        "yaxis": {
         "anchor": "x",
         "domain": [
          0,
          1
         ],
         "title": {
          "text": "residuals"
         }
        }
       }
      },
      "text/html": [
       "<div>\n",
       "        \n",
       "        \n",
       "            <div id=\"f26fce50-937f-496c-92ed-2cfa95193a2c\" class=\"plotly-graph-div\" style=\"height:525px; width:100%;\"></div>\n",
       "            <script type=\"text/javascript\">\n",
       "                require([\"plotly\"], function(Plotly) {\n",
       "                    window.PLOTLYENV=window.PLOTLYENV || {};\n",
       "                    \n",
       "                if (document.getElementById(\"f26fce50-937f-496c-92ed-2cfa95193a2c\")) {\n",
       "                    Plotly.newPlot(\n",
       "                        'f26fce50-937f-496c-92ed-2cfa95193a2c',\n",
       "                        [{\"hovertemplate\": \"d2=%{x}<br>residuals=%{y}<extra></extra>\", \"legendgroup\": \"\", \"marker\": {\"color\": \"#636efa\", \"symbol\": \"circle\"}, \"mode\": \"markers\", \"name\": \"\", \"orientation\": \"v\", \"showlegend\": false, \"type\": \"scatter\", \"x\": [68.89000000000001, 73.96, 77.44000000000001, 110.25, 114.48999999999998, 116.64000000000001, 121.0, 121.0, 123.21, 125.43999999999998, 127.69000000000001, 129.96, 129.96, 136.89, 144.0, 166.41, 166.41, 176.89000000000001, 187.68999999999997, 190.44000000000003, 196.0, 201.64, 210.25, 256.0, 265.69, 299.29, 306.25, 320.40999999999997, 324.0, 324.0, 424.36000000000007], \"xaxis\": \"x\", \"y\": [-0.6859500111469181, 0.6995944424551723, 0.9945787689309142, -0.10177468471932727, -1.651203702302471, -1.7930086326759387, -0.08860252998906937, -0.8760882337001945, 1.3368275894637947, 0.20824396834276016, 2.6868021951020964, 0.2946990763393522, 0.6946990763393508, 2.233380428775444, -3.2693251598255024, -3.216195431852867, 4.243544263611312, -4.193974505395303, -1.995255642340382, -0.6107483212577876, 2.8033045641361944, -1.6874847391556749, 3.723523646553886, -1.4855593715918332, -0.8049235044771947, 4.34889271124198, 2.9799091134013196, 3.6830217384673674, -3.7928248764935546, -4.292824876493555, -0.3852773597480734], \"yaxis\": \"y\"}],\n",
       "                        {\"legend\": {\"tracegroupgap\": 0}, \"template\": {\"data\": {\"bar\": [{\"error_x\": {\"color\": \"#2a3f5f\"}, \"error_y\": {\"color\": \"#2a3f5f\"}, \"marker\": {\"line\": {\"color\": \"#E5ECF6\", \"width\": 0.5}}, \"type\": \"bar\"}], \"barpolar\": [{\"marker\": {\"line\": {\"color\": \"#E5ECF6\", \"width\": 0.5}}, \"type\": \"barpolar\"}], \"carpet\": [{\"aaxis\": {\"endlinecolor\": \"#2a3f5f\", \"gridcolor\": \"white\", \"linecolor\": \"white\", \"minorgridcolor\": \"white\", \"startlinecolor\": \"#2a3f5f\"}, \"baxis\": {\"endlinecolor\": \"#2a3f5f\", \"gridcolor\": \"white\", \"linecolor\": \"white\", \"minorgridcolor\": \"white\", \"startlinecolor\": \"#2a3f5f\"}, \"type\": \"carpet\"}], \"choropleth\": [{\"colorbar\": {\"outlinewidth\": 0, \"ticks\": \"\"}, \"type\": \"choropleth\"}], \"contour\": [{\"colorbar\": {\"outlinewidth\": 0, \"ticks\": \"\"}, \"colorscale\": [[0.0, \"#0d0887\"], [0.1111111111111111, \"#46039f\"], [0.2222222222222222, \"#7201a8\"], [0.3333333333333333, \"#9c179e\"], [0.4444444444444444, \"#bd3786\"], [0.5555555555555556, \"#d8576b\"], [0.6666666666666666, \"#ed7953\"], [0.7777777777777778, \"#fb9f3a\"], [0.8888888888888888, \"#fdca26\"], [1.0, \"#f0f921\"]], \"type\": \"contour\"}], \"contourcarpet\": [{\"colorbar\": {\"outlinewidth\": 0, \"ticks\": \"\"}, \"type\": \"contourcarpet\"}], \"heatmap\": [{\"colorbar\": {\"outlinewidth\": 0, \"ticks\": \"\"}, \"colorscale\": [[0.0, \"#0d0887\"], [0.1111111111111111, \"#46039f\"], [0.2222222222222222, \"#7201a8\"], [0.3333333333333333, \"#9c179e\"], [0.4444444444444444, \"#bd3786\"], [0.5555555555555556, \"#d8576b\"], [0.6666666666666666, \"#ed7953\"], [0.7777777777777778, \"#fb9f3a\"], [0.8888888888888888, \"#fdca26\"], [1.0, \"#f0f921\"]], \"type\": \"heatmap\"}], \"heatmapgl\": [{\"colorbar\": {\"outlinewidth\": 0, \"ticks\": \"\"}, \"colorscale\": [[0.0, \"#0d0887\"], [0.1111111111111111, \"#46039f\"], [0.2222222222222222, \"#7201a8\"], [0.3333333333333333, \"#9c179e\"], [0.4444444444444444, \"#bd3786\"], [0.5555555555555556, \"#d8576b\"], [0.6666666666666666, \"#ed7953\"], [0.7777777777777778, \"#fb9f3a\"], [0.8888888888888888, \"#fdca26\"], [1.0, \"#f0f921\"]], \"type\": \"heatmapgl\"}], \"histogram\": [{\"marker\": {\"colorbar\": {\"outlinewidth\": 0, \"ticks\": \"\"}}, \"type\": \"histogram\"}], \"histogram2d\": [{\"colorbar\": {\"outlinewidth\": 0, \"ticks\": \"\"}, \"colorscale\": [[0.0, \"#0d0887\"], [0.1111111111111111, \"#46039f\"], [0.2222222222222222, \"#7201a8\"], [0.3333333333333333, \"#9c179e\"], [0.4444444444444444, \"#bd3786\"], [0.5555555555555556, \"#d8576b\"], [0.6666666666666666, \"#ed7953\"], [0.7777777777777778, \"#fb9f3a\"], [0.8888888888888888, \"#fdca26\"], [1.0, \"#f0f921\"]], \"type\": \"histogram2d\"}], \"histogram2dcontour\": [{\"colorbar\": {\"outlinewidth\": 0, \"ticks\": \"\"}, \"colorscale\": [[0.0, \"#0d0887\"], [0.1111111111111111, \"#46039f\"], [0.2222222222222222, \"#7201a8\"], [0.3333333333333333, \"#9c179e\"], [0.4444444444444444, \"#bd3786\"], [0.5555555555555556, \"#d8576b\"], [0.6666666666666666, \"#ed7953\"], [0.7777777777777778, \"#fb9f3a\"], [0.8888888888888888, \"#fdca26\"], [1.0, \"#f0f921\"]], \"type\": \"histogram2dcontour\"}], \"mesh3d\": [{\"colorbar\": {\"outlinewidth\": 0, \"ticks\": \"\"}, \"type\": \"mesh3d\"}], \"parcoords\": [{\"line\": {\"colorbar\": {\"outlinewidth\": 0, \"ticks\": \"\"}}, \"type\": \"parcoords\"}], \"pie\": [{\"automargin\": true, \"type\": \"pie\"}], \"scatter\": [{\"marker\": {\"colorbar\": {\"outlinewidth\": 0, \"ticks\": \"\"}}, \"type\": \"scatter\"}], \"scatter3d\": [{\"line\": {\"colorbar\": {\"outlinewidth\": 0, \"ticks\": \"\"}}, \"marker\": {\"colorbar\": {\"outlinewidth\": 0, \"ticks\": \"\"}}, \"type\": \"scatter3d\"}], \"scattercarpet\": [{\"marker\": {\"colorbar\": {\"outlinewidth\": 0, \"ticks\": \"\"}}, \"type\": \"scattercarpet\"}], \"scattergeo\": [{\"marker\": {\"colorbar\": {\"outlinewidth\": 0, \"ticks\": \"\"}}, \"type\": \"scattergeo\"}], \"scattergl\": [{\"marker\": {\"colorbar\": {\"outlinewidth\": 0, \"ticks\": \"\"}}, \"type\": \"scattergl\"}], \"scattermapbox\": [{\"marker\": {\"colorbar\": {\"outlinewidth\": 0, \"ticks\": \"\"}}, \"type\": \"scattermapbox\"}], \"scatterpolar\": [{\"marker\": {\"colorbar\": {\"outlinewidth\": 0, \"ticks\": \"\"}}, \"type\": \"scatterpolar\"}], \"scatterpolargl\": [{\"marker\": {\"colorbar\": {\"outlinewidth\": 0, \"ticks\": \"\"}}, \"type\": \"scatterpolargl\"}], \"scatterternary\": [{\"marker\": {\"colorbar\": {\"outlinewidth\": 0, \"ticks\": \"\"}}, \"type\": \"scatterternary\"}], \"surface\": [{\"colorbar\": {\"outlinewidth\": 0, \"ticks\": \"\"}, \"colorscale\": [[0.0, \"#0d0887\"], [0.1111111111111111, \"#46039f\"], [0.2222222222222222, \"#7201a8\"], [0.3333333333333333, \"#9c179e\"], [0.4444444444444444, \"#bd3786\"], [0.5555555555555556, \"#d8576b\"], [0.6666666666666666, \"#ed7953\"], [0.7777777777777778, \"#fb9f3a\"], [0.8888888888888888, \"#fdca26\"], [1.0, \"#f0f921\"]], \"type\": \"surface\"}], \"table\": [{\"cells\": {\"fill\": {\"color\": \"#EBF0F8\"}, \"line\": {\"color\": \"white\"}}, \"header\": {\"fill\": {\"color\": \"#C8D4E3\"}, \"line\": {\"color\": \"white\"}}, \"type\": \"table\"}]}, \"layout\": {\"annotationdefaults\": {\"arrowcolor\": \"#2a3f5f\", \"arrowhead\": 0, \"arrowwidth\": 1}, \"coloraxis\": {\"colorbar\": {\"outlinewidth\": 0, \"ticks\": \"\"}}, \"colorscale\": {\"diverging\": [[0, \"#8e0152\"], [0.1, \"#c51b7d\"], [0.2, \"#de77ae\"], [0.3, \"#f1b6da\"], [0.4, \"#fde0ef\"], [0.5, \"#f7f7f7\"], [0.6, \"#e6f5d0\"], [0.7, \"#b8e186\"], [0.8, \"#7fbc41\"], [0.9, \"#4d9221\"], [1, \"#276419\"]], \"sequential\": [[0.0, \"#0d0887\"], [0.1111111111111111, \"#46039f\"], [0.2222222222222222, \"#7201a8\"], [0.3333333333333333, \"#9c179e\"], [0.4444444444444444, \"#bd3786\"], [0.5555555555555556, \"#d8576b\"], [0.6666666666666666, \"#ed7953\"], [0.7777777777777778, \"#fb9f3a\"], [0.8888888888888888, \"#fdca26\"], [1.0, \"#f0f921\"]], \"sequentialminus\": [[0.0, \"#0d0887\"], [0.1111111111111111, \"#46039f\"], [0.2222222222222222, \"#7201a8\"], [0.3333333333333333, \"#9c179e\"], [0.4444444444444444, \"#bd3786\"], [0.5555555555555556, \"#d8576b\"], [0.6666666666666666, \"#ed7953\"], [0.7777777777777778, \"#fb9f3a\"], [0.8888888888888888, \"#fdca26\"], [1.0, \"#f0f921\"]]}, \"colorway\": [\"#636efa\", \"#EF553B\", \"#00cc96\", \"#ab63fa\", \"#FFA15A\", \"#19d3f3\", \"#FF6692\", \"#B6E880\", \"#FF97FF\", \"#FECB52\"], \"font\": {\"color\": \"#2a3f5f\"}, \"geo\": {\"bgcolor\": \"white\", \"lakecolor\": \"white\", \"landcolor\": \"#E5ECF6\", \"showlakes\": true, \"showland\": true, \"subunitcolor\": \"white\"}, \"hoverlabel\": {\"align\": \"left\"}, \"hovermode\": \"closest\", \"mapbox\": {\"style\": \"light\"}, \"paper_bgcolor\": \"white\", \"plot_bgcolor\": \"#E5ECF6\", \"polar\": {\"angularaxis\": {\"gridcolor\": \"white\", \"linecolor\": \"white\", \"ticks\": \"\"}, \"bgcolor\": \"#E5ECF6\", \"radialaxis\": {\"gridcolor\": \"white\", \"linecolor\": \"white\", \"ticks\": \"\"}}, \"scene\": {\"xaxis\": {\"backgroundcolor\": \"#E5ECF6\", \"gridcolor\": \"white\", \"gridwidth\": 2, \"linecolor\": \"white\", \"showbackground\": true, \"ticks\": \"\", \"zerolinecolor\": \"white\"}, \"yaxis\": {\"backgroundcolor\": \"#E5ECF6\", \"gridcolor\": \"white\", \"gridwidth\": 2, \"linecolor\": \"white\", \"showbackground\": true, \"ticks\": \"\", \"zerolinecolor\": \"white\"}, \"zaxis\": {\"backgroundcolor\": \"#E5ECF6\", \"gridcolor\": \"white\", \"gridwidth\": 2, \"linecolor\": \"white\", \"showbackground\": true, \"ticks\": \"\", \"zerolinecolor\": \"white\"}}, \"shapedefaults\": {\"line\": {\"color\": \"#2a3f5f\"}}, \"ternary\": {\"aaxis\": {\"gridcolor\": \"white\", \"linecolor\": \"white\", \"ticks\": \"\"}, \"baxis\": {\"gridcolor\": \"white\", \"linecolor\": \"white\", \"ticks\": \"\"}, \"bgcolor\": \"#E5ECF6\", \"caxis\": {\"gridcolor\": \"white\", \"linecolor\": \"white\", \"ticks\": \"\"}}, \"title\": {\"x\": 0.05}, \"xaxis\": {\"automargin\": true, \"gridcolor\": \"white\", \"linecolor\": \"white\", \"ticks\": \"\", \"title\": {\"standoff\": 15}, \"zerolinecolor\": \"white\", \"zerolinewidth\": 2}, \"yaxis\": {\"automargin\": true, \"gridcolor\": \"white\", \"linecolor\": \"white\", \"ticks\": \"\", \"title\": {\"standoff\": 15}, \"zerolinecolor\": \"white\", \"zerolinewidth\": 2}}}, \"title\": {\"text\": \"Squared diameter vs model residuals\"}, \"xaxis\": {\"anchor\": \"y\", \"domain\": [0.0, 1.0], \"title\": {\"text\": \"d2\"}}, \"yaxis\": {\"anchor\": \"x\", \"domain\": [0.0, 1.0], \"title\": {\"text\": \"residuals\"}}},\n",
       "                        {\"responsive\": true}\n",
       "                    ).then(function(){\n",
       "                            \n",
       "var gd = document.getElementById('f26fce50-937f-496c-92ed-2cfa95193a2c');\n",
       "var x = new MutationObserver(function (mutations, observer) {{\n",
       "        var display = window.getComputedStyle(gd).display;\n",
       "        if (!display || display === 'none') {{\n",
       "            console.log([gd, 'removed!']);\n",
       "            Plotly.purge(gd);\n",
       "            observer.disconnect();\n",
       "        }}\n",
       "}});\n",
       "\n",
       "// Listen for the removal of the full notebook cells\n",
       "var notebookContainer = gd.closest('#notebook-container');\n",
       "if (notebookContainer) {{\n",
       "    x.observe(notebookContainer, {childList: true});\n",
       "}}\n",
       "\n",
       "// Listen for the clearing of the current output cell\n",
       "var outputEl = gd.closest('.output');\n",
       "if (outputEl) {{\n",
       "    x.observe(outputEl, {childList: true});\n",
       "}}\n",
       "\n",
       "                        })\n",
       "                };\n",
       "                });\n",
       "            </script>\n",
       "        </div>"
      ]
     },
     "metadata": {},
     "output_type": "display_data"
    }
   ],
   "source": [
    "trees_df[\"residuals\"] = trees_model1.resid\n",
    "px.scatter(trees_df, \"d2\", \"residuals\", title=\"Squared diameter vs model residuals\")"
   ]
  },
  {
   "cell_type": "markdown",
   "metadata": {},
   "source": [
    "No easily identifable patterns here... Great! Let's check for **homoscedasticity** now. This essentially just means that we're checking to see whether the variance is constant between our fitted values and residuals. This is a relatively simple check as all we need to do is plot the fitted values against our residuals. We then look for increasing or decreasing spread of points as the fitted values increases. As seen in our plot below, there's no real evidence of this. If, however, there was, this phenomenon is known as **heteroscedasticity**. Generally speaking we'd have to seriously violate the homoscedasticity assumption to look into alternative solutions - more advice on what to do in this situation can be found [here](https://www.statisticssolutions.com/homoscedasticity/)."
   ]
  },
  {
   "cell_type": "code",
   "execution_count": 49,
   "metadata": {},
   "outputs": [
    {
     "data": {
      "application/vnd.plotly.v1+json": {
       "config": {
        "plotlyServerURL": "https://plot.ly"
       },
       "data": [
        {
         "hovertemplate": "fitted=%{x}<br>residuals=%{y}<extra></extra>",
         "legendgroup": "",
         "marker": {
          "color": "#636efa",
          "symbol": "circle"
         },
         "mode": "markers",
         "name": "",
         "orientation": "v",
         "showlegend": false,
         "type": "scatter",
         "x": [
          10.985950011146919,
          9.600405557544828,
          9.205421231069085,
          16.501774684719326,
          20.45120370230247,
          21.493008632675938,
          15.688602529989069,
          19.076088233700194,
          21.263172410536207,
          19.69175603165724,
          21.513197804897903,
          20.705300923660648,
          20.705300923660648,
          19.066619571224557,
          22.369325159825504,
          25.416195431852866,
          29.556455736388685,
          31.593974505395302,
          27.69525564234038,
          25.510748321257786,
          31.696695435863806,
          33.387484739155674,
          32.57647635344611,
          39.78555937159183,
          43.404923504477196,
          51.05110728875802,
          52.72009088659868,
          54.61697826153263,
          55.292824876493555,
          55.292824876493555,
          77.38527735974807
         ],
         "xaxis": "x",
         "y": [
          -0.6859500111469181,
          0.6995944424551723,
          0.9945787689309142,
          -0.10177468471932727,
          -1.651203702302471,
          -1.7930086326759387,
          -0.08860252998906937,
          -0.8760882337001945,
          1.3368275894637947,
          0.20824396834276016,
          2.6868021951020964,
          0.2946990763393522,
          0.6946990763393508,
          2.233380428775444,
          -3.2693251598255024,
          -3.216195431852867,
          4.243544263611312,
          -4.193974505395303,
          -1.995255642340382,
          -0.6107483212577876,
          2.8033045641361944,
          -1.6874847391556749,
          3.723523646553886,
          -1.4855593715918332,
          -0.8049235044771947,
          4.34889271124198,
          2.9799091134013196,
          3.6830217384673674,
          -3.7928248764935546,
          -4.292824876493555,
          -0.3852773597480734
         ],
         "yaxis": "y"
        }
       ],
       "layout": {
        "legend": {
         "tracegroupgap": 0
        },
        "template": {
         "data": {
          "bar": [
           {
            "error_x": {
             "color": "#2a3f5f"
            },
            "error_y": {
             "color": "#2a3f5f"
            },
            "marker": {
             "line": {
              "color": "#E5ECF6",
              "width": 0.5
             }
            },
            "type": "bar"
           }
          ],
          "barpolar": [
           {
            "marker": {
             "line": {
              "color": "#E5ECF6",
              "width": 0.5
             }
            },
            "type": "barpolar"
           }
          ],
          "carpet": [
           {
            "aaxis": {
             "endlinecolor": "#2a3f5f",
             "gridcolor": "white",
             "linecolor": "white",
             "minorgridcolor": "white",
             "startlinecolor": "#2a3f5f"
            },
            "baxis": {
             "endlinecolor": "#2a3f5f",
             "gridcolor": "white",
             "linecolor": "white",
             "minorgridcolor": "white",
             "startlinecolor": "#2a3f5f"
            },
            "type": "carpet"
           }
          ],
          "choropleth": [
           {
            "colorbar": {
             "outlinewidth": 0,
             "ticks": ""
            },
            "type": "choropleth"
           }
          ],
          "contour": [
           {
            "colorbar": {
             "outlinewidth": 0,
             "ticks": ""
            },
            "colorscale": [
             [
              0,
              "#0d0887"
             ],
             [
              0.1111111111111111,
              "#46039f"
             ],
             [
              0.2222222222222222,
              "#7201a8"
             ],
             [
              0.3333333333333333,
              "#9c179e"
             ],
             [
              0.4444444444444444,
              "#bd3786"
             ],
             [
              0.5555555555555556,
              "#d8576b"
             ],
             [
              0.6666666666666666,
              "#ed7953"
             ],
             [
              0.7777777777777778,
              "#fb9f3a"
             ],
             [
              0.8888888888888888,
              "#fdca26"
             ],
             [
              1,
              "#f0f921"
             ]
            ],
            "type": "contour"
           }
          ],
          "contourcarpet": [
           {
            "colorbar": {
             "outlinewidth": 0,
             "ticks": ""
            },
            "type": "contourcarpet"
           }
          ],
          "heatmap": [
           {
            "colorbar": {
             "outlinewidth": 0,
             "ticks": ""
            },
            "colorscale": [
             [
              0,
              "#0d0887"
             ],
             [
              0.1111111111111111,
              "#46039f"
             ],
             [
              0.2222222222222222,
              "#7201a8"
             ],
             [
              0.3333333333333333,
              "#9c179e"
             ],
             [
              0.4444444444444444,
              "#bd3786"
             ],
             [
              0.5555555555555556,
              "#d8576b"
             ],
             [
              0.6666666666666666,
              "#ed7953"
             ],
             [
              0.7777777777777778,
              "#fb9f3a"
             ],
             [
              0.8888888888888888,
              "#fdca26"
             ],
             [
              1,
              "#f0f921"
             ]
            ],
            "type": "heatmap"
           }
          ],
          "heatmapgl": [
           {
            "colorbar": {
             "outlinewidth": 0,
             "ticks": ""
            },
            "colorscale": [
             [
              0,
              "#0d0887"
             ],
             [
              0.1111111111111111,
              "#46039f"
             ],
             [
              0.2222222222222222,
              "#7201a8"
             ],
             [
              0.3333333333333333,
              "#9c179e"
             ],
             [
              0.4444444444444444,
              "#bd3786"
             ],
             [
              0.5555555555555556,
              "#d8576b"
             ],
             [
              0.6666666666666666,
              "#ed7953"
             ],
             [
              0.7777777777777778,
              "#fb9f3a"
             ],
             [
              0.8888888888888888,
              "#fdca26"
             ],
             [
              1,
              "#f0f921"
             ]
            ],
            "type": "heatmapgl"
           }
          ],
          "histogram": [
           {
            "marker": {
             "colorbar": {
              "outlinewidth": 0,
              "ticks": ""
             }
            },
            "type": "histogram"
           }
          ],
          "histogram2d": [
           {
            "colorbar": {
             "outlinewidth": 0,
             "ticks": ""
            },
            "colorscale": [
             [
              0,
              "#0d0887"
             ],
             [
              0.1111111111111111,
              "#46039f"
             ],
             [
              0.2222222222222222,
              "#7201a8"
             ],
             [
              0.3333333333333333,
              "#9c179e"
             ],
             [
              0.4444444444444444,
              "#bd3786"
             ],
             [
              0.5555555555555556,
              "#d8576b"
             ],
             [
              0.6666666666666666,
              "#ed7953"
             ],
             [
              0.7777777777777778,
              "#fb9f3a"
             ],
             [
              0.8888888888888888,
              "#fdca26"
             ],
             [
              1,
              "#f0f921"
             ]
            ],
            "type": "histogram2d"
           }
          ],
          "histogram2dcontour": [
           {
            "colorbar": {
             "outlinewidth": 0,
             "ticks": ""
            },
            "colorscale": [
             [
              0,
              "#0d0887"
             ],
             [
              0.1111111111111111,
              "#46039f"
             ],
             [
              0.2222222222222222,
              "#7201a8"
             ],
             [
              0.3333333333333333,
              "#9c179e"
             ],
             [
              0.4444444444444444,
              "#bd3786"
             ],
             [
              0.5555555555555556,
              "#d8576b"
             ],
             [
              0.6666666666666666,
              "#ed7953"
             ],
             [
              0.7777777777777778,
              "#fb9f3a"
             ],
             [
              0.8888888888888888,
              "#fdca26"
             ],
             [
              1,
              "#f0f921"
             ]
            ],
            "type": "histogram2dcontour"
           }
          ],
          "mesh3d": [
           {
            "colorbar": {
             "outlinewidth": 0,
             "ticks": ""
            },
            "type": "mesh3d"
           }
          ],
          "parcoords": [
           {
            "line": {
             "colorbar": {
              "outlinewidth": 0,
              "ticks": ""
             }
            },
            "type": "parcoords"
           }
          ],
          "pie": [
           {
            "automargin": true,
            "type": "pie"
           }
          ],
          "scatter": [
           {
            "marker": {
             "colorbar": {
              "outlinewidth": 0,
              "ticks": ""
             }
            },
            "type": "scatter"
           }
          ],
          "scatter3d": [
           {
            "line": {
             "colorbar": {
              "outlinewidth": 0,
              "ticks": ""
             }
            },
            "marker": {
             "colorbar": {
              "outlinewidth": 0,
              "ticks": ""
             }
            },
            "type": "scatter3d"
           }
          ],
          "scattercarpet": [
           {
            "marker": {
             "colorbar": {
              "outlinewidth": 0,
              "ticks": ""
             }
            },
            "type": "scattercarpet"
           }
          ],
          "scattergeo": [
           {
            "marker": {
             "colorbar": {
              "outlinewidth": 0,
              "ticks": ""
             }
            },
            "type": "scattergeo"
           }
          ],
          "scattergl": [
           {
            "marker": {
             "colorbar": {
              "outlinewidth": 0,
              "ticks": ""
             }
            },
            "type": "scattergl"
           }
          ],
          "scattermapbox": [
           {
            "marker": {
             "colorbar": {
              "outlinewidth": 0,
              "ticks": ""
             }
            },
            "type": "scattermapbox"
           }
          ],
          "scatterpolar": [
           {
            "marker": {
             "colorbar": {
              "outlinewidth": 0,
              "ticks": ""
             }
            },
            "type": "scatterpolar"
           }
          ],
          "scatterpolargl": [
           {
            "marker": {
             "colorbar": {
              "outlinewidth": 0,
              "ticks": ""
             }
            },
            "type": "scatterpolargl"
           }
          ],
          "scatterternary": [
           {
            "marker": {
             "colorbar": {
              "outlinewidth": 0,
              "ticks": ""
             }
            },
            "type": "scatterternary"
           }
          ],
          "surface": [
           {
            "colorbar": {
             "outlinewidth": 0,
             "ticks": ""
            },
            "colorscale": [
             [
              0,
              "#0d0887"
             ],
             [
              0.1111111111111111,
              "#46039f"
             ],
             [
              0.2222222222222222,
              "#7201a8"
             ],
             [
              0.3333333333333333,
              "#9c179e"
             ],
             [
              0.4444444444444444,
              "#bd3786"
             ],
             [
              0.5555555555555556,
              "#d8576b"
             ],
             [
              0.6666666666666666,
              "#ed7953"
             ],
             [
              0.7777777777777778,
              "#fb9f3a"
             ],
             [
              0.8888888888888888,
              "#fdca26"
             ],
             [
              1,
              "#f0f921"
             ]
            ],
            "type": "surface"
           }
          ],
          "table": [
           {
            "cells": {
             "fill": {
              "color": "#EBF0F8"
             },
             "line": {
              "color": "white"
             }
            },
            "header": {
             "fill": {
              "color": "#C8D4E3"
             },
             "line": {
              "color": "white"
             }
            },
            "type": "table"
           }
          ]
         },
         "layout": {
          "annotationdefaults": {
           "arrowcolor": "#2a3f5f",
           "arrowhead": 0,
           "arrowwidth": 1
          },
          "coloraxis": {
           "colorbar": {
            "outlinewidth": 0,
            "ticks": ""
           }
          },
          "colorscale": {
           "diverging": [
            [
             0,
             "#8e0152"
            ],
            [
             0.1,
             "#c51b7d"
            ],
            [
             0.2,
             "#de77ae"
            ],
            [
             0.3,
             "#f1b6da"
            ],
            [
             0.4,
             "#fde0ef"
            ],
            [
             0.5,
             "#f7f7f7"
            ],
            [
             0.6,
             "#e6f5d0"
            ],
            [
             0.7,
             "#b8e186"
            ],
            [
             0.8,
             "#7fbc41"
            ],
            [
             0.9,
             "#4d9221"
            ],
            [
             1,
             "#276419"
            ]
           ],
           "sequential": [
            [
             0,
             "#0d0887"
            ],
            [
             0.1111111111111111,
             "#46039f"
            ],
            [
             0.2222222222222222,
             "#7201a8"
            ],
            [
             0.3333333333333333,
             "#9c179e"
            ],
            [
             0.4444444444444444,
             "#bd3786"
            ],
            [
             0.5555555555555556,
             "#d8576b"
            ],
            [
             0.6666666666666666,
             "#ed7953"
            ],
            [
             0.7777777777777778,
             "#fb9f3a"
            ],
            [
             0.8888888888888888,
             "#fdca26"
            ],
            [
             1,
             "#f0f921"
            ]
           ],
           "sequentialminus": [
            [
             0,
             "#0d0887"
            ],
            [
             0.1111111111111111,
             "#46039f"
            ],
            [
             0.2222222222222222,
             "#7201a8"
            ],
            [
             0.3333333333333333,
             "#9c179e"
            ],
            [
             0.4444444444444444,
             "#bd3786"
            ],
            [
             0.5555555555555556,
             "#d8576b"
            ],
            [
             0.6666666666666666,
             "#ed7953"
            ],
            [
             0.7777777777777778,
             "#fb9f3a"
            ],
            [
             0.8888888888888888,
             "#fdca26"
            ],
            [
             1,
             "#f0f921"
            ]
           ]
          },
          "colorway": [
           "#636efa",
           "#EF553B",
           "#00cc96",
           "#ab63fa",
           "#FFA15A",
           "#19d3f3",
           "#FF6692",
           "#B6E880",
           "#FF97FF",
           "#FECB52"
          ],
          "font": {
           "color": "#2a3f5f"
          },
          "geo": {
           "bgcolor": "white",
           "lakecolor": "white",
           "landcolor": "#E5ECF6",
           "showlakes": true,
           "showland": true,
           "subunitcolor": "white"
          },
          "hoverlabel": {
           "align": "left"
          },
          "hovermode": "closest",
          "mapbox": {
           "style": "light"
          },
          "paper_bgcolor": "white",
          "plot_bgcolor": "#E5ECF6",
          "polar": {
           "angularaxis": {
            "gridcolor": "white",
            "linecolor": "white",
            "ticks": ""
           },
           "bgcolor": "#E5ECF6",
           "radialaxis": {
            "gridcolor": "white",
            "linecolor": "white",
            "ticks": ""
           }
          },
          "scene": {
           "xaxis": {
            "backgroundcolor": "#E5ECF6",
            "gridcolor": "white",
            "gridwidth": 2,
            "linecolor": "white",
            "showbackground": true,
            "ticks": "",
            "zerolinecolor": "white"
           },
           "yaxis": {
            "backgroundcolor": "#E5ECF6",
            "gridcolor": "white",
            "gridwidth": 2,
            "linecolor": "white",
            "showbackground": true,
            "ticks": "",
            "zerolinecolor": "white"
           },
           "zaxis": {
            "backgroundcolor": "#E5ECF6",
            "gridcolor": "white",
            "gridwidth": 2,
            "linecolor": "white",
            "showbackground": true,
            "ticks": "",
            "zerolinecolor": "white"
           }
          },
          "shapedefaults": {
           "line": {
            "color": "#2a3f5f"
           }
          },
          "ternary": {
           "aaxis": {
            "gridcolor": "white",
            "linecolor": "white",
            "ticks": ""
           },
           "baxis": {
            "gridcolor": "white",
            "linecolor": "white",
            "ticks": ""
           },
           "bgcolor": "#E5ECF6",
           "caxis": {
            "gridcolor": "white",
            "linecolor": "white",
            "ticks": ""
           }
          },
          "title": {
           "x": 0.05
          },
          "xaxis": {
           "automargin": true,
           "gridcolor": "white",
           "linecolor": "white",
           "ticks": "",
           "title": {
            "standoff": 15
           },
           "zerolinecolor": "white",
           "zerolinewidth": 2
          },
          "yaxis": {
           "automargin": true,
           "gridcolor": "white",
           "linecolor": "white",
           "ticks": "",
           "title": {
            "standoff": 15
           },
           "zerolinecolor": "white",
           "zerolinewidth": 2
          }
         }
        },
        "title": {
         "text": "Fitted values vs model residuals"
        },
        "xaxis": {
         "anchor": "y",
         "domain": [
          0,
          1
         ],
         "title": {
          "text": "fitted"
         }
        },
        "yaxis": {
         "anchor": "x",
         "domain": [
          0,
          1
         ],
         "title": {
          "text": "residuals"
         }
        }
       }
      },
      "text/html": [
       "<div>\n",
       "        \n",
       "        \n",
       "            <div id=\"3ef5ffe5-82e9-492d-899f-d15f7d97eeaf\" class=\"plotly-graph-div\" style=\"height:525px; width:100%;\"></div>\n",
       "            <script type=\"text/javascript\">\n",
       "                require([\"plotly\"], function(Plotly) {\n",
       "                    window.PLOTLYENV=window.PLOTLYENV || {};\n",
       "                    \n",
       "                if (document.getElementById(\"3ef5ffe5-82e9-492d-899f-d15f7d97eeaf\")) {\n",
       "                    Plotly.newPlot(\n",
       "                        '3ef5ffe5-82e9-492d-899f-d15f7d97eeaf',\n",
       "                        [{\"hovertemplate\": \"fitted=%{x}<br>residuals=%{y}<extra></extra>\", \"legendgroup\": \"\", \"marker\": {\"color\": \"#636efa\", \"symbol\": \"circle\"}, \"mode\": \"markers\", \"name\": \"\", \"orientation\": \"v\", \"showlegend\": false, \"type\": \"scatter\", \"x\": [10.985950011146919, 9.600405557544828, 9.205421231069085, 16.501774684719326, 20.45120370230247, 21.493008632675938, 15.688602529989069, 19.076088233700194, 21.263172410536207, 19.69175603165724, 21.513197804897903, 20.705300923660648, 20.705300923660648, 19.066619571224557, 22.369325159825504, 25.416195431852866, 29.556455736388685, 31.593974505395302, 27.69525564234038, 25.510748321257786, 31.696695435863806, 33.387484739155674, 32.57647635344611, 39.78555937159183, 43.404923504477196, 51.05110728875802, 52.72009088659868, 54.61697826153263, 55.292824876493555, 55.292824876493555, 77.38527735974807], \"xaxis\": \"x\", \"y\": [-0.6859500111469181, 0.6995944424551723, 0.9945787689309142, -0.10177468471932727, -1.651203702302471, -1.7930086326759387, -0.08860252998906937, -0.8760882337001945, 1.3368275894637947, 0.20824396834276016, 2.6868021951020964, 0.2946990763393522, 0.6946990763393508, 2.233380428775444, -3.2693251598255024, -3.216195431852867, 4.243544263611312, -4.193974505395303, -1.995255642340382, -0.6107483212577876, 2.8033045641361944, -1.6874847391556749, 3.723523646553886, -1.4855593715918332, -0.8049235044771947, 4.34889271124198, 2.9799091134013196, 3.6830217384673674, -3.7928248764935546, -4.292824876493555, -0.3852773597480734], \"yaxis\": \"y\"}],\n",
       "                        {\"legend\": {\"tracegroupgap\": 0}, \"template\": {\"data\": {\"bar\": [{\"error_x\": {\"color\": \"#2a3f5f\"}, \"error_y\": {\"color\": \"#2a3f5f\"}, \"marker\": {\"line\": {\"color\": \"#E5ECF6\", \"width\": 0.5}}, \"type\": \"bar\"}], \"barpolar\": [{\"marker\": {\"line\": {\"color\": \"#E5ECF6\", \"width\": 0.5}}, \"type\": \"barpolar\"}], \"carpet\": [{\"aaxis\": {\"endlinecolor\": \"#2a3f5f\", \"gridcolor\": \"white\", \"linecolor\": \"white\", \"minorgridcolor\": \"white\", \"startlinecolor\": \"#2a3f5f\"}, \"baxis\": {\"endlinecolor\": \"#2a3f5f\", \"gridcolor\": \"white\", \"linecolor\": \"white\", \"minorgridcolor\": \"white\", \"startlinecolor\": \"#2a3f5f\"}, \"type\": \"carpet\"}], \"choropleth\": [{\"colorbar\": {\"outlinewidth\": 0, \"ticks\": \"\"}, \"type\": \"choropleth\"}], \"contour\": [{\"colorbar\": {\"outlinewidth\": 0, \"ticks\": \"\"}, \"colorscale\": [[0.0, \"#0d0887\"], [0.1111111111111111, \"#46039f\"], [0.2222222222222222, \"#7201a8\"], [0.3333333333333333, \"#9c179e\"], [0.4444444444444444, \"#bd3786\"], [0.5555555555555556, \"#d8576b\"], [0.6666666666666666, \"#ed7953\"], [0.7777777777777778, \"#fb9f3a\"], [0.8888888888888888, \"#fdca26\"], [1.0, \"#f0f921\"]], \"type\": \"contour\"}], \"contourcarpet\": [{\"colorbar\": {\"outlinewidth\": 0, \"ticks\": \"\"}, \"type\": \"contourcarpet\"}], \"heatmap\": [{\"colorbar\": {\"outlinewidth\": 0, \"ticks\": \"\"}, \"colorscale\": [[0.0, \"#0d0887\"], [0.1111111111111111, \"#46039f\"], [0.2222222222222222, \"#7201a8\"], [0.3333333333333333, \"#9c179e\"], [0.4444444444444444, \"#bd3786\"], [0.5555555555555556, \"#d8576b\"], [0.6666666666666666, \"#ed7953\"], [0.7777777777777778, \"#fb9f3a\"], [0.8888888888888888, \"#fdca26\"], [1.0, \"#f0f921\"]], \"type\": \"heatmap\"}], \"heatmapgl\": [{\"colorbar\": {\"outlinewidth\": 0, \"ticks\": \"\"}, \"colorscale\": [[0.0, \"#0d0887\"], [0.1111111111111111, \"#46039f\"], [0.2222222222222222, \"#7201a8\"], [0.3333333333333333, \"#9c179e\"], [0.4444444444444444, \"#bd3786\"], [0.5555555555555556, \"#d8576b\"], [0.6666666666666666, \"#ed7953\"], [0.7777777777777778, \"#fb9f3a\"], [0.8888888888888888, \"#fdca26\"], [1.0, \"#f0f921\"]], \"type\": \"heatmapgl\"}], \"histogram\": [{\"marker\": {\"colorbar\": {\"outlinewidth\": 0, \"ticks\": \"\"}}, \"type\": \"histogram\"}], \"histogram2d\": [{\"colorbar\": {\"outlinewidth\": 0, \"ticks\": \"\"}, \"colorscale\": [[0.0, \"#0d0887\"], [0.1111111111111111, \"#46039f\"], [0.2222222222222222, \"#7201a8\"], [0.3333333333333333, \"#9c179e\"], [0.4444444444444444, \"#bd3786\"], [0.5555555555555556, \"#d8576b\"], [0.6666666666666666, \"#ed7953\"], [0.7777777777777778, \"#fb9f3a\"], [0.8888888888888888, \"#fdca26\"], [1.0, \"#f0f921\"]], \"type\": \"histogram2d\"}], \"histogram2dcontour\": [{\"colorbar\": {\"outlinewidth\": 0, \"ticks\": \"\"}, \"colorscale\": [[0.0, \"#0d0887\"], [0.1111111111111111, \"#46039f\"], [0.2222222222222222, \"#7201a8\"], [0.3333333333333333, \"#9c179e\"], [0.4444444444444444, \"#bd3786\"], [0.5555555555555556, \"#d8576b\"], [0.6666666666666666, \"#ed7953\"], [0.7777777777777778, \"#fb9f3a\"], [0.8888888888888888, \"#fdca26\"], [1.0, \"#f0f921\"]], \"type\": \"histogram2dcontour\"}], \"mesh3d\": [{\"colorbar\": {\"outlinewidth\": 0, \"ticks\": \"\"}, \"type\": \"mesh3d\"}], \"parcoords\": [{\"line\": {\"colorbar\": {\"outlinewidth\": 0, \"ticks\": \"\"}}, \"type\": \"parcoords\"}], \"pie\": [{\"automargin\": true, \"type\": \"pie\"}], \"scatter\": [{\"marker\": {\"colorbar\": {\"outlinewidth\": 0, \"ticks\": \"\"}}, \"type\": \"scatter\"}], \"scatter3d\": [{\"line\": {\"colorbar\": {\"outlinewidth\": 0, \"ticks\": \"\"}}, \"marker\": {\"colorbar\": {\"outlinewidth\": 0, \"ticks\": \"\"}}, \"type\": \"scatter3d\"}], \"scattercarpet\": [{\"marker\": {\"colorbar\": {\"outlinewidth\": 0, \"ticks\": \"\"}}, \"type\": \"scattercarpet\"}], \"scattergeo\": [{\"marker\": {\"colorbar\": {\"outlinewidth\": 0, \"ticks\": \"\"}}, \"type\": \"scattergeo\"}], \"scattergl\": [{\"marker\": {\"colorbar\": {\"outlinewidth\": 0, \"ticks\": \"\"}}, \"type\": \"scattergl\"}], \"scattermapbox\": [{\"marker\": {\"colorbar\": {\"outlinewidth\": 0, \"ticks\": \"\"}}, \"type\": \"scattermapbox\"}], \"scatterpolar\": [{\"marker\": {\"colorbar\": {\"outlinewidth\": 0, \"ticks\": \"\"}}, \"type\": \"scatterpolar\"}], \"scatterpolargl\": [{\"marker\": {\"colorbar\": {\"outlinewidth\": 0, \"ticks\": \"\"}}, \"type\": \"scatterpolargl\"}], \"scatterternary\": [{\"marker\": {\"colorbar\": {\"outlinewidth\": 0, \"ticks\": \"\"}}, \"type\": \"scatterternary\"}], \"surface\": [{\"colorbar\": {\"outlinewidth\": 0, \"ticks\": \"\"}, \"colorscale\": [[0.0, \"#0d0887\"], [0.1111111111111111, \"#46039f\"], [0.2222222222222222, \"#7201a8\"], [0.3333333333333333, \"#9c179e\"], [0.4444444444444444, \"#bd3786\"], [0.5555555555555556, \"#d8576b\"], [0.6666666666666666, \"#ed7953\"], [0.7777777777777778, \"#fb9f3a\"], [0.8888888888888888, \"#fdca26\"], [1.0, \"#f0f921\"]], \"type\": \"surface\"}], \"table\": [{\"cells\": {\"fill\": {\"color\": \"#EBF0F8\"}, \"line\": {\"color\": \"white\"}}, \"header\": {\"fill\": {\"color\": \"#C8D4E3\"}, \"line\": {\"color\": \"white\"}}, \"type\": \"table\"}]}, \"layout\": {\"annotationdefaults\": {\"arrowcolor\": \"#2a3f5f\", \"arrowhead\": 0, \"arrowwidth\": 1}, \"coloraxis\": {\"colorbar\": {\"outlinewidth\": 0, \"ticks\": \"\"}}, \"colorscale\": {\"diverging\": [[0, \"#8e0152\"], [0.1, \"#c51b7d\"], [0.2, \"#de77ae\"], [0.3, \"#f1b6da\"], [0.4, \"#fde0ef\"], [0.5, \"#f7f7f7\"], [0.6, \"#e6f5d0\"], [0.7, \"#b8e186\"], [0.8, \"#7fbc41\"], [0.9, \"#4d9221\"], [1, \"#276419\"]], \"sequential\": [[0.0, \"#0d0887\"], [0.1111111111111111, \"#46039f\"], [0.2222222222222222, \"#7201a8\"], [0.3333333333333333, \"#9c179e\"], [0.4444444444444444, \"#bd3786\"], [0.5555555555555556, \"#d8576b\"], [0.6666666666666666, \"#ed7953\"], [0.7777777777777778, \"#fb9f3a\"], [0.8888888888888888, \"#fdca26\"], [1.0, \"#f0f921\"]], \"sequentialminus\": [[0.0, \"#0d0887\"], [0.1111111111111111, \"#46039f\"], [0.2222222222222222, \"#7201a8\"], [0.3333333333333333, \"#9c179e\"], [0.4444444444444444, \"#bd3786\"], [0.5555555555555556, \"#d8576b\"], [0.6666666666666666, \"#ed7953\"], [0.7777777777777778, \"#fb9f3a\"], [0.8888888888888888, \"#fdca26\"], [1.0, \"#f0f921\"]]}, \"colorway\": [\"#636efa\", \"#EF553B\", \"#00cc96\", \"#ab63fa\", \"#FFA15A\", \"#19d3f3\", \"#FF6692\", \"#B6E880\", \"#FF97FF\", \"#FECB52\"], \"font\": {\"color\": \"#2a3f5f\"}, \"geo\": {\"bgcolor\": \"white\", \"lakecolor\": \"white\", \"landcolor\": \"#E5ECF6\", \"showlakes\": true, \"showland\": true, \"subunitcolor\": \"white\"}, \"hoverlabel\": {\"align\": \"left\"}, \"hovermode\": \"closest\", \"mapbox\": {\"style\": \"light\"}, \"paper_bgcolor\": \"white\", \"plot_bgcolor\": \"#E5ECF6\", \"polar\": {\"angularaxis\": {\"gridcolor\": \"white\", \"linecolor\": \"white\", \"ticks\": \"\"}, \"bgcolor\": \"#E5ECF6\", \"radialaxis\": {\"gridcolor\": \"white\", \"linecolor\": \"white\", \"ticks\": \"\"}}, \"scene\": {\"xaxis\": {\"backgroundcolor\": \"#E5ECF6\", \"gridcolor\": \"white\", \"gridwidth\": 2, \"linecolor\": \"white\", \"showbackground\": true, \"ticks\": \"\", \"zerolinecolor\": \"white\"}, \"yaxis\": {\"backgroundcolor\": \"#E5ECF6\", \"gridcolor\": \"white\", \"gridwidth\": 2, \"linecolor\": \"white\", \"showbackground\": true, \"ticks\": \"\", \"zerolinecolor\": \"white\"}, \"zaxis\": {\"backgroundcolor\": \"#E5ECF6\", \"gridcolor\": \"white\", \"gridwidth\": 2, \"linecolor\": \"white\", \"showbackground\": true, \"ticks\": \"\", \"zerolinecolor\": \"white\"}}, \"shapedefaults\": {\"line\": {\"color\": \"#2a3f5f\"}}, \"ternary\": {\"aaxis\": {\"gridcolor\": \"white\", \"linecolor\": \"white\", \"ticks\": \"\"}, \"baxis\": {\"gridcolor\": \"white\", \"linecolor\": \"white\", \"ticks\": \"\"}, \"bgcolor\": \"#E5ECF6\", \"caxis\": {\"gridcolor\": \"white\", \"linecolor\": \"white\", \"ticks\": \"\"}}, \"title\": {\"x\": 0.05}, \"xaxis\": {\"automargin\": true, \"gridcolor\": \"white\", \"linecolor\": \"white\", \"ticks\": \"\", \"title\": {\"standoff\": 15}, \"zerolinecolor\": \"white\", \"zerolinewidth\": 2}, \"yaxis\": {\"automargin\": true, \"gridcolor\": \"white\", \"linecolor\": \"white\", \"ticks\": \"\", \"title\": {\"standoff\": 15}, \"zerolinecolor\": \"white\", \"zerolinewidth\": 2}}}, \"title\": {\"text\": \"Fitted values vs model residuals\"}, \"xaxis\": {\"anchor\": \"y\", \"domain\": [0.0, 1.0], \"title\": {\"text\": \"fitted\"}}, \"yaxis\": {\"anchor\": \"x\", \"domain\": [0.0, 1.0], \"title\": {\"text\": \"residuals\"}}},\n",
       "                        {\"responsive\": true}\n",
       "                    ).then(function(){\n",
       "                            \n",
       "var gd = document.getElementById('3ef5ffe5-82e9-492d-899f-d15f7d97eeaf');\n",
       "var x = new MutationObserver(function (mutations, observer) {{\n",
       "        var display = window.getComputedStyle(gd).display;\n",
       "        if (!display || display === 'none') {{\n",
       "            console.log([gd, 'removed!']);\n",
       "            Plotly.purge(gd);\n",
       "            observer.disconnect();\n",
       "        }}\n",
       "}});\n",
       "\n",
       "// Listen for the removal of the full notebook cells\n",
       "var notebookContainer = gd.closest('#notebook-container');\n",
       "if (notebookContainer) {{\n",
       "    x.observe(notebookContainer, {childList: true});\n",
       "}}\n",
       "\n",
       "// Listen for the clearing of the current output cell\n",
       "var outputEl = gd.closest('.output');\n",
       "if (outputEl) {{\n",
       "    x.observe(outputEl, {childList: true});\n",
       "}}\n",
       "\n",
       "                        })\n",
       "                };\n",
       "                });\n",
       "            </script>\n",
       "        </div>"
      ]
     },
     "metadata": {},
     "output_type": "display_data"
    }
   ],
   "source": [
    "trees_df[\"fitted\"] = trees_model1.fittedvalues\n",
    "px.scatter(trees_df, \"fitted\", \"residuals\", title=\"Fitted values vs model residuals\")"
   ]
  },
  {
   "cell_type": "markdown",
   "metadata": {},
   "source": [
    "This leads us on to our last principle assumption: **normality of the residuals**. There are a number of ways to check whether data follows a normal distribution or not - two common methods being a histogram and Q-Q Plot. In the next notebook, we will look at checking normality from histograms, but when it comes to checking normality of residuals, I prefer Q-Q (QQ henceforth) plots.\n",
    "\n",
    "QQ is an abbreviation for quantile-quantile. The QQ plot graphically allows us to check whether data we have comes from any kind of continuous distribution (the normal distribution obviously falling under this category). Diving into how it works is slightly out of scope, but in one sentence, the ordered residuals from the model are plotted against a set of typical ordered residuals; which are obtained from quantiles of a normal distribution of a regularly spaced grid of proability values. Mouthful for sure... but actually the methodology is super simple. If you want to understand how it works slightly better, there are some [great](https://www.youtube.com/watch?v=okjYjClSjOg) [resources](https://www.statisticshowto.com/q-q-plots/) which provide a full introduction.\n",
    "\n",
    "Interpreting the QQ plot ([API we're using](https://www.statsmodels.org/stable/generated/statsmodels.graphics.gofplots.qqplot.html)) is easy! Do the points on the graph fall on the line? If so, we have normality! Otherwise, perhaps not so much."
   ]
  },
  {
   "cell_type": "code",
   "execution_count": 50,
   "metadata": {},
   "outputs": [
    {
     "data": {
      "image/png": "[encoded data removed]",
      "text/plain": [
       "<Figure size 432x288 with 1 Axes>"
      ]
     },
     "metadata": {
      "needs_background": "light"
     },
     "output_type": "display_data"
    }
   ],
   "source": [
    "from matplotlib import pyplot as plt\n",
    "fig = sm.qqplot(trees_df[\"residuals\"], fit=True, line='45')\n",
    "plt.title(\"QQ Plot of residuals\")\n",
    "plt.show()"
   ]
  },
  {
   "cell_type": "markdown",
   "metadata": {},
   "source": [
    "Despite some of the datapoints deviating away from the line, the normality of the data is acceptable. Any more deviation than this and I would start to question whether the residuals are following a normal distribution.\n",
    "\n",
    "## Transformations\n",
    "\n",
    "Had this data not followed a normal distribution, we could have applied something known as a **transformation** to it. Transformations are a way of modifying our data, whether it an endogenous or exogenous variable, to improve the fit and correct violations of the statistical assumptions behind the model. We will look at two transformation strategies here, the simple $\\log$ transformation, and the more powerful Box-Cox transformation. Transformations can be an iterative process, and sometimes we may have a mathematical justification for choosing a transformation, whereas some other times we might default to trial and error.\n",
    "\n",
    "The Box-Cox transformations are given by:\n",
    "$$\n",
    "y^\\lambda = \\begin{cases} \\frac{y^\\lambda - 1}{\\lambda} & \\lambda \\neq 0 \\\\ \\log(y) & \\lambda = 0 \\end{cases}\n",
    "$$\n",
    "\n",
    "Where lambda will be found by maximum likelihood. We're interested in 'sensible' values of lambda - typically something that falls between (-3, 3). So if $\\lambda$ was found to be 1, the transformation of $y^1 = y$. Therefore the variable doesn't change. Similarly:\n",
    "<table>\n",
    "    <tr>\n",
    "        <td><b>Lambda</b></td>\n",
    "        <td><b>Transformation</b></td>\n",
    "    </tr>\n",
    "    <tr>\n",
    "        <td>2</td>\n",
    "        <td>Square</td>\n",
    "    </tr>\n",
    "    <tr>\n",
    "        <td>1</td>\n",
    "        <td>None</td>\n",
    "    </tr>\n",
    "    <tr>\n",
    "        <td>0.5</td>\n",
    "        <td>Square root</td>\n",
    "    </tr>\n",
    "    <tr>\n",
    "        <td>0</td>\n",
    "        <td>Logarithmic</td>\n",
    "    </tr>\n",
    "    <tr>\n",
    "        <td>-1</td>\n",
    "        <td>Reciprocal</td>\n",
    "    </tr>\n",
    "    </table>\n",
    "    \n",
    "We'll look at the Box-Cox transformation first, identifying the lambda values for a variable alongside the 95% confidence interval."
   ]
  },
  {
   "cell_type": "code",
   "execution_count": 51,
   "metadata": {
    "scrolled": false
   },
   "outputs": [],
   "source": [
    "from scipy import stats\n",
    "\n",
    "def calculate_and_plot_boxcox(variable, alpha=0.05, title_string=\"\", plot_lower_bound=-20, plot_upper_bound=20):\n",
    "    transformed_data, best_lambda, conf = stats.boxcox(variable, alpha=alpha)\n",
    "    lambdas, corr_coef = stats.boxcox_normplot(variable, plot_lower_bound, plot_upper_bound)\n",
    "    \n",
    "    fig = go.Figure()\n",
    "    fig.add_trace(go.Scatter(x=lambdas, y=corr_coef))\n",
    "    fig.add_shape(dict(type=\"line\", x0=best_lambda, x1=best_lambda, y0=0, y1=1))\n",
    "    fig.add_shape(dict(type=\"line\", x0=conf[0], x1=conf[0], y0=0, y1=1, line=dict(color=\"Red\", width=1)))\n",
    "    fig.add_shape(dict(type=\"line\", x0=conf[1], x1=conf[1], y0=0, y1=1, line=dict(color=\"Red\", width=1)))\n",
    "    fig.add_shape(dict(type=\"line\", x0=1, x1=1, y0=0, y1=1, line=dict(color=\"Red\", width=1, dash=\"dash\")))\n",
    "    fig.update_layout(xaxis_title=\"Lambda Value\", yaxis_title=\"Correlation Coefficient\", title=\"Box-Cox Normality Plot ({})\".format(title_string))\n",
    "    \n",
    "    return transformed_data, best_lambda, fig"
   ]
  },
  {
   "cell_type": "code",
   "execution_count": 52,
   "metadata": {},
   "outputs": [
    {
     "name": "stdout",
     "output_type": "stream",
     "text": [
      "Obtained lambda value:  2.935266671351034\n"
     ]
    },
    {
     "data": {
      "application/vnd.plotly.v1+json": {
       "config": {
        "plotlyServerURL": "https://plot.ly"
       },
       "data": [
        {
         "type": "scatter",
         "x": [
          -20,
          -19.49367088607595,
          -18.9873417721519,
          -18.481012658227847,
          -17.974683544303797,
          -17.468354430379748,
          -16.962025316455694,
          -16.455696202531644,
          -15.949367088607595,
          -15.443037974683545,
          -14.936708860759493,
          -14.430379746835442,
          -13.924050632911392,
          -13.417721518987342,
          -12.91139240506329,
          -12.40506329113924,
          -11.89873417721519,
          -11.39240506329114,
          -10.886075949367088,
          -10.379746835443036,
          -9.873417721518987,
          -9.367088607594937,
          -8.860759493670885,
          -8.354430379746834,
          -7.848101265822784,
          -7.341772151898734,
          -6.835443037974683,
          -6.329113924050631,
          -5.822784810126581,
          -5.3164556962025316,
          -4.81012658227848,
          -4.3037974683544284,
          -3.7974683544303787,
          -3.291139240506329,
          -2.784810126582279,
          -2.278481012658226,
          -1.772151898734176,
          -1.2658227848101262,
          -0.7594936708860729,
          -0.2531645569620231,
          0.25316455696202667,
          0.7594936708860764,
          1.2658227848101262,
          1.7721518987341796,
          2.2784810126582293,
          2.784810126582279,
          3.2911392405063324,
          3.797468354430382,
          4.303797468354432,
          4.810126582278482,
          5.3164556962025316,
          5.822784810126585,
          6.329113924050635,
          6.835443037974684,
          7.341772151898738,
          7.8481012658227876,
          8.354430379746837,
          8.860759493670887,
          9.367088607594937,
          9.87341772151899,
          10.37974683544304,
          10.88607594936709,
          11.392405063291143,
          11.898734177215193,
          12.405063291139243,
          12.911392405063296,
          13.417721518987342,
          13.924050632911396,
          14.430379746835442,
          14.936708860759495,
          15.443037974683548,
          15.949367088607595,
          16.455696202531648,
          16.9620253164557,
          17.468354430379748,
          17.9746835443038,
          18.481012658227854,
          18.9873417721519,
          19.493670886075954,
          20
         ],
         "y": [
          0,
          0,
          0,
          0,
          0,
          -3.0240640056274466e-17,
          0,
          3.0240640056274466e-17,
          0,
          0,
          0,
          0,
          0,
          0,
          0,
          0,
          0,
          0,
          0,
          3.0240640056274466e-17,
          0,
          0,
          0.09761902268215909,
          0.6256937081355309,
          0.8661464035258596,
          0.8872527639716945,
          0.8955075261493067,
          0.9034702509092855,
          0.9113232647887258,
          0.9190031243260682,
          0.926483934251305,
          0.933727206317644,
          0.9406956486515753,
          0.9473524725027928,
          0.9536618228880626,
          0.9595893010963704,
          0.96510248523326,
          0.9701714304289072,
          0.9747691317649004,
          0.9788719352862799,
          0.9824598840057092,
          0.9855169882370437,
          0.9880314125996156,
          0.9899955754251001,
          0.9914061598498993,
          0.9922640393530672,
          0.9925741236831856,
          0.9923451338216561,
          0.9915893167185428,
          0.9903221119324381,
          0.9885617829892831,
          0.9863290262830507,
          0.9836465697543615,
          0.9805387725137262,
          0.9770312351534796,
          0.9731504288493816,
          0.9689233496143314,
          0.964377202341324,
          0.9595391176477506,
          0.954435903072072,
          0.9490938289168537,
          0.9435384479988955,
          0.9377944477594188,
          0.9318855325941536,
          0.925834333863816,
          0.9196623448140814,
          0.9133898775420344,
          0.9070360391647475,
          0.9006187244481261,
          0.8941546223165658,
          0.8876592338655708,
          0.8811468997233268,
          0.8746308348399264,
          0.868123169014174,
          0.8616349916903253,
          0.8551763997657124,
          0.8487565473418575,
          0.8423836965248778,
          0.8360652685352238,
          0.829807894522408
         ]
        }
       ],
       "layout": {
        "shapes": [
         {
          "type": "line",
          "x0": 2.935266671351034,
          "x1": 2.935266671351034,
          "y0": 0,
          "y1": 1
         },
         {
          "line": {
           "color": "Red",
           "width": 1
          },
          "type": "line",
          "x0": -1.080570010158181,
          "x1": -1.080570010158181,
          "y0": 0,
          "y1": 1
         },
         {
          "line": {
           "color": "Red",
           "width": 1
          },
          "type": "line",
          "x0": 7.101037532769716,
          "x1": 7.101037532769716,
          "y0": 0,
          "y1": 1
         },
         {
          "line": {
           "color": "Red",
           "dash": "dash",
           "width": 1
          },
          "type": "line",
          "x0": 1,
          "x1": 1,
          "y0": 0,
          "y1": 1
         }
        ],
        "template": {
         "data": {
          "bar": [
           {
            "error_x": {
             "color": "#2a3f5f"
            },
            "error_y": {
             "color": "#2a3f5f"
            },
            "marker": {
             "line": {
              "color": "#E5ECF6",
              "width": 0.5
             }
            },
            "type": "bar"
           }
          ],
          "barpolar": [
           {
            "marker": {
             "line": {
              "color": "#E5ECF6",
              "width": 0.5
             }
            },
            "type": "barpolar"
           }
          ],
          "carpet": [
           {
            "aaxis": {
             "endlinecolor": "#2a3f5f",
             "gridcolor": "white",
             "linecolor": "white",
             "minorgridcolor": "white",
             "startlinecolor": "#2a3f5f"
            },
            "baxis": {
             "endlinecolor": "#2a3f5f",
             "gridcolor": "white",
             "linecolor": "white",
             "minorgridcolor": "white",
             "startlinecolor": "#2a3f5f"
            },
            "type": "carpet"
           }
          ],
          "choropleth": [
           {
            "colorbar": {
             "outlinewidth": 0,
             "ticks": ""
            },
            "type": "choropleth"
           }
          ],
          "contour": [
           {
            "colorbar": {
             "outlinewidth": 0,
             "ticks": ""
            },
            "colorscale": [
             [
              0,
              "#0d0887"
             ],
             [
              0.1111111111111111,
              "#46039f"
             ],
             [
              0.2222222222222222,
              "#7201a8"
             ],
             [
              0.3333333333333333,
              "#9c179e"
             ],
             [
              0.4444444444444444,
              "#bd3786"
             ],
             [
              0.5555555555555556,
              "#d8576b"
             ],
             [
              0.6666666666666666,
              "#ed7953"
             ],
             [
              0.7777777777777778,
              "#fb9f3a"
             ],
             [
              0.8888888888888888,
              "#fdca26"
             ],
             [
              1,
              "#f0f921"
             ]
            ],
            "type": "contour"
           }
          ],
          "contourcarpet": [
           {
            "colorbar": {
             "outlinewidth": 0,
             "ticks": ""
            },
            "type": "contourcarpet"
           }
          ],
          "heatmap": [
           {
            "colorbar": {
             "outlinewidth": 0,
             "ticks": ""
            },
            "colorscale": [
             [
              0,
              "#0d0887"
             ],
             [
              0.1111111111111111,
              "#46039f"
             ],
             [
              0.2222222222222222,
              "#7201a8"
             ],
             [
              0.3333333333333333,
              "#9c179e"
             ],
             [
              0.4444444444444444,
              "#bd3786"
             ],
             [
              0.5555555555555556,
              "#d8576b"
             ],
             [
              0.6666666666666666,
              "#ed7953"
             ],
             [
              0.7777777777777778,
              "#fb9f3a"
             ],
             [
              0.8888888888888888,
              "#fdca26"
             ],
             [
              1,
              "#f0f921"
             ]
            ],
            "type": "heatmap"
           }
          ],
          "heatmapgl": [
           {
            "colorbar": {
             "outlinewidth": 0,
             "ticks": ""
            },
            "colorscale": [
             [
              0,
              "#0d0887"
             ],
             [
              0.1111111111111111,
              "#46039f"
             ],
             [
              0.2222222222222222,
              "#7201a8"
             ],
             [
              0.3333333333333333,
              "#9c179e"
             ],
             [
              0.4444444444444444,
              "#bd3786"
             ],
             [
              0.5555555555555556,
              "#d8576b"
             ],
             [
              0.6666666666666666,
              "#ed7953"
             ],
             [
              0.7777777777777778,
              "#fb9f3a"
             ],
             [
              0.8888888888888888,
              "#fdca26"
             ],
             [
              1,
              "#f0f921"
             ]
            ],
            "type": "heatmapgl"
           }
          ],
          "histogram": [
           {
            "marker": {
             "colorbar": {
              "outlinewidth": 0,
              "ticks": ""
             }
            },
            "type": "histogram"
           }
          ],
          "histogram2d": [
           {
            "colorbar": {
             "outlinewidth": 0,
             "ticks": ""
            },
            "colorscale": [
             [
              0,
              "#0d0887"
             ],
             [
              0.1111111111111111,
              "#46039f"
             ],
             [
              0.2222222222222222,
              "#7201a8"
             ],
             [
              0.3333333333333333,
              "#9c179e"
             ],
             [
              0.4444444444444444,
              "#bd3786"
             ],
             [
              0.5555555555555556,
              "#d8576b"
             ],
             [
              0.6666666666666666,
              "#ed7953"
             ],
             [
              0.7777777777777778,
              "#fb9f3a"
             ],
             [
              0.8888888888888888,
              "#fdca26"
             ],
             [
              1,
              "#f0f921"
             ]
            ],
            "type": "histogram2d"
           }
          ],
          "histogram2dcontour": [
           {
            "colorbar": {
             "outlinewidth": 0,
             "ticks": ""
            },
            "colorscale": [
             [
              0,
              "#0d0887"
             ],
             [
              0.1111111111111111,
              "#46039f"
             ],
             [
              0.2222222222222222,
              "#7201a8"
             ],
             [
              0.3333333333333333,
              "#9c179e"
             ],
             [
              0.4444444444444444,
              "#bd3786"
             ],
             [
              0.5555555555555556,
              "#d8576b"
             ],
             [
              0.6666666666666666,
              "#ed7953"
             ],
             [
              0.7777777777777778,
              "#fb9f3a"
             ],
             [
              0.8888888888888888,
              "#fdca26"
             ],
             [
              1,
              "#f0f921"
             ]
            ],
            "type": "histogram2dcontour"
           }
          ],
          "mesh3d": [
           {
            "colorbar": {
             "outlinewidth": 0,
             "ticks": ""
            },
            "type": "mesh3d"
           }
          ],
          "parcoords": [
           {
            "line": {
             "colorbar": {
              "outlinewidth": 0,
              "ticks": ""
             }
            },
            "type": "parcoords"
           }
          ],
          "pie": [
           {
            "automargin": true,
            "type": "pie"
           }
          ],
          "scatter": [
           {
            "marker": {
             "colorbar": {
              "outlinewidth": 0,
              "ticks": ""
             }
            },
            "type": "scatter"
           }
          ],
          "scatter3d": [
           {
            "line": {
             "colorbar": {
              "outlinewidth": 0,
              "ticks": ""
             }
            },
            "marker": {
             "colorbar": {
              "outlinewidth": 0,
              "ticks": ""
             }
            },
            "type": "scatter3d"
           }
          ],
          "scattercarpet": [
           {
            "marker": {
             "colorbar": {
              "outlinewidth": 0,
              "ticks": ""
             }
            },
            "type": "scattercarpet"
           }
          ],
          "scattergeo": [
           {
            "marker": {
             "colorbar": {
              "outlinewidth": 0,
              "ticks": ""
             }
            },
            "type": "scattergeo"
           }
          ],
          "scattergl": [
           {
            "marker": {
             "colorbar": {
              "outlinewidth": 0,
              "ticks": ""
             }
            },
            "type": "scattergl"
           }
          ],
          "scattermapbox": [
           {
            "marker": {
             "colorbar": {
              "outlinewidth": 0,
              "ticks": ""
             }
            },
            "type": "scattermapbox"
           }
          ],
          "scatterpolar": [
           {
            "marker": {
             "colorbar": {
              "outlinewidth": 0,
              "ticks": ""
             }
            },
            "type": "scatterpolar"
           }
          ],
          "scatterpolargl": [
           {
            "marker": {
             "colorbar": {
              "outlinewidth": 0,
              "ticks": ""
             }
            },
            "type": "scatterpolargl"
           }
          ],
          "scatterternary": [
           {
            "marker": {
             "colorbar": {
              "outlinewidth": 0,
              "ticks": ""
             }
            },
            "type": "scatterternary"
           }
          ],
          "surface": [
           {
            "colorbar": {
             "outlinewidth": 0,
             "ticks": ""
            },
            "colorscale": [
             [
              0,
              "#0d0887"
             ],
             [
              0.1111111111111111,
              "#46039f"
             ],
             [
              0.2222222222222222,
              "#7201a8"
             ],
             [
              0.3333333333333333,
              "#9c179e"
             ],
             [
              0.4444444444444444,
              "#bd3786"
             ],
             [
              0.5555555555555556,
              "#d8576b"
             ],
             [
              0.6666666666666666,
              "#ed7953"
             ],
             [
              0.7777777777777778,
              "#fb9f3a"
             ],
             [
              0.8888888888888888,
              "#fdca26"
             ],
             [
              1,
              "#f0f921"
             ]
            ],
            "type": "surface"
           }
          ],
          "table": [
           {
            "cells": {
             "fill": {
              "color": "#EBF0F8"
             },
             "line": {
              "color": "white"
             }
            },
            "header": {
             "fill": {
              "color": "#C8D4E3"
             },
             "line": {
              "color": "white"
             }
            },
            "type": "table"
           }
          ]
         },
         "layout": {
          "annotationdefaults": {
           "arrowcolor": "#2a3f5f",
           "arrowhead": 0,
           "arrowwidth": 1
          },
          "coloraxis": {
           "colorbar": {
            "outlinewidth": 0,
            "ticks": ""
           }
          },
          "colorscale": {
           "diverging": [
            [
             0,
             "#8e0152"
            ],
            [
             0.1,
             "#c51b7d"
            ],
            [
             0.2,
             "#de77ae"
            ],
            [
             0.3,
             "#f1b6da"
            ],
            [
             0.4,
             "#fde0ef"
            ],
            [
             0.5,
             "#f7f7f7"
            ],
            [
             0.6,
             "#e6f5d0"
            ],
            [
             0.7,
             "#b8e186"
            ],
            [
             0.8,
             "#7fbc41"
            ],
            [
             0.9,
             "#4d9221"
            ],
            [
             1,
             "#276419"
            ]
           ],
           "sequential": [
            [
             0,
             "#0d0887"
            ],
            [
             0.1111111111111111,
             "#46039f"
            ],
            [
             0.2222222222222222,
             "#7201a8"
            ],
            [
             0.3333333333333333,
             "#9c179e"
            ],
            [
             0.4444444444444444,
             "#bd3786"
            ],
            [
             0.5555555555555556,
             "#d8576b"
            ],
            [
             0.6666666666666666,
             "#ed7953"
            ],
            [
             0.7777777777777778,
             "#fb9f3a"
            ],
            [
             0.8888888888888888,
             "#fdca26"
            ],
            [
             1,
             "#f0f921"
            ]
           ],
           "sequentialminus": [
            [
             0,
             "#0d0887"
            ],
            [
             0.1111111111111111,
             "#46039f"
            ],
            [
             0.2222222222222222,
             "#7201a8"
            ],
            [
             0.3333333333333333,
             "#9c179e"
            ],
            [
             0.4444444444444444,
             "#bd3786"
            ],
            [
             0.5555555555555556,
             "#d8576b"
            ],
            [
             0.6666666666666666,
             "#ed7953"
            ],
            [
             0.7777777777777778,
             "#fb9f3a"
            ],
            [
             0.8888888888888888,
             "#fdca26"
            ],
            [
             1,
             "#f0f921"
            ]
           ]
          },
          "colorway": [
           "#636efa",
           "#EF553B",
           "#00cc96",
           "#ab63fa",
           "#FFA15A",
           "#19d3f3",
           "#FF6692",
           "#B6E880",
           "#FF97FF",
           "#FECB52"
          ],
          "font": {
           "color": "#2a3f5f"
          },
          "geo": {
           "bgcolor": "white",
           "lakecolor": "white",
           "landcolor": "#E5ECF6",
           "showlakes": true,
           "showland": true,
           "subunitcolor": "white"
          },
          "hoverlabel": {
           "align": "left"
          },
          "hovermode": "closest",
          "mapbox": {
           "style": "light"
          },
          "paper_bgcolor": "white",
          "plot_bgcolor": "#E5ECF6",
          "polar": {
           "angularaxis": {
            "gridcolor": "white",
            "linecolor": "white",
            "ticks": ""
           },
           "bgcolor": "#E5ECF6",
           "radialaxis": {
            "gridcolor": "white",
            "linecolor": "white",
            "ticks": ""
           }
          },
          "scene": {
           "xaxis": {
            "backgroundcolor": "#E5ECF6",
            "gridcolor": "white",
            "gridwidth": 2,
            "linecolor": "white",
            "showbackground": true,
            "ticks": "",
            "zerolinecolor": "white"
           },
           "yaxis": {
            "backgroundcolor": "#E5ECF6",
            "gridcolor": "white",
            "gridwidth": 2,
            "linecolor": "white",
            "showbackground": true,
            "ticks": "",
            "zerolinecolor": "white"
           },
           "zaxis": {
            "backgroundcolor": "#E5ECF6",
            "gridcolor": "white",
            "gridwidth": 2,
            "linecolor": "white",
            "showbackground": true,
            "ticks": "",
            "zerolinecolor": "white"
           }
          },
          "shapedefaults": {
           "line": {
            "color": "#2a3f5f"
           }
          },
          "ternary": {
           "aaxis": {
            "gridcolor": "white",
            "linecolor": "white",
            "ticks": ""
           },
           "baxis": {
            "gridcolor": "white",
            "linecolor": "white",
            "ticks": ""
           },
           "bgcolor": "#E5ECF6",
           "caxis": {
            "gridcolor": "white",
            "linecolor": "white",
            "ticks": ""
           }
          },
          "title": {
           "x": 0.05
          },
          "xaxis": {
           "automargin": true,
           "gridcolor": "white",
           "linecolor": "white",
           "ticks": "",
           "title": {
            "standoff": 15
           },
           "zerolinecolor": "white",
           "zerolinewidth": 2
          },
          "yaxis": {
           "automargin": true,
           "gridcolor": "white",
           "linecolor": "white",
           "ticks": "",
           "title": {
            "standoff": 15
           },
           "zerolinecolor": "white",
           "zerolinewidth": 2
          }
         }
        },
        "title": {
         "text": "Box-Cox Normality Plot (Height)"
        },
        "xaxis": {
         "title": {
          "text": "Lambda Value"
         }
        },
        "yaxis": {
         "title": {
          "text": "Correlation Coefficient"
         }
        }
       }
      },
      "text/html": [
       "<div>\n",
       "        \n",
       "        \n",
       "            <div id=\"7a8f5079-1583-4043-b977-9b5b74967e73\" class=\"plotly-graph-div\" style=\"height:525px; width:100%;\"></div>\n",
       "            <script type=\"text/javascript\">\n",
       "                require([\"plotly\"], function(Plotly) {\n",
       "                    window.PLOTLYENV=window.PLOTLYENV || {};\n",
       "                    \n",
       "                if (document.getElementById(\"7a8f5079-1583-4043-b977-9b5b74967e73\")) {\n",
       "                    Plotly.newPlot(\n",
       "                        '7a8f5079-1583-4043-b977-9b5b74967e73',\n",
       "                        [{\"type\": \"scatter\", \"x\": [-20.0, -19.49367088607595, -18.9873417721519, -18.481012658227847, -17.974683544303797, -17.468354430379748, -16.962025316455694, -16.455696202531644, -15.949367088607595, -15.443037974683545, -14.936708860759493, -14.430379746835442, -13.924050632911392, -13.417721518987342, -12.91139240506329, -12.40506329113924, -11.89873417721519, -11.39240506329114, -10.886075949367088, -10.379746835443036, -9.873417721518987, -9.367088607594937, -8.860759493670885, -8.354430379746834, -7.848101265822784, -7.341772151898734, -6.835443037974683, -6.329113924050631, -5.822784810126581, -5.3164556962025316, -4.81012658227848, -4.3037974683544284, -3.7974683544303787, -3.291139240506329, -2.784810126582279, -2.278481012658226, -1.772151898734176, -1.2658227848101262, -0.7594936708860729, -0.2531645569620231, 0.25316455696202667, 0.7594936708860764, 1.2658227848101262, 1.7721518987341796, 2.2784810126582293, 2.784810126582279, 3.2911392405063324, 3.797468354430382, 4.303797468354432, 4.810126582278482, 5.3164556962025316, 5.822784810126585, 6.329113924050635, 6.835443037974684, 7.341772151898738, 7.8481012658227876, 8.354430379746837, 8.860759493670887, 9.367088607594937, 9.87341772151899, 10.37974683544304, 10.88607594936709, 11.392405063291143, 11.898734177215193, 12.405063291139243, 12.911392405063296, 13.417721518987342, 13.924050632911396, 14.430379746835442, 14.936708860759495, 15.443037974683548, 15.949367088607595, 16.455696202531648, 16.9620253164557, 17.468354430379748, 17.9746835443038, 18.481012658227854, 18.9873417721519, 19.493670886075954, 20.0], \"y\": [0.0, 0.0, 0.0, 0.0, 0.0, -3.0240640056274466e-17, 0.0, 3.0240640056274466e-17, 0.0, 0.0, 0.0, 0.0, 0.0, 0.0, 0.0, 0.0, 0.0, 0.0, 0.0, 3.0240640056274466e-17, 0.0, 0.0, 0.09761902268215909, 0.6256937081355309, 0.8661464035258596, 0.8872527639716945, 0.8955075261493067, 0.9034702509092855, 0.9113232647887258, 0.9190031243260682, 0.926483934251305, 0.933727206317644, 0.9406956486515753, 0.9473524725027928, 0.9536618228880626, 0.9595893010963704, 0.96510248523326, 0.9701714304289072, 0.9747691317649004, 0.9788719352862799, 0.9824598840057092, 0.9855169882370437, 0.9880314125996156, 0.9899955754251001, 0.9914061598498993, 0.9922640393530672, 0.9925741236831856, 0.9923451338216561, 0.9915893167185428, 0.9903221119324381, 0.9885617829892831, 0.9863290262830507, 0.9836465697543615, 0.9805387725137262, 0.9770312351534796, 0.9731504288493816, 0.9689233496143314, 0.964377202341324, 0.9595391176477506, 0.954435903072072, 0.9490938289168537, 0.9435384479988955, 0.9377944477594188, 0.9318855325941536, 0.925834333863816, 0.9196623448140814, 0.9133898775420344, 0.9070360391647475, 0.9006187244481261, 0.8941546223165658, 0.8876592338655708, 0.8811468997233268, 0.8746308348399264, 0.868123169014174, 0.8616349916903253, 0.8551763997657124, 0.8487565473418575, 0.8423836965248778, 0.8360652685352238, 0.829807894522408]}],\n",
       "                        {\"shapes\": [{\"type\": \"line\", \"x0\": 2.935266671351034, \"x1\": 2.935266671351034, \"y0\": 0, \"y1\": 1}, {\"line\": {\"color\": \"Red\", \"width\": 1}, \"type\": \"line\", \"x0\": -1.080570010158181, \"x1\": -1.080570010158181, \"y0\": 0, \"y1\": 1}, {\"line\": {\"color\": \"Red\", \"width\": 1}, \"type\": \"line\", \"x0\": 7.101037532769716, \"x1\": 7.101037532769716, \"y0\": 0, \"y1\": 1}, {\"line\": {\"color\": \"Red\", \"dash\": \"dash\", \"width\": 1}, \"type\": \"line\", \"x0\": 1, \"x1\": 1, \"y0\": 0, \"y1\": 1}], \"template\": {\"data\": {\"bar\": [{\"error_x\": {\"color\": \"#2a3f5f\"}, \"error_y\": {\"color\": \"#2a3f5f\"}, \"marker\": {\"line\": {\"color\": \"#E5ECF6\", \"width\": 0.5}}, \"type\": \"bar\"}], \"barpolar\": [{\"marker\": {\"line\": {\"color\": \"#E5ECF6\", \"width\": 0.5}}, \"type\": \"barpolar\"}], \"carpet\": [{\"aaxis\": {\"endlinecolor\": \"#2a3f5f\", \"gridcolor\": \"white\", \"linecolor\": \"white\", \"minorgridcolor\": \"white\", \"startlinecolor\": \"#2a3f5f\"}, \"baxis\": {\"endlinecolor\": \"#2a3f5f\", \"gridcolor\": \"white\", \"linecolor\": \"white\", \"minorgridcolor\": \"white\", \"startlinecolor\": \"#2a3f5f\"}, \"type\": \"carpet\"}], \"choropleth\": [{\"colorbar\": {\"outlinewidth\": 0, \"ticks\": \"\"}, \"type\": \"choropleth\"}], \"contour\": [{\"colorbar\": {\"outlinewidth\": 0, \"ticks\": \"\"}, \"colorscale\": [[0.0, \"#0d0887\"], [0.1111111111111111, \"#46039f\"], [0.2222222222222222, \"#7201a8\"], [0.3333333333333333, \"#9c179e\"], [0.4444444444444444, \"#bd3786\"], [0.5555555555555556, \"#d8576b\"], [0.6666666666666666, \"#ed7953\"], [0.7777777777777778, \"#fb9f3a\"], [0.8888888888888888, \"#fdca26\"], [1.0, \"#f0f921\"]], \"type\": \"contour\"}], \"contourcarpet\": [{\"colorbar\": {\"outlinewidth\": 0, \"ticks\": \"\"}, \"type\": \"contourcarpet\"}], \"heatmap\": [{\"colorbar\": {\"outlinewidth\": 0, \"ticks\": \"\"}, \"colorscale\": [[0.0, \"#0d0887\"], [0.1111111111111111, \"#46039f\"], [0.2222222222222222, \"#7201a8\"], [0.3333333333333333, \"#9c179e\"], [0.4444444444444444, \"#bd3786\"], [0.5555555555555556, \"#d8576b\"], [0.6666666666666666, \"#ed7953\"], [0.7777777777777778, \"#fb9f3a\"], [0.8888888888888888, \"#fdca26\"], [1.0, \"#f0f921\"]], \"type\": \"heatmap\"}], \"heatmapgl\": [{\"colorbar\": {\"outlinewidth\": 0, \"ticks\": \"\"}, \"colorscale\": [[0.0, \"#0d0887\"], [0.1111111111111111, \"#46039f\"], [0.2222222222222222, \"#7201a8\"], [0.3333333333333333, \"#9c179e\"], [0.4444444444444444, \"#bd3786\"], [0.5555555555555556, \"#d8576b\"], [0.6666666666666666, \"#ed7953\"], [0.7777777777777778, \"#fb9f3a\"], [0.8888888888888888, \"#fdca26\"], [1.0, \"#f0f921\"]], \"type\": \"heatmapgl\"}], \"histogram\": [{\"marker\": {\"colorbar\": {\"outlinewidth\": 0, \"ticks\": \"\"}}, \"type\": \"histogram\"}], \"histogram2d\": [{\"colorbar\": {\"outlinewidth\": 0, \"ticks\": \"\"}, \"colorscale\": [[0.0, \"#0d0887\"], [0.1111111111111111, \"#46039f\"], [0.2222222222222222, \"#7201a8\"], [0.3333333333333333, \"#9c179e\"], [0.4444444444444444, \"#bd3786\"], [0.5555555555555556, \"#d8576b\"], [0.6666666666666666, \"#ed7953\"], [0.7777777777777778, \"#fb9f3a\"], [0.8888888888888888, \"#fdca26\"], [1.0, \"#f0f921\"]], \"type\": \"histogram2d\"}], \"histogram2dcontour\": [{\"colorbar\": {\"outlinewidth\": 0, \"ticks\": \"\"}, \"colorscale\": [[0.0, \"#0d0887\"], [0.1111111111111111, \"#46039f\"], [0.2222222222222222, \"#7201a8\"], [0.3333333333333333, \"#9c179e\"], [0.4444444444444444, \"#bd3786\"], [0.5555555555555556, \"#d8576b\"], [0.6666666666666666, \"#ed7953\"], [0.7777777777777778, \"#fb9f3a\"], [0.8888888888888888, \"#fdca26\"], [1.0, \"#f0f921\"]], \"type\": \"histogram2dcontour\"}], \"mesh3d\": [{\"colorbar\": {\"outlinewidth\": 0, \"ticks\": \"\"}, \"type\": \"mesh3d\"}], \"parcoords\": [{\"line\": {\"colorbar\": {\"outlinewidth\": 0, \"ticks\": \"\"}}, \"type\": \"parcoords\"}], \"pie\": [{\"automargin\": true, \"type\": \"pie\"}], \"scatter\": [{\"marker\": {\"colorbar\": {\"outlinewidth\": 0, \"ticks\": \"\"}}, \"type\": \"scatter\"}], \"scatter3d\": [{\"line\": {\"colorbar\": {\"outlinewidth\": 0, \"ticks\": \"\"}}, \"marker\": {\"colorbar\": {\"outlinewidth\": 0, \"ticks\": \"\"}}, \"type\": \"scatter3d\"}], \"scattercarpet\": [{\"marker\": {\"colorbar\": {\"outlinewidth\": 0, \"ticks\": \"\"}}, \"type\": \"scattercarpet\"}], \"scattergeo\": [{\"marker\": {\"colorbar\": {\"outlinewidth\": 0, \"ticks\": \"\"}}, \"type\": \"scattergeo\"}], \"scattergl\": [{\"marker\": {\"colorbar\": {\"outlinewidth\": 0, \"ticks\": \"\"}}, \"type\": \"scattergl\"}], \"scattermapbox\": [{\"marker\": {\"colorbar\": {\"outlinewidth\": 0, \"ticks\": \"\"}}, \"type\": \"scattermapbox\"}], \"scatterpolar\": [{\"marker\": {\"colorbar\": {\"outlinewidth\": 0, \"ticks\": \"\"}}, \"type\": \"scatterpolar\"}], \"scatterpolargl\": [{\"marker\": {\"colorbar\": {\"outlinewidth\": 0, \"ticks\": \"\"}}, \"type\": \"scatterpolargl\"}], \"scatterternary\": [{\"marker\": {\"colorbar\": {\"outlinewidth\": 0, \"ticks\": \"\"}}, \"type\": \"scatterternary\"}], \"surface\": [{\"colorbar\": {\"outlinewidth\": 0, \"ticks\": \"\"}, \"colorscale\": [[0.0, \"#0d0887\"], [0.1111111111111111, \"#46039f\"], [0.2222222222222222, \"#7201a8\"], [0.3333333333333333, \"#9c179e\"], [0.4444444444444444, \"#bd3786\"], [0.5555555555555556, \"#d8576b\"], [0.6666666666666666, \"#ed7953\"], [0.7777777777777778, \"#fb9f3a\"], [0.8888888888888888, \"#fdca26\"], [1.0, \"#f0f921\"]], \"type\": \"surface\"}], \"table\": [{\"cells\": {\"fill\": {\"color\": \"#EBF0F8\"}, \"line\": {\"color\": \"white\"}}, \"header\": {\"fill\": {\"color\": \"#C8D4E3\"}, \"line\": {\"color\": \"white\"}}, \"type\": \"table\"}]}, \"layout\": {\"annotationdefaults\": {\"arrowcolor\": \"#2a3f5f\", \"arrowhead\": 0, \"arrowwidth\": 1}, \"coloraxis\": {\"colorbar\": {\"outlinewidth\": 0, \"ticks\": \"\"}}, \"colorscale\": {\"diverging\": [[0, \"#8e0152\"], [0.1, \"#c51b7d\"], [0.2, \"#de77ae\"], [0.3, \"#f1b6da\"], [0.4, \"#fde0ef\"], [0.5, \"#f7f7f7\"], [0.6, \"#e6f5d0\"], [0.7, \"#b8e186\"], [0.8, \"#7fbc41\"], [0.9, \"#4d9221\"], [1, \"#276419\"]], \"sequential\": [[0.0, \"#0d0887\"], [0.1111111111111111, \"#46039f\"], [0.2222222222222222, \"#7201a8\"], [0.3333333333333333, \"#9c179e\"], [0.4444444444444444, \"#bd3786\"], [0.5555555555555556, \"#d8576b\"], [0.6666666666666666, \"#ed7953\"], [0.7777777777777778, \"#fb9f3a\"], [0.8888888888888888, \"#fdca26\"], [1.0, \"#f0f921\"]], \"sequentialminus\": [[0.0, \"#0d0887\"], [0.1111111111111111, \"#46039f\"], [0.2222222222222222, \"#7201a8\"], [0.3333333333333333, \"#9c179e\"], [0.4444444444444444, \"#bd3786\"], [0.5555555555555556, \"#d8576b\"], [0.6666666666666666, \"#ed7953\"], [0.7777777777777778, \"#fb9f3a\"], [0.8888888888888888, \"#fdca26\"], [1.0, \"#f0f921\"]]}, \"colorway\": [\"#636efa\", \"#EF553B\", \"#00cc96\", \"#ab63fa\", \"#FFA15A\", \"#19d3f3\", \"#FF6692\", \"#B6E880\", \"#FF97FF\", \"#FECB52\"], \"font\": {\"color\": \"#2a3f5f\"}, \"geo\": {\"bgcolor\": \"white\", \"lakecolor\": \"white\", \"landcolor\": \"#E5ECF6\", \"showlakes\": true, \"showland\": true, \"subunitcolor\": \"white\"}, \"hoverlabel\": {\"align\": \"left\"}, \"hovermode\": \"closest\", \"mapbox\": {\"style\": \"light\"}, \"paper_bgcolor\": \"white\", \"plot_bgcolor\": \"#E5ECF6\", \"polar\": {\"angularaxis\": {\"gridcolor\": \"white\", \"linecolor\": \"white\", \"ticks\": \"\"}, \"bgcolor\": \"#E5ECF6\", \"radialaxis\": {\"gridcolor\": \"white\", \"linecolor\": \"white\", \"ticks\": \"\"}}, \"scene\": {\"xaxis\": {\"backgroundcolor\": \"#E5ECF6\", \"gridcolor\": \"white\", \"gridwidth\": 2, \"linecolor\": \"white\", \"showbackground\": true, \"ticks\": \"\", \"zerolinecolor\": \"white\"}, \"yaxis\": {\"backgroundcolor\": \"#E5ECF6\", \"gridcolor\": \"white\", \"gridwidth\": 2, \"linecolor\": \"white\", \"showbackground\": true, \"ticks\": \"\", \"zerolinecolor\": \"white\"}, \"zaxis\": {\"backgroundcolor\": \"#E5ECF6\", \"gridcolor\": \"white\", \"gridwidth\": 2, \"linecolor\": \"white\", \"showbackground\": true, \"ticks\": \"\", \"zerolinecolor\": \"white\"}}, \"shapedefaults\": {\"line\": {\"color\": \"#2a3f5f\"}}, \"ternary\": {\"aaxis\": {\"gridcolor\": \"white\", \"linecolor\": \"white\", \"ticks\": \"\"}, \"baxis\": {\"gridcolor\": \"white\", \"linecolor\": \"white\", \"ticks\": \"\"}, \"bgcolor\": \"#E5ECF6\", \"caxis\": {\"gridcolor\": \"white\", \"linecolor\": \"white\", \"ticks\": \"\"}}, \"title\": {\"x\": 0.05}, \"xaxis\": {\"automargin\": true, \"gridcolor\": \"white\", \"linecolor\": \"white\", \"ticks\": \"\", \"title\": {\"standoff\": 15}, \"zerolinecolor\": \"white\", \"zerolinewidth\": 2}, \"yaxis\": {\"automargin\": true, \"gridcolor\": \"white\", \"linecolor\": \"white\", \"ticks\": \"\", \"title\": {\"standoff\": 15}, \"zerolinecolor\": \"white\", \"zerolinewidth\": 2}}}, \"title\": {\"text\": \"Box-Cox Normality Plot (Height)\"}, \"xaxis\": {\"title\": {\"text\": \"Lambda Value\"}}, \"yaxis\": {\"title\": {\"text\": \"Correlation Coefficient\"}}},\n",
       "                        {\"responsive\": true}\n",
       "                    ).then(function(){\n",
       "                            \n",
       "var gd = document.getElementById('7a8f5079-1583-4043-b977-9b5b74967e73');\n",
       "var x = new MutationObserver(function (mutations, observer) {{\n",
       "        var display = window.getComputedStyle(gd).display;\n",
       "        if (!display || display === 'none') {{\n",
       "            console.log([gd, 'removed!']);\n",
       "            Plotly.purge(gd);\n",
       "            observer.disconnect();\n",
       "        }}\n",
       "}});\n",
       "\n",
       "// Listen for the removal of the full notebook cells\n",
       "var notebookContainer = gd.closest('#notebook-container');\n",
       "if (notebookContainer) {{\n",
       "    x.observe(notebookContainer, {childList: true});\n",
       "}}\n",
       "\n",
       "// Listen for the clearing of the current output cell\n",
       "var outputEl = gd.closest('.output');\n",
       "if (outputEl) {{\n",
       "    x.observe(outputEl, {childList: true});\n",
       "}}\n",
       "\n",
       "                        })\n",
       "                };\n",
       "                });\n",
       "            </script>\n",
       "        </div>"
      ]
     },
     "metadata": {},
     "output_type": "display_data"
    }
   ],
   "source": [
    "transformed_h, lambda_h, fig = calculate_and_plot_boxcox(trees_df[\"h\"], title_string=\"Height\")\n",
    "print(\"Obtained lambda value: \", lambda_h)\n",
    "fig.show()"
   ]
  },
  {
   "cell_type": "code",
   "execution_count": 53,
   "metadata": {},
   "outputs": [
    {
     "name": "stdout",
     "output_type": "stream",
     "text": [
      "Obtained lambda value:  -0.2125912067969005\n"
     ]
    },
    {
     "data": {
      "application/vnd.plotly.v1+json": {
       "config": {
        "plotlyServerURL": "https://plot.ly"
       },
       "data": [
        {
         "type": "scatter",
         "x": [
          -20,
          -19.49367088607595,
          -18.9873417721519,
          -18.481012658227847,
          -17.974683544303797,
          -17.468354430379748,
          -16.962025316455694,
          -16.455696202531644,
          -15.949367088607595,
          -15.443037974683545,
          -14.936708860759493,
          -14.430379746835442,
          -13.924050632911392,
          -13.417721518987342,
          -12.91139240506329,
          -12.40506329113924,
          -11.89873417721519,
          -11.39240506329114,
          -10.886075949367088,
          -10.379746835443036,
          -9.873417721518987,
          -9.367088607594937,
          -8.860759493670885,
          -8.354430379746834,
          -7.848101265822784,
          -7.341772151898734,
          -6.835443037974683,
          -6.329113924050631,
          -5.822784810126581,
          -5.3164556962025316,
          -4.81012658227848,
          -4.3037974683544284,
          -3.7974683544303787,
          -3.291139240506329,
          -2.784810126582279,
          -2.278481012658226,
          -1.772151898734176,
          -1.2658227848101262,
          -0.7594936708860729,
          -0.2531645569620231,
          0.25316455696202667,
          0.7594936708860764,
          1.2658227848101262,
          1.7721518987341796,
          2.2784810126582293,
          2.784810126582279,
          3.2911392405063324,
          3.797468354430382,
          4.303797468354432,
          4.810126582278482,
          5.3164556962025316,
          5.822784810126585,
          6.329113924050635,
          6.835443037974684,
          7.341772151898738,
          7.8481012658227876,
          8.354430379746837,
          8.860759493670887,
          9.367088607594937,
          9.87341772151899,
          10.37974683544304,
          10.88607594936709,
          11.392405063291143,
          11.898734177215193,
          12.405063291139243,
          12.911392405063296,
          13.417721518987342,
          13.924050632911396,
          14.430379746835442,
          14.936708860759495,
          15.443037974683548,
          15.949367088607595,
          16.455696202531648,
          16.9620253164557,
          17.468354430379748,
          17.9746835443038,
          18.481012658227854,
          18.9873417721519,
          19.493670886075954,
          20
         ],
         "y": [
          0,
          0,
          0,
          0,
          0,
          0.022553318121186536,
          0.1979100323725898,
          0.28470936442251,
          0.5510282236383717,
          0.591775448370903,
          0.5871497192360625,
          0.5973990494598336,
          0.6010468056439218,
          0.606572721687831,
          0.6123621729212144,
          0.6189469525355467,
          0.6260619517593262,
          0.6338939589652531,
          0.6425313325152812,
          0.6520617130671296,
          0.6625883127192336,
          0.6742143637926341,
          0.6870446464284236,
          0.7011786321142809,
          0.7167037893645464,
          0.7336854359010663,
          0.7521533080206253,
          0.7720844623066418,
          0.7933826428224857,
          0.8158553048256092,
          0.8391909374969441,
          0.8629413397228284,
          0.8865155352508913,
          0.9091931341589756,
          0.9301637088512611,
          0.9485938591338947,
          0.9637151434371943,
          0.9749165077148501,
          0.9818190309108289,
          0.9843131309721155,
          0.9825492831282535,
          0.9768879945573251,
          0.9678261136960835,
          0.9559198777292589,
          0.9417207788577949,
          0.9257322838943719,
          0.908387890871931,
          0.8900462658510907,
          0.8709974937824986,
          0.8514748711151291,
          0.8316680516959506,
          0.8117349256979096,
          0.7918109453887492,
          0.7720155725913702,
          0.7524561204890474,
          0.7332295655450211,
          0.714422994964915,
          0.6961133065277454,
          0.6783666535341462,
          0.6612379763903747,
          0.644770817421539,
          0.6289974964328132,
          0.6139396392356248,
          0.5996089993366335,
          0.5860084887591468,
          0.5731333299853747,
          0.5609722497800932,
          0.549508650937273,
          0.5387217152359055,
          0.5285874072088764,
          0.5190793621797528,
          0.5101696528355336,
          0.5018294364198834,
          0.4940294898230572,
          0.4867406429180219,
          0.479934121965587,
          0.47358181524898596,
          0.4676564726826301,
          0.4621318502663126,
          0.45698280914176337
         ]
        }
       ],
       "layout": {
        "shapes": [
         {
          "type": "line",
          "x0": -0.2125912067969005,
          "x1": -0.2125912067969005,
          "y0": 0,
          "y1": 1
         },
         {
          "line": {
           "color": "Red",
           "width": 1
          },
          "type": "line",
          "x0": -1.6663821878114238,
          "x1": -1.6663821878114238,
          "y0": 0,
          "y1": 1
         },
         {
          "line": {
           "color": "Red",
           "width": 1
          },
          "type": "line",
          "x0": 1.2724941019402927,
          "x1": 1.2724941019402927,
          "y0": 0,
          "y1": 1
         },
         {
          "line": {
           "color": "Red",
           "dash": "dash",
           "width": 1
          },
          "type": "line",
          "x0": 1,
          "x1": 1,
          "y0": 0,
          "y1": 1
         }
        ],
        "template": {
         "data": {
          "bar": [
           {
            "error_x": {
             "color": "#2a3f5f"
            },
            "error_y": {
             "color": "#2a3f5f"
            },
            "marker": {
             "line": {
              "color": "#E5ECF6",
              "width": 0.5
             }
            },
            "type": "bar"
           }
          ],
          "barpolar": [
           {
            "marker": {
             "line": {
              "color": "#E5ECF6",
              "width": 0.5
             }
            },
            "type": "barpolar"
           }
          ],
          "carpet": [
           {
            "aaxis": {
             "endlinecolor": "#2a3f5f",
             "gridcolor": "white",
             "linecolor": "white",
             "minorgridcolor": "white",
             "startlinecolor": "#2a3f5f"
            },
            "baxis": {
             "endlinecolor": "#2a3f5f",
             "gridcolor": "white",
             "linecolor": "white",
             "minorgridcolor": "white",
             "startlinecolor": "#2a3f5f"
            },
            "type": "carpet"
           }
          ],
          "choropleth": [
           {
            "colorbar": {
             "outlinewidth": 0,
             "ticks": ""
            },
            "type": "choropleth"
           }
          ],
          "contour": [
           {
            "colorbar": {
             "outlinewidth": 0,
             "ticks": ""
            },
            "colorscale": [
             [
              0,
              "#0d0887"
             ],
             [
              0.1111111111111111,
              "#46039f"
             ],
             [
              0.2222222222222222,
              "#7201a8"
             ],
             [
              0.3333333333333333,
              "#9c179e"
             ],
             [
              0.4444444444444444,
              "#bd3786"
             ],
             [
              0.5555555555555556,
              "#d8576b"
             ],
             [
              0.6666666666666666,
              "#ed7953"
             ],
             [
              0.7777777777777778,
              "#fb9f3a"
             ],
             [
              0.8888888888888888,
              "#fdca26"
             ],
             [
              1,
              "#f0f921"
             ]
            ],
            "type": "contour"
           }
          ],
          "contourcarpet": [
           {
            "colorbar": {
             "outlinewidth": 0,
             "ticks": ""
            },
            "type": "contourcarpet"
           }
          ],
          "heatmap": [
           {
            "colorbar": {
             "outlinewidth": 0,
             "ticks": ""
            },
            "colorscale": [
             [
              0,
              "#0d0887"
             ],
             [
              0.1111111111111111,
              "#46039f"
             ],
             [
              0.2222222222222222,
              "#7201a8"
             ],
             [
              0.3333333333333333,
              "#9c179e"
             ],
             [
              0.4444444444444444,
              "#bd3786"
             ],
             [
              0.5555555555555556,
              "#d8576b"
             ],
             [
              0.6666666666666666,
              "#ed7953"
             ],
             [
              0.7777777777777778,
              "#fb9f3a"
             ],
             [
              0.8888888888888888,
              "#fdca26"
             ],
             [
              1,
              "#f0f921"
             ]
            ],
            "type": "heatmap"
           }
          ],
          "heatmapgl": [
           {
            "colorbar": {
             "outlinewidth": 0,
             "ticks": ""
            },
            "colorscale": [
             [
              0,
              "#0d0887"
             ],
             [
              0.1111111111111111,
              "#46039f"
             ],
             [
              0.2222222222222222,
              "#7201a8"
             ],
             [
              0.3333333333333333,
              "#9c179e"
             ],
             [
              0.4444444444444444,
              "#bd3786"
             ],
             [
              0.5555555555555556,
              "#d8576b"
             ],
             [
              0.6666666666666666,
              "#ed7953"
             ],
             [
              0.7777777777777778,
              "#fb9f3a"
             ],
             [
              0.8888888888888888,
              "#fdca26"
             ],
             [
              1,
              "#f0f921"
             ]
            ],
            "type": "heatmapgl"
           }
          ],
          "histogram": [
           {
            "marker": {
             "colorbar": {
              "outlinewidth": 0,
              "ticks": ""
             }
            },
            "type": "histogram"
           }
          ],
          "histogram2d": [
           {
            "colorbar": {
             "outlinewidth": 0,
             "ticks": ""
            },
            "colorscale": [
             [
              0,
              "#0d0887"
             ],
             [
              0.1111111111111111,
              "#46039f"
             ],
             [
              0.2222222222222222,
              "#7201a8"
             ],
             [
              0.3333333333333333,
              "#9c179e"
             ],
             [
              0.4444444444444444,
              "#bd3786"
             ],
             [
              0.5555555555555556,
              "#d8576b"
             ],
             [
              0.6666666666666666,
              "#ed7953"
             ],
             [
              0.7777777777777778,
              "#fb9f3a"
             ],
             [
              0.8888888888888888,
              "#fdca26"
             ],
             [
              1,
              "#f0f921"
             ]
            ],
            "type": "histogram2d"
           }
          ],
          "histogram2dcontour": [
           {
            "colorbar": {
             "outlinewidth": 0,
             "ticks": ""
            },
            "colorscale": [
             [
              0,
              "#0d0887"
             ],
             [
              0.1111111111111111,
              "#46039f"
             ],
             [
              0.2222222222222222,
              "#7201a8"
             ],
             [
              0.3333333333333333,
              "#9c179e"
             ],
             [
              0.4444444444444444,
              "#bd3786"
             ],
             [
              0.5555555555555556,
              "#d8576b"
             ],
             [
              0.6666666666666666,
              "#ed7953"
             ],
             [
              0.7777777777777778,
              "#fb9f3a"
             ],
             [
              0.8888888888888888,
              "#fdca26"
             ],
             [
              1,
              "#f0f921"
             ]
            ],
            "type": "histogram2dcontour"
           }
          ],
          "mesh3d": [
           {
            "colorbar": {
             "outlinewidth": 0,
             "ticks": ""
            },
            "type": "mesh3d"
           }
          ],
          "parcoords": [
           {
            "line": {
             "colorbar": {
              "outlinewidth": 0,
              "ticks": ""
             }
            },
            "type": "parcoords"
           }
          ],
          "pie": [
           {
            "automargin": true,
            "type": "pie"
           }
          ],
          "scatter": [
           {
            "marker": {
             "colorbar": {
              "outlinewidth": 0,
              "ticks": ""
             }
            },
            "type": "scatter"
           }
          ],
          "scatter3d": [
           {
            "line": {
             "colorbar": {
              "outlinewidth": 0,
              "ticks": ""
             }
            },
            "marker": {
             "colorbar": {
              "outlinewidth": 0,
              "ticks": ""
             }
            },
            "type": "scatter3d"
           }
          ],
          "scattercarpet": [
           {
            "marker": {
             "colorbar": {
              "outlinewidth": 0,
              "ticks": ""
             }
            },
            "type": "scattercarpet"
           }
          ],
          "scattergeo": [
           {
            "marker": {
             "colorbar": {
              "outlinewidth": 0,
              "ticks": ""
             }
            },
            "type": "scattergeo"
           }
          ],
          "scattergl": [
           {
            "marker": {
             "colorbar": {
              "outlinewidth": 0,
              "ticks": ""
             }
            },
            "type": "scattergl"
           }
          ],
          "scattermapbox": [
           {
            "marker": {
             "colorbar": {
              "outlinewidth": 0,
              "ticks": ""
             }
            },
            "type": "scattermapbox"
           }
          ],
          "scatterpolar": [
           {
            "marker": {
             "colorbar": {
              "outlinewidth": 0,
              "ticks": ""
             }
            },
            "type": "scatterpolar"
           }
          ],
          "scatterpolargl": [
           {
            "marker": {
             "colorbar": {
              "outlinewidth": 0,
              "ticks": ""
             }
            },
            "type": "scatterpolargl"
           }
          ],
          "scatterternary": [
           {
            "marker": {
             "colorbar": {
              "outlinewidth": 0,
              "ticks": ""
             }
            },
            "type": "scatterternary"
           }
          ],
          "surface": [
           {
            "colorbar": {
             "outlinewidth": 0,
             "ticks": ""
            },
            "colorscale": [
             [
              0,
              "#0d0887"
             ],
             [
              0.1111111111111111,
              "#46039f"
             ],
             [
              0.2222222222222222,
              "#7201a8"
             ],
             [
              0.3333333333333333,
              "#9c179e"
             ],
             [
              0.4444444444444444,
              "#bd3786"
             ],
             [
              0.5555555555555556,
              "#d8576b"
             ],
             [
              0.6666666666666666,
              "#ed7953"
             ],
             [
              0.7777777777777778,
              "#fb9f3a"
             ],
             [
              0.8888888888888888,
              "#fdca26"
             ],
             [
              1,
              "#f0f921"
             ]
            ],
            "type": "surface"
           }
          ],
          "table": [
           {
            "cells": {
             "fill": {
              "color": "#EBF0F8"
             },
             "line": {
              "color": "white"
             }
            },
            "header": {
             "fill": {
              "color": "#C8D4E3"
             },
             "line": {
              "color": "white"
             }
            },
            "type": "table"
           }
          ]
         },
         "layout": {
          "annotationdefaults": {
           "arrowcolor": "#2a3f5f",
           "arrowhead": 0,
           "arrowwidth": 1
          },
          "coloraxis": {
           "colorbar": {
            "outlinewidth": 0,
            "ticks": ""
           }
          },
          "colorscale": {
           "diverging": [
            [
             0,
             "#8e0152"
            ],
            [
             0.1,
             "#c51b7d"
            ],
            [
             0.2,
             "#de77ae"
            ],
            [
             0.3,
             "#f1b6da"
            ],
            [
             0.4,
             "#fde0ef"
            ],
            [
             0.5,
             "#f7f7f7"
            ],
            [
             0.6,
             "#e6f5d0"
            ],
            [
             0.7,
             "#b8e186"
            ],
            [
             0.8,
             "#7fbc41"
            ],
            [
             0.9,
             "#4d9221"
            ],
            [
             1,
             "#276419"
            ]
           ],
           "sequential": [
            [
             0,
             "#0d0887"
            ],
            [
             0.1111111111111111,
             "#46039f"
            ],
            [
             0.2222222222222222,
             "#7201a8"
            ],
            [
             0.3333333333333333,
             "#9c179e"
            ],
            [
             0.4444444444444444,
             "#bd3786"
            ],
            [
             0.5555555555555556,
             "#d8576b"
            ],
            [
             0.6666666666666666,
             "#ed7953"
            ],
            [
             0.7777777777777778,
             "#fb9f3a"
            ],
            [
             0.8888888888888888,
             "#fdca26"
            ],
            [
             1,
             "#f0f921"
            ]
           ],
           "sequentialminus": [
            [
             0,
             "#0d0887"
            ],
            [
             0.1111111111111111,
             "#46039f"
            ],
            [
             0.2222222222222222,
             "#7201a8"
            ],
            [
             0.3333333333333333,
             "#9c179e"
            ],
            [
             0.4444444444444444,
             "#bd3786"
            ],
            [
             0.5555555555555556,
             "#d8576b"
            ],
            [
             0.6666666666666666,
             "#ed7953"
            ],
            [
             0.7777777777777778,
             "#fb9f3a"
            ],
            [
             0.8888888888888888,
             "#fdca26"
            ],
            [
             1,
             "#f0f921"
            ]
           ]
          },
          "colorway": [
           "#636efa",
           "#EF553B",
           "#00cc96",
           "#ab63fa",
           "#FFA15A",
           "#19d3f3",
           "#FF6692",
           "#B6E880",
           "#FF97FF",
           "#FECB52"
          ],
          "font": {
           "color": "#2a3f5f"
          },
          "geo": {
           "bgcolor": "white",
           "lakecolor": "white",
           "landcolor": "#E5ECF6",
           "showlakes": true,
           "showland": true,
           "subunitcolor": "white"
          },
          "hoverlabel": {
           "align": "left"
          },
          "hovermode": "closest",
          "mapbox": {
           "style": "light"
          },
          "paper_bgcolor": "white",
          "plot_bgcolor": "#E5ECF6",
          "polar": {
           "angularaxis": {
            "gridcolor": "white",
            "linecolor": "white",
            "ticks": ""
           },
           "bgcolor": "#E5ECF6",
           "radialaxis": {
            "gridcolor": "white",
            "linecolor": "white",
            "ticks": ""
           }
          },
          "scene": {
           "xaxis": {
            "backgroundcolor": "#E5ECF6",
            "gridcolor": "white",
            "gridwidth": 2,
            "linecolor": "white",
            "showbackground": true,
            "ticks": "",
            "zerolinecolor": "white"
           },
           "yaxis": {
            "backgroundcolor": "#E5ECF6",
            "gridcolor": "white",
            "gridwidth": 2,
            "linecolor": "white",
            "showbackground": true,
            "ticks": "",
            "zerolinecolor": "white"
           },
           "zaxis": {
            "backgroundcolor": "#E5ECF6",
            "gridcolor": "white",
            "gridwidth": 2,
            "linecolor": "white",
            "showbackground": true,
            "ticks": "",
            "zerolinecolor": "white"
           }
          },
          "shapedefaults": {
           "line": {
            "color": "#2a3f5f"
           }
          },
          "ternary": {
           "aaxis": {
            "gridcolor": "white",
            "linecolor": "white",
            "ticks": ""
           },
           "baxis": {
            "gridcolor": "white",
            "linecolor": "white",
            "ticks": ""
           },
           "bgcolor": "#E5ECF6",
           "caxis": {
            "gridcolor": "white",
            "linecolor": "white",
            "ticks": ""
           }
          },
          "title": {
           "x": 0.05
          },
          "xaxis": {
           "automargin": true,
           "gridcolor": "white",
           "linecolor": "white",
           "ticks": "",
           "title": {
            "standoff": 15
           },
           "zerolinecolor": "white",
           "zerolinewidth": 2
          },
          "yaxis": {
           "automargin": true,
           "gridcolor": "white",
           "linecolor": "white",
           "ticks": "",
           "title": {
            "standoff": 15
           },
           "zerolinecolor": "white",
           "zerolinewidth": 2
          }
         }
        },
        "title": {
         "text": "Box-Cox Normality Plot (Girth)"
        },
        "xaxis": {
         "title": {
          "text": "Lambda Value"
         }
        },
        "yaxis": {
         "title": {
          "text": "Correlation Coefficient"
         }
        }
       }
      },
      "text/html": [
       "<div>\n",
       "        \n",
       "        \n",
       "            <div id=\"32b5ca07-1d73-4a40-a6ee-42e9288c58c8\" class=\"plotly-graph-div\" style=\"height:525px; width:100%;\"></div>\n",
       "            <script type=\"text/javascript\">\n",
       "                require([\"plotly\"], function(Plotly) {\n",
       "                    window.PLOTLYENV=window.PLOTLYENV || {};\n",
       "                    \n",
       "                if (document.getElementById(\"32b5ca07-1d73-4a40-a6ee-42e9288c58c8\")) {\n",
       "                    Plotly.newPlot(\n",
       "                        '32b5ca07-1d73-4a40-a6ee-42e9288c58c8',\n",
       "                        [{\"type\": \"scatter\", \"x\": [-20.0, -19.49367088607595, -18.9873417721519, -18.481012658227847, -17.974683544303797, -17.468354430379748, -16.962025316455694, -16.455696202531644, -15.949367088607595, -15.443037974683545, -14.936708860759493, -14.430379746835442, -13.924050632911392, -13.417721518987342, -12.91139240506329, -12.40506329113924, -11.89873417721519, -11.39240506329114, -10.886075949367088, -10.379746835443036, -9.873417721518987, -9.367088607594937, -8.860759493670885, -8.354430379746834, -7.848101265822784, -7.341772151898734, -6.835443037974683, -6.329113924050631, -5.822784810126581, -5.3164556962025316, -4.81012658227848, -4.3037974683544284, -3.7974683544303787, -3.291139240506329, -2.784810126582279, -2.278481012658226, -1.772151898734176, -1.2658227848101262, -0.7594936708860729, -0.2531645569620231, 0.25316455696202667, 0.7594936708860764, 1.2658227848101262, 1.7721518987341796, 2.2784810126582293, 2.784810126582279, 3.2911392405063324, 3.797468354430382, 4.303797468354432, 4.810126582278482, 5.3164556962025316, 5.822784810126585, 6.329113924050635, 6.835443037974684, 7.341772151898738, 7.8481012658227876, 8.354430379746837, 8.860759493670887, 9.367088607594937, 9.87341772151899, 10.37974683544304, 10.88607594936709, 11.392405063291143, 11.898734177215193, 12.405063291139243, 12.911392405063296, 13.417721518987342, 13.924050632911396, 14.430379746835442, 14.936708860759495, 15.443037974683548, 15.949367088607595, 16.455696202531648, 16.9620253164557, 17.468354430379748, 17.9746835443038, 18.481012658227854, 18.9873417721519, 19.493670886075954, 20.0], \"y\": [0.0, 0.0, 0.0, 0.0, 0.0, 0.022553318121186536, 0.1979100323725898, 0.28470936442251, 0.5510282236383717, 0.591775448370903, 0.5871497192360625, 0.5973990494598336, 0.6010468056439218, 0.606572721687831, 0.6123621729212144, 0.6189469525355467, 0.6260619517593262, 0.6338939589652531, 0.6425313325152812, 0.6520617130671296, 0.6625883127192336, 0.6742143637926341, 0.6870446464284236, 0.7011786321142809, 0.7167037893645464, 0.7336854359010663, 0.7521533080206253, 0.7720844623066418, 0.7933826428224857, 0.8158553048256092, 0.8391909374969441, 0.8629413397228284, 0.8865155352508913, 0.9091931341589756, 0.9301637088512611, 0.9485938591338947, 0.9637151434371943, 0.9749165077148501, 0.9818190309108289, 0.9843131309721155, 0.9825492831282535, 0.9768879945573251, 0.9678261136960835, 0.9559198777292589, 0.9417207788577949, 0.9257322838943719, 0.908387890871931, 0.8900462658510907, 0.8709974937824986, 0.8514748711151291, 0.8316680516959506, 0.8117349256979096, 0.7918109453887492, 0.7720155725913702, 0.7524561204890474, 0.7332295655450211, 0.714422994964915, 0.6961133065277454, 0.6783666535341462, 0.6612379763903747, 0.644770817421539, 0.6289974964328132, 0.6139396392356248, 0.5996089993366335, 0.5860084887591468, 0.5731333299853747, 0.5609722497800932, 0.549508650937273, 0.5387217152359055, 0.5285874072088764, 0.5190793621797528, 0.5101696528355336, 0.5018294364198834, 0.4940294898230572, 0.4867406429180219, 0.479934121965587, 0.47358181524898596, 0.4676564726826301, 0.4621318502663126, 0.45698280914176337]}],\n",
       "                        {\"shapes\": [{\"type\": \"line\", \"x0\": -0.2125912067969005, \"x1\": -0.2125912067969005, \"y0\": 0, \"y1\": 1}, {\"line\": {\"color\": \"Red\", \"width\": 1}, \"type\": \"line\", \"x0\": -1.6663821878114238, \"x1\": -1.6663821878114238, \"y0\": 0, \"y1\": 1}, {\"line\": {\"color\": \"Red\", \"width\": 1}, \"type\": \"line\", \"x0\": 1.2724941019402927, \"x1\": 1.2724941019402927, \"y0\": 0, \"y1\": 1}, {\"line\": {\"color\": \"Red\", \"dash\": \"dash\", \"width\": 1}, \"type\": \"line\", \"x0\": 1, \"x1\": 1, \"y0\": 0, \"y1\": 1}], \"template\": {\"data\": {\"bar\": [{\"error_x\": {\"color\": \"#2a3f5f\"}, \"error_y\": {\"color\": \"#2a3f5f\"}, \"marker\": {\"line\": {\"color\": \"#E5ECF6\", \"width\": 0.5}}, \"type\": \"bar\"}], \"barpolar\": [{\"marker\": {\"line\": {\"color\": \"#E5ECF6\", \"width\": 0.5}}, \"type\": \"barpolar\"}], \"carpet\": [{\"aaxis\": {\"endlinecolor\": \"#2a3f5f\", \"gridcolor\": \"white\", \"linecolor\": \"white\", \"minorgridcolor\": \"white\", \"startlinecolor\": \"#2a3f5f\"}, \"baxis\": {\"endlinecolor\": \"#2a3f5f\", \"gridcolor\": \"white\", \"linecolor\": \"white\", \"minorgridcolor\": \"white\", \"startlinecolor\": \"#2a3f5f\"}, \"type\": \"carpet\"}], \"choropleth\": [{\"colorbar\": {\"outlinewidth\": 0, \"ticks\": \"\"}, \"type\": \"choropleth\"}], \"contour\": [{\"colorbar\": {\"outlinewidth\": 0, \"ticks\": \"\"}, \"colorscale\": [[0.0, \"#0d0887\"], [0.1111111111111111, \"#46039f\"], [0.2222222222222222, \"#7201a8\"], [0.3333333333333333, \"#9c179e\"], [0.4444444444444444, \"#bd3786\"], [0.5555555555555556, \"#d8576b\"], [0.6666666666666666, \"#ed7953\"], [0.7777777777777778, \"#fb9f3a\"], [0.8888888888888888, \"#fdca26\"], [1.0, \"#f0f921\"]], \"type\": \"contour\"}], \"contourcarpet\": [{\"colorbar\": {\"outlinewidth\": 0, \"ticks\": \"\"}, \"type\": \"contourcarpet\"}], \"heatmap\": [{\"colorbar\": {\"outlinewidth\": 0, \"ticks\": \"\"}, \"colorscale\": [[0.0, \"#0d0887\"], [0.1111111111111111, \"#46039f\"], [0.2222222222222222, \"#7201a8\"], [0.3333333333333333, \"#9c179e\"], [0.4444444444444444, \"#bd3786\"], [0.5555555555555556, \"#d8576b\"], [0.6666666666666666, \"#ed7953\"], [0.7777777777777778, \"#fb9f3a\"], [0.8888888888888888, \"#fdca26\"], [1.0, \"#f0f921\"]], \"type\": \"heatmap\"}], \"heatmapgl\": [{\"colorbar\": {\"outlinewidth\": 0, \"ticks\": \"\"}, \"colorscale\": [[0.0, \"#0d0887\"], [0.1111111111111111, \"#46039f\"], [0.2222222222222222, \"#7201a8\"], [0.3333333333333333, \"#9c179e\"], [0.4444444444444444, \"#bd3786\"], [0.5555555555555556, \"#d8576b\"], [0.6666666666666666, \"#ed7953\"], [0.7777777777777778, \"#fb9f3a\"], [0.8888888888888888, \"#fdca26\"], [1.0, \"#f0f921\"]], \"type\": \"heatmapgl\"}], \"histogram\": [{\"marker\": {\"colorbar\": {\"outlinewidth\": 0, \"ticks\": \"\"}}, \"type\": \"histogram\"}], \"histogram2d\": [{\"colorbar\": {\"outlinewidth\": 0, \"ticks\": \"\"}, \"colorscale\": [[0.0, \"#0d0887\"], [0.1111111111111111, \"#46039f\"], [0.2222222222222222, \"#7201a8\"], [0.3333333333333333, \"#9c179e\"], [0.4444444444444444, \"#bd3786\"], [0.5555555555555556, \"#d8576b\"], [0.6666666666666666, \"#ed7953\"], [0.7777777777777778, \"#fb9f3a\"], [0.8888888888888888, \"#fdca26\"], [1.0, \"#f0f921\"]], \"type\": \"histogram2d\"}], \"histogram2dcontour\": [{\"colorbar\": {\"outlinewidth\": 0, \"ticks\": \"\"}, \"colorscale\": [[0.0, \"#0d0887\"], [0.1111111111111111, \"#46039f\"], [0.2222222222222222, \"#7201a8\"], [0.3333333333333333, \"#9c179e\"], [0.4444444444444444, \"#bd3786\"], [0.5555555555555556, \"#d8576b\"], [0.6666666666666666, \"#ed7953\"], [0.7777777777777778, \"#fb9f3a\"], [0.8888888888888888, \"#fdca26\"], [1.0, \"#f0f921\"]], \"type\": \"histogram2dcontour\"}], \"mesh3d\": [{\"colorbar\": {\"outlinewidth\": 0, \"ticks\": \"\"}, \"type\": \"mesh3d\"}], \"parcoords\": [{\"line\": {\"colorbar\": {\"outlinewidth\": 0, \"ticks\": \"\"}}, \"type\": \"parcoords\"}], \"pie\": [{\"automargin\": true, \"type\": \"pie\"}], \"scatter\": [{\"marker\": {\"colorbar\": {\"outlinewidth\": 0, \"ticks\": \"\"}}, \"type\": \"scatter\"}], \"scatter3d\": [{\"line\": {\"colorbar\": {\"outlinewidth\": 0, \"ticks\": \"\"}}, \"marker\": {\"colorbar\": {\"outlinewidth\": 0, \"ticks\": \"\"}}, \"type\": \"scatter3d\"}], \"scattercarpet\": [{\"marker\": {\"colorbar\": {\"outlinewidth\": 0, \"ticks\": \"\"}}, \"type\": \"scattercarpet\"}], \"scattergeo\": [{\"marker\": {\"colorbar\": {\"outlinewidth\": 0, \"ticks\": \"\"}}, \"type\": \"scattergeo\"}], \"scattergl\": [{\"marker\": {\"colorbar\": {\"outlinewidth\": 0, \"ticks\": \"\"}}, \"type\": \"scattergl\"}], \"scattermapbox\": [{\"marker\": {\"colorbar\": {\"outlinewidth\": 0, \"ticks\": \"\"}}, \"type\": \"scattermapbox\"}], \"scatterpolar\": [{\"marker\": {\"colorbar\": {\"outlinewidth\": 0, \"ticks\": \"\"}}, \"type\": \"scatterpolar\"}], \"scatterpolargl\": [{\"marker\": {\"colorbar\": {\"outlinewidth\": 0, \"ticks\": \"\"}}, \"type\": \"scatterpolargl\"}], \"scatterternary\": [{\"marker\": {\"colorbar\": {\"outlinewidth\": 0, \"ticks\": \"\"}}, \"type\": \"scatterternary\"}], \"surface\": [{\"colorbar\": {\"outlinewidth\": 0, \"ticks\": \"\"}, \"colorscale\": [[0.0, \"#0d0887\"], [0.1111111111111111, \"#46039f\"], [0.2222222222222222, \"#7201a8\"], [0.3333333333333333, \"#9c179e\"], [0.4444444444444444, \"#bd3786\"], [0.5555555555555556, \"#d8576b\"], [0.6666666666666666, \"#ed7953\"], [0.7777777777777778, \"#fb9f3a\"], [0.8888888888888888, \"#fdca26\"], [1.0, \"#f0f921\"]], \"type\": \"surface\"}], \"table\": [{\"cells\": {\"fill\": {\"color\": \"#EBF0F8\"}, \"line\": {\"color\": \"white\"}}, \"header\": {\"fill\": {\"color\": \"#C8D4E3\"}, \"line\": {\"color\": \"white\"}}, \"type\": \"table\"}]}, \"layout\": {\"annotationdefaults\": {\"arrowcolor\": \"#2a3f5f\", \"arrowhead\": 0, \"arrowwidth\": 1}, \"coloraxis\": {\"colorbar\": {\"outlinewidth\": 0, \"ticks\": \"\"}}, \"colorscale\": {\"diverging\": [[0, \"#8e0152\"], [0.1, \"#c51b7d\"], [0.2, \"#de77ae\"], [0.3, \"#f1b6da\"], [0.4, \"#fde0ef\"], [0.5, \"#f7f7f7\"], [0.6, \"#e6f5d0\"], [0.7, \"#b8e186\"], [0.8, \"#7fbc41\"], [0.9, \"#4d9221\"], [1, \"#276419\"]], \"sequential\": [[0.0, \"#0d0887\"], [0.1111111111111111, \"#46039f\"], [0.2222222222222222, \"#7201a8\"], [0.3333333333333333, \"#9c179e\"], [0.4444444444444444, \"#bd3786\"], [0.5555555555555556, \"#d8576b\"], [0.6666666666666666, \"#ed7953\"], [0.7777777777777778, \"#fb9f3a\"], [0.8888888888888888, \"#fdca26\"], [1.0, \"#f0f921\"]], \"sequentialminus\": [[0.0, \"#0d0887\"], [0.1111111111111111, \"#46039f\"], [0.2222222222222222, \"#7201a8\"], [0.3333333333333333, \"#9c179e\"], [0.4444444444444444, \"#bd3786\"], [0.5555555555555556, \"#d8576b\"], [0.6666666666666666, \"#ed7953\"], [0.7777777777777778, \"#fb9f3a\"], [0.8888888888888888, \"#fdca26\"], [1.0, \"#f0f921\"]]}, \"colorway\": [\"#636efa\", \"#EF553B\", \"#00cc96\", \"#ab63fa\", \"#FFA15A\", \"#19d3f3\", \"#FF6692\", \"#B6E880\", \"#FF97FF\", \"#FECB52\"], \"font\": {\"color\": \"#2a3f5f\"}, \"geo\": {\"bgcolor\": \"white\", \"lakecolor\": \"white\", \"landcolor\": \"#E5ECF6\", \"showlakes\": true, \"showland\": true, \"subunitcolor\": \"white\"}, \"hoverlabel\": {\"align\": \"left\"}, \"hovermode\": \"closest\", \"mapbox\": {\"style\": \"light\"}, \"paper_bgcolor\": \"white\", \"plot_bgcolor\": \"#E5ECF6\", \"polar\": {\"angularaxis\": {\"gridcolor\": \"white\", \"linecolor\": \"white\", \"ticks\": \"\"}, \"bgcolor\": \"#E5ECF6\", \"radialaxis\": {\"gridcolor\": \"white\", \"linecolor\": \"white\", \"ticks\": \"\"}}, \"scene\": {\"xaxis\": {\"backgroundcolor\": \"#E5ECF6\", \"gridcolor\": \"white\", \"gridwidth\": 2, \"linecolor\": \"white\", \"showbackground\": true, \"ticks\": \"\", \"zerolinecolor\": \"white\"}, \"yaxis\": {\"backgroundcolor\": \"#E5ECF6\", \"gridcolor\": \"white\", \"gridwidth\": 2, \"linecolor\": \"white\", \"showbackground\": true, \"ticks\": \"\", \"zerolinecolor\": \"white\"}, \"zaxis\": {\"backgroundcolor\": \"#E5ECF6\", \"gridcolor\": \"white\", \"gridwidth\": 2, \"linecolor\": \"white\", \"showbackground\": true, \"ticks\": \"\", \"zerolinecolor\": \"white\"}}, \"shapedefaults\": {\"line\": {\"color\": \"#2a3f5f\"}}, \"ternary\": {\"aaxis\": {\"gridcolor\": \"white\", \"linecolor\": \"white\", \"ticks\": \"\"}, \"baxis\": {\"gridcolor\": \"white\", \"linecolor\": \"white\", \"ticks\": \"\"}, \"bgcolor\": \"#E5ECF6\", \"caxis\": {\"gridcolor\": \"white\", \"linecolor\": \"white\", \"ticks\": \"\"}}, \"title\": {\"x\": 0.05}, \"xaxis\": {\"automargin\": true, \"gridcolor\": \"white\", \"linecolor\": \"white\", \"ticks\": \"\", \"title\": {\"standoff\": 15}, \"zerolinecolor\": \"white\", \"zerolinewidth\": 2}, \"yaxis\": {\"automargin\": true, \"gridcolor\": \"white\", \"linecolor\": \"white\", \"ticks\": \"\", \"title\": {\"standoff\": 15}, \"zerolinecolor\": \"white\", \"zerolinewidth\": 2}}}, \"title\": {\"text\": \"Box-Cox Normality Plot (Girth)\"}, \"xaxis\": {\"title\": {\"text\": \"Lambda Value\"}}, \"yaxis\": {\"title\": {\"text\": \"Correlation Coefficient\"}}},\n",
       "                        {\"responsive\": true}\n",
       "                    ).then(function(){\n",
       "                            \n",
       "var gd = document.getElementById('32b5ca07-1d73-4a40-a6ee-42e9288c58c8');\n",
       "var x = new MutationObserver(function (mutations, observer) {{\n",
       "        var display = window.getComputedStyle(gd).display;\n",
       "        if (!display || display === 'none') {{\n",
       "            console.log([gd, 'removed!']);\n",
       "            Plotly.purge(gd);\n",
       "            observer.disconnect();\n",
       "        }}\n",
       "}});\n",
       "\n",
       "// Listen for the removal of the full notebook cells\n",
       "var notebookContainer = gd.closest('#notebook-container');\n",
       "if (notebookContainer) {{\n",
       "    x.observe(notebookContainer, {childList: true});\n",
       "}}\n",
       "\n",
       "// Listen for the clearing of the current output cell\n",
       "var outputEl = gd.closest('.output');\n",
       "if (outputEl) {{\n",
       "    x.observe(outputEl, {childList: true});\n",
       "}}\n",
       "\n",
       "                        })\n",
       "                };\n",
       "                });\n",
       "            </script>\n",
       "        </div>"
      ]
     },
     "metadata": {},
     "output_type": "display_data"
    }
   ],
   "source": [
    "transformed_d, lambda_d, fig = calculate_and_plot_boxcox(trees_df[\"d\"], title_string=\"Girth\")\n",
    "print(\"Obtained lambda value: \", lambda_d)\n",
    "fig.show()"
   ]
  },
  {
   "cell_type": "code",
   "execution_count": 54,
   "metadata": {},
   "outputs": [
    {
     "name": "stdout",
     "output_type": "stream",
     "text": [
      "Obtained lambda value:  -0.07476605015183903\n"
     ]
    },
    {
     "data": {
      "application/vnd.plotly.v1+json": {
       "config": {
        "plotlyServerURL": "https://plot.ly"
       },
       "data": [
        {
         "type": "scatter",
         "x": [
          -20,
          -19.49367088607595,
          -18.9873417721519,
          -18.481012658227847,
          -17.974683544303797,
          -17.468354430379748,
          -16.962025316455694,
          -16.455696202531644,
          -15.949367088607595,
          -15.443037974683545,
          -14.936708860759493,
          -14.430379746835442,
          -13.924050632911392,
          -13.417721518987342,
          -12.91139240506329,
          -12.40506329113924,
          -11.89873417721519,
          -11.39240506329114,
          -10.886075949367088,
          -10.379746835443036,
          -9.873417721518987,
          -9.367088607594937,
          -8.860759493670885,
          -8.354430379746834,
          -7.848101265822784,
          -7.341772151898734,
          -6.835443037974683,
          -6.329113924050631,
          -5.822784810126581,
          -5.3164556962025316,
          -4.81012658227848,
          -4.3037974683544284,
          -3.7974683544303787,
          -3.291139240506329,
          -2.784810126582279,
          -2.278481012658226,
          -1.772151898734176,
          -1.2658227848101262,
          -0.7594936708860729,
          -0.2531645569620231,
          0.25316455696202667,
          0.7594936708860764,
          1.2658227848101262,
          1.7721518987341796,
          2.2784810126582293,
          2.784810126582279,
          3.2911392405063324,
          3.797468354430382,
          4.303797468354432,
          4.810126582278482,
          5.3164556962025316,
          5.822784810126585,
          6.329113924050635,
          6.835443037974684,
          7.341772151898738,
          7.8481012658227876,
          8.354430379746837,
          8.860759493670887,
          9.367088607594937,
          9.87341772151899,
          10.37974683544304,
          10.88607594936709,
          11.392405063291143,
          11.898734177215193,
          12.405063291139243,
          12.911392405063296,
          13.417721518987342,
          13.924050632911396,
          14.430379746835442,
          14.936708860759495,
          15.443037974683548,
          15.949367088607595,
          16.455696202531648,
          16.9620253164557,
          17.468354430379748,
          17.9746835443038,
          18.481012658227854,
          18.9873417721519,
          19.493670886075954,
          20
         ],
         "y": [
          0,
          0,
          0,
          0,
          0,
          -3.0240640056274466e-17,
          0,
          3.0240640056274466e-17,
          0,
          0.1496088802218365,
          0.33988853612177466,
          0.49844068671363906,
          0.5777757072179296,
          0.5797869368172891,
          0.5797117213955995,
          0.5802645598391811,
          0.5806408403988241,
          0.5809668292890438,
          0.5815393652070472,
          0.5822965718563761,
          0.5832974454005231,
          0.5846215126969858,
          0.5863643242989361,
          0.5886539988138425,
          0.5916584601442751,
          0.5955987091321944,
          0.6007656255706602,
          0.6075415923441111,
          0.6164274358047154,
          0.6280738966200169,
          0.643313557858435,
          0.6631810629024797,
          0.6888916406888591,
          0.721712233545306,
          0.7625995914998821,
          0.8114193043964916,
          0.8656383046939072,
          0.9189521013550855,
          0.9615226144213893,
          0.9837258141007789,
          0.98165178117291,
          0.9587316606224763,
          0.9220389251744541,
          0.8780519227321001,
          0.8311383824902254,
          0.7839609361086385,
          0.7382128389827657,
          0.6950478819445839,
          0.6552351398241887,
          0.6192092894335964,
          0.5871169679708087,
          0.558881756813928,
          0.534276285253062,
          0.5129867719352047,
          0.4946625222670077,
          0.47894958461770576,
          0.46551122566752956,
          0.4540388113464449,
          0.44425632431712164,
          0.43592097854540995,
          0.4288216315323934,
          0.4227760932592021,
          0.4176280040259702,
          0.41324367000275797,
          0.40950906588664093,
          0.4063271047891941,
          0.40361521145263235,
          0.40130319909664314,
          0.39933143153586487,
          0.39764924366581395,
          0.3962135906605135,
          0.39498789663422745,
          0.39394107553412244,
          0.39304669974550016,
          0.3922822947970375,
          0.39162874137665016,
          0.391069768474031,
          0.3905915237979605,
          0.3901822096637216,
          0.3898317743203549
         ]
        }
       ],
       "layout": {
        "shapes": [
         {
          "type": "line",
          "x0": -0.07476605015183903,
          "x1": -0.07476605015183903,
          "y0": 0,
          "y1": 1
         },
         {
          "line": {
           "color": "Red",
           "width": 1
          },
          "type": "line",
          "x0": -0.7032229332149882,
          "x1": -0.7032229332149882,
          "y0": 0,
          "y1": 1
         },
         {
          "line": {
           "color": "Red",
           "width": 1
          },
          "type": "line",
          "x0": 0.5650165874548128,
          "x1": 0.5650165874548128,
          "y0": 0,
          "y1": 1
         },
         {
          "line": {
           "color": "Red",
           "dash": "dash",
           "width": 1
          },
          "type": "line",
          "x0": 1,
          "x1": 1,
          "y0": 0,
          "y1": 1
         }
        ],
        "template": {
         "data": {
          "bar": [
           {
            "error_x": {
             "color": "#2a3f5f"
            },
            "error_y": {
             "color": "#2a3f5f"
            },
            "marker": {
             "line": {
              "color": "#E5ECF6",
              "width": 0.5
             }
            },
            "type": "bar"
           }
          ],
          "barpolar": [
           {
            "marker": {
             "line": {
              "color": "#E5ECF6",
              "width": 0.5
             }
            },
            "type": "barpolar"
           }
          ],
          "carpet": [
           {
            "aaxis": {
             "endlinecolor": "#2a3f5f",
             "gridcolor": "white",
             "linecolor": "white",
             "minorgridcolor": "white",
             "startlinecolor": "#2a3f5f"
            },
            "baxis": {
             "endlinecolor": "#2a3f5f",
             "gridcolor": "white",
             "linecolor": "white",
             "minorgridcolor": "white",
             "startlinecolor": "#2a3f5f"
            },
            "type": "carpet"
           }
          ],
          "choropleth": [
           {
            "colorbar": {
             "outlinewidth": 0,
             "ticks": ""
            },
            "type": "choropleth"
           }
          ],
          "contour": [
           {
            "colorbar": {
             "outlinewidth": 0,
             "ticks": ""
            },
            "colorscale": [
             [
              0,
              "#0d0887"
             ],
             [
              0.1111111111111111,
              "#46039f"
             ],
             [
              0.2222222222222222,
              "#7201a8"
             ],
             [
              0.3333333333333333,
              "#9c179e"
             ],
             [
              0.4444444444444444,
              "#bd3786"
             ],
             [
              0.5555555555555556,
              "#d8576b"
             ],
             [
              0.6666666666666666,
              "#ed7953"
             ],
             [
              0.7777777777777778,
              "#fb9f3a"
             ],
             [
              0.8888888888888888,
              "#fdca26"
             ],
             [
              1,
              "#f0f921"
             ]
            ],
            "type": "contour"
           }
          ],
          "contourcarpet": [
           {
            "colorbar": {
             "outlinewidth": 0,
             "ticks": ""
            },
            "type": "contourcarpet"
           }
          ],
          "heatmap": [
           {
            "colorbar": {
             "outlinewidth": 0,
             "ticks": ""
            },
            "colorscale": [
             [
              0,
              "#0d0887"
             ],
             [
              0.1111111111111111,
              "#46039f"
             ],
             [
              0.2222222222222222,
              "#7201a8"
             ],
             [
              0.3333333333333333,
              "#9c179e"
             ],
             [
              0.4444444444444444,
              "#bd3786"
             ],
             [
              0.5555555555555556,
              "#d8576b"
             ],
             [
              0.6666666666666666,
              "#ed7953"
             ],
             [
              0.7777777777777778,
              "#fb9f3a"
             ],
             [
              0.8888888888888888,
              "#fdca26"
             ],
             [
              1,
              "#f0f921"
             ]
            ],
            "type": "heatmap"
           }
          ],
          "heatmapgl": [
           {
            "colorbar": {
             "outlinewidth": 0,
             "ticks": ""
            },
            "colorscale": [
             [
              0,
              "#0d0887"
             ],
             [
              0.1111111111111111,
              "#46039f"
             ],
             [
              0.2222222222222222,
              "#7201a8"
             ],
             [
              0.3333333333333333,
              "#9c179e"
             ],
             [
              0.4444444444444444,
              "#bd3786"
             ],
             [
              0.5555555555555556,
              "#d8576b"
             ],
             [
              0.6666666666666666,
              "#ed7953"
             ],
             [
              0.7777777777777778,
              "#fb9f3a"
             ],
             [
              0.8888888888888888,
              "#fdca26"
             ],
             [
              1,
              "#f0f921"
             ]
            ],
            "type": "heatmapgl"
           }
          ],
          "histogram": [
           {
            "marker": {
             "colorbar": {
              "outlinewidth": 0,
              "ticks": ""
             }
            },
            "type": "histogram"
           }
          ],
          "histogram2d": [
           {
            "colorbar": {
             "outlinewidth": 0,
             "ticks": ""
            },
            "colorscale": [
             [
              0,
              "#0d0887"
             ],
             [
              0.1111111111111111,
              "#46039f"
             ],
             [
              0.2222222222222222,
              "#7201a8"
             ],
             [
              0.3333333333333333,
              "#9c179e"
             ],
             [
              0.4444444444444444,
              "#bd3786"
             ],
             [
              0.5555555555555556,
              "#d8576b"
             ],
             [
              0.6666666666666666,
              "#ed7953"
             ],
             [
              0.7777777777777778,
              "#fb9f3a"
             ],
             [
              0.8888888888888888,
              "#fdca26"
             ],
             [
              1,
              "#f0f921"
             ]
            ],
            "type": "histogram2d"
           }
          ],
          "histogram2dcontour": [
           {
            "colorbar": {
             "outlinewidth": 0,
             "ticks": ""
            },
            "colorscale": [
             [
              0,
              "#0d0887"
             ],
             [
              0.1111111111111111,
              "#46039f"
             ],
             [
              0.2222222222222222,
              "#7201a8"
             ],
             [
              0.3333333333333333,
              "#9c179e"
             ],
             [
              0.4444444444444444,
              "#bd3786"
             ],
             [
              0.5555555555555556,
              "#d8576b"
             ],
             [
              0.6666666666666666,
              "#ed7953"
             ],
             [
              0.7777777777777778,
              "#fb9f3a"
             ],
             [
              0.8888888888888888,
              "#fdca26"
             ],
             [
              1,
              "#f0f921"
             ]
            ],
            "type": "histogram2dcontour"
           }
          ],
          "mesh3d": [
           {
            "colorbar": {
             "outlinewidth": 0,
             "ticks": ""
            },
            "type": "mesh3d"
           }
          ],
          "parcoords": [
           {
            "line": {
             "colorbar": {
              "outlinewidth": 0,
              "ticks": ""
             }
            },
            "type": "parcoords"
           }
          ],
          "pie": [
           {
            "automargin": true,
            "type": "pie"
           }
          ],
          "scatter": [
           {
            "marker": {
             "colorbar": {
              "outlinewidth": 0,
              "ticks": ""
             }
            },
            "type": "scatter"
           }
          ],
          "scatter3d": [
           {
            "line": {
             "colorbar": {
              "outlinewidth": 0,
              "ticks": ""
             }
            },
            "marker": {
             "colorbar": {
              "outlinewidth": 0,
              "ticks": ""
             }
            },
            "type": "scatter3d"
           }
          ],
          "scattercarpet": [
           {
            "marker": {
             "colorbar": {
              "outlinewidth": 0,
              "ticks": ""
             }
            },
            "type": "scattercarpet"
           }
          ],
          "scattergeo": [
           {
            "marker": {
             "colorbar": {
              "outlinewidth": 0,
              "ticks": ""
             }
            },
            "type": "scattergeo"
           }
          ],
          "scattergl": [
           {
            "marker": {
             "colorbar": {
              "outlinewidth": 0,
              "ticks": ""
             }
            },
            "type": "scattergl"
           }
          ],
          "scattermapbox": [
           {
            "marker": {
             "colorbar": {
              "outlinewidth": 0,
              "ticks": ""
             }
            },
            "type": "scattermapbox"
           }
          ],
          "scatterpolar": [
           {
            "marker": {
             "colorbar": {
              "outlinewidth": 0,
              "ticks": ""
             }
            },
            "type": "scatterpolar"
           }
          ],
          "scatterpolargl": [
           {
            "marker": {
             "colorbar": {
              "outlinewidth": 0,
              "ticks": ""
             }
            },
            "type": "scatterpolargl"
           }
          ],
          "scatterternary": [
           {
            "marker": {
             "colorbar": {
              "outlinewidth": 0,
              "ticks": ""
             }
            },
            "type": "scatterternary"
           }
          ],
          "surface": [
           {
            "colorbar": {
             "outlinewidth": 0,
             "ticks": ""
            },
            "colorscale": [
             [
              0,
              "#0d0887"
             ],
             [
              0.1111111111111111,
              "#46039f"
             ],
             [
              0.2222222222222222,
              "#7201a8"
             ],
             [
              0.3333333333333333,
              "#9c179e"
             ],
             [
              0.4444444444444444,
              "#bd3786"
             ],
             [
              0.5555555555555556,
              "#d8576b"
             ],
             [
              0.6666666666666666,
              "#ed7953"
             ],
             [
              0.7777777777777778,
              "#fb9f3a"
             ],
             [
              0.8888888888888888,
              "#fdca26"
             ],
             [
              1,
              "#f0f921"
             ]
            ],
            "type": "surface"
           }
          ],
          "table": [
           {
            "cells": {
             "fill": {
              "color": "#EBF0F8"
             },
             "line": {
              "color": "white"
             }
            },
            "header": {
             "fill": {
              "color": "#C8D4E3"
             },
             "line": {
              "color": "white"
             }
            },
            "type": "table"
           }
          ]
         },
         "layout": {
          "annotationdefaults": {
           "arrowcolor": "#2a3f5f",
           "arrowhead": 0,
           "arrowwidth": 1
          },
          "coloraxis": {
           "colorbar": {
            "outlinewidth": 0,
            "ticks": ""
           }
          },
          "colorscale": {
           "diverging": [
            [
             0,
             "#8e0152"
            ],
            [
             0.1,
             "#c51b7d"
            ],
            [
             0.2,
             "#de77ae"
            ],
            [
             0.3,
             "#f1b6da"
            ],
            [
             0.4,
             "#fde0ef"
            ],
            [
             0.5,
             "#f7f7f7"
            ],
            [
             0.6,
             "#e6f5d0"
            ],
            [
             0.7,
             "#b8e186"
            ],
            [
             0.8,
             "#7fbc41"
            ],
            [
             0.9,
             "#4d9221"
            ],
            [
             1,
             "#276419"
            ]
           ],
           "sequential": [
            [
             0,
             "#0d0887"
            ],
            [
             0.1111111111111111,
             "#46039f"
            ],
            [
             0.2222222222222222,
             "#7201a8"
            ],
            [
             0.3333333333333333,
             "#9c179e"
            ],
            [
             0.4444444444444444,
             "#bd3786"
            ],
            [
             0.5555555555555556,
             "#d8576b"
            ],
            [
             0.6666666666666666,
             "#ed7953"
            ],
            [
             0.7777777777777778,
             "#fb9f3a"
            ],
            [
             0.8888888888888888,
             "#fdca26"
            ],
            [
             1,
             "#f0f921"
            ]
           ],
           "sequentialminus": [
            [
             0,
             "#0d0887"
            ],
            [
             0.1111111111111111,
             "#46039f"
            ],
            [
             0.2222222222222222,
             "#7201a8"
            ],
            [
             0.3333333333333333,
             "#9c179e"
            ],
            [
             0.4444444444444444,
             "#bd3786"
            ],
            [
             0.5555555555555556,
             "#d8576b"
            ],
            [
             0.6666666666666666,
             "#ed7953"
            ],
            [
             0.7777777777777778,
             "#fb9f3a"
            ],
            [
             0.8888888888888888,
             "#fdca26"
            ],
            [
             1,
             "#f0f921"
            ]
           ]
          },
          "colorway": [
           "#636efa",
           "#EF553B",
           "#00cc96",
           "#ab63fa",
           "#FFA15A",
           "#19d3f3",
           "#FF6692",
           "#B6E880",
           "#FF97FF",
           "#FECB52"
          ],
          "font": {
           "color": "#2a3f5f"
          },
          "geo": {
           "bgcolor": "white",
           "lakecolor": "white",
           "landcolor": "#E5ECF6",
           "showlakes": true,
           "showland": true,
           "subunitcolor": "white"
          },
          "hoverlabel": {
           "align": "left"
          },
          "hovermode": "closest",
          "mapbox": {
           "style": "light"
          },
          "paper_bgcolor": "white",
          "plot_bgcolor": "#E5ECF6",
          "polar": {
           "angularaxis": {
            "gridcolor": "white",
            "linecolor": "white",
            "ticks": ""
           },
           "bgcolor": "#E5ECF6",
           "radialaxis": {
            "gridcolor": "white",
            "linecolor": "white",
            "ticks": ""
           }
          },
          "scene": {
           "xaxis": {
            "backgroundcolor": "#E5ECF6",
            "gridcolor": "white",
            "gridwidth": 2,
            "linecolor": "white",
            "showbackground": true,
            "ticks": "",
            "zerolinecolor": "white"
           },
           "yaxis": {
            "backgroundcolor": "#E5ECF6",
            "gridcolor": "white",
            "gridwidth": 2,
            "linecolor": "white",
            "showbackground": true,
            "ticks": "",
            "zerolinecolor": "white"
           },
           "zaxis": {
            "backgroundcolor": "#E5ECF6",
            "gridcolor": "white",
            "gridwidth": 2,
            "linecolor": "white",
            "showbackground": true,
            "ticks": "",
            "zerolinecolor": "white"
           }
          },
          "shapedefaults": {
           "line": {
            "color": "#2a3f5f"
           }
          },
          "ternary": {
           "aaxis": {
            "gridcolor": "white",
            "linecolor": "white",
            "ticks": ""
           },
           "baxis": {
            "gridcolor": "white",
            "linecolor": "white",
            "ticks": ""
           },
           "bgcolor": "#E5ECF6",
           "caxis": {
            "gridcolor": "white",
            "linecolor": "white",
            "ticks": ""
           }
          },
          "title": {
           "x": 0.05
          },
          "xaxis": {
           "automargin": true,
           "gridcolor": "white",
           "linecolor": "white",
           "ticks": "",
           "title": {
            "standoff": 15
           },
           "zerolinecolor": "white",
           "zerolinewidth": 2
          },
          "yaxis": {
           "automargin": true,
           "gridcolor": "white",
           "linecolor": "white",
           "ticks": "",
           "title": {
            "standoff": 15
           },
           "zerolinecolor": "white",
           "zerolinewidth": 2
          }
         }
        },
        "title": {
         "text": "Box-Cox Normality Plot (Volume)"
        },
        "xaxis": {
         "title": {
          "text": "Lambda Value"
         }
        },
        "yaxis": {
         "title": {
          "text": "Correlation Coefficient"
         }
        }
       }
      },
      "text/html": [
       "<div>\n",
       "        \n",
       "        \n",
       "            <div id=\"b4612a4f-4e7f-41b1-bc46-cba3167be509\" class=\"plotly-graph-div\" style=\"height:525px; width:100%;\"></div>\n",
       "            <script type=\"text/javascript\">\n",
       "                require([\"plotly\"], function(Plotly) {\n",
       "                    window.PLOTLYENV=window.PLOTLYENV || {};\n",
       "                    \n",
       "                if (document.getElementById(\"b4612a4f-4e7f-41b1-bc46-cba3167be509\")) {\n",
       "                    Plotly.newPlot(\n",
       "                        'b4612a4f-4e7f-41b1-bc46-cba3167be509',\n",
       "                        [{\"type\": \"scatter\", \"x\": [-20.0, -19.49367088607595, -18.9873417721519, -18.481012658227847, -17.974683544303797, -17.468354430379748, -16.962025316455694, -16.455696202531644, -15.949367088607595, -15.443037974683545, -14.936708860759493, -14.430379746835442, -13.924050632911392, -13.417721518987342, -12.91139240506329, -12.40506329113924, -11.89873417721519, -11.39240506329114, -10.886075949367088, -10.379746835443036, -9.873417721518987, -9.367088607594937, -8.860759493670885, -8.354430379746834, -7.848101265822784, -7.341772151898734, -6.835443037974683, -6.329113924050631, -5.822784810126581, -5.3164556962025316, -4.81012658227848, -4.3037974683544284, -3.7974683544303787, -3.291139240506329, -2.784810126582279, -2.278481012658226, -1.772151898734176, -1.2658227848101262, -0.7594936708860729, -0.2531645569620231, 0.25316455696202667, 0.7594936708860764, 1.2658227848101262, 1.7721518987341796, 2.2784810126582293, 2.784810126582279, 3.2911392405063324, 3.797468354430382, 4.303797468354432, 4.810126582278482, 5.3164556962025316, 5.822784810126585, 6.329113924050635, 6.835443037974684, 7.341772151898738, 7.8481012658227876, 8.354430379746837, 8.860759493670887, 9.367088607594937, 9.87341772151899, 10.37974683544304, 10.88607594936709, 11.392405063291143, 11.898734177215193, 12.405063291139243, 12.911392405063296, 13.417721518987342, 13.924050632911396, 14.430379746835442, 14.936708860759495, 15.443037974683548, 15.949367088607595, 16.455696202531648, 16.9620253164557, 17.468354430379748, 17.9746835443038, 18.481012658227854, 18.9873417721519, 19.493670886075954, 20.0], \"y\": [0.0, 0.0, 0.0, 0.0, 0.0, -3.0240640056274466e-17, 0.0, 3.0240640056274466e-17, 0.0, 0.1496088802218365, 0.33988853612177466, 0.49844068671363906, 0.5777757072179296, 0.5797869368172891, 0.5797117213955995, 0.5802645598391811, 0.5806408403988241, 0.5809668292890438, 0.5815393652070472, 0.5822965718563761, 0.5832974454005231, 0.5846215126969858, 0.5863643242989361, 0.5886539988138425, 0.5916584601442751, 0.5955987091321944, 0.6007656255706602, 0.6075415923441111, 0.6164274358047154, 0.6280738966200169, 0.643313557858435, 0.6631810629024797, 0.6888916406888591, 0.721712233545306, 0.7625995914998821, 0.8114193043964916, 0.8656383046939072, 0.9189521013550855, 0.9615226144213893, 0.9837258141007789, 0.98165178117291, 0.9587316606224763, 0.9220389251744541, 0.8780519227321001, 0.8311383824902254, 0.7839609361086385, 0.7382128389827657, 0.6950478819445839, 0.6552351398241887, 0.6192092894335964, 0.5871169679708087, 0.558881756813928, 0.534276285253062, 0.5129867719352047, 0.4946625222670077, 0.47894958461770576, 0.46551122566752956, 0.4540388113464449, 0.44425632431712164, 0.43592097854540995, 0.4288216315323934, 0.4227760932592021, 0.4176280040259702, 0.41324367000275797, 0.40950906588664093, 0.4063271047891941, 0.40361521145263235, 0.40130319909664314, 0.39933143153586487, 0.39764924366581395, 0.3962135906605135, 0.39498789663422745, 0.39394107553412244, 0.39304669974550016, 0.3922822947970375, 0.39162874137665016, 0.391069768474031, 0.3905915237979605, 0.3901822096637216, 0.3898317743203549]}],\n",
       "                        {\"shapes\": [{\"type\": \"line\", \"x0\": -0.07476605015183903, \"x1\": -0.07476605015183903, \"y0\": 0, \"y1\": 1}, {\"line\": {\"color\": \"Red\", \"width\": 1}, \"type\": \"line\", \"x0\": -0.7032229332149882, \"x1\": -0.7032229332149882, \"y0\": 0, \"y1\": 1}, {\"line\": {\"color\": \"Red\", \"width\": 1}, \"type\": \"line\", \"x0\": 0.5650165874548128, \"x1\": 0.5650165874548128, \"y0\": 0, \"y1\": 1}, {\"line\": {\"color\": \"Red\", \"dash\": \"dash\", \"width\": 1}, \"type\": \"line\", \"x0\": 1, \"x1\": 1, \"y0\": 0, \"y1\": 1}], \"template\": {\"data\": {\"bar\": [{\"error_x\": {\"color\": \"#2a3f5f\"}, \"error_y\": {\"color\": \"#2a3f5f\"}, \"marker\": {\"line\": {\"color\": \"#E5ECF6\", \"width\": 0.5}}, \"type\": \"bar\"}], \"barpolar\": [{\"marker\": {\"line\": {\"color\": \"#E5ECF6\", \"width\": 0.5}}, \"type\": \"barpolar\"}], \"carpet\": [{\"aaxis\": {\"endlinecolor\": \"#2a3f5f\", \"gridcolor\": \"white\", \"linecolor\": \"white\", \"minorgridcolor\": \"white\", \"startlinecolor\": \"#2a3f5f\"}, \"baxis\": {\"endlinecolor\": \"#2a3f5f\", \"gridcolor\": \"white\", \"linecolor\": \"white\", \"minorgridcolor\": \"white\", \"startlinecolor\": \"#2a3f5f\"}, \"type\": \"carpet\"}], \"choropleth\": [{\"colorbar\": {\"outlinewidth\": 0, \"ticks\": \"\"}, \"type\": \"choropleth\"}], \"contour\": [{\"colorbar\": {\"outlinewidth\": 0, \"ticks\": \"\"}, \"colorscale\": [[0.0, \"#0d0887\"], [0.1111111111111111, \"#46039f\"], [0.2222222222222222, \"#7201a8\"], [0.3333333333333333, \"#9c179e\"], [0.4444444444444444, \"#bd3786\"], [0.5555555555555556, \"#d8576b\"], [0.6666666666666666, \"#ed7953\"], [0.7777777777777778, \"#fb9f3a\"], [0.8888888888888888, \"#fdca26\"], [1.0, \"#f0f921\"]], \"type\": \"contour\"}], \"contourcarpet\": [{\"colorbar\": {\"outlinewidth\": 0, \"ticks\": \"\"}, \"type\": \"contourcarpet\"}], \"heatmap\": [{\"colorbar\": {\"outlinewidth\": 0, \"ticks\": \"\"}, \"colorscale\": [[0.0, \"#0d0887\"], [0.1111111111111111, \"#46039f\"], [0.2222222222222222, \"#7201a8\"], [0.3333333333333333, \"#9c179e\"], [0.4444444444444444, \"#bd3786\"], [0.5555555555555556, \"#d8576b\"], [0.6666666666666666, \"#ed7953\"], [0.7777777777777778, \"#fb9f3a\"], [0.8888888888888888, \"#fdca26\"], [1.0, \"#f0f921\"]], \"type\": \"heatmap\"}], \"heatmapgl\": [{\"colorbar\": {\"outlinewidth\": 0, \"ticks\": \"\"}, \"colorscale\": [[0.0, \"#0d0887\"], [0.1111111111111111, \"#46039f\"], [0.2222222222222222, \"#7201a8\"], [0.3333333333333333, \"#9c179e\"], [0.4444444444444444, \"#bd3786\"], [0.5555555555555556, \"#d8576b\"], [0.6666666666666666, \"#ed7953\"], [0.7777777777777778, \"#fb9f3a\"], [0.8888888888888888, \"#fdca26\"], [1.0, \"#f0f921\"]], \"type\": \"heatmapgl\"}], \"histogram\": [{\"marker\": {\"colorbar\": {\"outlinewidth\": 0, \"ticks\": \"\"}}, \"type\": \"histogram\"}], \"histogram2d\": [{\"colorbar\": {\"outlinewidth\": 0, \"ticks\": \"\"}, \"colorscale\": [[0.0, \"#0d0887\"], [0.1111111111111111, \"#46039f\"], [0.2222222222222222, \"#7201a8\"], [0.3333333333333333, \"#9c179e\"], [0.4444444444444444, \"#bd3786\"], [0.5555555555555556, \"#d8576b\"], [0.6666666666666666, \"#ed7953\"], [0.7777777777777778, \"#fb9f3a\"], [0.8888888888888888, \"#fdca26\"], [1.0, \"#f0f921\"]], \"type\": \"histogram2d\"}], \"histogram2dcontour\": [{\"colorbar\": {\"outlinewidth\": 0, \"ticks\": \"\"}, \"colorscale\": [[0.0, \"#0d0887\"], [0.1111111111111111, \"#46039f\"], [0.2222222222222222, \"#7201a8\"], [0.3333333333333333, \"#9c179e\"], [0.4444444444444444, \"#bd3786\"], [0.5555555555555556, \"#d8576b\"], [0.6666666666666666, \"#ed7953\"], [0.7777777777777778, \"#fb9f3a\"], [0.8888888888888888, \"#fdca26\"], [1.0, \"#f0f921\"]], \"type\": \"histogram2dcontour\"}], \"mesh3d\": [{\"colorbar\": {\"outlinewidth\": 0, \"ticks\": \"\"}, \"type\": \"mesh3d\"}], \"parcoords\": [{\"line\": {\"colorbar\": {\"outlinewidth\": 0, \"ticks\": \"\"}}, \"type\": \"parcoords\"}], \"pie\": [{\"automargin\": true, \"type\": \"pie\"}], \"scatter\": [{\"marker\": {\"colorbar\": {\"outlinewidth\": 0, \"ticks\": \"\"}}, \"type\": \"scatter\"}], \"scatter3d\": [{\"line\": {\"colorbar\": {\"outlinewidth\": 0, \"ticks\": \"\"}}, \"marker\": {\"colorbar\": {\"outlinewidth\": 0, \"ticks\": \"\"}}, \"type\": \"scatter3d\"}], \"scattercarpet\": [{\"marker\": {\"colorbar\": {\"outlinewidth\": 0, \"ticks\": \"\"}}, \"type\": \"scattercarpet\"}], \"scattergeo\": [{\"marker\": {\"colorbar\": {\"outlinewidth\": 0, \"ticks\": \"\"}}, \"type\": \"scattergeo\"}], \"scattergl\": [{\"marker\": {\"colorbar\": {\"outlinewidth\": 0, \"ticks\": \"\"}}, \"type\": \"scattergl\"}], \"scattermapbox\": [{\"marker\": {\"colorbar\": {\"outlinewidth\": 0, \"ticks\": \"\"}}, \"type\": \"scattermapbox\"}], \"scatterpolar\": [{\"marker\": {\"colorbar\": {\"outlinewidth\": 0, \"ticks\": \"\"}}, \"type\": \"scatterpolar\"}], \"scatterpolargl\": [{\"marker\": {\"colorbar\": {\"outlinewidth\": 0, \"ticks\": \"\"}}, \"type\": \"scatterpolargl\"}], \"scatterternary\": [{\"marker\": {\"colorbar\": {\"outlinewidth\": 0, \"ticks\": \"\"}}, \"type\": \"scatterternary\"}], \"surface\": [{\"colorbar\": {\"outlinewidth\": 0, \"ticks\": \"\"}, \"colorscale\": [[0.0, \"#0d0887\"], [0.1111111111111111, \"#46039f\"], [0.2222222222222222, \"#7201a8\"], [0.3333333333333333, \"#9c179e\"], [0.4444444444444444, \"#bd3786\"], [0.5555555555555556, \"#d8576b\"], [0.6666666666666666, \"#ed7953\"], [0.7777777777777778, \"#fb9f3a\"], [0.8888888888888888, \"#fdca26\"], [1.0, \"#f0f921\"]], \"type\": \"surface\"}], \"table\": [{\"cells\": {\"fill\": {\"color\": \"#EBF0F8\"}, \"line\": {\"color\": \"white\"}}, \"header\": {\"fill\": {\"color\": \"#C8D4E3\"}, \"line\": {\"color\": \"white\"}}, \"type\": \"table\"}]}, \"layout\": {\"annotationdefaults\": {\"arrowcolor\": \"#2a3f5f\", \"arrowhead\": 0, \"arrowwidth\": 1}, \"coloraxis\": {\"colorbar\": {\"outlinewidth\": 0, \"ticks\": \"\"}}, \"colorscale\": {\"diverging\": [[0, \"#8e0152\"], [0.1, \"#c51b7d\"], [0.2, \"#de77ae\"], [0.3, \"#f1b6da\"], [0.4, \"#fde0ef\"], [0.5, \"#f7f7f7\"], [0.6, \"#e6f5d0\"], [0.7, \"#b8e186\"], [0.8, \"#7fbc41\"], [0.9, \"#4d9221\"], [1, \"#276419\"]], \"sequential\": [[0.0, \"#0d0887\"], [0.1111111111111111, \"#46039f\"], [0.2222222222222222, \"#7201a8\"], [0.3333333333333333, \"#9c179e\"], [0.4444444444444444, \"#bd3786\"], [0.5555555555555556, \"#d8576b\"], [0.6666666666666666, \"#ed7953\"], [0.7777777777777778, \"#fb9f3a\"], [0.8888888888888888, \"#fdca26\"], [1.0, \"#f0f921\"]], \"sequentialminus\": [[0.0, \"#0d0887\"], [0.1111111111111111, \"#46039f\"], [0.2222222222222222, \"#7201a8\"], [0.3333333333333333, \"#9c179e\"], [0.4444444444444444, \"#bd3786\"], [0.5555555555555556, \"#d8576b\"], [0.6666666666666666, \"#ed7953\"], [0.7777777777777778, \"#fb9f3a\"], [0.8888888888888888, \"#fdca26\"], [1.0, \"#f0f921\"]]}, \"colorway\": [\"#636efa\", \"#EF553B\", \"#00cc96\", \"#ab63fa\", \"#FFA15A\", \"#19d3f3\", \"#FF6692\", \"#B6E880\", \"#FF97FF\", \"#FECB52\"], \"font\": {\"color\": \"#2a3f5f\"}, \"geo\": {\"bgcolor\": \"white\", \"lakecolor\": \"white\", \"landcolor\": \"#E5ECF6\", \"showlakes\": true, \"showland\": true, \"subunitcolor\": \"white\"}, \"hoverlabel\": {\"align\": \"left\"}, \"hovermode\": \"closest\", \"mapbox\": {\"style\": \"light\"}, \"paper_bgcolor\": \"white\", \"plot_bgcolor\": \"#E5ECF6\", \"polar\": {\"angularaxis\": {\"gridcolor\": \"white\", \"linecolor\": \"white\", \"ticks\": \"\"}, \"bgcolor\": \"#E5ECF6\", \"radialaxis\": {\"gridcolor\": \"white\", \"linecolor\": \"white\", \"ticks\": \"\"}}, \"scene\": {\"xaxis\": {\"backgroundcolor\": \"#E5ECF6\", \"gridcolor\": \"white\", \"gridwidth\": 2, \"linecolor\": \"white\", \"showbackground\": true, \"ticks\": \"\", \"zerolinecolor\": \"white\"}, \"yaxis\": {\"backgroundcolor\": \"#E5ECF6\", \"gridcolor\": \"white\", \"gridwidth\": 2, \"linecolor\": \"white\", \"showbackground\": true, \"ticks\": \"\", \"zerolinecolor\": \"white\"}, \"zaxis\": {\"backgroundcolor\": \"#E5ECF6\", \"gridcolor\": \"white\", \"gridwidth\": 2, \"linecolor\": \"white\", \"showbackground\": true, \"ticks\": \"\", \"zerolinecolor\": \"white\"}}, \"shapedefaults\": {\"line\": {\"color\": \"#2a3f5f\"}}, \"ternary\": {\"aaxis\": {\"gridcolor\": \"white\", \"linecolor\": \"white\", \"ticks\": \"\"}, \"baxis\": {\"gridcolor\": \"white\", \"linecolor\": \"white\", \"ticks\": \"\"}, \"bgcolor\": \"#E5ECF6\", \"caxis\": {\"gridcolor\": \"white\", \"linecolor\": \"white\", \"ticks\": \"\"}}, \"title\": {\"x\": 0.05}, \"xaxis\": {\"automargin\": true, \"gridcolor\": \"white\", \"linecolor\": \"white\", \"ticks\": \"\", \"title\": {\"standoff\": 15}, \"zerolinecolor\": \"white\", \"zerolinewidth\": 2}, \"yaxis\": {\"automargin\": true, \"gridcolor\": \"white\", \"linecolor\": \"white\", \"ticks\": \"\", \"title\": {\"standoff\": 15}, \"zerolinecolor\": \"white\", \"zerolinewidth\": 2}}}, \"title\": {\"text\": \"Box-Cox Normality Plot (Volume)\"}, \"xaxis\": {\"title\": {\"text\": \"Lambda Value\"}}, \"yaxis\": {\"title\": {\"text\": \"Correlation Coefficient\"}}},\n",
       "                        {\"responsive\": true}\n",
       "                    ).then(function(){\n",
       "                            \n",
       "var gd = document.getElementById('b4612a4f-4e7f-41b1-bc46-cba3167be509');\n",
       "var x = new MutationObserver(function (mutations, observer) {{\n",
       "        var display = window.getComputedStyle(gd).display;\n",
       "        if (!display || display === 'none') {{\n",
       "            console.log([gd, 'removed!']);\n",
       "            Plotly.purge(gd);\n",
       "            observer.disconnect();\n",
       "        }}\n",
       "}});\n",
       "\n",
       "// Listen for the removal of the full notebook cells\n",
       "var notebookContainer = gd.closest('#notebook-container');\n",
       "if (notebookContainer) {{\n",
       "    x.observe(notebookContainer, {childList: true});\n",
       "}}\n",
       "\n",
       "// Listen for the clearing of the current output cell\n",
       "var outputEl = gd.closest('.output');\n",
       "if (outputEl) {{\n",
       "    x.observe(outputEl, {childList: true});\n",
       "}}\n",
       "\n",
       "                        })\n",
       "                };\n",
       "                });\n",
       "            </script>\n",
       "        </div>"
      ]
     },
     "metadata": {},
     "output_type": "display_data"
    }
   ],
   "source": [
    "transformed_vol, lambda_vol, fig = calculate_and_plot_boxcox(trees_df[\"vol\"], title_string=\"Volume\")\n",
    "print(\"Obtained lambda value: \", lambda_vol)\n",
    "fig.show()"
   ]
  },
  {
   "cell_type": "markdown",
   "metadata": {},
   "source": [
    "Awesome! So our plots indicate that there are some transformations of the data that could be utilised. Looking at these plots however, I would be inclined to only transform `d` and `vol`. This is because the dashed line that has been plotted represents $\\lambda=1$ (which means no transformation is required). In the `h` plot, we see that the transformation would increase the correlation by a measly 0.004 (0.992 - 0.988). As previously mentioned, simpler models tend to be preferred, so the transformation here is unnecessary.\n",
    "\n",
    "Typically, staticians and data scientists use the 'rounded' values of lambda to transform their data. We have the option to do that here too. My personal opinion here is that we should use the exact value for `d`, and rounded value for `vol`. This is because $\\lambda$ for `vol` is incredible close to 0, and thus we can use a simple log transformation."
   ]
  },
  {
   "cell_type": "code",
   "execution_count": 55,
   "metadata": {},
   "outputs": [],
   "source": [
    "trees_df[\"transformed_d\"] = transformed_d\n",
    "trees_df[\"transformed_vol\"] = np.log(trees_df[\"vol\"])"
   ]
  },
  {
   "cell_type": "markdown",
   "metadata": {},
   "source": [
    "Now, we simply fit the new model, and as before, check for plot the residuals and check for their normality 👍"
   ]
  },
  {
   "cell_type": "code",
   "execution_count": 56,
   "metadata": {},
   "outputs": [
    {
     "data": {
      "text/html": [
       "<table class=\"simpletable\">\n",
       "<caption>OLS Regression Results</caption>\n",
       "<tr>\n",
       "  <th>Dep. Variable:</th>     <td>transformed_vol</td> <th>  R-squared:         </th> <td>   0.976</td>\n",
       "</tr>\n",
       "<tr>\n",
       "  <th>Model:</th>                   <td>OLS</td>       <th>  Adj. R-squared:    </th> <td>   0.975</td>\n",
       "</tr>\n",
       "<tr>\n",
       "  <th>Method:</th>             <td>Least Squares</td>  <th>  F-statistic:       </th> <td>   574.4</td>\n",
       "</tr>\n",
       "<tr>\n",
       "  <th>Date:</th>             <td>Tue, 11 Aug 2020</td> <th>  Prob (F-statistic):</th> <td>1.87e-23</td>\n",
       "</tr>\n",
       "<tr>\n",
       "  <th>Time:</th>                 <td>20:12:04</td>     <th>  Log-Likelihood:    </th> <td>  34.365</td>\n",
       "</tr>\n",
       "<tr>\n",
       "  <th>No. Observations:</th>      <td>    31</td>      <th>  AIC:               </th> <td>  -62.73</td>\n",
       "</tr>\n",
       "<tr>\n",
       "  <th>Df Residuals:</th>          <td>    28</td>      <th>  BIC:               </th> <td>  -58.43</td>\n",
       "</tr>\n",
       "<tr>\n",
       "  <th>Df Model:</th>              <td>     2</td>      <th>                     </th>     <td> </td>   \n",
       "</tr>\n",
       "<tr>\n",
       "  <th>Covariance Type:</th>      <td>nonrobust</td>    <th>                     </th>     <td> </td>   \n",
       "</tr>\n",
       "</table>\n",
       "<table class=\"simpletable\">\n",
       "<tr>\n",
       "        <td></td>           <th>coef</th>     <th>std err</th>      <th>t</th>      <th>P>|t|</th>  <th>[0.025</th>    <th>0.975]</th>  \n",
       "</tr>\n",
       "<tr>\n",
       "  <th>Intercept</th>     <td>   -4.5921</td> <td>    0.236</td> <td>  -19.451</td> <td> 0.000</td> <td>   -5.076</td> <td>   -4.108</td>\n",
       "</tr>\n",
       "<tr>\n",
       "  <th>transformed_d</th> <td>    3.4215</td> <td>    0.134</td> <td>   25.577</td> <td> 0.000</td> <td>    3.147</td> <td>    3.695</td>\n",
       "</tr>\n",
       "<tr>\n",
       "  <th>h</th>             <td>    0.0148</td> <td>    0.003</td> <td>    5.211</td> <td> 0.000</td> <td>    0.009</td> <td>    0.021</td>\n",
       "</tr>\n",
       "</table>\n",
       "<table class=\"simpletable\">\n",
       "<tr>\n",
       "  <th>Omnibus:</th>       <td> 2.127</td> <th>  Durbin-Watson:     </th> <td>   1.939</td>\n",
       "</tr>\n",
       "<tr>\n",
       "  <th>Prob(Omnibus):</th> <td> 0.345</td> <th>  Jarque-Bera (JB):  </th> <td>   1.764</td>\n",
       "</tr>\n",
       "<tr>\n",
       "  <th>Skew:</th>          <td>-0.570</td> <th>  Prob(JB):          </th> <td>   0.414</td>\n",
       "</tr>\n",
       "<tr>\n",
       "  <th>Kurtosis:</th>      <td> 2.746</td> <th>  Cond. No.          </th> <td>1.28e+03</td>\n",
       "</tr>\n",
       "</table><br/><br/>Warnings:<br/>[1] Standard Errors assume that the covariance matrix of the errors is correctly specified.<br/>[2] The condition number is large, 1.28e+03. This might indicate that there are<br/>strong multicollinearity or other numerical problems."
      ],
      "text/plain": [
       "<class 'statsmodels.iolib.summary.Summary'>\n",
       "\"\"\"\n",
       "                            OLS Regression Results                            \n",
       "==============================================================================\n",
       "Dep. Variable:        transformed_vol   R-squared:                       0.976\n",
       "Model:                            OLS   Adj. R-squared:                  0.975\n",
       "Method:                 Least Squares   F-statistic:                     574.4\n",
       "Date:                Tue, 11 Aug 2020   Prob (F-statistic):           1.87e-23\n",
       "Time:                        20:12:04   Log-Likelihood:                 34.365\n",
       "No. Observations:                  31   AIC:                            -62.73\n",
       "Df Residuals:                      28   BIC:                            -58.43\n",
       "Df Model:                           2                                         \n",
       "Covariance Type:            nonrobust                                         \n",
       "=================================================================================\n",
       "                    coef    std err          t      P>|t|      [0.025      0.975]\n",
       "---------------------------------------------------------------------------------\n",
       "Intercept        -4.5921      0.236    -19.451      0.000      -5.076      -4.108\n",
       "transformed_d     3.4215      0.134     25.577      0.000       3.147       3.695\n",
       "h                 0.0148      0.003      5.211      0.000       0.009       0.021\n",
       "==============================================================================\n",
       "Omnibus:                        2.127   Durbin-Watson:                   1.939\n",
       "Prob(Omnibus):                  0.345   Jarque-Bera (JB):                1.764\n",
       "Skew:                          -0.570   Prob(JB):                        0.414\n",
       "Kurtosis:                       2.746   Cond. No.                     1.28e+03\n",
       "==============================================================================\n",
       "\n",
       "Warnings:\n",
       "[1] Standard Errors assume that the covariance matrix of the errors is correctly specified.\n",
       "[2] The condition number is large, 1.28e+03. This might indicate that there are\n",
       "strong multicollinearity or other numerical problems.\n",
       "\"\"\""
      ]
     },
     "execution_count": 56,
     "metadata": {},
     "output_type": "execute_result"
    }
   ],
   "source": [
    "trees_transformed_model = smf.ols(\"transformed_vol ~ transformed_d + h\", trees_df).fit()\n",
    "trees_transformed_model.summary()"
   ]
  },
  {
   "cell_type": "code",
   "execution_count": 57,
   "metadata": {},
   "outputs": [
    {
     "data": {
      "application/vnd.plotly.v1+json": {
       "config": {
        "plotlyServerURL": "https://plot.ly"
       },
       "data": [
        {
         "hovertemplate": "transformed_fitted=%{x}<br>transformed_residuals=%{y}<extra></extra>",
         "legendgroup": "",
         "marker": {
          "color": "#636efa",
          "symbol": "circle"
         },
         "mode": "markers",
         "name": "",
         "orientation": "v",
         "showlegend": false,
         "type": "scatter",
         "x": [
          2.2763280592405897,
          2.2794087748965066,
          2.29943069223636,
          2.806354757876048,
          2.978814040708609,
          3.027663903781864,
          2.813512431748875,
          2.946889028643259,
          3.0395671526554677,
          2.9838471855350353,
          3.06130590958677,
          3.0348332292429094,
          3.0348332292429094,
          2.9839270718131417,
          3.124058360338676,
          3.2540217620099625,
          3.417037602658654,
          3.4923252673538077,
          3.3283329896619085,
          3.238849110416327,
          3.474458650254749,
          3.531749526264387,
          3.4834357213427563,
          3.642575128392868,
          3.751856218080512,
          3.9229720443245526,
          3.9592191561073085,
          3.9715574903952087,
          3.981874360857957,
          3.981874360857957,
          4.331770173743649
         ],
         "xaxis": "x",
         "y": [
          0.055815835995000285,
          0.05273512033908334,
          0.022957028053865347,
          -0.00907342304589509,
          -0.04495717087270501,
          -0.04704526803792142,
          -0.06624151749338392,
          -0.04546743456050928,
          0.07838275362277258,
          0.006872546195411555,
          0.125046723575871,
          0.009689208480513578,
          0.028557692784896282,
          0.07478000090223791,
          -0.17437002528609158,
          -0.15392947313172867,
          0.10342319983031878,
          -0.1817822539597831,
          -0.08184199776073431,
          -0.023981306945664915,
          0.0665006737825653,
          -0.07543284538115236,
          0.10838201992804875,
          0.0028747677937324134,
          -0.000001964805186993601,
          0.09160754942868543,
          0.060760990825929895,
          0.09404460296123762,
          -0.040292553188266744,
          -0.05004872813363148,
          0.012035248110034757
         ],
         "yaxis": "y"
        }
       ],
       "layout": {
        "legend": {
         "tracegroupgap": 0
        },
        "template": {
         "data": {
          "bar": [
           {
            "error_x": {
             "color": "#2a3f5f"
            },
            "error_y": {
             "color": "#2a3f5f"
            },
            "marker": {
             "line": {
              "color": "#E5ECF6",
              "width": 0.5
             }
            },
            "type": "bar"
           }
          ],
          "barpolar": [
           {
            "marker": {
             "line": {
              "color": "#E5ECF6",
              "width": 0.5
             }
            },
            "type": "barpolar"
           }
          ],
          "carpet": [
           {
            "aaxis": {
             "endlinecolor": "#2a3f5f",
             "gridcolor": "white",
             "linecolor": "white",
             "minorgridcolor": "white",
             "startlinecolor": "#2a3f5f"
            },
            "baxis": {
             "endlinecolor": "#2a3f5f",
             "gridcolor": "white",
             "linecolor": "white",
             "minorgridcolor": "white",
             "startlinecolor": "#2a3f5f"
            },
            "type": "carpet"
           }
          ],
          "choropleth": [
           {
            "colorbar": {
             "outlinewidth": 0,
             "ticks": ""
            },
            "type": "choropleth"
           }
          ],
          "contour": [
           {
            "colorbar": {
             "outlinewidth": 0,
             "ticks": ""
            },
            "colorscale": [
             [
              0,
              "#0d0887"
             ],
             [
              0.1111111111111111,
              "#46039f"
             ],
             [
              0.2222222222222222,
              "#7201a8"
             ],
             [
              0.3333333333333333,
              "#9c179e"
             ],
             [
              0.4444444444444444,
              "#bd3786"
             ],
             [
              0.5555555555555556,
              "#d8576b"
             ],
             [
              0.6666666666666666,
              "#ed7953"
             ],
             [
              0.7777777777777778,
              "#fb9f3a"
             ],
             [
              0.8888888888888888,
              "#fdca26"
             ],
             [
              1,
              "#f0f921"
             ]
            ],
            "type": "contour"
           }
          ],
          "contourcarpet": [
           {
            "colorbar": {
             "outlinewidth": 0,
             "ticks": ""
            },
            "type": "contourcarpet"
           }
          ],
          "heatmap": [
           {
            "colorbar": {
             "outlinewidth": 0,
             "ticks": ""
            },
            "colorscale": [
             [
              0,
              "#0d0887"
             ],
             [
              0.1111111111111111,
              "#46039f"
             ],
             [
              0.2222222222222222,
              "#7201a8"
             ],
             [
              0.3333333333333333,
              "#9c179e"
             ],
             [
              0.4444444444444444,
              "#bd3786"
             ],
             [
              0.5555555555555556,
              "#d8576b"
             ],
             [
              0.6666666666666666,
              "#ed7953"
             ],
             [
              0.7777777777777778,
              "#fb9f3a"
             ],
             [
              0.8888888888888888,
              "#fdca26"
             ],
             [
              1,
              "#f0f921"
             ]
            ],
            "type": "heatmap"
           }
          ],
          "heatmapgl": [
           {
            "colorbar": {
             "outlinewidth": 0,
             "ticks": ""
            },
            "colorscale": [
             [
              0,
              "#0d0887"
             ],
             [
              0.1111111111111111,
              "#46039f"
             ],
             [
              0.2222222222222222,
              "#7201a8"
             ],
             [
              0.3333333333333333,
              "#9c179e"
             ],
             [
              0.4444444444444444,
              "#bd3786"
             ],
             [
              0.5555555555555556,
              "#d8576b"
             ],
             [
              0.6666666666666666,
              "#ed7953"
             ],
             [
              0.7777777777777778,
              "#fb9f3a"
             ],
             [
              0.8888888888888888,
              "#fdca26"
             ],
             [
              1,
              "#f0f921"
             ]
            ],
            "type": "heatmapgl"
           }
          ],
          "histogram": [
           {
            "marker": {
             "colorbar": {
              "outlinewidth": 0,
              "ticks": ""
             }
            },
            "type": "histogram"
           }
          ],
          "histogram2d": [
           {
            "colorbar": {
             "outlinewidth": 0,
             "ticks": ""
            },
            "colorscale": [
             [
              0,
              "#0d0887"
             ],
             [
              0.1111111111111111,
              "#46039f"
             ],
             [
              0.2222222222222222,
              "#7201a8"
             ],
             [
              0.3333333333333333,
              "#9c179e"
             ],
             [
              0.4444444444444444,
              "#bd3786"
             ],
             [
              0.5555555555555556,
              "#d8576b"
             ],
             [
              0.6666666666666666,
              "#ed7953"
             ],
             [
              0.7777777777777778,
              "#fb9f3a"
             ],
             [
              0.8888888888888888,
              "#fdca26"
             ],
             [
              1,
              "#f0f921"
             ]
            ],
            "type": "histogram2d"
           }
          ],
          "histogram2dcontour": [
           {
            "colorbar": {
             "outlinewidth": 0,
             "ticks": ""
            },
            "colorscale": [
             [
              0,
              "#0d0887"
             ],
             [
              0.1111111111111111,
              "#46039f"
             ],
             [
              0.2222222222222222,
              "#7201a8"
             ],
             [
              0.3333333333333333,
              "#9c179e"
             ],
             [
              0.4444444444444444,
              "#bd3786"
             ],
             [
              0.5555555555555556,
              "#d8576b"
             ],
             [
              0.6666666666666666,
              "#ed7953"
             ],
             [
              0.7777777777777778,
              "#fb9f3a"
             ],
             [
              0.8888888888888888,
              "#fdca26"
             ],
             [
              1,
              "#f0f921"
             ]
            ],
            "type": "histogram2dcontour"
           }
          ],
          "mesh3d": [
           {
            "colorbar": {
             "outlinewidth": 0,
             "ticks": ""
            },
            "type": "mesh3d"
           }
          ],
          "parcoords": [
           {
            "line": {
             "colorbar": {
              "outlinewidth": 0,
              "ticks": ""
             }
            },
            "type": "parcoords"
           }
          ],
          "pie": [
           {
            "automargin": true,
            "type": "pie"
           }
          ],
          "scatter": [
           {
            "marker": {
             "colorbar": {
              "outlinewidth": 0,
              "ticks": ""
             }
            },
            "type": "scatter"
           }
          ],
          "scatter3d": [
           {
            "line": {
             "colorbar": {
              "outlinewidth": 0,
              "ticks": ""
             }
            },
            "marker": {
             "colorbar": {
              "outlinewidth": 0,
              "ticks": ""
             }
            },
            "type": "scatter3d"
           }
          ],
          "scattercarpet": [
           {
            "marker": {
             "colorbar": {
              "outlinewidth": 0,
              "ticks": ""
             }
            },
            "type": "scattercarpet"
           }
          ],
          "scattergeo": [
           {
            "marker": {
             "colorbar": {
              "outlinewidth": 0,
              "ticks": ""
             }
            },
            "type": "scattergeo"
           }
          ],
          "scattergl": [
           {
            "marker": {
             "colorbar": {
              "outlinewidth": 0,
              "ticks": ""
             }
            },
            "type": "scattergl"
           }
          ],
          "scattermapbox": [
           {
            "marker": {
             "colorbar": {
              "outlinewidth": 0,
              "ticks": ""
             }
            },
            "type": "scattermapbox"
           }
          ],
          "scatterpolar": [
           {
            "marker": {
             "colorbar": {
              "outlinewidth": 0,
              "ticks": ""
             }
            },
            "type": "scatterpolar"
           }
          ],
          "scatterpolargl": [
           {
            "marker": {
             "colorbar": {
              "outlinewidth": 0,
              "ticks": ""
             }
            },
            "type": "scatterpolargl"
           }
          ],
          "scatterternary": [
           {
            "marker": {
             "colorbar": {
              "outlinewidth": 0,
              "ticks": ""
             }
            },
            "type": "scatterternary"
           }
          ],
          "surface": [
           {
            "colorbar": {
             "outlinewidth": 0,
             "ticks": ""
            },
            "colorscale": [
             [
              0,
              "#0d0887"
             ],
             [
              0.1111111111111111,
              "#46039f"
             ],
             [
              0.2222222222222222,
              "#7201a8"
             ],
             [
              0.3333333333333333,
              "#9c179e"
             ],
             [
              0.4444444444444444,
              "#bd3786"
             ],
             [
              0.5555555555555556,
              "#d8576b"
             ],
             [
              0.6666666666666666,
              "#ed7953"
             ],
             [
              0.7777777777777778,
              "#fb9f3a"
             ],
             [
              0.8888888888888888,
              "#fdca26"
             ],
             [
              1,
              "#f0f921"
             ]
            ],
            "type": "surface"
           }
          ],
          "table": [
           {
            "cells": {
             "fill": {
              "color": "#EBF0F8"
             },
             "line": {
              "color": "white"
             }
            },
            "header": {
             "fill": {
              "color": "#C8D4E3"
             },
             "line": {
              "color": "white"
             }
            },
            "type": "table"
           }
          ]
         },
         "layout": {
          "annotationdefaults": {
           "arrowcolor": "#2a3f5f",
           "arrowhead": 0,
           "arrowwidth": 1
          },
          "coloraxis": {
           "colorbar": {
            "outlinewidth": 0,
            "ticks": ""
           }
          },
          "colorscale": {
           "diverging": [
            [
             0,
             "#8e0152"
            ],
            [
             0.1,
             "#c51b7d"
            ],
            [
             0.2,
             "#de77ae"
            ],
            [
             0.3,
             "#f1b6da"
            ],
            [
             0.4,
             "#fde0ef"
            ],
            [
             0.5,
             "#f7f7f7"
            ],
            [
             0.6,
             "#e6f5d0"
            ],
            [
             0.7,
             "#b8e186"
            ],
            [
             0.8,
             "#7fbc41"
            ],
            [
             0.9,
             "#4d9221"
            ],
            [
             1,
             "#276419"
            ]
           ],
           "sequential": [
            [
             0,
             "#0d0887"
            ],
            [
             0.1111111111111111,
             "#46039f"
            ],
            [
             0.2222222222222222,
             "#7201a8"
            ],
            [
             0.3333333333333333,
             "#9c179e"
            ],
            [
             0.4444444444444444,
             "#bd3786"
            ],
            [
             0.5555555555555556,
             "#d8576b"
            ],
            [
             0.6666666666666666,
             "#ed7953"
            ],
            [
             0.7777777777777778,
             "#fb9f3a"
            ],
            [
             0.8888888888888888,
             "#fdca26"
            ],
            [
             1,
             "#f0f921"
            ]
           ],
           "sequentialminus": [
            [
             0,
             "#0d0887"
            ],
            [
             0.1111111111111111,
             "#46039f"
            ],
            [
             0.2222222222222222,
             "#7201a8"
            ],
            [
             0.3333333333333333,
             "#9c179e"
            ],
            [
             0.4444444444444444,
             "#bd3786"
            ],
            [
             0.5555555555555556,
             "#d8576b"
            ],
            [
             0.6666666666666666,
             "#ed7953"
            ],
            [
             0.7777777777777778,
             "#fb9f3a"
            ],
            [
             0.8888888888888888,
             "#fdca26"
            ],
            [
             1,
             "#f0f921"
            ]
           ]
          },
          "colorway": [
           "#636efa",
           "#EF553B",
           "#00cc96",
           "#ab63fa",
           "#FFA15A",
           "#19d3f3",
           "#FF6692",
           "#B6E880",
           "#FF97FF",
           "#FECB52"
          ],
          "font": {
           "color": "#2a3f5f"
          },
          "geo": {
           "bgcolor": "white",
           "lakecolor": "white",
           "landcolor": "#E5ECF6",
           "showlakes": true,
           "showland": true,
           "subunitcolor": "white"
          },
          "hoverlabel": {
           "align": "left"
          },
          "hovermode": "closest",
          "mapbox": {
           "style": "light"
          },
          "paper_bgcolor": "white",
          "plot_bgcolor": "#E5ECF6",
          "polar": {
           "angularaxis": {
            "gridcolor": "white",
            "linecolor": "white",
            "ticks": ""
           },
           "bgcolor": "#E5ECF6",
           "radialaxis": {
            "gridcolor": "white",
            "linecolor": "white",
            "ticks": ""
           }
          },
          "scene": {
           "xaxis": {
            "backgroundcolor": "#E5ECF6",
            "gridcolor": "white",
            "gridwidth": 2,
            "linecolor": "white",
            "showbackground": true,
            "ticks": "",
            "zerolinecolor": "white"
           },
           "yaxis": {
            "backgroundcolor": "#E5ECF6",
            "gridcolor": "white",
            "gridwidth": 2,
            "linecolor": "white",
            "showbackground": true,
            "ticks": "",
            "zerolinecolor": "white"
           },
           "zaxis": {
            "backgroundcolor": "#E5ECF6",
            "gridcolor": "white",
            "gridwidth": 2,
            "linecolor": "white",
            "showbackground": true,
            "ticks": "",
            "zerolinecolor": "white"
           }
          },
          "shapedefaults": {
           "line": {
            "color": "#2a3f5f"
           }
          },
          "ternary": {
           "aaxis": {
            "gridcolor": "white",
            "linecolor": "white",
            "ticks": ""
           },
           "baxis": {
            "gridcolor": "white",
            "linecolor": "white",
            "ticks": ""
           },
           "bgcolor": "#E5ECF6",
           "caxis": {
            "gridcolor": "white",
            "linecolor": "white",
            "ticks": ""
           }
          },
          "title": {
           "x": 0.05
          },
          "xaxis": {
           "automargin": true,
           "gridcolor": "white",
           "linecolor": "white",
           "ticks": "",
           "title": {
            "standoff": 15
           },
           "zerolinecolor": "white",
           "zerolinewidth": 2
          },
          "yaxis": {
           "automargin": true,
           "gridcolor": "white",
           "linecolor": "white",
           "ticks": "",
           "title": {
            "standoff": 15
           },
           "zerolinecolor": "white",
           "zerolinewidth": 2
          }
         }
        },
        "title": {
         "text": "Fitted values vs model residuals (transformed data)"
        },
        "xaxis": {
         "anchor": "y",
         "domain": [
          0,
          1
         ],
         "title": {
          "text": "transformed_fitted"
         }
        },
        "yaxis": {
         "anchor": "x",
         "domain": [
          0,
          1
         ],
         "title": {
          "text": "transformed_residuals"
         }
        }
       }
      },
      "text/html": [
       "<div>\n",
       "        \n",
       "        \n",
       "            <div id=\"3d0f868a-98ab-4fca-a83e-1a19d80b7698\" class=\"plotly-graph-div\" style=\"height:525px; width:100%;\"></div>\n",
       "            <script type=\"text/javascript\">\n",
       "                require([\"plotly\"], function(Plotly) {\n",
       "                    window.PLOTLYENV=window.PLOTLYENV || {};\n",
       "                    \n",
       "                if (document.getElementById(\"3d0f868a-98ab-4fca-a83e-1a19d80b7698\")) {\n",
       "                    Plotly.newPlot(\n",
       "                        '3d0f868a-98ab-4fca-a83e-1a19d80b7698',\n",
       "                        [{\"hovertemplate\": \"transformed_fitted=%{x}<br>transformed_residuals=%{y}<extra></extra>\", \"legendgroup\": \"\", \"marker\": {\"color\": \"#636efa\", \"symbol\": \"circle\"}, \"mode\": \"markers\", \"name\": \"\", \"orientation\": \"v\", \"showlegend\": false, \"type\": \"scatter\", \"x\": [2.2763280592405897, 2.2794087748965066, 2.29943069223636, 2.806354757876048, 2.978814040708609, 3.027663903781864, 2.813512431748875, 2.946889028643259, 3.0395671526554677, 2.9838471855350353, 3.06130590958677, 3.0348332292429094, 3.0348332292429094, 2.9839270718131417, 3.124058360338676, 3.2540217620099625, 3.417037602658654, 3.4923252673538077, 3.3283329896619085, 3.238849110416327, 3.474458650254749, 3.531749526264387, 3.4834357213427563, 3.642575128392868, 3.751856218080512, 3.9229720443245526, 3.9592191561073085, 3.9715574903952087, 3.981874360857957, 3.981874360857957, 4.331770173743649], \"xaxis\": \"x\", \"y\": [0.055815835995000285, 0.05273512033908334, 0.022957028053865347, -0.00907342304589509, -0.04495717087270501, -0.04704526803792142, -0.06624151749338392, -0.04546743456050928, 0.07838275362277258, 0.006872546195411555, 0.125046723575871, 0.009689208480513578, 0.028557692784896282, 0.07478000090223791, -0.17437002528609158, -0.15392947313172867, 0.10342319983031878, -0.1817822539597831, -0.08184199776073431, -0.023981306945664915, 0.0665006737825653, -0.07543284538115236, 0.10838201992804875, 0.0028747677937324134, -1.964805186993601e-06, 0.09160754942868543, 0.060760990825929895, 0.09404460296123762, -0.040292553188266744, -0.05004872813363148, 0.012035248110034757], \"yaxis\": \"y\"}],\n",
       "                        {\"legend\": {\"tracegroupgap\": 0}, \"template\": {\"data\": {\"bar\": [{\"error_x\": {\"color\": \"#2a3f5f\"}, \"error_y\": {\"color\": \"#2a3f5f\"}, \"marker\": {\"line\": {\"color\": \"#E5ECF6\", \"width\": 0.5}}, \"type\": \"bar\"}], \"barpolar\": [{\"marker\": {\"line\": {\"color\": \"#E5ECF6\", \"width\": 0.5}}, \"type\": \"barpolar\"}], \"carpet\": [{\"aaxis\": {\"endlinecolor\": \"#2a3f5f\", \"gridcolor\": \"white\", \"linecolor\": \"white\", \"minorgridcolor\": \"white\", \"startlinecolor\": \"#2a3f5f\"}, \"baxis\": {\"endlinecolor\": \"#2a3f5f\", \"gridcolor\": \"white\", \"linecolor\": \"white\", \"minorgridcolor\": \"white\", \"startlinecolor\": \"#2a3f5f\"}, \"type\": \"carpet\"}], \"choropleth\": [{\"colorbar\": {\"outlinewidth\": 0, \"ticks\": \"\"}, \"type\": \"choropleth\"}], \"contour\": [{\"colorbar\": {\"outlinewidth\": 0, \"ticks\": \"\"}, \"colorscale\": [[0.0, \"#0d0887\"], [0.1111111111111111, \"#46039f\"], [0.2222222222222222, \"#7201a8\"], [0.3333333333333333, \"#9c179e\"], [0.4444444444444444, \"#bd3786\"], [0.5555555555555556, \"#d8576b\"], [0.6666666666666666, \"#ed7953\"], [0.7777777777777778, \"#fb9f3a\"], [0.8888888888888888, \"#fdca26\"], [1.0, \"#f0f921\"]], \"type\": \"contour\"}], \"contourcarpet\": [{\"colorbar\": {\"outlinewidth\": 0, \"ticks\": \"\"}, \"type\": \"contourcarpet\"}], \"heatmap\": [{\"colorbar\": {\"outlinewidth\": 0, \"ticks\": \"\"}, \"colorscale\": [[0.0, \"#0d0887\"], [0.1111111111111111, \"#46039f\"], [0.2222222222222222, \"#7201a8\"], [0.3333333333333333, \"#9c179e\"], [0.4444444444444444, \"#bd3786\"], [0.5555555555555556, \"#d8576b\"], [0.6666666666666666, \"#ed7953\"], [0.7777777777777778, \"#fb9f3a\"], [0.8888888888888888, \"#fdca26\"], [1.0, \"#f0f921\"]], \"type\": \"heatmap\"}], \"heatmapgl\": [{\"colorbar\": {\"outlinewidth\": 0, \"ticks\": \"\"}, \"colorscale\": [[0.0, \"#0d0887\"], [0.1111111111111111, \"#46039f\"], [0.2222222222222222, \"#7201a8\"], [0.3333333333333333, \"#9c179e\"], [0.4444444444444444, \"#bd3786\"], [0.5555555555555556, \"#d8576b\"], [0.6666666666666666, \"#ed7953\"], [0.7777777777777778, \"#fb9f3a\"], [0.8888888888888888, \"#fdca26\"], [1.0, \"#f0f921\"]], \"type\": \"heatmapgl\"}], \"histogram\": [{\"marker\": {\"colorbar\": {\"outlinewidth\": 0, \"ticks\": \"\"}}, \"type\": \"histogram\"}], \"histogram2d\": [{\"colorbar\": {\"outlinewidth\": 0, \"ticks\": \"\"}, \"colorscale\": [[0.0, \"#0d0887\"], [0.1111111111111111, \"#46039f\"], [0.2222222222222222, \"#7201a8\"], [0.3333333333333333, \"#9c179e\"], [0.4444444444444444, \"#bd3786\"], [0.5555555555555556, \"#d8576b\"], [0.6666666666666666, \"#ed7953\"], [0.7777777777777778, \"#fb9f3a\"], [0.8888888888888888, \"#fdca26\"], [1.0, \"#f0f921\"]], \"type\": \"histogram2d\"}], \"histogram2dcontour\": [{\"colorbar\": {\"outlinewidth\": 0, \"ticks\": \"\"}, \"colorscale\": [[0.0, \"#0d0887\"], [0.1111111111111111, \"#46039f\"], [0.2222222222222222, \"#7201a8\"], [0.3333333333333333, \"#9c179e\"], [0.4444444444444444, \"#bd3786\"], [0.5555555555555556, \"#d8576b\"], [0.6666666666666666, \"#ed7953\"], [0.7777777777777778, \"#fb9f3a\"], [0.8888888888888888, \"#fdca26\"], [1.0, \"#f0f921\"]], \"type\": \"histogram2dcontour\"}], \"mesh3d\": [{\"colorbar\": {\"outlinewidth\": 0, \"ticks\": \"\"}, \"type\": \"mesh3d\"}], \"parcoords\": [{\"line\": {\"colorbar\": {\"outlinewidth\": 0, \"ticks\": \"\"}}, \"type\": \"parcoords\"}], \"pie\": [{\"automargin\": true, \"type\": \"pie\"}], \"scatter\": [{\"marker\": {\"colorbar\": {\"outlinewidth\": 0, \"ticks\": \"\"}}, \"type\": \"scatter\"}], \"scatter3d\": [{\"line\": {\"colorbar\": {\"outlinewidth\": 0, \"ticks\": \"\"}}, \"marker\": {\"colorbar\": {\"outlinewidth\": 0, \"ticks\": \"\"}}, \"type\": \"scatter3d\"}], \"scattercarpet\": [{\"marker\": {\"colorbar\": {\"outlinewidth\": 0, \"ticks\": \"\"}}, \"type\": \"scattercarpet\"}], \"scattergeo\": [{\"marker\": {\"colorbar\": {\"outlinewidth\": 0, \"ticks\": \"\"}}, \"type\": \"scattergeo\"}], \"scattergl\": [{\"marker\": {\"colorbar\": {\"outlinewidth\": 0, \"ticks\": \"\"}}, \"type\": \"scattergl\"}], \"scattermapbox\": [{\"marker\": {\"colorbar\": {\"outlinewidth\": 0, \"ticks\": \"\"}}, \"type\": \"scattermapbox\"}], \"scatterpolar\": [{\"marker\": {\"colorbar\": {\"outlinewidth\": 0, \"ticks\": \"\"}}, \"type\": \"scatterpolar\"}], \"scatterpolargl\": [{\"marker\": {\"colorbar\": {\"outlinewidth\": 0, \"ticks\": \"\"}}, \"type\": \"scatterpolargl\"}], \"scatterternary\": [{\"marker\": {\"colorbar\": {\"outlinewidth\": 0, \"ticks\": \"\"}}, \"type\": \"scatterternary\"}], \"surface\": [{\"colorbar\": {\"outlinewidth\": 0, \"ticks\": \"\"}, \"colorscale\": [[0.0, \"#0d0887\"], [0.1111111111111111, \"#46039f\"], [0.2222222222222222, \"#7201a8\"], [0.3333333333333333, \"#9c179e\"], [0.4444444444444444, \"#bd3786\"], [0.5555555555555556, \"#d8576b\"], [0.6666666666666666, \"#ed7953\"], [0.7777777777777778, \"#fb9f3a\"], [0.8888888888888888, \"#fdca26\"], [1.0, \"#f0f921\"]], \"type\": \"surface\"}], \"table\": [{\"cells\": {\"fill\": {\"color\": \"#EBF0F8\"}, \"line\": {\"color\": \"white\"}}, \"header\": {\"fill\": {\"color\": \"#C8D4E3\"}, \"line\": {\"color\": \"white\"}}, \"type\": \"table\"}]}, \"layout\": {\"annotationdefaults\": {\"arrowcolor\": \"#2a3f5f\", \"arrowhead\": 0, \"arrowwidth\": 1}, \"coloraxis\": {\"colorbar\": {\"outlinewidth\": 0, \"ticks\": \"\"}}, \"colorscale\": {\"diverging\": [[0, \"#8e0152\"], [0.1, \"#c51b7d\"], [0.2, \"#de77ae\"], [0.3, \"#f1b6da\"], [0.4, \"#fde0ef\"], [0.5, \"#f7f7f7\"], [0.6, \"#e6f5d0\"], [0.7, \"#b8e186\"], [0.8, \"#7fbc41\"], [0.9, \"#4d9221\"], [1, \"#276419\"]], \"sequential\": [[0.0, \"#0d0887\"], [0.1111111111111111, \"#46039f\"], [0.2222222222222222, \"#7201a8\"], [0.3333333333333333, \"#9c179e\"], [0.4444444444444444, \"#bd3786\"], [0.5555555555555556, \"#d8576b\"], [0.6666666666666666, \"#ed7953\"], [0.7777777777777778, \"#fb9f3a\"], [0.8888888888888888, \"#fdca26\"], [1.0, \"#f0f921\"]], \"sequentialminus\": [[0.0, \"#0d0887\"], [0.1111111111111111, \"#46039f\"], [0.2222222222222222, \"#7201a8\"], [0.3333333333333333, \"#9c179e\"], [0.4444444444444444, \"#bd3786\"], [0.5555555555555556, \"#d8576b\"], [0.6666666666666666, \"#ed7953\"], [0.7777777777777778, \"#fb9f3a\"], [0.8888888888888888, \"#fdca26\"], [1.0, \"#f0f921\"]]}, \"colorway\": [\"#636efa\", \"#EF553B\", \"#00cc96\", \"#ab63fa\", \"#FFA15A\", \"#19d3f3\", \"#FF6692\", \"#B6E880\", \"#FF97FF\", \"#FECB52\"], \"font\": {\"color\": \"#2a3f5f\"}, \"geo\": {\"bgcolor\": \"white\", \"lakecolor\": \"white\", \"landcolor\": \"#E5ECF6\", \"showlakes\": true, \"showland\": true, \"subunitcolor\": \"white\"}, \"hoverlabel\": {\"align\": \"left\"}, \"hovermode\": \"closest\", \"mapbox\": {\"style\": \"light\"}, \"paper_bgcolor\": \"white\", \"plot_bgcolor\": \"#E5ECF6\", \"polar\": {\"angularaxis\": {\"gridcolor\": \"white\", \"linecolor\": \"white\", \"ticks\": \"\"}, \"bgcolor\": \"#E5ECF6\", \"radialaxis\": {\"gridcolor\": \"white\", \"linecolor\": \"white\", \"ticks\": \"\"}}, \"scene\": {\"xaxis\": {\"backgroundcolor\": \"#E5ECF6\", \"gridcolor\": \"white\", \"gridwidth\": 2, \"linecolor\": \"white\", \"showbackground\": true, \"ticks\": \"\", \"zerolinecolor\": \"white\"}, \"yaxis\": {\"backgroundcolor\": \"#E5ECF6\", \"gridcolor\": \"white\", \"gridwidth\": 2, \"linecolor\": \"white\", \"showbackground\": true, \"ticks\": \"\", \"zerolinecolor\": \"white\"}, \"zaxis\": {\"backgroundcolor\": \"#E5ECF6\", \"gridcolor\": \"white\", \"gridwidth\": 2, \"linecolor\": \"white\", \"showbackground\": true, \"ticks\": \"\", \"zerolinecolor\": \"white\"}}, \"shapedefaults\": {\"line\": {\"color\": \"#2a3f5f\"}}, \"ternary\": {\"aaxis\": {\"gridcolor\": \"white\", \"linecolor\": \"white\", \"ticks\": \"\"}, \"baxis\": {\"gridcolor\": \"white\", \"linecolor\": \"white\", \"ticks\": \"\"}, \"bgcolor\": \"#E5ECF6\", \"caxis\": {\"gridcolor\": \"white\", \"linecolor\": \"white\", \"ticks\": \"\"}}, \"title\": {\"x\": 0.05}, \"xaxis\": {\"automargin\": true, \"gridcolor\": \"white\", \"linecolor\": \"white\", \"ticks\": \"\", \"title\": {\"standoff\": 15}, \"zerolinecolor\": \"white\", \"zerolinewidth\": 2}, \"yaxis\": {\"automargin\": true, \"gridcolor\": \"white\", \"linecolor\": \"white\", \"ticks\": \"\", \"title\": {\"standoff\": 15}, \"zerolinecolor\": \"white\", \"zerolinewidth\": 2}}}, \"title\": {\"text\": \"Fitted values vs model residuals (transformed data)\"}, \"xaxis\": {\"anchor\": \"y\", \"domain\": [0.0, 1.0], \"title\": {\"text\": \"transformed_fitted\"}}, \"yaxis\": {\"anchor\": \"x\", \"domain\": [0.0, 1.0], \"title\": {\"text\": \"transformed_residuals\"}}},\n",
       "                        {\"responsive\": true}\n",
       "                    ).then(function(){\n",
       "                            \n",
       "var gd = document.getElementById('3d0f868a-98ab-4fca-a83e-1a19d80b7698');\n",
       "var x = new MutationObserver(function (mutations, observer) {{\n",
       "        var display = window.getComputedStyle(gd).display;\n",
       "        if (!display || display === 'none') {{\n",
       "            console.log([gd, 'removed!']);\n",
       "            Plotly.purge(gd);\n",
       "            observer.disconnect();\n",
       "        }}\n",
       "}});\n",
       "\n",
       "// Listen for the removal of the full notebook cells\n",
       "var notebookContainer = gd.closest('#notebook-container');\n",
       "if (notebookContainer) {{\n",
       "    x.observe(notebookContainer, {childList: true});\n",
       "}}\n",
       "\n",
       "// Listen for the clearing of the current output cell\n",
       "var outputEl = gd.closest('.output');\n",
       "if (outputEl) {{\n",
       "    x.observe(outputEl, {childList: true});\n",
       "}}\n",
       "\n",
       "                        })\n",
       "                };\n",
       "                });\n",
       "            </script>\n",
       "        </div>"
      ]
     },
     "metadata": {},
     "output_type": "display_data"
    }
   ],
   "source": [
    "trees_df[\"transformed_residuals\"] = trees_transformed_model.resid\n",
    "trees_df[\"transformed_fitted\"] = trees_transformed_model.fittedvalues\n",
    "px.scatter(trees_df, \"transformed_fitted\", \"transformed_residuals\", title=\"Fitted values vs model residuals (transformed data)\")"
   ]
  },
  {
   "cell_type": "code",
   "execution_count": 58,
   "metadata": {},
   "outputs": [
    {
     "data": {
      "image/png": "[encoded data removed]",
      "text/plain": [
       "<Figure size 432x288 with 1 Axes>"
      ]
     },
     "metadata": {
      "needs_background": "light"
     },
     "output_type": "display_data"
    }
   ],
   "source": [
    "fig = sm.qqplot(trees_df[\"transformed_residuals\"], fit=True, line='45')\n",
    "plt.title(\"QQ Plot of residuals (transformed model)\")\n",
    "plt.show()"
   ]
  },
  {
   "cell_type": "markdown",
   "metadata": {},
   "source": [
    "The heteroscedacity plot is probably slightly worse than the non-transformed variant, indicating that the transformation may *not* be valid (different data scientists would make different conclusions). Although more datapoints lie on the straight line, there are approximately 5 datapoints which deviate further than previously visualised. This is an important point - despite us doing a box-cox to transform the variable to normality, that **doesn't** ensure that our residuals would follow a normal distribution. And based on the linear regression assumptions we've outlined, the residuals following normality is more important than data itself following normality. Saying that, these points could indicate *outliers*, which we'll investigate further in the next notebook."
   ]
  }
 ],
 "metadata": {
  "kernelspec": {
   "display_name": "Python 3",
   "language": "python",
   "name": "python3"
  },
  "language_info": {
   "codemirror_mode": {
    "name": "ipython",
    "version": 3
   },
   "file_extension": ".py",
   "mimetype": "text/x-python",
   "name": "python",
   "nbconvert_exporter": "python",
   "pygments_lexer": "ipython3",
   "version": "3.8.3-final"
  }
 },
 "nbformat": 4,
 "nbformat_minor": 4
}