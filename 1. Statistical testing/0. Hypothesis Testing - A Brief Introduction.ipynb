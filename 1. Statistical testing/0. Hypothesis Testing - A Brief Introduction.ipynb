{
 "cells": [
  {
   "cell_type": "markdown",
   "metadata": {},
   "source": [
    "# Hypothesis Testing - A Brief Introduction\n",
    "\n",
    "### Learning Objectives:\n",
    "- [Introduction](#Introduction)\n",
    "- [Null & Alternative Hypothesis](#Null-&-Alternative-Hypothesis)\n",
    "- [Type I & Type II Errors](#Type-I-&-Type-II-Errors)\n",
    "\n",
    "# Introduction\n",
    "\n",
    "As data scientists, we often find the need to make decisions based on the data we have collected. This can be within different contexts, such as determining whether CO2 emissions have a significant contribution to global warming, whether protective face masks have a significant impact in preventing COVID-19 infection rates, or whether a model we have created provides statistically significant results. After obtaining our statistics, we can have a decent _feeling_ or _opinion_ on whether our data is valid and shows significant results. But how can we more make objective decisions based on our results?\n",
    "\n",
    "Thus arises the need for __(statistical) hypothesis testing__, also known as __confirmatory data analysis__. It provides us with a framework for using statistical and probabilistic methods on our data to be able to determine the significance of our results. Ideally, hypothesis testing enables different statisticians to look at the same data and independently reach the same conclusion. It is considered to be a method of __statistical inference__, as we are using a statistical analysis to infer certain characteristics of our random variables.\n",
    "\n",
    "We will now give an overview of the statistical hypothesis testing framework."
   ]
  },
  {
   "cell_type": "markdown",
   "metadata": {},
   "source": [
    "# Null & Alternative Hypotheses\n",
    "\n",
    "In hypothesis testing, we have to construct two opposing hypotheses. The first one is known as the __null hypothesis__ ($\\mathbf{H_{0}}$) and is the hypothesis you are trying to __reject__. The second one is known as the __alternative hypothesis__ ($\\mathbf{H_{A}}$), and is the hypothesis you are trying to __support__. Within this framework, we assume the null hypothesis is true, and use statistical methods to determine whether our evidence is conclusive __enough__ to reject the null hypothesis, and support the alternative hypothesis.\n",
    "\n",
    "This is a similar framework to the approach used in court cases. During a trial, the outlook is that a person is 'innocent until proven guilty'. This means that, in this case:\n",
    "- $\\mathbf{H_{0}}$: The person is innocent\n",
    "- $\\mathbf{H_{A}}$: The person is guilty\n",
    "\n",
    "And the prosecuting lawyers will use various pieces of evidence to reject $\\mathbf{H_{0}}$. \n",
    "\n",
    "In general, we can think of the null hypothesis as being 'your evidence _does not_ suggest what you think' and the alternative as being 'your evidence _does_ suggest what you think'. You assume your evidence _does not_ contribute anything new until you have statistical measures that suggest your evidence _does_ contribute to something new.\n",
    "\n",
    "As we will see later on, we will have different levels of statistical significance for our data. We can set thresholds to determine at which point of significance we reject our null hypothesis, but this threhsold depends on the context of the problem and is up for data scientists and statisticians to determine. How do we go about determining these thresholds?"
   ]
  },
  {
   "cell_type": "markdown",
   "metadata": {},
   "source": [
    "# Type I & Type II Errors\n",
    "\n",
    "Statistical hypothesis testing is meant to help data scientists and statisticians to reach a more objective conclusion based on how statistically significant our results are. But the issue arises when we have to determine a given threshold for significance. For instance, when do we reject our null hypothesis? at 70% certainty? 95% certainty? 99.9% certainty? To choose an appropriate _threshold_ of certainty, we have to understand to context of our experiment.\n",
    "\n",
    "Let us go back to the analogy of a court case. Since in a court case, you can never have 100% certainty, there is always a probability of wrongully arresting an innocent person or letting a guilty person walk free. Consider the possibilities in the table below.\n",
    "\n",
    "|                     | Court Case Outcomes |                     |\n",
    "|---------------------|---------------------|---------------------|\n",
    "|                     | Truly Innocent      | Truly Guilty        |\n",
    "| Determined Innocent | Correct             | Failed imprisonment |\n",
    "| Determined Guilty   | Wrongful arrest     | Correct             |\n",
    "\n",
    "There are two distinct types of mistakes that can happen in the decision process. When we arrest an innocent person, we have committed a __Type I error__, where we __wrongfully reject the null hypothesis (false positive)__. When we fail to arrest a guilty person, we have commited a __Type II error__, where we __wrongfully accept the null hypothesis (false negative)__. In general, when we aim to minimize the likelihood one type of error, the likelihood of the other error increases. In this case, if we are highly strict and demand a very high degree of certainty, we will minimize the number of wrongful arrests (Type I), but it also becomes more likely to not arrest someone who is guilty (Type II). On the other hand, if judges demand a lesser degree of certainty, we will arrest more guilty people, but are also more likely to wrongfully arrest an innocent person.\n",
    "\n",
    "In our modern judicial system, we believe that the accused is innocent until proven guilty, and that wrongful imprisionment is worse than letting a guilty person walk free."
   ]
  },
  {
   "cell_type": "code",
   "execution_count": 38,
   "metadata": {},
   "outputs": [
    {
     "data": {
      "text/html": [
       "<table width='700px' height='700px'><tr><td><img src='images/free.png'></td><td><img src='images/balance.png'></td><td><img src='images/arrested.png'></td></tr></table>"
      ],
      "text/plain": [
       "<IPython.core.display.HTML object>"
      ]
     },
     "metadata": {},
     "output_type": "display_data"
    }
   ],
   "source": [
    "from IPython.display import HTML, display\n",
    "display(HTML(\"<table width='700px' height='700px'><tr><td><img src='images/free.png'></td><td><img src='images/balance.png'></td><td><img src='images/arrested.png'></td></tr></table>\"))"
   ]
  },
  {
   "cell_type": "markdown",
   "metadata": {},
   "source": [
    "Therefore, we require a high degree of certainty to arrest someone, and put our efforts into minimizing the number of wrongful arrests. This principle applies to other contexts of hypothesis testing: given the context we use our best judgement to determine what type of errors we want to minimize, and set our parameters and hypotheses accordingly.\n",
    "\n",
    "What we have now covered is the motivation and framework behind hypothesis testing. In the next few sections we will go over multiple statistical probabilistic methods and, given some data, carry out our own hypothesis testing!"
   ]
  }
 ],
 "metadata": {
  "kernelspec": {
   "display_name": "Python 3",
   "language": "python",
   "name": "python3"
  },
  "language_info": {
   "codemirror_mode": {
    "name": "ipython",
    "version": 3
   },
   "file_extension": ".py",
   "mimetype": "text/x-python",
   "name": "python",
   "nbconvert_exporter": "python",
   "pygments_lexer": "ipython3",
   "version": "3.8.5"
  }
 },
 "nbformat": 4,
 "nbformat_minor": 4
}
