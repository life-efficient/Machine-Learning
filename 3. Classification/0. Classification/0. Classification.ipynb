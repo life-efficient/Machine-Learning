{
 "cells": [
  {
   "cell_type": "markdown",
   "metadata": {},
   "source": [
    "# Classification\n",
    "\n",
    "## Intro\n",
    "\n",
    "As you should know by now, most tasks can be either defined as regression (predicting a continuous value) or classification (predicting a discrete value) problems.\n",
    "\n",
    "The simplest form of a classification problem is __binary classification__:\n",
    "\n",
    "> Special case of classification, where our targets (values to predict) can either take value `0` or `1`.\n",
    "\n",
    "`cat` vs `dog` is an example, where `cat=0` and `dog=1`. That is, every example has a label which is either `True` or `False`.\n",
    "\n",
    "See below for an example:"
   ]
  },
  {
   "cell_type": "code",
   "execution_count": 1,
   "metadata": {
    "scrolled": true
   },
   "outputs": [
    {
     "data": {
      "image/png": "[encoded data removed]",
      "text/plain": [
       "<Figure size 432x288 with 1 Axes>"
      ]
     },
     "metadata": {
      "needs_background": "light"
     },
     "output_type": "display_data"
    }
   ],
   "source": [
    "import numpy as np\n",
    "import matplotlib.pyplot as plt\n",
    "\n",
    "def make_binary_data(m=50): \n",
    "    X = np.random.randn(m) #sample from a normal distribution\n",
    "    X = np.array(sorted(X))\n",
    "    Y = X > 0.2    # return binary vector with true where X above some threshold and false if below\n",
    "    return X, Y #returns X (the input) and Y (labels)\n",
    "\n",
    "def plot_data(X, Y):\n",
    "    plt.figure()\n",
    "    plt.scatter(X, Y, c='r', marker='x')\n",
    "    plt.xlabel('X')\n",
    "    plt.ylabel('Y')\n",
    "    plt.grid()\n",
    "    plt.show()\n",
    "    \n",
    "X, Y = make_binary_data()\n",
    "plot_data(X, Y)"
   ]
  },
  {
   "cell_type": "markdown",
   "metadata": {},
   "source": [
    "Previously, the output of our model could be any real number, negative or positive, unbounded in magnitude. Here the thing is a little more involved.\n",
    "\n",
    "> In classification, we can interpret the model output as a confidence that the example belongs to a particular class.\n",
    "\n",
    "Which bring us to...\n",
    "\n",
    "## Logits\n",
    "\n",
    "> vector (in binary case a scalar) of unnormalized probabilities in the range $(-\\infty, \\infty)$\n",
    "\n",
    "Maybe you've noticed it is __exactly what we've been outputting with regression__!\n",
    "\n",
    "You know what probability is, so logits are pretty similar, but:\n",
    "- __50% chance (probability=$0.5$) is equal to logit=$0$__\n",
    "- Anything below zero is less probable, anything above more\n",
    "\n",
    "Logits are used for classification in order to:\n",
    "- not making unnecessary operation transforming them into probabilities if we are after label (we will see the transformation shortly)\n",
    "- for binary classification every output from our classifier which is greater than `1` is considered `True`, anything below is `False`\n",
    "\n",
    "__Note:__ mathematically, the term logit refers to the log of the odds of a probability and __transforms probability (p below) back into $(-\\infty, \\infty)$ range__.\n",
    "It can be written by the following formula:\n",
    "\n",
    "$$\n",
    "    L = \\ln \\frac{p}{1 - p}\n",
    "$$\n",
    "\n",
    "However, we will use the term logit later to simply refer to the values outputted by the model.\n",
    "\n",
    "## From logits to probabilities\n",
    "\n",
    "We can do this by applying a **sigmoid** function to our output:\n",
    "\n",
    "![](images/sigmoid.jpg)\n",
    "\n",
    "> sigmoid squashes logits from $(-\\infty, \\infty)$ to $(0, 1)$ range which we can easily interpret\n",
    "\n",
    "We can also write a function to compute the derivative of the sigmoid function.\n",
    "We will need this to differentiate our loss with respect to the model parameters, as they only affect the loss through the sigmoid.\n",
    "\n",
    "__Note:__ Sigmoid is the inverse function of logit\n",
    "\n",
    "![](images/sigmoid_deriv.jpg)\n",
    "\n",
    "## Exercise\n",
    "\n",
    "Let's implement our sigmoid `class` and `sigmoid` function in code. We will code it as and `g.Operation`  as it was done up to this point:"
   ]
  },
  {
   "cell_type": "code",
   "execution_count": 2,
   "metadata": {},
   "outputs": [],
   "source": [
    "import aicore.ml.graph as g\n",
    "\n",
    "class _Sigmoid(g.Operation):\n",
    "    def forward(self, inputs):\n",
    "        self.cache = 1 / (np.exp(-inputs) + 1)\n",
    "        return self.cache\n",
    "\n",
    "    def backward(self, upstream_gradient):\n",
    "        return upstream_gradient * self.cache * (1 - self.cache)\n",
    "\n",
    "\n",
    "def sigmoid(inputs):\n",
    "    return _Sigmoid()(inputs)"
   ]
  },
  {
   "cell_type": "markdown",
   "metadata": {},
   "source": [
    "Let's see what happens when we input some values:"
   ]
  },
  {
   "cell_type": "code",
   "execution_count": 3,
   "metadata": {},
   "outputs": [
    {
     "name": "stdout",
     "output_type": "stream",
     "text": [
      "[0.37754067 0.62245933 0.5       ]\n",
      "[0.04742587 0.73105858 0.73105858]\n",
      "[3.72007598e-44 1.00000000e+00]\n",
      "[1.  0.5]\n"
     ]
    }
   ],
   "source": [
    "print(\n",
    "    sigmoid(np.array([-0.5, 0.5, 0])),\n",
    "    sigmoid(np.array([-3, 1, 1])),\n",
    "    sigmoid(np.array([-100, 100])),\n",
    "    sigmoid(np.array([1000000, 0])),\n",
    "    sep=\"\\n\",\n",
    ")"
   ]
  },
  {
   "cell_type": "markdown",
   "metadata": {},
   "source": [
    "But there is one input which destroys our function..."
   ]
  },
  {
   "cell_type": "code",
   "execution_count": 4,
   "metadata": {},
   "outputs": [
    {
     "name": "stderr",
     "output_type": "stream",
     "text": [
      "<ipython-input-2-7632d6b793a5>:5: RuntimeWarning: overflow encountered in exp\n",
      "  self.cache = 1 / (np.exp(-inputs) + 1)\n"
     ]
    },
    {
     "data": {
      "text/plain": [
       "array([0.])"
      ]
     },
     "execution_count": 4,
     "metadata": {},
     "output_type": "execute_result"
    }
   ],
   "source": [
    "sigmoid(np.array([-1000]))"
   ]
  },
  {
   "cell_type": "markdown",
   "metadata": {},
   "source": [
    "## Analysis\n",
    "\n",
    "What happened, why did we get an error? Value of `np.exp` grows exponentially and `double` (`float64`) type cannot keep such large numbers in memory.\n",
    "\n",
    "Let's check what is the maximum `value` one can pass into `exp(value)` function:"
   ]
  },
  {
   "cell_type": "code",
   "execution_count": 5,
   "metadata": {},
   "outputs": [
    {
     "name": "stdout",
     "output_type": "stream",
     "text": [
      "maximum value: 709.782712893384\n",
      "exp(maximum value): 1.7976931348622732e+308\n",
      "\n",
      "OUTPUT BELOW AS A NON-ML ADDITIONAL CHALLENGE TO SOLVE\n",
      " See Challenges at the end\n",
      "\n",
      "double epsilon: 2.220446049250313e-16\n",
      "exp(maximum value + 255 * epsilon) == exp(maximum value): True\n",
      "exp(maximum value + 255*epsilon): 1.7976931348622732e+308\n",
      "exp(maximum value + 256*epsilon): inf\n"
     ]
    },
    {
     "name": "stderr",
     "output_type": "stream",
     "text": [
      "<ipython-input-5-d164304c9247>:21: RuntimeWarning: overflow encountered in exp\n",
      "  print(f\"exp(maximum value + 256*epsilon): {np.exp(max_value_to_exp + 256*epsilon)}\")\n"
     ]
    }
   ],
   "source": [
    "# Get maximum double value in numpy\n",
    "max_double = np.finfo(\"d\").max\n",
    "max_value_to_exp = np.log(max_double)\n",
    "\n",
    "print(f\"maximum value: {max_value_to_exp}\")\n",
    "print(f\"exp(maximum value): {np.exp(max_value_to_exp)}\")\n",
    "\n",
    "# Get epsilon value for double\n",
    "print(\n",
    "    \"\\nOUTPUT BELOW AS A NON-ML ADDITIONAL CHALLENGE TO SOLVE\\n\",\n",
    "    \"See Challenges at the end\\n\",\n",
    ")\n",
    "epsilon = np.finfo(\"d\").eps\n",
    "print(f\"double epsilon: {epsilon}\")\n",
    "print(\n",
    "    \"exp(maximum value + 255 * epsilon) == exp(maximum value): {}\".format(\n",
    "        np.exp(max_value_to_exp + 255 * epsilon) == np.exp(max_value_to_exp)\n",
    "    )\n",
    ")\n",
    "print(f\"exp(maximum value + 255*epsilon): {np.exp(max_value_to_exp + 255*epsilon)}\")\n",
    "print(f\"exp(maximum value + 256*epsilon): {np.exp(max_value_to_exp + 256*epsilon)}\")"
   ]
  },
  {
   "cell_type": "markdown",
   "metadata": {},
   "source": [
    "Natural logarithm $\\ln$ (`np.log` in `numpy`) is inverse of `exp`, hence we can get the maximum this way which is around `709` for double (default) type.\n",
    "\n",
    "__Note:__ `epsilon` is the smallest change which is registered by type. See challenges at the end for more info, this one will be additional (https://en.wikipedia.org/wiki/Octuple-precision_floating-point_format).\n",
    "\n",
    "So, how can we solve the overflow issue?"
   ]
  },
  {
   "cell_type": "markdown",
   "metadata": {},
   "source": [
    "## Stable sigmoid\n",
    "\n",
    "`sigmoid` formula can be written as:\n",
    "\n",
    "$$\n",
    "    S(x) = \\frac{1}{1 + e^{-x}} = \\frac{e^{x}}{1 + e^{x}}\n",
    "$$\n",
    "\n",
    "Our previous implementation explodes __only when the value is large (`709`) and negative__. That is because the negative sign is inverted with `-z` and we get positive `709`. Given this:\n",
    "\n",
    "- $e^x$ will overflow when $x$ is positive\n",
    "- $e^{-x}$ will overflow when $x$ is negative\n",
    "\n",
    "This leads us to another exercise...\n",
    "\n",
    "## Exercise\n",
    "\n",
    "Implement stable version of sigmoid. We will use two `helper` functions:\n",
    "- `_negative_sigmoid` - used when values passed as `inputs` are `negative`\n",
    "- `_positive_sigmoid` - used when values passed as `inputs` are `positive`\n",
    "\n",
    "Formulas are provided above, that's the only two functions you have to implement.\n",
    "\n",
    "__Read `sigmoid` code and make sure you understand what is going on and why!__ (you can read [this stackoverflow answer](https://stackoverflow.com/a/64717799/10886420) for in-depth explanation, but that's optional)"
   ]
  },
  {
   "cell_type": "code",
   "execution_count": 6,
   "metadata": {},
   "outputs": [],
   "source": [
    "def _negative_sigmoid(inputs):\n",
    "    # Second formula for negative values\n",
    "    # Cache exp so you won't have to calculate it twice\n",
    "    exp = np.exp(inputs)\n",
    "    return exp / (exp + 1)\n",
    "\n",
    "\n",
    "def _positive_sigmoid(inputs):\n",
    "    # First formula for positive values\n",
    "    return 1 / (1 + np.exp(-inputs))\n",
    "\n",
    "\n",
    "def sigmoid(inputs):\n",
    "    positive = inputs >= 0\n",
    "    # Boolean array inversion is faster than another comparison\n",
    "    negative = ~positive\n",
    "\n",
    "    # empty contains junk hence will be faster to allocate than zeros\n",
    "    result = np.empty_like(inputs)\n",
    "    result[positive] = _positive_sigmoid(inputs[positive])\n",
    "    result[negative] = _negative_sigmoid(inputs[negative])\n",
    "    return result"
   ]
  },
  {
   "cell_type": "markdown",
   "metadata": {},
   "source": [
    "This version should work correctly for all of the cases below"
   ]
  },
  {
   "cell_type": "code",
   "execution_count": 7,
   "metadata": {},
   "outputs": [
    {
     "name": "stdout",
     "output_type": "stream",
     "text": [
      "[0.37754067 0.62245933 0.5       ]\n",
      "[0.04742587 0.73105858 0.73105858]\n",
      "[3.72007598e-44 1.00000000e+00]\n",
      "[1 0]\n",
      "[0]\n"
     ]
    }
   ],
   "source": [
    "print(\n",
    "    sigmoid(np.array([-0.5, 0.5, 0])),\n",
    "    sigmoid(np.array([-3, 1, 1.])),\n",
    "    sigmoid(np.array([-100., 100.])),\n",
    "    sigmoid(np.array([1000, 0])),\n",
    "    sigmoid(np.array([-1000])),\n",
    "    sep=\"\\n\",\n",
    ")"
   ]
  },
  {
   "cell_type": "markdown",
   "metadata": {},
   "source": [
    "## The loss function for binary classification-  Binary cross entropy (BCE)\n",
    "\n",
    "Basic formula for BCE is:\n",
    "\n",
    "$$\n",
    "    BCE = - (y\\ln\\hat{y} + (1-y)\\ln(1-\\hat{y}))\n",
    "$$\n",
    "\n",
    "We can break it down into parts exclusively:\n",
    "- if the label is `1` $(1-y)\\ln(1-\\hat{y})$ is `0`\n",
    "- if the label is `0` $y\\ln\\hat{y}$ is `0`\n",
    "\n",
    "![](./images/bce.jpg)\n",
    "\n",
    "### Why not calculate only one part per label?\n",
    "\n",
    "Can't we calculate one part for `1` label and the second for `0` label with some kind of `if label == 0` switch? Yes, we could, but sometimes in machine learning & deep learning we use technique called `label smoothing`..."
   ]
  },
  {
   "cell_type": "markdown",
   "metadata": {},
   "source": [
    "## Label smoothing\n",
    "\n",
    "> Label smoothing changes `{0, 1}` labels into \"soft targets\", for example `{0.1, 0.9}`\n",
    "\n",
    "### Why would we do that?\n",
    "\n",
    "- It is impossible to reach `1` value for sigmoid in practice. Hence, even if our predicted probability is `0.99999` we will still have some loss left\n",
    "- Same thing happens for `0` as it is really hard for the classifier to reach exactly this value\n",
    "\n",
    "### How to do that?\n",
    "\n",
    "- there are many implementations. Usually we subtract from largest labels (`1`) some constant and add it to `0` labels (for binary case)\n",
    "- $\\alpha$ is our __smoothing hyperparameter__, usually around `0.1`\n",
    "\n",
    "### How does it help?\n",
    "\n",
    "- Our classifier is __less confident__ about it's predictions. Due to inherit noise in data it is often desirable (especially for the more complex and powerful models, yes, neural networks are prime example)\n",
    "- Predictions are more smooth and gradual. Instead of having rough jumps from `0.999` probability to `0.0001` probability in another case, our algorithms try to distribute the probability more evenly\n",
    "- Classifier __does not try to \"be sure\" about hard examples so much__. As it has to reach `0.9` (let's say) instead of `1`, `0.8` will be also fine"
   ]
  },
  {
   "cell_type": "markdown",
   "metadata": {},
   "source": [
    "## Binary Cross Entropy implementation\n",
    "\n",
    "Let's start with naive implementation, simply follow the formula:"
   ]
  },
  {
   "cell_type": "code",
   "execution_count": 8,
   "metadata": {},
   "outputs": [],
   "source": [
    "def bce(prediction, label):\n",
    "    return -(label * np.log(prediction) + (1 - label) * np.log(1 - prediction))"
   ]
  },
  {
   "cell_type": "code",
   "execution_count": 9,
   "metadata": {},
   "outputs": [
    {
     "name": "stdout",
     "output_type": "stream",
     "text": [
      "[0.47407698 0.47407698 0.69314718]\n"
     ]
    }
   ],
   "source": [
    "prediction = sigmoid(np.array([-0.5, 0.5, 0])) \n",
    "labels = np.array([0, 1, 1])\n",
    "\n",
    "print(bce(prediction, labels))"
   ]
  },
  {
   "cell_type": "markdown",
   "metadata": {},
   "source": [
    "But as usual, __numerical instability creeps in__. As a rule of thumb, always look suspicious at `exp` and it's inverse function `ln`:"
   ]
  },
  {
   "cell_type": "code",
   "execution_count": 10,
   "metadata": {},
   "outputs": [
    {
     "name": "stdout",
     "output_type": "stream",
     "text": [
      "[inf]\n"
     ]
    },
    {
     "name": "stderr",
     "output_type": "stream",
     "text": [
      "<ipython-input-8-f3031382e7cc>:2: RuntimeWarning: divide by zero encountered in log\n",
      "  return -(label * np.log(prediction) + (1 - label) * np.log(1 - prediction))\n"
     ]
    }
   ],
   "source": [
    "prediction = np.array([1])\n",
    "labels = np.array([0])\n",
    "\n",
    "print(bce(prediction, labels))"
   ]
  },
  {
   "cell_type": "code",
   "execution_count": 11,
   "metadata": {},
   "outputs": [
    {
     "name": "stdout",
     "output_type": "stream",
     "text": [
      "[inf]\n"
     ]
    },
    {
     "name": "stderr",
     "output_type": "stream",
     "text": [
      "<ipython-input-8-f3031382e7cc>:2: RuntimeWarning: divide by zero encountered in log\n",
      "  return -(label * np.log(prediction) + (1 - label) * np.log(1 - prediction))\n"
     ]
    }
   ],
   "source": [
    "prediction = np.array([0])\n",
    "labels = np.array([1])\n",
    "\n",
    "print(bce(prediction, labels))"
   ]
  },
  {
   "cell_type": "code",
   "execution_count": 12,
   "metadata": {},
   "outputs": [
    {
     "name": "stdout",
     "output_type": "stream",
     "text": [
      "[nan]\n"
     ]
    },
    {
     "name": "stderr",
     "output_type": "stream",
     "text": [
      "<ipython-input-8-f3031382e7cc>:2: RuntimeWarning: divide by zero encountered in log\n",
      "  return -(label * np.log(prediction) + (1 - label) * np.log(1 - prediction))\n",
      "<ipython-input-8-f3031382e7cc>:2: RuntimeWarning: invalid value encountered in multiply\n",
      "  return -(label * np.log(prediction) + (1 - label) * np.log(1 - prediction))\n"
     ]
    }
   ],
   "source": [
    "prediction = np.array([0])\n",
    "labels = np.array([0])\n",
    "\n",
    "print(bce(prediction, labels))"
   ]
  },
  {
   "cell_type": "code",
   "execution_count": 13,
   "metadata": {},
   "outputs": [
    {
     "name": "stdout",
     "output_type": "stream",
     "text": [
      "[nan]\n"
     ]
    },
    {
     "name": "stderr",
     "output_type": "stream",
     "text": [
      "<ipython-input-8-f3031382e7cc>:2: RuntimeWarning: divide by zero encountered in log\n",
      "  return -(label * np.log(prediction) + (1 - label) * np.log(1 - prediction))\n",
      "<ipython-input-8-f3031382e7cc>:2: RuntimeWarning: invalid value encountered in multiply\n",
      "  return -(label * np.log(prediction) + (1 - label) * np.log(1 - prediction))\n"
     ]
    }
   ],
   "source": [
    "prediction = np.array([1])\n",
    "labels = np.array([1])\n",
    "\n",
    "print(bce(prediction, labels))"
   ]
  },
  {
   "cell_type": "markdown",
   "metadata": {},
   "source": [
    "### Analysis\n",
    "\n",
    "- if our model __is very condfident and IS WRONG__ (first two cases) we are left with  `np.log(0)` (which goes towards $-\\infty$, when we take `-` it is simply $\\infty$ we observe). \n",
    "- if our model __is very condfident and IS RIGHT__ (last two cases) we will be left with $ 0 * \\ln{0} $, hence with $ 0 * \\infty $ which is undefined `NaN` (not a number)\n",
    "\n",
    "Can we improve it somehow?"
   ]
  },
  {
   "cell_type": "markdown",
   "metadata": {},
   "source": [
    "## Stable BCE\n",
    "\n",
    "To stabilize binary cross entropy loss we can mix activation we saw earlier (`sigmoid`) and `binary cross entropy` itself.\n",
    "\n",
    "### Formulation\n",
    "\n",
    "One can derive numerically stable version. It takes some math so a few steps are skipped. You can see the formula that we will use [here](https://www.tensorflow.org/api_docs/python/tf/nn/sigmoid_cross_entropy_with_logits):\n",
    "\n",
    "$$\n",
    "\\begin{align}\n",
    "    BCE & = - (y\\ln\\hat{y} + (1-y)\\ln(1-\\hat{y})) \\\\\n",
    "        & = - (y\\ln(\\frac{1}{1+e^{-x}}) + (1-y)\\ln(1-\\frac{1}{1+e^{-x}}) \\\\\n",
    "        & ... \\\\\n",
    "        & = x - xy + \\ln(1 + e^{-x})\n",
    "\\end{align}\n",
    "$$\n",
    "\n",
    "Unfortunately this leaves us with $e^{-x}$ once again. After a few math tricks we come to this formula (really, go through it yourself to see some beautiful math tricks):\n",
    "\n",
    "$$\n",
    "    \\max(0, x) - xy + \\ln(1 + e^{-|x|})\n",
    "$$\n",
    "\n",
    "where `x` are logits, `y` are labels\n",
    "\n",
    "You can see no matter the `x` value it will always be negative so `e` can only underflow which is fine for our case (and $\\ln(1 + 0) = 0$). There are also [other formulas](https://discuss.pytorch.org/t/numerical-stability-of-bcewithlogitsloss/8246) but we won't go into details.\n",
    "\n",
    "### Derivative\n",
    "\n",
    "We also have to calculate derivative of `BCEWithLogits` to backpropagate through our model.\n",
    "\n",
    "It is a little cumbersome, but remember you can always use [Wolfram Alpha](https://www.wolframalpha.com/) for such tasks (or it will get you some idea or direction at least).\n",
    "\n",
    "Given that, the derivative is presented as:\n",
    "\n",
    "$$\n",
    "\\begin{align}\n",
    "    \\frac{\\partial BCE}{\\partial x} &= \\sigma(x) - y \\\\\n",
    "    \\frac{\\partial BCE}{\\partial y} &= -x\n",
    "\\end{align}\n",
    "$$"
   ]
  },
  {
   "cell_type": "markdown",
   "metadata": {},
   "source": [
    "## Exercise\n",
    "\n",
    "__Implement stable binary cross entropy with logits__\n",
    "\n",
    "- Formula for `forward` and `backward` was already provided\n",
    "- Use `sigmoid` (the stable version) in your implementation of `backward`!\n",
    "- Name the function `bce_with_logits` (and name `class` appropriately according to [`PEP8`](https://www.python.org/dev/peps/pep-0008/) standard)\n",
    "\n",
    "__This binary cross entropy will work directly on `logits`__"
   ]
  },
  {
   "cell_type": "code",
   "execution_count": 14,
   "metadata": {},
   "outputs": [],
   "source": [
    "class _BCEWithLogits(g.Operation):\n",
    "    def forward(self, logits, targets):\n",
    "        self.cache = (logits, targets)\n",
    "        return (\n",
    "            np.maximum(np.zeros_like(logits), logits)\n",
    "            - logits * targets\n",
    "            + np.log(1 + np.exp(-np.abs(logits)))\n",
    "        )\n",
    "\n",
    "    def backward(self, upstream_gradient):\n",
    "        return sigmoid(self.cache[0]) - self.cache[1], -self.cache[0]\n",
    "\n",
    "\n",
    "def bce_with_logits(logits, targets):\n",
    "    return _BCEWithLogits()(logits, targets)"
   ]
  },
  {
   "cell_type": "markdown",
   "metadata": {},
   "source": [
    "## Finally let's build our binary classifier model class\n",
    "\n",
    "We'll use the chain rule to compute the gradient with our previously defined loss function:\n",
    "\n",
    "![](images/binary_classification.jpg)\n",
    "\n",
    "## Exercise\n",
    "\n",
    "Let's create `BinaryLogisticRegression` class with `sklearn`-like API!\n",
    "\n",
    "For that, we will have to code quite a few methods:\n",
    "- `__init__` - taking `n_features` and `optimizer` (same idea as previously)\n",
    "- `parameters` - returning parameters\n",
    "- `predict_logits(self, X)` - it is essentially linear regression `predict` method\n",
    "- `predict_proba(self, X)` - use `with g.no_grad()` context manager, and return logits  predictions with `sigmoid` function applied on it\n",
    "- `predict(self, X)` - use `with g.no_grad()` context manager and return logits predictions thresholded at `0` value\n",
    "- `fit(self, X, y, epochs: int)` - like previously with linear regression, this time we will use `g.mean` on `bce_with_logits` function (__we are not doing batches here!__)\n",
    "\n",
    "We will make our `BinaryLogisticRegression` with `sklearn` like API and fully stable during `forward` and `backward` pass:"
   ]
  },
  {
   "cell_type": "code",
   "execution_count": 15,
   "metadata": {},
   "outputs": [],
   "source": [
    "class BinaryLogisticRegression:\n",
    "    def __init__(self, n_features, optimizer):\n",
    "        self.W = g.Parameter(np.random.randn(n_features))\n",
    "        self.b = g.Parameter(np.random.randn(1))\n",
    "        self.optimizer = optimizer\n",
    "\n",
    "    def parameters(self):\n",
    "        return self.W, self.b\n",
    "\n",
    "    def predict_logits(self, X):\n",
    "        return g.add(g.dot(X, self.W), self.b)\n",
    "\n",
    "    def predict_proba(self, X):\n",
    "        with g.no_grad():\n",
    "            return sigmoid(self.predict_logits(X))\n",
    "\n",
    "    def predict(self, X):\n",
    "        with g.no_grad():\n",
    "            return self.predict_logits(X) > 0\n",
    "\n",
    "    def fit(self, X, y_true, epochs: int = 10):\n",
    "        for _ in range(epochs):\n",
    "            y_pred = self.predict_logits(X)\n",
    "            # loss is our final node\n",
    "            g.mean(bce_with_logits(y_pred, y_true))\n",
    "            g.get().backward()\n",
    "            self.optimizer(self.parameters())"
   ]
  },
  {
   "cell_type": "markdown",
   "metadata": {},
   "source": [
    "## Testing our binary classifier\n",
    "\n",
    "We will load [breast cancer](https://scikit-learn.org/stable/modules/generated/sklearn.datasets.load_breast_cancer.html) dataset and split it as per usual:"
   ]
  },
  {
   "cell_type": "code",
   "execution_count": 16,
   "metadata": {},
   "outputs": [],
   "source": [
    "from sklearn import datasets, model_selection\n",
    "\n",
    "from aicore.ml import data\n",
    "\n",
    "(X_train, y_train), (X_validation, y_validation), (X_test, y_test) = data.split(\n",
    "    datasets.load_breast_cancer(return_X_y=True)\n",
    ")\n",
    "\n",
    "X_train, X_validation, X_test = data.standardize_multiple(X_train, X_validation, X_test)"
   ]
  },
  {
   "cell_type": "markdown",
   "metadata": {},
   "source": [
    "Let's see how it performs without training:"
   ]
  },
  {
   "cell_type": "code",
   "execution_count": 17,
   "metadata": {},
   "outputs": [
    {
     "name": "stdout",
     "output_type": "stream",
     "text": [
      "Training loss before fit: 0.5672309651265559\n",
      "Validation loss before fit: 0.6077853450160681\n",
      "Test loss before fit: 0.6077853450160681\n"
     ]
    }
   ],
   "source": [
    "def calculate_loss(model, X, y_true):\n",
    "    with g.no_grad():\n",
    "        y_pred = model.predict_logits(X)\n",
    "        return g.mean(bce_with_logits(y_pred, y_true))\n",
    "\n",
    "\n",
    "optimizer = g.optimizers.SGD(lr=1e-3)\n",
    "model = BinaryLogisticRegression(n_features=X_train.shape[1], optimizer=optimizer)\n",
    "\n",
    "print(f\"Training loss before fit: {calculate_loss(model, X_train, y_train)}\")\n",
    "print(\n",
    "    f\"Validation loss before fit: {calculate_loss(model, X_validation, y_validation)}\"\n",
    ")\n",
    "print(f\"Test loss before fit: {calculate_loss(model, X_validation, y_validation)}\")"
   ]
  },
  {
   "cell_type": "code",
   "execution_count": 18,
   "metadata": {},
   "outputs": [
    {
     "name": "stdout",
     "output_type": "stream",
     "text": [
      "Training loss after fit: 0.03407074401274046\n",
      "Validation loss after fit: 0.0368515028452128\n",
      "Test loss after fit: 0.0368515028452128\n"
     ]
    }
   ],
   "source": [
    "model.fit(X_train, y_train, epochs=10000)\n",
    "\n",
    "print(f\"Training loss after fit: {calculate_loss(model, X_train, y_train)}\")\n",
    "print(\n",
    "    f\"Validation loss after fit: {calculate_loss(model, X_validation, y_validation)}\"\n",
    ")\n",
    "print(f\"Test loss after fit: {calculate_loss(model, X_validation, y_validation)}\")"
   ]
  },
  {
   "cell_type": "markdown",
   "metadata": {},
   "source": [
    "## Challenges\n",
    "\n",
    "- What is `log-sum-exp` trick? Check out [this wiki article](https://en.wikipedia.org/wiki/LogSumExp) for more info\n",
    "- Implement non-stable binary cross entropy on your own (which takes __probabilities after sigmoid__ instead of `logits`)\n",
    "- As always, use `sklearn` for this classification task as well\n",
    "- Try implementing function called `binary_smoothing(labels, alpha)` which, given labels, smooths the targets with `alpha` parameter\n",
    "- Use batches, check what is inside `aicore` library in `aicore.ml.data` module\n",
    "- Go around [PEP8](https://www.python.org/dev/peps/pep-0008/) style guide and try to follow conventions provided there from now on (for variable naming, function and class naming at least)\n",
    "- Try to explain the numerical phenomena with epsilon (this one is additional and out of the scope of this course, but you might have some fun)\n",
    "\n",
    "## Summary\n",
    "\n",
    "- the labels for classification problems should be an integer representing the index of the class which that example belongs to\n",
    "- `logits` are unnormalized probability $(-\\infty, \\infty)$\n",
    "- `sigmoid` transforms `logits` into probabilities\n",
    "- naive implementation of `sigmoid` is numerically unstable, more stable version exists\n",
    "- binary cross entropy is a new differentiable loss function that can be optimised to solve classification problems\n",
    "- binary classification can be implemented by having a single boolean integer label for each example, where 1 represents it being a member of that class and 0 represents it not being a member of that class"
   ]
  }
 ],
 "metadata": {
  "kernelspec": {
   "display_name": "Python 3",
   "language": "python",
   "name": "python3"
  },
  "language_info": {
   "codemirror_mode": {
    "name": "ipython",
    "version": 3
   },
   "file_extension": ".py",
   "mimetype": "text/x-python",
   "name": "python",
   "nbconvert_exporter": "python",
   "pygments_lexer": "ipython3",
   "version": "3.8.6"
  }
 },
 "nbformat": 4,
 "nbformat_minor": 2
}
